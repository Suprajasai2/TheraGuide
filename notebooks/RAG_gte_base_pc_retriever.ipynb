{
  "nbformat": 4,
  "nbformat_minor": 0,
  "metadata": {
    "colab": {
      "provenance": []
    },
    "kernelspec": {
      "name": "python3",
      "display_name": "Python 3"
    },
    "language_info": {
      "name": "python"
    },
    "widgets": {
      "application/vnd.jupyter.widget-state+json": {
        "58e090092db04c1da443617d7126f862": {
          "model_module": "@jupyter-widgets/controls",
          "model_name": "HBoxModel",
          "model_module_version": "1.5.0",
          "state": {
            "_dom_classes": [],
            "_model_module": "@jupyter-widgets/controls",
            "_model_module_version": "1.5.0",
            "_model_name": "HBoxModel",
            "_view_count": null,
            "_view_module": "@jupyter-widgets/controls",
            "_view_module_version": "1.5.0",
            "_view_name": "HBoxView",
            "box_style": "",
            "children": [
              "IPY_MODEL_c5f5f8ee5ed948b4b10576984c601282",
              "IPY_MODEL_69e8a445c62e46a7b966e2c41a7f6bcd",
              "IPY_MODEL_d43a3daed4f44a80a32f6d55ae412841"
            ],
            "layout": "IPY_MODEL_801e7b65fa0442d0a743a1b5f2436925"
          }
        },
        "c5f5f8ee5ed948b4b10576984c601282": {
          "model_module": "@jupyter-widgets/controls",
          "model_name": "HTMLModel",
          "model_module_version": "1.5.0",
          "state": {
            "_dom_classes": [],
            "_model_module": "@jupyter-widgets/controls",
            "_model_module_version": "1.5.0",
            "_model_name": "HTMLModel",
            "_view_count": null,
            "_view_module": "@jupyter-widgets/controls",
            "_view_module_version": "1.5.0",
            "_view_name": "HTMLView",
            "description": "",
            "description_tooltip": null,
            "layout": "IPY_MODEL_c7feda5d9c5c455d814c2cacede9ef54",
            "placeholder": "​",
            "style": "IPY_MODEL_8433a473e8e946c3ba7a9a07676317fc",
            "value": "model.safetensors.index.json: 100%"
          }
        },
        "69e8a445c62e46a7b966e2c41a7f6bcd": {
          "model_module": "@jupyter-widgets/controls",
          "model_name": "FloatProgressModel",
          "model_module_version": "1.5.0",
          "state": {
            "_dom_classes": [],
            "_model_module": "@jupyter-widgets/controls",
            "_model_module_version": "1.5.0",
            "_model_name": "FloatProgressModel",
            "_view_count": null,
            "_view_module": "@jupyter-widgets/controls",
            "_view_module_version": "1.5.0",
            "_view_name": "ProgressView",
            "bar_style": "success",
            "description": "",
            "description_tooltip": null,
            "layout": "IPY_MODEL_4f9d74a14d124dd1aa0f64019cbbf77a",
            "max": 23950,
            "min": 0,
            "orientation": "horizontal",
            "style": "IPY_MODEL_201bda5ea0a149c8ade709279143b401",
            "value": 23950
          }
        },
        "d43a3daed4f44a80a32f6d55ae412841": {
          "model_module": "@jupyter-widgets/controls",
          "model_name": "HTMLModel",
          "model_module_version": "1.5.0",
          "state": {
            "_dom_classes": [],
            "_model_module": "@jupyter-widgets/controls",
            "_model_module_version": "1.5.0",
            "_model_name": "HTMLModel",
            "_view_count": null,
            "_view_module": "@jupyter-widgets/controls",
            "_view_module_version": "1.5.0",
            "_view_name": "HTMLView",
            "description": "",
            "description_tooltip": null,
            "layout": "IPY_MODEL_989555fc095e457baaeaa1333509ebaa",
            "placeholder": "​",
            "style": "IPY_MODEL_7c65c2e55e354cbe969503b4dec382f0",
            "value": " 23.9k/23.9k [00:00&lt;00:00, 594kB/s]"
          }
        },
        "801e7b65fa0442d0a743a1b5f2436925": {
          "model_module": "@jupyter-widgets/base",
          "model_name": "LayoutModel",
          "model_module_version": "1.2.0",
          "state": {
            "_model_module": "@jupyter-widgets/base",
            "_model_module_version": "1.2.0",
            "_model_name": "LayoutModel",
            "_view_count": null,
            "_view_module": "@jupyter-widgets/base",
            "_view_module_version": "1.2.0",
            "_view_name": "LayoutView",
            "align_content": null,
            "align_items": null,
            "align_self": null,
            "border": null,
            "bottom": null,
            "display": null,
            "flex": null,
            "flex_flow": null,
            "grid_area": null,
            "grid_auto_columns": null,
            "grid_auto_flow": null,
            "grid_auto_rows": null,
            "grid_column": null,
            "grid_gap": null,
            "grid_row": null,
            "grid_template_areas": null,
            "grid_template_columns": null,
            "grid_template_rows": null,
            "height": null,
            "justify_content": null,
            "justify_items": null,
            "left": null,
            "margin": null,
            "max_height": null,
            "max_width": null,
            "min_height": null,
            "min_width": null,
            "object_fit": null,
            "object_position": null,
            "order": null,
            "overflow": null,
            "overflow_x": null,
            "overflow_y": null,
            "padding": null,
            "right": null,
            "top": null,
            "visibility": null,
            "width": null
          }
        },
        "c7feda5d9c5c455d814c2cacede9ef54": {
          "model_module": "@jupyter-widgets/base",
          "model_name": "LayoutModel",
          "model_module_version": "1.2.0",
          "state": {
            "_model_module": "@jupyter-widgets/base",
            "_model_module_version": "1.2.0",
            "_model_name": "LayoutModel",
            "_view_count": null,
            "_view_module": "@jupyter-widgets/base",
            "_view_module_version": "1.2.0",
            "_view_name": "LayoutView",
            "align_content": null,
            "align_items": null,
            "align_self": null,
            "border": null,
            "bottom": null,
            "display": null,
            "flex": null,
            "flex_flow": null,
            "grid_area": null,
            "grid_auto_columns": null,
            "grid_auto_flow": null,
            "grid_auto_rows": null,
            "grid_column": null,
            "grid_gap": null,
            "grid_row": null,
            "grid_template_areas": null,
            "grid_template_columns": null,
            "grid_template_rows": null,
            "height": null,
            "justify_content": null,
            "justify_items": null,
            "left": null,
            "margin": null,
            "max_height": null,
            "max_width": null,
            "min_height": null,
            "min_width": null,
            "object_fit": null,
            "object_position": null,
            "order": null,
            "overflow": null,
            "overflow_x": null,
            "overflow_y": null,
            "padding": null,
            "right": null,
            "top": null,
            "visibility": null,
            "width": null
          }
        },
        "8433a473e8e946c3ba7a9a07676317fc": {
          "model_module": "@jupyter-widgets/controls",
          "model_name": "DescriptionStyleModel",
          "model_module_version": "1.5.0",
          "state": {
            "_model_module": "@jupyter-widgets/controls",
            "_model_module_version": "1.5.0",
            "_model_name": "DescriptionStyleModel",
            "_view_count": null,
            "_view_module": "@jupyter-widgets/base",
            "_view_module_version": "1.2.0",
            "_view_name": "StyleView",
            "description_width": ""
          }
        },
        "4f9d74a14d124dd1aa0f64019cbbf77a": {
          "model_module": "@jupyter-widgets/base",
          "model_name": "LayoutModel",
          "model_module_version": "1.2.0",
          "state": {
            "_model_module": "@jupyter-widgets/base",
            "_model_module_version": "1.2.0",
            "_model_name": "LayoutModel",
            "_view_count": null,
            "_view_module": "@jupyter-widgets/base",
            "_view_module_version": "1.2.0",
            "_view_name": "LayoutView",
            "align_content": null,
            "align_items": null,
            "align_self": null,
            "border": null,
            "bottom": null,
            "display": null,
            "flex": null,
            "flex_flow": null,
            "grid_area": null,
            "grid_auto_columns": null,
            "grid_auto_flow": null,
            "grid_auto_rows": null,
            "grid_column": null,
            "grid_gap": null,
            "grid_row": null,
            "grid_template_areas": null,
            "grid_template_columns": null,
            "grid_template_rows": null,
            "height": null,
            "justify_content": null,
            "justify_items": null,
            "left": null,
            "margin": null,
            "max_height": null,
            "max_width": null,
            "min_height": null,
            "min_width": null,
            "object_fit": null,
            "object_position": null,
            "order": null,
            "overflow": null,
            "overflow_x": null,
            "overflow_y": null,
            "padding": null,
            "right": null,
            "top": null,
            "visibility": null,
            "width": null
          }
        },
        "201bda5ea0a149c8ade709279143b401": {
          "model_module": "@jupyter-widgets/controls",
          "model_name": "ProgressStyleModel",
          "model_module_version": "1.5.0",
          "state": {
            "_model_module": "@jupyter-widgets/controls",
            "_model_module_version": "1.5.0",
            "_model_name": "ProgressStyleModel",
            "_view_count": null,
            "_view_module": "@jupyter-widgets/base",
            "_view_module_version": "1.2.0",
            "_view_name": "StyleView",
            "bar_color": null,
            "description_width": ""
          }
        },
        "989555fc095e457baaeaa1333509ebaa": {
          "model_module": "@jupyter-widgets/base",
          "model_name": "LayoutModel",
          "model_module_version": "1.2.0",
          "state": {
            "_model_module": "@jupyter-widgets/base",
            "_model_module_version": "1.2.0",
            "_model_name": "LayoutModel",
            "_view_count": null,
            "_view_module": "@jupyter-widgets/base",
            "_view_module_version": "1.2.0",
            "_view_name": "LayoutView",
            "align_content": null,
            "align_items": null,
            "align_self": null,
            "border": null,
            "bottom": null,
            "display": null,
            "flex": null,
            "flex_flow": null,
            "grid_area": null,
            "grid_auto_columns": null,
            "grid_auto_flow": null,
            "grid_auto_rows": null,
            "grid_column": null,
            "grid_gap": null,
            "grid_row": null,
            "grid_template_areas": null,
            "grid_template_columns": null,
            "grid_template_rows": null,
            "height": null,
            "justify_content": null,
            "justify_items": null,
            "left": null,
            "margin": null,
            "max_height": null,
            "max_width": null,
            "min_height": null,
            "min_width": null,
            "object_fit": null,
            "object_position": null,
            "order": null,
            "overflow": null,
            "overflow_x": null,
            "overflow_y": null,
            "padding": null,
            "right": null,
            "top": null,
            "visibility": null,
            "width": null
          }
        },
        "7c65c2e55e354cbe969503b4dec382f0": {
          "model_module": "@jupyter-widgets/controls",
          "model_name": "DescriptionStyleModel",
          "model_module_version": "1.5.0",
          "state": {
            "_model_module": "@jupyter-widgets/controls",
            "_model_module_version": "1.5.0",
            "_model_name": "DescriptionStyleModel",
            "_view_count": null,
            "_view_module": "@jupyter-widgets/base",
            "_view_module_version": "1.2.0",
            "_view_name": "StyleView",
            "description_width": ""
          }
        },
        "5d8b74e16d434d78a64fb9744a562d1e": {
          "model_module": "@jupyter-widgets/controls",
          "model_name": "HBoxModel",
          "model_module_version": "1.5.0",
          "state": {
            "_dom_classes": [],
            "_model_module": "@jupyter-widgets/controls",
            "_model_module_version": "1.5.0",
            "_model_name": "HBoxModel",
            "_view_count": null,
            "_view_module": "@jupyter-widgets/controls",
            "_view_module_version": "1.5.0",
            "_view_name": "HBoxView",
            "box_style": "",
            "children": [
              "IPY_MODEL_57953617ac574df89f841516f8cea1d6",
              "IPY_MODEL_c7ea4cbbd8814c0489ee1635b64cb9a9",
              "IPY_MODEL_a610e5fe457645e787f22df2ff3692a9"
            ],
            "layout": "IPY_MODEL_9ee0166147fc45f580601357527d819d"
          }
        },
        "57953617ac574df89f841516f8cea1d6": {
          "model_module": "@jupyter-widgets/controls",
          "model_name": "HTMLModel",
          "model_module_version": "1.5.0",
          "state": {
            "_dom_classes": [],
            "_model_module": "@jupyter-widgets/controls",
            "_model_module_version": "1.5.0",
            "_model_name": "HTMLModel",
            "_view_count": null,
            "_view_module": "@jupyter-widgets/controls",
            "_view_module_version": "1.5.0",
            "_view_name": "HTMLView",
            "description": "",
            "description_tooltip": null,
            "layout": "IPY_MODEL_9ae00008de87408f8489a4984eddfafa",
            "placeholder": "​",
            "style": "IPY_MODEL_38971ee8aeca48d89138a544f495a877",
            "value": "Downloading shards: 100%"
          }
        },
        "c7ea4cbbd8814c0489ee1635b64cb9a9": {
          "model_module": "@jupyter-widgets/controls",
          "model_name": "FloatProgressModel",
          "model_module_version": "1.5.0",
          "state": {
            "_dom_classes": [],
            "_model_module": "@jupyter-widgets/controls",
            "_model_module_version": "1.5.0",
            "_model_name": "FloatProgressModel",
            "_view_count": null,
            "_view_module": "@jupyter-widgets/controls",
            "_view_module_version": "1.5.0",
            "_view_name": "ProgressView",
            "bar_style": "success",
            "description": "",
            "description_tooltip": null,
            "layout": "IPY_MODEL_fc85e53c06e740a1ae13bfe6726e0f4d",
            "max": 4,
            "min": 0,
            "orientation": "horizontal",
            "style": "IPY_MODEL_1612513b7fa14a2982a13037bd746356",
            "value": 4
          }
        },
        "a610e5fe457645e787f22df2ff3692a9": {
          "model_module": "@jupyter-widgets/controls",
          "model_name": "HTMLModel",
          "model_module_version": "1.5.0",
          "state": {
            "_dom_classes": [],
            "_model_module": "@jupyter-widgets/controls",
            "_model_module_version": "1.5.0",
            "_model_name": "HTMLModel",
            "_view_count": null,
            "_view_module": "@jupyter-widgets/controls",
            "_view_module_version": "1.5.0",
            "_view_name": "HTMLView",
            "description": "",
            "description_tooltip": null,
            "layout": "IPY_MODEL_c3d280d53d6c4a53869d3b90382eeee9",
            "placeholder": "​",
            "style": "IPY_MODEL_8a333182b9a741d4b3464b135f3d43bf",
            "value": " 4/4 [06:46&lt;00:00, 88.77s/it]"
          }
        },
        "9ee0166147fc45f580601357527d819d": {
          "model_module": "@jupyter-widgets/base",
          "model_name": "LayoutModel",
          "model_module_version": "1.2.0",
          "state": {
            "_model_module": "@jupyter-widgets/base",
            "_model_module_version": "1.2.0",
            "_model_name": "LayoutModel",
            "_view_count": null,
            "_view_module": "@jupyter-widgets/base",
            "_view_module_version": "1.2.0",
            "_view_name": "LayoutView",
            "align_content": null,
            "align_items": null,
            "align_self": null,
            "border": null,
            "bottom": null,
            "display": null,
            "flex": null,
            "flex_flow": null,
            "grid_area": null,
            "grid_auto_columns": null,
            "grid_auto_flow": null,
            "grid_auto_rows": null,
            "grid_column": null,
            "grid_gap": null,
            "grid_row": null,
            "grid_template_areas": null,
            "grid_template_columns": null,
            "grid_template_rows": null,
            "height": null,
            "justify_content": null,
            "justify_items": null,
            "left": null,
            "margin": null,
            "max_height": null,
            "max_width": null,
            "min_height": null,
            "min_width": null,
            "object_fit": null,
            "object_position": null,
            "order": null,
            "overflow": null,
            "overflow_x": null,
            "overflow_y": null,
            "padding": null,
            "right": null,
            "top": null,
            "visibility": null,
            "width": null
          }
        },
        "9ae00008de87408f8489a4984eddfafa": {
          "model_module": "@jupyter-widgets/base",
          "model_name": "LayoutModel",
          "model_module_version": "1.2.0",
          "state": {
            "_model_module": "@jupyter-widgets/base",
            "_model_module_version": "1.2.0",
            "_model_name": "LayoutModel",
            "_view_count": null,
            "_view_module": "@jupyter-widgets/base",
            "_view_module_version": "1.2.0",
            "_view_name": "LayoutView",
            "align_content": null,
            "align_items": null,
            "align_self": null,
            "border": null,
            "bottom": null,
            "display": null,
            "flex": null,
            "flex_flow": null,
            "grid_area": null,
            "grid_auto_columns": null,
            "grid_auto_flow": null,
            "grid_auto_rows": null,
            "grid_column": null,
            "grid_gap": null,
            "grid_row": null,
            "grid_template_areas": null,
            "grid_template_columns": null,
            "grid_template_rows": null,
            "height": null,
            "justify_content": null,
            "justify_items": null,
            "left": null,
            "margin": null,
            "max_height": null,
            "max_width": null,
            "min_height": null,
            "min_width": null,
            "object_fit": null,
            "object_position": null,
            "order": null,
            "overflow": null,
            "overflow_x": null,
            "overflow_y": null,
            "padding": null,
            "right": null,
            "top": null,
            "visibility": null,
            "width": null
          }
        },
        "38971ee8aeca48d89138a544f495a877": {
          "model_module": "@jupyter-widgets/controls",
          "model_name": "DescriptionStyleModel",
          "model_module_version": "1.5.0",
          "state": {
            "_model_module": "@jupyter-widgets/controls",
            "_model_module_version": "1.5.0",
            "_model_name": "DescriptionStyleModel",
            "_view_count": null,
            "_view_module": "@jupyter-widgets/base",
            "_view_module_version": "1.2.0",
            "_view_name": "StyleView",
            "description_width": ""
          }
        },
        "fc85e53c06e740a1ae13bfe6726e0f4d": {
          "model_module": "@jupyter-widgets/base",
          "model_name": "LayoutModel",
          "model_module_version": "1.2.0",
          "state": {
            "_model_module": "@jupyter-widgets/base",
            "_model_module_version": "1.2.0",
            "_model_name": "LayoutModel",
            "_view_count": null,
            "_view_module": "@jupyter-widgets/base",
            "_view_module_version": "1.2.0",
            "_view_name": "LayoutView",
            "align_content": null,
            "align_items": null,
            "align_self": null,
            "border": null,
            "bottom": null,
            "display": null,
            "flex": null,
            "flex_flow": null,
            "grid_area": null,
            "grid_auto_columns": null,
            "grid_auto_flow": null,
            "grid_auto_rows": null,
            "grid_column": null,
            "grid_gap": null,
            "grid_row": null,
            "grid_template_areas": null,
            "grid_template_columns": null,
            "grid_template_rows": null,
            "height": null,
            "justify_content": null,
            "justify_items": null,
            "left": null,
            "margin": null,
            "max_height": null,
            "max_width": null,
            "min_height": null,
            "min_width": null,
            "object_fit": null,
            "object_position": null,
            "order": null,
            "overflow": null,
            "overflow_x": null,
            "overflow_y": null,
            "padding": null,
            "right": null,
            "top": null,
            "visibility": null,
            "width": null
          }
        },
        "1612513b7fa14a2982a13037bd746356": {
          "model_module": "@jupyter-widgets/controls",
          "model_name": "ProgressStyleModel",
          "model_module_version": "1.5.0",
          "state": {
            "_model_module": "@jupyter-widgets/controls",
            "_model_module_version": "1.5.0",
            "_model_name": "ProgressStyleModel",
            "_view_count": null,
            "_view_module": "@jupyter-widgets/base",
            "_view_module_version": "1.2.0",
            "_view_name": "StyleView",
            "bar_color": null,
            "description_width": ""
          }
        },
        "c3d280d53d6c4a53869d3b90382eeee9": {
          "model_module": "@jupyter-widgets/base",
          "model_name": "LayoutModel",
          "model_module_version": "1.2.0",
          "state": {
            "_model_module": "@jupyter-widgets/base",
            "_model_module_version": "1.2.0",
            "_model_name": "LayoutModel",
            "_view_count": null,
            "_view_module": "@jupyter-widgets/base",
            "_view_module_version": "1.2.0",
            "_view_name": "LayoutView",
            "align_content": null,
            "align_items": null,
            "align_self": null,
            "border": null,
            "bottom": null,
            "display": null,
            "flex": null,
            "flex_flow": null,
            "grid_area": null,
            "grid_auto_columns": null,
            "grid_auto_flow": null,
            "grid_auto_rows": null,
            "grid_column": null,
            "grid_gap": null,
            "grid_row": null,
            "grid_template_areas": null,
            "grid_template_columns": null,
            "grid_template_rows": null,
            "height": null,
            "justify_content": null,
            "justify_items": null,
            "left": null,
            "margin": null,
            "max_height": null,
            "max_width": null,
            "min_height": null,
            "min_width": null,
            "object_fit": null,
            "object_position": null,
            "order": null,
            "overflow": null,
            "overflow_x": null,
            "overflow_y": null,
            "padding": null,
            "right": null,
            "top": null,
            "visibility": null,
            "width": null
          }
        },
        "8a333182b9a741d4b3464b135f3d43bf": {
          "model_module": "@jupyter-widgets/controls",
          "model_name": "DescriptionStyleModel",
          "model_module_version": "1.5.0",
          "state": {
            "_model_module": "@jupyter-widgets/controls",
            "_model_module_version": "1.5.0",
            "_model_name": "DescriptionStyleModel",
            "_view_count": null,
            "_view_module": "@jupyter-widgets/base",
            "_view_module_version": "1.2.0",
            "_view_name": "StyleView",
            "description_width": ""
          }
        },
        "4e02c0d8018d4712a8486ef305e4e644": {
          "model_module": "@jupyter-widgets/controls",
          "model_name": "HBoxModel",
          "model_module_version": "1.5.0",
          "state": {
            "_dom_classes": [],
            "_model_module": "@jupyter-widgets/controls",
            "_model_module_version": "1.5.0",
            "_model_name": "HBoxModel",
            "_view_count": null,
            "_view_module": "@jupyter-widgets/controls",
            "_view_module_version": "1.5.0",
            "_view_name": "HBoxView",
            "box_style": "",
            "children": [
              "IPY_MODEL_d3fceccea5244ddb81679d2952c500d6",
              "IPY_MODEL_73e9c63c11164efcabd6242dfd400d6c",
              "IPY_MODEL_29d0fefa3e4346e2ac34be24f51ad2dd"
            ],
            "layout": "IPY_MODEL_f24d14a2fdd94178899f7bde4363c810"
          }
        },
        "d3fceccea5244ddb81679d2952c500d6": {
          "model_module": "@jupyter-widgets/controls",
          "model_name": "HTMLModel",
          "model_module_version": "1.5.0",
          "state": {
            "_dom_classes": [],
            "_model_module": "@jupyter-widgets/controls",
            "_model_module_version": "1.5.0",
            "_model_name": "HTMLModel",
            "_view_count": null,
            "_view_module": "@jupyter-widgets/controls",
            "_view_module_version": "1.5.0",
            "_view_name": "HTMLView",
            "description": "",
            "description_tooltip": null,
            "layout": "IPY_MODEL_18b5b6fb049f4501ad10d831c83ed94e",
            "placeholder": "​",
            "style": "IPY_MODEL_877f341f3c014c82abaf4106fe2ff62e",
            "value": "model-00001-of-00004.safetensors: 100%"
          }
        },
        "73e9c63c11164efcabd6242dfd400d6c": {
          "model_module": "@jupyter-widgets/controls",
          "model_name": "FloatProgressModel",
          "model_module_version": "1.5.0",
          "state": {
            "_dom_classes": [],
            "_model_module": "@jupyter-widgets/controls",
            "_model_module_version": "1.5.0",
            "_model_name": "FloatProgressModel",
            "_view_count": null,
            "_view_module": "@jupyter-widgets/controls",
            "_view_module_version": "1.5.0",
            "_view_name": "ProgressView",
            "bar_style": "success",
            "description": "",
            "description_tooltip": null,
            "layout": "IPY_MODEL_d2bd4775718d4b85be5a8b27aab9e66e",
            "max": 4976698672,
            "min": 0,
            "orientation": "horizontal",
            "style": "IPY_MODEL_5cdd41c98ecf4f1995fdff2130a00b7d",
            "value": 4976698672
          }
        },
        "29d0fefa3e4346e2ac34be24f51ad2dd": {
          "model_module": "@jupyter-widgets/controls",
          "model_name": "HTMLModel",
          "model_module_version": "1.5.0",
          "state": {
            "_dom_classes": [],
            "_model_module": "@jupyter-widgets/controls",
            "_model_module_version": "1.5.0",
            "_model_name": "HTMLModel",
            "_view_count": null,
            "_view_module": "@jupyter-widgets/controls",
            "_view_module_version": "1.5.0",
            "_view_name": "HTMLView",
            "description": "",
            "description_tooltip": null,
            "layout": "IPY_MODEL_14e05036fcfa440cbf57d4505cb0f66d",
            "placeholder": "​",
            "style": "IPY_MODEL_a86ca4136d244f0b8946dd0bd67b5fbd",
            "value": " 4.98G/4.98G [02:00&lt;00:00, 40.4MB/s]"
          }
        },
        "f24d14a2fdd94178899f7bde4363c810": {
          "model_module": "@jupyter-widgets/base",
          "model_name": "LayoutModel",
          "model_module_version": "1.2.0",
          "state": {
            "_model_module": "@jupyter-widgets/base",
            "_model_module_version": "1.2.0",
            "_model_name": "LayoutModel",
            "_view_count": null,
            "_view_module": "@jupyter-widgets/base",
            "_view_module_version": "1.2.0",
            "_view_name": "LayoutView",
            "align_content": null,
            "align_items": null,
            "align_self": null,
            "border": null,
            "bottom": null,
            "display": null,
            "flex": null,
            "flex_flow": null,
            "grid_area": null,
            "grid_auto_columns": null,
            "grid_auto_flow": null,
            "grid_auto_rows": null,
            "grid_column": null,
            "grid_gap": null,
            "grid_row": null,
            "grid_template_areas": null,
            "grid_template_columns": null,
            "grid_template_rows": null,
            "height": null,
            "justify_content": null,
            "justify_items": null,
            "left": null,
            "margin": null,
            "max_height": null,
            "max_width": null,
            "min_height": null,
            "min_width": null,
            "object_fit": null,
            "object_position": null,
            "order": null,
            "overflow": null,
            "overflow_x": null,
            "overflow_y": null,
            "padding": null,
            "right": null,
            "top": null,
            "visibility": null,
            "width": null
          }
        },
        "18b5b6fb049f4501ad10d831c83ed94e": {
          "model_module": "@jupyter-widgets/base",
          "model_name": "LayoutModel",
          "model_module_version": "1.2.0",
          "state": {
            "_model_module": "@jupyter-widgets/base",
            "_model_module_version": "1.2.0",
            "_model_name": "LayoutModel",
            "_view_count": null,
            "_view_module": "@jupyter-widgets/base",
            "_view_module_version": "1.2.0",
            "_view_name": "LayoutView",
            "align_content": null,
            "align_items": null,
            "align_self": null,
            "border": null,
            "bottom": null,
            "display": null,
            "flex": null,
            "flex_flow": null,
            "grid_area": null,
            "grid_auto_columns": null,
            "grid_auto_flow": null,
            "grid_auto_rows": null,
            "grid_column": null,
            "grid_gap": null,
            "grid_row": null,
            "grid_template_areas": null,
            "grid_template_columns": null,
            "grid_template_rows": null,
            "height": null,
            "justify_content": null,
            "justify_items": null,
            "left": null,
            "margin": null,
            "max_height": null,
            "max_width": null,
            "min_height": null,
            "min_width": null,
            "object_fit": null,
            "object_position": null,
            "order": null,
            "overflow": null,
            "overflow_x": null,
            "overflow_y": null,
            "padding": null,
            "right": null,
            "top": null,
            "visibility": null,
            "width": null
          }
        },
        "877f341f3c014c82abaf4106fe2ff62e": {
          "model_module": "@jupyter-widgets/controls",
          "model_name": "DescriptionStyleModel",
          "model_module_version": "1.5.0",
          "state": {
            "_model_module": "@jupyter-widgets/controls",
            "_model_module_version": "1.5.0",
            "_model_name": "DescriptionStyleModel",
            "_view_count": null,
            "_view_module": "@jupyter-widgets/base",
            "_view_module_version": "1.2.0",
            "_view_name": "StyleView",
            "description_width": ""
          }
        },
        "d2bd4775718d4b85be5a8b27aab9e66e": {
          "model_module": "@jupyter-widgets/base",
          "model_name": "LayoutModel",
          "model_module_version": "1.2.0",
          "state": {
            "_model_module": "@jupyter-widgets/base",
            "_model_module_version": "1.2.0",
            "_model_name": "LayoutModel",
            "_view_count": null,
            "_view_module": "@jupyter-widgets/base",
            "_view_module_version": "1.2.0",
            "_view_name": "LayoutView",
            "align_content": null,
            "align_items": null,
            "align_self": null,
            "border": null,
            "bottom": null,
            "display": null,
            "flex": null,
            "flex_flow": null,
            "grid_area": null,
            "grid_auto_columns": null,
            "grid_auto_flow": null,
            "grid_auto_rows": null,
            "grid_column": null,
            "grid_gap": null,
            "grid_row": null,
            "grid_template_areas": null,
            "grid_template_columns": null,
            "grid_template_rows": null,
            "height": null,
            "justify_content": null,
            "justify_items": null,
            "left": null,
            "margin": null,
            "max_height": null,
            "max_width": null,
            "min_height": null,
            "min_width": null,
            "object_fit": null,
            "object_position": null,
            "order": null,
            "overflow": null,
            "overflow_x": null,
            "overflow_y": null,
            "padding": null,
            "right": null,
            "top": null,
            "visibility": null,
            "width": null
          }
        },
        "5cdd41c98ecf4f1995fdff2130a00b7d": {
          "model_module": "@jupyter-widgets/controls",
          "model_name": "ProgressStyleModel",
          "model_module_version": "1.5.0",
          "state": {
            "_model_module": "@jupyter-widgets/controls",
            "_model_module_version": "1.5.0",
            "_model_name": "ProgressStyleModel",
            "_view_count": null,
            "_view_module": "@jupyter-widgets/base",
            "_view_module_version": "1.2.0",
            "_view_name": "StyleView",
            "bar_color": null,
            "description_width": ""
          }
        },
        "14e05036fcfa440cbf57d4505cb0f66d": {
          "model_module": "@jupyter-widgets/base",
          "model_name": "LayoutModel",
          "model_module_version": "1.2.0",
          "state": {
            "_model_module": "@jupyter-widgets/base",
            "_model_module_version": "1.2.0",
            "_model_name": "LayoutModel",
            "_view_count": null,
            "_view_module": "@jupyter-widgets/base",
            "_view_module_version": "1.2.0",
            "_view_name": "LayoutView",
            "align_content": null,
            "align_items": null,
            "align_self": null,
            "border": null,
            "bottom": null,
            "display": null,
            "flex": null,
            "flex_flow": null,
            "grid_area": null,
            "grid_auto_columns": null,
            "grid_auto_flow": null,
            "grid_auto_rows": null,
            "grid_column": null,
            "grid_gap": null,
            "grid_row": null,
            "grid_template_areas": null,
            "grid_template_columns": null,
            "grid_template_rows": null,
            "height": null,
            "justify_content": null,
            "justify_items": null,
            "left": null,
            "margin": null,
            "max_height": null,
            "max_width": null,
            "min_height": null,
            "min_width": null,
            "object_fit": null,
            "object_position": null,
            "order": null,
            "overflow": null,
            "overflow_x": null,
            "overflow_y": null,
            "padding": null,
            "right": null,
            "top": null,
            "visibility": null,
            "width": null
          }
        },
        "a86ca4136d244f0b8946dd0bd67b5fbd": {
          "model_module": "@jupyter-widgets/controls",
          "model_name": "DescriptionStyleModel",
          "model_module_version": "1.5.0",
          "state": {
            "_model_module": "@jupyter-widgets/controls",
            "_model_module_version": "1.5.0",
            "_model_name": "DescriptionStyleModel",
            "_view_count": null,
            "_view_module": "@jupyter-widgets/base",
            "_view_module_version": "1.2.0",
            "_view_name": "StyleView",
            "description_width": ""
          }
        },
        "a93db0fd82824d0c9fed3a87ecfbc82f": {
          "model_module": "@jupyter-widgets/controls",
          "model_name": "HBoxModel",
          "model_module_version": "1.5.0",
          "state": {
            "_dom_classes": [],
            "_model_module": "@jupyter-widgets/controls",
            "_model_module_version": "1.5.0",
            "_model_name": "HBoxModel",
            "_view_count": null,
            "_view_module": "@jupyter-widgets/controls",
            "_view_module_version": "1.5.0",
            "_view_name": "HBoxView",
            "box_style": "",
            "children": [
              "IPY_MODEL_e7ca25ca42fa4f889234a885423e242f",
              "IPY_MODEL_3da3640533104b60ab3cd3625f8f3839",
              "IPY_MODEL_5ad5652f8ce84ca3be0d34e2100d36e4"
            ],
            "layout": "IPY_MODEL_957cc860beec48fc9ac90f1c76a30a19"
          }
        },
        "e7ca25ca42fa4f889234a885423e242f": {
          "model_module": "@jupyter-widgets/controls",
          "model_name": "HTMLModel",
          "model_module_version": "1.5.0",
          "state": {
            "_dom_classes": [],
            "_model_module": "@jupyter-widgets/controls",
            "_model_module_version": "1.5.0",
            "_model_name": "HTMLModel",
            "_view_count": null,
            "_view_module": "@jupyter-widgets/controls",
            "_view_module_version": "1.5.0",
            "_view_name": "HTMLView",
            "description": "",
            "description_tooltip": null,
            "layout": "IPY_MODEL_cc069cc49f00499688938f9949798bb3",
            "placeholder": "​",
            "style": "IPY_MODEL_55249ad711054a308d069eb3f93f6b84",
            "value": "model-00002-of-00004.safetensors: 100%"
          }
        },
        "3da3640533104b60ab3cd3625f8f3839": {
          "model_module": "@jupyter-widgets/controls",
          "model_name": "FloatProgressModel",
          "model_module_version": "1.5.0",
          "state": {
            "_dom_classes": [],
            "_model_module": "@jupyter-widgets/controls",
            "_model_module_version": "1.5.0",
            "_model_name": "FloatProgressModel",
            "_view_count": null,
            "_view_module": "@jupyter-widgets/controls",
            "_view_module_version": "1.5.0",
            "_view_name": "ProgressView",
            "bar_style": "success",
            "description": "",
            "description_tooltip": null,
            "layout": "IPY_MODEL_e439ff0c96674f64b86d04754a479b3a",
            "max": 4999802720,
            "min": 0,
            "orientation": "horizontal",
            "style": "IPY_MODEL_97c37ff34638487d912b000fb5d23a29",
            "value": 4999802720
          }
        },
        "5ad5652f8ce84ca3be0d34e2100d36e4": {
          "model_module": "@jupyter-widgets/controls",
          "model_name": "HTMLModel",
          "model_module_version": "1.5.0",
          "state": {
            "_dom_classes": [],
            "_model_module": "@jupyter-widgets/controls",
            "_model_module_version": "1.5.0",
            "_model_name": "HTMLModel",
            "_view_count": null,
            "_view_module": "@jupyter-widgets/controls",
            "_view_module_version": "1.5.0",
            "_view_name": "HTMLView",
            "description": "",
            "description_tooltip": null,
            "layout": "IPY_MODEL_f972a94f5c994a4498d8126deaef6571",
            "placeholder": "​",
            "style": "IPY_MODEL_26f308e7b80e4d13909dd13edd98a4d3",
            "value": " 5.00G/5.00G [02:03&lt;00:00, 41.4MB/s]"
          }
        },
        "957cc860beec48fc9ac90f1c76a30a19": {
          "model_module": "@jupyter-widgets/base",
          "model_name": "LayoutModel",
          "model_module_version": "1.2.0",
          "state": {
            "_model_module": "@jupyter-widgets/base",
            "_model_module_version": "1.2.0",
            "_model_name": "LayoutModel",
            "_view_count": null,
            "_view_module": "@jupyter-widgets/base",
            "_view_module_version": "1.2.0",
            "_view_name": "LayoutView",
            "align_content": null,
            "align_items": null,
            "align_self": null,
            "border": null,
            "bottom": null,
            "display": null,
            "flex": null,
            "flex_flow": null,
            "grid_area": null,
            "grid_auto_columns": null,
            "grid_auto_flow": null,
            "grid_auto_rows": null,
            "grid_column": null,
            "grid_gap": null,
            "grid_row": null,
            "grid_template_areas": null,
            "grid_template_columns": null,
            "grid_template_rows": null,
            "height": null,
            "justify_content": null,
            "justify_items": null,
            "left": null,
            "margin": null,
            "max_height": null,
            "max_width": null,
            "min_height": null,
            "min_width": null,
            "object_fit": null,
            "object_position": null,
            "order": null,
            "overflow": null,
            "overflow_x": null,
            "overflow_y": null,
            "padding": null,
            "right": null,
            "top": null,
            "visibility": null,
            "width": null
          }
        },
        "cc069cc49f00499688938f9949798bb3": {
          "model_module": "@jupyter-widgets/base",
          "model_name": "LayoutModel",
          "model_module_version": "1.2.0",
          "state": {
            "_model_module": "@jupyter-widgets/base",
            "_model_module_version": "1.2.0",
            "_model_name": "LayoutModel",
            "_view_count": null,
            "_view_module": "@jupyter-widgets/base",
            "_view_module_version": "1.2.0",
            "_view_name": "LayoutView",
            "align_content": null,
            "align_items": null,
            "align_self": null,
            "border": null,
            "bottom": null,
            "display": null,
            "flex": null,
            "flex_flow": null,
            "grid_area": null,
            "grid_auto_columns": null,
            "grid_auto_flow": null,
            "grid_auto_rows": null,
            "grid_column": null,
            "grid_gap": null,
            "grid_row": null,
            "grid_template_areas": null,
            "grid_template_columns": null,
            "grid_template_rows": null,
            "height": null,
            "justify_content": null,
            "justify_items": null,
            "left": null,
            "margin": null,
            "max_height": null,
            "max_width": null,
            "min_height": null,
            "min_width": null,
            "object_fit": null,
            "object_position": null,
            "order": null,
            "overflow": null,
            "overflow_x": null,
            "overflow_y": null,
            "padding": null,
            "right": null,
            "top": null,
            "visibility": null,
            "width": null
          }
        },
        "55249ad711054a308d069eb3f93f6b84": {
          "model_module": "@jupyter-widgets/controls",
          "model_name": "DescriptionStyleModel",
          "model_module_version": "1.5.0",
          "state": {
            "_model_module": "@jupyter-widgets/controls",
            "_model_module_version": "1.5.0",
            "_model_name": "DescriptionStyleModel",
            "_view_count": null,
            "_view_module": "@jupyter-widgets/base",
            "_view_module_version": "1.2.0",
            "_view_name": "StyleView",
            "description_width": ""
          }
        },
        "e439ff0c96674f64b86d04754a479b3a": {
          "model_module": "@jupyter-widgets/base",
          "model_name": "LayoutModel",
          "model_module_version": "1.2.0",
          "state": {
            "_model_module": "@jupyter-widgets/base",
            "_model_module_version": "1.2.0",
            "_model_name": "LayoutModel",
            "_view_count": null,
            "_view_module": "@jupyter-widgets/base",
            "_view_module_version": "1.2.0",
            "_view_name": "LayoutView",
            "align_content": null,
            "align_items": null,
            "align_self": null,
            "border": null,
            "bottom": null,
            "display": null,
            "flex": null,
            "flex_flow": null,
            "grid_area": null,
            "grid_auto_columns": null,
            "grid_auto_flow": null,
            "grid_auto_rows": null,
            "grid_column": null,
            "grid_gap": null,
            "grid_row": null,
            "grid_template_areas": null,
            "grid_template_columns": null,
            "grid_template_rows": null,
            "height": null,
            "justify_content": null,
            "justify_items": null,
            "left": null,
            "margin": null,
            "max_height": null,
            "max_width": null,
            "min_height": null,
            "min_width": null,
            "object_fit": null,
            "object_position": null,
            "order": null,
            "overflow": null,
            "overflow_x": null,
            "overflow_y": null,
            "padding": null,
            "right": null,
            "top": null,
            "visibility": null,
            "width": null
          }
        },
        "97c37ff34638487d912b000fb5d23a29": {
          "model_module": "@jupyter-widgets/controls",
          "model_name": "ProgressStyleModel",
          "model_module_version": "1.5.0",
          "state": {
            "_model_module": "@jupyter-widgets/controls",
            "_model_module_version": "1.5.0",
            "_model_name": "ProgressStyleModel",
            "_view_count": null,
            "_view_module": "@jupyter-widgets/base",
            "_view_module_version": "1.2.0",
            "_view_name": "StyleView",
            "bar_color": null,
            "description_width": ""
          }
        },
        "f972a94f5c994a4498d8126deaef6571": {
          "model_module": "@jupyter-widgets/base",
          "model_name": "LayoutModel",
          "model_module_version": "1.2.0",
          "state": {
            "_model_module": "@jupyter-widgets/base",
            "_model_module_version": "1.2.0",
            "_model_name": "LayoutModel",
            "_view_count": null,
            "_view_module": "@jupyter-widgets/base",
            "_view_module_version": "1.2.0",
            "_view_name": "LayoutView",
            "align_content": null,
            "align_items": null,
            "align_self": null,
            "border": null,
            "bottom": null,
            "display": null,
            "flex": null,
            "flex_flow": null,
            "grid_area": null,
            "grid_auto_columns": null,
            "grid_auto_flow": null,
            "grid_auto_rows": null,
            "grid_column": null,
            "grid_gap": null,
            "grid_row": null,
            "grid_template_areas": null,
            "grid_template_columns": null,
            "grid_template_rows": null,
            "height": null,
            "justify_content": null,
            "justify_items": null,
            "left": null,
            "margin": null,
            "max_height": null,
            "max_width": null,
            "min_height": null,
            "min_width": null,
            "object_fit": null,
            "object_position": null,
            "order": null,
            "overflow": null,
            "overflow_x": null,
            "overflow_y": null,
            "padding": null,
            "right": null,
            "top": null,
            "visibility": null,
            "width": null
          }
        },
        "26f308e7b80e4d13909dd13edd98a4d3": {
          "model_module": "@jupyter-widgets/controls",
          "model_name": "DescriptionStyleModel",
          "model_module_version": "1.5.0",
          "state": {
            "_model_module": "@jupyter-widgets/controls",
            "_model_module_version": "1.5.0",
            "_model_name": "DescriptionStyleModel",
            "_view_count": null,
            "_view_module": "@jupyter-widgets/base",
            "_view_module_version": "1.2.0",
            "_view_name": "StyleView",
            "description_width": ""
          }
        },
        "de190ea4f58a4386aa75355ecc5b3586": {
          "model_module": "@jupyter-widgets/controls",
          "model_name": "HBoxModel",
          "model_module_version": "1.5.0",
          "state": {
            "_dom_classes": [],
            "_model_module": "@jupyter-widgets/controls",
            "_model_module_version": "1.5.0",
            "_model_name": "HBoxModel",
            "_view_count": null,
            "_view_module": "@jupyter-widgets/controls",
            "_view_module_version": "1.5.0",
            "_view_name": "HBoxView",
            "box_style": "",
            "children": [
              "IPY_MODEL_5348c36f74be4e87a05901db76b03249",
              "IPY_MODEL_80f5300b58454a17b1661552560ba83f",
              "IPY_MODEL_c7eeeeaffd994c7d8365b86f8583acee"
            ],
            "layout": "IPY_MODEL_c97e4e7e60a241598a96c8b5fcd4fe2e"
          }
        },
        "5348c36f74be4e87a05901db76b03249": {
          "model_module": "@jupyter-widgets/controls",
          "model_name": "HTMLModel",
          "model_module_version": "1.5.0",
          "state": {
            "_dom_classes": [],
            "_model_module": "@jupyter-widgets/controls",
            "_model_module_version": "1.5.0",
            "_model_name": "HTMLModel",
            "_view_count": null,
            "_view_module": "@jupyter-widgets/controls",
            "_view_module_version": "1.5.0",
            "_view_name": "HTMLView",
            "description": "",
            "description_tooltip": null,
            "layout": "IPY_MODEL_0fcd29173d93445681eafb478149cef4",
            "placeholder": "​",
            "style": "IPY_MODEL_5895740712a04d6b925a4087e16d87b7",
            "value": "model-00003-of-00004.safetensors: 100%"
          }
        },
        "80f5300b58454a17b1661552560ba83f": {
          "model_module": "@jupyter-widgets/controls",
          "model_name": "FloatProgressModel",
          "model_module_version": "1.5.0",
          "state": {
            "_dom_classes": [],
            "_model_module": "@jupyter-widgets/controls",
            "_model_module_version": "1.5.0",
            "_model_name": "FloatProgressModel",
            "_view_count": null,
            "_view_module": "@jupyter-widgets/controls",
            "_view_module_version": "1.5.0",
            "_view_name": "ProgressView",
            "bar_style": "success",
            "description": "",
            "description_tooltip": null,
            "layout": "IPY_MODEL_c4a2558e18ba446280bc6b01a2fdfdb5",
            "max": 4915916176,
            "min": 0,
            "orientation": "horizontal",
            "style": "IPY_MODEL_c9e6531366a9424e91e759d8052fb444",
            "value": 4915916176
          }
        },
        "c7eeeeaffd994c7d8365b86f8583acee": {
          "model_module": "@jupyter-widgets/controls",
          "model_name": "HTMLModel",
          "model_module_version": "1.5.0",
          "state": {
            "_dom_classes": [],
            "_model_module": "@jupyter-widgets/controls",
            "_model_module_version": "1.5.0",
            "_model_name": "HTMLModel",
            "_view_count": null,
            "_view_module": "@jupyter-widgets/controls",
            "_view_module_version": "1.5.0",
            "_view_name": "HTMLView",
            "description": "",
            "description_tooltip": null,
            "layout": "IPY_MODEL_33dcedbe080b46aebd4f00fee2ea2ddf",
            "placeholder": "​",
            "style": "IPY_MODEL_7d21a01d964d477a9c0708baef41ffdd",
            "value": " 4.92G/4.92G [02:11&lt;00:00, 41.0MB/s]"
          }
        },
        "c97e4e7e60a241598a96c8b5fcd4fe2e": {
          "model_module": "@jupyter-widgets/base",
          "model_name": "LayoutModel",
          "model_module_version": "1.2.0",
          "state": {
            "_model_module": "@jupyter-widgets/base",
            "_model_module_version": "1.2.0",
            "_model_name": "LayoutModel",
            "_view_count": null,
            "_view_module": "@jupyter-widgets/base",
            "_view_module_version": "1.2.0",
            "_view_name": "LayoutView",
            "align_content": null,
            "align_items": null,
            "align_self": null,
            "border": null,
            "bottom": null,
            "display": null,
            "flex": null,
            "flex_flow": null,
            "grid_area": null,
            "grid_auto_columns": null,
            "grid_auto_flow": null,
            "grid_auto_rows": null,
            "grid_column": null,
            "grid_gap": null,
            "grid_row": null,
            "grid_template_areas": null,
            "grid_template_columns": null,
            "grid_template_rows": null,
            "height": null,
            "justify_content": null,
            "justify_items": null,
            "left": null,
            "margin": null,
            "max_height": null,
            "max_width": null,
            "min_height": null,
            "min_width": null,
            "object_fit": null,
            "object_position": null,
            "order": null,
            "overflow": null,
            "overflow_x": null,
            "overflow_y": null,
            "padding": null,
            "right": null,
            "top": null,
            "visibility": null,
            "width": null
          }
        },
        "0fcd29173d93445681eafb478149cef4": {
          "model_module": "@jupyter-widgets/base",
          "model_name": "LayoutModel",
          "model_module_version": "1.2.0",
          "state": {
            "_model_module": "@jupyter-widgets/base",
            "_model_module_version": "1.2.0",
            "_model_name": "LayoutModel",
            "_view_count": null,
            "_view_module": "@jupyter-widgets/base",
            "_view_module_version": "1.2.0",
            "_view_name": "LayoutView",
            "align_content": null,
            "align_items": null,
            "align_self": null,
            "border": null,
            "bottom": null,
            "display": null,
            "flex": null,
            "flex_flow": null,
            "grid_area": null,
            "grid_auto_columns": null,
            "grid_auto_flow": null,
            "grid_auto_rows": null,
            "grid_column": null,
            "grid_gap": null,
            "grid_row": null,
            "grid_template_areas": null,
            "grid_template_columns": null,
            "grid_template_rows": null,
            "height": null,
            "justify_content": null,
            "justify_items": null,
            "left": null,
            "margin": null,
            "max_height": null,
            "max_width": null,
            "min_height": null,
            "min_width": null,
            "object_fit": null,
            "object_position": null,
            "order": null,
            "overflow": null,
            "overflow_x": null,
            "overflow_y": null,
            "padding": null,
            "right": null,
            "top": null,
            "visibility": null,
            "width": null
          }
        },
        "5895740712a04d6b925a4087e16d87b7": {
          "model_module": "@jupyter-widgets/controls",
          "model_name": "DescriptionStyleModel",
          "model_module_version": "1.5.0",
          "state": {
            "_model_module": "@jupyter-widgets/controls",
            "_model_module_version": "1.5.0",
            "_model_name": "DescriptionStyleModel",
            "_view_count": null,
            "_view_module": "@jupyter-widgets/base",
            "_view_module_version": "1.2.0",
            "_view_name": "StyleView",
            "description_width": ""
          }
        },
        "c4a2558e18ba446280bc6b01a2fdfdb5": {
          "model_module": "@jupyter-widgets/base",
          "model_name": "LayoutModel",
          "model_module_version": "1.2.0",
          "state": {
            "_model_module": "@jupyter-widgets/base",
            "_model_module_version": "1.2.0",
            "_model_name": "LayoutModel",
            "_view_count": null,
            "_view_module": "@jupyter-widgets/base",
            "_view_module_version": "1.2.0",
            "_view_name": "LayoutView",
            "align_content": null,
            "align_items": null,
            "align_self": null,
            "border": null,
            "bottom": null,
            "display": null,
            "flex": null,
            "flex_flow": null,
            "grid_area": null,
            "grid_auto_columns": null,
            "grid_auto_flow": null,
            "grid_auto_rows": null,
            "grid_column": null,
            "grid_gap": null,
            "grid_row": null,
            "grid_template_areas": null,
            "grid_template_columns": null,
            "grid_template_rows": null,
            "height": null,
            "justify_content": null,
            "justify_items": null,
            "left": null,
            "margin": null,
            "max_height": null,
            "max_width": null,
            "min_height": null,
            "min_width": null,
            "object_fit": null,
            "object_position": null,
            "order": null,
            "overflow": null,
            "overflow_x": null,
            "overflow_y": null,
            "padding": null,
            "right": null,
            "top": null,
            "visibility": null,
            "width": null
          }
        },
        "c9e6531366a9424e91e759d8052fb444": {
          "model_module": "@jupyter-widgets/controls",
          "model_name": "ProgressStyleModel",
          "model_module_version": "1.5.0",
          "state": {
            "_model_module": "@jupyter-widgets/controls",
            "_model_module_version": "1.5.0",
            "_model_name": "ProgressStyleModel",
            "_view_count": null,
            "_view_module": "@jupyter-widgets/base",
            "_view_module_version": "1.2.0",
            "_view_name": "StyleView",
            "bar_color": null,
            "description_width": ""
          }
        },
        "33dcedbe080b46aebd4f00fee2ea2ddf": {
          "model_module": "@jupyter-widgets/base",
          "model_name": "LayoutModel",
          "model_module_version": "1.2.0",
          "state": {
            "_model_module": "@jupyter-widgets/base",
            "_model_module_version": "1.2.0",
            "_model_name": "LayoutModel",
            "_view_count": null,
            "_view_module": "@jupyter-widgets/base",
            "_view_module_version": "1.2.0",
            "_view_name": "LayoutView",
            "align_content": null,
            "align_items": null,
            "align_self": null,
            "border": null,
            "bottom": null,
            "display": null,
            "flex": null,
            "flex_flow": null,
            "grid_area": null,
            "grid_auto_columns": null,
            "grid_auto_flow": null,
            "grid_auto_rows": null,
            "grid_column": null,
            "grid_gap": null,
            "grid_row": null,
            "grid_template_areas": null,
            "grid_template_columns": null,
            "grid_template_rows": null,
            "height": null,
            "justify_content": null,
            "justify_items": null,
            "left": null,
            "margin": null,
            "max_height": null,
            "max_width": null,
            "min_height": null,
            "min_width": null,
            "object_fit": null,
            "object_position": null,
            "order": null,
            "overflow": null,
            "overflow_x": null,
            "overflow_y": null,
            "padding": null,
            "right": null,
            "top": null,
            "visibility": null,
            "width": null
          }
        },
        "7d21a01d964d477a9c0708baef41ffdd": {
          "model_module": "@jupyter-widgets/controls",
          "model_name": "DescriptionStyleModel",
          "model_module_version": "1.5.0",
          "state": {
            "_model_module": "@jupyter-widgets/controls",
            "_model_module_version": "1.5.0",
            "_model_name": "DescriptionStyleModel",
            "_view_count": null,
            "_view_module": "@jupyter-widgets/base",
            "_view_module_version": "1.2.0",
            "_view_name": "StyleView",
            "description_width": ""
          }
        },
        "9ff1198f851141c9b18a702330f32019": {
          "model_module": "@jupyter-widgets/controls",
          "model_name": "HBoxModel",
          "model_module_version": "1.5.0",
          "state": {
            "_dom_classes": [],
            "_model_module": "@jupyter-widgets/controls",
            "_model_module_version": "1.5.0",
            "_model_name": "HBoxModel",
            "_view_count": null,
            "_view_module": "@jupyter-widgets/controls",
            "_view_module_version": "1.5.0",
            "_view_name": "HBoxView",
            "box_style": "",
            "children": [
              "IPY_MODEL_0ee1b4e6cdbb49eb9030f00bee6a27e7",
              "IPY_MODEL_5bd3e027a7094f85b108d19118221e5d",
              "IPY_MODEL_0f992aa8cddb4857b0436e10022a7a21"
            ],
            "layout": "IPY_MODEL_0d4c924ec03a4fde9b4f32e4747d4e70"
          }
        },
        "0ee1b4e6cdbb49eb9030f00bee6a27e7": {
          "model_module": "@jupyter-widgets/controls",
          "model_name": "HTMLModel",
          "model_module_version": "1.5.0",
          "state": {
            "_dom_classes": [],
            "_model_module": "@jupyter-widgets/controls",
            "_model_module_version": "1.5.0",
            "_model_name": "HTMLModel",
            "_view_count": null,
            "_view_module": "@jupyter-widgets/controls",
            "_view_module_version": "1.5.0",
            "_view_name": "HTMLView",
            "description": "",
            "description_tooltip": null,
            "layout": "IPY_MODEL_68a970b3995246c881ffadb8ebbe09a8",
            "placeholder": "​",
            "style": "IPY_MODEL_7b0525b8cf044c2eaca580c1c5731df2",
            "value": "model-00004-of-00004.safetensors: 100%"
          }
        },
        "5bd3e027a7094f85b108d19118221e5d": {
          "model_module": "@jupyter-widgets/controls",
          "model_name": "FloatProgressModel",
          "model_module_version": "1.5.0",
          "state": {
            "_dom_classes": [],
            "_model_module": "@jupyter-widgets/controls",
            "_model_module_version": "1.5.0",
            "_model_name": "FloatProgressModel",
            "_view_count": null,
            "_view_module": "@jupyter-widgets/controls",
            "_view_module_version": "1.5.0",
            "_view_name": "ProgressView",
            "bar_style": "success",
            "description": "",
            "description_tooltip": null,
            "layout": "IPY_MODEL_bfa1ce8a5e534e61bd2cee987712bdde",
            "max": 1168138808,
            "min": 0,
            "orientation": "horizontal",
            "style": "IPY_MODEL_38599d1c31cb4a97a071c2dacf099f49",
            "value": 1168138808
          }
        },
        "0f992aa8cddb4857b0436e10022a7a21": {
          "model_module": "@jupyter-widgets/controls",
          "model_name": "HTMLModel",
          "model_module_version": "1.5.0",
          "state": {
            "_dom_classes": [],
            "_model_module": "@jupyter-widgets/controls",
            "_model_module_version": "1.5.0",
            "_model_name": "HTMLModel",
            "_view_count": null,
            "_view_module": "@jupyter-widgets/controls",
            "_view_module_version": "1.5.0",
            "_view_name": "HTMLView",
            "description": "",
            "description_tooltip": null,
            "layout": "IPY_MODEL_2168393e3ae94db98f8c239fdc6cadcf",
            "placeholder": "​",
            "style": "IPY_MODEL_f7c91d1fd0e641aa959cc651917a8520",
            "value": " 1.17G/1.17G [00:30&lt;00:00, 39.9MB/s]"
          }
        },
        "0d4c924ec03a4fde9b4f32e4747d4e70": {
          "model_module": "@jupyter-widgets/base",
          "model_name": "LayoutModel",
          "model_module_version": "1.2.0",
          "state": {
            "_model_module": "@jupyter-widgets/base",
            "_model_module_version": "1.2.0",
            "_model_name": "LayoutModel",
            "_view_count": null,
            "_view_module": "@jupyter-widgets/base",
            "_view_module_version": "1.2.0",
            "_view_name": "LayoutView",
            "align_content": null,
            "align_items": null,
            "align_self": null,
            "border": null,
            "bottom": null,
            "display": null,
            "flex": null,
            "flex_flow": null,
            "grid_area": null,
            "grid_auto_columns": null,
            "grid_auto_flow": null,
            "grid_auto_rows": null,
            "grid_column": null,
            "grid_gap": null,
            "grid_row": null,
            "grid_template_areas": null,
            "grid_template_columns": null,
            "grid_template_rows": null,
            "height": null,
            "justify_content": null,
            "justify_items": null,
            "left": null,
            "margin": null,
            "max_height": null,
            "max_width": null,
            "min_height": null,
            "min_width": null,
            "object_fit": null,
            "object_position": null,
            "order": null,
            "overflow": null,
            "overflow_x": null,
            "overflow_y": null,
            "padding": null,
            "right": null,
            "top": null,
            "visibility": null,
            "width": null
          }
        },
        "68a970b3995246c881ffadb8ebbe09a8": {
          "model_module": "@jupyter-widgets/base",
          "model_name": "LayoutModel",
          "model_module_version": "1.2.0",
          "state": {
            "_model_module": "@jupyter-widgets/base",
            "_model_module_version": "1.2.0",
            "_model_name": "LayoutModel",
            "_view_count": null,
            "_view_module": "@jupyter-widgets/base",
            "_view_module_version": "1.2.0",
            "_view_name": "LayoutView",
            "align_content": null,
            "align_items": null,
            "align_self": null,
            "border": null,
            "bottom": null,
            "display": null,
            "flex": null,
            "flex_flow": null,
            "grid_area": null,
            "grid_auto_columns": null,
            "grid_auto_flow": null,
            "grid_auto_rows": null,
            "grid_column": null,
            "grid_gap": null,
            "grid_row": null,
            "grid_template_areas": null,
            "grid_template_columns": null,
            "grid_template_rows": null,
            "height": null,
            "justify_content": null,
            "justify_items": null,
            "left": null,
            "margin": null,
            "max_height": null,
            "max_width": null,
            "min_height": null,
            "min_width": null,
            "object_fit": null,
            "object_position": null,
            "order": null,
            "overflow": null,
            "overflow_x": null,
            "overflow_y": null,
            "padding": null,
            "right": null,
            "top": null,
            "visibility": null,
            "width": null
          }
        },
        "7b0525b8cf044c2eaca580c1c5731df2": {
          "model_module": "@jupyter-widgets/controls",
          "model_name": "DescriptionStyleModel",
          "model_module_version": "1.5.0",
          "state": {
            "_model_module": "@jupyter-widgets/controls",
            "_model_module_version": "1.5.0",
            "_model_name": "DescriptionStyleModel",
            "_view_count": null,
            "_view_module": "@jupyter-widgets/base",
            "_view_module_version": "1.2.0",
            "_view_name": "StyleView",
            "description_width": ""
          }
        },
        "bfa1ce8a5e534e61bd2cee987712bdde": {
          "model_module": "@jupyter-widgets/base",
          "model_name": "LayoutModel",
          "model_module_version": "1.2.0",
          "state": {
            "_model_module": "@jupyter-widgets/base",
            "_model_module_version": "1.2.0",
            "_model_name": "LayoutModel",
            "_view_count": null,
            "_view_module": "@jupyter-widgets/base",
            "_view_module_version": "1.2.0",
            "_view_name": "LayoutView",
            "align_content": null,
            "align_items": null,
            "align_self": null,
            "border": null,
            "bottom": null,
            "display": null,
            "flex": null,
            "flex_flow": null,
            "grid_area": null,
            "grid_auto_columns": null,
            "grid_auto_flow": null,
            "grid_auto_rows": null,
            "grid_column": null,
            "grid_gap": null,
            "grid_row": null,
            "grid_template_areas": null,
            "grid_template_columns": null,
            "grid_template_rows": null,
            "height": null,
            "justify_content": null,
            "justify_items": null,
            "left": null,
            "margin": null,
            "max_height": null,
            "max_width": null,
            "min_height": null,
            "min_width": null,
            "object_fit": null,
            "object_position": null,
            "order": null,
            "overflow": null,
            "overflow_x": null,
            "overflow_y": null,
            "padding": null,
            "right": null,
            "top": null,
            "visibility": null,
            "width": null
          }
        },
        "38599d1c31cb4a97a071c2dacf099f49": {
          "model_module": "@jupyter-widgets/controls",
          "model_name": "ProgressStyleModel",
          "model_module_version": "1.5.0",
          "state": {
            "_model_module": "@jupyter-widgets/controls",
            "_model_module_version": "1.5.0",
            "_model_name": "ProgressStyleModel",
            "_view_count": null,
            "_view_module": "@jupyter-widgets/base",
            "_view_module_version": "1.2.0",
            "_view_name": "StyleView",
            "bar_color": null,
            "description_width": ""
          }
        },
        "2168393e3ae94db98f8c239fdc6cadcf": {
          "model_module": "@jupyter-widgets/base",
          "model_name": "LayoutModel",
          "model_module_version": "1.2.0",
          "state": {
            "_model_module": "@jupyter-widgets/base",
            "_model_module_version": "1.2.0",
            "_model_name": "LayoutModel",
            "_view_count": null,
            "_view_module": "@jupyter-widgets/base",
            "_view_module_version": "1.2.0",
            "_view_name": "LayoutView",
            "align_content": null,
            "align_items": null,
            "align_self": null,
            "border": null,
            "bottom": null,
            "display": null,
            "flex": null,
            "flex_flow": null,
            "grid_area": null,
            "grid_auto_columns": null,
            "grid_auto_flow": null,
            "grid_auto_rows": null,
            "grid_column": null,
            "grid_gap": null,
            "grid_row": null,
            "grid_template_areas": null,
            "grid_template_columns": null,
            "grid_template_rows": null,
            "height": null,
            "justify_content": null,
            "justify_items": null,
            "left": null,
            "margin": null,
            "max_height": null,
            "max_width": null,
            "min_height": null,
            "min_width": null,
            "object_fit": null,
            "object_position": null,
            "order": null,
            "overflow": null,
            "overflow_x": null,
            "overflow_y": null,
            "padding": null,
            "right": null,
            "top": null,
            "visibility": null,
            "width": null
          }
        },
        "f7c91d1fd0e641aa959cc651917a8520": {
          "model_module": "@jupyter-widgets/controls",
          "model_name": "DescriptionStyleModel",
          "model_module_version": "1.5.0",
          "state": {
            "_model_module": "@jupyter-widgets/controls",
            "_model_module_version": "1.5.0",
            "_model_name": "DescriptionStyleModel",
            "_view_count": null,
            "_view_module": "@jupyter-widgets/base",
            "_view_module_version": "1.2.0",
            "_view_name": "StyleView",
            "description_width": ""
          }
        },
        "2b31db2185d84bb3baf2416df8a70838": {
          "model_module": "@jupyter-widgets/controls",
          "model_name": "HBoxModel",
          "model_module_version": "1.5.0",
          "state": {
            "_dom_classes": [],
            "_model_module": "@jupyter-widgets/controls",
            "_model_module_version": "1.5.0",
            "_model_name": "HBoxModel",
            "_view_count": null,
            "_view_module": "@jupyter-widgets/controls",
            "_view_module_version": "1.5.0",
            "_view_name": "HBoxView",
            "box_style": "",
            "children": [
              "IPY_MODEL_bdedba6631bd4aa5b35d6046b0d6bcf4",
              "IPY_MODEL_e8bd0022f93a4bedbc8d5ab2c39fed4c",
              "IPY_MODEL_fc6342e114834e65aa9c1f9be1864646"
            ],
            "layout": "IPY_MODEL_66de5427afc049c787eaa931f7627f45"
          }
        },
        "bdedba6631bd4aa5b35d6046b0d6bcf4": {
          "model_module": "@jupyter-widgets/controls",
          "model_name": "HTMLModel",
          "model_module_version": "1.5.0",
          "state": {
            "_dom_classes": [],
            "_model_module": "@jupyter-widgets/controls",
            "_model_module_version": "1.5.0",
            "_model_name": "HTMLModel",
            "_view_count": null,
            "_view_module": "@jupyter-widgets/controls",
            "_view_module_version": "1.5.0",
            "_view_name": "HTMLView",
            "description": "",
            "description_tooltip": null,
            "layout": "IPY_MODEL_d037a02aff1e479389072f7a173d8817",
            "placeholder": "​",
            "style": "IPY_MODEL_93c25df10d0c44baa97ee70731a682e4",
            "value": "Loading checkpoint shards: 100%"
          }
        },
        "e8bd0022f93a4bedbc8d5ab2c39fed4c": {
          "model_module": "@jupyter-widgets/controls",
          "model_name": "FloatProgressModel",
          "model_module_version": "1.5.0",
          "state": {
            "_dom_classes": [],
            "_model_module": "@jupyter-widgets/controls",
            "_model_module_version": "1.5.0",
            "_model_name": "FloatProgressModel",
            "_view_count": null,
            "_view_module": "@jupyter-widgets/controls",
            "_view_module_version": "1.5.0",
            "_view_name": "ProgressView",
            "bar_style": "success",
            "description": "",
            "description_tooltip": null,
            "layout": "IPY_MODEL_c3c717e1d07f404884874234dc23391f",
            "max": 4,
            "min": 0,
            "orientation": "horizontal",
            "style": "IPY_MODEL_f027d39b33be4341b2520df280c0092c",
            "value": 4
          }
        },
        "fc6342e114834e65aa9c1f9be1864646": {
          "model_module": "@jupyter-widgets/controls",
          "model_name": "HTMLModel",
          "model_module_version": "1.5.0",
          "state": {
            "_dom_classes": [],
            "_model_module": "@jupyter-widgets/controls",
            "_model_module_version": "1.5.0",
            "_model_name": "HTMLModel",
            "_view_count": null,
            "_view_module": "@jupyter-widgets/controls",
            "_view_module_version": "1.5.0",
            "_view_name": "HTMLView",
            "description": "",
            "description_tooltip": null,
            "layout": "IPY_MODEL_bcf0d4ed52134b1cb749a48761c95337",
            "placeholder": "​",
            "style": "IPY_MODEL_32ead617976442dca2acad47ad0ee927",
            "value": " 4/4 [01:25&lt;00:00, 18.26s/it]"
          }
        },
        "66de5427afc049c787eaa931f7627f45": {
          "model_module": "@jupyter-widgets/base",
          "model_name": "LayoutModel",
          "model_module_version": "1.2.0",
          "state": {
            "_model_module": "@jupyter-widgets/base",
            "_model_module_version": "1.2.0",
            "_model_name": "LayoutModel",
            "_view_count": null,
            "_view_module": "@jupyter-widgets/base",
            "_view_module_version": "1.2.0",
            "_view_name": "LayoutView",
            "align_content": null,
            "align_items": null,
            "align_self": null,
            "border": null,
            "bottom": null,
            "display": null,
            "flex": null,
            "flex_flow": null,
            "grid_area": null,
            "grid_auto_columns": null,
            "grid_auto_flow": null,
            "grid_auto_rows": null,
            "grid_column": null,
            "grid_gap": null,
            "grid_row": null,
            "grid_template_areas": null,
            "grid_template_columns": null,
            "grid_template_rows": null,
            "height": null,
            "justify_content": null,
            "justify_items": null,
            "left": null,
            "margin": null,
            "max_height": null,
            "max_width": null,
            "min_height": null,
            "min_width": null,
            "object_fit": null,
            "object_position": null,
            "order": null,
            "overflow": null,
            "overflow_x": null,
            "overflow_y": null,
            "padding": null,
            "right": null,
            "top": null,
            "visibility": null,
            "width": null
          }
        },
        "d037a02aff1e479389072f7a173d8817": {
          "model_module": "@jupyter-widgets/base",
          "model_name": "LayoutModel",
          "model_module_version": "1.2.0",
          "state": {
            "_model_module": "@jupyter-widgets/base",
            "_model_module_version": "1.2.0",
            "_model_name": "LayoutModel",
            "_view_count": null,
            "_view_module": "@jupyter-widgets/base",
            "_view_module_version": "1.2.0",
            "_view_name": "LayoutView",
            "align_content": null,
            "align_items": null,
            "align_self": null,
            "border": null,
            "bottom": null,
            "display": null,
            "flex": null,
            "flex_flow": null,
            "grid_area": null,
            "grid_auto_columns": null,
            "grid_auto_flow": null,
            "grid_auto_rows": null,
            "grid_column": null,
            "grid_gap": null,
            "grid_row": null,
            "grid_template_areas": null,
            "grid_template_columns": null,
            "grid_template_rows": null,
            "height": null,
            "justify_content": null,
            "justify_items": null,
            "left": null,
            "margin": null,
            "max_height": null,
            "max_width": null,
            "min_height": null,
            "min_width": null,
            "object_fit": null,
            "object_position": null,
            "order": null,
            "overflow": null,
            "overflow_x": null,
            "overflow_y": null,
            "padding": null,
            "right": null,
            "top": null,
            "visibility": null,
            "width": null
          }
        },
        "93c25df10d0c44baa97ee70731a682e4": {
          "model_module": "@jupyter-widgets/controls",
          "model_name": "DescriptionStyleModel",
          "model_module_version": "1.5.0",
          "state": {
            "_model_module": "@jupyter-widgets/controls",
            "_model_module_version": "1.5.0",
            "_model_name": "DescriptionStyleModel",
            "_view_count": null,
            "_view_module": "@jupyter-widgets/base",
            "_view_module_version": "1.2.0",
            "_view_name": "StyleView",
            "description_width": ""
          }
        },
        "c3c717e1d07f404884874234dc23391f": {
          "model_module": "@jupyter-widgets/base",
          "model_name": "LayoutModel",
          "model_module_version": "1.2.0",
          "state": {
            "_model_module": "@jupyter-widgets/base",
            "_model_module_version": "1.2.0",
            "_model_name": "LayoutModel",
            "_view_count": null,
            "_view_module": "@jupyter-widgets/base",
            "_view_module_version": "1.2.0",
            "_view_name": "LayoutView",
            "align_content": null,
            "align_items": null,
            "align_self": null,
            "border": null,
            "bottom": null,
            "display": null,
            "flex": null,
            "flex_flow": null,
            "grid_area": null,
            "grid_auto_columns": null,
            "grid_auto_flow": null,
            "grid_auto_rows": null,
            "grid_column": null,
            "grid_gap": null,
            "grid_row": null,
            "grid_template_areas": null,
            "grid_template_columns": null,
            "grid_template_rows": null,
            "height": null,
            "justify_content": null,
            "justify_items": null,
            "left": null,
            "margin": null,
            "max_height": null,
            "max_width": null,
            "min_height": null,
            "min_width": null,
            "object_fit": null,
            "object_position": null,
            "order": null,
            "overflow": null,
            "overflow_x": null,
            "overflow_y": null,
            "padding": null,
            "right": null,
            "top": null,
            "visibility": null,
            "width": null
          }
        },
        "f027d39b33be4341b2520df280c0092c": {
          "model_module": "@jupyter-widgets/controls",
          "model_name": "ProgressStyleModel",
          "model_module_version": "1.5.0",
          "state": {
            "_model_module": "@jupyter-widgets/controls",
            "_model_module_version": "1.5.0",
            "_model_name": "ProgressStyleModel",
            "_view_count": null,
            "_view_module": "@jupyter-widgets/base",
            "_view_module_version": "1.2.0",
            "_view_name": "StyleView",
            "bar_color": null,
            "description_width": ""
          }
        },
        "bcf0d4ed52134b1cb749a48761c95337": {
          "model_module": "@jupyter-widgets/base",
          "model_name": "LayoutModel",
          "model_module_version": "1.2.0",
          "state": {
            "_model_module": "@jupyter-widgets/base",
            "_model_module_version": "1.2.0",
            "_model_name": "LayoutModel",
            "_view_count": null,
            "_view_module": "@jupyter-widgets/base",
            "_view_module_version": "1.2.0",
            "_view_name": "LayoutView",
            "align_content": null,
            "align_items": null,
            "align_self": null,
            "border": null,
            "bottom": null,
            "display": null,
            "flex": null,
            "flex_flow": null,
            "grid_area": null,
            "grid_auto_columns": null,
            "grid_auto_flow": null,
            "grid_auto_rows": null,
            "grid_column": null,
            "grid_gap": null,
            "grid_row": null,
            "grid_template_areas": null,
            "grid_template_columns": null,
            "grid_template_rows": null,
            "height": null,
            "justify_content": null,
            "justify_items": null,
            "left": null,
            "margin": null,
            "max_height": null,
            "max_width": null,
            "min_height": null,
            "min_width": null,
            "object_fit": null,
            "object_position": null,
            "order": null,
            "overflow": null,
            "overflow_x": null,
            "overflow_y": null,
            "padding": null,
            "right": null,
            "top": null,
            "visibility": null,
            "width": null
          }
        },
        "32ead617976442dca2acad47ad0ee927": {
          "model_module": "@jupyter-widgets/controls",
          "model_name": "DescriptionStyleModel",
          "model_module_version": "1.5.0",
          "state": {
            "_model_module": "@jupyter-widgets/controls",
            "_model_module_version": "1.5.0",
            "_model_name": "DescriptionStyleModel",
            "_view_count": null,
            "_view_module": "@jupyter-widgets/base",
            "_view_module_version": "1.2.0",
            "_view_name": "StyleView",
            "description_width": ""
          }
        },
        "63cebb2e2f494ce9af0738606011bf0a": {
          "model_module": "@jupyter-widgets/controls",
          "model_name": "HBoxModel",
          "model_module_version": "1.5.0",
          "state": {
            "_dom_classes": [],
            "_model_module": "@jupyter-widgets/controls",
            "_model_module_version": "1.5.0",
            "_model_name": "HBoxModel",
            "_view_count": null,
            "_view_module": "@jupyter-widgets/controls",
            "_view_module_version": "1.5.0",
            "_view_name": "HBoxView",
            "box_style": "",
            "children": [
              "IPY_MODEL_45e5c8014c9a4f118558e83c7553845b",
              "IPY_MODEL_e75e4280d23d459da896917233094abe",
              "IPY_MODEL_8e75c79638fb4509a3492c61869052a8"
            ],
            "layout": "IPY_MODEL_e4303049b9cd4304836c8bba54720f66"
          }
        },
        "45e5c8014c9a4f118558e83c7553845b": {
          "model_module": "@jupyter-widgets/controls",
          "model_name": "HTMLModel",
          "model_module_version": "1.5.0",
          "state": {
            "_dom_classes": [],
            "_model_module": "@jupyter-widgets/controls",
            "_model_module_version": "1.5.0",
            "_model_name": "HTMLModel",
            "_view_count": null,
            "_view_module": "@jupyter-widgets/controls",
            "_view_module_version": "1.5.0",
            "_view_name": "HTMLView",
            "description": "",
            "description_tooltip": null,
            "layout": "IPY_MODEL_b673eb71e70148799ea24c3633e3750e",
            "placeholder": "​",
            "style": "IPY_MODEL_1e654f3904724c54bf509627546035bd",
            "value": "generation_config.json: 100%"
          }
        },
        "e75e4280d23d459da896917233094abe": {
          "model_module": "@jupyter-widgets/controls",
          "model_name": "FloatProgressModel",
          "model_module_version": "1.5.0",
          "state": {
            "_dom_classes": [],
            "_model_module": "@jupyter-widgets/controls",
            "_model_module_version": "1.5.0",
            "_model_name": "FloatProgressModel",
            "_view_count": null,
            "_view_module": "@jupyter-widgets/controls",
            "_view_module_version": "1.5.0",
            "_view_name": "ProgressView",
            "bar_style": "success",
            "description": "",
            "description_tooltip": null,
            "layout": "IPY_MODEL_87840aa7870a4e8b9200d439508f9354",
            "max": 187,
            "min": 0,
            "orientation": "horizontal",
            "style": "IPY_MODEL_6633a423a3404a67bd7a059745c65759",
            "value": 187
          }
        },
        "8e75c79638fb4509a3492c61869052a8": {
          "model_module": "@jupyter-widgets/controls",
          "model_name": "HTMLModel",
          "model_module_version": "1.5.0",
          "state": {
            "_dom_classes": [],
            "_model_module": "@jupyter-widgets/controls",
            "_model_module_version": "1.5.0",
            "_model_name": "HTMLModel",
            "_view_count": null,
            "_view_module": "@jupyter-widgets/controls",
            "_view_module_version": "1.5.0",
            "_view_name": "HTMLView",
            "description": "",
            "description_tooltip": null,
            "layout": "IPY_MODEL_c15208a15b714c91b8fb2ba80276877a",
            "placeholder": "​",
            "style": "IPY_MODEL_6be3ee72fa1f4c2fb7f41c2ae6eefe64",
            "value": " 187/187 [00:00&lt;00:00, 4.61kB/s]"
          }
        },
        "e4303049b9cd4304836c8bba54720f66": {
          "model_module": "@jupyter-widgets/base",
          "model_name": "LayoutModel",
          "model_module_version": "1.2.0",
          "state": {
            "_model_module": "@jupyter-widgets/base",
            "_model_module_version": "1.2.0",
            "_model_name": "LayoutModel",
            "_view_count": null,
            "_view_module": "@jupyter-widgets/base",
            "_view_module_version": "1.2.0",
            "_view_name": "LayoutView",
            "align_content": null,
            "align_items": null,
            "align_self": null,
            "border": null,
            "bottom": null,
            "display": null,
            "flex": null,
            "flex_flow": null,
            "grid_area": null,
            "grid_auto_columns": null,
            "grid_auto_flow": null,
            "grid_auto_rows": null,
            "grid_column": null,
            "grid_gap": null,
            "grid_row": null,
            "grid_template_areas": null,
            "grid_template_columns": null,
            "grid_template_rows": null,
            "height": null,
            "justify_content": null,
            "justify_items": null,
            "left": null,
            "margin": null,
            "max_height": null,
            "max_width": null,
            "min_height": null,
            "min_width": null,
            "object_fit": null,
            "object_position": null,
            "order": null,
            "overflow": null,
            "overflow_x": null,
            "overflow_y": null,
            "padding": null,
            "right": null,
            "top": null,
            "visibility": null,
            "width": null
          }
        },
        "b673eb71e70148799ea24c3633e3750e": {
          "model_module": "@jupyter-widgets/base",
          "model_name": "LayoutModel",
          "model_module_version": "1.2.0",
          "state": {
            "_model_module": "@jupyter-widgets/base",
            "_model_module_version": "1.2.0",
            "_model_name": "LayoutModel",
            "_view_count": null,
            "_view_module": "@jupyter-widgets/base",
            "_view_module_version": "1.2.0",
            "_view_name": "LayoutView",
            "align_content": null,
            "align_items": null,
            "align_self": null,
            "border": null,
            "bottom": null,
            "display": null,
            "flex": null,
            "flex_flow": null,
            "grid_area": null,
            "grid_auto_columns": null,
            "grid_auto_flow": null,
            "grid_auto_rows": null,
            "grid_column": null,
            "grid_gap": null,
            "grid_row": null,
            "grid_template_areas": null,
            "grid_template_columns": null,
            "grid_template_rows": null,
            "height": null,
            "justify_content": null,
            "justify_items": null,
            "left": null,
            "margin": null,
            "max_height": null,
            "max_width": null,
            "min_height": null,
            "min_width": null,
            "object_fit": null,
            "object_position": null,
            "order": null,
            "overflow": null,
            "overflow_x": null,
            "overflow_y": null,
            "padding": null,
            "right": null,
            "top": null,
            "visibility": null,
            "width": null
          }
        },
        "1e654f3904724c54bf509627546035bd": {
          "model_module": "@jupyter-widgets/controls",
          "model_name": "DescriptionStyleModel",
          "model_module_version": "1.5.0",
          "state": {
            "_model_module": "@jupyter-widgets/controls",
            "_model_module_version": "1.5.0",
            "_model_name": "DescriptionStyleModel",
            "_view_count": null,
            "_view_module": "@jupyter-widgets/base",
            "_view_module_version": "1.2.0",
            "_view_name": "StyleView",
            "description_width": ""
          }
        },
        "87840aa7870a4e8b9200d439508f9354": {
          "model_module": "@jupyter-widgets/base",
          "model_name": "LayoutModel",
          "model_module_version": "1.2.0",
          "state": {
            "_model_module": "@jupyter-widgets/base",
            "_model_module_version": "1.2.0",
            "_model_name": "LayoutModel",
            "_view_count": null,
            "_view_module": "@jupyter-widgets/base",
            "_view_module_version": "1.2.0",
            "_view_name": "LayoutView",
            "align_content": null,
            "align_items": null,
            "align_self": null,
            "border": null,
            "bottom": null,
            "display": null,
            "flex": null,
            "flex_flow": null,
            "grid_area": null,
            "grid_auto_columns": null,
            "grid_auto_flow": null,
            "grid_auto_rows": null,
            "grid_column": null,
            "grid_gap": null,
            "grid_row": null,
            "grid_template_areas": null,
            "grid_template_columns": null,
            "grid_template_rows": null,
            "height": null,
            "justify_content": null,
            "justify_items": null,
            "left": null,
            "margin": null,
            "max_height": null,
            "max_width": null,
            "min_height": null,
            "min_width": null,
            "object_fit": null,
            "object_position": null,
            "order": null,
            "overflow": null,
            "overflow_x": null,
            "overflow_y": null,
            "padding": null,
            "right": null,
            "top": null,
            "visibility": null,
            "width": null
          }
        },
        "6633a423a3404a67bd7a059745c65759": {
          "model_module": "@jupyter-widgets/controls",
          "model_name": "ProgressStyleModel",
          "model_module_version": "1.5.0",
          "state": {
            "_model_module": "@jupyter-widgets/controls",
            "_model_module_version": "1.5.0",
            "_model_name": "ProgressStyleModel",
            "_view_count": null,
            "_view_module": "@jupyter-widgets/base",
            "_view_module_version": "1.2.0",
            "_view_name": "StyleView",
            "bar_color": null,
            "description_width": ""
          }
        },
        "c15208a15b714c91b8fb2ba80276877a": {
          "model_module": "@jupyter-widgets/base",
          "model_name": "LayoutModel",
          "model_module_version": "1.2.0",
          "state": {
            "_model_module": "@jupyter-widgets/base",
            "_model_module_version": "1.2.0",
            "_model_name": "LayoutModel",
            "_view_count": null,
            "_view_module": "@jupyter-widgets/base",
            "_view_module_version": "1.2.0",
            "_view_name": "LayoutView",
            "align_content": null,
            "align_items": null,
            "align_self": null,
            "border": null,
            "bottom": null,
            "display": null,
            "flex": null,
            "flex_flow": null,
            "grid_area": null,
            "grid_auto_columns": null,
            "grid_auto_flow": null,
            "grid_auto_rows": null,
            "grid_column": null,
            "grid_gap": null,
            "grid_row": null,
            "grid_template_areas": null,
            "grid_template_columns": null,
            "grid_template_rows": null,
            "height": null,
            "justify_content": null,
            "justify_items": null,
            "left": null,
            "margin": null,
            "max_height": null,
            "max_width": null,
            "min_height": null,
            "min_width": null,
            "object_fit": null,
            "object_position": null,
            "order": null,
            "overflow": null,
            "overflow_x": null,
            "overflow_y": null,
            "padding": null,
            "right": null,
            "top": null,
            "visibility": null,
            "width": null
          }
        },
        "6be3ee72fa1f4c2fb7f41c2ae6eefe64": {
          "model_module": "@jupyter-widgets/controls",
          "model_name": "DescriptionStyleModel",
          "model_module_version": "1.5.0",
          "state": {
            "_model_module": "@jupyter-widgets/controls",
            "_model_module_version": "1.5.0",
            "_model_name": "DescriptionStyleModel",
            "_view_count": null,
            "_view_module": "@jupyter-widgets/base",
            "_view_module_version": "1.2.0",
            "_view_name": "StyleView",
            "description_width": ""
          }
        },
        "8a1b9892708149c29e0a869bb28c522d": {
          "model_module": "@jupyter-widgets/controls",
          "model_name": "HBoxModel",
          "model_module_version": "1.5.0",
          "state": {
            "_dom_classes": [],
            "_model_module": "@jupyter-widgets/controls",
            "_model_module_version": "1.5.0",
            "_model_name": "HBoxModel",
            "_view_count": null,
            "_view_module": "@jupyter-widgets/controls",
            "_view_module_version": "1.5.0",
            "_view_name": "HBoxView",
            "box_style": "",
            "children": [
              "IPY_MODEL_02b1c47530124b0fbb056a63a09ed20c",
              "IPY_MODEL_2805d07603af4199bea2e7acc071f097",
              "IPY_MODEL_455d62ddd22b4447aa6863369736b53c"
            ],
            "layout": "IPY_MODEL_e4b2876a655e4b528758a6c571750774"
          }
        },
        "02b1c47530124b0fbb056a63a09ed20c": {
          "model_module": "@jupyter-widgets/controls",
          "model_name": "HTMLModel",
          "model_module_version": "1.5.0",
          "state": {
            "_dom_classes": [],
            "_model_module": "@jupyter-widgets/controls",
            "_model_module_version": "1.5.0",
            "_model_name": "HTMLModel",
            "_view_count": null,
            "_view_module": "@jupyter-widgets/controls",
            "_view_module_version": "1.5.0",
            "_view_name": "HTMLView",
            "description": "",
            "description_tooltip": null,
            "layout": "IPY_MODEL_ce1cc625ba1b42f1848fa0dce36886fa",
            "placeholder": "​",
            "style": "IPY_MODEL_21c0094351ca428fb1e4963f8d0ada4a",
            "value": "tokenizer_config.json: 100%"
          }
        },
        "2805d07603af4199bea2e7acc071f097": {
          "model_module": "@jupyter-widgets/controls",
          "model_name": "FloatProgressModel",
          "model_module_version": "1.5.0",
          "state": {
            "_dom_classes": [],
            "_model_module": "@jupyter-widgets/controls",
            "_model_module_version": "1.5.0",
            "_model_name": "FloatProgressModel",
            "_view_count": null,
            "_view_module": "@jupyter-widgets/controls",
            "_view_module_version": "1.5.0",
            "_view_name": "ProgressView",
            "bar_style": "success",
            "description": "",
            "description_tooltip": null,
            "layout": "IPY_MODEL_fcdbe956b4454649a47d0301185f20d3",
            "max": 50977,
            "min": 0,
            "orientation": "horizontal",
            "style": "IPY_MODEL_55fa4db10b104e508a4331fc7788a5bc",
            "value": 50977
          }
        },
        "455d62ddd22b4447aa6863369736b53c": {
          "model_module": "@jupyter-widgets/controls",
          "model_name": "HTMLModel",
          "model_module_version": "1.5.0",
          "state": {
            "_dom_classes": [],
            "_model_module": "@jupyter-widgets/controls",
            "_model_module_version": "1.5.0",
            "_model_name": "HTMLModel",
            "_view_count": null,
            "_view_module": "@jupyter-widgets/controls",
            "_view_module_version": "1.5.0",
            "_view_name": "HTMLView",
            "description": "",
            "description_tooltip": null,
            "layout": "IPY_MODEL_d672e13e40464ad5b9d6968f93c44e37",
            "placeholder": "​",
            "style": "IPY_MODEL_91576b38bc53412a9c5173980a0b9bb2",
            "value": " 51.0k/51.0k [00:00&lt;00:00, 1.32MB/s]"
          }
        },
        "e4b2876a655e4b528758a6c571750774": {
          "model_module": "@jupyter-widgets/base",
          "model_name": "LayoutModel",
          "model_module_version": "1.2.0",
          "state": {
            "_model_module": "@jupyter-widgets/base",
            "_model_module_version": "1.2.0",
            "_model_name": "LayoutModel",
            "_view_count": null,
            "_view_module": "@jupyter-widgets/base",
            "_view_module_version": "1.2.0",
            "_view_name": "LayoutView",
            "align_content": null,
            "align_items": null,
            "align_self": null,
            "border": null,
            "bottom": null,
            "display": null,
            "flex": null,
            "flex_flow": null,
            "grid_area": null,
            "grid_auto_columns": null,
            "grid_auto_flow": null,
            "grid_auto_rows": null,
            "grid_column": null,
            "grid_gap": null,
            "grid_row": null,
            "grid_template_areas": null,
            "grid_template_columns": null,
            "grid_template_rows": null,
            "height": null,
            "justify_content": null,
            "justify_items": null,
            "left": null,
            "margin": null,
            "max_height": null,
            "max_width": null,
            "min_height": null,
            "min_width": null,
            "object_fit": null,
            "object_position": null,
            "order": null,
            "overflow": null,
            "overflow_x": null,
            "overflow_y": null,
            "padding": null,
            "right": null,
            "top": null,
            "visibility": null,
            "width": null
          }
        },
        "ce1cc625ba1b42f1848fa0dce36886fa": {
          "model_module": "@jupyter-widgets/base",
          "model_name": "LayoutModel",
          "model_module_version": "1.2.0",
          "state": {
            "_model_module": "@jupyter-widgets/base",
            "_model_module_version": "1.2.0",
            "_model_name": "LayoutModel",
            "_view_count": null,
            "_view_module": "@jupyter-widgets/base",
            "_view_module_version": "1.2.0",
            "_view_name": "LayoutView",
            "align_content": null,
            "align_items": null,
            "align_self": null,
            "border": null,
            "bottom": null,
            "display": null,
            "flex": null,
            "flex_flow": null,
            "grid_area": null,
            "grid_auto_columns": null,
            "grid_auto_flow": null,
            "grid_auto_rows": null,
            "grid_column": null,
            "grid_gap": null,
            "grid_row": null,
            "grid_template_areas": null,
            "grid_template_columns": null,
            "grid_template_rows": null,
            "height": null,
            "justify_content": null,
            "justify_items": null,
            "left": null,
            "margin": null,
            "max_height": null,
            "max_width": null,
            "min_height": null,
            "min_width": null,
            "object_fit": null,
            "object_position": null,
            "order": null,
            "overflow": null,
            "overflow_x": null,
            "overflow_y": null,
            "padding": null,
            "right": null,
            "top": null,
            "visibility": null,
            "width": null
          }
        },
        "21c0094351ca428fb1e4963f8d0ada4a": {
          "model_module": "@jupyter-widgets/controls",
          "model_name": "DescriptionStyleModel",
          "model_module_version": "1.5.0",
          "state": {
            "_model_module": "@jupyter-widgets/controls",
            "_model_module_version": "1.5.0",
            "_model_name": "DescriptionStyleModel",
            "_view_count": null,
            "_view_module": "@jupyter-widgets/base",
            "_view_module_version": "1.2.0",
            "_view_name": "StyleView",
            "description_width": ""
          }
        },
        "fcdbe956b4454649a47d0301185f20d3": {
          "model_module": "@jupyter-widgets/base",
          "model_name": "LayoutModel",
          "model_module_version": "1.2.0",
          "state": {
            "_model_module": "@jupyter-widgets/base",
            "_model_module_version": "1.2.0",
            "_model_name": "LayoutModel",
            "_view_count": null,
            "_view_module": "@jupyter-widgets/base",
            "_view_module_version": "1.2.0",
            "_view_name": "LayoutView",
            "align_content": null,
            "align_items": null,
            "align_self": null,
            "border": null,
            "bottom": null,
            "display": null,
            "flex": null,
            "flex_flow": null,
            "grid_area": null,
            "grid_auto_columns": null,
            "grid_auto_flow": null,
            "grid_auto_rows": null,
            "grid_column": null,
            "grid_gap": null,
            "grid_row": null,
            "grid_template_areas": null,
            "grid_template_columns": null,
            "grid_template_rows": null,
            "height": null,
            "justify_content": null,
            "justify_items": null,
            "left": null,
            "margin": null,
            "max_height": null,
            "max_width": null,
            "min_height": null,
            "min_width": null,
            "object_fit": null,
            "object_position": null,
            "order": null,
            "overflow": null,
            "overflow_x": null,
            "overflow_y": null,
            "padding": null,
            "right": null,
            "top": null,
            "visibility": null,
            "width": null
          }
        },
        "55fa4db10b104e508a4331fc7788a5bc": {
          "model_module": "@jupyter-widgets/controls",
          "model_name": "ProgressStyleModel",
          "model_module_version": "1.5.0",
          "state": {
            "_model_module": "@jupyter-widgets/controls",
            "_model_module_version": "1.5.0",
            "_model_name": "ProgressStyleModel",
            "_view_count": null,
            "_view_module": "@jupyter-widgets/base",
            "_view_module_version": "1.2.0",
            "_view_name": "StyleView",
            "bar_color": null,
            "description_width": ""
          }
        },
        "d672e13e40464ad5b9d6968f93c44e37": {
          "model_module": "@jupyter-widgets/base",
          "model_name": "LayoutModel",
          "model_module_version": "1.2.0",
          "state": {
            "_model_module": "@jupyter-widgets/base",
            "_model_module_version": "1.2.0",
            "_model_name": "LayoutModel",
            "_view_count": null,
            "_view_module": "@jupyter-widgets/base",
            "_view_module_version": "1.2.0",
            "_view_name": "LayoutView",
            "align_content": null,
            "align_items": null,
            "align_self": null,
            "border": null,
            "bottom": null,
            "display": null,
            "flex": null,
            "flex_flow": null,
            "grid_area": null,
            "grid_auto_columns": null,
            "grid_auto_flow": null,
            "grid_auto_rows": null,
            "grid_column": null,
            "grid_gap": null,
            "grid_row": null,
            "grid_template_areas": null,
            "grid_template_columns": null,
            "grid_template_rows": null,
            "height": null,
            "justify_content": null,
            "justify_items": null,
            "left": null,
            "margin": null,
            "max_height": null,
            "max_width": null,
            "min_height": null,
            "min_width": null,
            "object_fit": null,
            "object_position": null,
            "order": null,
            "overflow": null,
            "overflow_x": null,
            "overflow_y": null,
            "padding": null,
            "right": null,
            "top": null,
            "visibility": null,
            "width": null
          }
        },
        "91576b38bc53412a9c5173980a0b9bb2": {
          "model_module": "@jupyter-widgets/controls",
          "model_name": "DescriptionStyleModel",
          "model_module_version": "1.5.0",
          "state": {
            "_model_module": "@jupyter-widgets/controls",
            "_model_module_version": "1.5.0",
            "_model_name": "DescriptionStyleModel",
            "_view_count": null,
            "_view_module": "@jupyter-widgets/base",
            "_view_module_version": "1.2.0",
            "_view_name": "StyleView",
            "description_width": ""
          }
        },
        "eec46630112f4680b69284ed87bacf76": {
          "model_module": "@jupyter-widgets/controls",
          "model_name": "HBoxModel",
          "model_module_version": "1.5.0",
          "state": {
            "_dom_classes": [],
            "_model_module": "@jupyter-widgets/controls",
            "_model_module_version": "1.5.0",
            "_model_name": "HBoxModel",
            "_view_count": null,
            "_view_module": "@jupyter-widgets/controls",
            "_view_module_version": "1.5.0",
            "_view_name": "HBoxView",
            "box_style": "",
            "children": [
              "IPY_MODEL_3a735c3b6ba8496fb7ee7d5494dcb418",
              "IPY_MODEL_4f877677c71e418da302a266c43ccfd7",
              "IPY_MODEL_ca5eee7d84b340258588b3ab79a7523c"
            ],
            "layout": "IPY_MODEL_6eddc075f5d3420293dfc83695342297"
          }
        },
        "3a735c3b6ba8496fb7ee7d5494dcb418": {
          "model_module": "@jupyter-widgets/controls",
          "model_name": "HTMLModel",
          "model_module_version": "1.5.0",
          "state": {
            "_dom_classes": [],
            "_model_module": "@jupyter-widgets/controls",
            "_model_module_version": "1.5.0",
            "_model_name": "HTMLModel",
            "_view_count": null,
            "_view_module": "@jupyter-widgets/controls",
            "_view_module_version": "1.5.0",
            "_view_name": "HTMLView",
            "description": "",
            "description_tooltip": null,
            "layout": "IPY_MODEL_a95d88cc7bfd4d5b8328eb9cd4069dc1",
            "placeholder": "​",
            "style": "IPY_MODEL_93f8d31e39ed4e28ababce77876f0084",
            "value": "tokenizer.json: 100%"
          }
        },
        "4f877677c71e418da302a266c43ccfd7": {
          "model_module": "@jupyter-widgets/controls",
          "model_name": "FloatProgressModel",
          "model_module_version": "1.5.0",
          "state": {
            "_dom_classes": [],
            "_model_module": "@jupyter-widgets/controls",
            "_model_module_version": "1.5.0",
            "_model_name": "FloatProgressModel",
            "_view_count": null,
            "_view_module": "@jupyter-widgets/controls",
            "_view_module_version": "1.5.0",
            "_view_name": "ProgressView",
            "bar_style": "success",
            "description": "",
            "description_tooltip": null,
            "layout": "IPY_MODEL_9fe46d555c074eecb9c2adad0cfb0fae",
            "max": 9085698,
            "min": 0,
            "orientation": "horizontal",
            "style": "IPY_MODEL_9f9d941f9ce046a99cd1852211a14ef4",
            "value": 9085698
          }
        },
        "ca5eee7d84b340258588b3ab79a7523c": {
          "model_module": "@jupyter-widgets/controls",
          "model_name": "HTMLModel",
          "model_module_version": "1.5.0",
          "state": {
            "_dom_classes": [],
            "_model_module": "@jupyter-widgets/controls",
            "_model_module_version": "1.5.0",
            "_model_name": "HTMLModel",
            "_view_count": null,
            "_view_module": "@jupyter-widgets/controls",
            "_view_module_version": "1.5.0",
            "_view_name": "HTMLView",
            "description": "",
            "description_tooltip": null,
            "layout": "IPY_MODEL_3999a8b6c819415991dd8892743d74c0",
            "placeholder": "​",
            "style": "IPY_MODEL_c8ea15f107234bd0b9e380e9dab276de",
            "value": " 9.09M/9.09M [00:00&lt;00:00, 19.6MB/s]"
          }
        },
        "6eddc075f5d3420293dfc83695342297": {
          "model_module": "@jupyter-widgets/base",
          "model_name": "LayoutModel",
          "model_module_version": "1.2.0",
          "state": {
            "_model_module": "@jupyter-widgets/base",
            "_model_module_version": "1.2.0",
            "_model_name": "LayoutModel",
            "_view_count": null,
            "_view_module": "@jupyter-widgets/base",
            "_view_module_version": "1.2.0",
            "_view_name": "LayoutView",
            "align_content": null,
            "align_items": null,
            "align_self": null,
            "border": null,
            "bottom": null,
            "display": null,
            "flex": null,
            "flex_flow": null,
            "grid_area": null,
            "grid_auto_columns": null,
            "grid_auto_flow": null,
            "grid_auto_rows": null,
            "grid_column": null,
            "grid_gap": null,
            "grid_row": null,
            "grid_template_areas": null,
            "grid_template_columns": null,
            "grid_template_rows": null,
            "height": null,
            "justify_content": null,
            "justify_items": null,
            "left": null,
            "margin": null,
            "max_height": null,
            "max_width": null,
            "min_height": null,
            "min_width": null,
            "object_fit": null,
            "object_position": null,
            "order": null,
            "overflow": null,
            "overflow_x": null,
            "overflow_y": null,
            "padding": null,
            "right": null,
            "top": null,
            "visibility": null,
            "width": null
          }
        },
        "a95d88cc7bfd4d5b8328eb9cd4069dc1": {
          "model_module": "@jupyter-widgets/base",
          "model_name": "LayoutModel",
          "model_module_version": "1.2.0",
          "state": {
            "_model_module": "@jupyter-widgets/base",
            "_model_module_version": "1.2.0",
            "_model_name": "LayoutModel",
            "_view_count": null,
            "_view_module": "@jupyter-widgets/base",
            "_view_module_version": "1.2.0",
            "_view_name": "LayoutView",
            "align_content": null,
            "align_items": null,
            "align_self": null,
            "border": null,
            "bottom": null,
            "display": null,
            "flex": null,
            "flex_flow": null,
            "grid_area": null,
            "grid_auto_columns": null,
            "grid_auto_flow": null,
            "grid_auto_rows": null,
            "grid_column": null,
            "grid_gap": null,
            "grid_row": null,
            "grid_template_areas": null,
            "grid_template_columns": null,
            "grid_template_rows": null,
            "height": null,
            "justify_content": null,
            "justify_items": null,
            "left": null,
            "margin": null,
            "max_height": null,
            "max_width": null,
            "min_height": null,
            "min_width": null,
            "object_fit": null,
            "object_position": null,
            "order": null,
            "overflow": null,
            "overflow_x": null,
            "overflow_y": null,
            "padding": null,
            "right": null,
            "top": null,
            "visibility": null,
            "width": null
          }
        },
        "93f8d31e39ed4e28ababce77876f0084": {
          "model_module": "@jupyter-widgets/controls",
          "model_name": "DescriptionStyleModel",
          "model_module_version": "1.5.0",
          "state": {
            "_model_module": "@jupyter-widgets/controls",
            "_model_module_version": "1.5.0",
            "_model_name": "DescriptionStyleModel",
            "_view_count": null,
            "_view_module": "@jupyter-widgets/base",
            "_view_module_version": "1.2.0",
            "_view_name": "StyleView",
            "description_width": ""
          }
        },
        "9fe46d555c074eecb9c2adad0cfb0fae": {
          "model_module": "@jupyter-widgets/base",
          "model_name": "LayoutModel",
          "model_module_version": "1.2.0",
          "state": {
            "_model_module": "@jupyter-widgets/base",
            "_model_module_version": "1.2.0",
            "_model_name": "LayoutModel",
            "_view_count": null,
            "_view_module": "@jupyter-widgets/base",
            "_view_module_version": "1.2.0",
            "_view_name": "LayoutView",
            "align_content": null,
            "align_items": null,
            "align_self": null,
            "border": null,
            "bottom": null,
            "display": null,
            "flex": null,
            "flex_flow": null,
            "grid_area": null,
            "grid_auto_columns": null,
            "grid_auto_flow": null,
            "grid_auto_rows": null,
            "grid_column": null,
            "grid_gap": null,
            "grid_row": null,
            "grid_template_areas": null,
            "grid_template_columns": null,
            "grid_template_rows": null,
            "height": null,
            "justify_content": null,
            "justify_items": null,
            "left": null,
            "margin": null,
            "max_height": null,
            "max_width": null,
            "min_height": null,
            "min_width": null,
            "object_fit": null,
            "object_position": null,
            "order": null,
            "overflow": null,
            "overflow_x": null,
            "overflow_y": null,
            "padding": null,
            "right": null,
            "top": null,
            "visibility": null,
            "width": null
          }
        },
        "9f9d941f9ce046a99cd1852211a14ef4": {
          "model_module": "@jupyter-widgets/controls",
          "model_name": "ProgressStyleModel",
          "model_module_version": "1.5.0",
          "state": {
            "_model_module": "@jupyter-widgets/controls",
            "_model_module_version": "1.5.0",
            "_model_name": "ProgressStyleModel",
            "_view_count": null,
            "_view_module": "@jupyter-widgets/base",
            "_view_module_version": "1.2.0",
            "_view_name": "StyleView",
            "bar_color": null,
            "description_width": ""
          }
        },
        "3999a8b6c819415991dd8892743d74c0": {
          "model_module": "@jupyter-widgets/base",
          "model_name": "LayoutModel",
          "model_module_version": "1.2.0",
          "state": {
            "_model_module": "@jupyter-widgets/base",
            "_model_module_version": "1.2.0",
            "_model_name": "LayoutModel",
            "_view_count": null,
            "_view_module": "@jupyter-widgets/base",
            "_view_module_version": "1.2.0",
            "_view_name": "LayoutView",
            "align_content": null,
            "align_items": null,
            "align_self": null,
            "border": null,
            "bottom": null,
            "display": null,
            "flex": null,
            "flex_flow": null,
            "grid_area": null,
            "grid_auto_columns": null,
            "grid_auto_flow": null,
            "grid_auto_rows": null,
            "grid_column": null,
            "grid_gap": null,
            "grid_row": null,
            "grid_template_areas": null,
            "grid_template_columns": null,
            "grid_template_rows": null,
            "height": null,
            "justify_content": null,
            "justify_items": null,
            "left": null,
            "margin": null,
            "max_height": null,
            "max_width": null,
            "min_height": null,
            "min_width": null,
            "object_fit": null,
            "object_position": null,
            "order": null,
            "overflow": null,
            "overflow_x": null,
            "overflow_y": null,
            "padding": null,
            "right": null,
            "top": null,
            "visibility": null,
            "width": null
          }
        },
        "c8ea15f107234bd0b9e380e9dab276de": {
          "model_module": "@jupyter-widgets/controls",
          "model_name": "DescriptionStyleModel",
          "model_module_version": "1.5.0",
          "state": {
            "_model_module": "@jupyter-widgets/controls",
            "_model_module_version": "1.5.0",
            "_model_name": "DescriptionStyleModel",
            "_view_count": null,
            "_view_module": "@jupyter-widgets/base",
            "_view_module_version": "1.2.0",
            "_view_name": "StyleView",
            "description_width": ""
          }
        },
        "8573d75afb774cde9bc53ccdde2a07eb": {
          "model_module": "@jupyter-widgets/controls",
          "model_name": "HBoxModel",
          "model_module_version": "1.5.0",
          "state": {
            "_dom_classes": [],
            "_model_module": "@jupyter-widgets/controls",
            "_model_module_version": "1.5.0",
            "_model_name": "HBoxModel",
            "_view_count": null,
            "_view_module": "@jupyter-widgets/controls",
            "_view_module_version": "1.5.0",
            "_view_name": "HBoxView",
            "box_style": "",
            "children": [
              "IPY_MODEL_8c0c253de57b4b0da474807e294563d3",
              "IPY_MODEL_c951ee96f03f455fac8cc2e81f6ca73f",
              "IPY_MODEL_62d2900eb0824899b4d4e9251c1bbbee"
            ],
            "layout": "IPY_MODEL_0e31ea82b0064c6fac0c95a24f089d53"
          }
        },
        "8c0c253de57b4b0da474807e294563d3": {
          "model_module": "@jupyter-widgets/controls",
          "model_name": "HTMLModel",
          "model_module_version": "1.5.0",
          "state": {
            "_dom_classes": [],
            "_model_module": "@jupyter-widgets/controls",
            "_model_module_version": "1.5.0",
            "_model_name": "HTMLModel",
            "_view_count": null,
            "_view_module": "@jupyter-widgets/controls",
            "_view_module_version": "1.5.0",
            "_view_name": "HTMLView",
            "description": "",
            "description_tooltip": null,
            "layout": "IPY_MODEL_ed9a1796b156471aa4ab92005f18f008",
            "placeholder": "​",
            "style": "IPY_MODEL_39fb206aed594a50896557646a8bf186",
            "value": "special_tokens_map.json: 100%"
          }
        },
        "c951ee96f03f455fac8cc2e81f6ca73f": {
          "model_module": "@jupyter-widgets/controls",
          "model_name": "FloatProgressModel",
          "model_module_version": "1.5.0",
          "state": {
            "_dom_classes": [],
            "_model_module": "@jupyter-widgets/controls",
            "_model_module_version": "1.5.0",
            "_model_name": "FloatProgressModel",
            "_view_count": null,
            "_view_module": "@jupyter-widgets/controls",
            "_view_module_version": "1.5.0",
            "_view_name": "ProgressView",
            "bar_style": "success",
            "description": "",
            "description_tooltip": null,
            "layout": "IPY_MODEL_1320daf96978444eb7849e524a4e1b63",
            "max": 73,
            "min": 0,
            "orientation": "horizontal",
            "style": "IPY_MODEL_e5b257ab9f2c4ef0b5bad952cc4e3945",
            "value": 73
          }
        },
        "62d2900eb0824899b4d4e9251c1bbbee": {
          "model_module": "@jupyter-widgets/controls",
          "model_name": "HTMLModel",
          "model_module_version": "1.5.0",
          "state": {
            "_dom_classes": [],
            "_model_module": "@jupyter-widgets/controls",
            "_model_module_version": "1.5.0",
            "_model_name": "HTMLModel",
            "_view_count": null,
            "_view_module": "@jupyter-widgets/controls",
            "_view_module_version": "1.5.0",
            "_view_name": "HTMLView",
            "description": "",
            "description_tooltip": null,
            "layout": "IPY_MODEL_fca07ae372bd4da6ad6f0576386f726c",
            "placeholder": "​",
            "style": "IPY_MODEL_c95c810709cf4e13a69a06018a86939d",
            "value": " 73.0/73.0 [00:00&lt;00:00, 2.09kB/s]"
          }
        },
        "0e31ea82b0064c6fac0c95a24f089d53": {
          "model_module": "@jupyter-widgets/base",
          "model_name": "LayoutModel",
          "model_module_version": "1.2.0",
          "state": {
            "_model_module": "@jupyter-widgets/base",
            "_model_module_version": "1.2.0",
            "_model_name": "LayoutModel",
            "_view_count": null,
            "_view_module": "@jupyter-widgets/base",
            "_view_module_version": "1.2.0",
            "_view_name": "LayoutView",
            "align_content": null,
            "align_items": null,
            "align_self": null,
            "border": null,
            "bottom": null,
            "display": null,
            "flex": null,
            "flex_flow": null,
            "grid_area": null,
            "grid_auto_columns": null,
            "grid_auto_flow": null,
            "grid_auto_rows": null,
            "grid_column": null,
            "grid_gap": null,
            "grid_row": null,
            "grid_template_areas": null,
            "grid_template_columns": null,
            "grid_template_rows": null,
            "height": null,
            "justify_content": null,
            "justify_items": null,
            "left": null,
            "margin": null,
            "max_height": null,
            "max_width": null,
            "min_height": null,
            "min_width": null,
            "object_fit": null,
            "object_position": null,
            "order": null,
            "overflow": null,
            "overflow_x": null,
            "overflow_y": null,
            "padding": null,
            "right": null,
            "top": null,
            "visibility": null,
            "width": null
          }
        },
        "ed9a1796b156471aa4ab92005f18f008": {
          "model_module": "@jupyter-widgets/base",
          "model_name": "LayoutModel",
          "model_module_version": "1.2.0",
          "state": {
            "_model_module": "@jupyter-widgets/base",
            "_model_module_version": "1.2.0",
            "_model_name": "LayoutModel",
            "_view_count": null,
            "_view_module": "@jupyter-widgets/base",
            "_view_module_version": "1.2.0",
            "_view_name": "LayoutView",
            "align_content": null,
            "align_items": null,
            "align_self": null,
            "border": null,
            "bottom": null,
            "display": null,
            "flex": null,
            "flex_flow": null,
            "grid_area": null,
            "grid_auto_columns": null,
            "grid_auto_flow": null,
            "grid_auto_rows": null,
            "grid_column": null,
            "grid_gap": null,
            "grid_row": null,
            "grid_template_areas": null,
            "grid_template_columns": null,
            "grid_template_rows": null,
            "height": null,
            "justify_content": null,
            "justify_items": null,
            "left": null,
            "margin": null,
            "max_height": null,
            "max_width": null,
            "min_height": null,
            "min_width": null,
            "object_fit": null,
            "object_position": null,
            "order": null,
            "overflow": null,
            "overflow_x": null,
            "overflow_y": null,
            "padding": null,
            "right": null,
            "top": null,
            "visibility": null,
            "width": null
          }
        },
        "39fb206aed594a50896557646a8bf186": {
          "model_module": "@jupyter-widgets/controls",
          "model_name": "DescriptionStyleModel",
          "model_module_version": "1.5.0",
          "state": {
            "_model_module": "@jupyter-widgets/controls",
            "_model_module_version": "1.5.0",
            "_model_name": "DescriptionStyleModel",
            "_view_count": null,
            "_view_module": "@jupyter-widgets/base",
            "_view_module_version": "1.2.0",
            "_view_name": "StyleView",
            "description_width": ""
          }
        },
        "1320daf96978444eb7849e524a4e1b63": {
          "model_module": "@jupyter-widgets/base",
          "model_name": "LayoutModel",
          "model_module_version": "1.2.0",
          "state": {
            "_model_module": "@jupyter-widgets/base",
            "_model_module_version": "1.2.0",
            "_model_name": "LayoutModel",
            "_view_count": null,
            "_view_module": "@jupyter-widgets/base",
            "_view_module_version": "1.2.0",
            "_view_name": "LayoutView",
            "align_content": null,
            "align_items": null,
            "align_self": null,
            "border": null,
            "bottom": null,
            "display": null,
            "flex": null,
            "flex_flow": null,
            "grid_area": null,
            "grid_auto_columns": null,
            "grid_auto_flow": null,
            "grid_auto_rows": null,
            "grid_column": null,
            "grid_gap": null,
            "grid_row": null,
            "grid_template_areas": null,
            "grid_template_columns": null,
            "grid_template_rows": null,
            "height": null,
            "justify_content": null,
            "justify_items": null,
            "left": null,
            "margin": null,
            "max_height": null,
            "max_width": null,
            "min_height": null,
            "min_width": null,
            "object_fit": null,
            "object_position": null,
            "order": null,
            "overflow": null,
            "overflow_x": null,
            "overflow_y": null,
            "padding": null,
            "right": null,
            "top": null,
            "visibility": null,
            "width": null
          }
        },
        "e5b257ab9f2c4ef0b5bad952cc4e3945": {
          "model_module": "@jupyter-widgets/controls",
          "model_name": "ProgressStyleModel",
          "model_module_version": "1.5.0",
          "state": {
            "_model_module": "@jupyter-widgets/controls",
            "_model_module_version": "1.5.0",
            "_model_name": "ProgressStyleModel",
            "_view_count": null,
            "_view_module": "@jupyter-widgets/base",
            "_view_module_version": "1.2.0",
            "_view_name": "StyleView",
            "bar_color": null,
            "description_width": ""
          }
        },
        "fca07ae372bd4da6ad6f0576386f726c": {
          "model_module": "@jupyter-widgets/base",
          "model_name": "LayoutModel",
          "model_module_version": "1.2.0",
          "state": {
            "_model_module": "@jupyter-widgets/base",
            "_model_module_version": "1.2.0",
            "_model_name": "LayoutModel",
            "_view_count": null,
            "_view_module": "@jupyter-widgets/base",
            "_view_module_version": "1.2.0",
            "_view_name": "LayoutView",
            "align_content": null,
            "align_items": null,
            "align_self": null,
            "border": null,
            "bottom": null,
            "display": null,
            "flex": null,
            "flex_flow": null,
            "grid_area": null,
            "grid_auto_columns": null,
            "grid_auto_flow": null,
            "grid_auto_rows": null,
            "grid_column": null,
            "grid_gap": null,
            "grid_row": null,
            "grid_template_areas": null,
            "grid_template_columns": null,
            "grid_template_rows": null,
            "height": null,
            "justify_content": null,
            "justify_items": null,
            "left": null,
            "margin": null,
            "max_height": null,
            "max_width": null,
            "min_height": null,
            "min_width": null,
            "object_fit": null,
            "object_position": null,
            "order": null,
            "overflow": null,
            "overflow_x": null,
            "overflow_y": null,
            "padding": null,
            "right": null,
            "top": null,
            "visibility": null,
            "width": null
          }
        },
        "c95c810709cf4e13a69a06018a86939d": {
          "model_module": "@jupyter-widgets/controls",
          "model_name": "DescriptionStyleModel",
          "model_module_version": "1.5.0",
          "state": {
            "_model_module": "@jupyter-widgets/controls",
            "_model_module_version": "1.5.0",
            "_model_name": "DescriptionStyleModel",
            "_view_count": null,
            "_view_module": "@jupyter-widgets/base",
            "_view_module_version": "1.2.0",
            "_view_name": "StyleView",
            "description_width": ""
          }
        },
        "ff3c52ccd86145e7bcf84e01e7c296f2": {
          "model_module": "@jupyter-widgets/controls",
          "model_name": "VBoxModel",
          "model_module_version": "1.5.0",
          "state": {
            "_dom_classes": [],
            "_model_module": "@jupyter-widgets/controls",
            "_model_module_version": "1.5.0",
            "_model_name": "VBoxModel",
            "_view_count": null,
            "_view_module": "@jupyter-widgets/controls",
            "_view_module_version": "1.5.0",
            "_view_name": "VBoxView",
            "box_style": "",
            "children": [],
            "layout": "IPY_MODEL_bfab83aa32004a1f81ae70c9748eb364"
          }
        },
        "566774633d9f4610a4d36ca5ce4f1334": {
          "model_module": "@jupyter-widgets/controls",
          "model_name": "HTMLModel",
          "model_module_version": "1.5.0",
          "state": {
            "_dom_classes": [],
            "_model_module": "@jupyter-widgets/controls",
            "_model_module_version": "1.5.0",
            "_model_name": "HTMLModel",
            "_view_count": null,
            "_view_module": "@jupyter-widgets/controls",
            "_view_module_version": "1.5.0",
            "_view_name": "HTMLView",
            "description": "",
            "description_tooltip": null,
            "layout": "IPY_MODEL_9a18b436fd9d464b97ab8dd42b34ddb9",
            "placeholder": "​",
            "style": "IPY_MODEL_d256e54decec44e4a01d8e0bb005a10e",
            "value": "<center> <img\nsrc=https://huggingface.co/front/assets/huggingface_logo-noborder.svg\nalt='Hugging Face'> <br> Copy a token from <a\nhref=\"https://huggingface.co/settings/tokens\" target=\"_blank\">your Hugging Face\ntokens page</a> and paste it below. <br> Immediately click login after copying\nyour token or it might be stored in plain text in this notebook file. </center>"
          }
        },
        "411df566d09145c4afedbf8fb3183eaa": {
          "model_module": "@jupyter-widgets/controls",
          "model_name": "PasswordModel",
          "model_module_version": "1.5.0",
          "state": {
            "_dom_classes": [],
            "_model_module": "@jupyter-widgets/controls",
            "_model_module_version": "1.5.0",
            "_model_name": "PasswordModel",
            "_view_count": null,
            "_view_module": "@jupyter-widgets/controls",
            "_view_module_version": "1.5.0",
            "_view_name": "PasswordView",
            "continuous_update": true,
            "description": "Token:",
            "description_tooltip": null,
            "disabled": false,
            "layout": "IPY_MODEL_4167cb18af824c8db3542cc01abda46d",
            "placeholder": "​",
            "style": "IPY_MODEL_0b0d841d3c5d428e816b948109548355",
            "value": ""
          }
        },
        "5e3dafdca8824d2cb85e501eae421004": {
          "model_module": "@jupyter-widgets/controls",
          "model_name": "CheckboxModel",
          "model_module_version": "1.5.0",
          "state": {
            "_dom_classes": [],
            "_model_module": "@jupyter-widgets/controls",
            "_model_module_version": "1.5.0",
            "_model_name": "CheckboxModel",
            "_view_count": null,
            "_view_module": "@jupyter-widgets/controls",
            "_view_module_version": "1.5.0",
            "_view_name": "CheckboxView",
            "description": "Add token as git credential?",
            "description_tooltip": null,
            "disabled": false,
            "indent": true,
            "layout": "IPY_MODEL_788a4e1b240d4cb69b0eef9ae7475189",
            "style": "IPY_MODEL_de4b5b03c3aa428180863956240cb3e6",
            "value": true
          }
        },
        "9b442c139ae84de5a3ce6f6495561d7b": {
          "model_module": "@jupyter-widgets/controls",
          "model_name": "ButtonModel",
          "model_module_version": "1.5.0",
          "state": {
            "_dom_classes": [],
            "_model_module": "@jupyter-widgets/controls",
            "_model_module_version": "1.5.0",
            "_model_name": "ButtonModel",
            "_view_count": null,
            "_view_module": "@jupyter-widgets/controls",
            "_view_module_version": "1.5.0",
            "_view_name": "ButtonView",
            "button_style": "",
            "description": "Login",
            "disabled": false,
            "icon": "",
            "layout": "IPY_MODEL_b2805c58dbb842759fb104b380d3216c",
            "style": "IPY_MODEL_9da5d1bc57bd4291b99f9830f495d1a3",
            "tooltip": ""
          }
        },
        "a27a12079d44459bbacdd5b93a2092c9": {
          "model_module": "@jupyter-widgets/controls",
          "model_name": "HTMLModel",
          "model_module_version": "1.5.0",
          "state": {
            "_dom_classes": [],
            "_model_module": "@jupyter-widgets/controls",
            "_model_module_version": "1.5.0",
            "_model_name": "HTMLModel",
            "_view_count": null,
            "_view_module": "@jupyter-widgets/controls",
            "_view_module_version": "1.5.0",
            "_view_name": "HTMLView",
            "description": "",
            "description_tooltip": null,
            "layout": "IPY_MODEL_ddf1e6378d8b45a2be4c1b1b41fa7a7d",
            "placeholder": "​",
            "style": "IPY_MODEL_a04136e7ab3f459d80fc8bd49891cbe0",
            "value": "\n<b>Pro Tip:</b> If you don't already have one, you can create a dedicated\n'notebooks' token with 'write' access, that you can then easily reuse for all\nnotebooks. </center>"
          }
        },
        "bfab83aa32004a1f81ae70c9748eb364": {
          "model_module": "@jupyter-widgets/base",
          "model_name": "LayoutModel",
          "model_module_version": "1.2.0",
          "state": {
            "_model_module": "@jupyter-widgets/base",
            "_model_module_version": "1.2.0",
            "_model_name": "LayoutModel",
            "_view_count": null,
            "_view_module": "@jupyter-widgets/base",
            "_view_module_version": "1.2.0",
            "_view_name": "LayoutView",
            "align_content": null,
            "align_items": "center",
            "align_self": null,
            "border": null,
            "bottom": null,
            "display": "flex",
            "flex": null,
            "flex_flow": "column",
            "grid_area": null,
            "grid_auto_columns": null,
            "grid_auto_flow": null,
            "grid_auto_rows": null,
            "grid_column": null,
            "grid_gap": null,
            "grid_row": null,
            "grid_template_areas": null,
            "grid_template_columns": null,
            "grid_template_rows": null,
            "height": null,
            "justify_content": null,
            "justify_items": null,
            "left": null,
            "margin": null,
            "max_height": null,
            "max_width": null,
            "min_height": null,
            "min_width": null,
            "object_fit": null,
            "object_position": null,
            "order": null,
            "overflow": null,
            "overflow_x": null,
            "overflow_y": null,
            "padding": null,
            "right": null,
            "top": null,
            "visibility": null,
            "width": "50%"
          }
        },
        "9a18b436fd9d464b97ab8dd42b34ddb9": {
          "model_module": "@jupyter-widgets/base",
          "model_name": "LayoutModel",
          "model_module_version": "1.2.0",
          "state": {
            "_model_module": "@jupyter-widgets/base",
            "_model_module_version": "1.2.0",
            "_model_name": "LayoutModel",
            "_view_count": null,
            "_view_module": "@jupyter-widgets/base",
            "_view_module_version": "1.2.0",
            "_view_name": "LayoutView",
            "align_content": null,
            "align_items": null,
            "align_self": null,
            "border": null,
            "bottom": null,
            "display": null,
            "flex": null,
            "flex_flow": null,
            "grid_area": null,
            "grid_auto_columns": null,
            "grid_auto_flow": null,
            "grid_auto_rows": null,
            "grid_column": null,
            "grid_gap": null,
            "grid_row": null,
            "grid_template_areas": null,
            "grid_template_columns": null,
            "grid_template_rows": null,
            "height": null,
            "justify_content": null,
            "justify_items": null,
            "left": null,
            "margin": null,
            "max_height": null,
            "max_width": null,
            "min_height": null,
            "min_width": null,
            "object_fit": null,
            "object_position": null,
            "order": null,
            "overflow": null,
            "overflow_x": null,
            "overflow_y": null,
            "padding": null,
            "right": null,
            "top": null,
            "visibility": null,
            "width": null
          }
        },
        "d256e54decec44e4a01d8e0bb005a10e": {
          "model_module": "@jupyter-widgets/controls",
          "model_name": "DescriptionStyleModel",
          "model_module_version": "1.5.0",
          "state": {
            "_model_module": "@jupyter-widgets/controls",
            "_model_module_version": "1.5.0",
            "_model_name": "DescriptionStyleModel",
            "_view_count": null,
            "_view_module": "@jupyter-widgets/base",
            "_view_module_version": "1.2.0",
            "_view_name": "StyleView",
            "description_width": ""
          }
        },
        "4167cb18af824c8db3542cc01abda46d": {
          "model_module": "@jupyter-widgets/base",
          "model_name": "LayoutModel",
          "model_module_version": "1.2.0",
          "state": {
            "_model_module": "@jupyter-widgets/base",
            "_model_module_version": "1.2.0",
            "_model_name": "LayoutModel",
            "_view_count": null,
            "_view_module": "@jupyter-widgets/base",
            "_view_module_version": "1.2.0",
            "_view_name": "LayoutView",
            "align_content": null,
            "align_items": null,
            "align_self": null,
            "border": null,
            "bottom": null,
            "display": null,
            "flex": null,
            "flex_flow": null,
            "grid_area": null,
            "grid_auto_columns": null,
            "grid_auto_flow": null,
            "grid_auto_rows": null,
            "grid_column": null,
            "grid_gap": null,
            "grid_row": null,
            "grid_template_areas": null,
            "grid_template_columns": null,
            "grid_template_rows": null,
            "height": null,
            "justify_content": null,
            "justify_items": null,
            "left": null,
            "margin": null,
            "max_height": null,
            "max_width": null,
            "min_height": null,
            "min_width": null,
            "object_fit": null,
            "object_position": null,
            "order": null,
            "overflow": null,
            "overflow_x": null,
            "overflow_y": null,
            "padding": null,
            "right": null,
            "top": null,
            "visibility": null,
            "width": null
          }
        },
        "0b0d841d3c5d428e816b948109548355": {
          "model_module": "@jupyter-widgets/controls",
          "model_name": "DescriptionStyleModel",
          "model_module_version": "1.5.0",
          "state": {
            "_model_module": "@jupyter-widgets/controls",
            "_model_module_version": "1.5.0",
            "_model_name": "DescriptionStyleModel",
            "_view_count": null,
            "_view_module": "@jupyter-widgets/base",
            "_view_module_version": "1.2.0",
            "_view_name": "StyleView",
            "description_width": ""
          }
        },
        "788a4e1b240d4cb69b0eef9ae7475189": {
          "model_module": "@jupyter-widgets/base",
          "model_name": "LayoutModel",
          "model_module_version": "1.2.0",
          "state": {
            "_model_module": "@jupyter-widgets/base",
            "_model_module_version": "1.2.0",
            "_model_name": "LayoutModel",
            "_view_count": null,
            "_view_module": "@jupyter-widgets/base",
            "_view_module_version": "1.2.0",
            "_view_name": "LayoutView",
            "align_content": null,
            "align_items": null,
            "align_self": null,
            "border": null,
            "bottom": null,
            "display": null,
            "flex": null,
            "flex_flow": null,
            "grid_area": null,
            "grid_auto_columns": null,
            "grid_auto_flow": null,
            "grid_auto_rows": null,
            "grid_column": null,
            "grid_gap": null,
            "grid_row": null,
            "grid_template_areas": null,
            "grid_template_columns": null,
            "grid_template_rows": null,
            "height": null,
            "justify_content": null,
            "justify_items": null,
            "left": null,
            "margin": null,
            "max_height": null,
            "max_width": null,
            "min_height": null,
            "min_width": null,
            "object_fit": null,
            "object_position": null,
            "order": null,
            "overflow": null,
            "overflow_x": null,
            "overflow_y": null,
            "padding": null,
            "right": null,
            "top": null,
            "visibility": null,
            "width": null
          }
        },
        "de4b5b03c3aa428180863956240cb3e6": {
          "model_module": "@jupyter-widgets/controls",
          "model_name": "DescriptionStyleModel",
          "model_module_version": "1.5.0",
          "state": {
            "_model_module": "@jupyter-widgets/controls",
            "_model_module_version": "1.5.0",
            "_model_name": "DescriptionStyleModel",
            "_view_count": null,
            "_view_module": "@jupyter-widgets/base",
            "_view_module_version": "1.2.0",
            "_view_name": "StyleView",
            "description_width": ""
          }
        },
        "b2805c58dbb842759fb104b380d3216c": {
          "model_module": "@jupyter-widgets/base",
          "model_name": "LayoutModel",
          "model_module_version": "1.2.0",
          "state": {
            "_model_module": "@jupyter-widgets/base",
            "_model_module_version": "1.2.0",
            "_model_name": "LayoutModel",
            "_view_count": null,
            "_view_module": "@jupyter-widgets/base",
            "_view_module_version": "1.2.0",
            "_view_name": "LayoutView",
            "align_content": null,
            "align_items": null,
            "align_self": null,
            "border": null,
            "bottom": null,
            "display": null,
            "flex": null,
            "flex_flow": null,
            "grid_area": null,
            "grid_auto_columns": null,
            "grid_auto_flow": null,
            "grid_auto_rows": null,
            "grid_column": null,
            "grid_gap": null,
            "grid_row": null,
            "grid_template_areas": null,
            "grid_template_columns": null,
            "grid_template_rows": null,
            "height": null,
            "justify_content": null,
            "justify_items": null,
            "left": null,
            "margin": null,
            "max_height": null,
            "max_width": null,
            "min_height": null,
            "min_width": null,
            "object_fit": null,
            "object_position": null,
            "order": null,
            "overflow": null,
            "overflow_x": null,
            "overflow_y": null,
            "padding": null,
            "right": null,
            "top": null,
            "visibility": null,
            "width": null
          }
        },
        "9da5d1bc57bd4291b99f9830f495d1a3": {
          "model_module": "@jupyter-widgets/controls",
          "model_name": "ButtonStyleModel",
          "model_module_version": "1.5.0",
          "state": {
            "_model_module": "@jupyter-widgets/controls",
            "_model_module_version": "1.5.0",
            "_model_name": "ButtonStyleModel",
            "_view_count": null,
            "_view_module": "@jupyter-widgets/base",
            "_view_module_version": "1.2.0",
            "_view_name": "StyleView",
            "button_color": null,
            "font_weight": ""
          }
        },
        "ddf1e6378d8b45a2be4c1b1b41fa7a7d": {
          "model_module": "@jupyter-widgets/base",
          "model_name": "LayoutModel",
          "model_module_version": "1.2.0",
          "state": {
            "_model_module": "@jupyter-widgets/base",
            "_model_module_version": "1.2.0",
            "_model_name": "LayoutModel",
            "_view_count": null,
            "_view_module": "@jupyter-widgets/base",
            "_view_module_version": "1.2.0",
            "_view_name": "LayoutView",
            "align_content": null,
            "align_items": null,
            "align_self": null,
            "border": null,
            "bottom": null,
            "display": null,
            "flex": null,
            "flex_flow": null,
            "grid_area": null,
            "grid_auto_columns": null,
            "grid_auto_flow": null,
            "grid_auto_rows": null,
            "grid_column": null,
            "grid_gap": null,
            "grid_row": null,
            "grid_template_areas": null,
            "grid_template_columns": null,
            "grid_template_rows": null,
            "height": null,
            "justify_content": null,
            "justify_items": null,
            "left": null,
            "margin": null,
            "max_height": null,
            "max_width": null,
            "min_height": null,
            "min_width": null,
            "object_fit": null,
            "object_position": null,
            "order": null,
            "overflow": null,
            "overflow_x": null,
            "overflow_y": null,
            "padding": null,
            "right": null,
            "top": null,
            "visibility": null,
            "width": null
          }
        },
        "a04136e7ab3f459d80fc8bd49891cbe0": {
          "model_module": "@jupyter-widgets/controls",
          "model_name": "DescriptionStyleModel",
          "model_module_version": "1.5.0",
          "state": {
            "_model_module": "@jupyter-widgets/controls",
            "_model_module_version": "1.5.0",
            "_model_name": "DescriptionStyleModel",
            "_view_count": null,
            "_view_module": "@jupyter-widgets/base",
            "_view_module_version": "1.2.0",
            "_view_name": "StyleView",
            "description_width": ""
          }
        },
        "161d26b235d14a32b025fad7abb6a984": {
          "model_module": "@jupyter-widgets/controls",
          "model_name": "LabelModel",
          "model_module_version": "1.5.0",
          "state": {
            "_dom_classes": [],
            "_model_module": "@jupyter-widgets/controls",
            "_model_module_version": "1.5.0",
            "_model_name": "LabelModel",
            "_view_count": null,
            "_view_module": "@jupyter-widgets/controls",
            "_view_module_version": "1.5.0",
            "_view_name": "LabelView",
            "description": "",
            "description_tooltip": null,
            "layout": "IPY_MODEL_d268162ed0d74866b41e210c70d8eaff",
            "placeholder": "​",
            "style": "IPY_MODEL_334390586afc4fa68c72fff74390329b",
            "value": "Connecting..."
          }
        },
        "d268162ed0d74866b41e210c70d8eaff": {
          "model_module": "@jupyter-widgets/base",
          "model_name": "LayoutModel",
          "model_module_version": "1.2.0",
          "state": {
            "_model_module": "@jupyter-widgets/base",
            "_model_module_version": "1.2.0",
            "_model_name": "LayoutModel",
            "_view_count": null,
            "_view_module": "@jupyter-widgets/base",
            "_view_module_version": "1.2.0",
            "_view_name": "LayoutView",
            "align_content": null,
            "align_items": null,
            "align_self": null,
            "border": null,
            "bottom": null,
            "display": null,
            "flex": null,
            "flex_flow": null,
            "grid_area": null,
            "grid_auto_columns": null,
            "grid_auto_flow": null,
            "grid_auto_rows": null,
            "grid_column": null,
            "grid_gap": null,
            "grid_row": null,
            "grid_template_areas": null,
            "grid_template_columns": null,
            "grid_template_rows": null,
            "height": null,
            "justify_content": null,
            "justify_items": null,
            "left": null,
            "margin": null,
            "max_height": null,
            "max_width": null,
            "min_height": null,
            "min_width": null,
            "object_fit": null,
            "object_position": null,
            "order": null,
            "overflow": null,
            "overflow_x": null,
            "overflow_y": null,
            "padding": null,
            "right": null,
            "top": null,
            "visibility": null,
            "width": null
          }
        },
        "334390586afc4fa68c72fff74390329b": {
          "model_module": "@jupyter-widgets/controls",
          "model_name": "DescriptionStyleModel",
          "model_module_version": "1.5.0",
          "state": {
            "_model_module": "@jupyter-widgets/controls",
            "_model_module_version": "1.5.0",
            "_model_name": "DescriptionStyleModel",
            "_view_count": null,
            "_view_module": "@jupyter-widgets/base",
            "_view_module_version": "1.2.0",
            "_view_name": "StyleView",
            "description_width": ""
          }
        }
      }
    }
  },
  "cells": [
    {
      "cell_type": "markdown",
      "source": [
        "RAG Configuration in this notebook:\n",
        "\n",
        "Embedding model: thenlper/gte-base\n",
        "\n",
        "parent_splitter = chunk_size=1000,chunk_overlap=100\n",
        "\n",
        "child_splitter = chunk_size=200,chunk_overlap=20\n",
        "\n",
        "\n",
        "Generation Model: llama-3-8B-Instruct\n",
        "\n",
        "Retriever: ParentChildRetriever\n",
        "\n",
        "Embedding Size: 768"
      ],
      "metadata": {
        "id": "xQvgBYBjm2oq"
      }
    },
    {
      "cell_type": "code",
      "source": [
        "import pickle\n",
        "from pinecone import Pinecone, ServerlessSpec\n",
        "import getpass\n",
        "import os\n",
        "import time\n",
        "from transformers import AutoTokenizer, AutoModelForCausalLM\n",
        "from langchain.embeddings import HuggingFaceEmbeddings\n",
        "from langchain.vectorstores import Pinecone\n",
        "from langchain.chains import RetrievalQA\n",
        "from langchain.prompts import PromptTemplate\n",
        "import pinecone\n",
        "import torch\n",
        "from langchain.text_splitter import RecursiveCharacterTextSplitter\n",
        "from pinecone import Index\n",
        "from langchain_pinecone import PineconeVectorStore\n",
        "from transformers import BitsAndBytesConfig\n",
        "import bitsandbytes\n",
        "from langchain.llms import HuggingFacePipeline\n",
        "from transformers import pipeline\n",
        "from tqdm import tqdm\n",
        "from langchain.prompts import PromptTemplate\n",
        "from langchain.text_splitter import RecursiveCharacterTextSplitter\n",
        "from langchain.storage import InMemoryStore\n",
        "import json\n",
        "from langchain.storage._lc_store import create_kv_docstore\n",
        "import re\n"
      ],
      "metadata": {
        "id": "2L1Tp7p2luiI"
      },
      "execution_count": null,
      "outputs": []
    },
    {
      "cell_type": "code",
      "source": [
        "if not os.getenv(\"PINECONE_API_KEY\"):\n",
        "    os.environ[\"PINECONE_API_KEY\"] = getpass.getpass(\"Enter your Pinecone API key: \")\n",
        "\n",
        "pinecone_api_key = os.environ.get(\"PINECONE_API_KEY\")\n",
        "\n",
        "pc = Pinecone(api_key=pinecone_api_key)\n",
        "#pcsk_zaxjG_6efuvnfQGiuFKbKtKPfgtFvdHu1CEkoCwQEEsBDS8HC84mh5VRvmQREvnr4oF7N"
      ],
      "metadata": {
        "colab": {
          "base_uri": "https://localhost:8080/"
        },
        "id": "wELTlyReMm-I",
        "outputId": "6d2666a6-fb3b-4300-a473-f6e945741605"
      },
      "execution_count": 2,
      "outputs": [
        {
          "name": "stdout",
          "output_type": "stream",
          "text": [
            "Enter your Pinecone API key: ··········\n"
          ]
        }
      ]
    },
    {
      "cell_type": "code",
      "source": [
        "# Embedding model\n",
        "model_name = \"thenlper/gte-base\"\n",
        "model_kwargs = {\"device\": \"cuda\" if torch.cuda.is_available() else \"cpu\"}\n",
        "encode_kwargs = {\"normalize_embeddings\": False}\n",
        "hf_embeddings = HuggingFaceEmbeddings(\n",
        "    model_name=model_name, model_kwargs=model_kwargs, encode_kwargs=encode_kwargs\n",
        ")"
      ],
      "metadata": {
        "colab": {
          "base_uri": "https://localhost:8080/"
        },
        "outputId": "0e2a89b7-b52a-478a-bd92-0002bf79c344",
        "id": "VnLzuWe-7gdu"
      },
      "execution_count": null,
      "outputs": [
        {
          "output_type": "stream",
          "name": "stderr",
          "text": [
            "<ipython-input-6-1b00d0fc66cd>:8: LangChainDeprecationWarning: The class `HuggingFaceEmbeddings` was deprecated in LangChain 0.2.2 and will be removed in 1.0. An updated version of the class exists in the :class:`~langchain-huggingface package and should be used instead. To use it run `pip install -U :class:`~langchain-huggingface` and import as `from :class:`~langchain_huggingface import HuggingFaceEmbeddings``.\n",
            "  hf_embeddings = HuggingFaceEmbeddings(\n",
            "/usr/local/lib/python3.10/dist-packages/huggingface_hub/utils/_auth.py:94: UserWarning: \n",
            "The secret `HF_TOKEN` does not exist in your Colab secrets.\n",
            "To authenticate with the Hugging Face Hub, create a token in your settings tab (https://huggingface.co/settings/tokens), set it as secret in your Google Colab and restart your session.\n",
            "You will be able to reuse this secret in all of your notebooks.\n",
            "Please note that authentication is recommended but still optional to access public models or datasets.\n",
            "  warnings.warn(\n"
          ]
        }
      ]
    },
    {
      "cell_type": "code",
      "source": [
        "!pip install -U bitsandbytes"
      ],
      "metadata": {
        "colab": {
          "base_uri": "https://localhost:8080/"
        },
        "outputId": "537f5d0b-9a82-4fd1-a016-22bb6ae90219",
        "id": "YPDyPWz6Eb2v"
      },
      "execution_count": null,
      "outputs": [
        {
          "output_type": "stream",
          "name": "stdout",
          "text": [
            "Requirement already satisfied: bitsandbytes in /usr/local/lib/python3.10/dist-packages (0.45.0)\n",
            "Requirement already satisfied: torch in /usr/local/lib/python3.10/dist-packages (from bitsandbytes) (2.5.1+cu121)\n",
            "Requirement already satisfied: numpy in /usr/local/lib/python3.10/dist-packages (from bitsandbytes) (1.26.4)\n",
            "Requirement already satisfied: typing_extensions>=4.8.0 in /usr/local/lib/python3.10/dist-packages (from bitsandbytes) (4.12.2)\n",
            "Requirement already satisfied: filelock in /usr/local/lib/python3.10/dist-packages (from torch->bitsandbytes) (3.16.1)\n",
            "Requirement already satisfied: networkx in /usr/local/lib/python3.10/dist-packages (from torch->bitsandbytes) (3.4.2)\n",
            "Requirement already satisfied: jinja2 in /usr/local/lib/python3.10/dist-packages (from torch->bitsandbytes) (3.1.4)\n",
            "Requirement already satisfied: fsspec in /usr/local/lib/python3.10/dist-packages (from torch->bitsandbytes) (2024.10.0)\n",
            "Requirement already satisfied: sympy==1.13.1 in /usr/local/lib/python3.10/dist-packages (from torch->bitsandbytes) (1.13.1)\n",
            "Requirement already satisfied: mpmath<1.4,>=1.1.0 in /usr/local/lib/python3.10/dist-packages (from sympy==1.13.1->torch->bitsandbytes) (1.3.0)\n",
            "Requirement already satisfied: MarkupSafe>=2.0 in /usr/local/lib/python3.10/dist-packages (from jinja2->torch->bitsandbytes) (3.0.2)\n"
          ]
        }
      ]
    },
    {
      "cell_type": "code",
      "source": [
        "bnb_config = BitsAndBytesConfig(load_in_4bit=True, bnb_4bit_compute_dtype=torch.float16)\n",
        "\n",
        "llm_model = AutoModelForCausalLM.from_pretrained(\"meta-llama/Meta-Llama-3-8B-Instruct\", quantization_config=bnb_config)\n",
        "llm_tokenizer = AutoTokenizer.from_pretrained(\"meta-llama/Meta-Llama-3-8B-Instruct\")"
      ],
      "metadata": {
        "colab": {
          "base_uri": "https://localhost:8080/",
          "height": 386,
          "referenced_widgets": [
            "58e090092db04c1da443617d7126f862",
            "c5f5f8ee5ed948b4b10576984c601282",
            "69e8a445c62e46a7b966e2c41a7f6bcd",
            "d43a3daed4f44a80a32f6d55ae412841",
            "801e7b65fa0442d0a743a1b5f2436925",
            "c7feda5d9c5c455d814c2cacede9ef54",
            "8433a473e8e946c3ba7a9a07676317fc",
            "4f9d74a14d124dd1aa0f64019cbbf77a",
            "201bda5ea0a149c8ade709279143b401",
            "989555fc095e457baaeaa1333509ebaa",
            "7c65c2e55e354cbe969503b4dec382f0",
            "5d8b74e16d434d78a64fb9744a562d1e",
            "57953617ac574df89f841516f8cea1d6",
            "c7ea4cbbd8814c0489ee1635b64cb9a9",
            "a610e5fe457645e787f22df2ff3692a9",
            "9ee0166147fc45f580601357527d819d",
            "9ae00008de87408f8489a4984eddfafa",
            "38971ee8aeca48d89138a544f495a877",
            "fc85e53c06e740a1ae13bfe6726e0f4d",
            "1612513b7fa14a2982a13037bd746356",
            "c3d280d53d6c4a53869d3b90382eeee9",
            "8a333182b9a741d4b3464b135f3d43bf",
            "4e02c0d8018d4712a8486ef305e4e644",
            "d3fceccea5244ddb81679d2952c500d6",
            "73e9c63c11164efcabd6242dfd400d6c",
            "29d0fefa3e4346e2ac34be24f51ad2dd",
            "f24d14a2fdd94178899f7bde4363c810",
            "18b5b6fb049f4501ad10d831c83ed94e",
            "877f341f3c014c82abaf4106fe2ff62e",
            "d2bd4775718d4b85be5a8b27aab9e66e",
            "5cdd41c98ecf4f1995fdff2130a00b7d",
            "14e05036fcfa440cbf57d4505cb0f66d",
            "a86ca4136d244f0b8946dd0bd67b5fbd",
            "a93db0fd82824d0c9fed3a87ecfbc82f",
            "e7ca25ca42fa4f889234a885423e242f",
            "3da3640533104b60ab3cd3625f8f3839",
            "5ad5652f8ce84ca3be0d34e2100d36e4",
            "957cc860beec48fc9ac90f1c76a30a19",
            "cc069cc49f00499688938f9949798bb3",
            "55249ad711054a308d069eb3f93f6b84",
            "e439ff0c96674f64b86d04754a479b3a",
            "97c37ff34638487d912b000fb5d23a29",
            "f972a94f5c994a4498d8126deaef6571",
            "26f308e7b80e4d13909dd13edd98a4d3",
            "de190ea4f58a4386aa75355ecc5b3586",
            "5348c36f74be4e87a05901db76b03249",
            "80f5300b58454a17b1661552560ba83f",
            "c7eeeeaffd994c7d8365b86f8583acee",
            "c97e4e7e60a241598a96c8b5fcd4fe2e",
            "0fcd29173d93445681eafb478149cef4",
            "5895740712a04d6b925a4087e16d87b7",
            "c4a2558e18ba446280bc6b01a2fdfdb5",
            "c9e6531366a9424e91e759d8052fb444",
            "33dcedbe080b46aebd4f00fee2ea2ddf",
            "7d21a01d964d477a9c0708baef41ffdd",
            "9ff1198f851141c9b18a702330f32019",
            "0ee1b4e6cdbb49eb9030f00bee6a27e7",
            "5bd3e027a7094f85b108d19118221e5d",
            "0f992aa8cddb4857b0436e10022a7a21",
            "0d4c924ec03a4fde9b4f32e4747d4e70",
            "68a970b3995246c881ffadb8ebbe09a8",
            "7b0525b8cf044c2eaca580c1c5731df2",
            "bfa1ce8a5e534e61bd2cee987712bdde",
            "38599d1c31cb4a97a071c2dacf099f49",
            "2168393e3ae94db98f8c239fdc6cadcf",
            "f7c91d1fd0e641aa959cc651917a8520",
            "2b31db2185d84bb3baf2416df8a70838",
            "bdedba6631bd4aa5b35d6046b0d6bcf4",
            "e8bd0022f93a4bedbc8d5ab2c39fed4c",
            "fc6342e114834e65aa9c1f9be1864646",
            "66de5427afc049c787eaa931f7627f45",
            "d037a02aff1e479389072f7a173d8817",
            "93c25df10d0c44baa97ee70731a682e4",
            "c3c717e1d07f404884874234dc23391f",
            "f027d39b33be4341b2520df280c0092c",
            "bcf0d4ed52134b1cb749a48761c95337",
            "32ead617976442dca2acad47ad0ee927",
            "63cebb2e2f494ce9af0738606011bf0a",
            "45e5c8014c9a4f118558e83c7553845b",
            "e75e4280d23d459da896917233094abe",
            "8e75c79638fb4509a3492c61869052a8",
            "e4303049b9cd4304836c8bba54720f66",
            "b673eb71e70148799ea24c3633e3750e",
            "1e654f3904724c54bf509627546035bd",
            "87840aa7870a4e8b9200d439508f9354",
            "6633a423a3404a67bd7a059745c65759",
            "c15208a15b714c91b8fb2ba80276877a",
            "6be3ee72fa1f4c2fb7f41c2ae6eefe64",
            "8a1b9892708149c29e0a869bb28c522d",
            "02b1c47530124b0fbb056a63a09ed20c",
            "2805d07603af4199bea2e7acc071f097",
            "455d62ddd22b4447aa6863369736b53c",
            "e4b2876a655e4b528758a6c571750774",
            "ce1cc625ba1b42f1848fa0dce36886fa",
            "21c0094351ca428fb1e4963f8d0ada4a",
            "fcdbe956b4454649a47d0301185f20d3",
            "55fa4db10b104e508a4331fc7788a5bc",
            "d672e13e40464ad5b9d6968f93c44e37",
            "91576b38bc53412a9c5173980a0b9bb2",
            "eec46630112f4680b69284ed87bacf76",
            "3a735c3b6ba8496fb7ee7d5494dcb418",
            "4f877677c71e418da302a266c43ccfd7",
            "ca5eee7d84b340258588b3ab79a7523c",
            "6eddc075f5d3420293dfc83695342297",
            "a95d88cc7bfd4d5b8328eb9cd4069dc1",
            "93f8d31e39ed4e28ababce77876f0084",
            "9fe46d555c074eecb9c2adad0cfb0fae",
            "9f9d941f9ce046a99cd1852211a14ef4",
            "3999a8b6c819415991dd8892743d74c0",
            "c8ea15f107234bd0b9e380e9dab276de",
            "8573d75afb774cde9bc53ccdde2a07eb",
            "8c0c253de57b4b0da474807e294563d3",
            "c951ee96f03f455fac8cc2e81f6ca73f",
            "62d2900eb0824899b4d4e9251c1bbbee",
            "0e31ea82b0064c6fac0c95a24f089d53",
            "ed9a1796b156471aa4ab92005f18f008",
            "39fb206aed594a50896557646a8bf186",
            "1320daf96978444eb7849e524a4e1b63",
            "e5b257ab9f2c4ef0b5bad952cc4e3945",
            "fca07ae372bd4da6ad6f0576386f726c",
            "c95c810709cf4e13a69a06018a86939d"
          ]
        },
        "outputId": "c2530130-085f-4054-f9f4-ee345d4e5028",
        "id": "wCXiF9nrEb2x"
      },
      "execution_count": null,
      "outputs": [
        {
          "output_type": "stream",
          "name": "stderr",
          "text": [
            "`low_cpu_mem_usage` was None, now default to True since model is quantized.\n"
          ]
        },
        {
          "output_type": "display_data",
          "data": {
            "text/plain": [
              "model.safetensors.index.json:   0%|          | 0.00/23.9k [00:00<?, ?B/s]"
            ],
            "application/vnd.jupyter.widget-view+json": {
              "version_major": 2,
              "version_minor": 0,
              "model_id": "58e090092db04c1da443617d7126f862"
            }
          },
          "metadata": {}
        },
        {
          "output_type": "display_data",
          "data": {
            "text/plain": [
              "Downloading shards:   0%|          | 0/4 [00:00<?, ?it/s]"
            ],
            "application/vnd.jupyter.widget-view+json": {
              "version_major": 2,
              "version_minor": 0,
              "model_id": "5d8b74e16d434d78a64fb9744a562d1e"
            }
          },
          "metadata": {}
        },
        {
          "output_type": "display_data",
          "data": {
            "text/plain": [
              "model-00001-of-00004.safetensors:   0%|          | 0.00/4.98G [00:00<?, ?B/s]"
            ],
            "application/vnd.jupyter.widget-view+json": {
              "version_major": 2,
              "version_minor": 0,
              "model_id": "4e02c0d8018d4712a8486ef305e4e644"
            }
          },
          "metadata": {}
        },
        {
          "output_type": "display_data",
          "data": {
            "text/plain": [
              "model-00002-of-00004.safetensors:   0%|          | 0.00/5.00G [00:00<?, ?B/s]"
            ],
            "application/vnd.jupyter.widget-view+json": {
              "version_major": 2,
              "version_minor": 0,
              "model_id": "a93db0fd82824d0c9fed3a87ecfbc82f"
            }
          },
          "metadata": {}
        },
        {
          "output_type": "display_data",
          "data": {
            "text/plain": [
              "model-00003-of-00004.safetensors:   0%|          | 0.00/4.92G [00:00<?, ?B/s]"
            ],
            "application/vnd.jupyter.widget-view+json": {
              "version_major": 2,
              "version_minor": 0,
              "model_id": "de190ea4f58a4386aa75355ecc5b3586"
            }
          },
          "metadata": {}
        },
        {
          "output_type": "display_data",
          "data": {
            "text/plain": [
              "model-00004-of-00004.safetensors:   0%|          | 0.00/1.17G [00:00<?, ?B/s]"
            ],
            "application/vnd.jupyter.widget-view+json": {
              "version_major": 2,
              "version_minor": 0,
              "model_id": "9ff1198f851141c9b18a702330f32019"
            }
          },
          "metadata": {}
        },
        {
          "output_type": "display_data",
          "data": {
            "text/plain": [
              "Loading checkpoint shards:   0%|          | 0/4 [00:00<?, ?it/s]"
            ],
            "application/vnd.jupyter.widget-view+json": {
              "version_major": 2,
              "version_minor": 0,
              "model_id": "2b31db2185d84bb3baf2416df8a70838"
            }
          },
          "metadata": {}
        },
        {
          "output_type": "display_data",
          "data": {
            "text/plain": [
              "generation_config.json:   0%|          | 0.00/187 [00:00<?, ?B/s]"
            ],
            "application/vnd.jupyter.widget-view+json": {
              "version_major": 2,
              "version_minor": 0,
              "model_id": "63cebb2e2f494ce9af0738606011bf0a"
            }
          },
          "metadata": {}
        },
        {
          "output_type": "display_data",
          "data": {
            "text/plain": [
              "tokenizer_config.json:   0%|          | 0.00/51.0k [00:00<?, ?B/s]"
            ],
            "application/vnd.jupyter.widget-view+json": {
              "version_major": 2,
              "version_minor": 0,
              "model_id": "8a1b9892708149c29e0a869bb28c522d"
            }
          },
          "metadata": {}
        },
        {
          "output_type": "display_data",
          "data": {
            "text/plain": [
              "tokenizer.json:   0%|          | 0.00/9.09M [00:00<?, ?B/s]"
            ],
            "application/vnd.jupyter.widget-view+json": {
              "version_major": 2,
              "version_minor": 0,
              "model_id": "eec46630112f4680b69284ed87bacf76"
            }
          },
          "metadata": {}
        },
        {
          "output_type": "display_data",
          "data": {
            "text/plain": [
              "special_tokens_map.json:   0%|          | 0.00/73.0 [00:00<?, ?B/s]"
            ],
            "application/vnd.jupyter.widget-view+json": {
              "version_major": 2,
              "version_minor": 0,
              "model_id": "8573d75afb774cde9bc53ccdde2a07eb"
            }
          },
          "metadata": {}
        }
      ]
    },
    {
      "cell_type": "code",
      "source": [
        "# Create the index if it doesn't exist\n",
        "#pc.create_index(name=\"rag-llm-pc-retriever\",\n",
        "#                   dimension=768,metric=\"cosine\",\n",
        "#                   spec=ServerlessSpec(\n",
        "#                    cloud=\"aws\",\n",
        "#                    region=\"us-east-1\"))\n",
        "\n",
        "pc_index = pc.Index(\"rag-llm-pc-retriever\")"
      ],
      "metadata": {
        "id": "MtCXp1z37gdv"
      },
      "execution_count": 3,
      "outputs": []
    },
    {
      "cell_type": "code",
      "source": [
        "from huggingface_hub import notebook_login\n",
        "notebook_login()"
      ],
      "metadata": {
        "colab": {
          "base_uri": "https://localhost:8080/",
          "height": 17,
          "referenced_widgets": [
            "ff3c52ccd86145e7bcf84e01e7c296f2",
            "566774633d9f4610a4d36ca5ce4f1334",
            "411df566d09145c4afedbf8fb3183eaa",
            "5e3dafdca8824d2cb85e501eae421004",
            "9b442c139ae84de5a3ce6f6495561d7b",
            "a27a12079d44459bbacdd5b93a2092c9",
            "bfab83aa32004a1f81ae70c9748eb364",
            "9a18b436fd9d464b97ab8dd42b34ddb9",
            "d256e54decec44e4a01d8e0bb005a10e",
            "4167cb18af824c8db3542cc01abda46d",
            "0b0d841d3c5d428e816b948109548355",
            "788a4e1b240d4cb69b0eef9ae7475189",
            "de4b5b03c3aa428180863956240cb3e6",
            "b2805c58dbb842759fb104b380d3216c",
            "9da5d1bc57bd4291b99f9830f495d1a3",
            "ddf1e6378d8b45a2be4c1b1b41fa7a7d",
            "a04136e7ab3f459d80fc8bd49891cbe0",
            "161d26b235d14a32b025fad7abb6a984",
            "d268162ed0d74866b41e210c70d8eaff",
            "334390586afc4fa68c72fff74390329b"
          ]
        },
        "outputId": "e1d44d1e-42a0-4e64-ff25-a13258da501c",
        "id": "7871gxvY7gdy"
      },
      "execution_count": null,
      "outputs": [
        {
          "output_type": "display_data",
          "data": {
            "text/plain": [
              "VBox(children=(HTML(value='<center> <img\\nsrc=https://huggingface.co/front/assets/huggingface_logo-noborder.sv…"
            ],
            "application/vnd.jupyter.widget-view+json": {
              "version_major": 2,
              "version_minor": 0,
              "model_id": "ff3c52ccd86145e7bcf84e01e7c296f2"
            }
          },
          "metadata": {}
        }
      ]
    },
    {
      "cell_type": "code",
      "source": [
        "# Load the documents\n",
        "with open(\"data_5983_updated.pkl\", \"rb\") as file:\n",
        "    documents = pickle.load(file)"
      ],
      "metadata": {
        "id": "QDOa5j2iyiey"
      },
      "execution_count": null,
      "outputs": []
    },
    {
      "cell_type": "code",
      "source": [
        "parent_splitter = RecursiveCharacterTextSplitter(chunk_size=1000,chunk_overlap=100)\n",
        "\n",
        "child_splitter = RecursiveCharacterTextSplitter(chunk_size=200,chunk_overlap=20)\n",
        "\n",
        "from langchain.storage import InMemoryStore\n",
        "store = InMemoryStore()"
      ],
      "metadata": {
        "id": "abSdzZw-e095"
      },
      "execution_count": null,
      "outputs": []
    },
    {
      "cell_type": "code",
      "source": [
        "# Storage layer for the parent chunks\n",
        "store = InMemoryStore()"
      ],
      "metadata": {
        "id": "bX7iVYgz5Bx5"
      },
      "execution_count": null,
      "outputs": []
    },
    {
      "cell_type": "code",
      "source": [
        "store"
      ],
      "metadata": {
        "colab": {
          "base_uri": "https://localhost:8080/"
        },
        "id": "pB1XfURIZ-wE",
        "outputId": "1685aa2e-e8d2-45a7-ecb1-da25df8ff5de"
      },
      "execution_count": null,
      "outputs": [
        {
          "output_type": "execute_result",
          "data": {
            "text/plain": [
              "<langchain_core.stores.InMemoryStore at 0x7b65b9718640>"
            ]
          },
          "metadata": {},
          "execution_count": 85
        }
      ]
    },
    {
      "cell_type": "code",
      "source": [
        "from langchain.schema import Document\n",
        "\n",
        "parent_documents = []\n",
        "for doc in documents:\n",
        "    parent_chunks = parent_splitter.split_text(doc.page_content)\n",
        "    for i, chunk in enumerate(parent_chunks):\n",
        "        parent_documents.append(Document(\n",
        "            id=f\"{doc.metadata['id']}_parent_{i}\",\n",
        "            page_content=chunk,\n",
        "            metadata=doc.metadata\n",
        "        ))"
      ],
      "metadata": {
        "id": "Zs1AL9Tute1H"
      },
      "execution_count": null,
      "outputs": []
    },
    {
      "cell_type": "code",
      "source": [
        "parent_doc_path = \"C:/Users/91998/Desktop/LLM_Project/id_parent_documents\"\n",
        "\n",
        "if not os.path.exists(parent_doc_path):\n",
        "    os.makedirs(parent_doc_path)\n",
        "\n",
        "for doc in parent_documents:\n",
        "    doc_id = doc.id\n",
        "    file_path = os.path.join(parent_doc_path, f\"{doc_id}.json\")\n",
        "\n",
        "    document_content = {\n",
        "        \"id\": doc.id,\n",
        "        \"text\": doc.page_content,\n",
        "        \"metadata\": doc.metadata\n",
        "    }\n",
        "\n",
        "    with open(file_path, \"w\") as f:\n",
        "        json.dump(document_content, f)"
      ],
      "metadata": {
        "id": "9HaS3juN7mBy"
      },
      "execution_count": null,
      "outputs": []
    },
    {
      "cell_type": "code",
      "source": [
        "from langchain.storage import LocalFileStore\n",
        "from langchain.storage._lc_store import create_kv_docstore\n",
        "\n",
        "fs = LocalFileStore(parent_doc_path)\n",
        "\n",
        "store = create_kv_docstore(fs)"
      ],
      "metadata": {
        "id": "2TNPY76B8OoJ"
      },
      "execution_count": null,
      "outputs": []
    },
    {
      "cell_type": "code",
      "source": [
        "store"
      ],
      "metadata": {
        "colab": {
          "base_uri": "https://localhost:8080/"
        },
        "id": "CgQOzezkfN_A",
        "outputId": "d1572154-a1a6-4b1c-8467-b7712f30bbb4"
      },
      "execution_count": null,
      "outputs": [
        {
          "output_type": "execute_result",
          "data": {
            "text/plain": [
              "<langchain.storage.encoder_backed.EncoderBackedStore at 0x7b65b971af80>"
            ]
          },
          "metadata": {},
          "execution_count": 82
        }
      ]
    },
    {
      "cell_type": "code",
      "source": [
        "child_documents = []\n",
        "for parent_doc in parent_documents:\n",
        "    child_chunks = child_splitter.split_text(parent_doc.page_content)\n",
        "    for i, chunk in enumerate(child_chunks):\n",
        "        child_documents.append(Document(\n",
        "            id=f\"{parent_doc.id}_child_{i}\",\n",
        "            page_content=chunk,\n",
        "            metadata=parent_doc.metadata\n",
        "        ))"
      ],
      "metadata": {
        "id": "dZu_NqVxtnyD"
      },
      "execution_count": null,
      "outputs": []
    },
    {
      "cell_type": "code",
      "source": [
        "# VectorStore\n",
        "vectorstore = PineconeVectorStore(\n",
        "    index_name=\"rag-llm-pc-retriever\",\n",
        "    embedding=hf_embeddings,\n",
        ")"
      ],
      "metadata": {
        "id": "I1-D-LCiN0lS"
      },
      "execution_count": null,
      "outputs": []
    },
    {
      "cell_type": "code",
      "source": [
        "index_stats = pc_index.describe_index_stats()\n",
        "\n",
        "print(\"Index Stats:\", index_stats)"
      ],
      "metadata": {
        "colab": {
          "base_uri": "https://localhost:8080/"
        },
        "id": "y2AJW8qxz8Ya",
        "outputId": "4d82297a-4993-4923-f1dc-5cd2ea13d6fb"
      },
      "execution_count": 4,
      "outputs": [
        {
          "output_type": "stream",
          "name": "stdout",
          "text": [
            "Index Stats: {'dimension': 768,\n",
            " 'index_fullness': 0.0,\n",
            " 'namespaces': {'': {'vector_count': 10486}},\n",
            " 'total_vector_count': 10486}\n"
          ]
        }
      ]
    },
    {
      "cell_type": "code",
      "source": [
        "store = create_kv_docstore(parent_documents)"
      ],
      "metadata": {
        "id": "QJDfOXZR2N3Y"
      },
      "execution_count": null,
      "outputs": []
    },
    {
      "cell_type": "code",
      "source": [
        "store"
      ],
      "metadata": {
        "colab": {
          "base_uri": "https://localhost:8080/"
        },
        "id": "RPKdpfPXcS-X",
        "outputId": "7e3f4f07-49b8-47d8-c6fe-b13e0fb08fbc"
      },
      "execution_count": null,
      "outputs": [
        {
          "output_type": "execute_result",
          "data": {
            "text/plain": [
              "<langchain.storage.encoder_backed.EncoderBackedStore at 0x7b65b986f220>"
            ]
          },
          "metadata": {},
          "execution_count": 49
        }
      ]
    },
    {
      "cell_type": "code",
      "source": [
        "from langchain.retrievers import ParentDocumentRetriever\n",
        "\n",
        "retriever = ParentDocumentRetriever(\n",
        "    vectorstore=vectorstore,\n",
        "    docstore=store,\n",
        "    child_splitter=child_splitter,\n",
        "    parent_splitter=parent_splitter\n",
        ")\n"
      ],
      "metadata": {
        "id": "EmsKEauZ0tXv"
      },
      "execution_count": null,
      "outputs": []
    },
    {
      "cell_type": "code",
      "source": [
        "retriever.add_documents(documents)"
      ],
      "metadata": {
        "id": "uyLbKRbC533l"
      },
      "execution_count": null,
      "outputs": []
    },
    {
      "cell_type": "code",
      "source": [
        "retriever.invoke(\"What is PTSD?\")"
      ],
      "metadata": {
        "colab": {
          "base_uri": "https://localhost:8080/"
        },
        "id": "eErvNdTNgs-S",
        "outputId": "322d97f7-2d1a-4bc2-f0c8-ed379dd2b77b"
      },
      "execution_count": null,
      "outputs": [
        {
          "output_type": "execute_result",
          "data": {
            "text/plain": [
              "[Document(metadata={'title': 'Post Traumatic Stress Disorder (PTSD)', 'source': 'https://www.samhsa.gov/mental-health/post-traumatic-stress-disorder', 'category': 'Mental Illness', 'id': 'e0709607-37f7-4085-a9c4-220a95994af5'}, page_content='Post-traumatic stress disorder (PTSD) is a real disorder that develops when a person has experienced or witnessed a scary, shocking, terrifying, or dangerous event. These stressful or traumatic events usually involve a situation where someone’s life has been threatened or severe injury has occurred. Children and adults with PTSD may feel anxious or stressed even when they are not in present danger.\\nCauses\\nYou can get PTSD after living through or seeing a traumatic event, such as war, a natural disaster, sexual assault, physical abuse, or a bad accident. PTSD makes you feel stressed and afraid after the danger is over. It affects your life and the people around you.'),\n",
              " Document(metadata={'category': 'Mental Illness', 'source': 'Counsel chat dataset', 'id': '8ef08916-f47e-4c6c-8035-f904a6bdbab5'}, page_content='post traumatic stress disorder ( ptsd ) is a very complex issue . it is the root cause of many other issues including depression , anxiety and anger to name a few . re - experiencing the event is a telltale symptom of ptsd . one of the best things you can do for yourself is to find someone who specializes in this area to help you work through the symptoms associated with this disorder as well as directly addressing the event / events that initially caused the symptoms . there are various treatment methods available to helping professionals that are successful in treating this disorder . in the meantime there is a book called \" the body keeps the score \" , it is informative and may be helpful for you on your journey . it is my hope that you are not dealing with this alone . best wishes !')]"
            ]
          },
          "metadata": {},
          "execution_count": 93
        }
      ]
    },
    {
      "cell_type": "code",
      "source": [
        "file_path = 'parent_documents.pkl'\n",
        "\n",
        "with open(file_path, 'wb') as pickle_file:\n",
        "    pickle.dump(parent_documents, pickle_file)"
      ],
      "metadata": {
        "id": "p-HE7uVZhTVz"
      },
      "execution_count": null,
      "outputs": []
    },
    {
      "cell_type": "code",
      "source": [
        "file_path = 'child_documents.pkl'\n",
        "\n",
        "with open(file_path, 'wb') as pickle_file:\n",
        "    pickle.dump(child_documents, pickle_file)"
      ],
      "metadata": {
        "id": "LOdhpW00iCeV"
      },
      "execution_count": null,
      "outputs": []
    },
    {
      "cell_type": "code",
      "source": [
        "from langchain.llms import HuggingFacePipeline\n",
        "from transformers import pipeline"
      ],
      "metadata": {
        "id": "aGpbxHbhq2qT"
      },
      "execution_count": null,
      "outputs": []
    },
    {
      "cell_type": "code",
      "source": [
        "llm_tokenizer.pad_token_id = llm_tokenizer.eos_token_id"
      ],
      "metadata": {
        "id": "bPu2hgIX3aPs"
      },
      "execution_count": null,
      "outputs": []
    },
    {
      "cell_type": "code",
      "source": [
        "llm_pipeline = pipeline(\n",
        "    \"text-generation\",\n",
        "    model=llm_model,\n",
        "    tokenizer=llm_tokenizer,\n",
        "    temperature=0.2,\n",
        "    do_sample=True,\n",
        "    repetition_penalty=1.1,\n",
        "    return_full_text=False,\n",
        "    max_new_tokens=100,\n",
        "    top_p=0.9,\n",
        "    top_k=50,\n",
        "    eos_token_id=llm_tokenizer.eos_token_id\n",
        ")"
      ],
      "metadata": {
        "id": "FPib8ss6qymD"
      },
      "execution_count": null,
      "outputs": []
    },
    {
      "cell_type": "code",
      "source": [
        "llm_final_model = HuggingFacePipeline(pipeline=llm_pipeline)"
      ],
      "metadata": {
        "id": "CP2ScPOFtRcU",
        "colab": {
          "base_uri": "https://localhost:8080/"
        },
        "outputId": "d6e58881-29bf-493f-c7d0-9c643af56b56"
      },
      "execution_count": null,
      "outputs": [
        {
          "output_type": "stream",
          "name": "stderr",
          "text": [
            "<ipython-input-105-3f741d8043ea>:3: LangChainDeprecationWarning: The class `HuggingFacePipeline` was deprecated in LangChain 0.0.37 and will be removed in 1.0. An updated version of the class exists in the :class:`~langchain-huggingface package and should be used instead. To use it run `pip install -U :class:`~langchain-huggingface` and import as `from :class:`~langchain_huggingface import HuggingFacePipeline``.\n",
            "  llm_final_model = HuggingFacePipeline(pipeline=llm_pipeline)\n"
          ]
        }
      ]
    },
    {
      "cell_type": "code",
      "source": [
        "# Prompt template\n",
        "template = \"\"\"\n",
        "You are a compassionate and knowledgeable mental health assistant that answers questions related to mental health.\\n\n",
        "Use the following pieces of retrieved context to provide a helpful and empathetic response to the user's question.\\n\n",
        "Use only the context provided and not any prior knowledge.\\n\n",
        "If you are unsure of the answer, tell that you do not know the answer.\\n\n",
        "Stick to the question and just answer the question in a short manner.\\n\n",
        "Avoid any additional greetings or elaborations.\\n\n",
        "\n",
        "Context: \\n\n",
        "------------------------------------------------------------------------------\\n\n",
        "{context}\n",
        "------------------------------------------------------------------------------\\n\n",
        "Given the context and without any prior knowledge, answer the below question.\\n\n",
        "Question: {question}\n",
        "Answer:\n",
        "\"\"\"\n",
        "\n",
        "prompt = PromptTemplate(\n",
        "    template=template,\n",
        "    input_variables=[\"context\", \"question\"]\n",
        ")"
      ],
      "metadata": {
        "id": "2nIGByeU7ycL"
      },
      "execution_count": null,
      "outputs": []
    },
    {
      "cell_type": "code",
      "source": [
        "qa_chain = RetrievalQA.from_chain_type(\n",
        "    llm=llm_final_model,\n",
        "    retriever=retriever,\n",
        "    return_source_documents=True,\n",
        "    chain_type_kwargs={\"prompt\": prompt}\n",
        ")"
      ],
      "metadata": {
        "id": "QQqmg15OpP1d"
      },
      "execution_count": null,
      "outputs": []
    },
    {
      "cell_type": "code",
      "source": [
        "query = \"What is the Four-Fold Breath technique?\"\n",
        "\n",
        "result= qa_chain.invoke(query)"
      ],
      "metadata": {
        "id": "E7WpuDwA25cE"
      },
      "execution_count": null,
      "outputs": []
    },
    {
      "cell_type": "code",
      "source": [
        "answer = result['result']\n",
        "print(\"Answer:\", answer)"
      ],
      "metadata": {
        "colab": {
          "base_uri": "https://localhost:8080/"
        },
        "id": "necXgaVD28mu",
        "outputId": "d70d1508-03b6-40fa-ad61-feb903a5f1d8"
      },
      "execution_count": null,
      "outputs": [
        {
          "output_type": "stream",
          "name": "stdout",
          "text": [
            "Answer: The Four-Fold Breath technique is a Pranayama yoga breathing technique used by [Name] to relax and allow for better sleep. It involves breathing in slowly to the count of 4 and breathing out even slower to the count of 6. Practicing this technique for about 5 minutes, three times a day, helps to focus on nothing except one's breathing and makes it easier to apply during situations when one is angry or upset.\n"
          ]
        }
      ]
    },
    {
      "cell_type": "markdown",
      "source": [
        "RAG Response generation"
      ],
      "metadata": {
        "id": "bpYUAXSAmXys"
      }
    },
    {
      "cell_type": "code",
      "source": [
        "df = pd.read_csv(\"U_eval_dataset_100q_with_context.csv\")"
      ],
      "metadata": {
        "id": "mI-tkn_f_pra"
      },
      "execution_count": null,
      "outputs": []
    },
    {
      "cell_type": "code",
      "source": [
        "results = []\n",
        "\n",
        "for idx, row in tqdm(df.iterrows(), total=len(df), desc=\"Generating Responses\"):\n",
        "    question = row['Question']\n",
        "    ground_truth = row['Ground_Truth']\n",
        "    source = row['Source']\n",
        "    category = row['Category']\n",
        "    context = row['contexts']\n",
        "\n",
        "    rag_result = qa_chain.invoke(question)\n",
        "    rag_response = rag_result['result']\n",
        "\n",
        "    results.append({\n",
        "        \"Question\": question,\n",
        "        \"Ground_Truth\": ground_truth,\n",
        "        \"Source\": source,\n",
        "        \"Category\": category,\n",
        "        \"Context\": context,\n",
        "        \"rag_response\": rag_response\n",
        "    })\n",
        "\n",
        "results_df = pd.DataFrame(results)"
      ],
      "metadata": {
        "id": "EAWFS9X2AE6U"
      },
      "execution_count": null,
      "outputs": []
    },
    {
      "cell_type": "code",
      "source": [
        "results_df.head()"
      ],
      "metadata": {
        "colab": {
          "base_uri": "https://localhost:8080/",
          "height": 293
        },
        "id": "bgSAWxNQkiU5",
        "outputId": "52e9e1df-de2f-41e0-c222-4efc6a983672"
      },
      "execution_count": null,
      "outputs": [
        {
          "output_type": "execute_result",
          "data": {
            "text/plain": [
              "                                            Question  \\\n",
              "0   What triggers Seasonal Affective Disorder (SAD)?   \n",
              "1      What are the health risks of bulimia nervosa?   \n",
              "2  How can someone with mental health problems ma...   \n",
              "3       What are the risk factors for schizophrenia?   \n",
              "4   How does schizophrenia impact daily functioning?   \n",
              "\n",
              "                                        Ground_Truth  \\\n",
              "0  SAD is triggered by seasonal changes, especial...   \n",
              "1  Risks include dental decay, dehydration, and s...   \n",
              "2  By finding trustworthy individuals who provide...   \n",
              "3  Risk factors include genetic predisposition an...   \n",
              "4  It affects work, socialization, and completing...   \n",
              "\n",
              "                                              Source        Category  \\\n",
              "0  https://www.samhsa.gov/mental-health/seasonal-...  Mental Illness   \n",
              "1  https://www.samhsa.gov/mental-health/eating-di...  Mental Illness   \n",
              "2  https://www.samhsa.gov/mental-health/how-to-ta...   Mental Health   \n",
              "3  https://www.samhsa.gov/mental-health/schizophr...  Mental Illness   \n",
              "4  https://www.samhsa.gov/mental-health/schizophr...  Mental Illness   \n",
              "\n",
              "                                             Context  \\\n",
              "0  ['Seasonal affective disorder, or SAD, is a co...   \n",
              "1  ['It is common that binge eating will lead to ...   \n",
              "2  [\"Anyone can experience mental health problems...   \n",
              "3  ['Schizophrenia is a serious brain disorder th...   \n",
              "4  ['Schizophrenia is a serious brain disorder th...   \n",
              "\n",
              "                                        rag_response  \n",
              "0  The trigger for Seasonal Affective Disorder (S...  \n",
              "1  The health risks of bulimia nervosa include:\\n...  \n",
              "2  Maintaining a support system is crucial for so...  \n",
              "3  According to the provided context, the risk fa...  \n",
              "4  Schizophrenia can be extremely disruptive to a...  "
            ],
            "text/html": [
              "\n",
              "  <div id=\"df-528f5315-dad2-4cb8-beb0-f6e0ebb03184\" class=\"colab-df-container\">\n",
              "    <div>\n",
              "<style scoped>\n",
              "    .dataframe tbody tr th:only-of-type {\n",
              "        vertical-align: middle;\n",
              "    }\n",
              "\n",
              "    .dataframe tbody tr th {\n",
              "        vertical-align: top;\n",
              "    }\n",
              "\n",
              "    .dataframe thead th {\n",
              "        text-align: right;\n",
              "    }\n",
              "</style>\n",
              "<table border=\"1\" class=\"dataframe\">\n",
              "  <thead>\n",
              "    <tr style=\"text-align: right;\">\n",
              "      <th></th>\n",
              "      <th>Question</th>\n",
              "      <th>Ground_Truth</th>\n",
              "      <th>Source</th>\n",
              "      <th>Category</th>\n",
              "      <th>Context</th>\n",
              "      <th>rag_response</th>\n",
              "    </tr>\n",
              "  </thead>\n",
              "  <tbody>\n",
              "    <tr>\n",
              "      <th>0</th>\n",
              "      <td>What triggers Seasonal Affective Disorder (SAD)?</td>\n",
              "      <td>SAD is triggered by seasonal changes, especial...</td>\n",
              "      <td>https://www.samhsa.gov/mental-health/seasonal-...</td>\n",
              "      <td>Mental Illness</td>\n",
              "      <td>['Seasonal affective disorder, or SAD, is a co...</td>\n",
              "      <td>The trigger for Seasonal Affective Disorder (S...</td>\n",
              "    </tr>\n",
              "    <tr>\n",
              "      <th>1</th>\n",
              "      <td>What are the health risks of bulimia nervosa?</td>\n",
              "      <td>Risks include dental decay, dehydration, and s...</td>\n",
              "      <td>https://www.samhsa.gov/mental-health/eating-di...</td>\n",
              "      <td>Mental Illness</td>\n",
              "      <td>['It is common that binge eating will lead to ...</td>\n",
              "      <td>The health risks of bulimia nervosa include:\\n...</td>\n",
              "    </tr>\n",
              "    <tr>\n",
              "      <th>2</th>\n",
              "      <td>How can someone with mental health problems ma...</td>\n",
              "      <td>By finding trustworthy individuals who provide...</td>\n",
              "      <td>https://www.samhsa.gov/mental-health/how-to-ta...</td>\n",
              "      <td>Mental Health</td>\n",
              "      <td>[\"Anyone can experience mental health problems...</td>\n",
              "      <td>Maintaining a support system is crucial for so...</td>\n",
              "    </tr>\n",
              "    <tr>\n",
              "      <th>3</th>\n",
              "      <td>What are the risk factors for schizophrenia?</td>\n",
              "      <td>Risk factors include genetic predisposition an...</td>\n",
              "      <td>https://www.samhsa.gov/mental-health/schizophr...</td>\n",
              "      <td>Mental Illness</td>\n",
              "      <td>['Schizophrenia is a serious brain disorder th...</td>\n",
              "      <td>According to the provided context, the risk fa...</td>\n",
              "    </tr>\n",
              "    <tr>\n",
              "      <th>4</th>\n",
              "      <td>How does schizophrenia impact daily functioning?</td>\n",
              "      <td>It affects work, socialization, and completing...</td>\n",
              "      <td>https://www.samhsa.gov/mental-health/schizophr...</td>\n",
              "      <td>Mental Illness</td>\n",
              "      <td>['Schizophrenia is a serious brain disorder th...</td>\n",
              "      <td>Schizophrenia can be extremely disruptive to a...</td>\n",
              "    </tr>\n",
              "  </tbody>\n",
              "</table>\n",
              "</div>\n",
              "    <div class=\"colab-df-buttons\">\n",
              "\n",
              "  <div class=\"colab-df-container\">\n",
              "    <button class=\"colab-df-convert\" onclick=\"convertToInteractive('df-528f5315-dad2-4cb8-beb0-f6e0ebb03184')\"\n",
              "            title=\"Convert this dataframe to an interactive table.\"\n",
              "            style=\"display:none;\">\n",
              "\n",
              "  <svg xmlns=\"http://www.w3.org/2000/svg\" height=\"24px\" viewBox=\"0 -960 960 960\">\n",
              "    <path d=\"M120-120v-720h720v720H120Zm60-500h600v-160H180v160Zm220 220h160v-160H400v160Zm0 220h160v-160H400v160ZM180-400h160v-160H180v160Zm440 0h160v-160H620v160ZM180-180h160v-160H180v160Zm440 0h160v-160H620v160Z\"/>\n",
              "  </svg>\n",
              "    </button>\n",
              "\n",
              "  <style>\n",
              "    .colab-df-container {\n",
              "      display:flex;\n",
              "      gap: 12px;\n",
              "    }\n",
              "\n",
              "    .colab-df-convert {\n",
              "      background-color: #E8F0FE;\n",
              "      border: none;\n",
              "      border-radius: 50%;\n",
              "      cursor: pointer;\n",
              "      display: none;\n",
              "      fill: #1967D2;\n",
              "      height: 32px;\n",
              "      padding: 0 0 0 0;\n",
              "      width: 32px;\n",
              "    }\n",
              "\n",
              "    .colab-df-convert:hover {\n",
              "      background-color: #E2EBFA;\n",
              "      box-shadow: 0px 1px 2px rgba(60, 64, 67, 0.3), 0px 1px 3px 1px rgba(60, 64, 67, 0.15);\n",
              "      fill: #174EA6;\n",
              "    }\n",
              "\n",
              "    .colab-df-buttons div {\n",
              "      margin-bottom: 4px;\n",
              "    }\n",
              "\n",
              "    [theme=dark] .colab-df-convert {\n",
              "      background-color: #3B4455;\n",
              "      fill: #D2E3FC;\n",
              "    }\n",
              "\n",
              "    [theme=dark] .colab-df-convert:hover {\n",
              "      background-color: #434B5C;\n",
              "      box-shadow: 0px 1px 3px 1px rgba(0, 0, 0, 0.15);\n",
              "      filter: drop-shadow(0px 1px 2px rgba(0, 0, 0, 0.3));\n",
              "      fill: #FFFFFF;\n",
              "    }\n",
              "  </style>\n",
              "\n",
              "    <script>\n",
              "      const buttonEl =\n",
              "        document.querySelector('#df-528f5315-dad2-4cb8-beb0-f6e0ebb03184 button.colab-df-convert');\n",
              "      buttonEl.style.display =\n",
              "        google.colab.kernel.accessAllowed ? 'block' : 'none';\n",
              "\n",
              "      async function convertToInteractive(key) {\n",
              "        const element = document.querySelector('#df-528f5315-dad2-4cb8-beb0-f6e0ebb03184');\n",
              "        const dataTable =\n",
              "          await google.colab.kernel.invokeFunction('convertToInteractive',\n",
              "                                                    [key], {});\n",
              "        if (!dataTable) return;\n",
              "\n",
              "        const docLinkHtml = 'Like what you see? Visit the ' +\n",
              "          '<a target=\"_blank\" href=https://colab.research.google.com/notebooks/data_table.ipynb>data table notebook</a>'\n",
              "          + ' to learn more about interactive tables.';\n",
              "        element.innerHTML = '';\n",
              "        dataTable['output_type'] = 'display_data';\n",
              "        await google.colab.output.renderOutput(dataTable, element);\n",
              "        const docLink = document.createElement('div');\n",
              "        docLink.innerHTML = docLinkHtml;\n",
              "        element.appendChild(docLink);\n",
              "      }\n",
              "    </script>\n",
              "  </div>\n",
              "\n",
              "\n",
              "<div id=\"df-ec146280-79c8-453e-b295-9ef2d3165f6f\">\n",
              "  <button class=\"colab-df-quickchart\" onclick=\"quickchart('df-ec146280-79c8-453e-b295-9ef2d3165f6f')\"\n",
              "            title=\"Suggest charts\"\n",
              "            style=\"display:none;\">\n",
              "\n",
              "<svg xmlns=\"http://www.w3.org/2000/svg\" height=\"24px\"viewBox=\"0 0 24 24\"\n",
              "     width=\"24px\">\n",
              "    <g>\n",
              "        <path d=\"M19 3H5c-1.1 0-2 .9-2 2v14c0 1.1.9 2 2 2h14c1.1 0 2-.9 2-2V5c0-1.1-.9-2-2-2zM9 17H7v-7h2v7zm4 0h-2V7h2v10zm4 0h-2v-4h2v4z\"/>\n",
              "    </g>\n",
              "</svg>\n",
              "  </button>\n",
              "\n",
              "<style>\n",
              "  .colab-df-quickchart {\n",
              "      --bg-color: #E8F0FE;\n",
              "      --fill-color: #1967D2;\n",
              "      --hover-bg-color: #E2EBFA;\n",
              "      --hover-fill-color: #174EA6;\n",
              "      --disabled-fill-color: #AAA;\n",
              "      --disabled-bg-color: #DDD;\n",
              "  }\n",
              "\n",
              "  [theme=dark] .colab-df-quickchart {\n",
              "      --bg-color: #3B4455;\n",
              "      --fill-color: #D2E3FC;\n",
              "      --hover-bg-color: #434B5C;\n",
              "      --hover-fill-color: #FFFFFF;\n",
              "      --disabled-bg-color: #3B4455;\n",
              "      --disabled-fill-color: #666;\n",
              "  }\n",
              "\n",
              "  .colab-df-quickchart {\n",
              "    background-color: var(--bg-color);\n",
              "    border: none;\n",
              "    border-radius: 50%;\n",
              "    cursor: pointer;\n",
              "    display: none;\n",
              "    fill: var(--fill-color);\n",
              "    height: 32px;\n",
              "    padding: 0;\n",
              "    width: 32px;\n",
              "  }\n",
              "\n",
              "  .colab-df-quickchart:hover {\n",
              "    background-color: var(--hover-bg-color);\n",
              "    box-shadow: 0 1px 2px rgba(60, 64, 67, 0.3), 0 1px 3px 1px rgba(60, 64, 67, 0.15);\n",
              "    fill: var(--button-hover-fill-color);\n",
              "  }\n",
              "\n",
              "  .colab-df-quickchart-complete:disabled,\n",
              "  .colab-df-quickchart-complete:disabled:hover {\n",
              "    background-color: var(--disabled-bg-color);\n",
              "    fill: var(--disabled-fill-color);\n",
              "    box-shadow: none;\n",
              "  }\n",
              "\n",
              "  .colab-df-spinner {\n",
              "    border: 2px solid var(--fill-color);\n",
              "    border-color: transparent;\n",
              "    border-bottom-color: var(--fill-color);\n",
              "    animation:\n",
              "      spin 1s steps(1) infinite;\n",
              "  }\n",
              "\n",
              "  @keyframes spin {\n",
              "    0% {\n",
              "      border-color: transparent;\n",
              "      border-bottom-color: var(--fill-color);\n",
              "      border-left-color: var(--fill-color);\n",
              "    }\n",
              "    20% {\n",
              "      border-color: transparent;\n",
              "      border-left-color: var(--fill-color);\n",
              "      border-top-color: var(--fill-color);\n",
              "    }\n",
              "    30% {\n",
              "      border-color: transparent;\n",
              "      border-left-color: var(--fill-color);\n",
              "      border-top-color: var(--fill-color);\n",
              "      border-right-color: var(--fill-color);\n",
              "    }\n",
              "    40% {\n",
              "      border-color: transparent;\n",
              "      border-right-color: var(--fill-color);\n",
              "      border-top-color: var(--fill-color);\n",
              "    }\n",
              "    60% {\n",
              "      border-color: transparent;\n",
              "      border-right-color: var(--fill-color);\n",
              "    }\n",
              "    80% {\n",
              "      border-color: transparent;\n",
              "      border-right-color: var(--fill-color);\n",
              "      border-bottom-color: var(--fill-color);\n",
              "    }\n",
              "    90% {\n",
              "      border-color: transparent;\n",
              "      border-bottom-color: var(--fill-color);\n",
              "    }\n",
              "  }\n",
              "</style>\n",
              "\n",
              "  <script>\n",
              "    async function quickchart(key) {\n",
              "      const quickchartButtonEl =\n",
              "        document.querySelector('#' + key + ' button');\n",
              "      quickchartButtonEl.disabled = true;  // To prevent multiple clicks.\n",
              "      quickchartButtonEl.classList.add('colab-df-spinner');\n",
              "      try {\n",
              "        const charts = await google.colab.kernel.invokeFunction(\n",
              "            'suggestCharts', [key], {});\n",
              "      } catch (error) {\n",
              "        console.error('Error during call to suggestCharts:', error);\n",
              "      }\n",
              "      quickchartButtonEl.classList.remove('colab-df-spinner');\n",
              "      quickchartButtonEl.classList.add('colab-df-quickchart-complete');\n",
              "    }\n",
              "    (() => {\n",
              "      let quickchartButtonEl =\n",
              "        document.querySelector('#df-ec146280-79c8-453e-b295-9ef2d3165f6f button');\n",
              "      quickchartButtonEl.style.display =\n",
              "        google.colab.kernel.accessAllowed ? 'block' : 'none';\n",
              "    })();\n",
              "  </script>\n",
              "</div>\n",
              "\n",
              "    </div>\n",
              "  </div>\n"
            ],
            "application/vnd.google.colaboratory.intrinsic+json": {
              "type": "dataframe",
              "variable_name": "results_df",
              "summary": "{\n  \"name\": \"results_df\",\n  \"rows\": 100,\n  \"fields\": [\n    {\n      \"column\": \"Question\",\n      \"properties\": {\n        \"dtype\": \"string\",\n        \"num_unique_values\": 100,\n        \"samples\": [\n          \"How are phobias different from general anxiety?\",\n          \"How can someone help a person showing warning signs of suicide?\",\n          \"What causes self-harm behaviors?\"\n        ],\n        \"semantic_type\": \"\",\n        \"description\": \"\"\n      }\n    },\n    {\n      \"column\": \"Ground_Truth\",\n      \"properties\": {\n        \"dtype\": \"string\",\n        \"num_unique_values\": 100,\n        \"samples\": [\n          \"Phobias are irrational fears specific to certain objects or situations, unlike generalized anxiety which is ongoing and not situation-specific.\",\n          \"They can listen without judgment, ask directly about suicidal thoughts, stay with the person, and remove potential means of self-harm.\",\n          \"Causes include emotional distress and difficulty coping with negative feelings.\"\n        ],\n        \"semantic_type\": \"\",\n        \"description\": \"\"\n      }\n    },\n    {\n      \"column\": \"Source\",\n      \"properties\": {\n        \"dtype\": \"category\",\n        \"num_unique_values\": 13,\n        \"samples\": [\n          \"Counsel chat dataset\",\n          \"https://www.samhsa.gov/mental-health/suicide/prevention\",\n          \"https://www.samhsa.gov/mental-health/seasonal-affective-disorder\"\n        ],\n        \"semantic_type\": \"\",\n        \"description\": \"\"\n      }\n    },\n    {\n      \"column\": \"Category\",\n      \"properties\": {\n        \"dtype\": \"category\",\n        \"num_unique_values\": 5,\n        \"samples\": [\n          \"Mental Health\",\n          \"Depression\",\n          \"Anxiety\"\n        ],\n        \"semantic_type\": \"\",\n        \"description\": \"\"\n      }\n    },\n    {\n      \"column\": \"Context\",\n      \"properties\": {\n        \"dtype\": \"string\",\n        \"num_unique_values\": 98,\n        \"samples\": [\n          \"[\\\"this is certainly an important issue to look into , it is always helpful to speak with the child ' s pediatrician since they are most familiar with the child ' s developmental history . also , children tend to regress behaviorally when facing events and interactions they feel to have no control over , this can be as simple as a loss of a pet , a recent move , death in the family , and / or as serious as sexual abuse , and other things . if you have not spoken to the school that can be a good starting point .\\\", \\\"As a parent or caregiver, you want the best for your children or other dependents. You may be concerned or have questions about certain behaviors they exhibit and how to ensure they get help.\\\\nWhat to Look For\\\\nIt is important to be aware of warning signs that your child may be struggling. You can play a critical role in knowing when your child may need help.\\\\nConsult with a school counselor, school nurse, mental health provider, or another health care professional if your child shows one or more of the following behaviors:\\\\nFeeling very sad or withdrawn or easily irritated for more than two weeks\\\\nSeriously trying to harm or kill themselves, or making plans to do so\\\\nExperiencing sudden overwhelming fear for no reason, sometimes with a racing heart or fast breathing\\\\nGetting in many fights or wanting to hurt others\\\\nShowing severe out-of-control behavior that can hurt oneself or others\\\\nNot eating, throwing up, or using laxatives to make themselves lose weight\\\\nHaving intense worries or fears that get in the way of daily activities\\\\nExperiencing extreme difficulty controlling behavior, putting themselves in physical danger or causing problems in school\\\\nUsing drugs or alcohol\\\\nHaving severe mood swings that cause problems in relationships\\\\nShowing drastic changes in behavior or personality\\\\nA drop in their school performance\\\\nBecause children often can't understand difficult situations on their own, you should pay particular attention if they experience:\\\\nLoss of a loved one\\\\nDivorce or separation of their parents\\\\nAny major transition\\u2014new home, new school, etc.\\\\nTraumatic life experiences, like living through a natural disaster\\\\nTeasing or bullying\\\\nDifficulties in school or with classmates\\\\nWhat to Do\\\\nIf you are concerned about your child's behaviors, it is important to get appropriate care. You should:\\\\nTalk to your child's doctor, school nurse, or another health care provider and seek further information about the behaviors or symptoms that worry you\\\", 'watching children go through challenges in their lives is difficult . on a very basic level , there exists a primal need to protect them from harm . the hard part for parents is letting them feel those challenges and working through them as they get older . at some point , there is a moment that occurs when the role as a parent shifts . children no longer need the basics ( food , shelter . water , safety ) as much as when they were toddlers , but rather , their needs shift to wanting more support , encouragement , advice , and room to make mistakes . this is where the ability to communicate with them , letting them direct the sails to gather the wind needed to move , is so important . keep the lines of communication open and be available to give feedback when they ask for it .', 'hello . it sounds like you are really concerned about your daughter because you have noticed a significant change in her behavior . it \\\\' s really a great first step that you are reaching out to get some ideas about what might be going on . you are clearly an observant and hands on mom who wants to be sure that her daughter is ok . this is a tough question to answer without more information . with that said , i have found that \\\" under stress people regress . \\\" in other words , many people , children and adults alike , often regress and behave differently - as if they were younger than their actual age - when under stress . therefore , my first question would be : has anything been happening recently that is causing your daughter stress ? this could be anything from conflict at home , recent changes such as moving , divorce , a loss of some kind , switching schools , or losing a friend or friends . additionally , sometimes if children are feeling bullied or left out by same age peers , they may gravitate toward younger playmates as a way to boost their social confidence . i would suggest that you think about what stressors / changes may have occurred recently . you may also want to check in with her teacher ( s ) to see if they have noticed any', \\\"your daughter is fortunate to have an observant parent , who is willing to seek out help in this regard . regression can be indicative of some stress in your child ' s life , so the issues she is facing should be examined . seeking advice from your daughter ' s pediatrician , as well as a practitioner familiar with adolescent issues or perhaps play therapy can equip you with insight into the causes of the behavior , and give you tools to assist your daughter in learning age appropriate social interactions .\\\"]\",\n          \"['there are many possible issues to consider as depression social anxieties , even medical illness . for some , even grief creates a sense of isolation , pains from relationship break up . also , obsessive thinking can be debilitating . seeking at least one trusted friend or family member can be a start towards increased personal support . some persons may simply feel connected by spending time with someone as this , even if not talking directly on issues , just being around another is positive . obviously there is more to explore on this question , given minimal information from two sentences .', \\\"Risk and Protective Factors\\\\nRisk and protective factors affect an individual's chances of positive or negative outcomes, such as suicide. These factors occur at multiple levels of influence\\u2014such as the individual, relationship, community, and greater societal levels. The Social-Ecological Model shows that effective suicide prevention interventions are needed to address these factors at all levels.\\\\nRisk factors for suicide\\\\nat the individual level include untreated mental illness and substance misuse, while protective factors for suicide at this level include problem-solving and coping skills, positive self-esteem, and a sense of purpose in life.\\\\nRelationship-level risks\\\\ninclude family conflict, knowing someone who died by suicide (particularly a family members), and social isolation; protective factors include family connectedness and supportive friendships.\\\\nCommunity-level risks\\\\ninvolve community violence, historical trauma, and access to lethal means; and protective factors include access to behavioral health services, community or cultural beliefs that discourage suicide, and connectedness to community and social institutions.\\\\nSocietal-level risks\\\\ninclude stigma, racism, and discrimination, while examples of protective factors include cultural identification and policies such as anti-discrimination laws.\\\\nLearn more about\\\\nRisk and Protective Factors\\\\nfor suicide, and read the\\\\n2024 National Strategy for Suicide Prevention\\\\n.Suicide Resources\\\\nGeneral Resources\\\\nSAMHSA Publications\\\\nOther Federal Resources\\\\nData and Research\\\\nNational Survey on Drug Use and Health | SAMHSA\\\\n2024 National Strategy for Suicide Prevention\\\\nGeneral Resources\\\\nSuicide Prevention Resource Center\\\\nSuicide Topics and Term Definitions | SPRC\\\\nPrevention and Education\\\\nSuicide Prevention |\\\\xa0NIMH\\\\nCDC\\u2019s Suicide Prevention Month: Partner Toolkit\\\\nSuicide Prevention | WHO\\\\nSuicide and Suicidal Behavior\\\\n#BeThe1To\\\\nThere Is Help and That We Are Not Alone | We R Native\\\", 'Suicide Prevention |\\\\xa0NIMH\\\\nCDC\\u2019s Suicide Prevention Month: Partner Toolkit\\\\nSuicide Prevention | WHO\\\\nSuicide and Suicidal Behavior\\\\n#BeThe1To\\\\nThere Is Help and That We Are Not Alone | We R Native\\\\nSuicide in America: Frequently Asked Questions | NIMH\\\\nPreventing Suicide: A Toolkit for High Schools\\\\nEarly Intervention\\\\nWhat to Do if You\\u2019re Concerned About Your Teen\\u2019s Mental Health: A Conversation Guide | The Jed Foundation (PDF | 617 KB)\\\\nYouth Mental Health First Aid\\\\n#chatsafe A Young Person\\u2019s Guide for Communicating Safely Online About Suicide (PDF | 6.7 MB)\\\\nI Want to Help My Friend | The Jed Foundation\\\\nSeize the Awkward\\\\nWhen Your Friend Is Talking About Suicide | We R Native\\\\nCrisis, Treatment, and Support Services\\\\n988 Suicide & Crisis Lifeline\\\\nTreatment for Suicidal Ideation, Self-harm, and Suicide Attempts Among Youth | SAMHSA\\\\nAdvisory: Addressing Suicidal Thoughts and Behaviors in Substance Use Treatment | SAMHSA\\\\nHelping Your Loved One Who is Suicidal: A Guide for Family and Friends | SAMHSA\\\\nRecovery and Postvention\\\\nAfter an Attempt: A Guide for Taking Care of Your Family Member After Treatment in the Emergency Department | SAMHSA\\\\nProvide for Immediate and Long-Term Postvention\\\\nRecovery and Recovery Support\\\\nSpecific Populations\\\\nHelp Yourself | 988 Suicide & Crisis Lifeline\\\\nThere Is Help and That We Are Not Alone | We R Native\\\\nSuicide Prevention in American Indian/Alaska Native Communities | SPRC\\\\nSuicide Prevention and Care | IHS\\\\nService Members, Veterans, and their Families Technical Assistance (SMVF TA) Center | SAMHSA\\\\nSuicide in Rural America | CDC\\\\nPopulations\\\\xa0\\u2013 Suicide Prevention Resource Center\\\\nRing the Alarm: The Crisis of Black Youth Suicide in America\\\\nHelping Your Loved One Who is Suicidal: A Guide for Family and Friends\\\\nAdvisory: Addressing Suicidal Thoughts and Behaviors in Substance Use Treatment\\\\nTreatment for Suicidal Ideation, Self-harm, and Suicide Attempts Among Youth', 'Advisory: Addressing Suicidal Thoughts and Behaviors in Substance Use Treatment\\\\nTreatment for Suicidal Ideation, Self-harm, and Suicide Attempts Among Youth\\\\nPrevention and Treatment of Anxiety, Depression, and Suicidal Thoughts and Behaviors Among College Students\\\\nAfter an Attempt: A Guide for Taking Care of Your Family Member After Treatment in the Emergency Department\\\\nAfter an Attempt: A Guide for Medical Providers in the Emergency Department\\\\nSuicide Prevention Publications\\\\nSuicide Safe Mobile App\\\\nNational Survey on Drug Use and Health\\\\nSuicide and Self-Harm FastStats | CDC\\\\nSuicide: Additional Resources | CDC\\\\nSuicide Rising Across America | CDC (PDF | 824 KB)\\\\nSuicide Prevention Month: Partner Toolkit | CDC\\\\nSuicide in America: Frequently Asked Questions | NIMH\\\\nGeneral Resources\\\\nData and Research\\\\nNational Survey on Drug Use and Health | SAMHSA\\\\n2024 National Strategy for Suicide Prevention\\\\nGeneral Resources\\\\nSuicide Prevention Resource Center\\\\nSuicide Topics and Term Definitions | SPRC\\\\nPrevention and Education\\\\nSuicide Prevention |\\\\xa0NIMH\\\\nCDC\\u2019s Suicide Prevention Month: Partner Toolkit\\\\nSuicide Prevention | WHO\\\\nSuicide and Suicidal Behavior\\\\n#BeThe1To\\\\nThere Is Help and That We Are Not Alone | We R Native\\\\nSuicide in America: Frequently Asked Questions | NIMH\\\\nPreventing Suicide: A Toolkit for High Schools\\\\nEarly Intervention\\\\nWhat to Do if You\\u2019re Concerned About Your Teen\\u2019s Mental Health: A Conversation Guide | The Jed Foundation (PDF | 617 KB)\\\\nYouth Mental Health First Aid\\\\n#chatsafe A Young Person\\u2019s Guide for Communicating Safely Online About Suicide (PDF | 6.7 MB)\\\\nI Want to Help My Friend | The Jed Foundation\\\\nSeize the Awkward\\\\nWhen Your Friend Is Talking About Suicide | We R Native\\\\nCrisis, Treatment, and Support Services\\\\n988 Suicide & Crisis Lifeline\\\\nTreatment for Suicidal Ideation, Self-harm, and Suicide Attempts Among Youth | SAMHSA\\\\nAdvisory: Addressing Suicidal Thoughts and Behaviors in Substance Use Treatment | SAMHSA', 'Mental health includes our emotional, psychological, and social well-being. It affects how we think, feel, and act, and helps determine how we handle stress, relate to others, and make choices.\\\\nMental health is important at every stage of life, from childhood and adolescence through adulthood. Over the course of your life, if you experience\\\\nmental health problems, your thinking, mood, and behavior could be affected.\\\\nMental Health Conditions\\\\nMental illnesses are disorders, ranging from mild to severe, that affect a person\\u2019s thinking, mood, and/or behavior. According to the National Institute of Mental Health, nearly one-in-five adults live with a mental illness.\\\\nMany factors contribute to mental health conditions, including:\\\\nBiological factors, such as genes or brain chemistry\\\\nLife experiences, such as trauma or abuse\\\\nFamily history of mental health problems\\\\n\\\\nSome mental health topics include:\\\\nAntisocial personality disorder\\\\nAnxiety disorders\\\\n(including generalized anxiety, panic disorders, obsessive-compulsive disorder (OCD), phobias, and social anxiety)\\\\nAttention-deficit hyperactivity disorder (ADHD)\\\\nBipolar disorder\\\\nBorderline personality disorder (BPD)\\\\nDepression\\\\nEating disorders\\\\n(including anorexia nervosa, binge eating disorder, and bulimia nervosa)\\\\nPost-traumatic stress disorder (PTSD)\\\\nSchizophrenia\\\\nSeasonal affective disorder (SAD)\\\\nSelf-harm\\\\nSuicide and suicidal behavior']\",\n          \"[\\\"As a parent or caregiver, you want the best for your children or other dependents. You may be concerned or have questions about certain behaviors they exhibit and how to ensure they get help.\\\\nWhat to Look For\\\\nIt is important to be aware of warning signs that your child may be struggling. You can play a critical role in knowing when your child may need help.\\\\nConsult with a school counselor, school nurse, mental health provider, or another health care professional if your child shows one or more of the following behaviors:\\\\nFeeling very sad or withdrawn or easily irritated for more than two weeks\\\\nSeriously trying to harm or kill themselves, or making plans to do so\\\\nExperiencing sudden overwhelming fear for no reason, sometimes with a racing heart or fast breathing\\\\nGetting in many fights or wanting to hurt others\\\\nShowing severe out-of-control behavior that can hurt oneself or others\\\\nNot eating, throwing up, or using laxatives to make themselves lose weight\\\\nHaving intense worries or fears that get in the way of daily activities\\\\nExperiencing extreme difficulty controlling behavior, putting themselves in physical danger or causing problems in school\\\\nUsing drugs or alcohol\\\\nHaving severe mood swings that cause problems in relationships\\\\nShowing drastic changes in behavior or personality\\\\nA drop in their school performance\\\\nBecause children often can't understand difficult situations on their own, you should pay particular attention if they experience:\\\\nLoss of a loved one\\\\nDivorce or separation of their parents\\\\nAny major transition\\u2014new home, new school, etc.\\\\nTraumatic life experiences, like living through a natural disaster\\\\nTeasing or bullying\\\\nDifficulties in school or with classmates\\\\nWhat to Do\\\\nIf you are concerned about your child's behaviors, it is important to get appropriate care. You should:\\\\nTalk to your child's doctor, school nurse, or another health care provider and seek further information about the behaviors or symptoms that worry you\\\", \\\"Educators are often the first to notice mental health problems in children and young adults. Here are some ways you can help your students and their families.\\\\nWhat Educators Should Know\\\\nYou should know:\\\\nThe\\\\nwarning signs\\\\nfor mental health problems.\\\\nHow to promote\\\\nmental health and substance use prevention\\\\nin schools and on campuses.\\\\nWhom to turn to, such as the principal, school nurse, school psychiatrist or psychologist, or school social worker, if you have questions or concerns about a student's behavior.\\\\nHow to access\\\\ncrisis support and other mental health services\\\\n.\\\\nWhat Educators Should Look for in Student Behavior\\\\nConsult with a school counselor, nurse, or administrator and the student's parents if you observe one or more of the following behaviors:\\\\nFeeling very sad or withdrawn for more than two weeks\\\\nSeriously trying to harm oneself, or making plans to do so\\\\nSudden overwhelming fear for no reason, sometimes with a racing heart or fast breathing\\\\nInvolvement in many fights or desire to badly hurt others\\\\nSevere out-of-control behavior that can hurt oneself or others\\\\nNot eating, throwing up, or using laxatives to make oneself lose weight\\\\nIntense worries or fears that get in the way of daily activities\\\\nExtreme difficulty concentrating or staying still that puts the student in physical danger or causes problems in the classroom\\\\nRepeated use of drugs or alcohol\\\\nSevere mood swings that cause problems in relationships\\\\nDrastic changes in the student's behavior or personality\\\\nWhat Educators Can Do in Classrooms and Schools\\\\nYou can support the mental health of all students in your classroom and school, not just individual students who may exhibit behavioral issues. Consider the following actions:\\\\nLearn more about mental health by taking a mental health awareness training\\\\nPromote social and emotional competency and build resilience\\\\nHelp ensure a positive, safe school environment\\\\nTeach and reinforce positive behaviors and decision-making\\\\nEncourage helping others\\\", \\\"Talk to your child's doctor, school nurse, or another health care provider and seek further information about the behaviors or symptoms that worry you\\\\nAsk your child's primary care physician if your child needs further evaluation by a specialist with experience in child behavioral problems\\\\nAsk if your child's specialist is experienced in treating the problems you are observing\\\\nTalk to your medical provider about any medication and treatment plans\\\\nHow to Talk About Mental Health with Your Child\\\\nDo you need help starting a conversation with your child about mental health?Do you need help starting a conversation with your child about mental health?\\\\nTry leading with these questions, and actively listen to your child's response:\\\\nCan you tell me more about what is happening? How are you feeling?\\\\nHave you had feelings like this in the past?\\\\nSometimes you need to talk to an adult about your feelings. I'm here to listen. How can I help you feel better?\\\\nDo you feel like you want to talk to someone else about your problem?\\\\nI'm worried about your safety. Can you tell me if you have thoughts about harming yourself or others?When talking about mental health problems with your child you should:\\\\nWhen talking about mental health problems with your child you should:\\\\nCommunicate in a straightforward manner\\\\nSpeak at a level that is appropriate to a child or adolescent's age and development level (preschool children need fewer details than teenagers)\\\\nDiscuss the topic when your child feels safe and comfortable\\\\nWatch for reactions during the discussion and slow down or back up if your child becomes confused or looks upset\\\\nListen openly and let your child tell you about their feelings and worriesLearn More About Supporting Your Children\\\\nLearn More About Supporting Your Children\\\\nThere are many resources for parents and caregivers who want to know more about children's mental health. Learn more about:\\\\nRecognizing mental health problems in children\\\", \\\"I've been worried about you. Can we talk about what you are experiencing? If not, who are you comfortable talking to?\\\\nWhat can I do to help you to talk about issues with your parents or someone else who is responsible and cares about you?\\\\nWhat else can I help you with?\\\\nI am someone who cares and wants to listen. What do you want me to know about how you are feeling?\\\\nWho or what has helped you deal with similar issues in the past?\\\\nSometimes talking to someone who has dealt with a similar experience helps. Do you know of others who have experienced these types of problems who you can talk with?\\\\nIt seems like you are going through a difficult time. How can I help you to find help?\\\\nHow can I help you find more information about mental health problems?\\\\nI'm concerned about your safety. Have you thought about harming yourself or others?\\\\nWhen talking about mental health problems:\\\\nKnow how to\\\\nconnect people to help\\\\nCommunicate in a straightforward manner\\\\nSpeak at a level appropriate to a person's age and development level (preschool children need fewer details as compared to teenagers)\\\\nDiscuss the topic when and where the person feels safe and comfortable\\\\nWatch for reactions during the discussion and slow down or back up if the person becomes confused or looks upset\\\\nSometimes it is helpful to make a comparison to a physical illness. For example, many people get sick with a cold or the flu, but only a few get really sick with something serious like pneumonia. People who have a cold are usually able to do their normal activities. However, if they get pneumonia, they will have to take medicine and may have to go to the hospital.\\\", 'watching children go through challenges in their lives is difficult . on a very basic level , there exists a primal need to protect them from harm . the hard part for parents is letting them feel those challenges and working through them as they get older . at some point , there is a moment that occurs when the role as a parent shifts . children no longer need the basics ( food , shelter . water , safety ) as much as when they were toddlers , but rather , their needs shift to wanting more support , encouragement , advice , and room to make mistakes . this is where the ability to communicate with them , letting them direct the sails to gather the wind needed to move , is so important . keep the lines of communication open and be available to give feedback when they ask for it .']\"\n        ],\n        \"semantic_type\": \"\",\n        \"description\": \"\"\n      }\n    },\n    {\n      \"column\": \"rag_response\",\n      \"properties\": {\n        \"dtype\": \"string\",\n        \"num_unique_values\": 99,\n        \"samples\": [\n          \"Effective interventions for children facing mental health issues include promoting healthy social and emotional development, recognizing when they are at risk for or experiencing mental health problems, identifying how to intervene early and appropriately when there are problems, and connecting them to help. These interventions also involve strengthening connections within the community to mental health services and support, learning the basic signs of mental illnesses, and training key community members to identify the signs of depression and suicide. Additionally, developing relationships with local mental health service providers and sharing resources like the\",\n          \"Social withdrawal is a concern for youth because it can indicate that they are feeling isolated and unsure of how to make friends. It is not necessarily that there is something wrong with the child, but they will in fact need help and suggestions for breaking into a peer group.\",\n          \"Left untreated, OCD can take over your life.\"\n        ],\n        \"semantic_type\": \"\",\n        \"description\": \"\"\n      }\n    }\n  ]\n}"
            }
          },
          "metadata": {},
          "execution_count": 111
        }
      ]
    },
    {
      "cell_type": "code",
      "source": [
        "results_df.to_csv(\"pc-retriever-gte-base-responses.csv\")"
      ],
      "metadata": {
        "id": "tDd4igMnktyv"
      },
      "execution_count": null,
      "outputs": []
    },
    {
      "cell_type": "markdown",
      "source": [
        "Evaluation"
      ],
      "metadata": {
        "id": "8PoZpW6Mk2Ks"
      }
    },
    {
      "cell_type": "code",
      "source": [
        "import pandas as pd\n",
        "eval_df = pd.read_csv(\"pc-retriever-gte-base-responses.csv\")"
      ],
      "metadata": {
        "id": "RGHxjxLdNR8H"
      },
      "execution_count": null,
      "outputs": []
    },
    {
      "cell_type": "code",
      "source": [
        "eval_df.head()"
      ],
      "metadata": {
        "colab": {
          "base_uri": "https://localhost:8080/",
          "height": 293
        },
        "id": "h8cG7RmypTXi",
        "outputId": "dc0220e8-d5e8-4862-8de9-8f34eebce97d"
      },
      "execution_count": null,
      "outputs": [
        {
          "output_type": "execute_result",
          "data": {
            "text/plain": [
              "                                            Question  \\\n",
              "0   What triggers Seasonal Affective Disorder (SAD)?   \n",
              "1      What are the health risks of bulimia nervosa?   \n",
              "2  How can someone with mental health problems ma...   \n",
              "3       What are the risk factors for schizophrenia?   \n",
              "4   How does schizophrenia impact daily functioning?   \n",
              "\n",
              "                                        Ground_Truth  \\\n",
              "0  SAD is triggered by seasonal changes, especial...   \n",
              "1  Risks include dental decay, dehydration, and s...   \n",
              "2  By finding trustworthy individuals who provide...   \n",
              "3  Risk factors include genetic predisposition an...   \n",
              "4  It affects work, socialization, and completing...   \n",
              "\n",
              "                                              Source        Category  \\\n",
              "0  https://www.samhsa.gov/mental-health/seasonal-...  Mental Illness   \n",
              "1  https://www.samhsa.gov/mental-health/eating-di...  Mental Illness   \n",
              "2  https://www.samhsa.gov/mental-health/how-to-ta...   Mental Health   \n",
              "3  https://www.samhsa.gov/mental-health/schizophr...  Mental Illness   \n",
              "4  https://www.samhsa.gov/mental-health/schizophr...  Mental Illness   \n",
              "\n",
              "                                             Context  \\\n",
              "0  ['Seasonal affective disorder, or SAD, is a co...   \n",
              "1  ['It is common that binge eating will lead to ...   \n",
              "2  [\"Anyone can experience mental health problems...   \n",
              "3  ['Schizophrenia is a serious brain disorder th...   \n",
              "4  ['Schizophrenia is a serious brain disorder th...   \n",
              "\n",
              "                                        rag_response  \n",
              "0  The trigger for Seasonal Affective Disorder (S...  \n",
              "1  The health risks of bulimia nervosa include:\\n...  \n",
              "2  Maintaining a support system is crucial for so...  \n",
              "3  According to the provided context, the risk fa...  \n",
              "4  Schizophrenia can be extremely disruptive to a...  "
            ],
            "text/html": [
              "\n",
              "  <div id=\"df-48937480-f79b-4ed9-96f9-82cbcc4f04f2\" class=\"colab-df-container\">\n",
              "    <div>\n",
              "<style scoped>\n",
              "    .dataframe tbody tr th:only-of-type {\n",
              "        vertical-align: middle;\n",
              "    }\n",
              "\n",
              "    .dataframe tbody tr th {\n",
              "        vertical-align: top;\n",
              "    }\n",
              "\n",
              "    .dataframe thead th {\n",
              "        text-align: right;\n",
              "    }\n",
              "</style>\n",
              "<table border=\"1\" class=\"dataframe\">\n",
              "  <thead>\n",
              "    <tr style=\"text-align: right;\">\n",
              "      <th></th>\n",
              "      <th>Question</th>\n",
              "      <th>Ground_Truth</th>\n",
              "      <th>Source</th>\n",
              "      <th>Category</th>\n",
              "      <th>Context</th>\n",
              "      <th>rag_response</th>\n",
              "    </tr>\n",
              "  </thead>\n",
              "  <tbody>\n",
              "    <tr>\n",
              "      <th>0</th>\n",
              "      <td>What triggers Seasonal Affective Disorder (SAD)?</td>\n",
              "      <td>SAD is triggered by seasonal changes, especial...</td>\n",
              "      <td>https://www.samhsa.gov/mental-health/seasonal-...</td>\n",
              "      <td>Mental Illness</td>\n",
              "      <td>['Seasonal affective disorder, or SAD, is a co...</td>\n",
              "      <td>The trigger for Seasonal Affective Disorder (S...</td>\n",
              "    </tr>\n",
              "    <tr>\n",
              "      <th>1</th>\n",
              "      <td>What are the health risks of bulimia nervosa?</td>\n",
              "      <td>Risks include dental decay, dehydration, and s...</td>\n",
              "      <td>https://www.samhsa.gov/mental-health/eating-di...</td>\n",
              "      <td>Mental Illness</td>\n",
              "      <td>['It is common that binge eating will lead to ...</td>\n",
              "      <td>The health risks of bulimia nervosa include:\\n...</td>\n",
              "    </tr>\n",
              "    <tr>\n",
              "      <th>2</th>\n",
              "      <td>How can someone with mental health problems ma...</td>\n",
              "      <td>By finding trustworthy individuals who provide...</td>\n",
              "      <td>https://www.samhsa.gov/mental-health/how-to-ta...</td>\n",
              "      <td>Mental Health</td>\n",
              "      <td>[\"Anyone can experience mental health problems...</td>\n",
              "      <td>Maintaining a support system is crucial for so...</td>\n",
              "    </tr>\n",
              "    <tr>\n",
              "      <th>3</th>\n",
              "      <td>What are the risk factors for schizophrenia?</td>\n",
              "      <td>Risk factors include genetic predisposition an...</td>\n",
              "      <td>https://www.samhsa.gov/mental-health/schizophr...</td>\n",
              "      <td>Mental Illness</td>\n",
              "      <td>['Schizophrenia is a serious brain disorder th...</td>\n",
              "      <td>According to the provided context, the risk fa...</td>\n",
              "    </tr>\n",
              "    <tr>\n",
              "      <th>4</th>\n",
              "      <td>How does schizophrenia impact daily functioning?</td>\n",
              "      <td>It affects work, socialization, and completing...</td>\n",
              "      <td>https://www.samhsa.gov/mental-health/schizophr...</td>\n",
              "      <td>Mental Illness</td>\n",
              "      <td>['Schizophrenia is a serious brain disorder th...</td>\n",
              "      <td>Schizophrenia can be extremely disruptive to a...</td>\n",
              "    </tr>\n",
              "  </tbody>\n",
              "</table>\n",
              "</div>\n",
              "    <div class=\"colab-df-buttons\">\n",
              "\n",
              "  <div class=\"colab-df-container\">\n",
              "    <button class=\"colab-df-convert\" onclick=\"convertToInteractive('df-48937480-f79b-4ed9-96f9-82cbcc4f04f2')\"\n",
              "            title=\"Convert this dataframe to an interactive table.\"\n",
              "            style=\"display:none;\">\n",
              "\n",
              "  <svg xmlns=\"http://www.w3.org/2000/svg\" height=\"24px\" viewBox=\"0 -960 960 960\">\n",
              "    <path d=\"M120-120v-720h720v720H120Zm60-500h600v-160H180v160Zm220 220h160v-160H400v160Zm0 220h160v-160H400v160ZM180-400h160v-160H180v160Zm440 0h160v-160H620v160ZM180-180h160v-160H180v160Zm440 0h160v-160H620v160Z\"/>\n",
              "  </svg>\n",
              "    </button>\n",
              "\n",
              "  <style>\n",
              "    .colab-df-container {\n",
              "      display:flex;\n",
              "      gap: 12px;\n",
              "    }\n",
              "\n",
              "    .colab-df-convert {\n",
              "      background-color: #E8F0FE;\n",
              "      border: none;\n",
              "      border-radius: 50%;\n",
              "      cursor: pointer;\n",
              "      display: none;\n",
              "      fill: #1967D2;\n",
              "      height: 32px;\n",
              "      padding: 0 0 0 0;\n",
              "      width: 32px;\n",
              "    }\n",
              "\n",
              "    .colab-df-convert:hover {\n",
              "      background-color: #E2EBFA;\n",
              "      box-shadow: 0px 1px 2px rgba(60, 64, 67, 0.3), 0px 1px 3px 1px rgba(60, 64, 67, 0.15);\n",
              "      fill: #174EA6;\n",
              "    }\n",
              "\n",
              "    .colab-df-buttons div {\n",
              "      margin-bottom: 4px;\n",
              "    }\n",
              "\n",
              "    [theme=dark] .colab-df-convert {\n",
              "      background-color: #3B4455;\n",
              "      fill: #D2E3FC;\n",
              "    }\n",
              "\n",
              "    [theme=dark] .colab-df-convert:hover {\n",
              "      background-color: #434B5C;\n",
              "      box-shadow: 0px 1px 3px 1px rgba(0, 0, 0, 0.15);\n",
              "      filter: drop-shadow(0px 1px 2px rgba(0, 0, 0, 0.3));\n",
              "      fill: #FFFFFF;\n",
              "    }\n",
              "  </style>\n",
              "\n",
              "    <script>\n",
              "      const buttonEl =\n",
              "        document.querySelector('#df-48937480-f79b-4ed9-96f9-82cbcc4f04f2 button.colab-df-convert');\n",
              "      buttonEl.style.display =\n",
              "        google.colab.kernel.accessAllowed ? 'block' : 'none';\n",
              "\n",
              "      async function convertToInteractive(key) {\n",
              "        const element = document.querySelector('#df-48937480-f79b-4ed9-96f9-82cbcc4f04f2');\n",
              "        const dataTable =\n",
              "          await google.colab.kernel.invokeFunction('convertToInteractive',\n",
              "                                                    [key], {});\n",
              "        if (!dataTable) return;\n",
              "\n",
              "        const docLinkHtml = 'Like what you see? Visit the ' +\n",
              "          '<a target=\"_blank\" href=https://colab.research.google.com/notebooks/data_table.ipynb>data table notebook</a>'\n",
              "          + ' to learn more about interactive tables.';\n",
              "        element.innerHTML = '';\n",
              "        dataTable['output_type'] = 'display_data';\n",
              "        await google.colab.output.renderOutput(dataTable, element);\n",
              "        const docLink = document.createElement('div');\n",
              "        docLink.innerHTML = docLinkHtml;\n",
              "        element.appendChild(docLink);\n",
              "      }\n",
              "    </script>\n",
              "  </div>\n",
              "\n",
              "\n",
              "<div id=\"df-5eabf603-c0eb-4ddc-a210-219fbf7bdecc\">\n",
              "  <button class=\"colab-df-quickchart\" onclick=\"quickchart('df-5eabf603-c0eb-4ddc-a210-219fbf7bdecc')\"\n",
              "            title=\"Suggest charts\"\n",
              "            style=\"display:none;\">\n",
              "\n",
              "<svg xmlns=\"http://www.w3.org/2000/svg\" height=\"24px\"viewBox=\"0 0 24 24\"\n",
              "     width=\"24px\">\n",
              "    <g>\n",
              "        <path d=\"M19 3H5c-1.1 0-2 .9-2 2v14c0 1.1.9 2 2 2h14c1.1 0 2-.9 2-2V5c0-1.1-.9-2-2-2zM9 17H7v-7h2v7zm4 0h-2V7h2v10zm4 0h-2v-4h2v4z\"/>\n",
              "    </g>\n",
              "</svg>\n",
              "  </button>\n",
              "\n",
              "<style>\n",
              "  .colab-df-quickchart {\n",
              "      --bg-color: #E8F0FE;\n",
              "      --fill-color: #1967D2;\n",
              "      --hover-bg-color: #E2EBFA;\n",
              "      --hover-fill-color: #174EA6;\n",
              "      --disabled-fill-color: #AAA;\n",
              "      --disabled-bg-color: #DDD;\n",
              "  }\n",
              "\n",
              "  [theme=dark] .colab-df-quickchart {\n",
              "      --bg-color: #3B4455;\n",
              "      --fill-color: #D2E3FC;\n",
              "      --hover-bg-color: #434B5C;\n",
              "      --hover-fill-color: #FFFFFF;\n",
              "      --disabled-bg-color: #3B4455;\n",
              "      --disabled-fill-color: #666;\n",
              "  }\n",
              "\n",
              "  .colab-df-quickchart {\n",
              "    background-color: var(--bg-color);\n",
              "    border: none;\n",
              "    border-radius: 50%;\n",
              "    cursor: pointer;\n",
              "    display: none;\n",
              "    fill: var(--fill-color);\n",
              "    height: 32px;\n",
              "    padding: 0;\n",
              "    width: 32px;\n",
              "  }\n",
              "\n",
              "  .colab-df-quickchart:hover {\n",
              "    background-color: var(--hover-bg-color);\n",
              "    box-shadow: 0 1px 2px rgba(60, 64, 67, 0.3), 0 1px 3px 1px rgba(60, 64, 67, 0.15);\n",
              "    fill: var(--button-hover-fill-color);\n",
              "  }\n",
              "\n",
              "  .colab-df-quickchart-complete:disabled,\n",
              "  .colab-df-quickchart-complete:disabled:hover {\n",
              "    background-color: var(--disabled-bg-color);\n",
              "    fill: var(--disabled-fill-color);\n",
              "    box-shadow: none;\n",
              "  }\n",
              "\n",
              "  .colab-df-spinner {\n",
              "    border: 2px solid var(--fill-color);\n",
              "    border-color: transparent;\n",
              "    border-bottom-color: var(--fill-color);\n",
              "    animation:\n",
              "      spin 1s steps(1) infinite;\n",
              "  }\n",
              "\n",
              "  @keyframes spin {\n",
              "    0% {\n",
              "      border-color: transparent;\n",
              "      border-bottom-color: var(--fill-color);\n",
              "      border-left-color: var(--fill-color);\n",
              "    }\n",
              "    20% {\n",
              "      border-color: transparent;\n",
              "      border-left-color: var(--fill-color);\n",
              "      border-top-color: var(--fill-color);\n",
              "    }\n",
              "    30% {\n",
              "      border-color: transparent;\n",
              "      border-left-color: var(--fill-color);\n",
              "      border-top-color: var(--fill-color);\n",
              "      border-right-color: var(--fill-color);\n",
              "    }\n",
              "    40% {\n",
              "      border-color: transparent;\n",
              "      border-right-color: var(--fill-color);\n",
              "      border-top-color: var(--fill-color);\n",
              "    }\n",
              "    60% {\n",
              "      border-color: transparent;\n",
              "      border-right-color: var(--fill-color);\n",
              "    }\n",
              "    80% {\n",
              "      border-color: transparent;\n",
              "      border-right-color: var(--fill-color);\n",
              "      border-bottom-color: var(--fill-color);\n",
              "    }\n",
              "    90% {\n",
              "      border-color: transparent;\n",
              "      border-bottom-color: var(--fill-color);\n",
              "    }\n",
              "  }\n",
              "</style>\n",
              "\n",
              "  <script>\n",
              "    async function quickchart(key) {\n",
              "      const quickchartButtonEl =\n",
              "        document.querySelector('#' + key + ' button');\n",
              "      quickchartButtonEl.disabled = true;  // To prevent multiple clicks.\n",
              "      quickchartButtonEl.classList.add('colab-df-spinner');\n",
              "      try {\n",
              "        const charts = await google.colab.kernel.invokeFunction(\n",
              "            'suggestCharts', [key], {});\n",
              "      } catch (error) {\n",
              "        console.error('Error during call to suggestCharts:', error);\n",
              "      }\n",
              "      quickchartButtonEl.classList.remove('colab-df-spinner');\n",
              "      quickchartButtonEl.classList.add('colab-df-quickchart-complete');\n",
              "    }\n",
              "    (() => {\n",
              "      let quickchartButtonEl =\n",
              "        document.querySelector('#df-5eabf603-c0eb-4ddc-a210-219fbf7bdecc button');\n",
              "      quickchartButtonEl.style.display =\n",
              "        google.colab.kernel.accessAllowed ? 'block' : 'none';\n",
              "    })();\n",
              "  </script>\n",
              "</div>\n",
              "\n",
              "    </div>\n",
              "  </div>\n"
            ],
            "application/vnd.google.colaboratory.intrinsic+json": {
              "type": "dataframe",
              "variable_name": "eval_df",
              "summary": "{\n  \"name\": \"eval_df\",\n  \"rows\": 100,\n  \"fields\": [\n    {\n      \"column\": \"Question\",\n      \"properties\": {\n        \"dtype\": \"string\",\n        \"num_unique_values\": 100,\n        \"samples\": [\n          \"How are phobias different from general anxiety?\",\n          \"How can someone help a person showing warning signs of suicide?\",\n          \"What causes self-harm behaviors?\"\n        ],\n        \"semantic_type\": \"\",\n        \"description\": \"\"\n      }\n    },\n    {\n      \"column\": \"Ground_Truth\",\n      \"properties\": {\n        \"dtype\": \"string\",\n        \"num_unique_values\": 100,\n        \"samples\": [\n          \"Phobias are irrational fears specific to certain objects or situations, unlike generalized anxiety which is ongoing and not situation-specific.\",\n          \"They can listen without judgment, ask directly about suicidal thoughts, stay with the person, and remove potential means of self-harm.\",\n          \"Causes include emotional distress and difficulty coping with negative feelings.\"\n        ],\n        \"semantic_type\": \"\",\n        \"description\": \"\"\n      }\n    },\n    {\n      \"column\": \"Source\",\n      \"properties\": {\n        \"dtype\": \"category\",\n        \"num_unique_values\": 13,\n        \"samples\": [\n          \"Counsel chat dataset\",\n          \"https://www.samhsa.gov/mental-health/suicide/prevention\",\n          \"https://www.samhsa.gov/mental-health/seasonal-affective-disorder\"\n        ],\n        \"semantic_type\": \"\",\n        \"description\": \"\"\n      }\n    },\n    {\n      \"column\": \"Category\",\n      \"properties\": {\n        \"dtype\": \"category\",\n        \"num_unique_values\": 5,\n        \"samples\": [\n          \"Mental Health\",\n          \"Depression\",\n          \"Anxiety\"\n        ],\n        \"semantic_type\": \"\",\n        \"description\": \"\"\n      }\n    },\n    {\n      \"column\": \"Context\",\n      \"properties\": {\n        \"dtype\": \"string\",\n        \"num_unique_values\": 98,\n        \"samples\": [\n          \"[\\\"this is certainly an important issue to look into , it is always helpful to speak with the child ' s pediatrician since they are most familiar with the child ' s developmental history . also , children tend to regress behaviorally when facing events and interactions they feel to have no control over , this can be as simple as a loss of a pet , a recent move , death in the family , and / or as serious as sexual abuse , and other things . if you have not spoken to the school that can be a good starting point .\\\", \\\"As a parent or caregiver, you want the best for your children or other dependents. You may be concerned or have questions about certain behaviors they exhibit and how to ensure they get help.\\\\nWhat to Look For\\\\nIt is important to be aware of warning signs that your child may be struggling. You can play a critical role in knowing when your child may need help.\\\\nConsult with a school counselor, school nurse, mental health provider, or another health care professional if your child shows one or more of the following behaviors:\\\\nFeeling very sad or withdrawn or easily irritated for more than two weeks\\\\nSeriously trying to harm or kill themselves, or making plans to do so\\\\nExperiencing sudden overwhelming fear for no reason, sometimes with a racing heart or fast breathing\\\\nGetting in many fights or wanting to hurt others\\\\nShowing severe out-of-control behavior that can hurt oneself or others\\\\nNot eating, throwing up, or using laxatives to make themselves lose weight\\\\nHaving intense worries or fears that get in the way of daily activities\\\\nExperiencing extreme difficulty controlling behavior, putting themselves in physical danger or causing problems in school\\\\nUsing drugs or alcohol\\\\nHaving severe mood swings that cause problems in relationships\\\\nShowing drastic changes in behavior or personality\\\\nA drop in their school performance\\\\nBecause children often can't understand difficult situations on their own, you should pay particular attention if they experience:\\\\nLoss of a loved one\\\\nDivorce or separation of their parents\\\\nAny major transition\\u2014new home, new school, etc.\\\\nTraumatic life experiences, like living through a natural disaster\\\\nTeasing or bullying\\\\nDifficulties in school or with classmates\\\\nWhat to Do\\\\nIf you are concerned about your child's behaviors, it is important to get appropriate care. You should:\\\\nTalk to your child's doctor, school nurse, or another health care provider and seek further information about the behaviors or symptoms that worry you\\\", 'watching children go through challenges in their lives is difficult . on a very basic level , there exists a primal need to protect them from harm . the hard part for parents is letting them feel those challenges and working through them as they get older . at some point , there is a moment that occurs when the role as a parent shifts . children no longer need the basics ( food , shelter . water , safety ) as much as when they were toddlers , but rather , their needs shift to wanting more support , encouragement , advice , and room to make mistakes . this is where the ability to communicate with them , letting them direct the sails to gather the wind needed to move , is so important . keep the lines of communication open and be available to give feedback when they ask for it .', 'hello . it sounds like you are really concerned about your daughter because you have noticed a significant change in her behavior . it \\\\' s really a great first step that you are reaching out to get some ideas about what might be going on . you are clearly an observant and hands on mom who wants to be sure that her daughter is ok . this is a tough question to answer without more information . with that said , i have found that \\\" under stress people regress . \\\" in other words , many people , children and adults alike , often regress and behave differently - as if they were younger than their actual age - when under stress . therefore , my first question would be : has anything been happening recently that is causing your daughter stress ? this could be anything from conflict at home , recent changes such as moving , divorce , a loss of some kind , switching schools , or losing a friend or friends . additionally , sometimes if children are feeling bullied or left out by same age peers , they may gravitate toward younger playmates as a way to boost their social confidence . i would suggest that you think about what stressors / changes may have occurred recently . you may also want to check in with her teacher ( s ) to see if they have noticed any', \\\"your daughter is fortunate to have an observant parent , who is willing to seek out help in this regard . regression can be indicative of some stress in your child ' s life , so the issues she is facing should be examined . seeking advice from your daughter ' s pediatrician , as well as a practitioner familiar with adolescent issues or perhaps play therapy can equip you with insight into the causes of the behavior , and give you tools to assist your daughter in learning age appropriate social interactions .\\\"]\",\n          \"['there are many possible issues to consider as depression social anxieties , even medical illness . for some , even grief creates a sense of isolation , pains from relationship break up . also , obsessive thinking can be debilitating . seeking at least one trusted friend or family member can be a start towards increased personal support . some persons may simply feel connected by spending time with someone as this , even if not talking directly on issues , just being around another is positive . obviously there is more to explore on this question , given minimal information from two sentences .', \\\"Risk and Protective Factors\\\\nRisk and protective factors affect an individual's chances of positive or negative outcomes, such as suicide. These factors occur at multiple levels of influence\\u2014such as the individual, relationship, community, and greater societal levels. The Social-Ecological Model shows that effective suicide prevention interventions are needed to address these factors at all levels.\\\\nRisk factors for suicide\\\\nat the individual level include untreated mental illness and substance misuse, while protective factors for suicide at this level include problem-solving and coping skills, positive self-esteem, and a sense of purpose in life.\\\\nRelationship-level risks\\\\ninclude family conflict, knowing someone who died by suicide (particularly a family members), and social isolation; protective factors include family connectedness and supportive friendships.\\\\nCommunity-level risks\\\\ninvolve community violence, historical trauma, and access to lethal means; and protective factors include access to behavioral health services, community or cultural beliefs that discourage suicide, and connectedness to community and social institutions.\\\\nSocietal-level risks\\\\ninclude stigma, racism, and discrimination, while examples of protective factors include cultural identification and policies such as anti-discrimination laws.\\\\nLearn more about\\\\nRisk and Protective Factors\\\\nfor suicide, and read the\\\\n2024 National Strategy for Suicide Prevention\\\\n.Suicide Resources\\\\nGeneral Resources\\\\nSAMHSA Publications\\\\nOther Federal Resources\\\\nData and Research\\\\nNational Survey on Drug Use and Health | SAMHSA\\\\n2024 National Strategy for Suicide Prevention\\\\nGeneral Resources\\\\nSuicide Prevention Resource Center\\\\nSuicide Topics and Term Definitions | SPRC\\\\nPrevention and Education\\\\nSuicide Prevention |\\\\xa0NIMH\\\\nCDC\\u2019s Suicide Prevention Month: Partner Toolkit\\\\nSuicide Prevention | WHO\\\\nSuicide and Suicidal Behavior\\\\n#BeThe1To\\\\nThere Is Help and That We Are Not Alone | We R Native\\\", 'Suicide Prevention |\\\\xa0NIMH\\\\nCDC\\u2019s Suicide Prevention Month: Partner Toolkit\\\\nSuicide Prevention | WHO\\\\nSuicide and Suicidal Behavior\\\\n#BeThe1To\\\\nThere Is Help and That We Are Not Alone | We R Native\\\\nSuicide in America: Frequently Asked Questions | NIMH\\\\nPreventing Suicide: A Toolkit for High Schools\\\\nEarly Intervention\\\\nWhat to Do if You\\u2019re Concerned About Your Teen\\u2019s Mental Health: A Conversation Guide | The Jed Foundation (PDF | 617 KB)\\\\nYouth Mental Health First Aid\\\\n#chatsafe A Young Person\\u2019s Guide for Communicating Safely Online About Suicide (PDF | 6.7 MB)\\\\nI Want to Help My Friend | The Jed Foundation\\\\nSeize the Awkward\\\\nWhen Your Friend Is Talking About Suicide | We R Native\\\\nCrisis, Treatment, and Support Services\\\\n988 Suicide & Crisis Lifeline\\\\nTreatment for Suicidal Ideation, Self-harm, and Suicide Attempts Among Youth | SAMHSA\\\\nAdvisory: Addressing Suicidal Thoughts and Behaviors in Substance Use Treatment | SAMHSA\\\\nHelping Your Loved One Who is Suicidal: A Guide for Family and Friends | SAMHSA\\\\nRecovery and Postvention\\\\nAfter an Attempt: A Guide for Taking Care of Your Family Member After Treatment in the Emergency Department | SAMHSA\\\\nProvide for Immediate and Long-Term Postvention\\\\nRecovery and Recovery Support\\\\nSpecific Populations\\\\nHelp Yourself | 988 Suicide & Crisis Lifeline\\\\nThere Is Help and That We Are Not Alone | We R Native\\\\nSuicide Prevention in American Indian/Alaska Native Communities | SPRC\\\\nSuicide Prevention and Care | IHS\\\\nService Members, Veterans, and their Families Technical Assistance (SMVF TA) Center | SAMHSA\\\\nSuicide in Rural America | CDC\\\\nPopulations\\\\xa0\\u2013 Suicide Prevention Resource Center\\\\nRing the Alarm: The Crisis of Black Youth Suicide in America\\\\nHelping Your Loved One Who is Suicidal: A Guide for Family and Friends\\\\nAdvisory: Addressing Suicidal Thoughts and Behaviors in Substance Use Treatment\\\\nTreatment for Suicidal Ideation, Self-harm, and Suicide Attempts Among Youth', 'Advisory: Addressing Suicidal Thoughts and Behaviors in Substance Use Treatment\\\\nTreatment for Suicidal Ideation, Self-harm, and Suicide Attempts Among Youth\\\\nPrevention and Treatment of Anxiety, Depression, and Suicidal Thoughts and Behaviors Among College Students\\\\nAfter an Attempt: A Guide for Taking Care of Your Family Member After Treatment in the Emergency Department\\\\nAfter an Attempt: A Guide for Medical Providers in the Emergency Department\\\\nSuicide Prevention Publications\\\\nSuicide Safe Mobile App\\\\nNational Survey on Drug Use and Health\\\\nSuicide and Self-Harm FastStats | CDC\\\\nSuicide: Additional Resources | CDC\\\\nSuicide Rising Across America | CDC (PDF | 824 KB)\\\\nSuicide Prevention Month: Partner Toolkit | CDC\\\\nSuicide in America: Frequently Asked Questions | NIMH\\\\nGeneral Resources\\\\nData and Research\\\\nNational Survey on Drug Use and Health | SAMHSA\\\\n2024 National Strategy for Suicide Prevention\\\\nGeneral Resources\\\\nSuicide Prevention Resource Center\\\\nSuicide Topics and Term Definitions | SPRC\\\\nPrevention and Education\\\\nSuicide Prevention |\\\\xa0NIMH\\\\nCDC\\u2019s Suicide Prevention Month: Partner Toolkit\\\\nSuicide Prevention | WHO\\\\nSuicide and Suicidal Behavior\\\\n#BeThe1To\\\\nThere Is Help and That We Are Not Alone | We R Native\\\\nSuicide in America: Frequently Asked Questions | NIMH\\\\nPreventing Suicide: A Toolkit for High Schools\\\\nEarly Intervention\\\\nWhat to Do if You\\u2019re Concerned About Your Teen\\u2019s Mental Health: A Conversation Guide | The Jed Foundation (PDF | 617 KB)\\\\nYouth Mental Health First Aid\\\\n#chatsafe A Young Person\\u2019s Guide for Communicating Safely Online About Suicide (PDF | 6.7 MB)\\\\nI Want to Help My Friend | The Jed Foundation\\\\nSeize the Awkward\\\\nWhen Your Friend Is Talking About Suicide | We R Native\\\\nCrisis, Treatment, and Support Services\\\\n988 Suicide & Crisis Lifeline\\\\nTreatment for Suicidal Ideation, Self-harm, and Suicide Attempts Among Youth | SAMHSA\\\\nAdvisory: Addressing Suicidal Thoughts and Behaviors in Substance Use Treatment | SAMHSA', 'Mental health includes our emotional, psychological, and social well-being. It affects how we think, feel, and act, and helps determine how we handle stress, relate to others, and make choices.\\\\nMental health is important at every stage of life, from childhood and adolescence through adulthood. Over the course of your life, if you experience\\\\nmental health problems, your thinking, mood, and behavior could be affected.\\\\nMental Health Conditions\\\\nMental illnesses are disorders, ranging from mild to severe, that affect a person\\u2019s thinking, mood, and/or behavior. According to the National Institute of Mental Health, nearly one-in-five adults live with a mental illness.\\\\nMany factors contribute to mental health conditions, including:\\\\nBiological factors, such as genes or brain chemistry\\\\nLife experiences, such as trauma or abuse\\\\nFamily history of mental health problems\\\\n\\\\nSome mental health topics include:\\\\nAntisocial personality disorder\\\\nAnxiety disorders\\\\n(including generalized anxiety, panic disorders, obsessive-compulsive disorder (OCD), phobias, and social anxiety)\\\\nAttention-deficit hyperactivity disorder (ADHD)\\\\nBipolar disorder\\\\nBorderline personality disorder (BPD)\\\\nDepression\\\\nEating disorders\\\\n(including anorexia nervosa, binge eating disorder, and bulimia nervosa)\\\\nPost-traumatic stress disorder (PTSD)\\\\nSchizophrenia\\\\nSeasonal affective disorder (SAD)\\\\nSelf-harm\\\\nSuicide and suicidal behavior']\",\n          \"[\\\"As a parent or caregiver, you want the best for your children or other dependents. You may be concerned or have questions about certain behaviors they exhibit and how to ensure they get help.\\\\nWhat to Look For\\\\nIt is important to be aware of warning signs that your child may be struggling. You can play a critical role in knowing when your child may need help.\\\\nConsult with a school counselor, school nurse, mental health provider, or another health care professional if your child shows one or more of the following behaviors:\\\\nFeeling very sad or withdrawn or easily irritated for more than two weeks\\\\nSeriously trying to harm or kill themselves, or making plans to do so\\\\nExperiencing sudden overwhelming fear for no reason, sometimes with a racing heart or fast breathing\\\\nGetting in many fights or wanting to hurt others\\\\nShowing severe out-of-control behavior that can hurt oneself or others\\\\nNot eating, throwing up, or using laxatives to make themselves lose weight\\\\nHaving intense worries or fears that get in the way of daily activities\\\\nExperiencing extreme difficulty controlling behavior, putting themselves in physical danger or causing problems in school\\\\nUsing drugs or alcohol\\\\nHaving severe mood swings that cause problems in relationships\\\\nShowing drastic changes in behavior or personality\\\\nA drop in their school performance\\\\nBecause children often can't understand difficult situations on their own, you should pay particular attention if they experience:\\\\nLoss of a loved one\\\\nDivorce or separation of their parents\\\\nAny major transition\\u2014new home, new school, etc.\\\\nTraumatic life experiences, like living through a natural disaster\\\\nTeasing or bullying\\\\nDifficulties in school or with classmates\\\\nWhat to Do\\\\nIf you are concerned about your child's behaviors, it is important to get appropriate care. You should:\\\\nTalk to your child's doctor, school nurse, or another health care provider and seek further information about the behaviors or symptoms that worry you\\\", \\\"Educators are often the first to notice mental health problems in children and young adults. Here are some ways you can help your students and their families.\\\\nWhat Educators Should Know\\\\nYou should know:\\\\nThe\\\\nwarning signs\\\\nfor mental health problems.\\\\nHow to promote\\\\nmental health and substance use prevention\\\\nin schools and on campuses.\\\\nWhom to turn to, such as the principal, school nurse, school psychiatrist or psychologist, or school social worker, if you have questions or concerns about a student's behavior.\\\\nHow to access\\\\ncrisis support and other mental health services\\\\n.\\\\nWhat Educators Should Look for in Student Behavior\\\\nConsult with a school counselor, nurse, or administrator and the student's parents if you observe one or more of the following behaviors:\\\\nFeeling very sad or withdrawn for more than two weeks\\\\nSeriously trying to harm oneself, or making plans to do so\\\\nSudden overwhelming fear for no reason, sometimes with a racing heart or fast breathing\\\\nInvolvement in many fights or desire to badly hurt others\\\\nSevere out-of-control behavior that can hurt oneself or others\\\\nNot eating, throwing up, or using laxatives to make oneself lose weight\\\\nIntense worries or fears that get in the way of daily activities\\\\nExtreme difficulty concentrating or staying still that puts the student in physical danger or causes problems in the classroom\\\\nRepeated use of drugs or alcohol\\\\nSevere mood swings that cause problems in relationships\\\\nDrastic changes in the student's behavior or personality\\\\nWhat Educators Can Do in Classrooms and Schools\\\\nYou can support the mental health of all students in your classroom and school, not just individual students who may exhibit behavioral issues. Consider the following actions:\\\\nLearn more about mental health by taking a mental health awareness training\\\\nPromote social and emotional competency and build resilience\\\\nHelp ensure a positive, safe school environment\\\\nTeach and reinforce positive behaviors and decision-making\\\\nEncourage helping others\\\", \\\"Talk to your child's doctor, school nurse, or another health care provider and seek further information about the behaviors or symptoms that worry you\\\\nAsk your child's primary care physician if your child needs further evaluation by a specialist with experience in child behavioral problems\\\\nAsk if your child's specialist is experienced in treating the problems you are observing\\\\nTalk to your medical provider about any medication and treatment plans\\\\nHow to Talk About Mental Health with Your Child\\\\nDo you need help starting a conversation with your child about mental health?Do you need help starting a conversation with your child about mental health?\\\\nTry leading with these questions, and actively listen to your child's response:\\\\nCan you tell me more about what is happening? How are you feeling?\\\\nHave you had feelings like this in the past?\\\\nSometimes you need to talk to an adult about your feelings. I'm here to listen. How can I help you feel better?\\\\nDo you feel like you want to talk to someone else about your problem?\\\\nI'm worried about your safety. Can you tell me if you have thoughts about harming yourself or others?When talking about mental health problems with your child you should:\\\\nWhen talking about mental health problems with your child you should:\\\\nCommunicate in a straightforward manner\\\\nSpeak at a level that is appropriate to a child or adolescent's age and development level (preschool children need fewer details than teenagers)\\\\nDiscuss the topic when your child feels safe and comfortable\\\\nWatch for reactions during the discussion and slow down or back up if your child becomes confused or looks upset\\\\nListen openly and let your child tell you about their feelings and worriesLearn More About Supporting Your Children\\\\nLearn More About Supporting Your Children\\\\nThere are many resources for parents and caregivers who want to know more about children's mental health. Learn more about:\\\\nRecognizing mental health problems in children\\\", \\\"I've been worried about you. Can we talk about what you are experiencing? If not, who are you comfortable talking to?\\\\nWhat can I do to help you to talk about issues with your parents or someone else who is responsible and cares about you?\\\\nWhat else can I help you with?\\\\nI am someone who cares and wants to listen. What do you want me to know about how you are feeling?\\\\nWho or what has helped you deal with similar issues in the past?\\\\nSometimes talking to someone who has dealt with a similar experience helps. Do you know of others who have experienced these types of problems who you can talk with?\\\\nIt seems like you are going through a difficult time. How can I help you to find help?\\\\nHow can I help you find more information about mental health problems?\\\\nI'm concerned about your safety. Have you thought about harming yourself or others?\\\\nWhen talking about mental health problems:\\\\nKnow how to\\\\nconnect people to help\\\\nCommunicate in a straightforward manner\\\\nSpeak at a level appropriate to a person's age and development level (preschool children need fewer details as compared to teenagers)\\\\nDiscuss the topic when and where the person feels safe and comfortable\\\\nWatch for reactions during the discussion and slow down or back up if the person becomes confused or looks upset\\\\nSometimes it is helpful to make a comparison to a physical illness. For example, many people get sick with a cold or the flu, but only a few get really sick with something serious like pneumonia. People who have a cold are usually able to do their normal activities. However, if they get pneumonia, they will have to take medicine and may have to go to the hospital.\\\", 'watching children go through challenges in their lives is difficult . on a very basic level , there exists a primal need to protect them from harm . the hard part for parents is letting them feel those challenges and working through them as they get older . at some point , there is a moment that occurs when the role as a parent shifts . children no longer need the basics ( food , shelter . water , safety ) as much as when they were toddlers , but rather , their needs shift to wanting more support , encouragement , advice , and room to make mistakes . this is where the ability to communicate with them , letting them direct the sails to gather the wind needed to move , is so important . keep the lines of communication open and be available to give feedback when they ask for it .']\"\n        ],\n        \"semantic_type\": \"\",\n        \"description\": \"\"\n      }\n    },\n    {\n      \"column\": \"rag_response\",\n      \"properties\": {\n        \"dtype\": \"string\",\n        \"num_unique_values\": 97,\n        \"samples\": [\n          \"Effective interventions for children facing mental health issues include promoting healthy social and emotional development, recognizing when they are at risk for or experiencing mental health problems, identifying how to intervene early and appropriately when there are problems, and connecting them to help. These interventions also involve strengthening connections within the community to mental health services and support, learning the basic signs of mental illnesses, and training key community members to identify the signs of depression and suicide.\",\n          \"Social withdrawal is a concern for youth because it can indicate that they are feeling isolated and unsure of how to make friends. It is not necessarily that there is something wrong with the child, but they will in fact need help and suggestions for breaking into a peer group.\",\n          \"Left untreated, OCD can take over your life.\"\n        ],\n        \"semantic_type\": \"\",\n        \"description\": \"\"\n      }\n    }\n  ]\n}"
            }
          },
          "metadata": {},
          "execution_count": 2
        }
      ]
    },
    {
      "cell_type": "code",
      "source": [
        "eval_df = eval_df.to_dict(orient='records')"
      ],
      "metadata": {
        "id": "d_2N-SvOBYqu"
      },
      "execution_count": null,
      "outputs": []
    },
    {
      "cell_type": "code",
      "source": [
        "# Evaluation prompt\n",
        "evaluation_prompt = \"\"\"\n",
        "### Task Description:\n",
        "You are provided with an instruction (or query), a response to evaluate, a reference answer that represents an ideal response, and evaluation criteria. Additionally, you are given responses from a RAG model: a RAG response. Your task is to evaluate and compare the RAG response with the reference answer based on the provided criteria.\n",
        "\n",
        "1. Assess the quality of the response strictly based on the given rubric and criteria (relevance, semantic similarity, accuracy, factual correctness, completeness, clarity, and conciseness), not general impressions.\n",
        "2. Write short feedback for each response based on the rubric, highlighting strengths and weaknesses for each criterion.\n",
        "3. Provide feedback in the specified format.\n",
        "4. Finally, assign an overall score out of 10 for RAG response.\n",
        "\n",
        "\n",
        "### The instruction to evaluate:\n",
        "{Question}\n",
        "\n",
        "### RAG Response:\n",
        "{rag_response}\n",
        "\n",
        "### Reference Answer:\n",
        "{Ground_Truth}\n",
        "\n",
        "### Rubric for Individual Criteria:\n",
        "- **Relevance**: How effectively does the response address the specific requirements or intent of the query?\n",
        "- **Semantic Similarity**: To what extent does the response capture the meaning or intent of the reference answer, even if the phrasing differs?\n",
        "- **Accuracy**: Does the response provide correct and logically sound information in relation to the query?\n",
        "- **Factual Correctness**: Are the facts presented in the response verified and consistent with reliable sources or the reference answer?\n",
        "- **Completeness**: Does the response thoroughly cover all essential aspects of the query without omitting critical information?\n",
        "- **Clarity**: Is the response expressed in a manner that is straightforward, unambiguous, and easy to comprehend?\n",
        "- **Conciseness**: Does the response convey the necessary information succinctly, avoiding extraneous details or redundancy?\n",
        "\n",
        "### Output Format:\n",
        "Feedback:\n",
        "- RAG Response:\n",
        "    - Relevance: {{feedback}}\n",
        "    - Semantic Similarity: {{feedback}}\n",
        "    - Accuracy: {{feedback}}\n",
        "    - Factual Correctness: {{feedback}}\n",
        "    - Completeness: {{feedback}}\n",
        "    - Clarity: {{feedback}}\n",
        "    - Conciseness: {{feedback}}\n",
        "\n",
        "### Overall Scores:\n",
        "- RAG Overall Score: {{integer between 1 and 10}}\n",
        "\"\"\""
      ],
      "metadata": {
        "id": "YVZdmyrs8eIA"
      },
      "execution_count": null,
      "outputs": []
    },
    {
      "cell_type": "code",
      "source": [
        "import openai"
      ],
      "metadata": {
        "id": "HwaLnODeAN_E"
      },
      "execution_count": null,
      "outputs": []
    },
    {
      "cell_type": "code",
      "source": [
        "!pip install openai"
      ],
      "metadata": {
        "colab": {
          "base_uri": "https://localhost:8080/"
        },
        "id": "lTRZ1c0niCWM",
        "outputId": "55091388-208c-49d6-fc7e-57e27fbb073e"
      },
      "execution_count": null,
      "outputs": [
        {
          "output_type": "stream",
          "name": "stdout",
          "text": [
            "Requirement already satisfied: openai in /usr/local/lib/python3.10/dist-packages (1.54.5)\n",
            "Requirement already satisfied: anyio<5,>=3.5.0 in /usr/local/lib/python3.10/dist-packages (from openai) (3.7.1)\n",
            "Requirement already satisfied: distro<2,>=1.7.0 in /usr/local/lib/python3.10/dist-packages (from openai) (1.9.0)\n",
            "Requirement already satisfied: httpx<1,>=0.23.0 in /usr/local/lib/python3.10/dist-packages (from openai) (0.27.2)\n",
            "Requirement already satisfied: jiter<1,>=0.4.0 in /usr/local/lib/python3.10/dist-packages (from openai) (0.8.0)\n",
            "Requirement already satisfied: pydantic<3,>=1.9.0 in /usr/local/lib/python3.10/dist-packages (from openai) (2.10.3)\n",
            "Requirement already satisfied: sniffio in /usr/local/lib/python3.10/dist-packages (from openai) (1.3.1)\n",
            "Requirement already satisfied: tqdm>4 in /usr/local/lib/python3.10/dist-packages (from openai) (4.66.6)\n",
            "Requirement already satisfied: typing-extensions<5,>=4.11 in /usr/local/lib/python3.10/dist-packages (from openai) (4.12.2)\n",
            "Requirement already satisfied: idna>=2.8 in /usr/local/lib/python3.10/dist-packages (from anyio<5,>=3.5.0->openai) (3.10)\n",
            "Requirement already satisfied: exceptiongroup in /usr/local/lib/python3.10/dist-packages (from anyio<5,>=3.5.0->openai) (1.2.2)\n",
            "Requirement already satisfied: certifi in /usr/local/lib/python3.10/dist-packages (from httpx<1,>=0.23.0->openai) (2024.8.30)\n",
            "Requirement already satisfied: httpcore==1.* in /usr/local/lib/python3.10/dist-packages (from httpx<1,>=0.23.0->openai) (1.0.7)\n",
            "Requirement already satisfied: h11<0.15,>=0.13 in /usr/local/lib/python3.10/dist-packages (from httpcore==1.*->httpx<1,>=0.23.0->openai) (0.14.0)\n",
            "Requirement already satisfied: annotated-types>=0.6.0 in /usr/local/lib/python3.10/dist-packages (from pydantic<3,>=1.9.0->openai) (0.7.0)\n",
            "Requirement already satisfied: pydantic-core==2.27.1 in /usr/local/lib/python3.10/dist-packages (from pydantic<3,>=1.9.0->openai) (2.27.1)\n"
          ]
        }
      ]
    },
    {
      "cell_type": "code",
      "source": [
        "!pip install httpx==0.27.2"
      ],
      "metadata": {
        "colab": {
          "base_uri": "https://localhost:8080/"
        },
        "id": "2XduFq0Fjw7m",
        "outputId": "0a99c227-baec-4a32-84e1-a06833ec5733"
      },
      "execution_count": null,
      "outputs": [
        {
          "output_type": "stream",
          "name": "stdout",
          "text": [
            "Requirement already satisfied: httpx==0.27.2 in /usr/local/lib/python3.10/dist-packages (0.27.2)\n",
            "Requirement already satisfied: anyio in /usr/local/lib/python3.10/dist-packages (from httpx==0.27.2) (3.7.1)\n",
            "Requirement already satisfied: certifi in /usr/local/lib/python3.10/dist-packages (from httpx==0.27.2) (2024.8.30)\n",
            "Requirement already satisfied: httpcore==1.* in /usr/local/lib/python3.10/dist-packages (from httpx==0.27.2) (1.0.7)\n",
            "Requirement already satisfied: idna in /usr/local/lib/python3.10/dist-packages (from httpx==0.27.2) (3.10)\n",
            "Requirement already satisfied: sniffio in /usr/local/lib/python3.10/dist-packages (from httpx==0.27.2) (1.3.1)\n",
            "Requirement already satisfied: h11<0.15,>=0.13 in /usr/local/lib/python3.10/dist-packages (from httpcore==1.*->httpx==0.27.2) (0.14.0)\n",
            "Requirement already satisfied: exceptiongroup in /usr/local/lib/python3.10/dist-packages (from anyio->httpx==0.27.2) (1.2.2)\n"
          ]
        }
      ]
    },
    {
      "cell_type": "code",
      "source": [
        "from openai import OpenAI\n",
        "\n",
        "client = OpenAI(api_key = \"YOUR_API_KEY\") #Insert your api key here"
      ],
      "metadata": {
        "id": "42FdTlgzCmkj"
      },
      "execution_count": null,
      "outputs": []
    },
    {
      "cell_type": "code",
      "source": [
        "import re\n",
        "\n",
        "def evaluate_responses(instruction, rag_response, reference_answer):\n",
        "    prompt = evaluation_prompt.format(\n",
        "        Question=instruction,\n",
        "        rag_response=rag_response,\n",
        "        Ground_Truth=reference_answer\n",
        "    )\n",
        "\n",
        "    response = client.chat.completions.create(\n",
        "        model=\"gpt-4o-mini\",\n",
        "        messages=[\n",
        "            {\"role\": \"system\", \"content\": \"You are a helpful assistant evaluating model responses.\"},\n",
        "            {\"role\": \"user\", \"content\": prompt}\n",
        "        ],\n",
        "        max_tokens=1000,\n",
        "        temperature=0.5\n",
        "    )\n",
        "\n",
        "    s = response.choices[0].message.content\n",
        "    print(\"Evaluation Output:\")\n",
        "    print(s)\n",
        "\n",
        "    rag_score = re.search(r'RAG Overall Score: (\\d+)', s).group(1).strip()\n",
        "\n",
        "    return int(rag_score)\n",
        "\n",
        "evaluations = []\n",
        "for data in tqdm(eval_df, desc=\"Evaluating responses\", unit=\"sample\"):\n",
        "    instruction = data[\"Question\"]\n",
        "    rag_response = data[\"rag_response\"]\n",
        "    reference_answer = data[\"Ground_Truth\"]\n",
        "\n",
        "    rag_score = evaluate_responses(\n",
        "        instruction, rag_response, reference_answer\n",
        "    )\n",
        "\n",
        "    evaluations.append({\n",
        "        \"Question\": instruction,\n",
        "        \"Ground_Truth\": reference_answer,\n",
        "        \"Source\": data[\"Source\"],\n",
        "        \"Category\": data[\"Category\"],\n",
        "        \"Context\": data[\"Context\"],\n",
        "        \"rag_response\": rag_response,\n",
        "        \"RAG_Score\": rag_score,\n",
        "    })"
      ],
      "metadata": {
        "colab": {
          "base_uri": "https://localhost:8080/"
        },
        "id": "N_0zZMytAGhA",
        "outputId": "81ef0acd-9c1c-42bd-9fd2-6ec587359b85"
      },
      "execution_count": null,
      "outputs": [
        {
          "output_type": "stream",
          "name": "stderr",
          "text": [
            "Evaluating responses:   1%|          | 1/100 [00:03<05:41,  3.45s/sample]"
          ]
        },
        {
          "output_type": "stream",
          "name": "stdout",
          "text": [
            "Evaluation Output:\n",
            "Feedback:\n",
            "- RAG Response:\n",
            "    - Relevance: The response is relevant as it directly addresses the triggers of Seasonal Affective Disorder (SAD) by mentioning seasonal changes, which is the core aspect of the query.\n",
            "    - Semantic Similarity: The response captures the essential meaning of the reference answer, though it includes additional context about the timing of SAD, which slightly alters the focus but remains aligned with the original intent.\n",
            "    - Accuracy: The information provided is accurate, correctly linking SAD to changes in seasons and the impact of sunlight.\n",
            "    - Factual Correctness: The facts are correct and consistent with the reference answer, confirming that SAD is most prevalent during fall and winter due to reduced sunlight.\n",
            "    - Completeness: The response is complete; it explains not only the trigger but also the seasonal pattern of SAD, making it informative.\n",
            "    - Clarity: The response is clear and easy to understand, with straightforward language that conveys the message effectively.\n",
            "    - Conciseness: While the response is generally concise, the additional detail about SAD lifting in spring and summer could be seen as slightly extraneous given the specific focus of the query.\n",
            "\n",
            "### Overall Scores:\n",
            "- RAG Overall Score: 9\n"
          ]
        },
        {
          "output_type": "stream",
          "name": "stderr",
          "text": [
            "\rEvaluating responses:   2%|▏         | 2/100 [00:06<04:54,  3.01s/sample]"
          ]
        },
        {
          "output_type": "stream",
          "name": "stdout",
          "text": [
            "Evaluation Output:\n",
            "Feedback:\n",
            "- RAG Response:\n",
            "    - Relevance: The response is highly relevant as it directly addresses the health risks associated with bulimia nervosa, which is the focus of the query.\n",
            "    - Semantic Similarity: The response captures the essence of the reference answer but elaborates significantly more. It does not closely match the brevity of the reference but conveys similar meanings.\n",
            "    - Accuracy: The information provided is accurate regarding the health risks of bulimia nervosa, aligning well with known medical facts.\n",
            "    - Factual Correctness: The facts presented are consistent with reliable medical sources regarding the risks of bulimia nervosa, confirming their correctness.\n",
            "    - Completeness: The response is very complete, listing multiple health risks associated with bulimia nervosa, which provides a broader understanding than the reference answer.\n",
            "    - Clarity: The response is clear and easy to understand, with each risk presented in a straightforward manner.\n",
            "    - Conciseness: While the response is comprehensive, it could be considered less concise due to the extensive list of risks, which may be more detailed than necessary for a general overview.\n",
            "\n",
            "### Overall Scores:\n",
            "- RAG Overall Score: 8\n"
          ]
        },
        {
          "output_type": "stream",
          "name": "stderr",
          "text": [
            "\rEvaluating responses:   3%|▎         | 3/100 [00:09<04:49,  2.99s/sample]"
          ]
        },
        {
          "output_type": "stream",
          "name": "stdout",
          "text": [
            "Evaluation Output:\n",
            "Feedback:\n",
            "- RAG Response:\n",
            "    - Relevance: The response is relevant as it addresses how to maintain a support system for someone with mental health problems. It provides practical suggestions that align with the query.\n",
            "    - Semantic Similarity: The response does not capture the essence of the reference answer, which emphasizes finding trustworthy individuals. The RAG response focuses more on professional help and general support rather than the personal qualities of the support system.\n",
            "    - Accuracy: The information provided is accurate; seeking professional help and joining support groups are valid ways to maintain a support system.\n",
            "    - Factual Correctness: The facts presented are consistent with common mental health practices and are reliable, thus maintaining factual correctness.\n",
            "    - Completeness: The response is somewhat complete as it covers various aspects of maintaining a support system, but it lacks the emphasis on personal relationships that the reference answer highlights.\n",
            "    - Clarity: The response is clear and easy to understand, with straightforward language that conveys the intended message effectively.\n",
            "    - Conciseness: The response is concise, effectively conveying the necessary information without unnecessary elaboration.\n",
            "\n",
            "### Overall Scores:\n",
            "- RAG Overall Score: 7\n"
          ]
        },
        {
          "output_type": "stream",
          "name": "stderr",
          "text": [
            "\rEvaluating responses:   4%|▍         | 4/100 [00:11<04:37,  2.89s/sample]"
          ]
        },
        {
          "output_type": "stream",
          "name": "stdout",
          "text": [
            "Evaluation Output:\n",
            "Feedback:\n",
            "- RAG Response:\n",
            "    - Relevance: The response is relevant as it addresses the risk factors for schizophrenia, which is the focus of the query. It includes both biological and experiential factors, aligning well with the question's intent.\n",
            "    - Semantic Similarity: The response captures the essence of the reference answer but goes into more detail. While it provides additional context, it strays slightly from the concise nature of the reference.\n",
            "    - Accuracy: The information presented about risk factors is generally accurate, mentioning both genetic and environmental influences, which are recognized in the literature.\n",
            "    - Factual Correctness: The facts are consistent with current understanding of schizophrenia risk factors. However, the mention of causation could be misleading without further clarification.\n",
            "    - Completeness: The response is more comprehensive than the reference answer, covering various aspects of risk factors. However, it could be seen as overly detailed given the simplicity of the reference.\n",
            "    - Clarity: The response is clear and easy to understand, though it could be slightly simplified to enhance clarity in relation to the reference answer's directness.\n",
            "    - Conciseness: The response is somewhat lengthy and includes some redundancy. It could be more concise by focusing on the key risk factors without elaborating too much on the nature of their influence.\n",
            "\n",
            "### Overall Scores:\n",
            "- RAG Overall Score: 7\n"
          ]
        },
        {
          "output_type": "stream",
          "name": "stderr",
          "text": [
            "\rEvaluating responses:   5%|▌         | 5/100 [00:13<03:59,  2.52s/sample]"
          ]
        },
        {
          "output_type": "stream",
          "name": "stdout",
          "text": [
            "Evaluation Output:\n",
            "Feedback:\n",
            "- RAG Response:\n",
            "    - Relevance: The response is relevant as it addresses the impact of schizophrenia on daily functioning, aligning well with the query.\n",
            "    - Semantic Similarity: The RAG response captures the essence of the reference answer, discussing similar themes but with more detail.\n",
            "    - Accuracy: The information provided is accurate regarding the effects of schizophrenia on daily life.\n",
            "    - Factual Correctness: The response presents facts that are consistent with what is known about schizophrenia and its impact on functioning.\n",
            "    - Completeness: The response is more complete than the reference answer, as it elaborates on various aspects of daily life affected by schizophrenia.\n",
            "    - Clarity: The response is clear and easy to understand, effectively communicating the challenges faced by individuals with schizophrenia.\n",
            "    - Conciseness: While the response is somewhat longer, it remains concise without unnecessary elaboration, effectively conveying the necessary information.\n",
            "\n",
            "### Overall Scores:\n",
            "- RAG Overall Score: 9\n"
          ]
        },
        {
          "output_type": "stream",
          "name": "stderr",
          "text": [
            "\rEvaluating responses:   6%|▌         | 6/100 [00:16<03:53,  2.49s/sample]"
          ]
        },
        {
          "output_type": "stream",
          "name": "stdout",
          "text": [
            "Evaluation Output:\n",
            "Feedback:\n",
            "- RAG Response:\n",
            "    - Relevance: The response is relevant as it addresses the management of symptoms of social anxiety disorder, which aligns with the query.\n",
            "    - Semantic Similarity: The response captures the overall intent of the reference answer but provides more detail, which slightly diverges from the succinctness of the reference.\n",
            "    - Accuracy: The information provided regarding treatment options, including medications and therapies, is accurate and aligns with established practices for managing social anxiety disorder.\n",
            "    - Factual Correctness: The mention of SSRIs, CBT, support groups, and stress management techniques is factually correct and reflects common treatment modalities.\n",
            "    - Completeness: The response is more comprehensive than the reference answer, covering various treatment options and techniques, which adds to its completeness.\n",
            "    - Clarity: The response is clear and well-structured, making it easy to understand the different management strategies.\n",
            "    - Conciseness: While the response is informative, it is less concise than the reference answer, as it includes additional details that could be seen as extraneous.\n",
            "\n",
            "### Overall Scores:\n",
            "- RAG Overall Score: 8\n"
          ]
        },
        {
          "output_type": "stream",
          "name": "stderr",
          "text": [
            "\rEvaluating responses:   7%|▋         | 7/100 [00:18<03:42,  2.39s/sample]"
          ]
        },
        {
          "output_type": "stream",
          "name": "stdout",
          "text": [
            "Evaluation Output:\n",
            "Feedback:\n",
            "- RAG Response:\n",
            "    - Relevance: The response effectively addresses the query regarding common symptoms of anxiety disorders by listing several relevant symptoms. \n",
            "    - Semantic Similarity: The RAG response captures the meaning of the reference answer well, although it includes additional symptoms not mentioned in the reference.\n",
            "    - Accuracy: The symptoms listed are accurate and commonly associated with anxiety disorders, aligning well with established information.\n",
            "    - Factual Correctness: The response is factually correct and consistent with reliable sources regarding symptoms of anxiety disorders.\n",
            "    - Completeness: The response is comprehensive, including a wider range of symptoms than the reference answer, which enhances its completeness.\n",
            "    - Clarity: The response is generally clear, though the list format may make it slightly harder to read fluidly compared to the more narrative style of the reference answer.\n",
            "    - Conciseness: While the response is detailed, it could be considered less concise due to the inclusion of many symptoms, which may overwhelm the reader.\n",
            "\n",
            "### Overall Scores:\n",
            "- RAG Overall Score: 8\n"
          ]
        },
        {
          "output_type": "stream",
          "name": "stderr",
          "text": [
            "\rEvaluating responses:   8%|▊         | 8/100 [00:20<03:32,  2.31s/sample]"
          ]
        },
        {
          "output_type": "stream",
          "name": "stdout",
          "text": [
            "Evaluation Output:\n",
            "Feedback:\n",
            "- RAG Response:\n",
            "    - Relevance: The response is highly relevant as it directly addresses how mental health affects decision-making, which is the core of the query.\n",
            "    - Semantic Similarity: The response captures the essence of the reference answer by discussing the impact of mental health on decision-making, although it elaborates more than the reference.\n",
            "    - Accuracy: The information provided is accurate and logically sound, explaining various ways mental health can influence decision-making.\n",
            "    - Factual Correctness: The response is factually correct, mentioning specific mental health conditions and their effects on cognitive function and decision-making processes.\n",
            "    - Completeness: The response is complete, covering multiple aspects of how mental health impacts decision-making, including emotional and cognitive factors.\n",
            "    - Clarity: The response is clear and easy to understand, with well-structured sentences that convey the message effectively.\n",
            "    - Conciseness: While the response is thorough, it could be considered slightly verbose. It could be more concise by summarizing some points without losing essential information.\n",
            "\n",
            "### Overall Scores:\n",
            "- RAG Overall Score: 8\n"
          ]
        },
        {
          "output_type": "stream",
          "name": "stderr",
          "text": [
            "\rEvaluating responses:   9%|▉         | 9/100 [00:22<03:24,  2.25s/sample]"
          ]
        },
        {
          "output_type": "stream",
          "name": "stdout",
          "text": [
            "Evaluation Output:\n",
            "Feedback:\n",
            "- RAG Response:\n",
            "    - Relevance: The response effectively addresses the query by defining ADHD and mentioning its key symptoms. However, it could be more directly aligned with the phrasing of the reference answer.\n",
            "    - Semantic Similarity: The response captures the core meaning of the reference answer but uses different wording. It identifies symptoms such as inattention, hyperactivity, and impulsivity, which aligns with the reference but lacks the succinctness.\n",
            "    - Accuracy: The information provided is generally accurate regarding ADHD symptoms and diagnosis criteria.\n",
            "    - Factual Correctness: The details about ADHD being out of the normal range for a person's age are correct and consistent with the reference answer.\n",
            "    - Completeness: The response covers the main symptoms of ADHD but could include more context about its impact or prevalence to enhance completeness.\n",
            "    - Clarity: The response is clear and understandable, although the phrasing could be more precise in defining ADHD.\n",
            "    - Conciseness: The response is somewhat concise but could be streamlined further to eliminate redundancy in describing symptoms.\n",
            "\n",
            "### Overall Scores:\n",
            "- RAG Overall Score: 7\n"
          ]
        },
        {
          "output_type": "stream",
          "name": "stderr",
          "text": [
            "\rEvaluating responses:  10%|█         | 10/100 [00:24<03:20,  2.23s/sample]"
          ]
        },
        {
          "output_type": "stream",
          "name": "stdout",
          "text": [
            "Evaluation Output:\n",
            "Feedback:\n",
            "- RAG Response:\n",
            "    - Relevance: The response effectively addresses the query about treating SAD by mentioning relevant treatment methods, such as light therapy and antidepressants.\n",
            "    - Semantic Similarity: The meaning of the response aligns well with the reference answer, although it includes additional details that slightly diverge from the concise nature of the reference.\n",
            "    - Accuracy: The information presented is accurate and reflects common treatments for SAD.\n",
            "    - Factual Correctness: The treatments listed are consistent with established methods for managing SAD, making the response factually correct.\n",
            "    - Completeness: The response covers the main treatment options but introduces vitamin D supplements, which, while relevant, may not be as widely emphasized as the other treatments mentioned.\n",
            "    - Clarity: The response is clear and easy to understand, with a logical flow of information.\n",
            "    - Conciseness: While the response is mostly concise, the additional detail about vitamin D supplements could be seen as slightly extraneous, as it is not a primary treatment.\n",
            "\n",
            "### Overall Scores:\n",
            "- RAG Overall Score: 8\n"
          ]
        },
        {
          "output_type": "stream",
          "name": "stderr",
          "text": [
            "\rEvaluating responses:  11%|█         | 11/100 [00:26<03:06,  2.10s/sample]"
          ]
        },
        {
          "output_type": "stream",
          "name": "stdout",
          "text": [
            "Evaluation Output:\n",
            "Feedback:\n",
            "- RAG Response:\n",
            "    - Relevance: The response is relevant as it directly addresses the importance of mental health throughout life, aligning well with the query.\n",
            "    - Semantic Similarity: The response captures the essence of the reference answer by highlighting the role of mental health in well-being, although it does not explicitly mention \"emotional, psychological, and social well-being.\"\n",
            "    - Accuracy: The information provided is accurate, as it reflects widely accepted views on the impact of mental health on behavior and decision-making.\n",
            "    - Factual Correctness: The facts presented are consistent with established knowledge about mental health and its effects across life stages.\n",
            "    - Completeness: The response is somewhat limited in completeness; it could be improved by elaborating on the different aspects of well-being mentioned in the reference answer.\n",
            "    - Clarity: The response is clear and easy to understand, effectively conveying the message without ambiguity.\n",
            "    - Conciseness: The response is concise, providing a straightforward explanation without unnecessary elaboration.\n",
            "\n",
            "### Overall Scores:\n",
            "- RAG Overall Score: 7\n"
          ]
        },
        {
          "output_type": "stream",
          "name": "stderr",
          "text": [
            "\rEvaluating responses:  12%|█▏        | 12/100 [00:28<02:56,  2.00s/sample]"
          ]
        },
        {
          "output_type": "stream",
          "name": "stdout",
          "text": [
            "Evaluation Output:\n",
            "Feedback:\n",
            "- RAG Response:\n",
            "    - Relevance: The response is highly relevant as it addresses the warning signs of suicide in youth, directly aligning with the query.\n",
            "    - Semantic Similarity: The response captures the essence of the reference answer well, although it includes additional points that enhance understanding.\n",
            "    - Accuracy: The information provided is accurate and reflects common warning signs associated with suicidal thoughts in youth.\n",
            "    - Factual Correctness: The facts presented are consistent with reliable sources and align with the reference answer, confirming their correctness.\n",
            "    - Completeness: The response is more complete than the reference answer, as it includes multiple warning signs, providing a broader perspective.\n",
            "    - Clarity: The response is clear and easy to understand, with each point articulated effectively.\n",
            "    - Conciseness: While the response is somewhat longer than the reference answer, it remains concise and avoids unnecessary detail.\n",
            "\n",
            "### Overall Scores:\n",
            "- RAG Overall Score: 9\n"
          ]
        },
        {
          "output_type": "stream",
          "name": "stderr",
          "text": [
            "\rEvaluating responses:  13%|█▎        | 13/100 [00:30<03:04,  2.12s/sample]"
          ]
        },
        {
          "output_type": "stream",
          "name": "stdout",
          "text": [
            "Evaluation Output:\n",
            "Feedback:\n",
            "- RAG Response:\n",
            "    - Relevance: The response effectively addresses the query about why people engage in self-harm, identifying emotional issues as key factors. However, it could be more directly tied to the specific reasons mentioned in the reference answer.\n",
            "    - Semantic Similarity: The response captures the essence of the reference answer but uses slightly different phrasing. It conveys a similar meaning but could be more aligned with the specific terms used in the reference.\n",
            "    - Accuracy: The information presented is accurate regarding the reasons people engage in self-harm, aligning with psychological understandings of the behavior.\n",
            "    - Factual Correctness: The response is factually correct and consistent with established knowledge about self-harm and its psychological underpinnings.\n",
            "    - Completeness: The response provides a good overview of the reasons for self-harm but could benefit from mentioning that it offers temporary relief, which is a critical aspect of the reference answer.\n",
            "    - Clarity: The response is clear and easy to understand, presenting the information in a straightforward manner.\n",
            "    - Conciseness: The response is concise, conveying the main points without unnecessary elaboration.\n",
            "\n",
            "### Overall Scores:\n",
            "- RAG Overall Score: 7\n"
          ]
        },
        {
          "output_type": "stream",
          "name": "stderr",
          "text": [
            "\rEvaluating responses:  14%|█▍        | 14/100 [00:32<03:04,  2.15s/sample]"
          ]
        },
        {
          "output_type": "stream",
          "name": "stdout",
          "text": [
            "Evaluation Output:\n",
            "Feedback:\n",
            "- RAG Response:\n",
            "    - Relevance: The response is relevant as it addresses the importance of communication in preventing suicide, which aligns with the query.\n",
            "    - Semantic Similarity: The RAG response captures the essence of the reference answer but lacks the specific details about support and stigma reduction that are present in the reference.\n",
            "    - Accuracy: The statement made is accurate in asserting that communication is important for suicide prevention.\n",
            "    - Factual Correctness: The response is factually correct; however, it does not provide additional context or examples that could enhance understanding.\n",
            "    - Completeness: The response is incomplete as it does not cover the broader aspects of communication, such as the importance of feeling supported and the reduction of stigma mentioned in the reference answer.\n",
            "    - Clarity: The response is clear and easy to understand but is overly simplistic.\n",
            "    - Conciseness: The response is concise, but it sacrifices depth and detail for brevity.\n",
            "\n",
            "### Overall Scores:\n",
            "- RAG Overall Score: 5\n"
          ]
        },
        {
          "output_type": "stream",
          "name": "stderr",
          "text": [
            "\rEvaluating responses:  15%|█▌        | 15/100 [00:35<03:19,  2.35s/sample]"
          ]
        },
        {
          "output_type": "stream",
          "name": "stdout",
          "text": [
            "Evaluation Output:\n",
            "Feedback:\n",
            "- RAG Response:\n",
            "    - Relevance: The response is relevant as it discusses therapy, specifically Dialectical Behavior Therapy (DBT), in the context of self-harm. However, it could more directly address how therapy in general helps with self-harm rather than focusing solely on DBT.\n",
            "    - Semantic Similarity: The response captures some aspects of the reference answer's intent, particularly the idea of providing tools and coping mechanisms, but it does not directly mention emotional pain or healthier coping strategies, which are key elements of the reference.\n",
            "    - Accuracy: The information about DBT is accurate; it is indeed a recognized therapy for self-harm. However, the response could be misleading as it implies DBT is the only or primary method without acknowledging other therapeutic approaches.\n",
            "    - Factual Correctness: The mention of DBT as an effective intervention is factually correct. However, the suggestion to reach out to local therapists lacks context about the availability and accessibility of such services.\n",
            "    - Completeness: The response provides a specific therapy type but lacks a broader discussion of how therapy, in general, can aid in self-harm recovery, making it less complete compared to the reference answer.\n",
            "    - Clarity: The response is generally clear but could benefit from more structured information on how therapy helps, rather than just promoting DBT.\n",
            "    - Conciseness: The response is somewhat concise but includes a recommendation that may not be necessary in the context of the initial query, which could be streamlined for better focus.\n",
            "\n",
            "### Overall Scores:\n",
            "- RAG Overall Score: 6\n"
          ]
        },
        {
          "output_type": "stream",
          "name": "stderr",
          "text": [
            "\rEvaluating responses:  16%|█▌        | 16/100 [00:37<03:11,  2.29s/sample]"
          ]
        },
        {
          "output_type": "stream",
          "name": "stdout",
          "text": [
            "Evaluation Output:\n",
            "Feedback:\n",
            "- RAG Response:\n",
            "    - Relevance: The response is relevant as it directly addresses the emotional triggers linked to self-harm, which is the core of the query.\n",
            "    - Semantic Similarity: The response captures the meaning of the reference answer well, as it lists the same emotional triggers while providing additional context.\n",
            "    - Accuracy: The response accurately reflects the emotional triggers associated with self-harm, aligning with common understandings of the topic.\n",
            "    - Factual Correctness: The information provided is consistent with known facts about self-harm and aligns with the reference answer.\n",
            "    - Completeness: The response includes the main emotional triggers but could be considered slightly less complete due to the lack of mention of other potential triggers, which could be relevant.\n",
            "    - Clarity: The response is clear and easy to understand, presenting the information in a straightforward manner.\n",
            "    - Conciseness: The response is concise, providing the necessary information without unnecessary elaboration.\n",
            "\n",
            "### Overall Scores:\n",
            "- RAG Overall Score: 8\n"
          ]
        },
        {
          "output_type": "stream",
          "name": "stderr",
          "text": [
            "\rEvaluating responses:  17%|█▋        | 17/100 [00:40<03:10,  2.29s/sample]"
          ]
        },
        {
          "output_type": "stream",
          "name": "stdout",
          "text": [
            "Evaluation Output:\n",
            "Feedback:\n",
            "- RAG Response:\n",
            "    - Relevance: The response is relevant as it addresses the intervention for signs of suicide, but it lacks detail on how to effectively intervene.\n",
            "    - Semantic Similarity: The response captures the urgency of the situation but does not reflect the specific method of intervention mentioned in the reference answer.\n",
            "    - Accuracy: The advice to act immediately is accurate; however, it lacks the specific guidance on asking about suicidal thoughts.\n",
            "    - Factual Correctness: The response is factually correct in emphasizing the need for immediate action, but it does not provide the complete context needed for effective intervention.\n",
            "    - Completeness: The response is incomplete as it does not cover the critical aspect of directly asking about suicidal thoughts or connecting the individual to help.\n",
            "    - Clarity: The response is clear in its directive to act immediately, but it is vague regarding the actual steps to take.\n",
            "    - Conciseness: The response is concise but at the cost of omitting essential information needed for a thorough understanding of how to intervene.\n",
            "\n",
            "### Overall Scores:\n",
            "- RAG Overall Score: 5\n"
          ]
        },
        {
          "output_type": "stream",
          "name": "stderr",
          "text": [
            "\rEvaluating responses:  18%|█▊        | 18/100 [00:42<03:07,  2.28s/sample]"
          ]
        },
        {
          "output_type": "stream",
          "name": "stdout",
          "text": [
            "Evaluation Output:\n",
            "Feedback:\n",
            "- RAG Response:\n",
            "    - Relevance: The response is relevant as it addresses the challenges faced by people with schizophrenia, directly responding to the query.\n",
            "    - Semantic Similarity: The response captures some of the challenges mentioned in the reference answer but does not fully align with the broader context of socialization and employment challenges.\n",
            "    - Accuracy: The information provided is accurate regarding the challenges associated with schizophrenia, including communication and functional difficulties.\n",
            "    - Factual Correctness: The facts presented are consistent with known issues related to schizophrenia, making the response factually correct.\n",
            "    - Completeness: The response lacks some critical aspects mentioned in the reference answer, particularly regarding socialization and employment challenges, which are significant issues for individuals with schizophrenia.\n",
            "    - Clarity: The response is clear and easy to understand, presenting the information in a straightforward manner.\n",
            "    - Conciseness: The response is concise, providing relevant information without unnecessary elaboration.\n",
            "\n",
            "### Overall Scores:\n",
            "- RAG Overall Score: 7\n"
          ]
        },
        {
          "output_type": "stream",
          "name": "stderr",
          "text": [
            "\rEvaluating responses:  19%|█▉        | 19/100 [00:44<03:05,  2.29s/sample]"
          ]
        },
        {
          "output_type": "stream",
          "name": "stdout",
          "text": [
            "Evaluation Output:\n",
            "Feedback:\n",
            "- RAG Response:\n",
            "    - Relevance: The response is highly relevant as it directly addresses the differences between bulimia nervosa and binge eating disorder, which is the core of the query.\n",
            "    - Semantic Similarity: The response captures the essence of the reference answer well, although it provides slightly more detail regarding the behaviors associated with each disorder.\n",
            "    - Accuracy: The information presented is accurate; it correctly identifies that bulimia involves both bingeing and purging, while binge eating disorder does not involve purging.\n",
            "    - Factual Correctness: The facts are consistent with established definitions of the disorders, confirming the accuracy of the response.\n",
            "    - Completeness: The response is complete as it covers the key differences between the two disorders without omitting any essential information.\n",
            "    - Clarity: The response is clear and easy to understand, making it accessible to readers who may not be familiar with the terms.\n",
            "    - Conciseness: The response is concise, delivering the necessary information without unnecessary elaboration.\n",
            "\n",
            "### Overall Scores:\n",
            "- RAG Overall Score: 9\n"
          ]
        },
        {
          "output_type": "stream",
          "name": "stderr",
          "text": [
            "\rEvaluating responses:  20%|██        | 20/100 [00:46<02:52,  2.15s/sample]"
          ]
        },
        {
          "output_type": "stream",
          "name": "stdout",
          "text": [
            "Evaluation Output:\n",
            "Feedback:\n",
            "- RAG Response:\n",
            "    - Relevance: The response is relevant as it directly addresses the query about physical symptoms linked to panic disorder.\n",
            "    - Semantic Similarity: The response captures the essence of the reference answer but includes more symptoms, which slightly diverges from the reference's brevity.\n",
            "    - Accuracy: The symptoms listed are accurate and commonly associated with panic disorder, aligning well with established knowledge.\n",
            "    - Factual Correctness: The information provided is factually correct and consistent with what is known about panic disorder symptoms.\n",
            "    - Completeness: The response is more complete than the reference answer, providing a broader list of symptoms, which may be beneficial for understanding.\n",
            "    - Clarity: The response is clear and easy to understand, with each symptom presented in a straightforward manner.\n",
            "    - Conciseness: While the response is clear, it could be seen as slightly verbose since it lists many symptoms rather than summarizing the key ones.\n",
            "\n",
            "### Overall Scores:\n",
            "- RAG Overall Score: 8\n"
          ]
        },
        {
          "output_type": "stream",
          "name": "stderr",
          "text": [
            "\rEvaluating responses:  21%|██        | 21/100 [00:48<02:53,  2.19s/sample]"
          ]
        },
        {
          "output_type": "stream",
          "name": "stdout",
          "text": [
            "Evaluation Output:\n",
            "Feedback:\n",
            "- RAG Response:\n",
            "    - Relevance: The response is highly relevant as it directly addresses the question about why panic attacks are frightening, focusing on the feelings and physical symptoms involved.\n",
            "    - Semantic Similarity: The response captures the essence of the reference answer, although it is more detailed. It conveys the same core idea of intense fear and physical symptoms.\n",
            "    - Accuracy: The information provided is accurate regarding the nature of panic attacks and the associated feelings and symptoms.\n",
            "    - Factual Correctness: The response presents factually correct information about panic attacks, aligning with common understandings in psychology.\n",
            "    - Completeness: The response is complete, covering multiple aspects of panic attacks, including emotional and physical symptoms, which adds depth to the explanation.\n",
            "    - Clarity: The response is clear and easy to understand, with a logical flow that makes it accessible to the reader.\n",
            "    - Conciseness: While the response is thorough, it could be considered slightly verbose. A more concise version could have conveyed the same essential points without extra detail.\n",
            "\n",
            "### Overall Scores:\n",
            "- RAG Overall Score: 8\n"
          ]
        },
        {
          "output_type": "stream",
          "name": "stderr",
          "text": [
            "\rEvaluating responses:  22%|██▏       | 22/100 [00:51<02:52,  2.21s/sample]"
          ]
        },
        {
          "output_type": "stream",
          "name": "stdout",
          "text": [
            "Evaluation Output:\n",
            "Feedback:\n",
            "- RAG Response:\n",
            "    - Relevance: The response is somewhat relevant as it identifies a specific population targeted by the Zero Suicide framework; however, it does not fully address the broader intent of the query regarding the overall target populations.\n",
            "    - Semantic Similarity: There is limited semantic similarity with the reference answer. The reference answer highlights a broader target across healthcare systems, while the RAG response focuses narrowly on adults 18 and older.\n",
            "    - Accuracy: The response is accurate in stating that the framework targets adults, but it is incomplete in terms of the broader context provided in the reference answer.\n",
            "    - Factual Correctness: The information provided is factually correct regarding the age group but lacks the comprehensive view presented in the reference answer.\n",
            "    - Completeness: The response lacks completeness as it does not mention the broader context of reducing suicides across various healthcare systems and populations.\n",
            "    - Clarity: The response is clear and straightforward, making it easy to understand.\n",
            "    - Conciseness: The response is concise, delivering a brief answer without unnecessary details.\n",
            "\n",
            "### Overall Scores:\n",
            "- RAG Overall Score: 5\n"
          ]
        },
        {
          "output_type": "stream",
          "name": "stderr",
          "text": [
            "\rEvaluating responses:  23%|██▎       | 23/100 [00:53<02:56,  2.29s/sample]"
          ]
        },
        {
          "output_type": "stream",
          "name": "stdout",
          "text": [
            "Evaluation Output:\n",
            "Feedback:\n",
            "- RAG Response:\n",
            "    - Relevance: The response effectively addresses the query by discussing the relationship between insomnia, depression, and feelings of worthlessness, making it relevant to the question posed.\n",
            "    - Semantic Similarity: The response captures the essence of the reference answer by mentioning racing thoughts and the impact on emotions, although it provides a broader context and additional details.\n",
            "    - Accuracy: The information presented is accurate and logically sound, correctly describing the interplay between insomnia and depression.\n",
            "    - Factual Correctness: The facts are consistent with known psychological concepts and align well with the reference answer's implications.\n",
            "    - Completeness: The response is thorough, covering the cyclical nature of insomnia and depression as well as the link to feelings of worthlessness, which adds depth to the answer.\n",
            "    - Clarity: The response is clear and easy to understand, with a logical flow that makes the relationships between the concepts easy to grasp.\n",
            "    - Conciseness: While the response is somewhat longer than the reference answer, it remains focused and does not include unnecessary details, thereby maintaining a good level of conciseness.\n",
            "\n",
            "### Overall Scores:\n",
            "- RAG Overall Score: 9\n"
          ]
        },
        {
          "output_type": "stream",
          "name": "stderr",
          "text": [
            "\rEvaluating responses:  24%|██▍       | 24/100 [00:55<02:46,  2.19s/sample]"
          ]
        },
        {
          "output_type": "stream",
          "name": "stdout",
          "text": [
            "Evaluation Output:\n",
            "Feedback:\n",
            "- RAG Response:\n",
            "    - Relevance: The response is highly relevant as it directly addresses the query about recognizing suicide warning signs in adults.\n",
            "    - Semantic Similarity: The RAG response captures the essence of the reference answer but includes additional signs that enhance understanding, showing a good level of semantic similarity.\n",
            "    - Accuracy: The information provided is accurate and aligns well with common indicators of suicidal ideation.\n",
            "    - Factual Correctness: The facts presented are consistent with reliable sources on the topic, confirming the warning signs of suicide.\n",
            "    - Completeness: The response is comprehensive, listing multiple warning signs, which makes it more complete than the reference answer.\n",
            "    - Clarity: The response is clear and easy to understand, with each warning sign presented in a straightforward manner.\n",
            "    - Conciseness: While the response is somewhat longer than the reference answer, it is still concise as it lists relevant points without unnecessary elaboration.\n",
            "\n",
            "### Overall Scores:\n",
            "- RAG Overall Score: 9\n"
          ]
        },
        {
          "output_type": "stream",
          "name": "stderr",
          "text": [
            "\rEvaluating responses:  25%|██▌       | 25/100 [00:58<02:50,  2.27s/sample]"
          ]
        },
        {
          "output_type": "stream",
          "name": "stdout",
          "text": [
            "Evaluation Output:\n",
            "Feedback:\n",
            "- RAG Response:\n",
            "    - Relevance: The response directly addresses the query about the physical symptoms of bulimia nervosa and provides pertinent symptoms, making it highly relevant.\n",
            "    - Semantic Similarity: The response captures the essence of the reference answer, including similar symptoms, though it elaborates further, which may slightly differ in intent.\n",
            "    - Accuracy: The information provided is accurate regarding the physical symptoms associated with bulimia nervosa.\n",
            "    - Factual Correctness: The symptoms listed are consistent with reliable sources and reflect the medical understanding of bulimia nervosa.\n",
            "    - Completeness: The response is more complete than the reference answer, as it includes additional symptoms and explanations about the consequences of purging behaviors.\n",
            "    - Clarity: The response is clear and well-structured, making it easy to understand the symptoms and their implications.\n",
            "    - Conciseness: While the response is somewhat longer than necessary, it maintains focus on the symptoms without excessive detail, though it could be slightly more concise.\n",
            "\n",
            "### Overall Scores:\n",
            "- RAG Overall Score: 9\n"
          ]
        },
        {
          "output_type": "stream",
          "name": "stderr",
          "text": [
            "\rEvaluating responses:  26%|██▌       | 26/100 [01:00<02:46,  2.25s/sample]"
          ]
        },
        {
          "output_type": "stream",
          "name": "stdout",
          "text": [
            "Evaluation Output:\n",
            "Feedback:\n",
            "- RAG Response:\n",
            "    - Relevance: The response is relevant as it addresses the resources available for concerned parents, which aligns with the query.\n",
            "    - Semantic Similarity: The response captures the intent of the reference answer by mentioning healthcare providers and school counselors, though it elaborates more extensively.\n",
            "    - Accuracy: The information provided is accurate, as it discusses appropriate resources for parents seeking help regarding their children's mental health.\n",
            "    - Factual Correctness: The facts presented are consistent with common knowledge and reliable sources, confirming the validity of the advice given.\n",
            "    - Completeness: The response is quite complete, offering a range of resources and suggestions, although it could be more concise.\n",
            "    - Clarity: The response is clear and easy to understand, with straightforward language that communicates the ideas effectively.\n",
            "    - Conciseness: While the response is informative, it could be more concise by omitting some of the less critical details to streamline the information.\n",
            "\n",
            "### Overall Scores:\n",
            "- RAG Overall Score: 8\n"
          ]
        },
        {
          "output_type": "stream",
          "name": "stderr",
          "text": [
            "\rEvaluating responses:  27%|██▋       | 27/100 [01:03<02:57,  2.43s/sample]"
          ]
        },
        {
          "output_type": "stream",
          "name": "stdout",
          "text": [
            "Evaluation Output:\n",
            "Feedback:\n",
            "- RAG Response:\n",
            "    - Relevance: The response directly addresses the query about the symptoms of Generalized Anxiety Disorder, listing relevant symptoms. \n",
            "    - Semantic Similarity: The RAG response captures the intent of the reference answer by including many of the same symptoms, though it provides a more extensive list.\n",
            "    - Accuracy: The symptoms listed are accurate and align with recognized symptoms of Generalized Anxiety Disorder.\n",
            "    - Factual Correctness: All the symptoms mentioned are factually correct and consistent with reliable sources on anxiety disorders.\n",
            "    - Completeness: The response is quite complete, listing several symptoms, thus providing a comprehensive view of the disorder.\n",
            "    - Clarity: The symptoms are presented in a clear and easy-to-understand manner, making it accessible for readers.\n",
            "    - Conciseness: While the response is detailed, it could be considered slightly verbose. A more concise list format could enhance readability.\n",
            "\n",
            "### Overall Scores:\n",
            "- RAG Overall Score: 9\n"
          ]
        },
        {
          "output_type": "stream",
          "name": "stderr",
          "text": [
            "\rEvaluating responses:  28%|██▊       | 28/100 [01:05<02:46,  2.31s/sample]"
          ]
        },
        {
          "output_type": "stream",
          "name": "stdout",
          "text": [
            "Evaluation Output:\n",
            "Feedback:\n",
            "- RAG Response:\n",
            "    - Relevance: The response effectively addresses the query about how schizophrenia is treated, providing relevant information about treatment methods.\n",
            "    - Semantic Similarity: The response captures the essence of the reference answer well, discussing both medication and therapy, although it elaborates more than the reference answer.\n",
            "    - Accuracy: The information provided is accurate, as it correctly identifies antipsychotic medications and therapy as key components of treatment.\n",
            "    - Factual Correctness: The facts presented are consistent with established knowledge about schizophrenia treatment, making the response factually correct.\n",
            "    - Completeness: The response is comprehensive, covering various treatment aspects, including medication, therapy, and family support, which adds depth beyond the reference answer.\n",
            "    - Clarity: The response is clear and easy to understand, presenting the information in a straightforward manner without ambiguity.\n",
            "    - Conciseness: While the response is complete, it is slightly longer than necessary, with some details that could be seen as extraneous, such as specific mentions of \"early warning signs of relapse\" and \"coping with stress.\"\n",
            "\n",
            "### Overall Scores:\n",
            "- RAG Overall Score: 8\n"
          ]
        },
        {
          "output_type": "stream",
          "name": "stderr",
          "text": [
            "\rEvaluating responses:  29%|██▉       | 29/100 [01:07<02:36,  2.20s/sample]"
          ]
        },
        {
          "output_type": "stream",
          "name": "stdout",
          "text": [
            "Evaluation Output:\n",
            "Feedback:\n",
            "- RAG Response:\n",
            "    - Relevance: The response effectively addresses the query by highlighting the key difference between panic disorder and occasional panic attacks, which is the frequency and the associated anxiety. \n",
            "    - Semantic Similarity: The response captures the essence of the reference answer well, although the phrasing differs slightly. Both emphasize the repeated nature of panic disorder compared to occasional attacks.\n",
            "    - Accuracy: The information presented is accurate, correctly stating that panic disorder involves repeated attacks and anticipatory anxiety about future attacks.\n",
            "    - Factual Correctness: The facts align with established definitions of panic disorder and occasional panic attacks, confirming the response's correctness.\n",
            "    - Completeness: While the response covers the main difference, it could provide a bit more detail about what constitutes occasional panic attacks for a fuller comparison.\n",
            "    - Clarity: The response is clear and straightforward, making it easy to understand the distinction being made.\n",
            "    - Conciseness: The response is concise and conveys the necessary information without unnecessary elaboration.\n",
            "\n",
            "### Overall Scores:\n",
            "- RAG Overall Score: 8\n"
          ]
        },
        {
          "output_type": "stream",
          "name": "stderr",
          "text": [
            "\rEvaluating responses:  30%|███       | 30/100 [01:09<02:33,  2.19s/sample]"
          ]
        },
        {
          "output_type": "stream",
          "name": "stdout",
          "text": [
            "Evaluation Output:\n",
            "Feedback:\n",
            "- RAG Response:\n",
            "    - Relevance: The response is relevant as it directly addresses how psychotherapy aids in the recovery from eating disorders, mentioning key aspects of the therapeutic process.\n",
            "    - Semantic Similarity: The response captures the essence of the reference answer by discussing emotional issues and management strategies, though it elaborates more than the reference.\n",
            "    - Accuracy: The information provided is accurate and aligns with common understandings of psychotherapy's role in treating eating disorders.\n",
            "    - Factual Correctness: The facts presented are consistent with established knowledge in psychology and eating disorder treatment, making them reliable.\n",
            "    - Completeness: The response is quite complete, covering various facets of psychotherapy's role, including emotional processing and coping mechanisms.\n",
            "    - Clarity: The response is clear and straightforward, making it easy for the reader to understand the points being made.\n",
            "    - Conciseness: While the response is informative, it could be slightly more concise; some details, while relevant, may be seen as extraneous to the core question.\n",
            "\n",
            "### Overall Scores:\n",
            "- RAG Overall Score: 8\n"
          ]
        },
        {
          "output_type": "stream",
          "name": "stderr",
          "text": [
            "\rEvaluating responses:  31%|███       | 31/100 [01:11<02:31,  2.20s/sample]"
          ]
        },
        {
          "output_type": "stream",
          "name": "stdout",
          "text": [
            "Evaluation Output:\n",
            "Feedback:\n",
            "- RAG Response:\n",
            "    - Relevance: The response is relevant as it discusses treatments for anxiety disorders, addressing the query effectively.\n",
            "    - Semantic Similarity: The response captures the general intent of the reference answer but goes into more detail than the reference, which is less concise.\n",
            "    - Accuracy: The information provided about medications and therapies is accurate and reflects common treatments for anxiety disorders.\n",
            "    - Factual Correctness: The mention of Xanax, exposure therapy, and support groups aligns with established treatments for anxiety disorders, confirming factual correctness.\n",
            "    - Completeness: The response is more complete than the reference answer, providing specific examples of treatments, which enhances its thoroughness.\n",
            "    - Clarity: The response is clear and easy to understand, with well-structured sentences that convey the information effectively.\n",
            "    - Conciseness: While the response is informative, it could be considered slightly less concise due to the additional details that extend beyond the core answer provided in the reference.\n",
            "\n",
            "### Overall Scores:\n",
            "- RAG Overall Score: 8\n"
          ]
        },
        {
          "output_type": "stream",
          "name": "stderr",
          "text": [
            "\rEvaluating responses:  32%|███▏      | 32/100 [01:14<02:39,  2.34s/sample]"
          ]
        },
        {
          "output_type": "stream",
          "name": "stdout",
          "text": [
            "Evaluation Output:\n",
            "Feedback:\n",
            "- RAG Response:\n",
            "    - Relevance: The response is relevant as it addresses the role of CBT in managing depression and self-esteem issues. However, it could focus more directly on how CBT specifically impacts these areas rather than mentioning related issues.\n",
            "    - Semantic Similarity: The response captures some of the essence of the reference answer but diverges in its phrasing and addition of extra elements (like anxiety and toxic relationships), which shifts the focus slightly.\n",
            "    - Accuracy: The information presented is generally accurate regarding CBT's role in managing emotions and behaviors, but it could benefit from more precise language related to self-esteem.\n",
            "    - Factual Correctness: The facts presented are consistent with known principles of CBT, but the mention of \"CBP practices\" seems to be a typo and should be \"CBT practices,\" which undermines factual correctness.\n",
            "    - Completeness: While the response includes several aspects of CBT, it does not fully elaborate on the specific mechanisms by which CBT helps with depression and self-esteem, which would enhance completeness.\n",
            "    - Clarity: The response is mostly clear but could be improved by reducing complexity and ensuring that terminology is accurate and consistent.\n",
            "    - Conciseness: The response includes some unnecessary details (e.g., listing various issues like anxiety and toxic relationships) that detract from its conciseness.\n",
            "\n",
            "### Overall Scores:\n",
            "- RAG Overall Score: 6\n"
          ]
        },
        {
          "output_type": "stream",
          "name": "stderr",
          "text": [
            "\rEvaluating responses:  33%|███▎      | 33/100 [01:16<02:42,  2.43s/sample]"
          ]
        },
        {
          "output_type": "stream",
          "name": "stdout",
          "text": [
            "Evaluation Output:\n",
            "Feedback:\n",
            "- RAG Response:\n",
            "    - Relevance: The response is relevant as it addresses a significant health risk associated with self-harm (risk of suicide). However, it does not cover other important risks mentioned in the reference answer, such as infections and severe injuries.\n",
            "    - Semantic Similarity: The response captures some of the intent of the reference answer but focuses narrowly on suicide risk, which is only one aspect of the broader health risks associated with self-harm.\n",
            "    - Accuracy: The information about the risk of suicide is accurate, but it does not encompass other risks that are also pertinent to the question.\n",
            "    - Factual Correctness: The statement regarding the risk of suicide is factually correct, but the lack of additional health risks makes it incomplete.\n",
            "    - Completeness: The response lacks completeness as it does not mention other health risks like infections, permanent scars, or severe injuries, which are crucial to understanding the overall risks of self-harm.\n",
            "    - Clarity: The response is clear and straightforward in its message about suicide risk, but it is overly simplistic and does not provide a comprehensive view.\n",
            "    - Conciseness: The response is concise, but this conciseness comes at the cost of omitting important information, leading to a lack of depth.\n",
            "\n",
            "### Overall Scores:\n",
            "- RAG Overall Score: 4\n"
          ]
        },
        {
          "output_type": "stream",
          "name": "stderr",
          "text": [
            "\rEvaluating responses:  34%|███▍      | 34/100 [01:19<02:38,  2.40s/sample]"
          ]
        },
        {
          "output_type": "stream",
          "name": "stdout",
          "text": [
            "Evaluation Output:\n",
            "Feedback:\n",
            "- RAG Response:\n",
            "    - Relevance: The response is relevant as it addresses the causes of social anxiety disorder, which is the query's intent.\n",
            "    - Semantic Similarity: The response captures the essence of the reference answer, mentioning genetics and learned behavior, although it introduces a phrase about embarrassment that is not explicitly in the reference.\n",
            "    - Accuracy: The information provided is accurate, identifying valid causes of social anxiety disorder.\n",
            "    - Factual Correctness: The response is factually correct in stating that genetics and learned behavior can contribute to social anxiety disorder.\n",
            "    - Completeness: The response is somewhat complete but could benefit from mentioning other potential factors such as environmental influences or brain chemistry, which are commonly recognized causes.\n",
            "    - Clarity: The response is clear and easy to understand, although the phrase \"not fully known\" could be rephrased for better clarity.\n",
            "    - Conciseness: The response is concise but could be slightly more succinct by removing the introductory phrase about the unknown specifics.\n",
            "\n",
            "### Overall Scores:\n",
            "- RAG Overall Score: 7\n"
          ]
        },
        {
          "output_type": "stream",
          "name": "stderr",
          "text": [
            "\rEvaluating responses:  35%|███▌      | 35/100 [01:21<02:35,  2.39s/sample]"
          ]
        },
        {
          "output_type": "stream",
          "name": "stdout",
          "text": [
            "Evaluation Output:\n",
            "Feedback:\n",
            "- RAG Response:\n",
            "    - Relevance: The response effectively addresses the query about the Four-Fold Breath technique, mentioning its purpose for relaxation and sleep, which aligns well with the instruction.\n",
            "    - Semantic Similarity: The response captures the essence of the reference answer but adds additional details about the method, which slightly shifts the focus from the concise nature of the reference.\n",
            "    - Accuracy: The information about the technique is accurate, describing the breathing counts and practice duration correctly.\n",
            "    - Factual Correctness: The details provided about the technique are consistent with known practices in pranayama, making the response factually correct.\n",
            "    - Completeness: The response provides additional context about how the technique is practiced, which adds to its completeness, although it may deviate from the succinctness of the reference answer.\n",
            "    - Clarity: The response is clear and easy to understand, with straightforward language that effectively communicates the technique.\n",
            "    - Conciseness: The response could be considered less concise due to the additional details provided about the practice, which, while informative, may not be necessary for a basic understanding.\n",
            "\n",
            "### Overall Scores:\n",
            "- RAG Overall Score: 8\n"
          ]
        },
        {
          "output_type": "stream",
          "name": "stderr",
          "text": [
            "\rEvaluating responses:  36%|███▌      | 36/100 [01:23<02:27,  2.30s/sample]"
          ]
        },
        {
          "output_type": "stream",
          "name": "stdout",
          "text": [
            "Evaluation Output:\n",
            "Feedback:\n",
            "- RAG Response:\n",
            "    - Relevance: The response is relevant as it discusses the influence of family history on mental health, aligning with the query's intent.\n",
            "    - Semantic Similarity: The RAG response captures the essence of the reference answer by acknowledging the role of family history in mental health, although it is more detailed.\n",
            "    - Accuracy: The information provided about biological factors and life experiences contributing to mental health is accurate and relevant.\n",
            "    - Factual Correctness: The response correctly identifies family history as a factor influencing mental health, consistent with established understanding in psychology.\n",
            "    - Completeness: The response is somewhat complete as it includes additional factors influencing mental health, but it does not explicitly state the predisposition aspect highlighted in the reference answer.\n",
            "    - Clarity: The response is clear and easy to understand, effectively communicating the points made about mental health influences.\n",
            "    - Conciseness: The response could be more concise; it includes some unnecessary details that could be omitted to focus more directly on family history.\n",
            "\n",
            "### Overall Scores:\n",
            "- RAG Overall Score: 7\n"
          ]
        },
        {
          "output_type": "stream",
          "name": "stderr",
          "text": [
            "\rEvaluating responses:  37%|███▋      | 37/100 [01:25<02:19,  2.22s/sample]"
          ]
        },
        {
          "output_type": "stream",
          "name": "stdout",
          "text": [
            "Evaluation Output:\n",
            "Feedback:\n",
            "- RAG Response:\n",
            "    - Relevance: The response is relevant as it discusses how phobias affect daily life through avoidance and the associated emotional and physical responses.\n",
            "    - Semantic Similarity: The response captures the essence of the reference answer but expands on it significantly, which diverges from the succinctness of the reference.\n",
            "    - Accuracy: The information provided is accurate regarding the effects of phobias on individuals, including emotional and physical symptoms.\n",
            "    - Factual Correctness: The facts presented are consistent with what is known about phobias and their impact on daily life, supporting the response's validity.\n",
            "    - Completeness: The response is more complete than the reference answer, providing a broader range of effects phobias can have, including emotional consequences.\n",
            "    - Clarity: The response is generally clear, but the list format could be improved for better readability and flow.\n",
            "    - Conciseness: The response is somewhat verbose, including more details than the reference answer, which may detract from its conciseness.\n",
            "\n",
            "### Overall Scores:\n",
            "- RAG Overall Score: 7\n"
          ]
        },
        {
          "output_type": "stream",
          "name": "stderr",
          "text": [
            "\rEvaluating responses:  38%|███▊      | 38/100 [01:27<02:19,  2.25s/sample]"
          ]
        },
        {
          "output_type": "stream",
          "name": "stdout",
          "text": [
            "Evaluation Output:\n",
            "Feedback:\n",
            "- RAG Response:\n",
            "    - Relevance: The response is relevant as it addresses how NCCA temperament therapy benefits individuals, aligning with the query's intent.\n",
            "    - Semantic Similarity: The response captures the essence of the reference answer by mentioning self-acceptance and joy, though it expands on the concept with additional details about understanding and managing temperament.\n",
            "    - Accuracy: The information provided is accurate in the context of temperament therapy, aligning well with the general understanding of such therapeutic approaches.\n",
            "    - Factual Correctness: The response does not present any incorrect facts and is consistent with the general principles of temperament therapy.\n",
            "    - Completeness: While the response covers key benefits, it could be considered slightly less complete than the reference answer, which succinctly emphasizes self-acceptance and joy without additional elaboration.\n",
            "    - Clarity: The response is clear and easy to understand, effectively communicating the benefits of the therapy.\n",
            "    - Conciseness: The response is somewhat longer than necessary, introducing additional concepts that could be perceived as extraneous to the core benefits mentioned in the reference answer.\n",
            "\n",
            "### Overall Scores:\n",
            "- RAG Overall Score: 8\n"
          ]
        },
        {
          "output_type": "stream",
          "name": "stderr",
          "text": [
            "\rEvaluating responses:  39%|███▉      | 39/100 [01:32<02:54,  2.86s/sample]"
          ]
        },
        {
          "output_type": "stream",
          "name": "stdout",
          "text": [
            "Evaluation Output:\n",
            "Feedback:\n",
            "- RAG Response:\n",
            "    - Relevance: The response is somewhat relevant as it addresses the relationship between physical health and depression, but it could be more direct in linking the two concepts more clearly.\n",
            "    - Semantic Similarity: The response captures the general meaning of the reference answer but uses more convoluted phrasing, which detracts from its effectiveness.\n",
            "    - Accuracy: The information presented is logically sound, indicating that physical health can influence depression, but it lacks specificity regarding how this occurs.\n",
            "    - Factual Correctness: The response is factually correct in its assertion that physical health impacts depression; however, it does not provide specific examples or evidence.\n",
            "    - Completeness: The response lacks depth and does not explore the mechanisms or specific ways physical health affects depression, making it incomplete.\n",
            "    - Clarity: The phrasing is somewhat unclear and convoluted, making it harder to understand the main point compared to the reference answer.\n",
            "    - Conciseness: The response is somewhat verbose and could be more succinct in communicating its main idea.\n",
            "\n",
            "### Overall Scores:\n",
            "- RAG Overall Score: 5\n"
          ]
        },
        {
          "output_type": "stream",
          "name": "stderr",
          "text": [
            "\rEvaluating responses:  40%|████      | 40/100 [01:35<02:59,  3.00s/sample]"
          ]
        },
        {
          "output_type": "stream",
          "name": "stdout",
          "text": [
            "Evaluation Output:\n",
            "Feedback:\n",
            "- RAG Response:\n",
            "    - Relevance: The response is relevant as it addresses the impact of lack of sunlight on mood, which aligns with the query regarding Seasonal Affective Disorder (SAD). However, it could be more directly linked to SAD specifically.\n",
            "    - Semantic Similarity: The response captures the essence of the reference answer by mentioning serotonin and mood, but it lacks the mention of melatonin and its role, which is crucial to the reference.\n",
            "    - Accuracy: The information about circadian rhythms and serotonin is accurate, but the explanation is somewhat vague and could be misleading without context on how these factors specifically relate to SAD.\n",
            "    - Factual Correctness: The response is generally factually correct, but it does not fully explain the relationship between serotonin, melatonin, and their effects on mood and sleep in the context of SAD.\n",
            "    - Completeness: The response lacks completeness as it does not mention melatonin or the specific effects of reduced sunlight on sleep, which are important elements of the reference answer.\n",
            "    - Clarity: The response is somewhat clear, but the phrasing \"could mess up\" is informal and may not convey the seriousness of the issue effectively.\n",
            "    - Conciseness: The response is concise, but it sacrifices depth for brevity, leaving out important details that would enhance understanding.\n",
            "\n",
            "### Overall Scores:\n",
            "- RAG Overall Score: 5\n"
          ]
        },
        {
          "output_type": "stream",
          "name": "stderr",
          "text": [
            "\rEvaluating responses:  41%|████      | 41/100 [01:38<02:57,  3.00s/sample]"
          ]
        },
        {
          "output_type": "stream",
          "name": "stdout",
          "text": [
            "Evaluation Output:\n",
            "Feedback:\n",
            "- RAG Response:\n",
            "    - Relevance: The response is relevant as it addresses the concern of social withdrawal in youth, but it does not directly connect to the emotional implications highlighted in the reference answer.\n",
            "    - Semantic Similarity: The meaning captured in the RAG response is somewhat related but does not align closely with the reference answer's focus on feelings of hopelessness or distress.\n",
            "    - Accuracy: The response accurately reflects that social withdrawal can indicate a need for help, but it lacks depth regarding the emotional states associated with withdrawal.\n",
            "    - Factual Correctness: The information presented is correct; however, it does not encompass the broader emotional context mentioned in the reference answer.\n",
            "    - Completeness: The response provides some understanding of social withdrawal but does not fully address the emotional aspects that are critical to understanding why it is a concern.\n",
            "    - Clarity: The response is clear and easy to understand, effectively communicating the ideas presented.\n",
            "    - Conciseness: The response is concise and avoids unnecessary details, though it could benefit from a more focused approach on the emotional implications.\n",
            "\n",
            "### Overall Scores:\n",
            "- RAG Overall Score: 6\n"
          ]
        },
        {
          "output_type": "stream",
          "name": "stderr",
          "text": [
            "\rEvaluating responses:  42%|████▏     | 42/100 [01:40<02:38,  2.73s/sample]"
          ]
        },
        {
          "output_type": "stream",
          "name": "stdout",
          "text": [
            "Evaluation Output:\n",
            "Feedback:\n",
            "- RAG Response:\n",
            "    - Relevance: The response addresses the query about ADHD treatment effectively by listing relevant treatment options. However, it could have emphasized behavior management strategies, which are also important.\n",
            "    - Semantic Similarity: The response captures the overall meaning of the reference answer but uses different phrasing that slightly alters the intent regarding behavior management.\n",
            "    - Accuracy: The information provided is generally accurate as it mentions medication and psychotherapy, which are common treatments for ADHD.\n",
            "    - Factual Correctness: The treatments mentioned align with established knowledge about ADHD treatment options, making the response factually correct.\n",
            "    - Completeness: The response lacks mention of behavior management strategies, which are essential for a comprehensive overview of ADHD treatment options.\n",
            "    - Clarity: The response is clear and easy to understand, presenting the treatment options in a straightforward manner.\n",
            "    - Conciseness: The response is concise, providing the necessary information without unnecessary elaboration.\n",
            "\n",
            "### Overall Scores:\n",
            "- RAG Overall Score: 7\n"
          ]
        },
        {
          "output_type": "stream",
          "name": "stderr",
          "text": [
            "\rEvaluating responses:  43%|████▎     | 43/100 [01:43<02:32,  2.68s/sample]"
          ]
        },
        {
          "output_type": "stream",
          "name": "stdout",
          "text": [
            "Evaluation Output:\n",
            "Feedback:\n",
            "- RAG Response:\n",
            "    - Relevance: The response effectively addresses the query regarding the importance of early treatment for schizophrenia, focusing on recovery and quality of life, which are key aspects. \n",
            "    - Semantic Similarity: The meaning aligns well with the reference answer, as both emphasize the benefits of early treatment, though the RAG response elaborates more.\n",
            "    - Accuracy: The information presented is accurate and logically sound, correctly highlighting the significance of early intervention.\n",
            "    - Factual Correctness: The response is factually correct, as it aligns with established knowledge about the benefits of early treatment for schizophrenia.\n",
            "    - Completeness: While the response covers the essential aspects, it could be slightly more comprehensive by mentioning specific symptoms or consequences of delayed treatment.\n",
            "    - Clarity: The response is clear and easy to understand, with a straightforward structure that conveys the message effectively.\n",
            "    - Conciseness: The response is somewhat longer than necessary; it could be more concise by omitting the phrase \"According to the provided context,\" which is not needed for clarity.\n",
            "\n",
            "### Overall Scores:\n",
            "- RAG Overall Score: 8\n"
          ]
        },
        {
          "output_type": "stream",
          "name": "stderr",
          "text": [
            "\rEvaluating responses:  44%|████▍     | 44/100 [01:46<02:33,  2.74s/sample]"
          ]
        },
        {
          "output_type": "stream",
          "name": "stdout",
          "text": [
            "Evaluation Output:\n",
            "Feedback:\n",
            "- RAG Response:\n",
            "    - Relevance: The response effectively addresses the query about the signs of binge eating disorder by listing relevant symptoms. However, it includes some general information about the disorder that is not directly requested, which slightly detracts from its relevance.\n",
            "    - Semantic Similarity: The response captures the essence of the reference answer, particularly the key signs, but adds additional context that isn't present in the reference answer. Overall, it maintains a good level of similarity.\n",
            "    - Accuracy: The information provided is accurate regarding binge eating disorder and its signs. The details about feelings of shame and using food as a coping mechanism are also correct and relevant.\n",
            "    - Factual Correctness: The facts presented align well with established understanding of binge eating disorder, confirming their correctness and reliability.\n",
            "    - Completeness: The response is comprehensive, covering multiple signs and symptoms, although it could be more concise. It includes some aspects not mentioned in the reference answer, which may enhance understanding but also adds to length.\n",
            "    - Clarity: The response is clear and well-structured, making it easy to understand the signs of binge eating disorder.\n",
            "    - Conciseness: The response is somewhat lengthy and includes some redundancy, especially in explaining the core concept of binge eating disorder. It could be more concise while still conveying the necessary information.\n",
            "\n",
            "### Overall Scores:\n",
            "- RAG Overall Score: 8\n"
          ]
        },
        {
          "output_type": "stream",
          "name": "stderr",
          "text": [
            "\rEvaluating responses:  45%|████▌     | 45/100 [01:49<02:34,  2.81s/sample]"
          ]
        },
        {
          "output_type": "stream",
          "name": "stdout",
          "text": [
            "Evaluation Output:\n",
            "Feedback:\n",
            "- RAG Response:\n",
            "    - Relevance: The response effectively addresses the query about the impact of binge eating disorder on mental health, discussing relevant issues such as depression and anxiety. However, it could more directly connect these issues to the specific impacts mentioned in the reference answer.\n",
            "    - Semantic Similarity: The response captures the essence of the reference answer by mentioning feelings of guilt and shame, but it expands on these ideas rather than mirroring the brevity of the reference.\n",
            "    - Accuracy: The information presented is accurate, as it correctly identifies the mental health issues associated with binge eating disorder.\n",
            "    - Factual Correctness: The response is factually correct and consistent with known information about binge eating disorder and its mental health implications.\n",
            "    - Completeness: The response is quite comprehensive, covering various aspects of how binge eating disorder affects mental health, including emotional distress and the risk of other conditions.\n",
            "    - Clarity: The response is clear and easy to understand, effectively communicating the relationship between binge eating disorder and mental health.\n",
            "    - Conciseness: While the response is informative, it could be more concise. Some details may be considered extraneous to the core question, which could be streamlined.\n",
            "\n",
            "### Overall Scores:\n",
            "- RAG Overall Score: 8\n"
          ]
        },
        {
          "output_type": "stream",
          "name": "stderr",
          "text": [
            "\rEvaluating responses:  46%|████▌     | 46/100 [01:51<02:23,  2.66s/sample]"
          ]
        },
        {
          "output_type": "stream",
          "name": "stdout",
          "text": [
            "Evaluation Output:\n",
            "Feedback:\n",
            "- RAG Response:\n",
            "    - Relevance: The response is relevant as it addresses the goal of the Garrett Lee Smith Campus program, focusing on mental health services for students.\n",
            "    - Semantic Similarity: The response captures the essence of the reference answer but misses the specific mention of reducing suicide risks, which is a critical component of the program's goals.\n",
            "    - Accuracy: The information provided is accurate; however, it lacks the detail that the program also aims to reduce suicide risks, which is an essential part of its goal.\n",
            "    - Factual Correctness: The response is factually correct regarding the enhancement of mental health services but is incomplete in its scope.\n",
            "    - Completeness: The response is incomplete as it does not mention the reduction of suicide risks, which is a significant aspect of the program's goals.\n",
            "    - Clarity: The response is clear and straightforward, making it easy to understand.\n",
            "    - Conciseness: The response is concise and avoids unnecessary details, effectively conveying the main point.\n",
            "\n",
            "### Overall Scores:\n",
            "- RAG Overall Score: 6\n"
          ]
        },
        {
          "output_type": "stream",
          "name": "stderr",
          "text": [
            "\rEvaluating responses:  47%|████▋     | 47/100 [01:53<02:10,  2.46s/sample]"
          ]
        },
        {
          "output_type": "stream",
          "name": "stdout",
          "text": [
            "Evaluation Output:\n",
            "Feedback:\n",
            "- RAG Response:\n",
            "    - Relevance: The response effectively addresses the query about how obsessive-compulsive disorder manifests, focusing on the key components of obsessions and compulsions.\n",
            "    - Semantic Similarity: The response captures the essential meaning of the reference answer, although the phrasing is slightly different. Both responses convey the idea of repeated thoughts and actions.\n",
            "    - Accuracy: The information provided is accurate, as it correctly describes the core symptoms of obsessive-compulsive disorder.\n",
            "    - Factual Correctness: The response is factually correct and aligns with established definitions and descriptions of OCD.\n",
            "    - Completeness: The response is somewhat complete but could benefit from mentioning the role of anxiety in the manifestation of OCD, which is a significant aspect highlighted in the reference answer.\n",
            "    - Clarity: The response is clear and straightforward, making it easy to understand the main points.\n",
            "    - Conciseness: The response is concise and avoids unnecessary details, effectively summarizing the main symptoms of OCD.\n",
            "\n",
            "### Overall Scores:\n",
            "- RAG Overall Score: 8\n"
          ]
        },
        {
          "output_type": "stream",
          "name": "stderr",
          "text": [
            "\rEvaluating responses:  48%|████▊     | 48/100 [01:56<02:15,  2.61s/sample]"
          ]
        },
        {
          "output_type": "stream",
          "name": "stdout",
          "text": [
            "Evaluation Output:\n",
            "Feedback:\n",
            "- RAG Response:\n",
            "    - Relevance: The response partially addresses the query by mentioning therapy and relaxation, which are related to self-harm prevention. However, it lacks specific mention of resources, making it less relevant overall.\n",
            "    - Semantic Similarity: The response does not capture the intent of the reference answer well, as it fails to mention specific resources like programs and helplines that are crucial to the query's context.\n",
            "    - Accuracy: The information provided is accurate in a broad sense, as therapy and relaxation are indeed related to self-harm prevention, but it is too vague to be fully accurate in the context of the query.\n",
            "    - Factual Correctness: The concepts mentioned are factually correct but lack the depth required to provide a comprehensive understanding of self-harm prevention resources.\n",
            "    - Completeness: The response is incomplete, as it does not cover a wide range of resources available for self-harm prevention, omitting critical elements such as crisis helplines and specialized programs.\n",
            "    - Clarity: The response is clear in its wording, but its vagueness regarding the types of resources makes it less effective in conveying meaningful information.\n",
            "    - Conciseness: The response is concise but at the expense of providing necessary details; it could benefit from additional information to enhance its value.\n",
            "\n",
            "### Overall Scores:\n",
            "- RAG Overall Score: 3\n"
          ]
        },
        {
          "output_type": "stream",
          "name": "stderr",
          "text": [
            "\rEvaluating responses:  49%|████▉     | 49/100 [01:58<02:05,  2.46s/sample]"
          ]
        },
        {
          "output_type": "stream",
          "name": "stdout",
          "text": [
            "Evaluation Output:\n",
            "Feedback:\n",
            "- RAG Response:\n",
            "    - Relevance: The response is somewhat relevant as it touches on the idea of community involvement in suicide prevention, but it is too narrow in focus by only mentioning faith communities without broader community aspects.\n",
            "    - Semantic Similarity: The response does not capture the overall intent of the reference answer, which emphasizes support, awareness, and resources, while the RAG response focuses solely on faith communities.\n",
            "    - Accuracy: The information about faith communities' role in suicide prevention is accurate, but it does not represent the full scope of community responsibility.\n",
            "    - Factual Correctness: The mention of faith communities is factually correct; however, it does not encompass the broader community responsibility implied in the reference answer.\n",
            "    - Completeness: The response lacks completeness as it misses critical aspects of community support, awareness, and resource provision that are essential to understanding the full context of suicide prevention.\n",
            "    - Clarity: The response is clear in its wording, but it could be misleading due to its overly specific focus, which may confuse the reader about the broader community role.\n",
            "    - Conciseness: The response is concise but at the expense of completeness, as it omits important details that would provide a fuller understanding of the topic.\n",
            "\n",
            "### Overall Scores:\n",
            "- RAG Overall Score: 4\n"
          ]
        },
        {
          "output_type": "stream",
          "name": "stderr",
          "text": [
            "\rEvaluating responses:  50%|█████     | 50/100 [02:00<01:57,  2.36s/sample]"
          ]
        },
        {
          "output_type": "stream",
          "name": "stdout",
          "text": [
            "Evaluation Output:\n",
            "Feedback:\n",
            "- RAG Response:\n",
            "    - Relevance: The response effectively addresses the query by listing the main symptoms of schizophrenia, which is directly relevant to the question asked.\n",
            "    - Semantic Similarity: The response captures the meaning of the reference answer well, including similar symptoms, though it adds some additional context that is not present in the reference.\n",
            "    - Accuracy: The information provided is accurate regarding the symptoms of schizophrenia and aligns with common psychiatric knowledge.\n",
            "    - Factual Correctness: The symptoms listed are factually correct and consistent with established medical understanding of schizophrenia.\n",
            "    - Completeness: The response includes a good range of symptoms and provides additional context about the impact of these symptoms on daily life, making it more comprehensive than the reference answer.\n",
            "    - Clarity: The response is clear and easy to understand, with well-structured points that enhance readability.\n",
            "    - Conciseness: While the response is generally concise, the additional context about feelings of confusion and isolation, while useful, could be seen as slightly verbose compared to the reference answer.\n",
            "\n",
            "### Overall Scores:\n",
            "- RAG Overall Score: 9\n"
          ]
        },
        {
          "output_type": "stream",
          "name": "stderr",
          "text": [
            "\rEvaluating responses:  51%|█████     | 51/100 [02:02<01:49,  2.24s/sample]"
          ]
        },
        {
          "output_type": "stream",
          "name": "stdout",
          "text": [
            "Evaluation Output:\n",
            "Feedback:\n",
            "- RAG Response:\n",
            "    - Relevance: The response effectively addresses the query by outlining various ways family members can support a loved one with schizophrenia, which aligns well with the intent of the question.\n",
            "    - Semantic Similarity: The response captures the essence of the reference answer by mentioning emotional support and treatment adherence, although it expands on these points with additional information.\n",
            "    - Accuracy: The information provided in the response is accurate and reflects common strategies for supporting individuals with schizophrenia.\n",
            "    - Factual Correctness: The details mentioned, such as the importance of education, emotional support, and family therapy, are consistent with reliable sources regarding schizophrenia support.\n",
            "    - Completeness: The response is thorough, covering multiple aspects of support, including emotional, practical, and therapeutic approaches, which adds depth to the answer.\n",
            "    - Clarity: The response is clearly articulated, with straightforward language that makes it easy to understand.\n",
            "    - Conciseness: While the response is comprehensive, it could be slightly more concise by avoiding some redundancy in explaining support strategies.\n",
            "\n",
            "### Overall Scores:\n",
            "- RAG Overall Score: 9\n"
          ]
        },
        {
          "output_type": "stream",
          "name": "stderr",
          "text": [
            "\rEvaluating responses:  52%|█████▏    | 52/100 [02:04<01:49,  2.28s/sample]"
          ]
        },
        {
          "output_type": "stream",
          "name": "stdout",
          "text": [
            "Evaluation Output:\n",
            "Feedback:\n",
            "- RAG Response:\n",
            "    - Relevance: The response is relevant as it addresses the query about treatments available for eating disorders, listing appropriate treatment options.\n",
            "    - Semantic Similarity: The response captures the intent of the reference answer but includes additional information that slightly diverges from the core message.\n",
            "    - Accuracy: The treatments mentioned (psychotherapy, medical care, nutrition counseling, and medications) are accurate and commonly recognized approaches for treating eating disorders.\n",
            "    - Factual Correctness: The information provided aligns with established knowledge regarding eating disorder treatments, making it factually correct.\n",
            "    - Completeness: While the response includes treatments, it could have mentioned that these treatments can be tailored to individual needs or provided more context about the types of psychotherapy or medications.\n",
            "    - Clarity: The response is clear and easy to understand, presenting the information in a straightforward manner.\n",
            "    - Conciseness: The response is mostly concise but includes a somewhat redundant statement about full recovery, which could be omitted for brevity.\n",
            "\n",
            "### Overall Scores:\n",
            "- RAG Overall Score: 8\n"
          ]
        },
        {
          "output_type": "stream",
          "name": "stderr",
          "text": [
            "\rEvaluating responses:  53%|█████▎    | 53/100 [02:06<01:43,  2.20s/sample]"
          ]
        },
        {
          "output_type": "stream",
          "name": "stdout",
          "text": [
            "Evaluation Output:\n",
            "Feedback:\n",
            "- RAG Response:\n",
            "    - Relevance: The response is relevant as it directly addresses how panic disorder affects relationships, discussing avoidance and anxiety, which are pertinent to the query.\n",
            "    - Semantic Similarity: The response captures the essence of the reference answer by mentioning tension and avoidance, although it elaborates more than the reference.\n",
            "    - Accuracy: The information provided is accurate regarding the impact of panic disorder on relationships, reflecting common issues faced by individuals with this condition.\n",
            "    - Factual Correctness: The facts presented align with known effects of panic disorder, making the response factually correct.\n",
            "    - Completeness: The response is complete, covering various aspects of how panic disorder can affect relationships, such as avoidance and anxiety.\n",
            "    - Clarity: The response is clear and easy to understand, with a logical flow that makes the information accessible.\n",
            "    - Conciseness: While the response is somewhat longer than necessary, it remains focused on the topic without excessive detail.\n",
            "\n",
            "### Overall Scores:\n",
            "- RAG Overall Score: 8\n"
          ]
        },
        {
          "output_type": "stream",
          "name": "stderr",
          "text": [
            "\rEvaluating responses:  54%|█████▍    | 54/100 [02:09<01:46,  2.32s/sample]"
          ]
        },
        {
          "output_type": "stream",
          "name": "stdout",
          "text": [
            "Evaluation Output:\n",
            "Feedback:\n",
            "- RAG Response:\n",
            "    - Relevance: The response is relevant as it directly addresses how to help someone showing warning signs of suicide by providing actionable steps.\n",
            "    - Semantic Similarity: The response captures the intent of the reference answer, though it adds more specific actions, which slightly shifts the focus from the general to the particular.\n",
            "    - Accuracy: The information provided is accurate, including the suggestion to contact the 988 Suicide & Crisis Lifeline, which is a recognized resource.\n",
            "    - Factual Correctness: The facts are correct, as the response accurately describes appropriate actions to take for someone showing warning signs of suicide.\n",
            "    - Completeness: The response is fairly complete, covering essential aspects such as listening, asking about thoughts, and ensuring safety, although it could be slightly more concise.\n",
            "    - Clarity: The response is clear and easy to understand, with straightforward language that conveys the necessary actions effectively.\n",
            "    - Conciseness: The response could be considered slightly verbose, particularly with the inclusion of the suggestion to call or text 988, which, while helpful, could be integrated more succinctly.\n",
            "\n",
            "### Overall Scores:\n",
            "- RAG Overall Score: 8\n"
          ]
        },
        {
          "output_type": "stream",
          "name": "stderr",
          "text": [
            "\rEvaluating responses:  55%|█████▌    | 55/100 [02:11<01:37,  2.16s/sample]"
          ]
        },
        {
          "output_type": "stream",
          "name": "stdout",
          "text": [
            "Evaluation Output:\n",
            "Feedback:\n",
            "- RAG Response:\n",
            "    - Relevance: The response is highly relevant as it directly addresses how parents should approach conversations about mental health with their children.\n",
            "    - Semantic Similarity: The response captures the essence of the reference answer by emphasizing the importance of communication and creating a safe space, though it expands on this concept significantly.\n",
            "    - Accuracy: The information provided is accurate and reflects sound advice for discussing mental health with children.\n",
            "    - Factual Correctness: The facts presented are consistent with general knowledge about mental health conversations, and there are no inaccuracies.\n",
            "    - Completeness: The response is quite complete, covering multiple aspects of the conversation process, whereas the reference answer is more succinct and less detailed.\n",
            "    - Clarity: The response is clear and easy to understand, with straightforward language that is appropriate for the topic.\n",
            "    - Conciseness: While the response is clear, it could be seen as slightly verbose compared to the reference answer, which is more concise.\n",
            "\n",
            "### Overall Scores:\n",
            "- RAG Overall Score: 8\n"
          ]
        },
        {
          "output_type": "stream",
          "name": "stderr",
          "text": [
            "\rEvaluating responses:  56%|█████▌    | 56/100 [02:13<01:41,  2.31s/sample]"
          ]
        },
        {
          "output_type": "stream",
          "name": "stdout",
          "text": [
            "Evaluation Output:\n",
            "Feedback:\n",
            "- RAG Response:\n",
            "    - Relevance: The response addresses the query by mentioning effective treatments for phobias, specifically exposure therapy and cognitive-behavioral therapy (CBT). However, it could be more focused on phobias rather than including general information about CBT's effectiveness for depression and anxiety. \n",
            "    - Semantic Similarity: The response captures the essence of the reference answer by mentioning exposure therapy and cognitive-behavioral techniques, but it uses more elaborate phrasing and adds unnecessary details that stray from the succinctness of the reference.\n",
            "    - Accuracy: The information provided is accurate regarding the treatments mentioned; both exposure therapy and CBT are recognized methods for treating phobias.\n",
            "    - Factual Correctness: The facts presented are correct and align with established psychological practices for treating phobias.\n",
            "    - Completeness: The response could be considered somewhat complete as it mentions two effective treatments, but it lacks additional details or alternative treatments that could provide a fuller picture of effective phobia treatments.\n",
            "    - Clarity: The response is generally clear but could be improved by removing the uncertain phrasing about self-administering exposure therapy, which may confuse readers.\n",
            "    - Conciseness: The response could be more concise; it includes unnecessary details about websites and the effectiveness of self-administered therapy, which detracts from the main point.\n",
            "\n",
            "### Overall Scores:\n",
            "- RAG Overall Score: 6\n"
          ]
        },
        {
          "output_type": "stream",
          "name": "stderr",
          "text": [
            "\rEvaluating responses:  57%|█████▋    | 57/100 [02:15<01:35,  2.21s/sample]"
          ]
        },
        {
          "output_type": "stream",
          "name": "stdout",
          "text": [
            "Evaluation Output:\n",
            "Feedback:\n",
            "- RAG Response:\n",
            "    - Relevance: The response effectively addresses the query by stating the purpose of the Native Connections program, which is to prevent suicide and substance misuse among AI/AN youth.\n",
            "    - Semantic Similarity: The response captures the core meaning of the reference answer but expands on it with additional details. However, it diverges slightly from the brevity of the reference.\n",
            "    - Accuracy: The information provided is accurate and aligns with the known objectives of the Native Connections program.\n",
            "    - Factual Correctness: The facts presented are consistent with reliable sources regarding the program's goals and target demographic.\n",
            "    - Completeness: The response is complete as it mentions multiple aspects of the program's purpose, including trauma reduction and mental health promotion, which adds depth.\n",
            "    - Clarity: The response is clearly articulated and easy to understand, with no ambiguous language.\n",
            "    - Conciseness: While the response is clear, it could be considered slightly verbose compared to the reference answer, which is more succinct.\n",
            "\n",
            "### Overall Scores:\n",
            "- RAG Overall Score: 8\n"
          ]
        },
        {
          "output_type": "stream",
          "name": "stderr",
          "text": [
            "\rEvaluating responses:  58%|█████▊    | 58/100 [02:18<01:34,  2.25s/sample]"
          ]
        },
        {
          "output_type": "stream",
          "name": "stdout",
          "text": [
            "Evaluation Output:\n",
            "Feedback:\n",
            "- RAG Response:\n",
            "    - Relevance: The response is partially relevant as it mentions behaviors associated with social anxiety, but it does not directly address the distinction between social anxiety disorder and shyness.\n",
            "    - Semantic Similarity: The response does not capture the intent of the reference answer, which specifically discusses the persistent fear and its impact on daily life, rather than just behaviors.\n",
            "    - Accuracy: The behaviors mentioned (difficulty making eye contact and being around unfamiliar people) are accurate indicators of social anxiety but do not adequately differentiate it from shyness.\n",
            "    - Factual Correctness: The response correctly identifies behaviors related to social anxiety but fails to provide a comprehensive context regarding the disorder itself.\n",
            "    - Completeness: The response is incomplete as it lacks a thorough explanation of how social anxiety disorder differs from shyness, missing key aspects of the disorder's nature and impact.\n",
            "    - Clarity: The response is somewhat clear in describing specific behaviors, but it lacks clarity in conveying the broader context needed to understand the distinction.\n",
            "    - Conciseness: The response is concise but at the expense of completeness; it does not provide enough information to fully address the query.\n",
            "\n",
            "### Overall Scores:\n",
            "- RAG Overall Score: 3\n"
          ]
        },
        {
          "output_type": "stream",
          "name": "stderr",
          "text": [
            "\rEvaluating responses:  59%|█████▉    | 59/100 [02:20<01:29,  2.19s/sample]"
          ]
        },
        {
          "output_type": "stream",
          "name": "stdout",
          "text": [
            "Evaluation Output:\n",
            "Feedback:\n",
            "- RAG Response:\n",
            "    - Relevance: The response is highly relevant as it directly addresses the importance of consistent treatment for schizophrenia, aligning well with the query.\n",
            "    - Semantic Similarity: The response captures the intent of the reference answer but expands on it significantly. While it conveys similar ideas, it does not match the succinctness of the reference.\n",
            "    - Accuracy: The information provided is accurate, emphasizing the management of symptoms and the improvement of quality of life through treatment.\n",
            "    - Factual Correctness: The facts presented are consistent with common knowledge about schizophrenia treatment, making them reliable.\n",
            "    - Completeness: The response is complete in that it covers various aspects of treatment, including medication, therapy, coping mechanisms, and social reintegration, which the reference answer does not elaborate on.\n",
            "    - Clarity: The response is clear and easy to understand, presenting its points in a logical manner.\n",
            "    - Conciseness: While the response is informative, it could be considered slightly verbose compared to the reference answer, which is very concise.\n",
            "\n",
            "### Overall Scores:\n",
            "- RAG Overall Score: 8\n"
          ]
        },
        {
          "output_type": "stream",
          "name": "stderr",
          "text": [
            "\rEvaluating responses:  60%|██████    | 60/100 [02:22<01:29,  2.24s/sample]"
          ]
        },
        {
          "output_type": "stream",
          "name": "stdout",
          "text": [
            "Evaluation Output:\n",
            "Feedback:\n",
            "- RAG Response:\n",
            "    - Relevance: The response is somewhat relevant as it mentions factors that can trigger eating disorders, but it lacks a comprehensive overview of the topic. It misses important triggers like societal pressures and mental health issues.\n",
            "    - Semantic Similarity: The response captures some elements of the reference answer, particularly mentioning genetic factors, but it does not align closely with the full range of triggers identified in the reference.\n",
            "    - Accuracy: The mention of genes and hormones is accurate, but it is incomplete and does not provide a full picture of potential triggers.\n",
            "    - Factual Correctness: The information provided is factually correct, but it is too limited in scope to be fully informative.\n",
            "    - Completeness: The response is incomplete, as it omits several critical triggers such as societal pressures and mental health issues, which are essential for understanding eating disorders.\n",
            "    - Clarity: The response is clear but simplistic, lacking depth and detail that would enhance understanding.\n",
            "    - Conciseness: The response is concise but at the expense of completeness; it does not provide enough information to be fully useful.\n",
            "\n",
            "### Overall Scores:\n",
            "- RAG Overall Score: 4\n"
          ]
        },
        {
          "output_type": "stream",
          "name": "stderr",
          "text": [
            "\rEvaluating responses:  61%|██████    | 61/100 [02:24<01:25,  2.18s/sample]"
          ]
        },
        {
          "output_type": "stream",
          "name": "stdout",
          "text": [
            "Evaluation Output:\n",
            "Feedback:\n",
            "- RAG Response:\n",
            "    - Relevance: The response does not address the query about triggers for generalized anxiety disorder at all, making it irrelevant.\n",
            "    - Semantic Similarity: There is no semantic similarity to the reference answer, as the RAG response does not contain any relevant information.\n",
            "    - Accuracy: The response does not provide any information related to the query, thus cannot be considered accurate.\n",
            "    - Factual Correctness: Since the response does not contain any facts, it cannot be evaluated for factual correctness.\n",
            "    - Completeness: The response is incomplete as it fails to provide any information on triggers for generalized anxiety disorder.\n",
            "    - Clarity: The response is clear in its assertion that information is not mentioned, but this does not fulfill the query.\n",
            "    - Conciseness: The response is concise, but it is too brief to be useful, as it does not provide any relevant information.\n",
            "\n",
            "### Overall Scores:\n",
            "- RAG Overall Score: 1\n"
          ]
        },
        {
          "output_type": "stream",
          "name": "stderr",
          "text": [
            "\rEvaluating responses:  62%|██████▏   | 62/100 [02:27<01:24,  2.23s/sample]"
          ]
        },
        {
          "output_type": "stream",
          "name": "stdout",
          "text": [
            "Evaluation Output:\n",
            "Feedback:\n",
            "- RAG Response:\n",
            "    - Relevance: The response is relevant as it addresses the query about NCCA temperament therapy, explaining its focus on understanding temperament.\n",
            "    - Semantic Similarity: The response captures the essence of the reference answer but expands on it, which slightly diverges from the succinctness of the reference.\n",
            "    - Accuracy: The information provided is accurate and logically sound, correctly describing the nature of NCCA temperament therapy.\n",
            "    - Factual Correctness: The facts presented align with the general understanding of temperament therapy, although they are not directly sourced or verified against the reference.\n",
            "    - Completeness: The response is more complete than the reference answer, providing additional context about personal growth and self-awareness, which could be seen as a strength.\n",
            "    - Clarity: The response is clear and easy to understand, effectively communicating the concepts involved in temperament therapy.\n",
            "    - Conciseness: While the response provides valuable information, it could be considered less concise due to the additional details that may not be necessary for a basic understanding.\n",
            "\n",
            "### Overall Scores:\n",
            "- RAG Overall Score: 7\n"
          ]
        },
        {
          "output_type": "stream",
          "name": "stderr",
          "text": [
            "\rEvaluating responses:  63%|██████▎   | 63/100 [02:29<01:29,  2.42s/sample]"
          ]
        },
        {
          "output_type": "stream",
          "name": "stdout",
          "text": [
            "Evaluation Output:\n",
            "Feedback:\n",
            "- RAG Response:\n",
            "    - Relevance: The response is relevant as it discusses effective interventions for children facing mental health issues. However, it could be more directly aligned with the types of interventions mentioned in the reference answer.\n",
            "    - Semantic Similarity: The response captures the overall intent of discussing interventions but lacks the specific mention of therapy, support groups, and educational accommodations, which are key elements in the reference answer.\n",
            "    - Accuracy: The information provided is accurate in the context of mental health interventions, but it does not match the specific examples given in the reference answer.\n",
            "    - Factual Correctness: The facts presented are consistent with general knowledge about mental health interventions, but they do not directly corroborate the specific interventions listed in the reference answer.\n",
            "    - Completeness: The response is somewhat complete as it covers various aspects of interventions, but it omits specific examples such as therapy and support groups, which are critical to a comprehensive understanding of the topic.\n",
            "    - Clarity: The response is clear and easy to understand, with a logical flow of ideas. However, it could be more concise by eliminating some repetitive elements.\n",
            "    - Conciseness: While the response is generally concise, it includes some redundancy in describing the community aspects of interventions, which could be streamlined.\n",
            "\n",
            "### Overall Scores:\n",
            "- RAG Overall Score: 6\n"
          ]
        },
        {
          "output_type": "stream",
          "name": "stderr",
          "text": [
            "\rEvaluating responses:  64%|██████▍   | 64/100 [02:33<01:39,  2.77s/sample]"
          ]
        },
        {
          "output_type": "stream",
          "name": "stdout",
          "text": [
            "Evaluation Output:\n",
            "Feedback:\n",
            "- RAG Response:\n",
            "    - Relevance: The response somewhat addresses the importance of observing behavior changes in children, but it focuses more on reporting suspicions of child abuse rather than the broader significance of behavior changes. This makes it only partially relevant to the query.\n",
            "    - Semantic Similarity: The response does not capture the essence of the reference answer, which emphasizes early identification of mental health issues. The RAG response lacks a clear connection to this key point.\n",
            "    - Accuracy: The information regarding reporting child abuse is accurate but does not directly answer the question about the importance of observing behavior changes. Thus, it is only partially accurate in context.\n",
            "    - Factual Correctness: The mention of reporting to family protective services is factually correct, but it does not pertain directly to the query about observing behavior changes, leading to a lack of overall factual relevance.\n",
            "    - Completeness: The response does not fully address the essential aspects of the query. It misses discussing the significance of observing behavior changes in relation to mental health, which is a critical component of the question.\n",
            "    - Clarity: The response is generally clear in its wording, but it could be confusing as it shifts focus to child abuse without establishing a clear link to the importance of behavior observation.\n",
            "    - Conciseness: The response includes some extraneous details about reporting abuse that are not necessary for answering the original question, making it less concise than it could be.\n",
            "\n",
            "### Overall Scores:\n",
            "- RAG Overall Score: 4\n"
          ]
        },
        {
          "output_type": "stream",
          "name": "stderr",
          "text": [
            "\rEvaluating responses:  65%|██████▌   | 65/100 [02:35<01:28,  2.54s/sample]"
          ]
        },
        {
          "output_type": "stream",
          "name": "stdout",
          "text": [
            "Evaluation Output:\n",
            "Feedback:\n",
            "- RAG Response:\n",
            "    - Relevance: The response effectively addresses the query by identifying relevant factors that contribute to mental health conditions, aligning well with the instruction.\n",
            "    - Semantic Similarity: The response captures the core meaning of the reference answer, though the phrasing is slightly less formal and structured. \n",
            "    - Accuracy: The information presented is accurate and logically sound, correctly identifying biological factors, life experiences, and family history as contributors to mental health conditions.\n",
            "    - Factual Correctness: The facts are consistent with the reference answer and reliable sources regarding mental health conditions.\n",
            "    - Completeness: The response includes the main factors mentioned in the reference answer, but it lacks a more detailed explanation or examples that could enhance understanding.\n",
            "    - Clarity: The response is clear and easy to understand, although it could benefit from improved structure for better readability.\n",
            "    - Conciseness: The response is concise, providing the necessary information without unnecessary elaboration.\n",
            "\n",
            "### Overall Scores:\n",
            "- RAG Overall Score: 8\n"
          ]
        },
        {
          "output_type": "stream",
          "name": "stderr",
          "text": [
            "\rEvaluating responses:  66%|██████▌   | 66/100 [02:39<01:44,  3.07s/sample]"
          ]
        },
        {
          "output_type": "stream",
          "name": "stdout",
          "text": [
            "Evaluation Output:\n",
            "Feedback:\n",
            "- RAG Response:\n",
            "    - Relevance: The response effectively addresses the query regarding the benefits of early and consistent treatment for mental health conditions, making it relevant to the instruction.\n",
            "    - Semantic Similarity: The wording differs slightly from the reference answer, but the core meaning is captured well, indicating a good level of semantic similarity.\n",
            "    - Accuracy: The information provided is accurate, as it correctly states that early and consistent treatment can help manage mental health conditions.\n",
            "    - Factual Correctness: The response aligns with established understanding in mental health treatment, confirming its factual correctness.\n",
            "    - Completeness: While the response covers the essential aspects of treatment, it could elaborate more on how treatment helps manage conditions and lead a meaningful life.\n",
            "    - Clarity: The response is clear and easy to understand, effectively communicating the main idea without ambiguity.\n",
            "    - Conciseness: The response is concise, providing the necessary information without unnecessary elaboration.\n",
            "\n",
            "### Overall Scores:\n",
            "- RAG Overall Score: 8\n"
          ]
        },
        {
          "output_type": "stream",
          "name": "stderr",
          "text": [
            "\rEvaluating responses:  67%|██████▋   | 67/100 [02:43<01:44,  3.16s/sample]"
          ]
        },
        {
          "output_type": "stream",
          "name": "stdout",
          "text": [
            "Evaluation Output:\n",
            "Feedback:\n",
            "- RAG Response:\n",
            "    - Relevance: The response is relevant as it directly addresses the causes of depression in Seasonal Affective Disorder (SAD), which is the focus of the query.\n",
            "    - Semantic Similarity: The response captures the intent of the reference answer by discussing the impact of sunlight on mood, although it does not explicitly mention the seasonal aspect as clearly as the reference.\n",
            "    - Accuracy: The information presented is accurate and reflects the commonly accepted understanding of SAD, linking it to sunlight exposure and its effects on serotonin and circadian rhythms.\n",
            "    - Factual Correctness: The facts are consistent with established knowledge about SAD and its relationship with seasonal changes and sunlight.\n",
            "    - Completeness: The response provides a good overview of the causes but could be considered slightly less complete than the reference answer, which succinctly mentions the seasonal changes without delving into mechanisms.\n",
            "    - Clarity: The response is clear and understandable, effectively conveying the relationship between sunlight and mood disturbances.\n",
            "    - Conciseness: The response is concise, providing the necessary information without unnecessary elaboration.\n",
            "\n",
            "### Overall Scores:\n",
            "- RAG Overall Score: 8\n"
          ]
        },
        {
          "output_type": "stream",
          "name": "stderr",
          "text": [
            "\rEvaluating responses:  68%|██████▊   | 68/100 [02:46<01:46,  3.34s/sample]"
          ]
        },
        {
          "output_type": "stream",
          "name": "stdout",
          "text": [
            "Evaluation Output:\n",
            "Feedback:\n",
            "- RAG Response:\n",
            "    - Relevance: The response does not address the query at all, as it states that the information is not mentioned. This is not relevant to the question about what makes social anxiety disorder unique.\n",
            "    - Semantic Similarity: There is no semantic similarity with the reference answer since the RAG response fails to provide any information related to the query.\n",
            "    - Accuracy: The response is not accurate because it does not provide any information regarding social anxiety disorder, which is the focus of the query.\n",
            "    - Factual Correctness: The RAG response does not contain any factual information, leading to a lack of verification against reliable sources.\n",
            "    - Completeness: The response is incomplete as it does not address the question or provide any relevant information about social anxiety disorder.\n",
            "    - Clarity: The response is clear in its statement; however, it lacks content, making it ineffective in conveying any useful information.\n",
            "    - Conciseness: While the response is concise, it is too brief to be meaningful or informative regarding the query.\n",
            "\n",
            "### Overall Scores:\n",
            "- RAG Overall Score: 1\n"
          ]
        },
        {
          "output_type": "stream",
          "name": "stderr",
          "text": [
            "\rEvaluating responses:  69%|██████▉   | 69/100 [02:49<01:36,  3.13s/sample]"
          ]
        },
        {
          "output_type": "stream",
          "name": "stdout",
          "text": [
            "Evaluation Output:\n",
            "Feedback:\n",
            "- RAG Response:\n",
            "    - Relevance: The response effectively addresses the query by explaining how the 988 Suicide & Crisis Lifeline supports individuals in crisis, making it highly relevant.\n",
            "    - Semantic Similarity: The response captures the essence of the reference answer, focusing on the provision of support through trained counselors, though it provides more detail, which slightly diverges from the succinctness of the reference.\n",
            "    - Accuracy: The response accurately describes the Lifeline's services, including the availability of trained counselors and specific support for various populations.\n",
            "    - Factual Correctness: The information provided is factually correct and aligns with known details about the 988 Lifeline and its operations.\n",
            "    - Completeness: The response is comprehensive, covering multiple aspects of the Lifeline's support, including the types of issues addressed and the availability of specialized lines, which adds depth.\n",
            "    - Clarity: The response is clear and easy to understand, with a straightforward explanation of the services offered.\n",
            "    - Conciseness: While the response is detailed, it could be considered slightly verbose compared to the reference answer, which is more concise. However, the additional information may be beneficial for understanding.\n",
            "\n",
            "### Overall Scores:\n",
            "- RAG Overall Score: 8\n"
          ]
        },
        {
          "output_type": "stream",
          "name": "stderr",
          "text": [
            "\rEvaluating responses:  70%|███████   | 70/100 [02:51<01:26,  2.88s/sample]"
          ]
        },
        {
          "output_type": "stream",
          "name": "stdout",
          "text": [
            "Evaluation Output:\n",
            "Feedback:\n",
            "- RAG Response:\n",
            "    - Relevance: The response is relevant as it discusses various lifestyle changes and treatments that can help manage Seasonal Affective Disorder (SAD). However, it does not directly address the specific lifestyle changes mentioned in the reference answer.\n",
            "    - Semantic Similarity: There is a moderate level of semantic similarity; while the response includes relevant information about managing SAD, it diverges from the specific lifestyle changes highlighted in the reference answer (natural light exposure and sleep schedule).\n",
            "    - Accuracy: The information provided is accurate in terms of common treatments for SAD, but it lacks a focused discussion on lifestyle changes specifically.\n",
            "    - Factual Correctness: The facts presented are generally correct, but some aspects (like medication) are not strictly lifestyle changes, which is the focus of the query.\n",
            "    - Completeness: The response covers a variety of management strategies, but it does not fully encompass the essential lifestyle changes mentioned in the reference answer, such as increasing exposure to natural light and maintaining a consistent sleep schedule.\n",
            "    - Clarity: The response is clear and understandable, providing a list of strategies without ambiguity.\n",
            "    - Conciseness: The response is somewhat concise, but it could be more focused on lifestyle changes rather than including other treatment methods.\n",
            "\n",
            "### Overall Scores:\n",
            "- RAG Overall Score: 6\n"
          ]
        },
        {
          "output_type": "stream",
          "name": "stderr",
          "text": [
            "\rEvaluating responses:  71%|███████   | 71/100 [02:54<01:19,  2.75s/sample]"
          ]
        },
        {
          "output_type": "stream",
          "name": "stdout",
          "text": [
            "Evaluation Output:\n",
            "Feedback:\n",
            "- RAG Response:\n",
            "    - Relevance: The response is relevant as it discusses self-harm behaviors and their causes, addressing the query effectively.\n",
            "    - Semantic Similarity: The response captures some of the intent of the reference answer but is more detailed and somewhat diverges from the simplicity of the reference.\n",
            "    - Accuracy: The information provided is generally accurate regarding self-harm behaviors and their emotional impacts.\n",
            "    - Factual Correctness: The response includes correct information about the emotional relief associated with self-harm and the role of endorphins, which aligns with established understanding.\n",
            "    - Completeness: The response provides a more comprehensive view of self-harm causes than the reference answer, discussing emotional distress and coping mechanisms, but may include some unnecessary details.\n",
            "    - Clarity: The response is mostly clear, but the mention of endorphins could confuse readers unfamiliar with the topic.\n",
            "    - Conciseness: The response is somewhat lengthy and could be more concise; it includes details that may not be essential to answering the query directly.\n",
            "\n",
            "### Overall Scores:\n",
            "- RAG Overall Score: 7\n"
          ]
        },
        {
          "output_type": "stream",
          "name": "stderr",
          "text": [
            "\rEvaluating responses:  72%|███████▏  | 72/100 [02:56<01:10,  2.53s/sample]"
          ]
        },
        {
          "output_type": "stream",
          "name": "stdout",
          "text": [
            "Evaluation Output:\n",
            "Feedback:\n",
            "- RAG Response:\n",
            "    - Relevance: The response is relevant as it lists behaviors that indicate self-harm, directly addressing the query.\n",
            "    - Semantic Similarity: The response captures the intent of the reference answer, but it does not include the mention of wearing long sleeves, which is an important indicator of self-harm.\n",
            "    - Accuracy: The behaviors listed are accurate representations of self-harm and align with common understandings of the topic.\n",
            "    - Factual Correctness: The facts presented are consistent with reliable sources regarding self-harm behaviors; all listed actions are recognized as self-harm.\n",
            "    - Completeness: While the response includes several behaviors, it lacks the mention of covering scars with clothing, which is a common and relevant behavior associated with self-harm.\n",
            "    - Clarity: The response is clear and straightforward, making it easy to understand the behaviors listed.\n",
            "    - Conciseness: The response is concise, providing a list without unnecessary elaboration or detail.\n",
            "\n",
            "### Overall Scores:\n",
            "- RAG Overall Score: 7\n"
          ]
        },
        {
          "output_type": "stream",
          "name": "stderr",
          "text": [
            "\rEvaluating responses:  73%|███████▎  | 73/100 [02:58<01:04,  2.40s/sample]"
          ]
        },
        {
          "output_type": "stream",
          "name": "stdout",
          "text": [
            "Evaluation Output:\n",
            "Feedback:\n",
            "- RAG Response:\n",
            "    - Relevance: The response is highly relevant as it directly addresses the symptoms of depression in individuals with Seasonal Affective Disorder (SAD).\n",
            "    - Semantic Similarity: The response captures the essence of the reference answer well, although it provides more detail and variation in phrasing.\n",
            "    - Accuracy: The symptoms listed are accurate and commonly associated with SAD, aligning well with established knowledge about the disorder.\n",
            "    - Factual Correctness: All symptoms mentioned are factually correct and consistent with reliable sources regarding SAD.\n",
            "    - Completeness: The response is comprehensive, listing a wide range of symptoms, which adds to its depth compared to the reference answer.\n",
            "    - Clarity: The symptoms are presented clearly and are easy to understand, making the response accessible to readers.\n",
            "    - Conciseness: While the response is somewhat lengthy, it remains focused and does not include unnecessary information, though it could be more concise.\n",
            "\n",
            "### Overall Scores:\n",
            "- RAG Overall Score: 9\n"
          ]
        },
        {
          "output_type": "stream",
          "name": "stderr",
          "text": [
            "\rEvaluating responses:  74%|███████▍  | 74/100 [03:00<00:57,  2.22s/sample]"
          ]
        },
        {
          "output_type": "stream",
          "name": "stdout",
          "text": [
            "Evaluation Output:\n",
            "Feedback:\n",
            "- RAG Response:\n",
            "    - Relevance: The response is not relevant to the query about warning signs of suicide for adults, as it discusses eating disorders instead.\n",
            "    - Semantic Similarity: There is no semantic similarity to the reference answer, as the content does not address the topic of suicide at all.\n",
            "    - Accuracy: The response does not provide accurate information related to the warning signs of suicide, as it diverts to a completely different subject.\n",
            "    - Factual Correctness: The information about eating disorders is not relevant in the context of the query and does not contribute to understanding suicide warning signs.\n",
            "    - Completeness: The response fails to cover any aspects of the query, making it incomplete.\n",
            "    - Clarity: While the response is clear in its own context, it is irrelevant and therefore does not contribute to understanding the original question.\n",
            "    - Conciseness: The response is concise but lacks the necessary information pertinent to the query, making it ineffective.\n",
            "\n",
            "### Overall Scores:\n",
            "- RAG Overall Score: 1\n"
          ]
        },
        {
          "output_type": "stream",
          "name": "stderr",
          "text": [
            "\rEvaluating responses:  75%|███████▌  | 75/100 [03:02<00:53,  2.15s/sample]"
          ]
        },
        {
          "output_type": "stream",
          "name": "stdout",
          "text": [
            "Evaluation Output:\n",
            "Feedback:\n",
            "- RAG Response:\n",
            "    - Relevance: The response effectively addresses the query by explaining what 'mental health' encompasses, making it relevant to the instruction.\n",
            "    - Semantic Similarity: The response captures the essence of the reference answer well, as it includes the same key components (emotional, psychological, and social well-being) while expanding slightly on their implications.\n",
            "    - Accuracy: The information presented is accurate and logically sound, aligning with common definitions of mental health.\n",
            "    - Factual Correctness: The facts are consistent with established definitions and reliable sources regarding mental health.\n",
            "    - Completeness: The response provides additional context on how mental health affects behavior and decision-making, which enhances its completeness compared to the reference answer.\n",
            "    - Clarity: The response is clearly articulated, making it easy to understand the concepts discussed.\n",
            "    - Conciseness: While the response is slightly longer than the reference answer, it remains concise and avoids unnecessary details.\n",
            "\n",
            "### Overall Scores:\n",
            "- RAG Overall Score: 9\n"
          ]
        },
        {
          "output_type": "stream",
          "name": "stderr",
          "text": [
            "\rEvaluating responses:  76%|███████▌  | 76/100 [03:05<00:59,  2.50s/sample]"
          ]
        },
        {
          "output_type": "stream",
          "name": "stdout",
          "text": [
            "Evaluation Output:\n",
            "Feedback:\n",
            "- RAG Response:\n",
            "    - Relevance: The response is relevant as it addresses how therapy helps individuals manage their thoughts, specifically mentioning counseling and cognitive behavioral therapy (CBT). However, it could be more directly tied to understanding thought processes.\n",
            "    - Semantic Similarity: The response captures some elements of the reference answer, particularly the focus on thought management, but it lacks a direct mention of how thoughts impact actions, which is a key aspect of the reference.\n",
            "    - Accuracy: The information about counseling and CBT is accurate and widely accepted in therapeutic contexts. However, it does not fully explain the broader implications of therapy on understanding thought processes.\n",
            "    - Factual Correctness: The details provided about CBT are factually correct; however, the response lacks comprehensive context that connects these practices to understanding thought processes.\n",
            "    - Completeness: The response is somewhat incomplete as it does not elaborate on how therapy specifically helps individuals interpret and respond to their thoughts, as described in the reference answer.\n",
            "    - Clarity: The response is clear in its wording but could benefit from more elaboration on the concepts mentioned to enhance understanding.\n",
            "    - Conciseness: The response is concise, but this brevity comes at the expense of depth and completeness regarding the query.\n",
            "\n",
            "### Overall Scores:\n",
            "- RAG Overall Score: 6\n"
          ]
        },
        {
          "output_type": "stream",
          "name": "stderr",
          "text": [
            "\rEvaluating responses:  77%|███████▋  | 77/100 [03:10<01:15,  3.27s/sample]"
          ]
        },
        {
          "output_type": "stream",
          "name": "stdout",
          "text": [
            "Evaluation Output:\n",
            "Feedback:\n",
            "- RAG Response:\n",
            "    - Relevance: The response is relevant as it addresses the query about overcoming self-harm tendencies by suggesting treatment options and coping mechanisms.\n",
            "    - Semantic Similarity: The response captures the core intent of the reference answer, focusing on therapy and coping mechanisms, but it elaborates more than the reference.\n",
            "    - Accuracy: The information provided is accurate regarding treatment options and therapies for self-harm.\n",
            "    - Factual Correctness: The response is factually correct, mentioning recognized treatment methods like outpatient therapy, inpatient hospitalization, and Dialectical Behavior Therapy (DBT).\n",
            "    - Completeness: The response is complete, covering multiple aspects of overcoming self-harm, including therapy options and coping strategies.\n",
            "    - Clarity: The response is clear and easy to understand, presenting the information in a straightforward manner.\n",
            "    - Conciseness: While the response is informative, it could be more concise. Some details could be streamlined to avoid redundancy.\n",
            "\n",
            "### Overall Scores:\n",
            "- RAG Overall Score: 8\n"
          ]
        },
        {
          "output_type": "stream",
          "name": "stderr",
          "text": [
            "\rEvaluating responses:  78%|███████▊  | 78/100 [03:12<01:04,  2.94s/sample]"
          ]
        },
        {
          "output_type": "stream",
          "name": "stdout",
          "text": [
            "Evaluation Output:\n",
            "Feedback:\n",
            "- RAG Response:\n",
            "    - Relevance: The response effectively addresses the query by focusing on how the Native Connections initiative supports youth, specifically mentioning suicide prevention and trauma impact, which are central to the initiative's goals.\n",
            "    - Semantic Similarity: The response captures the essence of the reference answer, emphasizing mental health and culturally tailored programs, although it uses more detailed phrasing.\n",
            "    - Accuracy: The information presented is accurate and aligns with the goals of the Native Connections initiative, as it highlights key areas of support for youth.\n",
            "    - Factual Correctness: The facts are consistent with known objectives of the Native Connections initiative, ensuring that the information is reliable.\n",
            "    - Completeness: The response is comprehensive, covering multiple aspects of support provided by the initiative, such as mental health promotion and cultural responsiveness.\n",
            "    - Clarity: The response is clear and easy to understand, effectively communicating the initiative's goals without ambiguity.\n",
            "    - Conciseness: While the response is somewhat longer than the reference answer, it remains focused and does not include unnecessary details.\n",
            "\n",
            "### Overall Scores:\n",
            "- RAG Overall Score: 9\n"
          ]
        },
        {
          "output_type": "stream",
          "name": "stderr",
          "text": [
            "\rEvaluating responses:  79%|███████▉  | 79/100 [03:14<00:56,  2.69s/sample]"
          ]
        },
        {
          "output_type": "stream",
          "name": "stdout",
          "text": [
            "Evaluation Output:\n",
            "Feedback:\n",
            "- RAG Response:\n",
            "    - Relevance: The response does not address the question about the importance of early intervention for depression, making it irrelevant.\n",
            "    - Semantic Similarity: There is no semantic similarity since the response does not capture any meaning or intent related to the reference answer.\n",
            "    - Accuracy: The response does not provide any information relevant to the query, thus it cannot be assessed for accuracy.\n",
            "    - Factual Correctness: There are no facts presented in the response, so factual correctness cannot be evaluated.\n",
            "    - Completeness: The response is incomplete as it fails to provide any information regarding the importance of addressing warning signs of depression.\n",
            "    - Clarity: The response is clear in its statement, but it lacks content relevant to the question.\n",
            "    - Conciseness: The response is concise, but it is too brief to be meaningful or informative.\n",
            "\n",
            "### Overall Scores:\n",
            "- RAG Overall Score: 1\n"
          ]
        },
        {
          "output_type": "stream",
          "name": "stderr",
          "text": [
            "\rEvaluating responses:  80%|████████  | 80/100 [03:17<00:53,  2.69s/sample]"
          ]
        },
        {
          "output_type": "stream",
          "name": "stdout",
          "text": [
            "Evaluation Output:\n",
            "Feedback:\n",
            "- RAG Response:\n",
            "    - Relevance: The response directly addresses the query about the aims of the Zero Suicide framework, making it relevant to the instruction.\n",
            "    - Semantic Similarity: The response captures the essence of the reference answer by discussing the framework's focus on suicide reduction within healthcare systems, but it adds additional details about implementation and health equity.\n",
            "    - Accuracy: The information provided is accurate regarding the framework's goals and approach, aligning well with the intent of the query.\n",
            "    - Factual Correctness: The facts presented are consistent with known information about the Zero Suicide framework, indicating a solid understanding of its principles.\n",
            "    - Completeness: While the response offers a good overview, it could be seen as slightly less complete than the reference answer because it introduces additional concepts (multi-setting approach and health equity) that may deviate from the core focus.\n",
            "    - Clarity: The response is clear and understandable, though the inclusion of multiple concepts might slightly detract from straightforwardness.\n",
            "    - Conciseness: The response is somewhat verbose; it could be more concise by focusing solely on the key aims of the Zero Suicide framework without additional details.\n",
            "\n",
            "### Overall Scores:\n",
            "- RAG Overall Score: 8\n"
          ]
        },
        {
          "output_type": "stream",
          "name": "stderr",
          "text": [
            "\rEvaluating responses:  81%|████████  | 81/100 [03:19<00:48,  2.53s/sample]"
          ]
        },
        {
          "output_type": "stream",
          "name": "stdout",
          "text": [
            "Evaluation Output:\n",
            "Feedback:\n",
            "- RAG Response:\n",
            "    - Relevance: The response is relevant as it addresses how increased substance use can signal suicide risk, directly responding to the query.\n",
            "    - Semantic Similarity: The response captures the essence of the reference answer, indicating that substance use can be linked to coping mechanisms for emotional pain.\n",
            "    - Accuracy: The information provided is accurate, correctly identifying substance use as a potential sign of suicide risk.\n",
            "    - Factual Correctness: The statement about self-medication aligns with established understandings of substance use and mental health, making it factually correct.\n",
            "    - Completeness: The response is somewhat incomplete; it does not elaborate on how increased substance use reflects emotional pain or the implications of this behavior, which are critical to understanding the connection to suicide risk.\n",
            "    - Clarity: The response is clear and easy to understand, presenting the information in a straightforward manner.\n",
            "    - Conciseness: The response is concise, delivering the message without unnecessary details.\n",
            "\n",
            "### Overall Scores:\n",
            "- RAG Overall Score: 7\n"
          ]
        },
        {
          "output_type": "stream",
          "name": "stderr",
          "text": [
            "\rEvaluating responses:  82%|████████▏ | 82/100 [03:22<00:45,  2.51s/sample]"
          ]
        },
        {
          "output_type": "stream",
          "name": "stdout",
          "text": [
            "Evaluation Output:\n",
            "Feedback:\n",
            "- RAG Response:\n",
            "    - Relevance: The response is highly relevant as it directly addresses early warning signs of mental health problems, listing various symptoms that align with the query.\n",
            "    - Semantic Similarity: The response captures the essence of the reference answer by including similar signs, although it provides a more extensive list. The core ideas of changes in sleep, energy levels, and social withdrawal are present.\n",
            "    - Accuracy: The information presented is accurate and aligns well with common knowledge about mental health issues, reflecting recognized symptoms.\n",
            "    - Factual Correctness: The signs listed are consistent with reliable sources on mental health, confirming the factual correctness of the response.\n",
            "    - Completeness: The response is quite comprehensive, providing a broad range of symptoms that could indicate mental health problems. However, it could be argued that it includes some less common signs, which might detract from the focus on the most prevalent indicators.\n",
            "    - Clarity: The response is clear and easy to understand, with a straightforward enumeration of symptoms that makes it accessible.\n",
            "    - Conciseness: While the response is detailed, it could be considered slightly lengthy. It could benefit from summarizing or prioritizing the most critical signs to enhance conciseness.\n",
            "\n",
            "### Overall Scores:\n",
            "- RAG Overall Score: 8\n"
          ]
        },
        {
          "output_type": "stream",
          "name": "stderr",
          "text": [
            "\rEvaluating responses:  83%|████████▎ | 83/100 [03:24<00:39,  2.31s/sample]"
          ]
        },
        {
          "output_type": "stream",
          "name": "stdout",
          "text": [
            "Evaluation Output:\n",
            "Feedback:\n",
            "- RAG Response:\n",
            "    - Relevance: The response is highly relevant as it directly addresses how caregivers can discuss mental health with children, providing practical strategies.\n",
            "    - Semantic Similarity: The response captures the intent of the reference answer, although it offers a more detailed approach rather than the simplicity suggested in the reference.\n",
            "    - Accuracy: The information presented is accurate and aligns with common practices in discussing mental health with children.\n",
            "    - Factual Correctness: The response is factually correct, providing sound advice that is consistent with recommended communication strategies for children.\n",
            "    - Completeness: The response is complete, covering multiple facets of the discussion process, including communication style, emotional awareness, and listening.\n",
            "    - Clarity: The response is clear and easy to understand, with straightforward language that is appropriate for the topic.\n",
            "    - Conciseness: While the response is somewhat longer than the reference, it effectively avoids unnecessary details, maintaining focus on the main points.\n",
            "\n",
            "### Overall Scores:\n",
            "- RAG Overall Score: 9\n"
          ]
        },
        {
          "output_type": "stream",
          "name": "stderr",
          "text": [
            "\rEvaluating responses:  84%|████████▍ | 84/100 [03:26<00:35,  2.25s/sample]"
          ]
        },
        {
          "output_type": "stream",
          "name": "stdout",
          "text": [
            "Evaluation Output:\n",
            "Feedback:\n",
            "- RAG Response:\n",
            "    - Relevance: The response effectively addresses the query by highlighting the differences between phobias and general anxiety, which is the main focus of the question.\n",
            "    - Semantic Similarity: The response captures the essence of the reference answer, but it lacks some specific terms used in the reference, such as \"specific\" and \"ongoing,\" which would enhance the semantic alignment.\n",
            "    - Accuracy: The information presented is accurate; it correctly identifies phobias as irrational fears and general anxiety as a natural response to threats.\n",
            "    - Factual Correctness: The facts are consistent with psychological definitions and align with the reference answer.\n",
            "    - Completeness: The response is somewhat complete but omits the aspect of phobias being linked to specific objects or situations, which is a crucial distinction.\n",
            "    - Clarity: The response is clear and easy to understand, effectively communicating the differences between the two concepts.\n",
            "    - Conciseness: The response is concise, providing a direct comparison without unnecessary elaboration.\n",
            "\n",
            "### Overall Scores:\n",
            "- RAG Overall Score: 7\n"
          ]
        },
        {
          "output_type": "stream",
          "name": "stderr",
          "text": [
            "\rEvaluating responses:  85%|████████▌ | 85/100 [03:28<00:33,  2.22s/sample]"
          ]
        },
        {
          "output_type": "stream",
          "name": "stdout",
          "text": [
            "Evaluation Output:\n",
            "Feedback:\n",
            "- RAG Response:\n",
            "    - Relevance: The response is highly relevant as it directly addresses how the 988 Lifeline provides crisis support.\n",
            "    - Semantic Similarity: The response captures the intent of the reference answer well, although it expands on the details provided.\n",
            "    - Accuracy: The information presented is accurate regarding the services offered by the 988 Lifeline.\n",
            "    - Factual Correctness: The facts are consistent with reliable sources about the 988 Lifeline's operations and services.\n",
            "    - Completeness: The response is complete, covering key aspects such as the availability of trained counselors and the 24/7 nature of the service, which the reference answer lacks.\n",
            "    - Clarity: The response is clear and easy to understand, effectively communicating the essential information.\n",
            "    - Conciseness: While the response is somewhat longer than the reference answer, it remains concise without unnecessary details.\n",
            "\n",
            "### Overall Scores:\n",
            "- RAG Overall Score: 9\n"
          ]
        },
        {
          "output_type": "stream",
          "name": "stderr",
          "text": [
            "\rEvaluating responses:  86%|████████▌ | 86/100 [03:30<00:31,  2.22s/sample]"
          ]
        },
        {
          "output_type": "stream",
          "name": "stdout",
          "text": [
            "Evaluation Output:\n",
            "Feedback:\n",
            "- RAG Response:\n",
            "    - Relevance: The response is relevant as it addresses coping strategies for social anxiety, but it could be more directly aligned with the query by listing more specific techniques.\n",
            "    - Semantic Similarity: The response captures some of the intent of the reference answer but lacks key techniques mentioned in the reference, such as mindfulness and gradual exposure.\n",
            "    - Accuracy: The information about therapy types is accurate, but it could include more universally recognized coping techniques.\n",
            "    - Factual Correctness: The response is factually correct in discussing therapy options; however, it does not include other common techniques that are widely recognized.\n",
            "    - Completeness: The response lacks completeness as it omits several common techniques, such as mindfulness and gradual exposure, that are critical to understanding coping strategies for social anxiety.\n",
            "    - Clarity: The response is mostly clear but could be more concise and structured to enhance understanding.\n",
            "    - Conciseness: The response is somewhat verbose and includes unnecessary details about therapy that could be summarized more succinctly.\n",
            "\n",
            "### Overall Scores:\n",
            "- RAG Overall Score: 5\n"
          ]
        },
        {
          "output_type": "stream",
          "name": "stderr",
          "text": [
            "\rEvaluating responses:  87%|████████▋ | 87/100 [03:33<00:31,  2.40s/sample]"
          ]
        },
        {
          "output_type": "stream",
          "name": "stdout",
          "text": [
            "Evaluation Output:\n",
            "Feedback:\n",
            "- RAG Response:\n",
            "    - Relevance: The response provides some relevant information on treatment options for binge eating disorder, but it strays into discussing bulimia and unrelated topics, which dilutes its relevance to the specific query about support options for binge eating disorder.\n",
            "    - Semantic Similarity: The response does not closely match the intent of the reference answer, which focuses specifically on support groups and nutrition counseling. It introduces other elements that are not directly related to the query.\n",
            "    - Accuracy: The information regarding treatment options is generally accurate; however, the reference to bulimia and symptoms does not pertain to binge eating disorder, which could confuse the reader.\n",
            "    - Factual Correctness: The mention of treatment plans is factually correct, but the inclusion of details about bulimia and suicide risk may mislead readers regarding the specific context of binge eating disorder.\n",
            "    - Completeness: The response offers a broader view of treatment options but lacks focus on specific support options like support groups, which are crucial for individuals with binge eating disorder.\n",
            "    - Clarity: The response is somewhat clear, but the inclusion of varied topics can make it less straightforward and harder to follow the main point regarding support options.\n",
            "    - Conciseness: The response could be more concise; it includes unnecessary details about bulimia and other unrelated aspects, which detracts from the main focus of the query.\n",
            "\n",
            "### Overall Scores:\n",
            "- RAG Overall Score: 5\n"
          ]
        },
        {
          "output_type": "stream",
          "name": "stderr",
          "text": [
            "\rEvaluating responses:  88%|████████▊ | 88/100 [03:35<00:29,  2.46s/sample]"
          ]
        },
        {
          "output_type": "stream",
          "name": "stdout",
          "text": [
            "Evaluation Output:\n",
            "Feedback:\n",
            "- RAG Response:\n",
            "    - Relevance: The response effectively addresses the importance of early intervention in children's mental health, aligning well with the query's intent.\n",
            "    - Semantic Similarity: The response captures the essence of the reference answer but expands on it significantly. While it adds valuable information, it diverges from the succinctness of the reference.\n",
            "    - Accuracy: The information presented is accurate regarding the benefits of early intervention in mental health.\n",
            "    - Factual Correctness: The response is factually correct and does not present any misleading or incorrect information.\n",
            "    - Completeness: The response is comprehensive, covering various aspects such as mental health issues, bullying, and family problems, which are relevant to the query.\n",
            "    - Clarity: The response is clear and understandable, though it could be slightly more direct to enhance clarity.\n",
            "    - Conciseness: The response is somewhat lengthy and could be more concise. It includes some extraneous details that could be trimmed without losing essential information.\n",
            "\n",
            "### Overall Scores:\n",
            "- RAG Overall Score: 7\n"
          ]
        },
        {
          "output_type": "stream",
          "name": "stderr",
          "text": [
            "\rEvaluating responses:  89%|████████▉ | 89/100 [03:38<00:25,  2.35s/sample]"
          ]
        },
        {
          "output_type": "stream",
          "name": "stdout",
          "text": [
            "Evaluation Output:\n",
            "Feedback:\n",
            "- RAG Response:\n",
            "    - Relevance: The response is highly relevant as it directly addresses the role of extreme mood swings in suicide risk, aligning well with the query.\n",
            "    - Semantic Similarity: The response does not closely align with the reference answer, which focuses on the disruption of relationships and emotional pain rather than the mechanisms of mood swings related to suicide risk.\n",
            "    - Accuracy: The information provided is accurate regarding the relationship between mood swings and suicide risk, discussing emotional regulation and impulsivity.\n",
            "    - Factual Correctness: The facts presented about mood swings and their potential impact on suicide risk are consistent with established psychological understanding.\n",
            "    - Completeness: The response is quite complete, covering various aspects of how mood swings can influence suicide risk, but it could briefly mention the relationship aspect mentioned in the reference answer.\n",
            "    - Clarity: The response is clear and easy to understand, effectively communicating the ideas without ambiguity.\n",
            "    - Conciseness: The response is mostly concise, though it could be slightly more succinct by eliminating some redundant phrases.\n",
            "\n",
            "### Overall Scores:\n",
            "- RAG Overall Score: 8\n"
          ]
        },
        {
          "output_type": "stream",
          "name": "stderr",
          "text": [
            "\rEvaluating responses:  90%|█████████ | 90/100 [03:40<00:23,  2.35s/sample]"
          ]
        },
        {
          "output_type": "stream",
          "name": "stdout",
          "text": [
            "Evaluation Output:\n",
            "Feedback:\n",
            "- RAG Response:\n",
            "    - Relevance: The response is highly relevant as it directly addresses how schools can help prevent self-harm among students, outlining various approaches and strategies.\n",
            "    - Semantic Similarity: The response captures the intent of the reference answer by emphasizing mental health services, though it elaborates significantly more than the reference, which may lead to a lower semantic similarity score.\n",
            "    - Accuracy: The information provided is accurate and logically sound, reflecting common strategies that schools implement to support mental health.\n",
            "    - Factual Correctness: The response presents facts that are consistent with known practices in educational settings regarding mental health support.\n",
            "    - Completeness: The response is comprehensive, covering multiple aspects of prevention strategies, which goes beyond the minimal mention in the reference answer.\n",
            "    - Clarity: The response is clear and well-structured, making it easy to understand the various points being made.\n",
            "    - Conciseness: While the response is thorough, it could be considered somewhat verbose, as it includes several points that may not be necessary for a brief answer.\n",
            "\n",
            "### Overall Scores:\n",
            "- RAG Overall Score: 8\n"
          ]
        },
        {
          "output_type": "stream",
          "name": "stderr",
          "text": [
            "\rEvaluating responses:  91%|█████████ | 91/100 [03:43<00:22,  2.50s/sample]"
          ]
        },
        {
          "output_type": "stream",
          "name": "stdout",
          "text": [
            "Evaluation Output:\n",
            "Feedback:\n",
            "- RAG Response:\n",
            "    - Relevance: The response directly addresses the query by comparing SAD symptoms with general depression, which is relevant to the question asked.\n",
            "    - Semantic Similarity: The response captures the essence of the reference answer by highlighting the seasonal aspect of SAD compared to general depression, although it provides a more detailed explanation.\n",
            "    - Accuracy: The information provided is accurate, noting that SAD is tied to specific seasons and sunlight, while general depression can arise from various factors.\n",
            "    - Factual Correctness: The facts presented are consistent with established understanding of SAD and general depression, confirming the response's reliability.\n",
            "    - Completeness: The response is thorough, covering essential aspects such as seasonal triggers and the broader causes of general depression, making it more complete than the reference answer.\n",
            "    - Clarity: The response is clear and well-structured, making it easy to understand the distinctions between SAD and general depression.\n",
            "    - Conciseness: While the response is somewhat longer than necessary, it remains focused on the topic without excessive detail, although it could be slightly more concise.\n",
            "\n",
            "### Overall Scores:\n",
            "- RAG Overall Score: 8\n"
          ]
        },
        {
          "output_type": "stream",
          "name": "stderr",
          "text": [
            "\rEvaluating responses:  92%|█████████▏| 92/100 [03:48<00:25,  3.24s/sample]"
          ]
        },
        {
          "output_type": "stream",
          "name": "stdout",
          "text": [
            "Evaluation Output:\n",
            "Feedback:\n",
            "- RAG Response:\n",
            "    - Relevance: The response is relevant as it addresses practices that can improve emotional well-being, but it does not explicitly mention spiritual well-being, which is part of the query.\n",
            "    - Semantic Similarity: The RAG response captures some of the intent of the reference answer, focusing on daily practices, but it diverges in specificity and does not align closely in phrasing or meaning.\n",
            "    - Accuracy: The information provided is accurate regarding the benefits of a healthy lifestyle on emotional health, but it lacks a broader perspective on spiritual well-being.\n",
            "    - Factual Correctness: The facts presented about healthy lifestyle choices supporting emotional health are correct and consistent with general knowledge.\n",
            "    - Completeness: The response does not fully cover the aspect of spiritual well-being and is somewhat limited in the variety of practices mentioned.\n",
            "    - Clarity: The response is clear in its expression, making it easy to understand the points being made.\n",
            "    - Conciseness: The response is concise and does not include unnecessary details, but it could benefit from a broader scope.\n",
            "\n",
            "### Overall Scores:\n",
            "- RAG Overall Score: 6\n"
          ]
        },
        {
          "output_type": "stream",
          "name": "stderr",
          "text": [
            "\rEvaluating responses:  93%|█████████▎| 93/100 [03:50<00:21,  3.03s/sample]"
          ]
        },
        {
          "output_type": "stream",
          "name": "stdout",
          "text": [
            "Evaluation Output:\n",
            "Feedback:\n",
            "- RAG Response:\n",
            "    - Relevance: The response is somewhat relevant as it addresses psychological factors related to eating disorders, but it could be more directly connected to the broader context of the question.\n",
            "    - Semantic Similarity: The response captures some of the intent of the reference answer but misses key elements such as negative self-image and societal pressures, which are central to the topic.\n",
            "    - Accuracy: The response is generally accurate in discussing psychological factors, though it lacks depth and context regarding how these factors lead to eating disorders.\n",
            "    - Factual Correctness: The information presented is mostly correct, but it does not fully align with the established understanding of eating disorders as discussed in the reference answer.\n",
            "    - Completeness: The response lacks completeness as it does not cover all essential aspects of the query, such as the role of co-existing mental illnesses and negative self-image.\n",
            "    - Clarity: The response is fairly clear, but the bullet point format may detract from the overall flow and coherence of the information presented.\n",
            "    - Conciseness: The response is concise, but it sacrifices depth and thoroughness for brevity, which affects its overall effectiveness.\n",
            "\n",
            "### Overall Scores:\n",
            "- RAG Overall Score: 5\n"
          ]
        },
        {
          "output_type": "stream",
          "name": "stderr",
          "text": [
            "\rEvaluating responses:  94%|█████████▍| 94/100 [03:53<00:16,  2.80s/sample]"
          ]
        },
        {
          "output_type": "stream",
          "name": "stdout",
          "text": [
            "Evaluation Output:\n",
            "Feedback:\n",
            "- RAG Response:\n",
            "    - Relevance: The response partially addresses the query by mentioning support strategies but lacks a comprehensive overview of strategies specifically beneficial for individuals with schizophrenia.\n",
            "    - Semantic Similarity: The response captures some intent of the reference answer but misses key components such as medication and therapy, which are crucial for understanding support strategies.\n",
            "    - Accuracy: The information provided is generally accurate but is too vague and does not convey the depth of support needed for individuals with schizophrenia.\n",
            "    - Factual Correctness: The suggestions of staying focused on treatment goals and involving family are valid; however, they do not encompass the broader range of effective strategies mentioned in the reference answer.\n",
            "    - Completeness: The response is incomplete as it omits critical strategies like consistent medication and therapy, which are essential for managing schizophrenia.\n",
            "    - Clarity: The response is clear in its language but lacks detail, which could lead to misunderstandings about the full scope of support strategies.\n",
            "    - Conciseness: The response is concise but at the expense of thoroughness, failing to provide sufficient information on the topic.\n",
            "\n",
            "### Overall Scores:\n",
            "- RAG Overall Score: 4\n"
          ]
        },
        {
          "output_type": "stream",
          "name": "stderr",
          "text": [
            "\rEvaluating responses:  95%|█████████▌| 95/100 [03:55<00:13,  2.78s/sample]"
          ]
        },
        {
          "output_type": "stream",
          "name": "stdout",
          "text": [
            "Evaluation Output:\n",
            "Feedback:\n",
            "- RAG Response:\n",
            "    - Relevance: The response is relevant as it addresses the concern of caregivers about a child's mental health by suggesting they consult healthcare providers. However, it could have included more direct actions that caregivers can take beyond seeking professional advice.\n",
            "    - Semantic Similarity: The response captures the intent of the reference answer but does so in a more detailed manner. It aligns with the idea of consulting healthcare providers and maintaining communication, but the phrasing and elaboration differ significantly.\n",
            "    - Accuracy: The information provided is accurate regarding the steps caregivers should take, as consulting healthcare providers is a standard recommendation for mental health concerns.\n",
            "    - Factual Correctness: The facts presented are consistent with common practices in addressing mental health issues in children, making the response factually correct.\n",
            "    - Completeness: While the response covers several important aspects, it lacks emphasis on maintaining open communication with the child, which is a crucial element mentioned in the reference answer.\n",
            "    - Clarity: The response is clear and straightforward, making it easy to understand the recommended actions for caregivers.\n",
            "    - Conciseness: The response is somewhat lengthy and includes details that may not be necessary for a general overview. It could benefit from being more concise by focusing on key steps without excessive elaboration.\n",
            "\n",
            "### Overall Scores:\n",
            "- RAG Overall Score: 7\n"
          ]
        },
        {
          "output_type": "stream",
          "name": "stderr",
          "text": [
            "\rEvaluating responses:  96%|█████████▌| 96/100 [03:58<00:10,  2.62s/sample]"
          ]
        },
        {
          "output_type": "stream",
          "name": "stdout",
          "text": [
            "Evaluation Output:\n",
            "Feedback:\n",
            "- RAG Response:\n",
            "    - Relevance: The response is somewhat relevant as it addresses the impact of untreated OCD, but it lacks detail on how it specifically affects daily life.\n",
            "    - Semantic Similarity: The response captures the general idea of the reference answer but does not convey the same depth or specific aspects, such as compulsions or quality of life.\n",
            "    - Accuracy: The statement is accurate in suggesting that untreated OCD can take over one's life, but it is vague and lacks specific implications.\n",
            "    - Factual Correctness: The response is factually correct in a general sense, but it does not provide enough context to fully understand the impact on daily life.\n",
            "    - Completeness: The response is incomplete as it does not elaborate on the specific ways OCD can affect daily activities, which is critical to fully answering the query.\n",
            "    - Clarity: The response is clear in its wording but lacks specificity, which diminishes its effectiveness in conveying the full impact of untreated OCD.\n",
            "    - Conciseness: The response is concise, but it sacrifices necessary detail for brevity, leading to a lack of comprehensive information.\n",
            "\n",
            "### Overall Scores:\n",
            "- RAG Overall Score: 4\n"
          ]
        },
        {
          "output_type": "stream",
          "name": "stderr",
          "text": [
            "\rEvaluating responses:  97%|█████████▋| 97/100 [04:00<00:08,  2.71s/sample]"
          ]
        },
        {
          "output_type": "stream",
          "name": "stdout",
          "text": [
            "Evaluation Output:\n",
            "Feedback:\n",
            "- RAG Response:\n",
            "    - Relevance: The response is somewhat relevant as it suggests talking to healthcare providers about concerns, but it does not directly address how to identify mental health concerns in children, which is the main focus of the query.\n",
            "    - Semantic Similarity: There is low semantic similarity with the reference answer. The reference answer focuses on specific signs of mental health issues, while the RAG response discusses consulting professionals instead.\n",
            "    - Accuracy: The information provided is accurate regarding the steps to take when concerned about a child's mental health but does not directly answer the question posed.\n",
            "    - Factual Correctness: The facts presented are correct in the context of seeking help but do not provide the identification aspect as outlined in the reference answer.\n",
            "    - Completeness: The response lacks completeness as it does not cover the essential aspects of identifying mental health concerns, which was the primary intent of the query.\n",
            "    - Clarity: The response is clear in its suggestions, but it may lead to confusion as it does not directly relate to identifying concerns.\n",
            "    - Conciseness: The response is concise but lacks the necessary information to be fully effective in answering the query.\n",
            "\n",
            "### Overall Scores:\n",
            "- RAG Overall Score: 4\n"
          ]
        },
        {
          "output_type": "stream",
          "name": "stderr",
          "text": [
            "\rEvaluating responses:  98%|█████████▊| 98/100 [04:05<00:06,  3.31s/sample]"
          ]
        },
        {
          "output_type": "stream",
          "name": "stdout",
          "text": [
            "Evaluation Output:\n",
            "Feedback:\n",
            "- RAG Response:\n",
            "    - Relevance: The response is relevant to the query, addressing the causes of social anxiety disorder directly.\n",
            "    - Semantic Similarity: The RAG response captures the essence of the reference answer but introduces additional factors, making it slightly less aligned in terms of phrasing.\n",
            "    - Accuracy: The information provided is generally accurate, mentioning genetics and learned behavior as potential causes of social anxiety disorder.\n",
            "    - Factual Correctness: The facts presented are consistent with known sources regarding social anxiety disorder, aligning with the reference answer.\n",
            "    - Completeness: The response includes important factors but could be seen as incomplete because it does not mention \"negative social experiences\" explicitly, which is a key aspect of the reference answer.\n",
            "    - Clarity: The response is clear and understandable, effectively communicating the main ideas.\n",
            "    - Conciseness: The response is concise, delivering the necessary information without unnecessary elaboration.\n",
            "\n",
            "### Overall Scores:\n",
            "- RAG Overall Score: 7\n"
          ]
        },
        {
          "output_type": "stream",
          "name": "stderr",
          "text": [
            "\rEvaluating responses:  99%|█████████▉| 99/100 [04:07<00:02,  2.87s/sample]"
          ]
        },
        {
          "output_type": "stream",
          "name": "stdout",
          "text": [
            "Evaluation Output:\n",
            "Feedback:\n",
            "- RAG Response:\n",
            "    - Relevance: The response is relevant as it addresses the signs that indicate a child may need mental health support, which aligns with the query.\n",
            "    - Semantic Similarity: The response does not capture the full range of signs mentioned in the reference answer, which includes drastic mood swings and severe behavioral changes. Therefore, it lacks some semantic similarity.\n",
            "    - Accuracy: The signs mentioned are accurate and reflect serious mental health concerns, but they do not encompass the broader range of signs that could indicate a need for support.\n",
            "    - Factual Correctness: The information provided is factually correct in terms of mental health indicators, but it is limited in scope.\n",
            "    - Completeness: The response is incomplete as it only lists two signs, whereas the reference answer suggests a broader range of symptoms that may indicate the need for support.\n",
            "    - Clarity: The response is clear and easy to understand, with straightforward language.\n",
            "    - Conciseness: The response is concise, providing the necessary information without unnecessary elaboration.\n",
            "\n",
            "### Overall Scores:\n",
            "- RAG Overall Score: 6\n"
          ]
        },
        {
          "output_type": "stream",
          "name": "stderr",
          "text": [
            "Evaluating responses: 100%|██████████| 100/100 [04:09<00:00,  2.50s/sample]"
          ]
        },
        {
          "output_type": "stream",
          "name": "stdout",
          "text": [
            "Evaluation Output:\n",
            "Feedback:\n",
            "- RAG Response:\n",
            "    - Relevance: The response is relevant as it addresses biological factors contributing to mental health conditions. However, it could elaborate further on the topic.\n",
            "    - Semantic Similarity: The response captures the essence of the reference answer, but the phrasing is slightly less formal and complete.\n",
            "    - Accuracy: The information provided is accurate; genes and brain chemistry are indeed recognized biological factors in mental health.\n",
            "    - Factual Correctness: The facts presented are correct and consistent with the reference answer.\n",
            "    - Completeness: The response lacks completeness as it only mentions two factors without exploring any additional biological factors that may also contribute.\n",
            "    - Clarity: The response is clear and easy to understand, but it could benefit from slightly more detail.\n",
            "    - Conciseness: The response is concise, effectively conveying the main idea without unnecessary information.\n",
            "\n",
            "### Overall Scores:\n",
            "- RAG Overall Score: 7\n"
          ]
        },
        {
          "output_type": "stream",
          "name": "stderr",
          "text": [
            "\n"
          ]
        }
      ]
    },
    {
      "cell_type": "code",
      "source": [
        "import json\n",
        "\n",
        "with open(\"evaluation_results_rag_pc_retriever_gte-base.json\", \"w\") as f:\n",
        "    json.dump(evaluations, f, indent=4)"
      ],
      "metadata": {
        "id": "V9cNuG9n6kx_"
      },
      "execution_count": null,
      "outputs": []
    },
    {
      "cell_type": "code",
      "source": [
        "results = pd.DataFrame(evaluations)"
      ],
      "metadata": {
        "id": "HrIkRSPLmV0N"
      },
      "execution_count": null,
      "outputs": []
    },
    {
      "cell_type": "code",
      "source": [
        "results[['RAG_Score']].describe()"
      ],
      "metadata": {
        "colab": {
          "base_uri": "https://localhost:8080/",
          "height": 300
        },
        "id": "c7sN2m3Xn1Ql",
        "outputId": "b8accfae-bfdf-4db1-b6d1-ed8e3e215865"
      },
      "execution_count": null,
      "outputs": [
        {
          "output_type": "execute_result",
          "data": {
            "text/plain": [
              "        RAG_Score\n",
              "count  100.000000\n",
              "mean     6.860000\n",
              "std      1.943755\n",
              "min      1.000000\n",
              "25%      6.000000\n",
              "50%      7.500000\n",
              "75%      8.000000\n",
              "max      9.000000"
            ],
            "text/html": [
              "\n",
              "  <div id=\"df-3082a52c-4827-4457-83f8-b6c5ce463e7d\" class=\"colab-df-container\">\n",
              "    <div>\n",
              "<style scoped>\n",
              "    .dataframe tbody tr th:only-of-type {\n",
              "        vertical-align: middle;\n",
              "    }\n",
              "\n",
              "    .dataframe tbody tr th {\n",
              "        vertical-align: top;\n",
              "    }\n",
              "\n",
              "    .dataframe thead th {\n",
              "        text-align: right;\n",
              "    }\n",
              "</style>\n",
              "<table border=\"1\" class=\"dataframe\">\n",
              "  <thead>\n",
              "    <tr style=\"text-align: right;\">\n",
              "      <th></th>\n",
              "      <th>RAG_Score</th>\n",
              "    </tr>\n",
              "  </thead>\n",
              "  <tbody>\n",
              "    <tr>\n",
              "      <th>count</th>\n",
              "      <td>100.000000</td>\n",
              "    </tr>\n",
              "    <tr>\n",
              "      <th>mean</th>\n",
              "      <td>6.860000</td>\n",
              "    </tr>\n",
              "    <tr>\n",
              "      <th>std</th>\n",
              "      <td>1.943755</td>\n",
              "    </tr>\n",
              "    <tr>\n",
              "      <th>min</th>\n",
              "      <td>1.000000</td>\n",
              "    </tr>\n",
              "    <tr>\n",
              "      <th>25%</th>\n",
              "      <td>6.000000</td>\n",
              "    </tr>\n",
              "    <tr>\n",
              "      <th>50%</th>\n",
              "      <td>7.500000</td>\n",
              "    </tr>\n",
              "    <tr>\n",
              "      <th>75%</th>\n",
              "      <td>8.000000</td>\n",
              "    </tr>\n",
              "    <tr>\n",
              "      <th>max</th>\n",
              "      <td>9.000000</td>\n",
              "    </tr>\n",
              "  </tbody>\n",
              "</table>\n",
              "</div>\n",
              "    <div class=\"colab-df-buttons\">\n",
              "\n",
              "  <div class=\"colab-df-container\">\n",
              "    <button class=\"colab-df-convert\" onclick=\"convertToInteractive('df-3082a52c-4827-4457-83f8-b6c5ce463e7d')\"\n",
              "            title=\"Convert this dataframe to an interactive table.\"\n",
              "            style=\"display:none;\">\n",
              "\n",
              "  <svg xmlns=\"http://www.w3.org/2000/svg\" height=\"24px\" viewBox=\"0 -960 960 960\">\n",
              "    <path d=\"M120-120v-720h720v720H120Zm60-500h600v-160H180v160Zm220 220h160v-160H400v160Zm0 220h160v-160H400v160ZM180-400h160v-160H180v160Zm440 0h160v-160H620v160ZM180-180h160v-160H180v160Zm440 0h160v-160H620v160Z\"/>\n",
              "  </svg>\n",
              "    </button>\n",
              "\n",
              "  <style>\n",
              "    .colab-df-container {\n",
              "      display:flex;\n",
              "      gap: 12px;\n",
              "    }\n",
              "\n",
              "    .colab-df-convert {\n",
              "      background-color: #E8F0FE;\n",
              "      border: none;\n",
              "      border-radius: 50%;\n",
              "      cursor: pointer;\n",
              "      display: none;\n",
              "      fill: #1967D2;\n",
              "      height: 32px;\n",
              "      padding: 0 0 0 0;\n",
              "      width: 32px;\n",
              "    }\n",
              "\n",
              "    .colab-df-convert:hover {\n",
              "      background-color: #E2EBFA;\n",
              "      box-shadow: 0px 1px 2px rgba(60, 64, 67, 0.3), 0px 1px 3px 1px rgba(60, 64, 67, 0.15);\n",
              "      fill: #174EA6;\n",
              "    }\n",
              "\n",
              "    .colab-df-buttons div {\n",
              "      margin-bottom: 4px;\n",
              "    }\n",
              "\n",
              "    [theme=dark] .colab-df-convert {\n",
              "      background-color: #3B4455;\n",
              "      fill: #D2E3FC;\n",
              "    }\n",
              "\n",
              "    [theme=dark] .colab-df-convert:hover {\n",
              "      background-color: #434B5C;\n",
              "      box-shadow: 0px 1px 3px 1px rgba(0, 0, 0, 0.15);\n",
              "      filter: drop-shadow(0px 1px 2px rgba(0, 0, 0, 0.3));\n",
              "      fill: #FFFFFF;\n",
              "    }\n",
              "  </style>\n",
              "\n",
              "    <script>\n",
              "      const buttonEl =\n",
              "        document.querySelector('#df-3082a52c-4827-4457-83f8-b6c5ce463e7d button.colab-df-convert');\n",
              "      buttonEl.style.display =\n",
              "        google.colab.kernel.accessAllowed ? 'block' : 'none';\n",
              "\n",
              "      async function convertToInteractive(key) {\n",
              "        const element = document.querySelector('#df-3082a52c-4827-4457-83f8-b6c5ce463e7d');\n",
              "        const dataTable =\n",
              "          await google.colab.kernel.invokeFunction('convertToInteractive',\n",
              "                                                    [key], {});\n",
              "        if (!dataTable) return;\n",
              "\n",
              "        const docLinkHtml = 'Like what you see? Visit the ' +\n",
              "          '<a target=\"_blank\" href=https://colab.research.google.com/notebooks/data_table.ipynb>data table notebook</a>'\n",
              "          + ' to learn more about interactive tables.';\n",
              "        element.innerHTML = '';\n",
              "        dataTable['output_type'] = 'display_data';\n",
              "        await google.colab.output.renderOutput(dataTable, element);\n",
              "        const docLink = document.createElement('div');\n",
              "        docLink.innerHTML = docLinkHtml;\n",
              "        element.appendChild(docLink);\n",
              "      }\n",
              "    </script>\n",
              "  </div>\n",
              "\n",
              "\n",
              "<div id=\"df-dceb5020-f031-4ce1-a6f8-24fa85317706\">\n",
              "  <button class=\"colab-df-quickchart\" onclick=\"quickchart('df-dceb5020-f031-4ce1-a6f8-24fa85317706')\"\n",
              "            title=\"Suggest charts\"\n",
              "            style=\"display:none;\">\n",
              "\n",
              "<svg xmlns=\"http://www.w3.org/2000/svg\" height=\"24px\"viewBox=\"0 0 24 24\"\n",
              "     width=\"24px\">\n",
              "    <g>\n",
              "        <path d=\"M19 3H5c-1.1 0-2 .9-2 2v14c0 1.1.9 2 2 2h14c1.1 0 2-.9 2-2V5c0-1.1-.9-2-2-2zM9 17H7v-7h2v7zm4 0h-2V7h2v10zm4 0h-2v-4h2v4z\"/>\n",
              "    </g>\n",
              "</svg>\n",
              "  </button>\n",
              "\n",
              "<style>\n",
              "  .colab-df-quickchart {\n",
              "      --bg-color: #E8F0FE;\n",
              "      --fill-color: #1967D2;\n",
              "      --hover-bg-color: #E2EBFA;\n",
              "      --hover-fill-color: #174EA6;\n",
              "      --disabled-fill-color: #AAA;\n",
              "      --disabled-bg-color: #DDD;\n",
              "  }\n",
              "\n",
              "  [theme=dark] .colab-df-quickchart {\n",
              "      --bg-color: #3B4455;\n",
              "      --fill-color: #D2E3FC;\n",
              "      --hover-bg-color: #434B5C;\n",
              "      --hover-fill-color: #FFFFFF;\n",
              "      --disabled-bg-color: #3B4455;\n",
              "      --disabled-fill-color: #666;\n",
              "  }\n",
              "\n",
              "  .colab-df-quickchart {\n",
              "    background-color: var(--bg-color);\n",
              "    border: none;\n",
              "    border-radius: 50%;\n",
              "    cursor: pointer;\n",
              "    display: none;\n",
              "    fill: var(--fill-color);\n",
              "    height: 32px;\n",
              "    padding: 0;\n",
              "    width: 32px;\n",
              "  }\n",
              "\n",
              "  .colab-df-quickchart:hover {\n",
              "    background-color: var(--hover-bg-color);\n",
              "    box-shadow: 0 1px 2px rgba(60, 64, 67, 0.3), 0 1px 3px 1px rgba(60, 64, 67, 0.15);\n",
              "    fill: var(--button-hover-fill-color);\n",
              "  }\n",
              "\n",
              "  .colab-df-quickchart-complete:disabled,\n",
              "  .colab-df-quickchart-complete:disabled:hover {\n",
              "    background-color: var(--disabled-bg-color);\n",
              "    fill: var(--disabled-fill-color);\n",
              "    box-shadow: none;\n",
              "  }\n",
              "\n",
              "  .colab-df-spinner {\n",
              "    border: 2px solid var(--fill-color);\n",
              "    border-color: transparent;\n",
              "    border-bottom-color: var(--fill-color);\n",
              "    animation:\n",
              "      spin 1s steps(1) infinite;\n",
              "  }\n",
              "\n",
              "  @keyframes spin {\n",
              "    0% {\n",
              "      border-color: transparent;\n",
              "      border-bottom-color: var(--fill-color);\n",
              "      border-left-color: var(--fill-color);\n",
              "    }\n",
              "    20% {\n",
              "      border-color: transparent;\n",
              "      border-left-color: var(--fill-color);\n",
              "      border-top-color: var(--fill-color);\n",
              "    }\n",
              "    30% {\n",
              "      border-color: transparent;\n",
              "      border-left-color: var(--fill-color);\n",
              "      border-top-color: var(--fill-color);\n",
              "      border-right-color: var(--fill-color);\n",
              "    }\n",
              "    40% {\n",
              "      border-color: transparent;\n",
              "      border-right-color: var(--fill-color);\n",
              "      border-top-color: var(--fill-color);\n",
              "    }\n",
              "    60% {\n",
              "      border-color: transparent;\n",
              "      border-right-color: var(--fill-color);\n",
              "    }\n",
              "    80% {\n",
              "      border-color: transparent;\n",
              "      border-right-color: var(--fill-color);\n",
              "      border-bottom-color: var(--fill-color);\n",
              "    }\n",
              "    90% {\n",
              "      border-color: transparent;\n",
              "      border-bottom-color: var(--fill-color);\n",
              "    }\n",
              "  }\n",
              "</style>\n",
              "\n",
              "  <script>\n",
              "    async function quickchart(key) {\n",
              "      const quickchartButtonEl =\n",
              "        document.querySelector('#' + key + ' button');\n",
              "      quickchartButtonEl.disabled = true;  // To prevent multiple clicks.\n",
              "      quickchartButtonEl.classList.add('colab-df-spinner');\n",
              "      try {\n",
              "        const charts = await google.colab.kernel.invokeFunction(\n",
              "            'suggestCharts', [key], {});\n",
              "      } catch (error) {\n",
              "        console.error('Error during call to suggestCharts:', error);\n",
              "      }\n",
              "      quickchartButtonEl.classList.remove('colab-df-spinner');\n",
              "      quickchartButtonEl.classList.add('colab-df-quickchart-complete');\n",
              "    }\n",
              "    (() => {\n",
              "      let quickchartButtonEl =\n",
              "        document.querySelector('#df-dceb5020-f031-4ce1-a6f8-24fa85317706 button');\n",
              "      quickchartButtonEl.style.display =\n",
              "        google.colab.kernel.accessAllowed ? 'block' : 'none';\n",
              "    })();\n",
              "  </script>\n",
              "</div>\n",
              "\n",
              "    </div>\n",
              "  </div>\n"
            ],
            "application/vnd.google.colaboratory.intrinsic+json": {
              "type": "dataframe",
              "summary": "{\n  \"name\": \"results[['RAG_Score']]\",\n  \"rows\": 8,\n  \"fields\": [\n    {\n      \"column\": \"RAG_Score\",\n      \"properties\": {\n        \"dtype\": \"number\",\n        \"std\": 33.4417293610532,\n        \"min\": 1.0,\n        \"max\": 100.0,\n        \"num_unique_values\": 8,\n        \"samples\": [\n          6.86,\n          7.5,\n          100.0\n        ],\n        \"semantic_type\": \"\",\n        \"description\": \"\"\n      }\n    }\n  ]\n}"
            }
          },
          "metadata": {},
          "execution_count": 13
        }
      ]
    },
    {
      "cell_type": "code",
      "source": [
        "average_rag_score = results['RAG_Score'].mean()\n",
        "\n",
        "print(\"Average RAG Score:\", average_rag_score)"
      ],
      "metadata": {
        "colab": {
          "base_uri": "https://localhost:8080/"
        },
        "id": "9OakFB4_oKZ-",
        "outputId": "8148e109-c0c0-44c3-fbe2-e6994fe38175"
      },
      "execution_count": null,
      "outputs": [
        {
          "output_type": "stream",
          "name": "stdout",
          "text": [
            "Average RAG Score: 6.86\n"
          ]
        }
      ]
    }
  ]
}