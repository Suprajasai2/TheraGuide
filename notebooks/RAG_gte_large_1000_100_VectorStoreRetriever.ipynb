{
  "nbformat": 4,
  "nbformat_minor": 0,
  "metadata": {
    "colab": {
      "provenance": []
    },
    "kernelspec": {
      "name": "python3",
      "display_name": "Python 3"
    },
    "language_info": {
      "name": "python"
    },
    "widgets": {
      "application/vnd.jupyter.widget-state+json": {
        "c43d7226dfc2414fa6fc02fbdc5df0f9": {
          "model_module": "@jupyter-widgets/controls",
          "model_name": "VBoxModel",
          "model_module_version": "1.5.0",
          "state": {
            "_dom_classes": [],
            "_model_module": "@jupyter-widgets/controls",
            "_model_module_version": "1.5.0",
            "_model_name": "VBoxModel",
            "_view_count": null,
            "_view_module": "@jupyter-widgets/controls",
            "_view_module_version": "1.5.0",
            "_view_name": "VBoxView",
            "box_style": "",
            "children": [],
            "layout": "IPY_MODEL_7e84695dc7fe4739b3cb97d59f43dd7a"
          }
        },
        "1630ee35e6d04768b86f2d0efb2cfb46": {
          "model_module": "@jupyter-widgets/controls",
          "model_name": "HTMLModel",
          "model_module_version": "1.5.0",
          "state": {
            "_dom_classes": [],
            "_model_module": "@jupyter-widgets/controls",
            "_model_module_version": "1.5.0",
            "_model_name": "HTMLModel",
            "_view_count": null,
            "_view_module": "@jupyter-widgets/controls",
            "_view_module_version": "1.5.0",
            "_view_name": "HTMLView",
            "description": "",
            "description_tooltip": null,
            "layout": "IPY_MODEL_318df0120c19494bb2b6eec9e97bd73b",
            "placeholder": "​",
            "style": "IPY_MODEL_0e37f7110eb9472eb6acd6caeb9e0ea6",
            "value": "<center> <img\nsrc=https://huggingface.co/front/assets/huggingface_logo-noborder.svg\nalt='Hugging Face'> <br> Copy a token from <a\nhref=\"https://huggingface.co/settings/tokens\" target=\"_blank\">your Hugging Face\ntokens page</a> and paste it below. <br> Immediately click login after copying\nyour token or it might be stored in plain text in this notebook file. </center>"
          }
        },
        "48767836f90d49258add64cff1c776d4": {
          "model_module": "@jupyter-widgets/controls",
          "model_name": "PasswordModel",
          "model_module_version": "1.5.0",
          "state": {
            "_dom_classes": [],
            "_model_module": "@jupyter-widgets/controls",
            "_model_module_version": "1.5.0",
            "_model_name": "PasswordModel",
            "_view_count": null,
            "_view_module": "@jupyter-widgets/controls",
            "_view_module_version": "1.5.0",
            "_view_name": "PasswordView",
            "continuous_update": true,
            "description": "Token:",
            "description_tooltip": null,
            "disabled": false,
            "layout": "IPY_MODEL_c21b2ed2cf3c48fbab114c5a9ebee776",
            "placeholder": "​",
            "style": "IPY_MODEL_e353b53b15674e1d9973c9fc9fd0bdcd",
            "value": ""
          }
        },
        "1eb17dac65ec4820afc7056e25446c0b": {
          "model_module": "@jupyter-widgets/controls",
          "model_name": "CheckboxModel",
          "model_module_version": "1.5.0",
          "state": {
            "_dom_classes": [],
            "_model_module": "@jupyter-widgets/controls",
            "_model_module_version": "1.5.0",
            "_model_name": "CheckboxModel",
            "_view_count": null,
            "_view_module": "@jupyter-widgets/controls",
            "_view_module_version": "1.5.0",
            "_view_name": "CheckboxView",
            "description": "Add token as git credential?",
            "description_tooltip": null,
            "disabled": false,
            "indent": true,
            "layout": "IPY_MODEL_6a3ab892c5b64b46a8637bbb6a3b35f7",
            "style": "IPY_MODEL_00e1b5344fa54079b023921250164df1",
            "value": true
          }
        },
        "8b9869eaf3714f38a4d4d883d96c4cbf": {
          "model_module": "@jupyter-widgets/controls",
          "model_name": "ButtonModel",
          "model_module_version": "1.5.0",
          "state": {
            "_dom_classes": [],
            "_model_module": "@jupyter-widgets/controls",
            "_model_module_version": "1.5.0",
            "_model_name": "ButtonModel",
            "_view_count": null,
            "_view_module": "@jupyter-widgets/controls",
            "_view_module_version": "1.5.0",
            "_view_name": "ButtonView",
            "button_style": "",
            "description": "Login",
            "disabled": false,
            "icon": "",
            "layout": "IPY_MODEL_d72e8e3fdf004b818b5aeda759070575",
            "style": "IPY_MODEL_22513eb56a214989b781b43597589dc4",
            "tooltip": ""
          }
        },
        "7c036c55351b4a1c9806b1ec5f6a75ab": {
          "model_module": "@jupyter-widgets/controls",
          "model_name": "HTMLModel",
          "model_module_version": "1.5.0",
          "state": {
            "_dom_classes": [],
            "_model_module": "@jupyter-widgets/controls",
            "_model_module_version": "1.5.0",
            "_model_name": "HTMLModel",
            "_view_count": null,
            "_view_module": "@jupyter-widgets/controls",
            "_view_module_version": "1.5.0",
            "_view_name": "HTMLView",
            "description": "",
            "description_tooltip": null,
            "layout": "IPY_MODEL_6eb7b4a14fb64866920b7070a0193c6d",
            "placeholder": "​",
            "style": "IPY_MODEL_d24e485854e2459d8ff1b42dc58d7667",
            "value": "\n<b>Pro Tip:</b> If you don't already have one, you can create a dedicated\n'notebooks' token with 'write' access, that you can then easily reuse for all\nnotebooks. </center>"
          }
        },
        "7e84695dc7fe4739b3cb97d59f43dd7a": {
          "model_module": "@jupyter-widgets/base",
          "model_name": "LayoutModel",
          "model_module_version": "1.2.0",
          "state": {
            "_model_module": "@jupyter-widgets/base",
            "_model_module_version": "1.2.0",
            "_model_name": "LayoutModel",
            "_view_count": null,
            "_view_module": "@jupyter-widgets/base",
            "_view_module_version": "1.2.0",
            "_view_name": "LayoutView",
            "align_content": null,
            "align_items": "center",
            "align_self": null,
            "border": null,
            "bottom": null,
            "display": "flex",
            "flex": null,
            "flex_flow": "column",
            "grid_area": null,
            "grid_auto_columns": null,
            "grid_auto_flow": null,
            "grid_auto_rows": null,
            "grid_column": null,
            "grid_gap": null,
            "grid_row": null,
            "grid_template_areas": null,
            "grid_template_columns": null,
            "grid_template_rows": null,
            "height": null,
            "justify_content": null,
            "justify_items": null,
            "left": null,
            "margin": null,
            "max_height": null,
            "max_width": null,
            "min_height": null,
            "min_width": null,
            "object_fit": null,
            "object_position": null,
            "order": null,
            "overflow": null,
            "overflow_x": null,
            "overflow_y": null,
            "padding": null,
            "right": null,
            "top": null,
            "visibility": null,
            "width": "50%"
          }
        },
        "318df0120c19494bb2b6eec9e97bd73b": {
          "model_module": "@jupyter-widgets/base",
          "model_name": "LayoutModel",
          "model_module_version": "1.2.0",
          "state": {
            "_model_module": "@jupyter-widgets/base",
            "_model_module_version": "1.2.0",
            "_model_name": "LayoutModel",
            "_view_count": null,
            "_view_module": "@jupyter-widgets/base",
            "_view_module_version": "1.2.0",
            "_view_name": "LayoutView",
            "align_content": null,
            "align_items": null,
            "align_self": null,
            "border": null,
            "bottom": null,
            "display": null,
            "flex": null,
            "flex_flow": null,
            "grid_area": null,
            "grid_auto_columns": null,
            "grid_auto_flow": null,
            "grid_auto_rows": null,
            "grid_column": null,
            "grid_gap": null,
            "grid_row": null,
            "grid_template_areas": null,
            "grid_template_columns": null,
            "grid_template_rows": null,
            "height": null,
            "justify_content": null,
            "justify_items": null,
            "left": null,
            "margin": null,
            "max_height": null,
            "max_width": null,
            "min_height": null,
            "min_width": null,
            "object_fit": null,
            "object_position": null,
            "order": null,
            "overflow": null,
            "overflow_x": null,
            "overflow_y": null,
            "padding": null,
            "right": null,
            "top": null,
            "visibility": null,
            "width": null
          }
        },
        "0e37f7110eb9472eb6acd6caeb9e0ea6": {
          "model_module": "@jupyter-widgets/controls",
          "model_name": "DescriptionStyleModel",
          "model_module_version": "1.5.0",
          "state": {
            "_model_module": "@jupyter-widgets/controls",
            "_model_module_version": "1.5.0",
            "_model_name": "DescriptionStyleModel",
            "_view_count": null,
            "_view_module": "@jupyter-widgets/base",
            "_view_module_version": "1.2.0",
            "_view_name": "StyleView",
            "description_width": ""
          }
        },
        "c21b2ed2cf3c48fbab114c5a9ebee776": {
          "model_module": "@jupyter-widgets/base",
          "model_name": "LayoutModel",
          "model_module_version": "1.2.0",
          "state": {
            "_model_module": "@jupyter-widgets/base",
            "_model_module_version": "1.2.0",
            "_model_name": "LayoutModel",
            "_view_count": null,
            "_view_module": "@jupyter-widgets/base",
            "_view_module_version": "1.2.0",
            "_view_name": "LayoutView",
            "align_content": null,
            "align_items": null,
            "align_self": null,
            "border": null,
            "bottom": null,
            "display": null,
            "flex": null,
            "flex_flow": null,
            "grid_area": null,
            "grid_auto_columns": null,
            "grid_auto_flow": null,
            "grid_auto_rows": null,
            "grid_column": null,
            "grid_gap": null,
            "grid_row": null,
            "grid_template_areas": null,
            "grid_template_columns": null,
            "grid_template_rows": null,
            "height": null,
            "justify_content": null,
            "justify_items": null,
            "left": null,
            "margin": null,
            "max_height": null,
            "max_width": null,
            "min_height": null,
            "min_width": null,
            "object_fit": null,
            "object_position": null,
            "order": null,
            "overflow": null,
            "overflow_x": null,
            "overflow_y": null,
            "padding": null,
            "right": null,
            "top": null,
            "visibility": null,
            "width": null
          }
        },
        "e353b53b15674e1d9973c9fc9fd0bdcd": {
          "model_module": "@jupyter-widgets/controls",
          "model_name": "DescriptionStyleModel",
          "model_module_version": "1.5.0",
          "state": {
            "_model_module": "@jupyter-widgets/controls",
            "_model_module_version": "1.5.0",
            "_model_name": "DescriptionStyleModel",
            "_view_count": null,
            "_view_module": "@jupyter-widgets/base",
            "_view_module_version": "1.2.0",
            "_view_name": "StyleView",
            "description_width": ""
          }
        },
        "6a3ab892c5b64b46a8637bbb6a3b35f7": {
          "model_module": "@jupyter-widgets/base",
          "model_name": "LayoutModel",
          "model_module_version": "1.2.0",
          "state": {
            "_model_module": "@jupyter-widgets/base",
            "_model_module_version": "1.2.0",
            "_model_name": "LayoutModel",
            "_view_count": null,
            "_view_module": "@jupyter-widgets/base",
            "_view_module_version": "1.2.0",
            "_view_name": "LayoutView",
            "align_content": null,
            "align_items": null,
            "align_self": null,
            "border": null,
            "bottom": null,
            "display": null,
            "flex": null,
            "flex_flow": null,
            "grid_area": null,
            "grid_auto_columns": null,
            "grid_auto_flow": null,
            "grid_auto_rows": null,
            "grid_column": null,
            "grid_gap": null,
            "grid_row": null,
            "grid_template_areas": null,
            "grid_template_columns": null,
            "grid_template_rows": null,
            "height": null,
            "justify_content": null,
            "justify_items": null,
            "left": null,
            "margin": null,
            "max_height": null,
            "max_width": null,
            "min_height": null,
            "min_width": null,
            "object_fit": null,
            "object_position": null,
            "order": null,
            "overflow": null,
            "overflow_x": null,
            "overflow_y": null,
            "padding": null,
            "right": null,
            "top": null,
            "visibility": null,
            "width": null
          }
        },
        "00e1b5344fa54079b023921250164df1": {
          "model_module": "@jupyter-widgets/controls",
          "model_name": "DescriptionStyleModel",
          "model_module_version": "1.5.0",
          "state": {
            "_model_module": "@jupyter-widgets/controls",
            "_model_module_version": "1.5.0",
            "_model_name": "DescriptionStyleModel",
            "_view_count": null,
            "_view_module": "@jupyter-widgets/base",
            "_view_module_version": "1.2.0",
            "_view_name": "StyleView",
            "description_width": ""
          }
        },
        "d72e8e3fdf004b818b5aeda759070575": {
          "model_module": "@jupyter-widgets/base",
          "model_name": "LayoutModel",
          "model_module_version": "1.2.0",
          "state": {
            "_model_module": "@jupyter-widgets/base",
            "_model_module_version": "1.2.0",
            "_model_name": "LayoutModel",
            "_view_count": null,
            "_view_module": "@jupyter-widgets/base",
            "_view_module_version": "1.2.0",
            "_view_name": "LayoutView",
            "align_content": null,
            "align_items": null,
            "align_self": null,
            "border": null,
            "bottom": null,
            "display": null,
            "flex": null,
            "flex_flow": null,
            "grid_area": null,
            "grid_auto_columns": null,
            "grid_auto_flow": null,
            "grid_auto_rows": null,
            "grid_column": null,
            "grid_gap": null,
            "grid_row": null,
            "grid_template_areas": null,
            "grid_template_columns": null,
            "grid_template_rows": null,
            "height": null,
            "justify_content": null,
            "justify_items": null,
            "left": null,
            "margin": null,
            "max_height": null,
            "max_width": null,
            "min_height": null,
            "min_width": null,
            "object_fit": null,
            "object_position": null,
            "order": null,
            "overflow": null,
            "overflow_x": null,
            "overflow_y": null,
            "padding": null,
            "right": null,
            "top": null,
            "visibility": null,
            "width": null
          }
        },
        "22513eb56a214989b781b43597589dc4": {
          "model_module": "@jupyter-widgets/controls",
          "model_name": "ButtonStyleModel",
          "model_module_version": "1.5.0",
          "state": {
            "_model_module": "@jupyter-widgets/controls",
            "_model_module_version": "1.5.0",
            "_model_name": "ButtonStyleModel",
            "_view_count": null,
            "_view_module": "@jupyter-widgets/base",
            "_view_module_version": "1.2.0",
            "_view_name": "StyleView",
            "button_color": null,
            "font_weight": ""
          }
        },
        "6eb7b4a14fb64866920b7070a0193c6d": {
          "model_module": "@jupyter-widgets/base",
          "model_name": "LayoutModel",
          "model_module_version": "1.2.0",
          "state": {
            "_model_module": "@jupyter-widgets/base",
            "_model_module_version": "1.2.0",
            "_model_name": "LayoutModel",
            "_view_count": null,
            "_view_module": "@jupyter-widgets/base",
            "_view_module_version": "1.2.0",
            "_view_name": "LayoutView",
            "align_content": null,
            "align_items": null,
            "align_self": null,
            "border": null,
            "bottom": null,
            "display": null,
            "flex": null,
            "flex_flow": null,
            "grid_area": null,
            "grid_auto_columns": null,
            "grid_auto_flow": null,
            "grid_auto_rows": null,
            "grid_column": null,
            "grid_gap": null,
            "grid_row": null,
            "grid_template_areas": null,
            "grid_template_columns": null,
            "grid_template_rows": null,
            "height": null,
            "justify_content": null,
            "justify_items": null,
            "left": null,
            "margin": null,
            "max_height": null,
            "max_width": null,
            "min_height": null,
            "min_width": null,
            "object_fit": null,
            "object_position": null,
            "order": null,
            "overflow": null,
            "overflow_x": null,
            "overflow_y": null,
            "padding": null,
            "right": null,
            "top": null,
            "visibility": null,
            "width": null
          }
        },
        "d24e485854e2459d8ff1b42dc58d7667": {
          "model_module": "@jupyter-widgets/controls",
          "model_name": "DescriptionStyleModel",
          "model_module_version": "1.5.0",
          "state": {
            "_model_module": "@jupyter-widgets/controls",
            "_model_module_version": "1.5.0",
            "_model_name": "DescriptionStyleModel",
            "_view_count": null,
            "_view_module": "@jupyter-widgets/base",
            "_view_module_version": "1.2.0",
            "_view_name": "StyleView",
            "description_width": ""
          }
        },
        "0d2179b168584c29b86dc19faaf7c3dc": {
          "model_module": "@jupyter-widgets/controls",
          "model_name": "LabelModel",
          "model_module_version": "1.5.0",
          "state": {
            "_dom_classes": [],
            "_model_module": "@jupyter-widgets/controls",
            "_model_module_version": "1.5.0",
            "_model_name": "LabelModel",
            "_view_count": null,
            "_view_module": "@jupyter-widgets/controls",
            "_view_module_version": "1.5.0",
            "_view_name": "LabelView",
            "description": "",
            "description_tooltip": null,
            "layout": "IPY_MODEL_029160900899463fa9127e88094dc416",
            "placeholder": "​",
            "style": "IPY_MODEL_af59b1e191bf4a158c5fe20302d1d2a5",
            "value": "Connecting..."
          }
        },
        "029160900899463fa9127e88094dc416": {
          "model_module": "@jupyter-widgets/base",
          "model_name": "LayoutModel",
          "model_module_version": "1.2.0",
          "state": {
            "_model_module": "@jupyter-widgets/base",
            "_model_module_version": "1.2.0",
            "_model_name": "LayoutModel",
            "_view_count": null,
            "_view_module": "@jupyter-widgets/base",
            "_view_module_version": "1.2.0",
            "_view_name": "LayoutView",
            "align_content": null,
            "align_items": null,
            "align_self": null,
            "border": null,
            "bottom": null,
            "display": null,
            "flex": null,
            "flex_flow": null,
            "grid_area": null,
            "grid_auto_columns": null,
            "grid_auto_flow": null,
            "grid_auto_rows": null,
            "grid_column": null,
            "grid_gap": null,
            "grid_row": null,
            "grid_template_areas": null,
            "grid_template_columns": null,
            "grid_template_rows": null,
            "height": null,
            "justify_content": null,
            "justify_items": null,
            "left": null,
            "margin": null,
            "max_height": null,
            "max_width": null,
            "min_height": null,
            "min_width": null,
            "object_fit": null,
            "object_position": null,
            "order": null,
            "overflow": null,
            "overflow_x": null,
            "overflow_y": null,
            "padding": null,
            "right": null,
            "top": null,
            "visibility": null,
            "width": null
          }
        },
        "af59b1e191bf4a158c5fe20302d1d2a5": {
          "model_module": "@jupyter-widgets/controls",
          "model_name": "DescriptionStyleModel",
          "model_module_version": "1.5.0",
          "state": {
            "_model_module": "@jupyter-widgets/controls",
            "_model_module_version": "1.5.0",
            "_model_name": "DescriptionStyleModel",
            "_view_count": null,
            "_view_module": "@jupyter-widgets/base",
            "_view_module_version": "1.2.0",
            "_view_name": "StyleView",
            "description_width": ""
          }
        },
        "bf4f53513c5149a78f8a30ca7a222b49": {
          "model_module": "@jupyter-widgets/controls",
          "model_name": "HBoxModel",
          "model_module_version": "1.5.0",
          "state": {
            "_dom_classes": [],
            "_model_module": "@jupyter-widgets/controls",
            "_model_module_version": "1.5.0",
            "_model_name": "HBoxModel",
            "_view_count": null,
            "_view_module": "@jupyter-widgets/controls",
            "_view_module_version": "1.5.0",
            "_view_name": "HBoxView",
            "box_style": "",
            "children": [
              "IPY_MODEL_4244cb498e4e4074a8c6cd1565d6c002",
              "IPY_MODEL_78d66815732744009fbe52e6a030af92",
              "IPY_MODEL_6eedb8d6ec6d484c9acea5a7231275a7"
            ],
            "layout": "IPY_MODEL_258b3205d88d494fba870d6a3fc46fb4"
          }
        },
        "4244cb498e4e4074a8c6cd1565d6c002": {
          "model_module": "@jupyter-widgets/controls",
          "model_name": "HTMLModel",
          "model_module_version": "1.5.0",
          "state": {
            "_dom_classes": [],
            "_model_module": "@jupyter-widgets/controls",
            "_model_module_version": "1.5.0",
            "_model_name": "HTMLModel",
            "_view_count": null,
            "_view_module": "@jupyter-widgets/controls",
            "_view_module_version": "1.5.0",
            "_view_name": "HTMLView",
            "description": "",
            "description_tooltip": null,
            "layout": "IPY_MODEL_93cc393c05624b72bff1ed55abb3091a",
            "placeholder": "​",
            "style": "IPY_MODEL_fb4c121f46b8401fb57655cbf7a239a1",
            "value": "Loading checkpoint shards: 100%"
          }
        },
        "78d66815732744009fbe52e6a030af92": {
          "model_module": "@jupyter-widgets/controls",
          "model_name": "FloatProgressModel",
          "model_module_version": "1.5.0",
          "state": {
            "_dom_classes": [],
            "_model_module": "@jupyter-widgets/controls",
            "_model_module_version": "1.5.0",
            "_model_name": "FloatProgressModel",
            "_view_count": null,
            "_view_module": "@jupyter-widgets/controls",
            "_view_module_version": "1.5.0",
            "_view_name": "ProgressView",
            "bar_style": "success",
            "description": "",
            "description_tooltip": null,
            "layout": "IPY_MODEL_25751c6cd4194132b231dd7d9f677258",
            "max": 4,
            "min": 0,
            "orientation": "horizontal",
            "style": "IPY_MODEL_2bb761c3301e4ffea7ac16b128c6da46",
            "value": 4
          }
        },
        "6eedb8d6ec6d484c9acea5a7231275a7": {
          "model_module": "@jupyter-widgets/controls",
          "model_name": "HTMLModel",
          "model_module_version": "1.5.0",
          "state": {
            "_dom_classes": [],
            "_model_module": "@jupyter-widgets/controls",
            "_model_module_version": "1.5.0",
            "_model_name": "HTMLModel",
            "_view_count": null,
            "_view_module": "@jupyter-widgets/controls",
            "_view_module_version": "1.5.0",
            "_view_name": "HTMLView",
            "description": "",
            "description_tooltip": null,
            "layout": "IPY_MODEL_71ce23c32d71499da267bde2c5fcf5bd",
            "placeholder": "​",
            "style": "IPY_MODEL_2b67990a4d934324b58b6c03e10583c0",
            "value": " 4/4 [01:39&lt;00:00, 21.45s/it]"
          }
        },
        "258b3205d88d494fba870d6a3fc46fb4": {
          "model_module": "@jupyter-widgets/base",
          "model_name": "LayoutModel",
          "model_module_version": "1.2.0",
          "state": {
            "_model_module": "@jupyter-widgets/base",
            "_model_module_version": "1.2.0",
            "_model_name": "LayoutModel",
            "_view_count": null,
            "_view_module": "@jupyter-widgets/base",
            "_view_module_version": "1.2.0",
            "_view_name": "LayoutView",
            "align_content": null,
            "align_items": null,
            "align_self": null,
            "border": null,
            "bottom": null,
            "display": null,
            "flex": null,
            "flex_flow": null,
            "grid_area": null,
            "grid_auto_columns": null,
            "grid_auto_flow": null,
            "grid_auto_rows": null,
            "grid_column": null,
            "grid_gap": null,
            "grid_row": null,
            "grid_template_areas": null,
            "grid_template_columns": null,
            "grid_template_rows": null,
            "height": null,
            "justify_content": null,
            "justify_items": null,
            "left": null,
            "margin": null,
            "max_height": null,
            "max_width": null,
            "min_height": null,
            "min_width": null,
            "object_fit": null,
            "object_position": null,
            "order": null,
            "overflow": null,
            "overflow_x": null,
            "overflow_y": null,
            "padding": null,
            "right": null,
            "top": null,
            "visibility": null,
            "width": null
          }
        },
        "93cc393c05624b72bff1ed55abb3091a": {
          "model_module": "@jupyter-widgets/base",
          "model_name": "LayoutModel",
          "model_module_version": "1.2.0",
          "state": {
            "_model_module": "@jupyter-widgets/base",
            "_model_module_version": "1.2.0",
            "_model_name": "LayoutModel",
            "_view_count": null,
            "_view_module": "@jupyter-widgets/base",
            "_view_module_version": "1.2.0",
            "_view_name": "LayoutView",
            "align_content": null,
            "align_items": null,
            "align_self": null,
            "border": null,
            "bottom": null,
            "display": null,
            "flex": null,
            "flex_flow": null,
            "grid_area": null,
            "grid_auto_columns": null,
            "grid_auto_flow": null,
            "grid_auto_rows": null,
            "grid_column": null,
            "grid_gap": null,
            "grid_row": null,
            "grid_template_areas": null,
            "grid_template_columns": null,
            "grid_template_rows": null,
            "height": null,
            "justify_content": null,
            "justify_items": null,
            "left": null,
            "margin": null,
            "max_height": null,
            "max_width": null,
            "min_height": null,
            "min_width": null,
            "object_fit": null,
            "object_position": null,
            "order": null,
            "overflow": null,
            "overflow_x": null,
            "overflow_y": null,
            "padding": null,
            "right": null,
            "top": null,
            "visibility": null,
            "width": null
          }
        },
        "fb4c121f46b8401fb57655cbf7a239a1": {
          "model_module": "@jupyter-widgets/controls",
          "model_name": "DescriptionStyleModel",
          "model_module_version": "1.5.0",
          "state": {
            "_model_module": "@jupyter-widgets/controls",
            "_model_module_version": "1.5.0",
            "_model_name": "DescriptionStyleModel",
            "_view_count": null,
            "_view_module": "@jupyter-widgets/base",
            "_view_module_version": "1.2.0",
            "_view_name": "StyleView",
            "description_width": ""
          }
        },
        "25751c6cd4194132b231dd7d9f677258": {
          "model_module": "@jupyter-widgets/base",
          "model_name": "LayoutModel",
          "model_module_version": "1.2.0",
          "state": {
            "_model_module": "@jupyter-widgets/base",
            "_model_module_version": "1.2.0",
            "_model_name": "LayoutModel",
            "_view_count": null,
            "_view_module": "@jupyter-widgets/base",
            "_view_module_version": "1.2.0",
            "_view_name": "LayoutView",
            "align_content": null,
            "align_items": null,
            "align_self": null,
            "border": null,
            "bottom": null,
            "display": null,
            "flex": null,
            "flex_flow": null,
            "grid_area": null,
            "grid_auto_columns": null,
            "grid_auto_flow": null,
            "grid_auto_rows": null,
            "grid_column": null,
            "grid_gap": null,
            "grid_row": null,
            "grid_template_areas": null,
            "grid_template_columns": null,
            "grid_template_rows": null,
            "height": null,
            "justify_content": null,
            "justify_items": null,
            "left": null,
            "margin": null,
            "max_height": null,
            "max_width": null,
            "min_height": null,
            "min_width": null,
            "object_fit": null,
            "object_position": null,
            "order": null,
            "overflow": null,
            "overflow_x": null,
            "overflow_y": null,
            "padding": null,
            "right": null,
            "top": null,
            "visibility": null,
            "width": null
          }
        },
        "2bb761c3301e4ffea7ac16b128c6da46": {
          "model_module": "@jupyter-widgets/controls",
          "model_name": "ProgressStyleModel",
          "model_module_version": "1.5.0",
          "state": {
            "_model_module": "@jupyter-widgets/controls",
            "_model_module_version": "1.5.0",
            "_model_name": "ProgressStyleModel",
            "_view_count": null,
            "_view_module": "@jupyter-widgets/base",
            "_view_module_version": "1.2.0",
            "_view_name": "StyleView",
            "bar_color": null,
            "description_width": ""
          }
        },
        "71ce23c32d71499da267bde2c5fcf5bd": {
          "model_module": "@jupyter-widgets/base",
          "model_name": "LayoutModel",
          "model_module_version": "1.2.0",
          "state": {
            "_model_module": "@jupyter-widgets/base",
            "_model_module_version": "1.2.0",
            "_model_name": "LayoutModel",
            "_view_count": null,
            "_view_module": "@jupyter-widgets/base",
            "_view_module_version": "1.2.0",
            "_view_name": "LayoutView",
            "align_content": null,
            "align_items": null,
            "align_self": null,
            "border": null,
            "bottom": null,
            "display": null,
            "flex": null,
            "flex_flow": null,
            "grid_area": null,
            "grid_auto_columns": null,
            "grid_auto_flow": null,
            "grid_auto_rows": null,
            "grid_column": null,
            "grid_gap": null,
            "grid_row": null,
            "grid_template_areas": null,
            "grid_template_columns": null,
            "grid_template_rows": null,
            "height": null,
            "justify_content": null,
            "justify_items": null,
            "left": null,
            "margin": null,
            "max_height": null,
            "max_width": null,
            "min_height": null,
            "min_width": null,
            "object_fit": null,
            "object_position": null,
            "order": null,
            "overflow": null,
            "overflow_x": null,
            "overflow_y": null,
            "padding": null,
            "right": null,
            "top": null,
            "visibility": null,
            "width": null
          }
        },
        "2b67990a4d934324b58b6c03e10583c0": {
          "model_module": "@jupyter-widgets/controls",
          "model_name": "DescriptionStyleModel",
          "model_module_version": "1.5.0",
          "state": {
            "_model_module": "@jupyter-widgets/controls",
            "_model_module_version": "1.5.0",
            "_model_name": "DescriptionStyleModel",
            "_view_count": null,
            "_view_module": "@jupyter-widgets/base",
            "_view_module_version": "1.2.0",
            "_view_name": "StyleView",
            "description_width": ""
          }
        }
      }
    }
  },
  "cells": [
    {
      "cell_type": "markdown",
      "source": [
        "RAG Configuration in this notebook:\n",
        "\n",
        "Embedding model: thenlper/gte-large\n",
        "\n",
        "Chunk size: 1000\n",
        "\n",
        "Chunk overlap: 100\n",
        "\n",
        "Generation Model: llama-3-8B-Instruct\n",
        "\n",
        "Retriever: VectorStore\n",
        "\n",
        "Embedding Size: 1024\n",
        "\n",
        "This notebook also includes RAG response generation and evaluation."
      ],
      "metadata": {
        "id": "esvmDWQSV9xU"
      }
    },
    {
      "cell_type": "code",
      "source": [
        "import pickle\n",
        "from pinecone import Pinecone, ServerlessSpec\n",
        "import getpass\n",
        "import os\n",
        "import time\n",
        "from transformers import AutoTokenizer, AutoModelForCausalLM\n",
        "from langchain.embeddings import HuggingFaceEmbeddings\n",
        "from langchain.vectorstores import Pinecone\n",
        "from langchain.chains import RetrievalQA\n",
        "from langchain.prompts import PromptTemplate\n",
        "import pinecone\n",
        "import torch\n",
        "from langchain.text_splitter import RecursiveCharacterTextSplitter\n",
        "from pinecone import Index\n",
        "from langchain_pinecone import PineconeVectorStore\n",
        "from transformers import BitsAndBytesConfig\n",
        "import bitsandbytes\n",
        "from langchain.llms import HuggingFacePipeline\n",
        "from transformers import pipeline\n",
        "from tqdm import tqdm\n",
        "from langchain.prompts import PromptTemplate\n",
        "import pandas as pd"
      ],
      "metadata": {
        "id": "S0DKsVFRWDvm"
      },
      "execution_count": null,
      "outputs": []
    },
    {
      "cell_type": "code",
      "source": [
        "if not os.getenv(\"PINECONE_API_KEY\"):\n",
        "    os.environ[\"PINECONE_API_KEY\"] = getpass.getpass(\"Enter your Pinecone API key: \")\n",
        "\n",
        "pinecone_api_key = os.environ.get(\"PINECONE_API_KEY\")\n",
        "\n",
        "pc = Pinecone(api_key=pinecone_api_key)"
      ],
      "metadata": {
        "colab": {
          "base_uri": "https://localhost:8080/"
        },
        "id": "wELTlyReMm-I",
        "outputId": "4ac9b260-62ed-4c6a-c3cf-08de16da6450"
      },
      "execution_count": null,
      "outputs": [
        {
          "name": "stdout",
          "output_type": "stream",
          "text": [
            "Enter your Pinecone API key: ··········\n"
          ]
        }
      ]
    },
    {
      "cell_type": "code",
      "source": [
        "#Embedding Model\n",
        "model_name = \"thenlper/gte-large\"\n",
        "model_kwargs = {\"device\": \"cuda\" if torch.cuda.is_available() else \"cpu\"}\n",
        "encode_kwargs = {\"normalize_embeddings\": False}\n",
        "hf_embeddings = HuggingFaceEmbeddings(\n",
        "    model_name=model_name, model_kwargs=model_kwargs, encode_kwargs=encode_kwargs\n",
        ")"
      ],
      "metadata": {
        "colab": {
          "base_uri": "https://localhost:8080/"
        },
        "outputId": "d063ef01-7aec-4286-819b-de0aa9b83608",
        "id": "VnLzuWe-7gdu"
      },
      "execution_count": null,
      "outputs": [
        {
          "output_type": "stream",
          "name": "stderr",
          "text": [
            "<ipython-input-5-a005ccdc2a09>:8: LangChainDeprecationWarning: The class `HuggingFaceEmbeddings` was deprecated in LangChain 0.2.2 and will be removed in 1.0. An updated version of the class exists in the :class:`~langchain-huggingface package and should be used instead. To use it run `pip install -U :class:`~langchain-huggingface` and import as `from :class:`~langchain_huggingface import HuggingFaceEmbeddings``.\n",
            "  hf_embeddings = HuggingFaceEmbeddings(\n",
            "/usr/local/lib/python3.10/dist-packages/huggingface_hub/utils/_auth.py:94: UserWarning: \n",
            "The secret `HF_TOKEN` does not exist in your Colab secrets.\n",
            "To authenticate with the Hugging Face Hub, create a token in your settings tab (https://huggingface.co/settings/tokens), set it as secret in your Google Colab and restart your session.\n",
            "You will be able to reuse this secret in all of your notebooks.\n",
            "Please note that authentication is recommended but still optional to access public models or datasets.\n",
            "  warnings.warn(\n"
          ]
        }
      ]
    },
    {
      "cell_type": "code",
      "source": [
        "# Create the index if it doesn't exist\n",
        "#pc.create_index(name=\"rag-llm-gte-large\",\n",
        "#                  dimension=1024,metric=\"cosine\",\n",
        "#                   spec=ServerlessSpec(\n",
        "#                    cloud=\"aws\",\n",
        "#                    region=\"us-east-1\"))\n",
        "\n",
        "pc_index = pc.Index(\"rag-llm-gte-large\")"
      ],
      "metadata": {
        "id": "MtCXp1z37gdv"
      },
      "execution_count": null,
      "outputs": []
    },
    {
      "cell_type": "code",
      "source": [
        "from huggingface_hub import notebook_login\n",
        "notebook_login()"
      ],
      "metadata": {
        "colab": {
          "base_uri": "https://localhost:8080/",
          "height": 17,
          "referenced_widgets": [
            "c43d7226dfc2414fa6fc02fbdc5df0f9",
            "1630ee35e6d04768b86f2d0efb2cfb46",
            "48767836f90d49258add64cff1c776d4",
            "1eb17dac65ec4820afc7056e25446c0b",
            "8b9869eaf3714f38a4d4d883d96c4cbf",
            "7c036c55351b4a1c9806b1ec5f6a75ab",
            "7e84695dc7fe4739b3cb97d59f43dd7a",
            "318df0120c19494bb2b6eec9e97bd73b",
            "0e37f7110eb9472eb6acd6caeb9e0ea6",
            "c21b2ed2cf3c48fbab114c5a9ebee776",
            "e353b53b15674e1d9973c9fc9fd0bdcd",
            "6a3ab892c5b64b46a8637bbb6a3b35f7",
            "00e1b5344fa54079b023921250164df1",
            "d72e8e3fdf004b818b5aeda759070575",
            "22513eb56a214989b781b43597589dc4",
            "6eb7b4a14fb64866920b7070a0193c6d",
            "d24e485854e2459d8ff1b42dc58d7667",
            "0d2179b168584c29b86dc19faaf7c3dc",
            "029160900899463fa9127e88094dc416",
            "af59b1e191bf4a158c5fe20302d1d2a5"
          ]
        },
        "outputId": "33d37779-7fa3-491e-fdf8-7e08a11288b6",
        "id": "7871gxvY7gdy"
      },
      "execution_count": null,
      "outputs": [
        {
          "output_type": "display_data",
          "data": {
            "text/plain": [
              "VBox(children=(HTML(value='<center> <img\\nsrc=https://huggingface.co/front/assets/huggingface_logo-noborder.sv…"
            ],
            "application/vnd.jupyter.widget-view+json": {
              "version_major": 2,
              "version_minor": 0,
              "model_id": "c43d7226dfc2414fa6fc02fbdc5df0f9"
            }
          },
          "metadata": {}
        }
      ]
    },
    {
      "cell_type": "code",
      "source": [
        "#VectorStore\n",
        "vectorstore = PineconeVectorStore(\n",
        "    index_name=\"rag-llm-gte-large\",\n",
        "    embedding=hf_embeddings,\n",
        ")"
      ],
      "metadata": {
        "id": "I1-D-LCiN0lS"
      },
      "execution_count": null,
      "outputs": []
    },
    {
      "cell_type": "code",
      "source": [
        "index_stats = pc_index.describe_index_stats()\n",
        "print(\"Index Stats:\", index_stats)"
      ],
      "metadata": {
        "colab": {
          "base_uri": "https://localhost:8080/"
        },
        "id": "jLVT7oRp67aa",
        "outputId": "f90048e8-e56e-482e-9f64-8259c27108c4"
      },
      "execution_count": null,
      "outputs": [
        {
          "output_type": "stream",
          "name": "stdout",
          "text": [
            "Index Stats: {'dimension': 1024,\n",
            " 'index_fullness': 0.0,\n",
            " 'namespaces': {'': {'vector_count': 2644}},\n",
            " 'total_vector_count': 2644}\n"
          ]
        }
      ]
    },
    {
      "cell_type": "code",
      "source": [
        "retriever = vectorstore.as_retriever(search_type=\"similarity\", search_kwargs={\"k\": 5})"
      ],
      "metadata": {
        "id": "SIsR-b9BU2Mf"
      },
      "execution_count": null,
      "outputs": []
    },
    {
      "cell_type": "code",
      "source": [
        "!pip install -U bitsandbytes"
      ],
      "metadata": {
        "colab": {
          "base_uri": "https://localhost:8080/"
        },
        "id": "jdDRlmjOY5gc",
        "outputId": "cf854723-3be2-4798-80f7-ca990e534bac"
      },
      "execution_count": null,
      "outputs": [
        {
          "output_type": "stream",
          "name": "stdout",
          "text": [
            "Requirement already satisfied: bitsandbytes in /usr/local/lib/python3.10/dist-packages (0.45.0)\n",
            "Requirement already satisfied: torch in /usr/local/lib/python3.10/dist-packages (from bitsandbytes) (2.5.1+cu121)\n",
            "Requirement already satisfied: numpy in /usr/local/lib/python3.10/dist-packages (from bitsandbytes) (1.26.4)\n",
            "Requirement already satisfied: typing_extensions>=4.8.0 in /usr/local/lib/python3.10/dist-packages (from bitsandbytes) (4.12.2)\n",
            "Requirement already satisfied: filelock in /usr/local/lib/python3.10/dist-packages (from torch->bitsandbytes) (3.16.1)\n",
            "Requirement already satisfied: networkx in /usr/local/lib/python3.10/dist-packages (from torch->bitsandbytes) (3.4.2)\n",
            "Requirement already satisfied: jinja2 in /usr/local/lib/python3.10/dist-packages (from torch->bitsandbytes) (3.1.4)\n",
            "Requirement already satisfied: fsspec in /usr/local/lib/python3.10/dist-packages (from torch->bitsandbytes) (2024.10.0)\n",
            "Requirement already satisfied: sympy==1.13.1 in /usr/local/lib/python3.10/dist-packages (from torch->bitsandbytes) (1.13.1)\n",
            "Requirement already satisfied: mpmath<1.4,>=1.1.0 in /usr/local/lib/python3.10/dist-packages (from sympy==1.13.1->torch->bitsandbytes) (1.3.0)\n",
            "Requirement already satisfied: MarkupSafe>=2.0 in /usr/local/lib/python3.10/dist-packages (from jinja2->torch->bitsandbytes) (3.0.2)\n"
          ]
        }
      ]
    },
    {
      "cell_type": "code",
      "source": [
        "from transformers import AutoTokenizer, AutoModelForCausalLM, BitsAndBytesConfig\n",
        "import bitsandbytes\n",
        "\n",
        "bnb_config = BitsAndBytesConfig(load_in_4bit=True, bnb_4bit_compute_dtype=torch.float16)\n",
        "\n",
        "llm_model = AutoModelForCausalLM.from_pretrained(\"meta-llama/Meta-Llama-3-8B-Instruct\", quantization_config=bnb_config)\n",
        "llm_tokenizer = AutoTokenizer.from_pretrained(\"meta-llama/Meta-Llama-3-8B-Instruct\")"
      ],
      "metadata": {
        "colab": {
          "base_uri": "https://localhost:8080/",
          "height": 66,
          "referenced_widgets": [
            "bf4f53513c5149a78f8a30ca7a222b49",
            "4244cb498e4e4074a8c6cd1565d6c002",
            "78d66815732744009fbe52e6a030af92",
            "6eedb8d6ec6d484c9acea5a7231275a7",
            "258b3205d88d494fba870d6a3fc46fb4",
            "93cc393c05624b72bff1ed55abb3091a",
            "fb4c121f46b8401fb57655cbf7a239a1",
            "25751c6cd4194132b231dd7d9f677258",
            "2bb761c3301e4ffea7ac16b128c6da46",
            "71ce23c32d71499da267bde2c5fcf5bd",
            "2b67990a4d934324b58b6c03e10583c0"
          ]
        },
        "id": "5PxX5ZUKYntK",
        "outputId": "43f0b596-ac37-45c6-bf5e-2f379918cffb"
      },
      "execution_count": null,
      "outputs": [
        {
          "output_type": "stream",
          "name": "stderr",
          "text": [
            "`low_cpu_mem_usage` was None, now default to True since model is quantized.\n"
          ]
        },
        {
          "output_type": "display_data",
          "data": {
            "text/plain": [
              "Loading checkpoint shards:   0%|          | 0/4 [00:00<?, ?it/s]"
            ],
            "application/vnd.jupyter.widget-view+json": {
              "version_major": 2,
              "version_minor": 0,
              "model_id": "bf4f53513c5149a78f8a30ca7a222b49"
            }
          },
          "metadata": {}
        }
      ]
    },
    {
      "cell_type": "code",
      "source": [
        "llm_tokenizer.pad_token_id = llm_tokenizer.eos_token_id"
      ],
      "metadata": {
        "id": "bPu2hgIX3aPs"
      },
      "execution_count": null,
      "outputs": []
    },
    {
      "cell_type": "code",
      "source": [
        "llm_pipeline = pipeline(\n",
        "    \"text-generation\",\n",
        "    model=llm_model,\n",
        "    tokenizer=llm_tokenizer,\n",
        "    temperature=0.2,\n",
        "    do_sample=True,\n",
        "    repetition_penalty=1.1,\n",
        "    return_full_text=False,\n",
        "    max_new_tokens=100,\n",
        "    top_p=0.9,\n",
        "    top_k=50,\n",
        "    eos_token_id=llm_tokenizer.eos_token_id\n",
        ")"
      ],
      "metadata": {
        "id": "FPib8ss6qymD"
      },
      "execution_count": null,
      "outputs": []
    },
    {
      "cell_type": "code",
      "source": [
        "from langchain.llms import HuggingFacePipeline\n",
        "\n",
        "llm_final_model = HuggingFacePipeline(pipeline=llm_pipeline)"
      ],
      "metadata": {
        "id": "CP2ScPOFtRcU",
        "colab": {
          "base_uri": "https://localhost:8080/"
        },
        "outputId": "28394aff-214e-4283-88ad-4b439d7c5c08"
      },
      "execution_count": null,
      "outputs": [
        {
          "output_type": "stream",
          "name": "stderr",
          "text": [
            "<ipython-input-18-3f741d8043ea>:3: LangChainDeprecationWarning: The class `HuggingFacePipeline` was deprecated in LangChain 0.0.37 and will be removed in 1.0. An updated version of the class exists in the :class:`~langchain-huggingface package and should be used instead. To use it run `pip install -U :class:`~langchain-huggingface` and import as `from :class:`~langchain_huggingface import HuggingFacePipeline``.\n",
            "  llm_final_model = HuggingFacePipeline(pipeline=llm_pipeline)\n"
          ]
        }
      ]
    },
    {
      "cell_type": "code",
      "source": [
        "from langchain.prompts import PromptTemplate\n",
        "from langchain.schema.runnable import RunnablePassthrough\n",
        "from langchain.schema.output_parser import StrOutputParser\n",
        "\n",
        "# Prompt template\n",
        "template = \"\"\"\n",
        "You are a compassionate and knowledgeable mental health assistant that answers questions related to mental health.\\n\n",
        "Use the following pieces of retrieved context to provide a helpful and empathetic response to the user's question.\\n\n",
        "Use only the context provided and not any prior knowledge.\\n\n",
        "If you are unsure of the answer, tell that you do not know the answer.\\n\n",
        "Stick to the question and just answer the question in a short manner.\\n\n",
        "Avoid any additional greetings or elaborations.\\n\n",
        "\n",
        "Context: \\n\n",
        "------------------------------------------------------------------------------\\n\n",
        "{context}\n",
        "------------------------------------------------------------------------------\\n\n",
        "Given the context and without any prior knowledge, answer the below question.\\n\n",
        "Question: {question}\n",
        "Answer:\n",
        "\"\"\"\n",
        "\n",
        "prompt = PromptTemplate(\n",
        "    template=template,\n",
        "    input_variables=[\"context\", \"question\"]\n",
        ")"
      ],
      "metadata": {
        "id": "2nIGByeU7ycL"
      },
      "execution_count": null,
      "outputs": []
    },
    {
      "cell_type": "code",
      "source": [
        "qa_chain = RetrievalQA.from_chain_type(\n",
        "    llm=llm_final_model,\n",
        "    retriever=retriever,\n",
        "    return_source_documents=True,\n",
        "    chain_type_kwargs={\"prompt\": prompt}\n",
        ")"
      ],
      "metadata": {
        "id": "QQqmg15OpP1d"
      },
      "execution_count": null,
      "outputs": []
    },
    {
      "cell_type": "code",
      "source": [
        "query = \"What is the Four-Fold Breath technique?\"\n",
        "\n",
        "result= qa_chain.invoke(query)"
      ],
      "metadata": {
        "id": "E7WpuDwA25cE"
      },
      "execution_count": null,
      "outputs": []
    },
    {
      "cell_type": "code",
      "source": [
        "answer = result['result']\n",
        "print(\"Answer:\", answer)"
      ],
      "metadata": {
        "id": "necXgaVD28mu",
        "colab": {
          "base_uri": "https://localhost:8080/"
        },
        "outputId": "af2a4fd2-4357-4013-d656-879dff4b8b03"
      },
      "execution_count": null,
      "outputs": [
        {
          "output_type": "stream",
          "name": "stdout",
          "text": [
            "Answer: The Four-Fold Breath technique involves breathing in slowly to the count of 4 and breathing out even slower to the count of 6. This exercise should be practiced for about 5 minutes, three times a day, focusing solely on the breath. With regular practice, this technique can help individuals manage anger and anxiety by training the mind to stay focused on the present moment.\n"
          ]
        }
      ]
    },
    {
      "cell_type": "markdown",
      "source": [
        "Response generation"
      ],
      "metadata": {
        "id": "NrQqtOjfVEeU"
      }
    },
    {
      "cell_type": "code",
      "source": [
        "df = pd.read_csv(\"U_eval_dataset_100q_with_context.csv\")"
      ],
      "metadata": {
        "id": "mI-tkn_f_pra"
      },
      "execution_count": null,
      "outputs": []
    },
    {
      "cell_type": "code",
      "source": [
        "df.head()"
      ],
      "metadata": {
        "id": "D_tSv4MBACAQ",
        "colab": {
          "base_uri": "https://localhost:8080/",
          "height": 293
        },
        "outputId": "6e3ecdef-2407-4898-c707-db3ce168b9bf"
      },
      "execution_count": null,
      "outputs": [
        {
          "output_type": "execute_result",
          "data": {
            "text/plain": [
              "                                            Question  \\\n",
              "0   What triggers Seasonal Affective Disorder (SAD)?   \n",
              "1      What are the health risks of bulimia nervosa?   \n",
              "2  How can someone with mental health problems ma...   \n",
              "3       What are the risk factors for schizophrenia?   \n",
              "4   How does schizophrenia impact daily functioning?   \n",
              "\n",
              "                                        Ground_Truth  \\\n",
              "0  SAD is triggered by seasonal changes, especial...   \n",
              "1  Risks include dental decay, dehydration, and s...   \n",
              "2  By finding trustworthy individuals who provide...   \n",
              "3  Risk factors include genetic predisposition an...   \n",
              "4  It affects work, socialization, and completing...   \n",
              "\n",
              "                                              Source        Category  \\\n",
              "0  https://www.samhsa.gov/mental-health/seasonal-...  Mental Illness   \n",
              "1  https://www.samhsa.gov/mental-health/eating-di...  Mental Illness   \n",
              "2  https://www.samhsa.gov/mental-health/how-to-ta...   Mental Health   \n",
              "3  https://www.samhsa.gov/mental-health/schizophr...  Mental Illness   \n",
              "4  https://www.samhsa.gov/mental-health/schizophr...  Mental Illness   \n",
              "\n",
              "                                            contexts  \n",
              "0  ['Seasonal affective disorder, or SAD, is a co...  \n",
              "1  ['It is common that binge eating will lead to ...  \n",
              "2  [\"Anyone can experience mental health problems...  \n",
              "3  ['Schizophrenia is a serious brain disorder th...  \n",
              "4  ['Schizophrenia is a serious brain disorder th...  "
            ],
            "text/html": [
              "\n",
              "  <div id=\"df-e7523923-ad01-4783-aa07-66f9ef6d4d81\" class=\"colab-df-container\">\n",
              "    <div>\n",
              "<style scoped>\n",
              "    .dataframe tbody tr th:only-of-type {\n",
              "        vertical-align: middle;\n",
              "    }\n",
              "\n",
              "    .dataframe tbody tr th {\n",
              "        vertical-align: top;\n",
              "    }\n",
              "\n",
              "    .dataframe thead th {\n",
              "        text-align: right;\n",
              "    }\n",
              "</style>\n",
              "<table border=\"1\" class=\"dataframe\">\n",
              "  <thead>\n",
              "    <tr style=\"text-align: right;\">\n",
              "      <th></th>\n",
              "      <th>Question</th>\n",
              "      <th>Ground_Truth</th>\n",
              "      <th>Source</th>\n",
              "      <th>Category</th>\n",
              "      <th>contexts</th>\n",
              "    </tr>\n",
              "  </thead>\n",
              "  <tbody>\n",
              "    <tr>\n",
              "      <th>0</th>\n",
              "      <td>What triggers Seasonal Affective Disorder (SAD)?</td>\n",
              "      <td>SAD is triggered by seasonal changes, especial...</td>\n",
              "      <td>https://www.samhsa.gov/mental-health/seasonal-...</td>\n",
              "      <td>Mental Illness</td>\n",
              "      <td>['Seasonal affective disorder, or SAD, is a co...</td>\n",
              "    </tr>\n",
              "    <tr>\n",
              "      <th>1</th>\n",
              "      <td>What are the health risks of bulimia nervosa?</td>\n",
              "      <td>Risks include dental decay, dehydration, and s...</td>\n",
              "      <td>https://www.samhsa.gov/mental-health/eating-di...</td>\n",
              "      <td>Mental Illness</td>\n",
              "      <td>['It is common that binge eating will lead to ...</td>\n",
              "    </tr>\n",
              "    <tr>\n",
              "      <th>2</th>\n",
              "      <td>How can someone with mental health problems ma...</td>\n",
              "      <td>By finding trustworthy individuals who provide...</td>\n",
              "      <td>https://www.samhsa.gov/mental-health/how-to-ta...</td>\n",
              "      <td>Mental Health</td>\n",
              "      <td>[\"Anyone can experience mental health problems...</td>\n",
              "    </tr>\n",
              "    <tr>\n",
              "      <th>3</th>\n",
              "      <td>What are the risk factors for schizophrenia?</td>\n",
              "      <td>Risk factors include genetic predisposition an...</td>\n",
              "      <td>https://www.samhsa.gov/mental-health/schizophr...</td>\n",
              "      <td>Mental Illness</td>\n",
              "      <td>['Schizophrenia is a serious brain disorder th...</td>\n",
              "    </tr>\n",
              "    <tr>\n",
              "      <th>4</th>\n",
              "      <td>How does schizophrenia impact daily functioning?</td>\n",
              "      <td>It affects work, socialization, and completing...</td>\n",
              "      <td>https://www.samhsa.gov/mental-health/schizophr...</td>\n",
              "      <td>Mental Illness</td>\n",
              "      <td>['Schizophrenia is a serious brain disorder th...</td>\n",
              "    </tr>\n",
              "  </tbody>\n",
              "</table>\n",
              "</div>\n",
              "    <div class=\"colab-df-buttons\">\n",
              "\n",
              "  <div class=\"colab-df-container\">\n",
              "    <button class=\"colab-df-convert\" onclick=\"convertToInteractive('df-e7523923-ad01-4783-aa07-66f9ef6d4d81')\"\n",
              "            title=\"Convert this dataframe to an interactive table.\"\n",
              "            style=\"display:none;\">\n",
              "\n",
              "  <svg xmlns=\"http://www.w3.org/2000/svg\" height=\"24px\" viewBox=\"0 -960 960 960\">\n",
              "    <path d=\"M120-120v-720h720v720H120Zm60-500h600v-160H180v160Zm220 220h160v-160H400v160Zm0 220h160v-160H400v160ZM180-400h160v-160H180v160Zm440 0h160v-160H620v160ZM180-180h160v-160H180v160Zm440 0h160v-160H620v160Z\"/>\n",
              "  </svg>\n",
              "    </button>\n",
              "\n",
              "  <style>\n",
              "    .colab-df-container {\n",
              "      display:flex;\n",
              "      gap: 12px;\n",
              "    }\n",
              "\n",
              "    .colab-df-convert {\n",
              "      background-color: #E8F0FE;\n",
              "      border: none;\n",
              "      border-radius: 50%;\n",
              "      cursor: pointer;\n",
              "      display: none;\n",
              "      fill: #1967D2;\n",
              "      height: 32px;\n",
              "      padding: 0 0 0 0;\n",
              "      width: 32px;\n",
              "    }\n",
              "\n",
              "    .colab-df-convert:hover {\n",
              "      background-color: #E2EBFA;\n",
              "      box-shadow: 0px 1px 2px rgba(60, 64, 67, 0.3), 0px 1px 3px 1px rgba(60, 64, 67, 0.15);\n",
              "      fill: #174EA6;\n",
              "    }\n",
              "\n",
              "    .colab-df-buttons div {\n",
              "      margin-bottom: 4px;\n",
              "    }\n",
              "\n",
              "    [theme=dark] .colab-df-convert {\n",
              "      background-color: #3B4455;\n",
              "      fill: #D2E3FC;\n",
              "    }\n",
              "\n",
              "    [theme=dark] .colab-df-convert:hover {\n",
              "      background-color: #434B5C;\n",
              "      box-shadow: 0px 1px 3px 1px rgba(0, 0, 0, 0.15);\n",
              "      filter: drop-shadow(0px 1px 2px rgba(0, 0, 0, 0.3));\n",
              "      fill: #FFFFFF;\n",
              "    }\n",
              "  </style>\n",
              "\n",
              "    <script>\n",
              "      const buttonEl =\n",
              "        document.querySelector('#df-e7523923-ad01-4783-aa07-66f9ef6d4d81 button.colab-df-convert');\n",
              "      buttonEl.style.display =\n",
              "        google.colab.kernel.accessAllowed ? 'block' : 'none';\n",
              "\n",
              "      async function convertToInteractive(key) {\n",
              "        const element = document.querySelector('#df-e7523923-ad01-4783-aa07-66f9ef6d4d81');\n",
              "        const dataTable =\n",
              "          await google.colab.kernel.invokeFunction('convertToInteractive',\n",
              "                                                    [key], {});\n",
              "        if (!dataTable) return;\n",
              "\n",
              "        const docLinkHtml = 'Like what you see? Visit the ' +\n",
              "          '<a target=\"_blank\" href=https://colab.research.google.com/notebooks/data_table.ipynb>data table notebook</a>'\n",
              "          + ' to learn more about interactive tables.';\n",
              "        element.innerHTML = '';\n",
              "        dataTable['output_type'] = 'display_data';\n",
              "        await google.colab.output.renderOutput(dataTable, element);\n",
              "        const docLink = document.createElement('div');\n",
              "        docLink.innerHTML = docLinkHtml;\n",
              "        element.appendChild(docLink);\n",
              "      }\n",
              "    </script>\n",
              "  </div>\n",
              "\n",
              "\n",
              "<div id=\"df-b828e621-8df1-4521-b4c6-31b8b7e18c7f\">\n",
              "  <button class=\"colab-df-quickchart\" onclick=\"quickchart('df-b828e621-8df1-4521-b4c6-31b8b7e18c7f')\"\n",
              "            title=\"Suggest charts\"\n",
              "            style=\"display:none;\">\n",
              "\n",
              "<svg xmlns=\"http://www.w3.org/2000/svg\" height=\"24px\"viewBox=\"0 0 24 24\"\n",
              "     width=\"24px\">\n",
              "    <g>\n",
              "        <path d=\"M19 3H5c-1.1 0-2 .9-2 2v14c0 1.1.9 2 2 2h14c1.1 0 2-.9 2-2V5c0-1.1-.9-2-2-2zM9 17H7v-7h2v7zm4 0h-2V7h2v10zm4 0h-2v-4h2v4z\"/>\n",
              "    </g>\n",
              "</svg>\n",
              "  </button>\n",
              "\n",
              "<style>\n",
              "  .colab-df-quickchart {\n",
              "      --bg-color: #E8F0FE;\n",
              "      --fill-color: #1967D2;\n",
              "      --hover-bg-color: #E2EBFA;\n",
              "      --hover-fill-color: #174EA6;\n",
              "      --disabled-fill-color: #AAA;\n",
              "      --disabled-bg-color: #DDD;\n",
              "  }\n",
              "\n",
              "  [theme=dark] .colab-df-quickchart {\n",
              "      --bg-color: #3B4455;\n",
              "      --fill-color: #D2E3FC;\n",
              "      --hover-bg-color: #434B5C;\n",
              "      --hover-fill-color: #FFFFFF;\n",
              "      --disabled-bg-color: #3B4455;\n",
              "      --disabled-fill-color: #666;\n",
              "  }\n",
              "\n",
              "  .colab-df-quickchart {\n",
              "    background-color: var(--bg-color);\n",
              "    border: none;\n",
              "    border-radius: 50%;\n",
              "    cursor: pointer;\n",
              "    display: none;\n",
              "    fill: var(--fill-color);\n",
              "    height: 32px;\n",
              "    padding: 0;\n",
              "    width: 32px;\n",
              "  }\n",
              "\n",
              "  .colab-df-quickchart:hover {\n",
              "    background-color: var(--hover-bg-color);\n",
              "    box-shadow: 0 1px 2px rgba(60, 64, 67, 0.3), 0 1px 3px 1px rgba(60, 64, 67, 0.15);\n",
              "    fill: var(--button-hover-fill-color);\n",
              "  }\n",
              "\n",
              "  .colab-df-quickchart-complete:disabled,\n",
              "  .colab-df-quickchart-complete:disabled:hover {\n",
              "    background-color: var(--disabled-bg-color);\n",
              "    fill: var(--disabled-fill-color);\n",
              "    box-shadow: none;\n",
              "  }\n",
              "\n",
              "  .colab-df-spinner {\n",
              "    border: 2px solid var(--fill-color);\n",
              "    border-color: transparent;\n",
              "    border-bottom-color: var(--fill-color);\n",
              "    animation:\n",
              "      spin 1s steps(1) infinite;\n",
              "  }\n",
              "\n",
              "  @keyframes spin {\n",
              "    0% {\n",
              "      border-color: transparent;\n",
              "      border-bottom-color: var(--fill-color);\n",
              "      border-left-color: var(--fill-color);\n",
              "    }\n",
              "    20% {\n",
              "      border-color: transparent;\n",
              "      border-left-color: var(--fill-color);\n",
              "      border-top-color: var(--fill-color);\n",
              "    }\n",
              "    30% {\n",
              "      border-color: transparent;\n",
              "      border-left-color: var(--fill-color);\n",
              "      border-top-color: var(--fill-color);\n",
              "      border-right-color: var(--fill-color);\n",
              "    }\n",
              "    40% {\n",
              "      border-color: transparent;\n",
              "      border-right-color: var(--fill-color);\n",
              "      border-top-color: var(--fill-color);\n",
              "    }\n",
              "    60% {\n",
              "      border-color: transparent;\n",
              "      border-right-color: var(--fill-color);\n",
              "    }\n",
              "    80% {\n",
              "      border-color: transparent;\n",
              "      border-right-color: var(--fill-color);\n",
              "      border-bottom-color: var(--fill-color);\n",
              "    }\n",
              "    90% {\n",
              "      border-color: transparent;\n",
              "      border-bottom-color: var(--fill-color);\n",
              "    }\n",
              "  }\n",
              "</style>\n",
              "\n",
              "  <script>\n",
              "    async function quickchart(key) {\n",
              "      const quickchartButtonEl =\n",
              "        document.querySelector('#' + key + ' button');\n",
              "      quickchartButtonEl.disabled = true;  // To prevent multiple clicks.\n",
              "      quickchartButtonEl.classList.add('colab-df-spinner');\n",
              "      try {\n",
              "        const charts = await google.colab.kernel.invokeFunction(\n",
              "            'suggestCharts', [key], {});\n",
              "      } catch (error) {\n",
              "        console.error('Error during call to suggestCharts:', error);\n",
              "      }\n",
              "      quickchartButtonEl.classList.remove('colab-df-spinner');\n",
              "      quickchartButtonEl.classList.add('colab-df-quickchart-complete');\n",
              "    }\n",
              "    (() => {\n",
              "      let quickchartButtonEl =\n",
              "        document.querySelector('#df-b828e621-8df1-4521-b4c6-31b8b7e18c7f button');\n",
              "      quickchartButtonEl.style.display =\n",
              "        google.colab.kernel.accessAllowed ? 'block' : 'none';\n",
              "    })();\n",
              "  </script>\n",
              "</div>\n",
              "\n",
              "    </div>\n",
              "  </div>\n"
            ],
            "application/vnd.google.colaboratory.intrinsic+json": {
              "type": "dataframe",
              "variable_name": "df",
              "summary": "{\n  \"name\": \"df\",\n  \"rows\": 100,\n  \"fields\": [\n    {\n      \"column\": \"Question\",\n      \"properties\": {\n        \"dtype\": \"string\",\n        \"num_unique_values\": 100,\n        \"samples\": [\n          \"How are phobias different from general anxiety?\",\n          \"How can someone help a person showing warning signs of suicide?\",\n          \"What causes self-harm behaviors?\"\n        ],\n        \"semantic_type\": \"\",\n        \"description\": \"\"\n      }\n    },\n    {\n      \"column\": \"Ground_Truth\",\n      \"properties\": {\n        \"dtype\": \"string\",\n        \"num_unique_values\": 100,\n        \"samples\": [\n          \"Phobias are irrational fears specific to certain objects or situations, unlike generalized anxiety which is ongoing and not situation-specific.\",\n          \"They can listen without judgment, ask directly about suicidal thoughts, stay with the person, and remove potential means of self-harm.\",\n          \"Causes include emotional distress and difficulty coping with negative feelings.\"\n        ],\n        \"semantic_type\": \"\",\n        \"description\": \"\"\n      }\n    },\n    {\n      \"column\": \"Source\",\n      \"properties\": {\n        \"dtype\": \"category\",\n        \"num_unique_values\": 13,\n        \"samples\": [\n          \"Counsel chat dataset\",\n          \"https://www.samhsa.gov/mental-health/suicide/prevention\",\n          \"https://www.samhsa.gov/mental-health/seasonal-affective-disorder\"\n        ],\n        \"semantic_type\": \"\",\n        \"description\": \"\"\n      }\n    },\n    {\n      \"column\": \"Category\",\n      \"properties\": {\n        \"dtype\": \"category\",\n        \"num_unique_values\": 5,\n        \"samples\": [\n          \"Mental Health\",\n          \"Depression\",\n          \"Anxiety\"\n        ],\n        \"semantic_type\": \"\",\n        \"description\": \"\"\n      }\n    },\n    {\n      \"column\": \"contexts\",\n      \"properties\": {\n        \"dtype\": \"string\",\n        \"num_unique_values\": 98,\n        \"samples\": [\n          \"[\\\"this is certainly an important issue to look into , it is always helpful to speak with the child ' s pediatrician since they are most familiar with the child ' s developmental history . also , children tend to regress behaviorally when facing events and interactions they feel to have no control over , this can be as simple as a loss of a pet , a recent move , death in the family , and / or as serious as sexual abuse , and other things . if you have not spoken to the school that can be a good starting point .\\\", \\\"As a parent or caregiver, you want the best for your children or other dependents. You may be concerned or have questions about certain behaviors they exhibit and how to ensure they get help.\\\\nWhat to Look For\\\\nIt is important to be aware of warning signs that your child may be struggling. You can play a critical role in knowing when your child may need help.\\\\nConsult with a school counselor, school nurse, mental health provider, or another health care professional if your child shows one or more of the following behaviors:\\\\nFeeling very sad or withdrawn or easily irritated for more than two weeks\\\\nSeriously trying to harm or kill themselves, or making plans to do so\\\\nExperiencing sudden overwhelming fear for no reason, sometimes with a racing heart or fast breathing\\\\nGetting in many fights or wanting to hurt others\\\\nShowing severe out-of-control behavior that can hurt oneself or others\\\\nNot eating, throwing up, or using laxatives to make themselves lose weight\\\\nHaving intense worries or fears that get in the way of daily activities\\\\nExperiencing extreme difficulty controlling behavior, putting themselves in physical danger or causing problems in school\\\\nUsing drugs or alcohol\\\\nHaving severe mood swings that cause problems in relationships\\\\nShowing drastic changes in behavior or personality\\\\nA drop in their school performance\\\\nBecause children often can't understand difficult situations on their own, you should pay particular attention if they experience:\\\\nLoss of a loved one\\\\nDivorce or separation of their parents\\\\nAny major transition\\u2014new home, new school, etc.\\\\nTraumatic life experiences, like living through a natural disaster\\\\nTeasing or bullying\\\\nDifficulties in school or with classmates\\\\nWhat to Do\\\\nIf you are concerned about your child's behaviors, it is important to get appropriate care. You should:\\\\nTalk to your child's doctor, school nurse, or another health care provider and seek further information about the behaviors or symptoms that worry you\\\", 'watching children go through challenges in their lives is difficult . on a very basic level , there exists a primal need to protect them from harm . the hard part for parents is letting them feel those challenges and working through them as they get older . at some point , there is a moment that occurs when the role as a parent shifts . children no longer need the basics ( food , shelter . water , safety ) as much as when they were toddlers , but rather , their needs shift to wanting more support , encouragement , advice , and room to make mistakes . this is where the ability to communicate with them , letting them direct the sails to gather the wind needed to move , is so important . keep the lines of communication open and be available to give feedback when they ask for it .', 'hello . it sounds like you are really concerned about your daughter because you have noticed a significant change in her behavior . it \\\\' s really a great first step that you are reaching out to get some ideas about what might be going on . you are clearly an observant and hands on mom who wants to be sure that her daughter is ok . this is a tough question to answer without more information . with that said , i have found that \\\" under stress people regress . \\\" in other words , many people , children and adults alike , often regress and behave differently - as if they were younger than their actual age - when under stress . therefore , my first question would be : has anything been happening recently that is causing your daughter stress ? this could be anything from conflict at home , recent changes such as moving , divorce , a loss of some kind , switching schools , or losing a friend or friends . additionally , sometimes if children are feeling bullied or left out by same age peers , they may gravitate toward younger playmates as a way to boost their social confidence . i would suggest that you think about what stressors / changes may have occurred recently . you may also want to check in with her teacher ( s ) to see if they have noticed any', \\\"your daughter is fortunate to have an observant parent , who is willing to seek out help in this regard . regression can be indicative of some stress in your child ' s life , so the issues she is facing should be examined . seeking advice from your daughter ' s pediatrician , as well as a practitioner familiar with adolescent issues or perhaps play therapy can equip you with insight into the causes of the behavior , and give you tools to assist your daughter in learning age appropriate social interactions .\\\"]\",\n          \"['there are many possible issues to consider as depression social anxieties , even medical illness . for some , even grief creates a sense of isolation , pains from relationship break up . also , obsessive thinking can be debilitating . seeking at least one trusted friend or family member can be a start towards increased personal support . some persons may simply feel connected by spending time with someone as this , even if not talking directly on issues , just being around another is positive . obviously there is more to explore on this question , given minimal information from two sentences .', \\\"Risk and Protective Factors\\\\nRisk and protective factors affect an individual's chances of positive or negative outcomes, such as suicide. These factors occur at multiple levels of influence\\u2014such as the individual, relationship, community, and greater societal levels. The Social-Ecological Model shows that effective suicide prevention interventions are needed to address these factors at all levels.\\\\nRisk factors for suicide\\\\nat the individual level include untreated mental illness and substance misuse, while protective factors for suicide at this level include problem-solving and coping skills, positive self-esteem, and a sense of purpose in life.\\\\nRelationship-level risks\\\\ninclude family conflict, knowing someone who died by suicide (particularly a family members), and social isolation; protective factors include family connectedness and supportive friendships.\\\\nCommunity-level risks\\\\ninvolve community violence, historical trauma, and access to lethal means; and protective factors include access to behavioral health services, community or cultural beliefs that discourage suicide, and connectedness to community and social institutions.\\\\nSocietal-level risks\\\\ninclude stigma, racism, and discrimination, while examples of protective factors include cultural identification and policies such as anti-discrimination laws.\\\\nLearn more about\\\\nRisk and Protective Factors\\\\nfor suicide, and read the\\\\n2024 National Strategy for Suicide Prevention\\\\n.Suicide Resources\\\\nGeneral Resources\\\\nSAMHSA Publications\\\\nOther Federal Resources\\\\nData and Research\\\\nNational Survey on Drug Use and Health | SAMHSA\\\\n2024 National Strategy for Suicide Prevention\\\\nGeneral Resources\\\\nSuicide Prevention Resource Center\\\\nSuicide Topics and Term Definitions | SPRC\\\\nPrevention and Education\\\\nSuicide Prevention |\\\\xa0NIMH\\\\nCDC\\u2019s Suicide Prevention Month: Partner Toolkit\\\\nSuicide Prevention | WHO\\\\nSuicide and Suicidal Behavior\\\\n#BeThe1To\\\\nThere Is Help and That We Are Not Alone | We R Native\\\", 'Suicide Prevention |\\\\xa0NIMH\\\\nCDC\\u2019s Suicide Prevention Month: Partner Toolkit\\\\nSuicide Prevention | WHO\\\\nSuicide and Suicidal Behavior\\\\n#BeThe1To\\\\nThere Is Help and That We Are Not Alone | We R Native\\\\nSuicide in America: Frequently Asked Questions | NIMH\\\\nPreventing Suicide: A Toolkit for High Schools\\\\nEarly Intervention\\\\nWhat to Do if You\\u2019re Concerned About Your Teen\\u2019s Mental Health: A Conversation Guide | The Jed Foundation (PDF | 617 KB)\\\\nYouth Mental Health First Aid\\\\n#chatsafe A Young Person\\u2019s Guide for Communicating Safely Online About Suicide (PDF | 6.7 MB)\\\\nI Want to Help My Friend | The Jed Foundation\\\\nSeize the Awkward\\\\nWhen Your Friend Is Talking About Suicide | We R Native\\\\nCrisis, Treatment, and Support Services\\\\n988 Suicide & Crisis Lifeline\\\\nTreatment for Suicidal Ideation, Self-harm, and Suicide Attempts Among Youth | SAMHSA\\\\nAdvisory: Addressing Suicidal Thoughts and Behaviors in Substance Use Treatment | SAMHSA\\\\nHelping Your Loved One Who is Suicidal: A Guide for Family and Friends | SAMHSA\\\\nRecovery and Postvention\\\\nAfter an Attempt: A Guide for Taking Care of Your Family Member After Treatment in the Emergency Department | SAMHSA\\\\nProvide for Immediate and Long-Term Postvention\\\\nRecovery and Recovery Support\\\\nSpecific Populations\\\\nHelp Yourself | 988 Suicide & Crisis Lifeline\\\\nThere Is Help and That We Are Not Alone | We R Native\\\\nSuicide Prevention in American Indian/Alaska Native Communities | SPRC\\\\nSuicide Prevention and Care | IHS\\\\nService Members, Veterans, and their Families Technical Assistance (SMVF TA) Center | SAMHSA\\\\nSuicide in Rural America | CDC\\\\nPopulations\\\\xa0\\u2013 Suicide Prevention Resource Center\\\\nRing the Alarm: The Crisis of Black Youth Suicide in America\\\\nHelping Your Loved One Who is Suicidal: A Guide for Family and Friends\\\\nAdvisory: Addressing Suicidal Thoughts and Behaviors in Substance Use Treatment\\\\nTreatment for Suicidal Ideation, Self-harm, and Suicide Attempts Among Youth', 'Advisory: Addressing Suicidal Thoughts and Behaviors in Substance Use Treatment\\\\nTreatment for Suicidal Ideation, Self-harm, and Suicide Attempts Among Youth\\\\nPrevention and Treatment of Anxiety, Depression, and Suicidal Thoughts and Behaviors Among College Students\\\\nAfter an Attempt: A Guide for Taking Care of Your Family Member After Treatment in the Emergency Department\\\\nAfter an Attempt: A Guide for Medical Providers in the Emergency Department\\\\nSuicide Prevention Publications\\\\nSuicide Safe Mobile App\\\\nNational Survey on Drug Use and Health\\\\nSuicide and Self-Harm FastStats | CDC\\\\nSuicide: Additional Resources | CDC\\\\nSuicide Rising Across America | CDC (PDF | 824 KB)\\\\nSuicide Prevention Month: Partner Toolkit | CDC\\\\nSuicide in America: Frequently Asked Questions | NIMH\\\\nGeneral Resources\\\\nData and Research\\\\nNational Survey on Drug Use and Health | SAMHSA\\\\n2024 National Strategy for Suicide Prevention\\\\nGeneral Resources\\\\nSuicide Prevention Resource Center\\\\nSuicide Topics and Term Definitions | SPRC\\\\nPrevention and Education\\\\nSuicide Prevention |\\\\xa0NIMH\\\\nCDC\\u2019s Suicide Prevention Month: Partner Toolkit\\\\nSuicide Prevention | WHO\\\\nSuicide and Suicidal Behavior\\\\n#BeThe1To\\\\nThere Is Help and That We Are Not Alone | We R Native\\\\nSuicide in America: Frequently Asked Questions | NIMH\\\\nPreventing Suicide: A Toolkit for High Schools\\\\nEarly Intervention\\\\nWhat to Do if You\\u2019re Concerned About Your Teen\\u2019s Mental Health: A Conversation Guide | The Jed Foundation (PDF | 617 KB)\\\\nYouth Mental Health First Aid\\\\n#chatsafe A Young Person\\u2019s Guide for Communicating Safely Online About Suicide (PDF | 6.7 MB)\\\\nI Want to Help My Friend | The Jed Foundation\\\\nSeize the Awkward\\\\nWhen Your Friend Is Talking About Suicide | We R Native\\\\nCrisis, Treatment, and Support Services\\\\n988 Suicide & Crisis Lifeline\\\\nTreatment for Suicidal Ideation, Self-harm, and Suicide Attempts Among Youth | SAMHSA\\\\nAdvisory: Addressing Suicidal Thoughts and Behaviors in Substance Use Treatment | SAMHSA', 'Mental health includes our emotional, psychological, and social well-being. It affects how we think, feel, and act, and helps determine how we handle stress, relate to others, and make choices.\\\\nMental health is important at every stage of life, from childhood and adolescence through adulthood. Over the course of your life, if you experience\\\\nmental health problems, your thinking, mood, and behavior could be affected.\\\\nMental Health Conditions\\\\nMental illnesses are disorders, ranging from mild to severe, that affect a person\\u2019s thinking, mood, and/or behavior. According to the National Institute of Mental Health, nearly one-in-five adults live with a mental illness.\\\\nMany factors contribute to mental health conditions, including:\\\\nBiological factors, such as genes or brain chemistry\\\\nLife experiences, such as trauma or abuse\\\\nFamily history of mental health problems\\\\n\\\\nSome mental health topics include:\\\\nAntisocial personality disorder\\\\nAnxiety disorders\\\\n(including generalized anxiety, panic disorders, obsessive-compulsive disorder (OCD), phobias, and social anxiety)\\\\nAttention-deficit hyperactivity disorder (ADHD)\\\\nBipolar disorder\\\\nBorderline personality disorder (BPD)\\\\nDepression\\\\nEating disorders\\\\n(including anorexia nervosa, binge eating disorder, and bulimia nervosa)\\\\nPost-traumatic stress disorder (PTSD)\\\\nSchizophrenia\\\\nSeasonal affective disorder (SAD)\\\\nSelf-harm\\\\nSuicide and suicidal behavior']\",\n          \"[\\\"As a parent or caregiver, you want the best for your children or other dependents. You may be concerned or have questions about certain behaviors they exhibit and how to ensure they get help.\\\\nWhat to Look For\\\\nIt is important to be aware of warning signs that your child may be struggling. You can play a critical role in knowing when your child may need help.\\\\nConsult with a school counselor, school nurse, mental health provider, or another health care professional if your child shows one or more of the following behaviors:\\\\nFeeling very sad or withdrawn or easily irritated for more than two weeks\\\\nSeriously trying to harm or kill themselves, or making plans to do so\\\\nExperiencing sudden overwhelming fear for no reason, sometimes with a racing heart or fast breathing\\\\nGetting in many fights or wanting to hurt others\\\\nShowing severe out-of-control behavior that can hurt oneself or others\\\\nNot eating, throwing up, or using laxatives to make themselves lose weight\\\\nHaving intense worries or fears that get in the way of daily activities\\\\nExperiencing extreme difficulty controlling behavior, putting themselves in physical danger or causing problems in school\\\\nUsing drugs or alcohol\\\\nHaving severe mood swings that cause problems in relationships\\\\nShowing drastic changes in behavior or personality\\\\nA drop in their school performance\\\\nBecause children often can't understand difficult situations on their own, you should pay particular attention if they experience:\\\\nLoss of a loved one\\\\nDivorce or separation of their parents\\\\nAny major transition\\u2014new home, new school, etc.\\\\nTraumatic life experiences, like living through a natural disaster\\\\nTeasing or bullying\\\\nDifficulties in school or with classmates\\\\nWhat to Do\\\\nIf you are concerned about your child's behaviors, it is important to get appropriate care. You should:\\\\nTalk to your child's doctor, school nurse, or another health care provider and seek further information about the behaviors or symptoms that worry you\\\", \\\"Educators are often the first to notice mental health problems in children and young adults. Here are some ways you can help your students and their families.\\\\nWhat Educators Should Know\\\\nYou should know:\\\\nThe\\\\nwarning signs\\\\nfor mental health problems.\\\\nHow to promote\\\\nmental health and substance use prevention\\\\nin schools and on campuses.\\\\nWhom to turn to, such as the principal, school nurse, school psychiatrist or psychologist, or school social worker, if you have questions or concerns about a student's behavior.\\\\nHow to access\\\\ncrisis support and other mental health services\\\\n.\\\\nWhat Educators Should Look for in Student Behavior\\\\nConsult with a school counselor, nurse, or administrator and the student's parents if you observe one or more of the following behaviors:\\\\nFeeling very sad or withdrawn for more than two weeks\\\\nSeriously trying to harm oneself, or making plans to do so\\\\nSudden overwhelming fear for no reason, sometimes with a racing heart or fast breathing\\\\nInvolvement in many fights or desire to badly hurt others\\\\nSevere out-of-control behavior that can hurt oneself or others\\\\nNot eating, throwing up, or using laxatives to make oneself lose weight\\\\nIntense worries or fears that get in the way of daily activities\\\\nExtreme difficulty concentrating or staying still that puts the student in physical danger or causes problems in the classroom\\\\nRepeated use of drugs or alcohol\\\\nSevere mood swings that cause problems in relationships\\\\nDrastic changes in the student's behavior or personality\\\\nWhat Educators Can Do in Classrooms and Schools\\\\nYou can support the mental health of all students in your classroom and school, not just individual students who may exhibit behavioral issues. Consider the following actions:\\\\nLearn more about mental health by taking a mental health awareness training\\\\nPromote social and emotional competency and build resilience\\\\nHelp ensure a positive, safe school environment\\\\nTeach and reinforce positive behaviors and decision-making\\\\nEncourage helping others\\\", \\\"Talk to your child's doctor, school nurse, or another health care provider and seek further information about the behaviors or symptoms that worry you\\\\nAsk your child's primary care physician if your child needs further evaluation by a specialist with experience in child behavioral problems\\\\nAsk if your child's specialist is experienced in treating the problems you are observing\\\\nTalk to your medical provider about any medication and treatment plans\\\\nHow to Talk About Mental Health with Your Child\\\\nDo you need help starting a conversation with your child about mental health?Do you need help starting a conversation with your child about mental health?\\\\nTry leading with these questions, and actively listen to your child's response:\\\\nCan you tell me more about what is happening? How are you feeling?\\\\nHave you had feelings like this in the past?\\\\nSometimes you need to talk to an adult about your feelings. I'm here to listen. How can I help you feel better?\\\\nDo you feel like you want to talk to someone else about your problem?\\\\nI'm worried about your safety. Can you tell me if you have thoughts about harming yourself or others?When talking about mental health problems with your child you should:\\\\nWhen talking about mental health problems with your child you should:\\\\nCommunicate in a straightforward manner\\\\nSpeak at a level that is appropriate to a child or adolescent's age and development level (preschool children need fewer details than teenagers)\\\\nDiscuss the topic when your child feels safe and comfortable\\\\nWatch for reactions during the discussion and slow down or back up if your child becomes confused or looks upset\\\\nListen openly and let your child tell you about their feelings and worriesLearn More About Supporting Your Children\\\\nLearn More About Supporting Your Children\\\\nThere are many resources for parents and caregivers who want to know more about children's mental health. Learn more about:\\\\nRecognizing mental health problems in children\\\", \\\"I've been worried about you. Can we talk about what you are experiencing? If not, who are you comfortable talking to?\\\\nWhat can I do to help you to talk about issues with your parents or someone else who is responsible and cares about you?\\\\nWhat else can I help you with?\\\\nI am someone who cares and wants to listen. What do you want me to know about how you are feeling?\\\\nWho or what has helped you deal with similar issues in the past?\\\\nSometimes talking to someone who has dealt with a similar experience helps. Do you know of others who have experienced these types of problems who you can talk with?\\\\nIt seems like you are going through a difficult time. How can I help you to find help?\\\\nHow can I help you find more information about mental health problems?\\\\nI'm concerned about your safety. Have you thought about harming yourself or others?\\\\nWhen talking about mental health problems:\\\\nKnow how to\\\\nconnect people to help\\\\nCommunicate in a straightforward manner\\\\nSpeak at a level appropriate to a person's age and development level (preschool children need fewer details as compared to teenagers)\\\\nDiscuss the topic when and where the person feels safe and comfortable\\\\nWatch for reactions during the discussion and slow down or back up if the person becomes confused or looks upset\\\\nSometimes it is helpful to make a comparison to a physical illness. For example, many people get sick with a cold or the flu, but only a few get really sick with something serious like pneumonia. People who have a cold are usually able to do their normal activities. However, if they get pneumonia, they will have to take medicine and may have to go to the hospital.\\\", 'watching children go through challenges in their lives is difficult . on a very basic level , there exists a primal need to protect them from harm . the hard part for parents is letting them feel those challenges and working through them as they get older . at some point , there is a moment that occurs when the role as a parent shifts . children no longer need the basics ( food , shelter . water , safety ) as much as when they were toddlers , but rather , their needs shift to wanting more support , encouragement , advice , and room to make mistakes . this is where the ability to communicate with them , letting them direct the sails to gather the wind needed to move , is so important . keep the lines of communication open and be available to give feedback when they ask for it .']\"\n        ],\n        \"semantic_type\": \"\",\n        \"description\": \"\"\n      }\n    }\n  ]\n}"
            }
          },
          "metadata": {},
          "execution_count": 25
        }
      ]
    },
    {
      "cell_type": "code",
      "source": [
        "results = []\n",
        "\n",
        "for idx, row in tqdm(df.iterrows(), total=len(df), desc=\"Generating Responses\"):\n",
        "    question = row['Question']\n",
        "    ground_truth = row['Ground_Truth']\n",
        "    source = row['Source']\n",
        "    category = row['Category']\n",
        "    context = row['contexts']\n",
        "\n",
        "    rag_result = qa_chain.invoke(question)\n",
        "    rag_response = rag_result['result']\n",
        "\n",
        "    results.append({\n",
        "        \"Question\": question,\n",
        "        \"Ground_Truth\": ground_truth,\n",
        "        \"Source\": source,\n",
        "        \"Category\": category,\n",
        "        \"Context\": context,\n",
        "        \"rag_response\": rag_response\n",
        "    })\n",
        "\n",
        "results_df = pd.DataFrame(results)"
      ],
      "metadata": {
        "id": "EAWFS9X2AE6U"
      },
      "execution_count": null,
      "outputs": []
    },
    {
      "cell_type": "code",
      "source": [
        "results_df"
      ],
      "metadata": {
        "id": "uZRFo3siYwgp",
        "colab": {
          "base_uri": "https://localhost:8080/",
          "height": 597
        },
        "outputId": "d8e07139-f56c-4737-fc79-3d885be8fe16"
      },
      "execution_count": null,
      "outputs": [
        {
          "output_type": "execute_result",
          "data": {
            "text/plain": [
              "                                             Question  \\\n",
              "0    What triggers Seasonal Affective Disorder (SAD)?   \n",
              "1       What are the health risks of bulimia nervosa?   \n",
              "2   How can someone with mental health problems ma...   \n",
              "3        What are the risk factors for schizophrenia?   \n",
              "4    How does schizophrenia impact daily functioning?   \n",
              "..                                                ...   \n",
              "95          How does untreated OCD impact daily life?   \n",
              "96  How can parents identify mental health concern...   \n",
              "97     Why do people develop social anxiety disorder?   \n",
              "98  What are signs a child may need mental health ...   \n",
              "99  What are some biological factors that contribu...   \n",
              "\n",
              "                                         Ground_Truth  \\\n",
              "0   SAD is triggered by seasonal changes, especial...   \n",
              "1   Risks include dental decay, dehydration, and s...   \n",
              "2   By finding trustworthy individuals who provide...   \n",
              "3   Risk factors include genetic predisposition an...   \n",
              "4   It affects work, socialization, and completing...   \n",
              "..                                                ...   \n",
              "95  It can lead to compulsions that dominate daily...   \n",
              "96  By observing signs like extreme sadness, withd...   \n",
              "97  It often develops due to genetics or negative ...   \n",
              "98  Signs include drastic mood swings, extreme fea...   \n",
              "99  Biological factors contributing to mental heal...   \n",
              "\n",
              "                                               Source        Category  \\\n",
              "0   https://www.samhsa.gov/mental-health/seasonal-...  Mental Illness   \n",
              "1   https://www.samhsa.gov/mental-health/eating-di...  Mental Illness   \n",
              "2   https://www.samhsa.gov/mental-health/how-to-ta...   Mental Health   \n",
              "3   https://www.samhsa.gov/mental-health/schizophr...  Mental Illness   \n",
              "4   https://www.samhsa.gov/mental-health/schizophr...  Mental Illness   \n",
              "..                                                ...             ...   \n",
              "95  https://www.samhsa.gov/mental-health/anxiety-d...         Anxiety   \n",
              "96  https://www.samhsa.gov/mental-health/how-to-ta...   Mental Health   \n",
              "97  https://www.samhsa.gov/mental-health/anxiety-d...         Anxiety   \n",
              "98  https://www.samhsa.gov/mental-health/how-to-ta...   Mental Health   \n",
              "99               https://www.samhsa.gov/mental-health   Mental Health   \n",
              "\n",
              "                                              Context  \\\n",
              "0   ['Seasonal affective disorder, or SAD, is a co...   \n",
              "1   ['It is common that binge eating will lead to ...   \n",
              "2   [\"Anyone can experience mental health problems...   \n",
              "3   ['Schizophrenia is a serious brain disorder th...   \n",
              "4   ['Schizophrenia is a serious brain disorder th...   \n",
              "..                                                ...   \n",
              "95  [\"counseling can be very effective for ocd . i...   \n",
              "96  [\"As a parent or caregiver, you want the best ...   \n",
              "97  ['Signs & Symptoms of Social Anxiety Disorder\\...   \n",
              "98  [\"As a parent or caregiver, you want the best ...   \n",
              "99  ['Mental health includes our emotional, psycho...   \n",
              "\n",
              "                                         rag_response  \n",
              "0   According to the context, Seasonal Affective D...  \n",
              "1   The health risks of bulimia nervosa include ch...  \n",
              "2   Find someone—such as a parent, family member, ...  \n",
              "3   According to the provided context, risk factor...  \n",
              "4   Schizophrenia can be extremely disruptive to a...  \n",
              "..                                                ...  \n",
              "95       Left untreated, OCD can take over your life.  \n",
              "96  As a parent, it's essential to recognize poten...  \n",
              "97  It's not fully known what are the specific cau...  \n",
              "98  According to the context, some signs a child m...  \n",
              "99  Biological factors, such as genes or brain che...  \n",
              "\n",
              "[100 rows x 6 columns]"
            ],
            "text/html": [
              "\n",
              "  <div id=\"df-04c67a4c-d7f6-4bc3-9e12-20aee212f84a\" class=\"colab-df-container\">\n",
              "    <div>\n",
              "<style scoped>\n",
              "    .dataframe tbody tr th:only-of-type {\n",
              "        vertical-align: middle;\n",
              "    }\n",
              "\n",
              "    .dataframe tbody tr th {\n",
              "        vertical-align: top;\n",
              "    }\n",
              "\n",
              "    .dataframe thead th {\n",
              "        text-align: right;\n",
              "    }\n",
              "</style>\n",
              "<table border=\"1\" class=\"dataframe\">\n",
              "  <thead>\n",
              "    <tr style=\"text-align: right;\">\n",
              "      <th></th>\n",
              "      <th>Question</th>\n",
              "      <th>Ground_Truth</th>\n",
              "      <th>Source</th>\n",
              "      <th>Category</th>\n",
              "      <th>Context</th>\n",
              "      <th>rag_response</th>\n",
              "    </tr>\n",
              "  </thead>\n",
              "  <tbody>\n",
              "    <tr>\n",
              "      <th>0</th>\n",
              "      <td>What triggers Seasonal Affective Disorder (SAD)?</td>\n",
              "      <td>SAD is triggered by seasonal changes, especial...</td>\n",
              "      <td>https://www.samhsa.gov/mental-health/seasonal-...</td>\n",
              "      <td>Mental Illness</td>\n",
              "      <td>['Seasonal affective disorder, or SAD, is a co...</td>\n",
              "      <td>According to the context, Seasonal Affective D...</td>\n",
              "    </tr>\n",
              "    <tr>\n",
              "      <th>1</th>\n",
              "      <td>What are the health risks of bulimia nervosa?</td>\n",
              "      <td>Risks include dental decay, dehydration, and s...</td>\n",
              "      <td>https://www.samhsa.gov/mental-health/eating-di...</td>\n",
              "      <td>Mental Illness</td>\n",
              "      <td>['It is common that binge eating will lead to ...</td>\n",
              "      <td>The health risks of bulimia nervosa include ch...</td>\n",
              "    </tr>\n",
              "    <tr>\n",
              "      <th>2</th>\n",
              "      <td>How can someone with mental health problems ma...</td>\n",
              "      <td>By finding trustworthy individuals who provide...</td>\n",
              "      <td>https://www.samhsa.gov/mental-health/how-to-ta...</td>\n",
              "      <td>Mental Health</td>\n",
              "      <td>[\"Anyone can experience mental health problems...</td>\n",
              "      <td>Find someone—such as a parent, family member, ...</td>\n",
              "    </tr>\n",
              "    <tr>\n",
              "      <th>3</th>\n",
              "      <td>What are the risk factors for schizophrenia?</td>\n",
              "      <td>Risk factors include genetic predisposition an...</td>\n",
              "      <td>https://www.samhsa.gov/mental-health/schizophr...</td>\n",
              "      <td>Mental Illness</td>\n",
              "      <td>['Schizophrenia is a serious brain disorder th...</td>\n",
              "      <td>According to the provided context, risk factor...</td>\n",
              "    </tr>\n",
              "    <tr>\n",
              "      <th>4</th>\n",
              "      <td>How does schizophrenia impact daily functioning?</td>\n",
              "      <td>It affects work, socialization, and completing...</td>\n",
              "      <td>https://www.samhsa.gov/mental-health/schizophr...</td>\n",
              "      <td>Mental Illness</td>\n",
              "      <td>['Schizophrenia is a serious brain disorder th...</td>\n",
              "      <td>Schizophrenia can be extremely disruptive to a...</td>\n",
              "    </tr>\n",
              "    <tr>\n",
              "      <th>...</th>\n",
              "      <td>...</td>\n",
              "      <td>...</td>\n",
              "      <td>...</td>\n",
              "      <td>...</td>\n",
              "      <td>...</td>\n",
              "      <td>...</td>\n",
              "    </tr>\n",
              "    <tr>\n",
              "      <th>95</th>\n",
              "      <td>How does untreated OCD impact daily life?</td>\n",
              "      <td>It can lead to compulsions that dominate daily...</td>\n",
              "      <td>https://www.samhsa.gov/mental-health/anxiety-d...</td>\n",
              "      <td>Anxiety</td>\n",
              "      <td>[\"counseling can be very effective for ocd . i...</td>\n",
              "      <td>Left untreated, OCD can take over your life.</td>\n",
              "    </tr>\n",
              "    <tr>\n",
              "      <th>96</th>\n",
              "      <td>How can parents identify mental health concern...</td>\n",
              "      <td>By observing signs like extreme sadness, withd...</td>\n",
              "      <td>https://www.samhsa.gov/mental-health/how-to-ta...</td>\n",
              "      <td>Mental Health</td>\n",
              "      <td>[\"As a parent or caregiver, you want the best ...</td>\n",
              "      <td>As a parent, it's essential to recognize poten...</td>\n",
              "    </tr>\n",
              "    <tr>\n",
              "      <th>97</th>\n",
              "      <td>Why do people develop social anxiety disorder?</td>\n",
              "      <td>It often develops due to genetics or negative ...</td>\n",
              "      <td>https://www.samhsa.gov/mental-health/anxiety-d...</td>\n",
              "      <td>Anxiety</td>\n",
              "      <td>['Signs &amp; Symptoms of Social Anxiety Disorder\\...</td>\n",
              "      <td>It's not fully known what are the specific cau...</td>\n",
              "    </tr>\n",
              "    <tr>\n",
              "      <th>98</th>\n",
              "      <td>What are signs a child may need mental health ...</td>\n",
              "      <td>Signs include drastic mood swings, extreme fea...</td>\n",
              "      <td>https://www.samhsa.gov/mental-health/how-to-ta...</td>\n",
              "      <td>Mental Health</td>\n",
              "      <td>[\"As a parent or caregiver, you want the best ...</td>\n",
              "      <td>According to the context, some signs a child m...</td>\n",
              "    </tr>\n",
              "    <tr>\n",
              "      <th>99</th>\n",
              "      <td>What are some biological factors that contribu...</td>\n",
              "      <td>Biological factors contributing to mental heal...</td>\n",
              "      <td>https://www.samhsa.gov/mental-health</td>\n",
              "      <td>Mental Health</td>\n",
              "      <td>['Mental health includes our emotional, psycho...</td>\n",
              "      <td>Biological factors, such as genes or brain che...</td>\n",
              "    </tr>\n",
              "  </tbody>\n",
              "</table>\n",
              "<p>100 rows × 6 columns</p>\n",
              "</div>\n",
              "    <div class=\"colab-df-buttons\">\n",
              "\n",
              "  <div class=\"colab-df-container\">\n",
              "    <button class=\"colab-df-convert\" onclick=\"convertToInteractive('df-04c67a4c-d7f6-4bc3-9e12-20aee212f84a')\"\n",
              "            title=\"Convert this dataframe to an interactive table.\"\n",
              "            style=\"display:none;\">\n",
              "\n",
              "  <svg xmlns=\"http://www.w3.org/2000/svg\" height=\"24px\" viewBox=\"0 -960 960 960\">\n",
              "    <path d=\"M120-120v-720h720v720H120Zm60-500h600v-160H180v160Zm220 220h160v-160H400v160Zm0 220h160v-160H400v160ZM180-400h160v-160H180v160Zm440 0h160v-160H620v160ZM180-180h160v-160H180v160Zm440 0h160v-160H620v160Z\"/>\n",
              "  </svg>\n",
              "    </button>\n",
              "\n",
              "  <style>\n",
              "    .colab-df-container {\n",
              "      display:flex;\n",
              "      gap: 12px;\n",
              "    }\n",
              "\n",
              "    .colab-df-convert {\n",
              "      background-color: #E8F0FE;\n",
              "      border: none;\n",
              "      border-radius: 50%;\n",
              "      cursor: pointer;\n",
              "      display: none;\n",
              "      fill: #1967D2;\n",
              "      height: 32px;\n",
              "      padding: 0 0 0 0;\n",
              "      width: 32px;\n",
              "    }\n",
              "\n",
              "    .colab-df-convert:hover {\n",
              "      background-color: #E2EBFA;\n",
              "      box-shadow: 0px 1px 2px rgba(60, 64, 67, 0.3), 0px 1px 3px 1px rgba(60, 64, 67, 0.15);\n",
              "      fill: #174EA6;\n",
              "    }\n",
              "\n",
              "    .colab-df-buttons div {\n",
              "      margin-bottom: 4px;\n",
              "    }\n",
              "\n",
              "    [theme=dark] .colab-df-convert {\n",
              "      background-color: #3B4455;\n",
              "      fill: #D2E3FC;\n",
              "    }\n",
              "\n",
              "    [theme=dark] .colab-df-convert:hover {\n",
              "      background-color: #434B5C;\n",
              "      box-shadow: 0px 1px 3px 1px rgba(0, 0, 0, 0.15);\n",
              "      filter: drop-shadow(0px 1px 2px rgba(0, 0, 0, 0.3));\n",
              "      fill: #FFFFFF;\n",
              "    }\n",
              "  </style>\n",
              "\n",
              "    <script>\n",
              "      const buttonEl =\n",
              "        document.querySelector('#df-04c67a4c-d7f6-4bc3-9e12-20aee212f84a button.colab-df-convert');\n",
              "      buttonEl.style.display =\n",
              "        google.colab.kernel.accessAllowed ? 'block' : 'none';\n",
              "\n",
              "      async function convertToInteractive(key) {\n",
              "        const element = document.querySelector('#df-04c67a4c-d7f6-4bc3-9e12-20aee212f84a');\n",
              "        const dataTable =\n",
              "          await google.colab.kernel.invokeFunction('convertToInteractive',\n",
              "                                                    [key], {});\n",
              "        if (!dataTable) return;\n",
              "\n",
              "        const docLinkHtml = 'Like what you see? Visit the ' +\n",
              "          '<a target=\"_blank\" href=https://colab.research.google.com/notebooks/data_table.ipynb>data table notebook</a>'\n",
              "          + ' to learn more about interactive tables.';\n",
              "        element.innerHTML = '';\n",
              "        dataTable['output_type'] = 'display_data';\n",
              "        await google.colab.output.renderOutput(dataTable, element);\n",
              "        const docLink = document.createElement('div');\n",
              "        docLink.innerHTML = docLinkHtml;\n",
              "        element.appendChild(docLink);\n",
              "      }\n",
              "    </script>\n",
              "  </div>\n",
              "\n",
              "\n",
              "<div id=\"df-f1dfa97a-b082-4554-ad46-db40d3284165\">\n",
              "  <button class=\"colab-df-quickchart\" onclick=\"quickchart('df-f1dfa97a-b082-4554-ad46-db40d3284165')\"\n",
              "            title=\"Suggest charts\"\n",
              "            style=\"display:none;\">\n",
              "\n",
              "<svg xmlns=\"http://www.w3.org/2000/svg\" height=\"24px\"viewBox=\"0 0 24 24\"\n",
              "     width=\"24px\">\n",
              "    <g>\n",
              "        <path d=\"M19 3H5c-1.1 0-2 .9-2 2v14c0 1.1.9 2 2 2h14c1.1 0 2-.9 2-2V5c0-1.1-.9-2-2-2zM9 17H7v-7h2v7zm4 0h-2V7h2v10zm4 0h-2v-4h2v4z\"/>\n",
              "    </g>\n",
              "</svg>\n",
              "  </button>\n",
              "\n",
              "<style>\n",
              "  .colab-df-quickchart {\n",
              "      --bg-color: #E8F0FE;\n",
              "      --fill-color: #1967D2;\n",
              "      --hover-bg-color: #E2EBFA;\n",
              "      --hover-fill-color: #174EA6;\n",
              "      --disabled-fill-color: #AAA;\n",
              "      --disabled-bg-color: #DDD;\n",
              "  }\n",
              "\n",
              "  [theme=dark] .colab-df-quickchart {\n",
              "      --bg-color: #3B4455;\n",
              "      --fill-color: #D2E3FC;\n",
              "      --hover-bg-color: #434B5C;\n",
              "      --hover-fill-color: #FFFFFF;\n",
              "      --disabled-bg-color: #3B4455;\n",
              "      --disabled-fill-color: #666;\n",
              "  }\n",
              "\n",
              "  .colab-df-quickchart {\n",
              "    background-color: var(--bg-color);\n",
              "    border: none;\n",
              "    border-radius: 50%;\n",
              "    cursor: pointer;\n",
              "    display: none;\n",
              "    fill: var(--fill-color);\n",
              "    height: 32px;\n",
              "    padding: 0;\n",
              "    width: 32px;\n",
              "  }\n",
              "\n",
              "  .colab-df-quickchart:hover {\n",
              "    background-color: var(--hover-bg-color);\n",
              "    box-shadow: 0 1px 2px rgba(60, 64, 67, 0.3), 0 1px 3px 1px rgba(60, 64, 67, 0.15);\n",
              "    fill: var(--button-hover-fill-color);\n",
              "  }\n",
              "\n",
              "  .colab-df-quickchart-complete:disabled,\n",
              "  .colab-df-quickchart-complete:disabled:hover {\n",
              "    background-color: var(--disabled-bg-color);\n",
              "    fill: var(--disabled-fill-color);\n",
              "    box-shadow: none;\n",
              "  }\n",
              "\n",
              "  .colab-df-spinner {\n",
              "    border: 2px solid var(--fill-color);\n",
              "    border-color: transparent;\n",
              "    border-bottom-color: var(--fill-color);\n",
              "    animation:\n",
              "      spin 1s steps(1) infinite;\n",
              "  }\n",
              "\n",
              "  @keyframes spin {\n",
              "    0% {\n",
              "      border-color: transparent;\n",
              "      border-bottom-color: var(--fill-color);\n",
              "      border-left-color: var(--fill-color);\n",
              "    }\n",
              "    20% {\n",
              "      border-color: transparent;\n",
              "      border-left-color: var(--fill-color);\n",
              "      border-top-color: var(--fill-color);\n",
              "    }\n",
              "    30% {\n",
              "      border-color: transparent;\n",
              "      border-left-color: var(--fill-color);\n",
              "      border-top-color: var(--fill-color);\n",
              "      border-right-color: var(--fill-color);\n",
              "    }\n",
              "    40% {\n",
              "      border-color: transparent;\n",
              "      border-right-color: var(--fill-color);\n",
              "      border-top-color: var(--fill-color);\n",
              "    }\n",
              "    60% {\n",
              "      border-color: transparent;\n",
              "      border-right-color: var(--fill-color);\n",
              "    }\n",
              "    80% {\n",
              "      border-color: transparent;\n",
              "      border-right-color: var(--fill-color);\n",
              "      border-bottom-color: var(--fill-color);\n",
              "    }\n",
              "    90% {\n",
              "      border-color: transparent;\n",
              "      border-bottom-color: var(--fill-color);\n",
              "    }\n",
              "  }\n",
              "</style>\n",
              "\n",
              "  <script>\n",
              "    async function quickchart(key) {\n",
              "      const quickchartButtonEl =\n",
              "        document.querySelector('#' + key + ' button');\n",
              "      quickchartButtonEl.disabled = true;  // To prevent multiple clicks.\n",
              "      quickchartButtonEl.classList.add('colab-df-spinner');\n",
              "      try {\n",
              "        const charts = await google.colab.kernel.invokeFunction(\n",
              "            'suggestCharts', [key], {});\n",
              "      } catch (error) {\n",
              "        console.error('Error during call to suggestCharts:', error);\n",
              "      }\n",
              "      quickchartButtonEl.classList.remove('colab-df-spinner');\n",
              "      quickchartButtonEl.classList.add('colab-df-quickchart-complete');\n",
              "    }\n",
              "    (() => {\n",
              "      let quickchartButtonEl =\n",
              "        document.querySelector('#df-f1dfa97a-b082-4554-ad46-db40d3284165 button');\n",
              "      quickchartButtonEl.style.display =\n",
              "        google.colab.kernel.accessAllowed ? 'block' : 'none';\n",
              "    })();\n",
              "  </script>\n",
              "</div>\n",
              "\n",
              "  <div id=\"id_5a9bbfe3-8e14-4a04-8a0c-90098323a764\">\n",
              "    <style>\n",
              "      .colab-df-generate {\n",
              "        background-color: #E8F0FE;\n",
              "        border: none;\n",
              "        border-radius: 50%;\n",
              "        cursor: pointer;\n",
              "        display: none;\n",
              "        fill: #1967D2;\n",
              "        height: 32px;\n",
              "        padding: 0 0 0 0;\n",
              "        width: 32px;\n",
              "      }\n",
              "\n",
              "      .colab-df-generate:hover {\n",
              "        background-color: #E2EBFA;\n",
              "        box-shadow: 0px 1px 2px rgba(60, 64, 67, 0.3), 0px 1px 3px 1px rgba(60, 64, 67, 0.15);\n",
              "        fill: #174EA6;\n",
              "      }\n",
              "\n",
              "      [theme=dark] .colab-df-generate {\n",
              "        background-color: #3B4455;\n",
              "        fill: #D2E3FC;\n",
              "      }\n",
              "\n",
              "      [theme=dark] .colab-df-generate:hover {\n",
              "        background-color: #434B5C;\n",
              "        box-shadow: 0px 1px 3px 1px rgba(0, 0, 0, 0.15);\n",
              "        filter: drop-shadow(0px 1px 2px rgba(0, 0, 0, 0.3));\n",
              "        fill: #FFFFFF;\n",
              "      }\n",
              "    </style>\n",
              "    <button class=\"colab-df-generate\" onclick=\"generateWithVariable('results_df')\"\n",
              "            title=\"Generate code using this dataframe.\"\n",
              "            style=\"display:none;\">\n",
              "\n",
              "  <svg xmlns=\"http://www.w3.org/2000/svg\" height=\"24px\"viewBox=\"0 0 24 24\"\n",
              "       width=\"24px\">\n",
              "    <path d=\"M7,19H8.4L18.45,9,17,7.55,7,17.6ZM5,21V16.75L18.45,3.32a2,2,0,0,1,2.83,0l1.4,1.43a1.91,1.91,0,0,1,.58,1.4,1.91,1.91,0,0,1-.58,1.4L9.25,21ZM18.45,9,17,7.55Zm-12,3A5.31,5.31,0,0,0,4.9,8.1,5.31,5.31,0,0,0,1,6.5,5.31,5.31,0,0,0,4.9,4.9,5.31,5.31,0,0,0,6.5,1,5.31,5.31,0,0,0,8.1,4.9,5.31,5.31,0,0,0,12,6.5,5.46,5.46,0,0,0,6.5,12Z\"/>\n",
              "  </svg>\n",
              "    </button>\n",
              "    <script>\n",
              "      (() => {\n",
              "      const buttonEl =\n",
              "        document.querySelector('#id_5a9bbfe3-8e14-4a04-8a0c-90098323a764 button.colab-df-generate');\n",
              "      buttonEl.style.display =\n",
              "        google.colab.kernel.accessAllowed ? 'block' : 'none';\n",
              "\n",
              "      buttonEl.onclick = () => {\n",
              "        google.colab.notebook.generateWithVariable('results_df');\n",
              "      }\n",
              "      })();\n",
              "    </script>\n",
              "  </div>\n",
              "\n",
              "    </div>\n",
              "  </div>\n"
            ],
            "application/vnd.google.colaboratory.intrinsic+json": {
              "type": "dataframe",
              "variable_name": "results_df",
              "summary": "{\n  \"name\": \"results_df\",\n  \"rows\": 100,\n  \"fields\": [\n    {\n      \"column\": \"Question\",\n      \"properties\": {\n        \"dtype\": \"string\",\n        \"num_unique_values\": 100,\n        \"samples\": [\n          \"How are phobias different from general anxiety?\",\n          \"How can someone help a person showing warning signs of suicide?\",\n          \"What causes self-harm behaviors?\"\n        ],\n        \"semantic_type\": \"\",\n        \"description\": \"\"\n      }\n    },\n    {\n      \"column\": \"Ground_Truth\",\n      \"properties\": {\n        \"dtype\": \"string\",\n        \"num_unique_values\": 100,\n        \"samples\": [\n          \"Phobias are irrational fears specific to certain objects or situations, unlike generalized anxiety which is ongoing and not situation-specific.\",\n          \"They can listen without judgment, ask directly about suicidal thoughts, stay with the person, and remove potential means of self-harm.\",\n          \"Causes include emotional distress and difficulty coping with negative feelings.\"\n        ],\n        \"semantic_type\": \"\",\n        \"description\": \"\"\n      }\n    },\n    {\n      \"column\": \"Source\",\n      \"properties\": {\n        \"dtype\": \"category\",\n        \"num_unique_values\": 13,\n        \"samples\": [\n          \"Counsel chat dataset\",\n          \"https://www.samhsa.gov/mental-health/suicide/prevention\",\n          \"https://www.samhsa.gov/mental-health/seasonal-affective-disorder\"\n        ],\n        \"semantic_type\": \"\",\n        \"description\": \"\"\n      }\n    },\n    {\n      \"column\": \"Category\",\n      \"properties\": {\n        \"dtype\": \"category\",\n        \"num_unique_values\": 5,\n        \"samples\": [\n          \"Mental Health\",\n          \"Depression\",\n          \"Anxiety\"\n        ],\n        \"semantic_type\": \"\",\n        \"description\": \"\"\n      }\n    },\n    {\n      \"column\": \"Context\",\n      \"properties\": {\n        \"dtype\": \"string\",\n        \"num_unique_values\": 98,\n        \"samples\": [\n          \"[\\\"this is certainly an important issue to look into , it is always helpful to speak with the child ' s pediatrician since they are most familiar with the child ' s developmental history . also , children tend to regress behaviorally when facing events and interactions they feel to have no control over , this can be as simple as a loss of a pet , a recent move , death in the family , and / or as serious as sexual abuse , and other things . if you have not spoken to the school that can be a good starting point .\\\", \\\"As a parent or caregiver, you want the best for your children or other dependents. You may be concerned or have questions about certain behaviors they exhibit and how to ensure they get help.\\\\nWhat to Look For\\\\nIt is important to be aware of warning signs that your child may be struggling. You can play a critical role in knowing when your child may need help.\\\\nConsult with a school counselor, school nurse, mental health provider, or another health care professional if your child shows one or more of the following behaviors:\\\\nFeeling very sad or withdrawn or easily irritated for more than two weeks\\\\nSeriously trying to harm or kill themselves, or making plans to do so\\\\nExperiencing sudden overwhelming fear for no reason, sometimes with a racing heart or fast breathing\\\\nGetting in many fights or wanting to hurt others\\\\nShowing severe out-of-control behavior that can hurt oneself or others\\\\nNot eating, throwing up, or using laxatives to make themselves lose weight\\\\nHaving intense worries or fears that get in the way of daily activities\\\\nExperiencing extreme difficulty controlling behavior, putting themselves in physical danger or causing problems in school\\\\nUsing drugs or alcohol\\\\nHaving severe mood swings that cause problems in relationships\\\\nShowing drastic changes in behavior or personality\\\\nA drop in their school performance\\\\nBecause children often can't understand difficult situations on their own, you should pay particular attention if they experience:\\\\nLoss of a loved one\\\\nDivorce or separation of their parents\\\\nAny major transition\\u2014new home, new school, etc.\\\\nTraumatic life experiences, like living through a natural disaster\\\\nTeasing or bullying\\\\nDifficulties in school or with classmates\\\\nWhat to Do\\\\nIf you are concerned about your child's behaviors, it is important to get appropriate care. You should:\\\\nTalk to your child's doctor, school nurse, or another health care provider and seek further information about the behaviors or symptoms that worry you\\\", 'watching children go through challenges in their lives is difficult . on a very basic level , there exists a primal need to protect them from harm . the hard part for parents is letting them feel those challenges and working through them as they get older . at some point , there is a moment that occurs when the role as a parent shifts . children no longer need the basics ( food , shelter . water , safety ) as much as when they were toddlers , but rather , their needs shift to wanting more support , encouragement , advice , and room to make mistakes . this is where the ability to communicate with them , letting them direct the sails to gather the wind needed to move , is so important . keep the lines of communication open and be available to give feedback when they ask for it .', 'hello . it sounds like you are really concerned about your daughter because you have noticed a significant change in her behavior . it \\\\' s really a great first step that you are reaching out to get some ideas about what might be going on . you are clearly an observant and hands on mom who wants to be sure that her daughter is ok . this is a tough question to answer without more information . with that said , i have found that \\\" under stress people regress . \\\" in other words , many people , children and adults alike , often regress and behave differently - as if they were younger than their actual age - when under stress . therefore , my first question would be : has anything been happening recently that is causing your daughter stress ? this could be anything from conflict at home , recent changes such as moving , divorce , a loss of some kind , switching schools , or losing a friend or friends . additionally , sometimes if children are feeling bullied or left out by same age peers , they may gravitate toward younger playmates as a way to boost their social confidence . i would suggest that you think about what stressors / changes may have occurred recently . you may also want to check in with her teacher ( s ) to see if they have noticed any', \\\"your daughter is fortunate to have an observant parent , who is willing to seek out help in this regard . regression can be indicative of some stress in your child ' s life , so the issues she is facing should be examined . seeking advice from your daughter ' s pediatrician , as well as a practitioner familiar with adolescent issues or perhaps play therapy can equip you with insight into the causes of the behavior , and give you tools to assist your daughter in learning age appropriate social interactions .\\\"]\",\n          \"['there are many possible issues to consider as depression social anxieties , even medical illness . for some , even grief creates a sense of isolation , pains from relationship break up . also , obsessive thinking can be debilitating . seeking at least one trusted friend or family member can be a start towards increased personal support . some persons may simply feel connected by spending time with someone as this , even if not talking directly on issues , just being around another is positive . obviously there is more to explore on this question , given minimal information from two sentences .', \\\"Risk and Protective Factors\\\\nRisk and protective factors affect an individual's chances of positive or negative outcomes, such as suicide. These factors occur at multiple levels of influence\\u2014such as the individual, relationship, community, and greater societal levels. The Social-Ecological Model shows that effective suicide prevention interventions are needed to address these factors at all levels.\\\\nRisk factors for suicide\\\\nat the individual level include untreated mental illness and substance misuse, while protective factors for suicide at this level include problem-solving and coping skills, positive self-esteem, and a sense of purpose in life.\\\\nRelationship-level risks\\\\ninclude family conflict, knowing someone who died by suicide (particularly a family members), and social isolation; protective factors include family connectedness and supportive friendships.\\\\nCommunity-level risks\\\\ninvolve community violence, historical trauma, and access to lethal means; and protective factors include access to behavioral health services, community or cultural beliefs that discourage suicide, and connectedness to community and social institutions.\\\\nSocietal-level risks\\\\ninclude stigma, racism, and discrimination, while examples of protective factors include cultural identification and policies such as anti-discrimination laws.\\\\nLearn more about\\\\nRisk and Protective Factors\\\\nfor suicide, and read the\\\\n2024 National Strategy for Suicide Prevention\\\\n.Suicide Resources\\\\nGeneral Resources\\\\nSAMHSA Publications\\\\nOther Federal Resources\\\\nData and Research\\\\nNational Survey on Drug Use and Health | SAMHSA\\\\n2024 National Strategy for Suicide Prevention\\\\nGeneral Resources\\\\nSuicide Prevention Resource Center\\\\nSuicide Topics and Term Definitions | SPRC\\\\nPrevention and Education\\\\nSuicide Prevention |\\\\xa0NIMH\\\\nCDC\\u2019s Suicide Prevention Month: Partner Toolkit\\\\nSuicide Prevention | WHO\\\\nSuicide and Suicidal Behavior\\\\n#BeThe1To\\\\nThere Is Help and That We Are Not Alone | We R Native\\\", 'Suicide Prevention |\\\\xa0NIMH\\\\nCDC\\u2019s Suicide Prevention Month: Partner Toolkit\\\\nSuicide Prevention | WHO\\\\nSuicide and Suicidal Behavior\\\\n#BeThe1To\\\\nThere Is Help and That We Are Not Alone | We R Native\\\\nSuicide in America: Frequently Asked Questions | NIMH\\\\nPreventing Suicide: A Toolkit for High Schools\\\\nEarly Intervention\\\\nWhat to Do if You\\u2019re Concerned About Your Teen\\u2019s Mental Health: A Conversation Guide | The Jed Foundation (PDF | 617 KB)\\\\nYouth Mental Health First Aid\\\\n#chatsafe A Young Person\\u2019s Guide for Communicating Safely Online About Suicide (PDF | 6.7 MB)\\\\nI Want to Help My Friend | The Jed Foundation\\\\nSeize the Awkward\\\\nWhen Your Friend Is Talking About Suicide | We R Native\\\\nCrisis, Treatment, and Support Services\\\\n988 Suicide & Crisis Lifeline\\\\nTreatment for Suicidal Ideation, Self-harm, and Suicide Attempts Among Youth | SAMHSA\\\\nAdvisory: Addressing Suicidal Thoughts and Behaviors in Substance Use Treatment | SAMHSA\\\\nHelping Your Loved One Who is Suicidal: A Guide for Family and Friends | SAMHSA\\\\nRecovery and Postvention\\\\nAfter an Attempt: A Guide for Taking Care of Your Family Member After Treatment in the Emergency Department | SAMHSA\\\\nProvide for Immediate and Long-Term Postvention\\\\nRecovery and Recovery Support\\\\nSpecific Populations\\\\nHelp Yourself | 988 Suicide & Crisis Lifeline\\\\nThere Is Help and That We Are Not Alone | We R Native\\\\nSuicide Prevention in American Indian/Alaska Native Communities | SPRC\\\\nSuicide Prevention and Care | IHS\\\\nService Members, Veterans, and their Families Technical Assistance (SMVF TA) Center | SAMHSA\\\\nSuicide in Rural America | CDC\\\\nPopulations\\\\xa0\\u2013 Suicide Prevention Resource Center\\\\nRing the Alarm: The Crisis of Black Youth Suicide in America\\\\nHelping Your Loved One Who is Suicidal: A Guide for Family and Friends\\\\nAdvisory: Addressing Suicidal Thoughts and Behaviors in Substance Use Treatment\\\\nTreatment for Suicidal Ideation, Self-harm, and Suicide Attempts Among Youth', 'Advisory: Addressing Suicidal Thoughts and Behaviors in Substance Use Treatment\\\\nTreatment for Suicidal Ideation, Self-harm, and Suicide Attempts Among Youth\\\\nPrevention and Treatment of Anxiety, Depression, and Suicidal Thoughts and Behaviors Among College Students\\\\nAfter an Attempt: A Guide for Taking Care of Your Family Member After Treatment in the Emergency Department\\\\nAfter an Attempt: A Guide for Medical Providers in the Emergency Department\\\\nSuicide Prevention Publications\\\\nSuicide Safe Mobile App\\\\nNational Survey on Drug Use and Health\\\\nSuicide and Self-Harm FastStats | CDC\\\\nSuicide: Additional Resources | CDC\\\\nSuicide Rising Across America | CDC (PDF | 824 KB)\\\\nSuicide Prevention Month: Partner Toolkit | CDC\\\\nSuicide in America: Frequently Asked Questions | NIMH\\\\nGeneral Resources\\\\nData and Research\\\\nNational Survey on Drug Use and Health | SAMHSA\\\\n2024 National Strategy for Suicide Prevention\\\\nGeneral Resources\\\\nSuicide Prevention Resource Center\\\\nSuicide Topics and Term Definitions | SPRC\\\\nPrevention and Education\\\\nSuicide Prevention |\\\\xa0NIMH\\\\nCDC\\u2019s Suicide Prevention Month: Partner Toolkit\\\\nSuicide Prevention | WHO\\\\nSuicide and Suicidal Behavior\\\\n#BeThe1To\\\\nThere Is Help and That We Are Not Alone | We R Native\\\\nSuicide in America: Frequently Asked Questions | NIMH\\\\nPreventing Suicide: A Toolkit for High Schools\\\\nEarly Intervention\\\\nWhat to Do if You\\u2019re Concerned About Your Teen\\u2019s Mental Health: A Conversation Guide | The Jed Foundation (PDF | 617 KB)\\\\nYouth Mental Health First Aid\\\\n#chatsafe A Young Person\\u2019s Guide for Communicating Safely Online About Suicide (PDF | 6.7 MB)\\\\nI Want to Help My Friend | The Jed Foundation\\\\nSeize the Awkward\\\\nWhen Your Friend Is Talking About Suicide | We R Native\\\\nCrisis, Treatment, and Support Services\\\\n988 Suicide & Crisis Lifeline\\\\nTreatment for Suicidal Ideation, Self-harm, and Suicide Attempts Among Youth | SAMHSA\\\\nAdvisory: Addressing Suicidal Thoughts and Behaviors in Substance Use Treatment | SAMHSA', 'Mental health includes our emotional, psychological, and social well-being. It affects how we think, feel, and act, and helps determine how we handle stress, relate to others, and make choices.\\\\nMental health is important at every stage of life, from childhood and adolescence through adulthood. Over the course of your life, if you experience\\\\nmental health problems, your thinking, mood, and behavior could be affected.\\\\nMental Health Conditions\\\\nMental illnesses are disorders, ranging from mild to severe, that affect a person\\u2019s thinking, mood, and/or behavior. According to the National Institute of Mental Health, nearly one-in-five adults live with a mental illness.\\\\nMany factors contribute to mental health conditions, including:\\\\nBiological factors, such as genes or brain chemistry\\\\nLife experiences, such as trauma or abuse\\\\nFamily history of mental health problems\\\\n\\\\nSome mental health topics include:\\\\nAntisocial personality disorder\\\\nAnxiety disorders\\\\n(including generalized anxiety, panic disorders, obsessive-compulsive disorder (OCD), phobias, and social anxiety)\\\\nAttention-deficit hyperactivity disorder (ADHD)\\\\nBipolar disorder\\\\nBorderline personality disorder (BPD)\\\\nDepression\\\\nEating disorders\\\\n(including anorexia nervosa, binge eating disorder, and bulimia nervosa)\\\\nPost-traumatic stress disorder (PTSD)\\\\nSchizophrenia\\\\nSeasonal affective disorder (SAD)\\\\nSelf-harm\\\\nSuicide and suicidal behavior']\",\n          \"[\\\"As a parent or caregiver, you want the best for your children or other dependents. You may be concerned or have questions about certain behaviors they exhibit and how to ensure they get help.\\\\nWhat to Look For\\\\nIt is important to be aware of warning signs that your child may be struggling. You can play a critical role in knowing when your child may need help.\\\\nConsult with a school counselor, school nurse, mental health provider, or another health care professional if your child shows one or more of the following behaviors:\\\\nFeeling very sad or withdrawn or easily irritated for more than two weeks\\\\nSeriously trying to harm or kill themselves, or making plans to do so\\\\nExperiencing sudden overwhelming fear for no reason, sometimes with a racing heart or fast breathing\\\\nGetting in many fights or wanting to hurt others\\\\nShowing severe out-of-control behavior that can hurt oneself or others\\\\nNot eating, throwing up, or using laxatives to make themselves lose weight\\\\nHaving intense worries or fears that get in the way of daily activities\\\\nExperiencing extreme difficulty controlling behavior, putting themselves in physical danger or causing problems in school\\\\nUsing drugs or alcohol\\\\nHaving severe mood swings that cause problems in relationships\\\\nShowing drastic changes in behavior or personality\\\\nA drop in their school performance\\\\nBecause children often can't understand difficult situations on their own, you should pay particular attention if they experience:\\\\nLoss of a loved one\\\\nDivorce or separation of their parents\\\\nAny major transition\\u2014new home, new school, etc.\\\\nTraumatic life experiences, like living through a natural disaster\\\\nTeasing or bullying\\\\nDifficulties in school or with classmates\\\\nWhat to Do\\\\nIf you are concerned about your child's behaviors, it is important to get appropriate care. You should:\\\\nTalk to your child's doctor, school nurse, or another health care provider and seek further information about the behaviors or symptoms that worry you\\\", \\\"Educators are often the first to notice mental health problems in children and young adults. Here are some ways you can help your students and their families.\\\\nWhat Educators Should Know\\\\nYou should know:\\\\nThe\\\\nwarning signs\\\\nfor mental health problems.\\\\nHow to promote\\\\nmental health and substance use prevention\\\\nin schools and on campuses.\\\\nWhom to turn to, such as the principal, school nurse, school psychiatrist or psychologist, or school social worker, if you have questions or concerns about a student's behavior.\\\\nHow to access\\\\ncrisis support and other mental health services\\\\n.\\\\nWhat Educators Should Look for in Student Behavior\\\\nConsult with a school counselor, nurse, or administrator and the student's parents if you observe one or more of the following behaviors:\\\\nFeeling very sad or withdrawn for more than two weeks\\\\nSeriously trying to harm oneself, or making plans to do so\\\\nSudden overwhelming fear for no reason, sometimes with a racing heart or fast breathing\\\\nInvolvement in many fights or desire to badly hurt others\\\\nSevere out-of-control behavior that can hurt oneself or others\\\\nNot eating, throwing up, or using laxatives to make oneself lose weight\\\\nIntense worries or fears that get in the way of daily activities\\\\nExtreme difficulty concentrating or staying still that puts the student in physical danger or causes problems in the classroom\\\\nRepeated use of drugs or alcohol\\\\nSevere mood swings that cause problems in relationships\\\\nDrastic changes in the student's behavior or personality\\\\nWhat Educators Can Do in Classrooms and Schools\\\\nYou can support the mental health of all students in your classroom and school, not just individual students who may exhibit behavioral issues. Consider the following actions:\\\\nLearn more about mental health by taking a mental health awareness training\\\\nPromote social and emotional competency and build resilience\\\\nHelp ensure a positive, safe school environment\\\\nTeach and reinforce positive behaviors and decision-making\\\\nEncourage helping others\\\", \\\"Talk to your child's doctor, school nurse, or another health care provider and seek further information about the behaviors or symptoms that worry you\\\\nAsk your child's primary care physician if your child needs further evaluation by a specialist with experience in child behavioral problems\\\\nAsk if your child's specialist is experienced in treating the problems you are observing\\\\nTalk to your medical provider about any medication and treatment plans\\\\nHow to Talk About Mental Health with Your Child\\\\nDo you need help starting a conversation with your child about mental health?Do you need help starting a conversation with your child about mental health?\\\\nTry leading with these questions, and actively listen to your child's response:\\\\nCan you tell me more about what is happening? How are you feeling?\\\\nHave you had feelings like this in the past?\\\\nSometimes you need to talk to an adult about your feelings. I'm here to listen. How can I help you feel better?\\\\nDo you feel like you want to talk to someone else about your problem?\\\\nI'm worried about your safety. Can you tell me if you have thoughts about harming yourself or others?When talking about mental health problems with your child you should:\\\\nWhen talking about mental health problems with your child you should:\\\\nCommunicate in a straightforward manner\\\\nSpeak at a level that is appropriate to a child or adolescent's age and development level (preschool children need fewer details than teenagers)\\\\nDiscuss the topic when your child feels safe and comfortable\\\\nWatch for reactions during the discussion and slow down or back up if your child becomes confused or looks upset\\\\nListen openly and let your child tell you about their feelings and worriesLearn More About Supporting Your Children\\\\nLearn More About Supporting Your Children\\\\nThere are many resources for parents and caregivers who want to know more about children's mental health. Learn more about:\\\\nRecognizing mental health problems in children\\\", \\\"I've been worried about you. Can we talk about what you are experiencing? If not, who are you comfortable talking to?\\\\nWhat can I do to help you to talk about issues with your parents or someone else who is responsible and cares about you?\\\\nWhat else can I help you with?\\\\nI am someone who cares and wants to listen. What do you want me to know about how you are feeling?\\\\nWho or what has helped you deal with similar issues in the past?\\\\nSometimes talking to someone who has dealt with a similar experience helps. Do you know of others who have experienced these types of problems who you can talk with?\\\\nIt seems like you are going through a difficult time. How can I help you to find help?\\\\nHow can I help you find more information about mental health problems?\\\\nI'm concerned about your safety. Have you thought about harming yourself or others?\\\\nWhen talking about mental health problems:\\\\nKnow how to\\\\nconnect people to help\\\\nCommunicate in a straightforward manner\\\\nSpeak at a level appropriate to a person's age and development level (preschool children need fewer details as compared to teenagers)\\\\nDiscuss the topic when and where the person feels safe and comfortable\\\\nWatch for reactions during the discussion and slow down or back up if the person becomes confused or looks upset\\\\nSometimes it is helpful to make a comparison to a physical illness. For example, many people get sick with a cold or the flu, but only a few get really sick with something serious like pneumonia. People who have a cold are usually able to do their normal activities. However, if they get pneumonia, they will have to take medicine and may have to go to the hospital.\\\", 'watching children go through challenges in their lives is difficult . on a very basic level , there exists a primal need to protect them from harm . the hard part for parents is letting them feel those challenges and working through them as they get older . at some point , there is a moment that occurs when the role as a parent shifts . children no longer need the basics ( food , shelter . water , safety ) as much as when they were toddlers , but rather , their needs shift to wanting more support , encouragement , advice , and room to make mistakes . this is where the ability to communicate with them , letting them direct the sails to gather the wind needed to move , is so important . keep the lines of communication open and be available to give feedback when they ask for it .']\"\n        ],\n        \"semantic_type\": \"\",\n        \"description\": \"\"\n      }\n    },\n    {\n      \"column\": \"rag_response\",\n      \"properties\": {\n        \"dtype\": \"string\",\n        \"num_unique_values\": 98,\n        \"samples\": [\n          \"Observing behavior changes in children is important because it can indicate stress in their life, such as a loss of a pet, a recent move, or traumatic experiences. This can lead to regression, which is a normal reaction to feeling a lack of control over events and interactions. As a result, it's crucial to examine these issues and seek professional help from pediatricians, practitioners familiar with adolescent issues, or play therapists to gain insights and develop strategies to support the child's development.\",\n          \"Social withdrawal is often a protective measure that one implements to avoid further pain. It originates from unmet needs from childhood, such as bullying, peer rejection, or trauma. This behavior can be a coping mechanism to deal with emotional distress, but it can also lead to feelings of loneliness and disconnection. As a result, it's essential to identify the underlying causes of social withdrawal and address them to support the youth's overall well-being.\",\n          \"As a parent, it's essential to recognize potential warning signs that your child might be struggling. Some common behaviors to look out for include:\\n\\n* Feeling very sad or withdrawn or easily irritated for more than two weeks\\n* Seriously trying to harm or kill themselves, or making plans to do so\\n* Experiencing sudden overwhelming fear for no reason, sometimes with a racing heart or fast breathing\\n* Getting in many fights or wanting to hurt others\\n* Showing severe out-of-control behavior that can hurt\"\n        ],\n        \"semantic_type\": \"\",\n        \"description\": \"\"\n      }\n    }\n  ]\n}"
            }
          },
          "metadata": {},
          "execution_count": 28
        }
      ]
    },
    {
      "cell_type": "code",
      "source": [
        "results_df.to_csv(\"gte-large-1000-100-responses.csv\")"
      ],
      "metadata": {
        "id": "D2i4eTqQsU9n"
      },
      "execution_count": null,
      "outputs": []
    },
    {
      "cell_type": "code",
      "source": [
        "import pandas as pd"
      ],
      "metadata": {
        "id": "PeFnviutsaPe"
      },
      "execution_count": null,
      "outputs": []
    },
    {
      "cell_type": "code",
      "source": [
        "eval_df = pd.read_csv(\"gte-large-1000-100-responses.csv\")"
      ],
      "metadata": {
        "id": "KrhqvpzGsaNw"
      },
      "execution_count": null,
      "outputs": []
    },
    {
      "cell_type": "code",
      "source": [
        "eval_df = eval_df.to_dict(orient='records')"
      ],
      "metadata": {
        "id": "d_2N-SvOBYqu"
      },
      "execution_count": null,
      "outputs": []
    },
    {
      "cell_type": "code",
      "source": [
        "# Evaluation prompt\n",
        "evaluation_prompt = \"\"\"\n",
        "### Task Description:\n",
        "You are provided with an instruction (or query), a response to evaluate, a reference answer that represents an ideal response, and evaluation criteria. Additionally, you are given responses from a RAG model: a RAG response. Your task is to evaluate and compare the RAG response with the reference answer based on the provided criteria.\n",
        "\n",
        "1. Assess the quality of the response strictly based on the given rubric and criteria (relevance, semantic similarity, accuracy, factual correctness, completeness, clarity, and conciseness), not general impressions.\n",
        "2. Write short feedback for each response based on the rubric, highlighting strengths and weaknesses for each criterion.\n",
        "3. Provide feedback in the specified format.\n",
        "4. Finally, assign an overall score out of 10 for RAG response.\n",
        "\n",
        "\n",
        "### The instruction to evaluate:\n",
        "{Question}\n",
        "\n",
        "### RAG Response:\n",
        "{rag_response}\n",
        "\n",
        "### Reference Answer:\n",
        "{Ground_Truth}\n",
        "\n",
        "### Rubric for Individual Criteria:\n",
        "- **Relevance**: How effectively does the response address the specific requirements or intent of the query?\n",
        "- **Semantic Similarity**: To what extent does the response capture the meaning or intent of the reference answer, even if the phrasing differs?\n",
        "- **Accuracy**: Does the response provide correct and logically sound information in relation to the query?\n",
        "- **Factual Correctness**: Are the facts presented in the response verified and consistent with reliable sources or the reference answer?\n",
        "- **Completeness**: Does the response thoroughly cover all essential aspects of the query without omitting critical information?\n",
        "- **Clarity**: Is the response expressed in a manner that is straightforward, unambiguous, and easy to comprehend?\n",
        "- **Conciseness**: Does the response convey the necessary information succinctly, avoiding extraneous details or redundancy?\n",
        "\n",
        "### Output Format:\n",
        "Feedback:\n",
        "- RAG Response:\n",
        "    - Relevance: {{feedback}}\n",
        "    - Semantic Similarity: {{feedback}}\n",
        "    - Accuracy: {{feedback}}\n",
        "    - Factual Correctness: {{feedback}}\n",
        "    - Completeness: {{feedback}}\n",
        "    - Clarity: {{feedback}}\n",
        "    - Conciseness: {{feedback}}\n",
        "\n",
        "### Overall Scores:\n",
        "- RAG Overall Score: {{integer between 1 and 10}}\n",
        "\"\"\""
      ],
      "metadata": {
        "id": "YVZdmyrs8eIA"
      },
      "execution_count": null,
      "outputs": []
    },
    {
      "cell_type": "code",
      "source": [
        "import openai"
      ],
      "metadata": {
        "id": "HwaLnODeAN_E"
      },
      "execution_count": null,
      "outputs": []
    },
    {
      "cell_type": "code",
      "source": [
        "!pip install openai"
      ],
      "metadata": {
        "colab": {
          "base_uri": "https://localhost:8080/"
        },
        "id": "lTRZ1c0niCWM",
        "outputId": "0cd226dc-9700-4c84-a390-2559f254a548"
      },
      "execution_count": null,
      "outputs": [
        {
          "output_type": "stream",
          "name": "stdout",
          "text": [
            "Requirement already satisfied: openai in /usr/local/lib/python3.10/dist-packages (1.54.5)\n",
            "Requirement already satisfied: anyio<5,>=3.5.0 in /usr/local/lib/python3.10/dist-packages (from openai) (3.7.1)\n",
            "Requirement already satisfied: distro<2,>=1.7.0 in /usr/local/lib/python3.10/dist-packages (from openai) (1.9.0)\n",
            "Requirement already satisfied: httpx<1,>=0.23.0 in /usr/local/lib/python3.10/dist-packages (from openai) (0.27.2)\n",
            "Requirement already satisfied: jiter<1,>=0.4.0 in /usr/local/lib/python3.10/dist-packages (from openai) (0.8.0)\n",
            "Requirement already satisfied: pydantic<3,>=1.9.0 in /usr/local/lib/python3.10/dist-packages (from openai) (2.10.3)\n",
            "Requirement already satisfied: sniffio in /usr/local/lib/python3.10/dist-packages (from openai) (1.3.1)\n",
            "Requirement already satisfied: tqdm>4 in /usr/local/lib/python3.10/dist-packages (from openai) (4.66.6)\n",
            "Requirement already satisfied: typing-extensions<5,>=4.11 in /usr/local/lib/python3.10/dist-packages (from openai) (4.12.2)\n",
            "Requirement already satisfied: idna>=2.8 in /usr/local/lib/python3.10/dist-packages (from anyio<5,>=3.5.0->openai) (3.10)\n",
            "Requirement already satisfied: exceptiongroup in /usr/local/lib/python3.10/dist-packages (from anyio<5,>=3.5.0->openai) (1.2.2)\n",
            "Requirement already satisfied: certifi in /usr/local/lib/python3.10/dist-packages (from httpx<1,>=0.23.0->openai) (2024.8.30)\n",
            "Requirement already satisfied: httpcore==1.* in /usr/local/lib/python3.10/dist-packages (from httpx<1,>=0.23.0->openai) (1.0.7)\n",
            "Requirement already satisfied: h11<0.15,>=0.13 in /usr/local/lib/python3.10/dist-packages (from httpcore==1.*->httpx<1,>=0.23.0->openai) (0.14.0)\n",
            "Requirement already satisfied: annotated-types>=0.6.0 in /usr/local/lib/python3.10/dist-packages (from pydantic<3,>=1.9.0->openai) (0.7.0)\n",
            "Requirement already satisfied: pydantic-core==2.27.1 in /usr/local/lib/python3.10/dist-packages (from pydantic<3,>=1.9.0->openai) (2.27.1)\n"
          ]
        }
      ]
    },
    {
      "cell_type": "code",
      "source": [
        "!pip install httpx==0.27.2"
      ],
      "metadata": {
        "colab": {
          "base_uri": "https://localhost:8080/"
        },
        "id": "2XduFq0Fjw7m",
        "outputId": "42397bab-5d10-4a6f-d5ee-b8db577a2f18"
      },
      "execution_count": null,
      "outputs": [
        {
          "output_type": "stream",
          "name": "stdout",
          "text": [
            "Requirement already satisfied: httpx==0.27.2 in /usr/local/lib/python3.10/dist-packages (0.27.2)\n",
            "Requirement already satisfied: anyio in /usr/local/lib/python3.10/dist-packages (from httpx==0.27.2) (3.7.1)\n",
            "Requirement already satisfied: certifi in /usr/local/lib/python3.10/dist-packages (from httpx==0.27.2) (2024.8.30)\n",
            "Requirement already satisfied: httpcore==1.* in /usr/local/lib/python3.10/dist-packages (from httpx==0.27.2) (1.0.7)\n",
            "Requirement already satisfied: idna in /usr/local/lib/python3.10/dist-packages (from httpx==0.27.2) (3.10)\n",
            "Requirement already satisfied: sniffio in /usr/local/lib/python3.10/dist-packages (from httpx==0.27.2) (1.3.1)\n",
            "Requirement already satisfied: h11<0.15,>=0.13 in /usr/local/lib/python3.10/dist-packages (from httpcore==1.*->httpx==0.27.2) (0.14.0)\n",
            "Requirement already satisfied: exceptiongroup in /usr/local/lib/python3.10/dist-packages (from anyio->httpx==0.27.2) (1.2.2)\n"
          ]
        }
      ]
    },
    {
      "cell_type": "code",
      "source": [
        "from openai import OpenAI\n",
        "\n",
        "client = OpenAI(api_key = \"YOUR_API_KEY\") # Insert your api key here"
      ],
      "metadata": {
        "id": "42FdTlgzCmkj"
      },
      "execution_count": null,
      "outputs": []
    },
    {
      "cell_type": "code",
      "source": [
        "import re\n",
        "\n",
        "def evaluate_responses(instruction, rag_response, reference_answer):\n",
        "    prompt = evaluation_prompt.format(\n",
        "        Question=instruction,\n",
        "        rag_response=rag_response,\n",
        "        Ground_Truth=reference_answer\n",
        "    )\n",
        "\n",
        "    response = client.chat.completions.create(\n",
        "        model=\"gpt-4o-mini\",\n",
        "        messages=[\n",
        "            {\"role\": \"system\", \"content\": \"You are a helpful assistant evaluating model responses.\"},\n",
        "            {\"role\": \"user\", \"content\": prompt}\n",
        "        ],\n",
        "        max_tokens=1000,\n",
        "        temperature=0.5\n",
        "    )\n",
        "\n",
        "    s = response.choices[0].message.content\n",
        "    print(\"Evaluation Output:\")\n",
        "    print(s)\n",
        "\n",
        "    rag_score = re.search(r'RAG Overall Score: (\\d+)', s).group(1).strip()\n",
        "\n",
        "    return int(rag_score)\n",
        "\n",
        "evaluations = []\n",
        "for data in tqdm(eval_df, desc=\"Evaluating responses\", unit=\"sample\"):\n",
        "    instruction = data[\"Question\"]\n",
        "    rag_response = data[\"rag_response\"]\n",
        "    reference_answer = data[\"Ground_Truth\"]\n",
        "\n",
        "    rag_score = evaluate_responses(\n",
        "        instruction, rag_response, reference_answer\n",
        "    )\n",
        "\n",
        "    evaluations.append({\n",
        "        \"Question\": instruction,\n",
        "        \"Ground_Truth\": reference_answer,\n",
        "        \"rag_response\": rag_response,\n",
        "        \"RAG_Score\": rag_score,\n",
        "    })"
      ],
      "metadata": {
        "colab": {
          "base_uri": "https://localhost:8080/"
        },
        "id": "N_0zZMytAGhA",
        "outputId": "26b4cb83-7ac1-4939-95f4-688e783ca00d"
      },
      "execution_count": null,
      "outputs": [
        {
          "output_type": "stream",
          "name": "stderr",
          "text": [
            "Evaluating responses:   1%|          | 1/100 [00:02<04:52,  2.95s/sample]"
          ]
        },
        {
          "output_type": "stream",
          "name": "stdout",
          "text": [
            "Evaluation Output:\n",
            "Feedback:\n",
            "- RAG Response:\n",
            "    - Relevance: The response effectively addresses the query about what triggers Seasonal Affective Disorder (SAD) by mentioning seasonal changes, which is the core aspect of the question.\n",
            "    - Semantic Similarity: The meaning of the RAG response aligns well with the reference answer, capturing the essential idea that SAD is related to seasonal changes and sunlight exposure.\n",
            "    - Accuracy: The information provided is accurate, correctly linking SAD to seasonal variations and the associated decrease in sunlight.\n",
            "    - Factual Correctness: The response is factually correct, as it accurately reflects the known triggers of SAD, consistent with established knowledge on the topic.\n",
            "    - Completeness: While the response covers the main trigger of SAD, it could be slightly more complete by briefly mentioning the psychological aspect of depression in relation to these seasonal changes.\n",
            "    - Clarity: The response is clear and straightforward, making it easy to understand the connection between SAD and seasonal changes.\n",
            "    - Conciseness: The response is concise, providing the necessary information without unnecessary elaboration.\n",
            "\n",
            "### Overall Scores:\n",
            "- RAG Overall Score: 9\n"
          ]
        },
        {
          "output_type": "stream",
          "name": "stderr",
          "text": [
            "\rEvaluating responses:   2%|▏         | 2/100 [00:04<03:43,  2.28s/sample]"
          ]
        },
        {
          "output_type": "stream",
          "name": "stdout",
          "text": [
            "Evaluation Output:\n",
            "Feedback:\n",
            "- RAG Response:\n",
            "    - Relevance: The response is relevant as it directly addresses the health risks associated with bulimia nervosa.\n",
            "    - Semantic Similarity: The response captures the intent of the reference answer but expands on it with additional details, which is somewhat different in focus.\n",
            "    - Accuracy: The information provided is accurate and aligns with known health risks associated with bulimia nervosa.\n",
            "    - Factual Correctness: The facts presented are consistent with reliable sources regarding the health risks of bulimia nervosa.\n",
            "    - Completeness: The response is more complete than the reference answer, listing multiple health risks rather than just a few.\n",
            "    - Clarity: The response is clear and easy to understand, effectively conveying the information without ambiguity.\n",
            "    - Conciseness: While the response is thorough, it could be considered slightly less concise due to the additional details provided.\n",
            "\n",
            "### Overall Scores:\n",
            "- RAG Overall Score: 8\n"
          ]
        },
        {
          "output_type": "stream",
          "name": "stderr",
          "text": [
            "\rEvaluating responses:   3%|▎         | 3/100 [00:07<04:23,  2.71s/sample]"
          ]
        },
        {
          "output_type": "stream",
          "name": "stdout",
          "text": [
            "Evaluation Output:\n",
            "Feedback:\n",
            "- RAG Response:\n",
            "    - Relevance: The response is relevant as it addresses the importance of finding supportive individuals to maintain a support system for mental health. However, it could be more focused on the broader concept of maintaining a support system rather than just finding one individual.\n",
            "    - Semantic Similarity: The response captures the essence of the reference answer by emphasizing trust and support, but it includes additional details that diverge slightly from the concise nature of the reference.\n",
            "    - Accuracy: The information presented is accurate in terms of identifying qualities of a supportive individual, which aligns with the intent of the query.\n",
            "    - Factual Correctness: The facts are consistent with general knowledge about support systems in mental health and do not present any inaccuracies.\n",
            "    - Completeness: The response covers essential aspects, such as trust, advice, and space for growth, but it could mention other ways to maintain a support system, such as seeking multiple sources of support.\n",
            "    - Clarity: The response is mostly clear, but the lengthy structure could lead to some ambiguity regarding the main point. A more straightforward presentation would enhance clarity.\n",
            "    - Conciseness: The response is somewhat verbose and could be more concise. It includes several similar ideas that could be expressed more succinctly.\n",
            "\n",
            "### Overall Scores:\n",
            "- RAG Overall Score: 7\n"
          ]
        },
        {
          "output_type": "stream",
          "name": "stderr",
          "text": [
            "\rEvaluating responses:   4%|▍         | 4/100 [00:10<03:57,  2.48s/sample]"
          ]
        },
        {
          "output_type": "stream",
          "name": "stdout",
          "text": [
            "Evaluation Output:\n",
            "Feedback:\n",
            "- RAG Response:\n",
            "    - Relevance: The response is not relevant to the query as it fails to provide any information about the risk factors for schizophrenia, which is the main focus of the instruction.\n",
            "    - Semantic Similarity: There is little to no semantic similarity to the reference answer since the RAG response does not address the topic at all.\n",
            "    - Accuracy: The response does not provide any accurate information regarding the risk factors for schizophrenia, as it does not attempt to answer the question.\n",
            "    - Factual Correctness: Since the response does not present any facts related to the query, it cannot be assessed for factual correctness.\n",
            "    - Completeness: The response is incomplete as it does not cover the essential aspects of the query, which is to identify the risk factors for schizophrenia.\n",
            "    - Clarity: The response is clear in stating that it does not know the answer, but this clarity does not contribute to addressing the question.\n",
            "    - Conciseness: The response is concise but is ultimately unhelpful as it does not provide any relevant information.\n",
            "\n",
            "### Overall Scores:\n",
            "- RAG Overall Score: 2\n"
          ]
        },
        {
          "output_type": "stream",
          "name": "stderr",
          "text": [
            "\rEvaluating responses:   5%|▌         | 5/100 [00:12<04:02,  2.56s/sample]"
          ]
        },
        {
          "output_type": "stream",
          "name": "stdout",
          "text": [
            "Evaluation Output:\n",
            "Feedback:\n",
            "- RAG Response:\n",
            "    - Relevance: The response is highly relevant as it directly addresses how schizophrenia impacts daily functioning by mentioning specific areas affected, such as work, socialization, and daily tasks.\n",
            "    - Semantic Similarity: The response captures the essence of the reference answer, though it provides more detail. The core meaning aligns well, despite differences in phrasing.\n",
            "    - Accuracy: The information presented is accurate regarding the effects of schizophrenia on daily functioning and the importance of treatment.\n",
            "    - Factual Correctness: The facts are consistent with what is known about schizophrenia and its impact on daily life, aligning with reliable sources.\n",
            "    - Completeness: The response is complete, covering multiple aspects of daily functioning affected by schizophrenia and mentioning treatment options, which adds depth.\n",
            "    - Clarity: The response is clear and easy to understand, effectively communicating the impact of schizophrenia.\n",
            "    - Conciseness: While the response is somewhat longer than the reference answer, it remains concise and avoids unnecessary details, focusing on relevant information.\n",
            "\n",
            "### Overall Scores:\n",
            "- RAG Overall Score: 9\n"
          ]
        },
        {
          "output_type": "stream",
          "name": "stderr",
          "text": [
            "\rEvaluating responses:   6%|▌         | 6/100 [00:19<05:59,  3.82s/sample]"
          ]
        },
        {
          "output_type": "stream",
          "name": "stdout",
          "text": [
            "Evaluation Output:\n",
            "Feedback:\n",
            "- RAG Response:\n",
            "    - Relevance: The response is relevant as it addresses how to manage symptoms of social anxiety disorder, aligning with the query's intent.\n",
            "    - Semantic Similarity: The response captures the essence of the reference answer, though it elaborates more on various methods rather than directly mirroring the phrasing.\n",
            "    - Accuracy: The information provided about treatment options, such as therapy, medication, and techniques like deep breathing, is accurate and appropriate for managing social anxiety disorder.\n",
            "    - Factual Correctness: The facts presented are consistent with common knowledge about social anxiety disorder treatments and align with the reference answer.\n",
            "    - Completeness: The response is complete as it covers a variety of management strategies, including therapy, medication, support groups, and practical techniques, which enhances its thoroughness.\n",
            "    - Clarity: The response is clear and easy to understand, with a logical flow of ideas that makes it accessible to readers.\n",
            "    - Conciseness: While the response is somewhat longer than the reference answer, it remains focused and avoids unnecessary details, providing a good balance of information.\n",
            "\n",
            "### Overall Scores:\n",
            "- RAG Overall Score: 9\n"
          ]
        },
        {
          "output_type": "stream",
          "name": "stderr",
          "text": [
            "\rEvaluating responses:   7%|▋         | 7/100 [00:22<05:29,  3.54s/sample]"
          ]
        },
        {
          "output_type": "stream",
          "name": "stdout",
          "text": [
            "Evaluation Output:\n",
            "Feedback:\n",
            "- RAG Response:\n",
            "    - Relevance: The response addresses the query well by listing symptoms of anxiety disorders, aligning with the intent of the instruction.\n",
            "    - Semantic Similarity: The response captures many of the symptoms mentioned in the reference answer but includes additional details. The core symptoms are similar, but the RAG response is more extensive.\n",
            "    - Accuracy: The symptoms listed in the RAG response are accurate and relevant to anxiety disorders, reflecting a correct understanding of the condition.\n",
            "    - Factual Correctness: The information provided is factually correct and consistent with what is known about anxiety disorders.\n",
            "    - Completeness: The response is quite comprehensive, covering a wide range of symptoms, although it may include some that are less common or not universally recognized as symptoms of anxiety disorders.\n",
            "    - Clarity: The response is generally clear, but the long list of symptoms may overwhelm the reader, making it slightly less clear than it could be.\n",
            "    - Conciseness: The response is less concise due to the extensive list of symptoms. While thorough, it could be more succinct by focusing on the most common symptoms.\n",
            "\n",
            "### Overall Scores:\n",
            "- RAG Overall Score: 7\n"
          ]
        },
        {
          "output_type": "stream",
          "name": "stderr",
          "text": [
            "\rEvaluating responses:   8%|▊         | 8/100 [00:24<04:57,  3.24s/sample]"
          ]
        },
        {
          "output_type": "stream",
          "name": "stdout",
          "text": [
            "Evaluation Output:\n",
            "Feedback:\n",
            "- RAG Response:\n",
            "    - Relevance: The response is relevant as it directly addresses how mental health impacts decision-making, aligning well with the query's intent.\n",
            "    - Semantic Similarity: The response captures the essence of the reference answer but expands on it significantly, which diverges from the brevity of the reference. However, it maintains the core idea of mental health influencing decision-making.\n",
            "    - Accuracy: The information provided is accurate in describing the effects of mental health on decision-making processes.\n",
            "    - Factual Correctness: The response is factually correct and logically sound, detailing how mental health issues can complicate decision-making.\n",
            "    - Completeness: The response is quite comprehensive, covering various aspects of decision-making affected by mental health, which goes beyond the reference answer's scope.\n",
            "    - Clarity: The response is mostly clear, though it could benefit from more straightforward language in some areas to enhance understanding.\n",
            "    - Conciseness: The response is somewhat verbose; it includes many details that, while relevant, may detract from the main point and could be stated more succinctly.\n",
            "\n",
            "### Overall Scores:\n",
            "- RAG Overall Score: 7\n"
          ]
        },
        {
          "output_type": "stream",
          "name": "stderr",
          "text": [
            "\rEvaluating responses:   9%|▉         | 9/100 [00:26<04:19,  2.85s/sample]"
          ]
        },
        {
          "output_type": "stream",
          "name": "stdout",
          "text": [
            "Evaluation Output:\n",
            "Feedback:\n",
            "- RAG Response:\n",
            "    - Relevance: The response effectively addresses the query about ADHD by defining the condition and its symptoms, making it relevant to the question asked.\n",
            "    - Semantic Similarity: The response captures the essence of the reference answer, although it uses slightly different phrasing. It conveys similar meanings regarding the symptoms of ADHD.\n",
            "    - Accuracy: The information presented is accurate in describing ADHD and its symptoms, aligning well with established definitions.\n",
            "    - Factual Correctness: The facts provided are consistent with reliable sources regarding ADHD, confirming the validity of the symptoms mentioned.\n",
            "    - Completeness: The response covers the main symptoms of ADHD but could be improved by mentioning impulsivity explicitly, which is a critical aspect of the disorder.\n",
            "    - Clarity: The response is clear and easy to understand, effectively communicating the main points without ambiguity.\n",
            "    - Conciseness: The response is concise, providing the necessary information without unnecessary elaboration.\n",
            "\n",
            "### Overall Scores:\n",
            "- RAG Overall Score: 8\n"
          ]
        },
        {
          "output_type": "stream",
          "name": "stderr",
          "text": [
            "\rEvaluating responses:  10%|█         | 10/100 [00:29<04:18,  2.87s/sample]"
          ]
        },
        {
          "output_type": "stream",
          "name": "stdout",
          "text": [
            "Evaluation Output:\n",
            "Feedback:\n",
            "- RAG Response:\n",
            "    - Relevance: The response effectively addresses the query about treating SAD, mentioning relevant treatment options. However, it could have directly stated that these treatments are specifically for SAD to improve relevance further.\n",
            "    - Semantic Similarity: The meaning of the RAG response is similar to the reference answer, as both mention light therapy, antidepressants, talk therapy, and vitamin D supplements. The phrasing differs slightly, but the intent is captured.\n",
            "    - Accuracy: The information presented is accurate regarding the treatment options for SAD, aligning with established treatment methods.\n",
            "    - Factual Correctness: The facts are consistent with reliable sources regarding SAD treatment, confirming the effectiveness of the mentioned therapies.\n",
            "    - Completeness: The response covers the main treatment options for SAD but could have emphasized that these methods are typically used in combination for better context.\n",
            "    - Clarity: The response is clear and easy to understand, with no ambiguous language.\n",
            "    - Conciseness: The response is relatively concise, but the phrase \"needed reduce SAD symptoms\" contains a grammatical error that slightly detracts from its conciseness.\n",
            "\n",
            "### Overall Scores:\n",
            "- RAG Overall Score: 8\n"
          ]
        },
        {
          "output_type": "stream",
          "name": "stderr",
          "text": [
            "\rEvaluating responses:  11%|█         | 11/100 [00:32<04:08,  2.80s/sample]"
          ]
        },
        {
          "output_type": "stream",
          "name": "stdout",
          "text": [
            "Evaluation Output:\n",
            "Feedback:\n",
            "- RAG Response:\n",
            "    - Relevance: The response is relevant as it addresses the importance of mental health throughout life, aligning with the query's intent.\n",
            "    - Semantic Similarity: The response captures the essence of the reference answer by discussing mental health's role in life stages, though it lacks the specific mention of \"emotional, psychological, and social well-being.\"\n",
            "    - Accuracy: The information presented is accurate, indicating that mental health affects thinking, mood, and behavior, which is a valid point.\n",
            "    - Factual Correctness: The facts are consistent with general knowledge about mental health and its impact across life stages.\n",
            "    - Completeness: The response is somewhat incomplete; it could expand on the significance of mental health in emotional, psychological, and social contexts, which the reference answer emphasizes.\n",
            "    - Clarity: The response is clear and easy to understand, conveying its message effectively.\n",
            "    - Conciseness: The response is concise, presenting the information without unnecessary details.\n",
            "\n",
            "### Overall Scores:\n",
            "- RAG Overall Score: 7\n"
          ]
        },
        {
          "output_type": "stream",
          "name": "stderr",
          "text": [
            "\rEvaluating responses:  12%|█▏        | 12/100 [00:35<04:11,  2.86s/sample]"
          ]
        },
        {
          "output_type": "stream",
          "name": "stdout",
          "text": [
            "Evaluation Output:\n",
            "Feedback:\n",
            "- RAG Response:\n",
            "    - Relevance: The response is highly relevant as it directly addresses the warning signs of suicide in youth, which is the core of the query.\n",
            "    - Semantic Similarity: The response captures the intent of the reference answer well, although it provides additional details that are not present in the reference.\n",
            "    - Accuracy: The information provided is accurate and reflects common warning signs associated with suicidal thoughts in youth.\n",
            "    - Factual Correctness: The facts are consistent with reliable sources regarding the warning signs of suicide, aligning well with the reference.\n",
            "    - Completeness: The response is more comprehensive than the reference answer, listing several warning signs, which adds value without deviating from the main topic.\n",
            "    - Clarity: The response is clearly articulated, making it easy to understand each warning sign listed.\n",
            "    - Conciseness: While the response is somewhat longer than the reference, it remains concise and avoids unnecessary elaboration.\n",
            "\n",
            "### Overall Scores:\n",
            "- RAG Overall Score: 9\n"
          ]
        },
        {
          "output_type": "stream",
          "name": "stderr",
          "text": [
            "\rEvaluating responses:  13%|█▎        | 13/100 [00:38<04:17,  2.96s/sample]"
          ]
        },
        {
          "output_type": "stream",
          "name": "stdout",
          "text": [
            "Evaluation Output:\n",
            "Feedback:\n",
            "- RAG Response:\n",
            "    - Relevance: The response is relevant as it addresses the reasons why people engage in self-harm, aligning with the query.\n",
            "    - Semantic Similarity: The response captures the essence of the reference answer, particularly the idea of self-harm providing relief from emotional distress, although it expands slightly on the reasons.\n",
            "    - Accuracy: The information presented is accurate, as it correctly identifies emotional relief as a primary reason for self-harm.\n",
            "    - Factual Correctness: The response is factually correct and consistent with what is generally understood about self-harm.\n",
            "    - Completeness: The response is somewhat complete but could have included additional aspects of self-harm, such as its potential as a maladaptive coping mechanism or the underlying mental health issues.\n",
            "    - Clarity: The response is clear and easy to understand, with straightforward language.\n",
            "    - Conciseness: The response is concise but could be slightly more succinct by removing the phrase \"is used as a means to cope with a problem,\" which is somewhat redundant.\n",
            "\n",
            "### Overall Scores:\n",
            "- RAG Overall Score: 8\n"
          ]
        },
        {
          "output_type": "stream",
          "name": "stderr",
          "text": [
            "\rEvaluating responses:  14%|█▍        | 14/100 [00:41<04:12,  2.93s/sample]"
          ]
        },
        {
          "output_type": "stream",
          "name": "stdout",
          "text": [
            "Evaluation Output:\n",
            "Feedback:\n",
            "- RAG Response:\n",
            "    - Relevance: The response effectively addresses the query about the role of communication in preventing suicide, emphasizing the importance of open conversations and support. \n",
            "    - Semantic Similarity: The response captures the essence of the reference answer by highlighting support and the reduction of stigma, although it expands on these points more comprehensively.\n",
            "    - Accuracy: The information provided is accurate and logically sound, discussing the role of communication in a way that aligns with established understanding of suicide prevention.\n",
            "    - Factual Correctness: The facts presented are consistent with reliable sources regarding suicide prevention and the importance of communication.\n",
            "    - Completeness: The response is thorough, covering various aspects of communication, including listening, offering support, and recognizing warning signs, which adds depth to the topic.\n",
            "    - Clarity: The response is clear and straightforward, making it easy to understand the key points being made about communication's role in suicide prevention.\n",
            "    - Conciseness: While the response is comprehensive, it could be slightly more concise by reducing some redundancy in the explanation of communication aspects.\n",
            "\n",
            "### Overall Scores:\n",
            "- RAG Overall Score: 9\n"
          ]
        },
        {
          "output_type": "stream",
          "name": "stderr",
          "text": [
            "\rEvaluating responses:  15%|█▌        | 15/100 [00:44<04:12,  2.98s/sample]"
          ]
        },
        {
          "output_type": "stream",
          "name": "stdout",
          "text": [
            "Evaluation Output:\n",
            "Feedback:\n",
            "- RAG Response:\n",
            "    - Relevance: The response is relevant as it directly addresses the query about how therapy can help with self-harm by mentioning a specific therapeutic approach (DBT). However, it could have included more general insights about therapy's role in addressing emotional pain and coping mechanisms, similar to the reference answer.\n",
            "    - Semantic Similarity: The response captures some aspects of the reference answer but does not directly convey the idea of providing healthier coping mechanisms. It focuses on DBT specifically rather than therapy in general.\n",
            "    - Accuracy: The information about DBT being effective for self-harm is accurate, but the response could have benefited from mentioning other types of therapy that may also help.\n",
            "    - Factual Correctness: The claims made about DBT are factually correct and supported by evidence in the field of psychology. However, the response lacks a broader context about therapy as a whole.\n",
            "    - Completeness: The response is somewhat complete in discussing DBT, but it omits the broader aspects of therapy that the reference answer highlights, such as addressing emotional pain and offering healthier coping mechanisms.\n",
            "    - Clarity: The response is clear and easy to understand, effectively communicating the purpose of DBT.\n",
            "    - Conciseness: The response is concise and avoids unnecessary details, focusing on the key points about DBT.\n",
            "\n",
            "### Overall Scores:\n",
            "- RAG Overall Score: 7\n"
          ]
        },
        {
          "output_type": "stream",
          "name": "stderr",
          "text": [
            "\rEvaluating responses:  16%|█▌        | 16/100 [00:47<04:09,  2.97s/sample]"
          ]
        },
        {
          "output_type": "stream",
          "name": "stdout",
          "text": [
            "Evaluation Output:\n",
            "Feedback:\n",
            "- RAG Response:\n",
            "    - Relevance: The response effectively addresses the query by identifying emotional triggers linked to self-harm, aligning well with the intent of the instruction.\n",
            "    - Semantic Similarity: The response captures the essence of the reference answer, mentioning the same emotional triggers (loneliness, anger, hopelessness) although with slightly different phrasing.\n",
            "    - Accuracy: The information presented is accurate, as it correctly identifies common emotional triggers for self-harm.\n",
            "    - Factual Correctness: The response is factually correct and aligns with the reference answer. The emotional triggers mentioned are widely recognized in discussions about self-harm.\n",
            "    - Completeness: While the response covers the main emotional triggers, it could be considered slightly less complete as it does not explicitly state that these feelings are the only triggers or that they can vary among individuals.\n",
            "    - Clarity: The response is clear and understandable, presenting the information in a straightforward manner.\n",
            "    - Conciseness: The response is concise, delivering the necessary information without unnecessary elaboration.\n",
            "\n",
            "### Overall Scores:\n",
            "- RAG Overall Score: 9\n"
          ]
        },
        {
          "output_type": "stream",
          "name": "stderr",
          "text": [
            "\rEvaluating responses:  17%|█▋        | 17/100 [00:52<05:07,  3.71s/sample]"
          ]
        },
        {
          "output_type": "stream",
          "name": "stdout",
          "text": [
            "Evaluation Output:\n",
            "Feedback:\n",
            "- RAG Response:\n",
            "    - Relevance: The response is relevant as it addresses the signs of suicide and how to intervene, which is aligned with the query. However, it does not directly mention asking about suicidal thoughts, which is a critical aspect of intervention.\n",
            "    - Semantic Similarity: The response captures some intent similar to the reference answer but lacks the directness of asking about suicidal thoughts, which is the core of the reference answer.\n",
            "    - Accuracy: The information provided is generally accurate regarding intervention strategies but misses a crucial element of directly asking the individual about their feelings.\n",
            "    - Factual Correctness: The facts presented are consistent with general guidelines for suicide intervention, but the omission of directly asking about suicidal thoughts reduces the overall correctness.\n",
            "    - Completeness: The response is somewhat complete in terms of intervention strategies but lacks the essential step of directly inquiring about suicidal thoughts, which is a critical part of the intervention process.\n",
            "    - Clarity: The response is clear and easy to understand, presenting the information in a straightforward manner.\n",
            "    - Conciseness: The response is concise, providing necessary information without superfluous details.\n",
            "\n",
            "### Overall Scores:\n",
            "- RAG Overall Score: 6\n"
          ]
        },
        {
          "output_type": "stream",
          "name": "stderr",
          "text": [
            "\rEvaluating responses:  18%|█▊        | 18/100 [00:59<06:28,  4.73s/sample]"
          ]
        },
        {
          "output_type": "stream",
          "name": "stdout",
          "text": [
            "Evaluation Output:\n",
            "Feedback:\n",
            "- RAG Response:\n",
            "    - Relevance: The response is highly relevant as it addresses the challenges faced by individuals with schizophrenia, directly aligning with the query.\n",
            "    - Semantic Similarity: The response captures a broader range of challenges compared to the reference answer, which focuses on socialization, employment, and daily routines. While it does not match the reference answer exactly, it conveys a similar intent.\n",
            "    - Accuracy: The information provided is accurate and reflects common challenges associated with schizophrenia.\n",
            "    - Factual Correctness: The facts presented are consistent with known issues faced by those with schizophrenia, such as difficulties in communication and social relationships.\n",
            "    - Completeness: The response is comprehensive, covering various challenges beyond those mentioned in the reference answer, thus providing a fuller picture of the difficulties faced.\n",
            "    - Clarity: The response is clear and easy to understand, effectively communicating the challenges without ambiguity.\n",
            "    - Conciseness: While the response is detailed, it could be considered slightly verbose. Some points could be streamlined for better conciseness.\n",
            "\n",
            "### Overall Scores:\n",
            "- RAG Overall Score: 8\n"
          ]
        },
        {
          "output_type": "stream",
          "name": "stderr",
          "text": [
            "\rEvaluating responses:  19%|█▉        | 19/100 [01:03<06:07,  4.54s/sample]"
          ]
        },
        {
          "output_type": "stream",
          "name": "stdout",
          "text": [
            "Evaluation Output:\n",
            "Feedback:\n",
            "- RAG Response:\n",
            "    - Relevance: The response is relevant as it directly addresses the differences between bulimia nervosa and binge eating disorder, which is the core of the query.\n",
            "    - Semantic Similarity: The response captures the intent of the reference answer well, highlighting the key difference of purging behaviors in bulimia nervosa versus binge eating disorder.\n",
            "    - Accuracy: The information presented is accurate; it correctly describes the behaviors associated with both disorders.\n",
            "    - Factual Correctness: The facts are consistent with established definitions of both disorders, thus maintaining factual correctness.\n",
            "    - Completeness: While the response covers the primary distinction, it could include more detail about the implications of these behaviors or the psychological aspects involved for greater completeness.\n",
            "    - Clarity: The response is clear and easy to understand, with no ambiguous language or complex phrasing.\n",
            "    - Conciseness: The response is concise, effectively conveying the necessary information without unnecessary elaboration.\n",
            "\n",
            "### Overall Scores:\n",
            "- RAG Overall Score: 8\n"
          ]
        },
        {
          "output_type": "stream",
          "name": "stderr",
          "text": [
            "\rEvaluating responses:  20%|██        | 20/100 [01:06<05:08,  3.85s/sample]"
          ]
        },
        {
          "output_type": "stream",
          "name": "stdout",
          "text": [
            "Evaluation Output:\n",
            "Feedback:\n",
            "- RAG Response:\n",
            "    - Relevance: The response is highly relevant as it directly addresses the query about the physical symptoms linked to panic disorder.\n",
            "    - Semantic Similarity: The response captures the essence of the reference answer but goes beyond it by providing additional symptoms, thus maintaining semantic similarity.\n",
            "    - Accuracy: The symptoms listed are accurate and commonly associated with panic disorder.\n",
            "    - Factual Correctness: The information presented is factually correct and aligns with known symptoms of panic disorder.\n",
            "    - Completeness: The response is complete as it lists multiple symptoms, providing a broader understanding than the reference answer.\n",
            "    - Clarity: The response is clear and easy to understand, listing symptoms in a straightforward manner.\n",
            "    - Conciseness: While the response is longer than the reference, it remains concise without unnecessary details.\n",
            "\n",
            "### Overall Scores:\n",
            "- RAG Overall Score: 9\n"
          ]
        },
        {
          "output_type": "stream",
          "name": "stderr",
          "text": [
            "\rEvaluating responses:  21%|██        | 21/100 [01:08<04:37,  3.52s/sample]"
          ]
        },
        {
          "output_type": "stream",
          "name": "stdout",
          "text": [
            "Evaluation Output:\n",
            "Feedback:\n",
            "- RAG Response:\n",
            "    - Relevance: The response effectively addresses the query about why panic attacks are frightening by discussing the emotional and physical sensations involved. However, it could be more focused on the core reasons rather than listing symptoms.\n",
            "    - Semantic Similarity: The response captures the essence of the reference answer by mentioning intense fear and physical symptoms. However, it elaborates more than the reference, which is less direct.\n",
            "    - Accuracy: The information provided is accurate regarding the nature of panic attacks and their effects on individuals.\n",
            "    - Factual Correctness: The response includes correct facts about panic attacks, aligning well with reliable information on the topic.\n",
            "    - Completeness: The response is thorough, covering a wide range of symptoms and feelings associated with panic attacks, which adds depth but may stray from the simplicity of the reference answer.\n",
            "    - Clarity: The response is clear and understandable, with a logical flow of ideas that helps convey the frightening nature of panic attacks.\n",
            "    - Conciseness: The response is somewhat verbose. While it provides detailed information, it could be more concise by summarizing the key points rather than listing many symptoms.\n",
            "\n",
            "### Overall Scores:\n",
            "- RAG Overall Score: 7\n"
          ]
        },
        {
          "output_type": "stream",
          "name": "stderr",
          "text": [
            "\rEvaluating responses:  22%|██▏       | 22/100 [01:11<04:15,  3.28s/sample]"
          ]
        },
        {
          "output_type": "stream",
          "name": "stdout",
          "text": [
            "Evaluation Output:\n",
            "Feedback:\n",
            "- RAG Response:\n",
            "    - Relevance: The response is partially relevant as it addresses the population targeted by the Zero Suicide framework, but it is too narrow as it only mentions adults 18 and older without acknowledging other populations that may be included.\n",
            "    - Semantic Similarity: The response captures some of the intent of the reference answer but lacks broader context. The reference answer indicates a focus on individuals across healthcare systems, which is not mentioned in the RAG response.\n",
            "    - Accuracy: The response is accurate in stating that the framework targets adults, but it is incomplete regarding the broader scope of the target population.\n",
            "    - Factual Correctness: The information provided is factually correct but does not encompass the full range of the Zero Suicide framework’s target populations.\n",
            "    - Completeness: The response lacks completeness as it omits critical information about other populations and the overarching goal of the framework, which involves reducing suicides across various healthcare settings.\n",
            "    - Clarity: The response is clear and easy to understand, but it could benefit from additional context.\n",
            "    - Conciseness: The response is concise; however, it sacrifices necessary detail for brevity.\n",
            "\n",
            "### Overall Scores:\n",
            "- RAG Overall Score: 5\n"
          ]
        },
        {
          "output_type": "stream",
          "name": "stderr",
          "text": [
            "\rEvaluating responses:  23%|██▎       | 23/100 [01:14<03:57,  3.09s/sample]"
          ]
        },
        {
          "output_type": "stream",
          "name": "stdout",
          "text": [
            "Evaluation Output:\n",
            "Feedback:\n",
            "- RAG Response:\n",
            "    - Relevance: The response is relevant as it directly addresses the relationship between insomnia, depression, and feelings of worthlessness, aligning well with the query.\n",
            "    - Semantic Similarity: The response captures the essence of the reference answer by discussing how depression affects sleep and emotional states, though it does not explicitly mention racing thoughts.\n",
            "    - Accuracy: The information presented is accurate, noting the bidirectional relationship between insomnia and depression, which is a well-established concept in psychology.\n",
            "    - Factual Correctness: The facts are consistent with established knowledge about depression and insomnia, and the mention of feelings of worthlessness is appropriate.\n",
            "    - Completeness: The response covers the main aspects of the query, including the interplay between insomnia, depression, and feelings of worthlessness, but could benefit from a more explicit connection to racing thoughts.\n",
            "    - Clarity: The response is clear and easy to understand, effectively communicating the relationship between the concepts.\n",
            "    - Conciseness: The response is mostly concise, though it could be slightly more succinct by eliminating some redundancy in phrases like \"can cause insomnia, and vice versa.\"\n",
            "\n",
            "### Overall Scores:\n",
            "- RAG Overall Score: 8\n"
          ]
        },
        {
          "output_type": "stream",
          "name": "stderr",
          "text": [
            "\rEvaluating responses:  24%|██▍       | 24/100 [01:16<03:41,  2.91s/sample]"
          ]
        },
        {
          "output_type": "stream",
          "name": "stdout",
          "text": [
            "Evaluation Output:\n",
            "Feedback:\n",
            "- RAG Response:\n",
            "    - Relevance: The response is highly relevant as it directly addresses the question about recognizing suicide warning signs in adults, providing a list of behaviors that indicate potential risk.\n",
            "    - Semantic Similarity: The response captures the essence of the reference answer by mentioning similar warning signs, though it is more extensive than the reference.\n",
            "    - Accuracy: The information provided in the response is accurate and aligns well with common knowledge regarding suicide warning signs.\n",
            "    - Factual Correctness: The facts are consistent with established knowledge on the topic, making the response factually correct.\n",
            "    - Completeness: The response is quite complete, listing multiple warning signs, which offers a broader understanding than the reference answer.\n",
            "    - Clarity: The response is clear and straightforward, making it easy to understand the warning signs listed.\n",
            "    - Conciseness: While the response is informative, it is less concise than the reference answer due to the length of the list, which could be streamlined.\n",
            "\n",
            "### Overall Scores:\n",
            "- RAG Overall Score: 8\n"
          ]
        },
        {
          "output_type": "stream",
          "name": "stderr",
          "text": [
            "\rEvaluating responses:  25%|██▌       | 25/100 [01:19<03:34,  2.86s/sample]"
          ]
        },
        {
          "output_type": "stream",
          "name": "stdout",
          "text": [
            "Evaluation Output:\n",
            "Feedback:\n",
            "- RAG Response:\n",
            "    - Relevance: The response effectively addresses the query by listing physical symptoms associated with bulimia nervosa. It directly answers the question, making it relevant.\n",
            "    - Semantic Similarity: The response captures the essence of the reference answer but includes additional details. While it differs in phrasing, the core symptoms mentioned are consistent with the reference.\n",
            "    - Accuracy: The information provided is accurate regarding the symptoms of bulimia nervosa, including those related to oral health and dehydration.\n",
            "    - Factual Correctness: The facts presented are consistent with known medical information about bulimia nervosa and its physical symptoms, confirming the response's reliability.\n",
            "    - Completeness: The response is more comprehensive than the reference answer, providing additional symptoms and potential health complications, which enhances its completeness.\n",
            "    - Clarity: The response is clearly articulated, making it easy to understand the symptoms and their implications without confusion.\n",
            "    - Conciseness: While the response is somewhat longer than necessary, it remains focused on the topic and avoids unnecessary elaboration, though it could be slightly more concise.\n",
            "\n",
            "### Overall Scores:\n",
            "- RAG Overall Score: 9\n"
          ]
        },
        {
          "output_type": "stream",
          "name": "stderr",
          "text": [
            "\rEvaluating responses:  26%|██▌       | 26/100 [01:22<03:28,  2.82s/sample]"
          ]
        },
        {
          "output_type": "stream",
          "name": "stdout",
          "text": [
            "Evaluation Output:\n",
            "Feedback:\n",
            "- RAG Response:\n",
            "    - Relevance: The response is somewhat relevant as it addresses the concern of parents regarding their child's mental health, but it focuses too heavily on specific behavioral indicators rather than providing a broader range of resources available to parents.\n",
            "    - Semantic Similarity: The response does not capture the intent of the reference answer effectively. It diverges significantly by emphasizing specific behaviors rather than listing resources.\n",
            "    - Accuracy: The information provided about behaviors is accurate but does not directly address the query about resources for parents.\n",
            "    - Factual Correctness: The response is factually correct regarding the behaviors mentioned, but it fails to present the intended resources clearly.\n",
            "    - Completeness: The response lacks completeness as it does not mention any specific resources like crisis helplines or healthcare providers, which are essential for addressing the query.\n",
            "    - Clarity: While the response is clear in describing behaviors, it is not clear in addressing the resources available for parents, which is the main focus of the query.\n",
            "    - Conciseness: The response is not concise; it includes excessive detail about behaviors that are not directly relevant to the query about resources.\n",
            "\n",
            "### Overall Scores:\n",
            "- RAG Overall Score: 4\n"
          ]
        },
        {
          "output_type": "stream",
          "name": "stderr",
          "text": [
            "\rEvaluating responses:  27%|██▋       | 27/100 [01:24<03:12,  2.64s/sample]"
          ]
        },
        {
          "output_type": "stream",
          "name": "stdout",
          "text": [
            "Evaluation Output:\n",
            "Feedback:\n",
            "- RAG Response:\n",
            "    - Relevance: The response directly addresses the query about the symptoms of Generalized Anxiety Disorder, listing multiple relevant symptoms. This is a strength.\n",
            "    - Semantic Similarity: The response captures the essence of the reference answer but provides more symptoms. While it maintains the meaning, it does not closely mirror the phrasing of the reference.\n",
            "    - Accuracy: The symptoms listed are accurate and align with recognized criteria for Generalized Anxiety Disorder.\n",
            "    - Factual Correctness: All symptoms mentioned are factually correct and consistent with established medical knowledge about Generalized Anxiety Disorder.\n",
            "    - Completeness: The response is thorough, covering a wide range of symptoms, which adds to its completeness compared to the reference answer.\n",
            "    - Clarity: The response is clear and easy to understand, presenting the symptoms in a straightforward manner.\n",
            "    - Conciseness: While the list is comprehensive, it could be seen as slightly lengthy compared to the reference answer, which is more concise.\n",
            "\n",
            "### Overall Scores:\n",
            "- RAG Overall Score: 8\n"
          ]
        },
        {
          "output_type": "stream",
          "name": "stderr",
          "text": [
            "\rEvaluating responses:  28%|██▊       | 28/100 [01:26<03:02,  2.54s/sample]"
          ]
        },
        {
          "output_type": "stream",
          "name": "stdout",
          "text": [
            "Evaluation Output:\n",
            "Feedback:\n",
            "- RAG Response:\n",
            "    - Relevance: The response is relevant as it discusses the treatment of schizophrenia, focusing on antipsychotic medications and other therapeutic options.\n",
            "    - Semantic Similarity: The response captures some of the key ideas from the reference answer, such as the use of antipsychotic medications, but it lacks mention of individual therapy and family support.\n",
            "    - Accuracy: The information provided about antipsychotic medications and Electroconvulsive therapy (ECT) is accurate and reflects current treatment practices.\n",
            "    - Factual Correctness: The facts presented are consistent with reliable sources regarding the treatment of schizophrenia, particularly regarding medication and ECT.\n",
            "    - Completeness: The response is incomplete as it does not mention individual therapy or family support, which are important components of effective treatment.\n",
            "    - Clarity: The response is clear and easy to understand, effectively communicating the treatment options available.\n",
            "    - Conciseness: The response is concise, providing relevant information without unnecessary details.\n",
            "\n",
            "### Overall Scores:\n",
            "- RAG Overall Score: 7\n"
          ]
        },
        {
          "output_type": "stream",
          "name": "stderr",
          "text": [
            "\rEvaluating responses:  29%|██▉       | 29/100 [01:28<02:49,  2.39s/sample]"
          ]
        },
        {
          "output_type": "stream",
          "name": "stdout",
          "text": [
            "Evaluation Output:\n",
            "Feedback:\n",
            "- RAG Response:\n",
            "    - Relevance: The response effectively addresses the query by distinguishing between panic disorder and occasional panic attacks, which is the core of the question.\n",
            "    - Semantic Similarity: The response captures the essence of the reference answer, although it uses slightly different phrasing and expands on the concept of avoidance.\n",
            "    - Accuracy: The information presented is accurate, clearly stating that panic disorder involves repeated panic attacks while occasional panic attacks do not necessarily lead to a disorder.\n",
            "    - Factual Correctness: The facts are consistent with established definitions of panic disorder and occasional panic attacks, aligning well with the reference answer.\n",
            "    - Completeness: The response is mostly complete, as it explains the relationship between panic disorder and occasional panic attacks, but it could briefly mention the situational nature of occasional panic attacks as noted in the reference answer.\n",
            "    - Clarity: The response is clear and easy to understand, with well-structured sentences that convey the necessary information without confusion.\n",
            "    - Conciseness: The response is generally concise, but it could be slightly more succinct by removing some redundancy regarding the worry about future attacks.\n",
            "\n",
            "### Overall Scores:\n",
            "- RAG Overall Score: 8\n"
          ]
        },
        {
          "output_type": "stream",
          "name": "stderr",
          "text": [
            "\rEvaluating responses:  30%|███       | 30/100 [01:31<03:04,  2.63s/sample]"
          ]
        },
        {
          "output_type": "stream",
          "name": "stdout",
          "text": [
            "Evaluation Output:\n",
            "Feedback:\n",
            "- RAG Response:\n",
            "    - Relevance: The response is somewhat relevant as it discusses behavioral analysis and Dialectical Behavior Therapy (DBT) in the context of psychotherapy for eating disorders. However, it does not directly address the broader aspects of how psychotherapy aids recovery, which makes it less relevant to the query.\n",
            "    - Semantic Similarity: The response captures some elements related to emotional issues and symptom management, but it does not align closely with the succinctness of the reference answer, which emphasizes these aspects more clearly.\n",
            "    - Accuracy: The mention of behavioral analysis and DBT is accurate in the context of psychotherapy for eating disorders. However, the response could benefit from a clearer connection to how these methods specifically aid recovery.\n",
            "    - Factual Correctness: The information about DBT is factually correct and supported by evidence, which is a strength of the response. However, it lacks a direct connection to the overall recovery process.\n",
            "    - Completeness: The response does not fully cover essential aspects of how psychotherapy aids recovery. It lacks a discussion of emotional issues and symptom management in a comprehensive manner.\n",
            "    - Clarity: The response is somewhat clear, but the phrasing is slightly convoluted and could be simplified for better understanding. The use of \"[variable]\" is ambiguous and detracts from clarity.\n",
            "    - Conciseness: The response is relatively concise but could be more direct in addressing the query without extraneous details about behavioral analysis.\n",
            "\n",
            "### Overall Scores:\n",
            "- RAG Overall Score: 5\n"
          ]
        },
        {
          "output_type": "stream",
          "name": "stderr",
          "text": [
            "\rEvaluating responses:  31%|███       | 31/100 [01:36<03:32,  3.08s/sample]"
          ]
        },
        {
          "output_type": "stream",
          "name": "stdout",
          "text": [
            "Evaluation Output:\n",
            "Feedback:\n",
            "- RAG Response:\n",
            "    - Relevance: The response is relevant as it addresses the query about treatments available for anxiety disorders, listing appropriate options.\n",
            "    - Semantic Similarity: The response captures the overall intent of the reference answer but includes more specific treatments, which slightly diverges from the broader phrasing of the reference.\n",
            "    - Accuracy: The information provided about treatments is accurate and aligns with common knowledge regarding anxiety disorder treatments.\n",
            "    - Factual Correctness: The treatments mentioned are factually correct, though the inclusion of PTSD treatments (Cognitive Processing Therapy and EMDR) may be seen as tangential.\n",
            "    - Completeness: The response is fairly complete, listing multiple treatment options, but could include additional stress management techniques mentioned in the reference answer for thoroughness.\n",
            "    - Clarity: The response is clear and easy to understand, with a logical structure in listing the treatments.\n",
            "    - Conciseness: The response is concise, but the mention of PTSD treatments could be considered unnecessary for the specific query about anxiety disorders.\n",
            "\n",
            "### Overall Scores:\n",
            "- RAG Overall Score: 7\n"
          ]
        },
        {
          "output_type": "stream",
          "name": "stderr",
          "text": [
            "\rEvaluating responses:  32%|███▏      | 32/100 [01:38<03:23,  2.99s/sample]"
          ]
        },
        {
          "output_type": "stream",
          "name": "stdout",
          "text": [
            "Evaluation Output:\n",
            "Feedback:\n",
            "- RAG Response:\n",
            "    - Relevance: The response is relevant as it addresses the role of CBT in managing depression and self-esteem issues, highlighting the impact of thought processes on beliefs and behaviors.\n",
            "    - Semantic Similarity: The response captures the essence of the reference answer, though it uses different phrasing and adds some details that are not present in the reference.\n",
            "    - Accuracy: The information provided is accurate regarding the principles of CBT and its application to depression and self-esteem.\n",
            "    - Factual Correctness: The facts presented align well with established knowledge about CBT and its functions, making it factually correct.\n",
            "    - Completeness: The response is fairly complete, covering the main aspects of CBT's role but could benefit from a more explicit mention of its effectiveness in treating depression and self-esteem issues.\n",
            "    - Clarity: The response is generally clear, but some sentences are a bit convoluted, which could hinder understanding for some readers.\n",
            "    - Conciseness: The response is somewhat lengthy and could be more concise by eliminating redundant phrases and focusing on the key points.\n",
            "\n",
            "### Overall Scores:\n",
            "- RAG Overall Score: 7\n"
          ]
        },
        {
          "output_type": "stream",
          "name": "stderr",
          "text": [
            "\rEvaluating responses:  33%|███▎      | 33/100 [01:43<03:54,  3.50s/sample]"
          ]
        },
        {
          "output_type": "stream",
          "name": "stdout",
          "text": [
            "Evaluation Output:\n",
            "Feedback:\n",
            "- RAG Response:\n",
            "    - Relevance: The response partially addresses the query by mentioning suicide risk, which is related to self-harm. However, it lacks broader coverage of other health risks associated with self-harm, such as infections or injuries, making it only somewhat relevant.\n",
            "    - Semantic Similarity: The response captures some aspects of the reference answer's intent, focusing on severe consequences of self-harm. However, it does not align closely with the reference answer's mention of infections and scars, which are also significant risks.\n",
            "    - Accuracy: The information about the risk of suicide is accurate; however, it does not encompass the full range of health risks associated with self-harm as indicated in the reference answer.\n",
            "    - Factual Correctness: The statement regarding the risk of suicide is factually correct. However, it fails to mention other important health risks that are also factual.\n",
            "    - Completeness: The response is incomplete, as it only addresses one aspect of self-harm (suicide risk) and omits other critical risks such as infections and permanent injuries.\n",
            "    - Clarity: The response is clear in its wording and intent, making it easy to understand the point being made about suicide risk.\n",
            "    - Conciseness: The response is concise and avoids unnecessary detail, but this comes at the cost of completeness, as it does not provide a full picture of the health risks.\n",
            "\n",
            "### Overall Scores:\n",
            "- RAG Overall Score: 4\n"
          ]
        },
        {
          "output_type": "stream",
          "name": "stderr",
          "text": [
            "\rEvaluating responses:  34%|███▍      | 34/100 [01:45<03:22,  3.07s/sample]"
          ]
        },
        {
          "output_type": "stream",
          "name": "stdout",
          "text": [
            "Evaluation Output:\n",
            "Feedback:\n",
            "- RAG Response:\n",
            "    - Relevance: The response is relevant as it addresses the causes of social anxiety disorder, which is the main focus of the query.\n",
            "    - Semantic Similarity: The response captures the essence of the reference answer but lacks some of the precise phrasing and structure, leading to a slightly lower semantic similarity.\n",
            "    - Accuracy: The response is accurate in identifying genetics and learned behavior as potential causes of social anxiety disorder.\n",
            "    - Factual Correctness: The information provided is factually correct and aligns with common understandings of the disorder's causes.\n",
            "    - Completeness: The response is somewhat complete but could benefit from a more comprehensive explanation of the causes, as it only mentions two factors.\n",
            "    - Clarity: The response is clear and easy to understand, though the phrasing could be more polished.\n",
            "    - Conciseness: The response is concise, but the phrase \"It’s not fully known what are the specific causes\" could be omitted for greater succinctness.\n",
            "\n",
            "### Overall Scores:\n",
            "- RAG Overall Score: 7\n"
          ]
        },
        {
          "output_type": "stream",
          "name": "stderr",
          "text": [
            "\rEvaluating responses:  35%|███▌      | 35/100 [01:51<04:22,  4.04s/sample]"
          ]
        },
        {
          "output_type": "stream",
          "name": "stdout",
          "text": [
            "Evaluation Output:\n",
            "Feedback:\n",
            "- RAG Response:\n",
            "    - Relevance: The response is relevant as it describes the Four-Fold Breath technique in relation to the query. However, it could be more directly tied to the relaxation and sleep benefits mentioned in the reference.\n",
            "    - Semantic Similarity: The response captures some aspects of the reference answer but lacks the specific mention of its use for relaxation and sleep, which is a key point in the reference.\n",
            "    - Accuracy: The information about the technique's breathing counts and practice recommendations is accurate. However, it misses the broader context of its purpose.\n",
            "    - Factual Correctness: The details provided about the breathing technique are factually correct, but the omission of its primary purpose (relaxation and aiding sleep) detracts from its overall correctness in context.\n",
            "    - Completeness: The response provides a good description of how to perform the technique but omits critical information about its intended benefits, making it less complete than the reference.\n",
            "    - Clarity: The response is clear and easy to understand, with straightforward language and structure.\n",
            "    - Conciseness: The response is concise and does not include unnecessary details, though it could be slightly more focused on the key aspects of the technique's purpose.\n",
            "\n",
            "### Overall Scores:\n",
            "- RAG Overall Score: 6\n"
          ]
        },
        {
          "output_type": "stream",
          "name": "stderr",
          "text": [
            "\rEvaluating responses:  36%|███▌      | 36/100 [01:54<03:58,  3.73s/sample]"
          ]
        },
        {
          "output_type": "stream",
          "name": "stdout",
          "text": [
            "Evaluation Output:\n",
            "Feedback:\n",
            "- RAG Response:\n",
            "    - Relevance: The response is relevant as it addresses the influence of family history on mental health, aligning with the query's intent.\n",
            "    - Semantic Similarity: The response captures the essence of the reference answer but does not convey the same succinctness and directness, making it somewhat less similar in meaning.\n",
            "    - Accuracy: The information presented is accurate; it correctly identifies the link between family history and mental health conditions.\n",
            "    - Factual Correctness: The response is factually correct, as it reflects a well-established understanding of how family history can impact mental health.\n",
            "    - Completeness: The response is somewhat complete but lacks depth; it could benefit from further elaboration on how family history influences mental health.\n",
            "    - Clarity: The response is clear and understandable, though it could be more concise.\n",
            "    - Conciseness: The response is slightly verbose; it could be more succinct while still delivering the core message.\n",
            "\n",
            "### Overall Scores:\n",
            "- RAG Overall Score: 7\n"
          ]
        },
        {
          "output_type": "stream",
          "name": "stderr",
          "text": [
            "\rEvaluating responses:  37%|███▋      | 37/100 [01:57<03:41,  3.51s/sample]"
          ]
        },
        {
          "output_type": "stream",
          "name": "stdout",
          "text": [
            "Evaluation Output:\n",
            "Feedback:\n",
            "- RAG Response:\n",
            "    - Relevance: The response is highly relevant as it directly addresses how phobias affect daily life, providing specific examples that illustrate the impact of phobias on routines and social interactions.\n",
            "    - Semantic Similarity: The response captures the essence of the reference answer, expanding on the idea of avoidance but maintaining the core meaning regarding the limitations phobias impose on daily activities.\n",
            "    - Accuracy: The information presented is accurate, reflecting a correct understanding of how phobias influence behavior and lifestyle choices.\n",
            "    - Factual Correctness: The examples given are logically sound and consistent with common knowledge about phobias and their effects on individuals.\n",
            "    - Completeness: The response is complete, covering various aspects of how phobias can affect different areas of life, including social interactions and quality of life.\n",
            "    - Clarity: The response is clear and easy to understand, with straightforward language and a logical flow of ideas.\n",
            "    - Conciseness: While the response is somewhat longer than the reference answer, it effectively balances detail with relevance, avoiding unnecessary verbosity.\n",
            "\n",
            "### Overall Scores:\n",
            "- RAG Overall Score: 9\n"
          ]
        },
        {
          "output_type": "stream",
          "name": "stderr",
          "text": [
            "\rEvaluating responses:  38%|███▊      | 38/100 [02:00<03:24,  3.30s/sample]"
          ]
        },
        {
          "output_type": "stream",
          "name": "stdout",
          "text": [
            "Evaluation Output:\n",
            "Feedback:\n",
            "- RAG Response:\n",
            "    - Relevance: The response is relevant as it directly addresses how NCCA temperament therapy can benefit individuals, aligning with the query's intent.\n",
            "    - Semantic Similarity: The response captures the essence of the reference answer but is more detailed. It conveys a similar meaning regarding self-acceptance and personal growth.\n",
            "    - Accuracy: The information presented about NCCA temperament therapy aligns with general understanding, but it could be more explicitly connected to specific benefits.\n",
            "    - Factual Correctness: The claims made in the response appear to be factually correct, as they align with common interpretations of temperament therapy.\n",
            "    - Completeness: The response provides a good overview of the benefits but could include more specific examples or outcomes to enhance completeness.\n",
            "    - Clarity: The response is clear and easy to understand, effectively communicating the main ideas without confusion.\n",
            "    - Conciseness: The response is slightly wordy, particularly the phrase \"allowing them to become all that God intended,\" which could be simplified to improve conciseness.\n",
            "\n",
            "### Overall Scores:\n",
            "- RAG Overall Score: 8\n"
          ]
        },
        {
          "output_type": "stream",
          "name": "stderr",
          "text": [
            "\rEvaluating responses:  39%|███▉      | 39/100 [02:03<03:17,  3.24s/sample]"
          ]
        },
        {
          "output_type": "stream",
          "name": "stdout",
          "text": [
            "Evaluation Output:\n",
            "Feedback:\n",
            "- RAG Response:\n",
            "    - Relevance: The response is relevant as it discusses the connection between physical health and depression, addressing the query effectively.\n",
            "    - Semantic Similarity: The response captures some aspects of the reference answer, particularly the idea that physical health can influence depression, but it lacks the specific mention of \"physical structures\" not functioning well.\n",
            "    - Accuracy: The information provided is generally accurate, noting that trauma, life changes, stress, and certain illnesses can affect mental health.\n",
            "    - Factual Correctness: The response correctly identifies factors that may contribute to depression, aligning with established understanding in psychology and medicine.\n",
            "    - Completeness: While the response covers several factors linking physical health to depression, it could be more complete by discussing how addressing physical health can alleviate symptoms, as mentioned in the reference answer.\n",
            "    - Clarity: The response is clear and easy to understand, presenting the information in a straightforward manner.\n",
            "    - Conciseness: The response is concise, providing necessary details without excessive elaboration.\n",
            "\n",
            "### Overall Scores:\n",
            "- RAG Overall Score: 7\n"
          ]
        },
        {
          "output_type": "stream",
          "name": "stderr",
          "text": [
            "\rEvaluating responses:  40%|████      | 40/100 [02:06<02:58,  2.98s/sample]"
          ]
        },
        {
          "output_type": "stream",
          "name": "stdout",
          "text": [
            "Evaluation Output:\n",
            "Feedback:\n",
            "- RAG Response:\n",
            "    - Relevance: The response is relevant as it addresses how lack of sunlight contributes to Seasonal Affective Disorder (SAD).\n",
            "    - Semantic Similarity: The response captures the essence of the reference answer but does not explicitly mention melatonin, which is a key component in the reference.\n",
            "    - Accuracy: The information about circadian rhythms and serotonin is accurate and relevant to the question about SAD.\n",
            "    - Factual Correctness: The facts presented are consistent with established knowledge about the effects of sunlight on mood and sleep.\n",
            "    - Completeness: The response lacks completeness as it does not mention melatonin, which is an important aspect of the relationship between sunlight and mood.\n",
            "    - Clarity: The response is clear and easy to understand, though it could be slightly more precise in its wording.\n",
            "    - Conciseness: The response is concise and gets to the point without unnecessary details.\n",
            "\n",
            "### Overall Scores:\n",
            "- RAG Overall Score: 7\n"
          ]
        },
        {
          "output_type": "stream",
          "name": "stderr",
          "text": [
            "\rEvaluating responses:  41%|████      | 41/100 [02:08<02:47,  2.84s/sample]"
          ]
        },
        {
          "output_type": "stream",
          "name": "stdout",
          "text": [
            "Evaluation Output:\n",
            "Feedback:\n",
            "- RAG Response:\n",
            "    - Relevance: The response is relevant as it addresses social withdrawal and its implications for youth, but it goes beyond the specific concern of why it is a concern, which could be more directly stated.\n",
            "    - Semantic Similarity: The response captures some of the meaning of the reference answer, particularly the emotional aspects of social withdrawal, but it does not directly reflect the idea of hopelessness or distress.\n",
            "    - Accuracy: The information provided is accurate in describing social withdrawal as a coping mechanism and the potential underlying causes, aligning well with psychological understanding.\n",
            "    - Factual Correctness: The facts presented are consistent with psychological principles regarding social withdrawal, making the response factually correct.\n",
            "    - Completeness: The response is relatively complete, addressing various aspects of social withdrawal, but it could be more focused on why it is a concern rather than just describing it.\n",
            "    - Clarity: The response is clear and easy to understand, with a logical flow that makes the points easy to follow.\n",
            "    - Conciseness: While the response is clear, it is somewhat lengthy and could be more concise by eliminating some of the elaboration on underlying causes.\n",
            "\n",
            "### Overall Scores:\n",
            "- RAG Overall Score: 7\n"
          ]
        },
        {
          "output_type": "stream",
          "name": "stderr",
          "text": [
            "\rEvaluating responses:  42%|████▏     | 42/100 [02:10<02:32,  2.63s/sample]"
          ]
        },
        {
          "output_type": "stream",
          "name": "stdout",
          "text": [
            "Evaluation Output:\n",
            "Feedback:\n",
            "- RAG Response:\n",
            "    - Relevance: The response is relevant as it addresses the treatment of ADHD, which is the focus of the query.\n",
            "    - Semantic Similarity: The response captures the intent of the reference answer but lacks some specific terms like \"behavior management strategies,\" which are important in the context of ADHD treatment.\n",
            "    - Accuracy: The information provided is accurate, as it lists valid treatment options for ADHD.\n",
            "    - Factual Correctness: The facts presented align with common knowledge about ADHD treatment options, ensuring consistency with reliable sources.\n",
            "    - Completeness: The response is somewhat incomplete; while it mentions various treatment methods, it does not detail behavior management strategies, which are significant in ADHD treatment.\n",
            "    - Clarity: The response is clear and understandable, making it easy for the reader to grasp the treatment options mentioned.\n",
            "    - Conciseness: The response is concise, providing necessary information without unnecessary elaboration.\n",
            "\n",
            "### Overall Scores:\n",
            "- RAG Overall Score: 7\n"
          ]
        },
        {
          "output_type": "stream",
          "name": "stderr",
          "text": [
            "\rEvaluating responses:  43%|████▎     | 43/100 [02:12<02:13,  2.34s/sample]"
          ]
        },
        {
          "output_type": "stream",
          "name": "stdout",
          "text": [
            "Evaluation Output:\n",
            "Feedback:\n",
            "- RAG Response:\n",
            "    - Relevance: The response is relevant as it addresses the importance of early treatment for schizophrenia directly.\n",
            "    - Semantic Similarity: The meaning is similar to the reference answer, though it could be more closely aligned in terms of phrasing and structure.\n",
            "    - Accuracy: The information provided is accurate regarding the benefits of early treatment for schizophrenia.\n",
            "    - Factual Correctness: The facts presented are consistent with general knowledge about schizophrenia and early intervention.\n",
            "    - Completeness: The response is somewhat complete but lacks specific details on how early treatment improves recovery and quality of life.\n",
            "    - Clarity: The response is clear and easy to understand, effectively communicating the main idea.\n",
            "    - Conciseness: The response is concise, but it could be slightly more detailed without losing brevity.\n",
            "\n",
            "### Overall Scores:\n",
            "- RAG Overall Score: 7\n"
          ]
        },
        {
          "output_type": "stream",
          "name": "stderr",
          "text": [
            "\rEvaluating responses:  44%|████▍     | 44/100 [02:14<02:10,  2.33s/sample]"
          ]
        },
        {
          "output_type": "stream",
          "name": "stdout",
          "text": [
            "Evaluation Output:\n",
            "Feedback:\n",
            "- RAG Response:\n",
            "    - Relevance: The response effectively addresses the query by listing signs of binge eating disorder, which is directly relevant to the question asked.\n",
            "    - Semantic Similarity: The response captures the meaning of the reference answer well, though it includes additional details that are not present in the reference.\n",
            "    - Accuracy: The information provided about binge eating disorder is accurate and aligns with established understanding of the disorder.\n",
            "    - Factual Correctness: The facts presented are consistent with reliable sources regarding binge eating disorder and accurately describe its signs.\n",
            "    - Completeness: The response is complete as it covers several signs of binge eating disorder, but it could have been more concise by omitting some repetitive elements.\n",
            "    - Clarity: The response is clear and easy to understand, with no ambiguous language.\n",
            "    - Conciseness: The response is somewhat lengthy and could be more concise; some points are repeated or elaborated on unnecessarily.\n",
            "\n",
            "### Overall Scores:\n",
            "- RAG Overall Score: 8\n"
          ]
        },
        {
          "output_type": "stream",
          "name": "stderr",
          "text": [
            "\rEvaluating responses:  45%|████▌     | 45/100 [02:17<02:07,  2.32s/sample]"
          ]
        },
        {
          "output_type": "stream",
          "name": "stdout",
          "text": [
            "Evaluation Output:\n",
            "Feedback:\n",
            "- RAG Response:\n",
            "    - Relevance: The response is relevant as it directly addresses the impact of binge eating disorder on mental health, aligning well with the query.\n",
            "    - Semantic Similarity: The response captures the essence of the reference answer, mentioning feelings of guilt and shame, although it elaborates further with additional details.\n",
            "    - Accuracy: The information presented is accurate and logically sound regarding the mental health implications of binge eating disorder.\n",
            "    - Factual Correctness: The facts are consistent with what is known about binge eating disorder and its effects on mental health, aligning with recognized psychological impacts.\n",
            "    - Completeness: The response is thorough, covering various aspects of how binge eating disorder affects mental health, including feelings of depression and anxiety, which enhances its completeness.\n",
            "    - Clarity: The response is clear and easy to understand, with straightforward language that effectively communicates the message.\n",
            "    - Conciseness: While the response is slightly longer than necessary, it remains focused on the topic without excessive detail, though it could be trimmed for brevity.\n",
            "\n",
            "### Overall Scores:\n",
            "- RAG Overall Score: 8\n"
          ]
        },
        {
          "output_type": "stream",
          "name": "stderr",
          "text": [
            "\rEvaluating responses:  46%|████▌     | 46/100 [02:24<03:25,  3.81s/sample]"
          ]
        },
        {
          "output_type": "stream",
          "name": "stdout",
          "text": [
            "Evaluation Output:\n",
            "Feedback:\n",
            "- RAG Response:\n",
            "    - Relevance: The response directly addresses the query about the goal of the Garrett Lee Smith Campus program, highlighting its focus on mental health services for students, which is relevant to the question.\n",
            "    - Semantic Similarity: The response captures the essence of the reference answer, emphasizing the enhancement of mental health services and the reduction of suicide risks, though it elaborates more extensively.\n",
            "    - Accuracy: The information provided is accurate and aligns with the known objectives of the Garrett Lee Smith Campus program, particularly regarding mental health and suicide prevention.\n",
            "    - Factual Correctness: The details about supporting students at risk for various mental health issues are factually correct and consistent with the program's goals.\n",
            "    - Completeness: The response is comprehensive, covering multiple facets of the program's goals, including various mental health conditions and promoting help-seeking behavior.\n",
            "    - Clarity: The response is clear and well-structured, making it easy to understand the program's goals without ambiguity.\n",
            "    - Conciseness: While the response is thorough, it could be considered slightly verbose. A more concise version might focus on the key elements without additional details.\n",
            "\n",
            "### Overall Scores:\n",
            "- RAG Overall Score: 8\n"
          ]
        },
        {
          "output_type": "stream",
          "name": "stderr",
          "text": [
            "\rEvaluating responses:  47%|████▋     | 47/100 [02:26<02:56,  3.33s/sample]"
          ]
        },
        {
          "output_type": "stream",
          "name": "stdout",
          "text": [
            "Evaluation Output:\n",
            "Feedback:\n",
            "- RAG Response:\n",
            "    - Relevance: The response effectively addresses the query by detailing how obsessive-compulsive disorder (OCD) manifests through behaviors and emotional responses, making it relevant to the question asked.\n",
            "    - Semantic Similarity: The RAG response captures the essence of the reference answer by mentioning both obsessions and compulsions, although it does not explicitly mention \"obsessions\" as the reference does.\n",
            "    - Accuracy: The information provided about compulsive behaviors and emotional responses is accurate and aligns with common understandings of OCD.\n",
            "    - Factual Correctness: The facts presented are consistent with reliable sources on OCD and accurately reflect the disorder's symptoms.\n",
            "    - Completeness: The response covers several manifestations of OCD, including both compulsions and emotional responses, making it more comprehensive than the reference answer.\n",
            "    - Clarity: The response is clear and straightforward, making it easy to understand the manifestations of OCD.\n",
            "    - Conciseness: While the response is informative, it could be slightly more concise by reducing some redundancy in listing behaviors.\n",
            "\n",
            "### Overall Scores:\n",
            "- RAG Overall Score: 8\n"
          ]
        },
        {
          "output_type": "stream",
          "name": "stderr",
          "text": [
            "\rEvaluating responses:  48%|████▊     | 48/100 [02:29<02:42,  3.12s/sample]"
          ]
        },
        {
          "output_type": "stream",
          "name": "stdout",
          "text": [
            "Evaluation Output:\n",
            "Feedback:\n",
            "- RAG Response:\n",
            "    - Relevance: The response is relevant as it addresses the query about resources for self-harm prevention and provides specific examples. However, it could more explicitly connect these resources to the prevention of self-harm rather than just listing them.\n",
            "    - Semantic Similarity: The response does not capture the essence of the reference answer, which focuses on specialized programs and crisis helplines. The RAG response is broader and less aligned with the specific intent of the reference.\n",
            "    - Accuracy: The information provided is accurate and aligns with known resources for self-harm prevention. However, it lacks a direct mention of crisis helplines, which are crucial for immediate support.\n",
            "    - Factual Correctness: The facts presented are correct and sourced from reputable organizations, making the information reliable.\n",
            "    - Completeness: The response is fairly complete, listing various resources; however, it misses mentioning the importance of crisis intervention and specific helplines, which are critical aspects of self-harm prevention.\n",
            "    - Clarity: The response is clear and easy to understand, with no ambiguous language. The structure is logical, making it accessible for readers.\n",
            "    - Conciseness: The response is somewhat lengthy and could be more concise. There are phrases that could be eliminated without losing essential information, such as \"Furthermore, there are many educational resources,\" which is vague.\n",
            "\n",
            "### Overall Scores:\n",
            "- RAG Overall Score: 7\n"
          ]
        },
        {
          "output_type": "stream",
          "name": "stderr",
          "text": [
            "\rEvaluating responses:  49%|████▉     | 49/100 [02:31<02:31,  2.97s/sample]"
          ]
        },
        {
          "output_type": "stream",
          "name": "stdout",
          "text": [
            "Evaluation Output:\n",
            "Feedback:\n",
            "- RAG Response:\n",
            "    - Relevance: The response effectively addresses the query by discussing the community's role in suicide prevention, highlighting various community sectors involved, which is pertinent to the question.\n",
            "    - Semantic Similarity: The response captures the essence of the reference answer, emphasizing community support and resources, although it expands on this idea in more detail.\n",
            "    - Accuracy: The information provided is accurate, as it reflects the collaborative nature of suicide prevention within communities.\n",
            "    - Factual Correctness: The response mentions organizations like SAMHSA's Suicide Prevention Resource Center, which is a reliable source, thus maintaining factual correctness.\n",
            "    - Completeness: The response covers multiple aspects of community responsibility in suicide prevention, making it more complete than the reference answer, which is quite brief.\n",
            "    - Clarity: The response is clear and easy to understand, presenting ideas in a logical manner.\n",
            "    - Conciseness: While the response is somewhat longer than the reference answer, it remains focused and does not contain unnecessary details, striking a good balance between detail and brevity.\n",
            "\n",
            "### Overall Scores:\n",
            "- RAG Overall Score: 9\n"
          ]
        },
        {
          "output_type": "stream",
          "name": "stderr",
          "text": [
            "\rEvaluating responses:  50%|█████     | 50/100 [02:34<02:20,  2.82s/sample]"
          ]
        },
        {
          "output_type": "stream",
          "name": "stdout",
          "text": [
            "Evaluation Output:\n",
            "Feedback:\n",
            "- RAG Response:\n",
            "    - Relevance: The response is relevant as it directly addresses the symptoms of schizophrenia, which is the main focus of the query.\n",
            "    - Semantic Similarity: The RAG response captures the essence of the reference answer, mentioning similar symptoms, but it includes additional details that slightly diverge from the succinctness of the reference.\n",
            "    - Accuracy: The response accurately describes symptoms associated with schizophrenia, aligning well with established knowledge on the disorder.\n",
            "    - Factual Correctness: The information presented is consistent with reliable sources regarding schizophrenia symptoms, confirming its factual correctness.\n",
            "    - Completeness: The response is complete, covering multiple symptoms and elaborating on them, which adds depth beyond the reference answer.\n",
            "    - Clarity: The response is clear and easy to understand, with well-organized points that enhance comprehension.\n",
            "    - Conciseness: While the response is informative, it could be more concise. Some details, such as the description of symptoms manifesting in various ways, could be streamlined.\n",
            "\n",
            "### Overall Scores:\n",
            "- RAG Overall Score: 8\n"
          ]
        },
        {
          "output_type": "stream",
          "name": "stderr",
          "text": [
            "\rEvaluating responses:  51%|█████     | 51/100 [02:36<02:08,  2.63s/sample]"
          ]
        },
        {
          "output_type": "stream",
          "name": "stdout",
          "text": [
            "Evaluation Output:\n",
            "Feedback:\n",
            "- RAG Response:\n",
            "    - Relevance: The response is relevant as it addresses how family members can support a loved one with schizophrenia by discussing emotional support, education, and connecting to professional help.\n",
            "    - Semantic Similarity: The response captures the essence of the reference answer regarding emotional support and treatment adherence, but it expands on this with additional details.\n",
            "    - Accuracy: The information provided is accurate and logically sound, discussing appropriate ways family members can assist their loved one.\n",
            "    - Factual Correctness: The response presents facts that are consistent with general understanding and knowledge about supporting individuals with schizophrenia.\n",
            "    - Completeness: The response is fairly complete, covering multiple aspects of support, including emotional support, education, and practical assistance.\n",
            "    - Clarity: The response is clear and easy to understand, with straightforward language that conveys the intended message effectively.\n",
            "    - Conciseness: While the response is somewhat longer than the reference answer, it remains concise and does not include unnecessary information.\n",
            "\n",
            "### Overall Scores:\n",
            "- RAG Overall Score: 8\n"
          ]
        },
        {
          "output_type": "stream",
          "name": "stderr",
          "text": [
            "\rEvaluating responses:  52%|█████▏    | 52/100 [02:39<02:14,  2.81s/sample]"
          ]
        },
        {
          "output_type": "stream",
          "name": "stdout",
          "text": [
            "Evaluation Output:\n",
            "Feedback:\n",
            "- RAG Response:\n",
            "    - Relevance: The response is relevant as it addresses the query about treatments for eating disorders, mentioning several types of treatment. However, it includes some information that may not be directly related to the core treatments.\n",
            "    - Semantic Similarity: The response captures the general intent of the reference answer but introduces additional concepts that diverge from the simplicity of the reference, making it less semantically similar.\n",
            "    - Accuracy: The information provided about treatment options is generally accurate, though it introduces some concepts (like behavioral analysis and DBT) that are more specific and may not be universally applicable to all eating disorders.\n",
            "    - Factual Correctness: The response is factually correct regarding the types of treatments mentioned; however, it could mislead readers by implying that behavioral analysis and DBT are essential for all cases.\n",
            "    - Completeness: The response is more complete than the reference answer as it includes additional treatment options. However, it may overwhelm the reader with too much detail rather than sticking to the core treatments.\n",
            "    - Clarity: The response could be clearer; the introduction of various treatment modalities and the mention of DBT without context may confuse some readers.\n",
            "    - Conciseness: The response is somewhat verbose and includes extraneous details that detract from the main point, making it less concise than it could be.\n",
            "\n",
            "### Overall Scores:\n",
            "- RAG Overall Score: 6\n"
          ]
        },
        {
          "output_type": "stream",
          "name": "stderr",
          "text": [
            "\rEvaluating responses:  53%|█████▎    | 53/100 [02:43<02:20,  2.99s/sample]"
          ]
        },
        {
          "output_type": "stream",
          "name": "stdout",
          "text": [
            "Evaluation Output:\n",
            "Feedback:\n",
            "- RAG Response:\n",
            "    - Relevance: The response is highly relevant as it directly addresses how panic disorder affects relationships, discussing avoidance behaviors and the impact of panic attacks.\n",
            "    - Semantic Similarity: The response captures the essence of the reference answer, which mentions tension and avoidance, while expanding on these points, thus showing good semantic similarity.\n",
            "    - Accuracy: The information presented is accurate regarding the effects of panic disorder on relationships, aligning with established understanding of the condition.\n",
            "    - Factual Correctness: The response is factually correct, as it describes the impact of panic disorder on relationships based on psychological insights.\n",
            "    - Completeness: The response is complete, covering multiple aspects of how panic disorder can affect relationships, including avoidance behaviors and the importance of communication.\n",
            "    - Clarity: The response is clear and easy to understand, with a logical flow of ideas that enhances comprehension.\n",
            "    - Conciseness: While the response is thorough, it could be slightly more concise; some details might be considered extraneous for a succinct answer.\n",
            "\n",
            "### Overall Scores:\n",
            "- RAG Overall Score: 8\n"
          ]
        },
        {
          "output_type": "stream",
          "name": "stderr",
          "text": [
            "\rEvaluating responses:  54%|█████▍    | 54/100 [02:46<02:20,  3.05s/sample]"
          ]
        },
        {
          "output_type": "stream",
          "name": "stdout",
          "text": [
            "Evaluation Output:\n",
            "Feedback:\n",
            "- RAG Response:\n",
            "    - Relevance: The response is relevant as it addresses the query about how to help someone showing warning signs of suicide. However, it could be more focused on the specific actions to take, similar to the reference answer.\n",
            "    - Semantic Similarity: The RAG response captures some key ideas from the reference answer, such as listening without judgment and staying with the person, but it introduces additional elements that diverge from the core intent.\n",
            "    - Accuracy: The information provided is accurate and aligns with general advice on how to support someone in crisis. \n",
            "    - Factual Correctness: The response is factually correct, as it suggests appropriate actions to take when someone shows warning signs of suicide.\n",
            "    - Completeness: The response is somewhat complete but lacks the directness of the reference answer. It includes some helpful advice but could benefit from more specific actions like asking about suicidal thoughts.\n",
            "    - Clarity: The response is clear and easy to understand, with straightforward language.\n",
            "    - Conciseness: The response is somewhat verbose. While it conveys important information, it includes some redundancy, such as the mention of self-care, which could be stated more succinctly.\n",
            "\n",
            "### Overall Scores:\n",
            "- RAG Overall Score: 7\n"
          ]
        },
        {
          "output_type": "stream",
          "name": "stderr",
          "text": [
            "\rEvaluating responses:  55%|█████▌    | 55/100 [02:50<02:30,  3.35s/sample]"
          ]
        },
        {
          "output_type": "stream",
          "name": "stdout",
          "text": [
            "Evaluation Output:\n",
            "Feedback:\n",
            "- RAG Response:\n",
            "    - Relevance: The response is relevant as it addresses how parents should approach mental health conversations, providing practical suggestions for communication.\n",
            "    - Semantic Similarity: The response captures the essence of the reference answer by emphasizing the importance of creating a safe environment and using appropriate language, although it elaborates more than the reference.\n",
            "    - Accuracy: The suggestions provided are accurate and logically sound for the context of discussing mental health with children.\n",
            "    - Factual Correctness: The information presented is factually correct and aligns well with best practices for mental health conversations with children.\n",
            "    - Completeness: The response is complete, covering various aspects such as communication style, emotional awareness, and listening, which are essential in mental health discussions.\n",
            "    - Clarity: The response is clear and easy to understand, with straightforward language and structure.\n",
            "    - Conciseness: While the response is thorough, it could be considered slightly verbose; however, it does not contain unnecessary information.\n",
            "\n",
            "### Overall Scores:\n",
            "- RAG Overall Score: 8\n"
          ]
        },
        {
          "output_type": "stream",
          "name": "stderr",
          "text": [
            "\rEvaluating responses:  56%|█████▌    | 56/100 [02:56<03:05,  4.21s/sample]"
          ]
        },
        {
          "output_type": "stream",
          "name": "stdout",
          "text": [
            "Evaluation Output:\n",
            "Feedback:\n",
            "- RAG Response:\n",
            "    - Relevance: The response effectively addresses the query about treatments for phobias by focusing on exposure therapy, which is a relevant treatment option. However, it could have mentioned cognitive-behavioral techniques as well, which are also important treatments.\n",
            "    - Semantic Similarity: The response captures the intent of the reference answer but lacks the mention of cognitive-behavioral techniques, which reduces its semantic similarity to the reference.\n",
            "    - Accuracy: The information provided about exposure therapy is accurate, as it is a well-established treatment for phobias.\n",
            "    - Factual Correctness: The response is factually correct regarding exposure therapy and the need for a trained therapist, aligning with established psychological practices.\n",
            "    - Completeness: The response is somewhat complete but could be improved by including other effective treatments, like cognitive-behavioral therapy, to provide a more rounded view of treatment options.\n",
            "    - Clarity: The response is clear and easy to understand, with a straightforward explanation of exposure therapy.\n",
            "    - Conciseness: The response is mostly concise, but there are some redundant phrases that could be trimmed for a more succinct delivery.\n",
            "\n",
            "### Overall Scores:\n",
            "- RAG Overall Score: 7\n"
          ]
        },
        {
          "output_type": "stream",
          "name": "stderr",
          "text": [
            "\rEvaluating responses:  57%|█████▋    | 57/100 [03:01<03:03,  4.27s/sample]"
          ]
        },
        {
          "output_type": "stream",
          "name": "stdout",
          "text": [
            "Evaluation Output:\n",
            "Feedback:\n",
            "- RAG Response:\n",
            "    - Relevance: The response effectively addresses the query about the purpose of the Native Connections program, focusing on prevention and mental health, which is directly relevant.\n",
            "    - Semantic Similarity: The response captures the intent of the reference answer well, although it includes additional details not present in the reference.\n",
            "    - Accuracy: The information provided is accurate regarding the program's goals and target demographic.\n",
            "    - Factual Correctness: The facts presented align with known objectives of the Native Connections program, confirming the response's reliability.\n",
            "    - Completeness: While the response is more detailed than the reference answer, it covers all essential aspects of the program's purpose, making it complete.\n",
            "    - Clarity: The response is clear and straightforward, making it easy to understand the program's objectives.\n",
            "    - Conciseness: The response is slightly longer due to the additional details, but it remains focused and does not include unnecessary information.\n",
            "\n",
            "### Overall Scores:\n",
            "- RAG Overall Score: 9\n"
          ]
        },
        {
          "output_type": "stream",
          "name": "stderr",
          "text": [
            "\rEvaluating responses:  58%|█████▊    | 58/100 [03:03<02:38,  3.78s/sample]"
          ]
        },
        {
          "output_type": "stream",
          "name": "stdout",
          "text": [
            "Evaluation Output:\n",
            "Feedback:\n",
            "- RAG Response:\n",
            "    - Relevance: The response effectively addresses the query by distinguishing between social anxiety disorder and shyness, thus meeting the intent of the question.\n",
            "    - Semantic Similarity: The response captures the essence of the reference answer, highlighting the persistent fear associated with social anxiety disorder, but it does not directly mirror the phrasing.\n",
            "    - Accuracy: The information provided about social anxiety disorder is accurate, emphasizing the debilitating fear aspect, which is a correct representation of the condition.\n",
            "    - Factual Correctness: The response is factually correct, as it aligns with the established understanding of social anxiety disorder and its distinction from shyness.\n",
            "    - Completeness: While the response covers the essential differences, it could be more concise in defining shyness, which is somewhat vague in the context provided.\n",
            "    - Clarity: The response is generally clear, but the explanation about shyness could be more straightforward to enhance understanding.\n",
            "    - Conciseness: The response is somewhat wordy; it could be more concise by eliminating redundant phrases and focusing directly on the key distinctions.\n",
            "\n",
            "### Overall Scores:\n",
            "- RAG Overall Score: 7\n"
          ]
        },
        {
          "output_type": "stream",
          "name": "stderr",
          "text": [
            "\rEvaluating responses:  59%|█████▉    | 59/100 [03:06<02:18,  3.38s/sample]"
          ]
        },
        {
          "output_type": "stream",
          "name": "stdout",
          "text": [
            "Evaluation Output:\n",
            "Feedback:\n",
            "- RAG Response:\n",
            "    - Relevance: The response effectively addresses the query by explaining why consistent treatment is important for individuals with schizophrenia, thus meeting the intent of the question.\n",
            "    - Semantic Similarity: The response captures the essence of the reference answer by highlighting symptom management and relapse prevention, although it expands on these points with additional details.\n",
            "    - Accuracy: The information provided is accurate and aligns with common understanding of the treatment of schizophrenia.\n",
            "    - Factual Correctness: The facts presented are consistent with established knowledge about schizophrenia treatment, making the response factually correct.\n",
            "    - Completeness: The response is comprehensive, covering various aspects of why consistent treatment is important, including symptom management and coping strategies.\n",
            "    - Clarity: The response is clearly articulated and easy to understand, with no ambiguous language.\n",
            "    - Conciseness: While the response is somewhat lengthy, it remains focused and avoids unnecessary information, effectively balancing detail with brevity.\n",
            "\n",
            "### Overall Scores:\n",
            "- RAG Overall Score: 9\n"
          ]
        },
        {
          "output_type": "stream",
          "name": "stderr",
          "text": [
            "\rEvaluating responses:  60%|██████    | 60/100 [03:08<02:08,  3.20s/sample]"
          ]
        },
        {
          "output_type": "stream",
          "name": "stdout",
          "text": [
            "Evaluation Output:\n",
            "Feedback:\n",
            "- RAG Response:\n",
            "    - Relevance: The response is relevant as it addresses the query about triggers for eating disorders, mentioning several factors that can contribute to these disorders.\n",
            "    - Semantic Similarity: The response captures the general meaning of the reference answer but lacks the inclusion of societal pressures, which is a significant aspect mentioned in the reference.\n",
            "    - Accuracy: The information provided is accurate in identifying genetic factors and co-morbid mental disorders as triggers for eating disorders.\n",
            "    - Factual Correctness: The facts presented align with common knowledge about eating disorders and are consistent with reliable sources.\n",
            "    - Completeness: The response is somewhat incomplete as it omits societal pressures, which are a key trigger mentioned in the reference answer.\n",
            "    - Clarity: The response is clear and easy to understand, effectively communicating the identified triggers.\n",
            "    - Conciseness: The response is concise, providing necessary information without unnecessary elaboration.\n",
            "\n",
            "### Overall Scores:\n",
            "- RAG Overall Score: 7\n"
          ]
        },
        {
          "output_type": "stream",
          "name": "stderr",
          "text": [
            "\rEvaluating responses:  61%|██████    | 61/100 [03:11<01:53,  2.91s/sample]"
          ]
        },
        {
          "output_type": "stream",
          "name": "stdout",
          "text": [
            "Evaluation Output:\n",
            "Feedback:\n",
            "- RAG Response:\n",
            "    - Relevance: The response addresses the query by listing factors that can trigger generalized anxiety disorder, which is relevant to the question.\n",
            "    - Semantic Similarity: The response captures the essence of the reference answer but introduces additional factors that are not mentioned in the reference, showing a moderate level of similarity.\n",
            "    - Accuracy: The factors mentioned (genetics, brain function, personality, development, perception of threats) are generally accurate but may not all be considered direct triggers in a clinical sense.\n",
            "    - Factual Correctness: The information provided is mostly correct; however, \"one’s perception of threats\" may not be universally recognized as a trigger in the same way as environmental stressors.\n",
            "    - Completeness: The response is somewhat complete but lacks mention of environmental stressors, which are significant triggers according to the reference answer.\n",
            "    - Clarity: The response is clear and easy to understand, presenting the information in a straightforward manner.\n",
            "    - Conciseness: The response is concise, providing a list without unnecessary elaboration.\n",
            "\n",
            "### Overall Scores:\n",
            "- RAG Overall Score: 6\n"
          ]
        },
        {
          "output_type": "stream",
          "name": "stderr",
          "text": [
            "\rEvaluating responses:  62%|██████▏   | 62/100 [03:13<01:46,  2.81s/sample]"
          ]
        },
        {
          "output_type": "stream",
          "name": "stdout",
          "text": [
            "Evaluation Output:\n",
            "Feedback:\n",
            "- RAG Response:\n",
            "    - Relevance: The response is relevant as it addresses the query about NCCA temperament therapy, although it could be more focused on the primary aspects.\n",
            "    - Semantic Similarity: The response captures the intent of the reference answer but adds additional context that is not present in the reference, which slightly alters its alignment.\n",
            "    - Accuracy: The information provided about understanding and managing one's temperament is generally accurate but introduces a religious aspect that may not be universally applicable.\n",
            "    - Factual Correctness: The reference to \"God-given temperament\" may not be factually incorrect but could misrepresent the broader understanding of temperament therapy, which is not exclusively religious.\n",
            "    - Completeness: The response includes additional context that, while informative, may not be necessary for a basic understanding of NCCA temperament therapy, thus impacting its completeness.\n",
            "    - Clarity: The response is clear but could be simplified to enhance understanding, especially for those unfamiliar with the term.\n",
            "    - Conciseness: The response is somewhat verbose, including information that may not be essential for answering the query directly.\n",
            "\n",
            "### Overall Scores:\n",
            "- RAG Overall Score: 6\n"
          ]
        },
        {
          "output_type": "stream",
          "name": "stderr",
          "text": [
            "\rEvaluating responses:  63%|██████▎   | 63/100 [03:16<01:40,  2.71s/sample]"
          ]
        },
        {
          "output_type": "stream",
          "name": "stdout",
          "text": [
            "Evaluation Output:\n",
            "Feedback:\n",
            "- RAG Response:\n",
            "    - Relevance: The response is relevant as it addresses effective interventions for children facing mental health issues, aligning with the query's intent.\n",
            "    - Semantic Similarity: The response captures some of the main ideas of the reference answer, but it introduces additional concepts (like early intervention and the role of educators) that are not present in the reference, leading to a lower similarity.\n",
            "    - Accuracy: The information provided is accurate and reflects common practices in addressing children's mental health issues.\n",
            "    - Factual Correctness: The facts presented are consistent with known approaches to mental health interventions for children, thus maintaining factual correctness.\n",
            "    - Completeness: The response is more comprehensive than the reference answer, covering a broader range of interventions and considerations.\n",
            "    - Clarity: The response is clear and easy to understand, making it accessible to a wide audience.\n",
            "    - Conciseness: While the response is clear, it could be considered slightly verbose compared to the reference answer, which is more succinct.\n",
            "\n",
            "### Overall Scores:\n",
            "- RAG Overall Score: 8\n"
          ]
        },
        {
          "output_type": "stream",
          "name": "stderr",
          "text": [
            "\rEvaluating responses:  64%|██████▍   | 64/100 [03:21<02:05,  3.48s/sample]"
          ]
        },
        {
          "output_type": "stream",
          "name": "stdout",
          "text": [
            "Evaluation Output:\n",
            "Feedback:\n",
            "- RAG Response:\n",
            "    - Relevance: The response is relevant as it addresses the importance of observing behavior changes in children, focusing on stress indicators and the need for professional help.\n",
            "    - Semantic Similarity: The response captures the intent of the reference answer but expands on it significantly, which may lead to a lower similarity score due to the added details.\n",
            "    - Accuracy: The information provided is accurate regarding the implications of behavior changes in children and the need for intervention.\n",
            "    - Factual Correctness: The facts presented about stressors and the potential need for professional assistance are consistent with established knowledge in child psychology.\n",
            "    - Completeness: The response is quite complete, offering a broader perspective on the reasons for observing behavior changes, though it diverges from the succinctness of the reference answer.\n",
            "    - Clarity: The response is clear and understandable, effectively communicating the ideas without ambiguity.\n",
            "    - Conciseness: The response is less concise than the reference answer, as it includes more detail than necessary for the question asked.\n",
            "\n",
            "### Overall Scores:\n",
            "- RAG Overall Score: 7\n"
          ]
        },
        {
          "output_type": "stream",
          "name": "stderr",
          "text": [
            "\rEvaluating responses:  65%|██████▌   | 65/100 [03:25<02:06,  3.61s/sample]"
          ]
        },
        {
          "output_type": "stream",
          "name": "stdout",
          "text": [
            "Evaluation Output:\n",
            "Feedback:\n",
            "- RAG Response:\n",
            "    - Relevance: The response is relevant as it addresses the factors contributing to mental health conditions directly, aligning well with the query.\n",
            "    - Semantic Similarity: The response captures the essential meaning of the reference answer, though the phrasing is slightly different. It effectively conveys the same ideas.\n",
            "    - Accuracy: The information provided is accurate and logically sound, aligning with established knowledge about mental health conditions.\n",
            "    - Factual Correctness: The facts presented are consistent with reliable sources and the reference answer, demonstrating a correct understanding of the topic.\n",
            "    - Completeness: The response covers the main factors contributing to mental health conditions but could potentially expand on the types of life experiences or provide examples for better depth.\n",
            "    - Clarity: The response is clearly stated and easy to understand, with straightforward language that conveys the intended meaning without confusion.\n",
            "    - Conciseness: The response is concise, providing the necessary information without unnecessary elaboration or details.\n",
            "\n",
            "### Overall Scores:\n",
            "- RAG Overall Score: 9\n"
          ]
        },
        {
          "output_type": "stream",
          "name": "stderr",
          "text": [
            "\rEvaluating responses:  66%|██████▌   | 66/100 [03:28<01:53,  3.33s/sample]"
          ]
        },
        {
          "output_type": "stream",
          "name": "stdout",
          "text": [
            "Evaluation Output:\n",
            "Feedback:\n",
            "- RAG Response:\n",
            "    - Relevance: The response effectively addresses the query about how early and consistent treatment helps people with mental health conditions, specifically mentioning medication and psychotherapy, which are key components of treatment.\n",
            "    - Semantic Similarity: The response captures the core meaning of the reference answer, emphasizing management of symptoms and leading a meaningful life, though it includes additional detail.\n",
            "    - Accuracy: The information presented is accurate regarding the benefits of early and consistent treatment for mental health conditions.\n",
            "    - Factual Correctness: The response is factually correct, aligning well with established knowledge about mental health treatment.\n",
            "    - Completeness: While the response covers essential aspects of the query, it could benefit from more elaboration on the specific ways treatment helps individuals beyond just managing symptoms.\n",
            "    - Clarity: The response is clear and easy to understand, with straightforward language that conveys the intended message effectively.\n",
            "    - Conciseness: The response is slightly longer than necessary, including some extra detail that could be trimmed for a more concise answer.\n",
            "\n",
            "### Overall Scores:\n",
            "- RAG Overall Score: 8\n"
          ]
        },
        {
          "output_type": "stream",
          "name": "stderr",
          "text": [
            "\rEvaluating responses:  67%|██████▋   | 67/100 [03:37<02:50,  5.16s/sample]"
          ]
        },
        {
          "output_type": "stream",
          "name": "stdout",
          "text": [
            "Evaluation Output:\n",
            "Feedback:\n",
            "- RAG Response:\n",
            "    - Relevance: The response is relevant as it addresses the common causes of depression in Seasonal Affective Disorder (SAD) by mentioning lack of sunlight, which is a primary factor.\n",
            "    - Semantic Similarity: The response captures the essence of the reference answer, focusing on the seasonal changes and their impact on mood, although it uses different phrasing.\n",
            "    - Accuracy: The information provided about the lack of sunlight affecting circadian rhythms and serotonin levels is accurate and relevant to SAD.\n",
            "    - Factual Correctness: The facts presented are consistent with established knowledge about SAD and its triggers, particularly the role of sunlight.\n",
            "    - Completeness: The response could be considered somewhat incomplete as it does not mention the specific seasons (fall and winter) that are typically associated with SAD, which is a key detail in the reference answer.\n",
            "    - Clarity: The response is clear and straightforward, making the information easy to understand.\n",
            "    - Conciseness: The response is concise and avoids unnecessary details, focusing directly on the main cause.\n",
            "\n",
            "### Overall Scores:\n",
            "- RAG Overall Score: 7\n"
          ]
        },
        {
          "output_type": "stream",
          "name": "stderr",
          "text": [
            "\rEvaluating responses:  68%|██████▊   | 68/100 [03:40<02:20,  4.38s/sample]"
          ]
        },
        {
          "output_type": "stream",
          "name": "stdout",
          "text": [
            "Evaluation Output:\n",
            "Feedback:\n",
            "- RAG Response:\n",
            "    - Relevance: The response effectively addresses the query by explaining what makes social anxiety disorder unique, focusing on the fear of judgment and its impact on daily life.\n",
            "    - Semantic Similarity: The response captures the essence of the reference answer, as both emphasize the persistent fear of judgment and its effects on social and work life, though it is more detailed.\n",
            "    - Accuracy: The information provided is accurate regarding the nature of social anxiety disorder and its implications for individuals.\n",
            "    - Factual Correctness: The facts presented align with established understandings of social anxiety disorder and are consistent with reliable sources.\n",
            "    - Completeness: While the response covers key aspects of social anxiety disorder, it could be more complete by explicitly mentioning the persistent nature of the fear, which is a critical component.\n",
            "    - Clarity: The response is clear and easy to understand, effectively communicating the main points without confusion.\n",
            "    - Conciseness: The response is somewhat lengthy; it could be more concise by eliminating some repetitive phrases while still conveying the necessary information.\n",
            "\n",
            "### Overall Scores:\n",
            "- RAG Overall Score: 8\n"
          ]
        },
        {
          "output_type": "stream",
          "name": "stderr",
          "text": [
            "\rEvaluating responses:  69%|██████▉   | 69/100 [03:43<02:05,  4.06s/sample]"
          ]
        },
        {
          "output_type": "stream",
          "name": "stdout",
          "text": [
            "Evaluation Output:\n",
            "Feedback:\n",
            "- RAG Response:\n",
            "    - Relevance: The response is highly relevant as it directly addresses how the 988 Suicide & Crisis Lifeline supports individuals in crisis by outlining the services provided.\n",
            "    - Semantic Similarity: The response captures the meaning of the reference answer well, although it elaborates more on the services offered, which slightly diverges from the brevity of the reference.\n",
            "    - Accuracy: The information presented is accurate and aligns with the known functions of the 988 Lifeline.\n",
            "    - Factual Correctness: The response contains factually correct details about the Lifeline's services, such as the availability of trained counselors and various communication methods.\n",
            "    - Completeness: The response is complete as it covers multiple aspects of the Lifeline's support, including emotional support and connection to local resources, which enhances the understanding of its role.\n",
            "    - Clarity: The response is clear and easy to understand, with a logical flow that makes it accessible to readers.\n",
            "    - Conciseness: While the response is somewhat longer than the reference answer, it remains concise overall, providing necessary details without excessive verbosity.\n",
            "\n",
            "### Overall Scores:\n",
            "- RAG Overall Score: 9\n"
          ]
        },
        {
          "output_type": "stream",
          "name": "stderr",
          "text": [
            "\rEvaluating responses:  70%|███████   | 70/100 [03:46<01:54,  3.82s/sample]"
          ]
        },
        {
          "output_type": "stream",
          "name": "stdout",
          "text": [
            "Evaluation Output:\n",
            "Feedback:\n",
            "- RAG Response:\n",
            "    - Relevance: The response is relevant as it addresses lifestyle changes for managing Seasonal Affective Disorder (SAD), aligning well with the query's intent.\n",
            "    - Semantic Similarity: The response does not capture the essence of the reference answer, which emphasizes exposure to natural light and sleep consistency, while the RAG response focuses on a broader range of lifestyle changes.\n",
            "    - Accuracy: The information provided is accurate and aligns with common recommendations for managing SAD, such as nutrition and exercise.\n",
            "    - Factual Correctness: The suggestions made in the RAG response are factually correct and supported by general knowledge about managing SAD.\n",
            "    - Completeness: The response is somewhat complete, covering various aspects of lifestyle changes, but it omits the critical elements of light exposure and sleep consistency highlighted in the reference answer.\n",
            "    - Clarity: The response is clear and easy to understand, with a well-organized list format that aids comprehension.\n",
            "    - Conciseness: The response is concise, presenting the information without unnecessary elaboration.\n",
            "\n",
            "### Overall Scores:\n",
            "- RAG Overall Score: 7\n"
          ]
        },
        {
          "output_type": "stream",
          "name": "stderr",
          "text": [
            "\rEvaluating responses:  71%|███████   | 71/100 [03:49<01:39,  3.44s/sample]"
          ]
        },
        {
          "output_type": "stream",
          "name": "stdout",
          "text": [
            "Evaluation Output:\n",
            "Feedback:\n",
            "- RAG Response:\n",
            "    - Relevance: The response is relevant as it addresses the causes of self-harm behaviors, mentioning emotional distress and coping mechanisms, which aligns with the query.\n",
            "    - Semantic Similarity: The response captures the essence of the reference answer by discussing emotional distress and coping, although it expands on these concepts more than the reference answer.\n",
            "    - Accuracy: The information provided is accurate, discussing the typical onset of self-harm and the emotional reasons behind it, which aligns with common psychological understandings.\n",
            "    - Factual Correctness: The facts presented are consistent with reliable sources on self-harm behaviors, particularly regarding the age of onset and emotional motivations.\n",
            "    - Completeness: The response is more complete than the reference answer, providing additional context about the behaviors and feelings associated with self-harm, though it may include slightly more detail than necessary.\n",
            "    - Clarity: The response is clear and easy to understand, with a logical flow that makes the information accessible.\n",
            "    - Conciseness: While the response is generally concise, it could be trimmed slightly to focus more directly on the key causes without elaborating too much on the behaviors.\n",
            "\n",
            "### Overall Scores:\n",
            "- RAG Overall Score: 8\n"
          ]
        },
        {
          "output_type": "stream",
          "name": "stderr",
          "text": [
            "\rEvaluating responses:  72%|███████▏  | 72/100 [03:57<02:14,  4.80s/sample]"
          ]
        },
        {
          "output_type": "stream",
          "name": "stdout",
          "text": [
            "Evaluation Output:\n",
            "Feedback:\n",
            "- RAG Response:\n",
            "    - Relevance: The response effectively addresses the query by listing behaviors that indicate self-harm, making it highly relevant.\n",
            "    - Semantic Similarity: The response captures the intent of the reference answer well, as both mention similar behaviors associated with self-harm, though the RAG response provides more detail.\n",
            "    - Accuracy: The behaviors listed in the RAG response are accurate and commonly recognized indicators of self-harm.\n",
            "    - Factual Correctness: The information presented aligns with established understanding of self-harm behaviors, maintaining factual correctness.\n",
            "    - Completeness: The response is comprehensive, covering a wide range of behaviors and including associated physical symptoms, which adds depth to the answer.\n",
            "    - Clarity: The response is clear and easy to understand, with a straightforward presentation of information.\n",
            "    - Conciseness: While the response is somewhat lengthy, it remains focused on the topic and avoids unnecessary details, though it could be slightly more concise.\n",
            "\n",
            "### Overall Scores:\n",
            "- RAG Overall Score: 9\n"
          ]
        },
        {
          "output_type": "stream",
          "name": "stderr",
          "text": [
            "\rEvaluating responses:  73%|███████▎  | 73/100 [04:02<02:10,  4.83s/sample]"
          ]
        },
        {
          "output_type": "stream",
          "name": "stdout",
          "text": [
            "Evaluation Output:\n",
            "Feedback:\n",
            "- RAG Response:\n",
            "    - Relevance: The response is highly relevant as it directly addresses the symptoms of depression in individuals with Seasonal Affective Disorder (SAD), aligning well with the query.\n",
            "    - Semantic Similarity: The response captures the meaning of the reference answer effectively, although it includes additional symptoms that are not mentioned in the reference.\n",
            "    - Accuracy: The information provided is accurate regarding the symptoms associated with SAD and aligns with established knowledge on the topic.\n",
            "    - Factual Correctness: The facts presented are consistent with reliable sources and are factually correct concerning the symptoms of SAD.\n",
            "    - Completeness: The response is complete, listing several symptoms that encompass the range of experiences individuals with SAD may face, surpassing the brevity of the reference answer.\n",
            "    - Clarity: The response is clear and well-structured, making it easy to understand the symptoms listed.\n",
            "    - Conciseness: While the response is thorough, it could be considered slightly lengthy; however, the detail provided is relevant to the query.\n",
            "\n",
            "### Overall Scores:\n",
            "- RAG Overall Score: 9\n"
          ]
        },
        {
          "output_type": "stream",
          "name": "stderr",
          "text": [
            "\rEvaluating responses:  74%|███████▍  | 74/100 [04:05<01:56,  4.48s/sample]"
          ]
        },
        {
          "output_type": "stream",
          "name": "stdout",
          "text": [
            "Evaluation Output:\n",
            "Feedback:\n",
            "- RAG Response:\n",
            "    - Relevance: The response effectively addresses the query about warning signs of suicide for adults by listing relevant behaviors and feelings associated with suicidal ideation.\n",
            "    - Semantic Similarity: The response captures the intent of the reference answer by including several key warning signs, although it provides a more extensive list than the reference.\n",
            "    - Accuracy: The information presented is accurate and aligns with common knowledge about warning signs of suicide.\n",
            "    - Factual Correctness: The facts provided are consistent with reliable sources regarding mental health and suicide prevention.\n",
            "    - Completeness: The response is comprehensive, listing multiple warning signs, which enhances its completeness compared to the reference answer.\n",
            "    - Clarity: The response is clear and easy to understand, with each warning sign presented in a straightforward manner.\n",
            "    - Conciseness: While the response is thorough, it could be considered slightly lengthy; however, the additional details do not detract significantly from its overall effectiveness.\n",
            "\n",
            "### Overall Scores:\n",
            "- RAG Overall Score: 9\n"
          ]
        },
        {
          "output_type": "stream",
          "name": "stderr",
          "text": [
            "\rEvaluating responses:  75%|███████▌  | 75/100 [04:08<01:38,  3.92s/sample]"
          ]
        },
        {
          "output_type": "stream",
          "name": "stdout",
          "text": [
            "Evaluation Output:\n",
            "Feedback:\n",
            "- RAG Response:\n",
            "    - Relevance: The response effectively addresses the query about what 'mental health' encompasses by providing relevant aspects of mental health.\n",
            "    - Semantic Similarity: The response captures the essence of the reference answer, discussing emotional, psychological, and social well-being, though it adds more detail.\n",
            "    - Accuracy: The information presented is accurate and logically sound, aligning with established definitions of mental health.\n",
            "    - Factual Correctness: The facts are consistent with reliable sources and the reference answer, providing a correct understanding of the term.\n",
            "    - Completeness: The response is more complete than the reference answer as it elaborates on how mental health affects behavior and decision-making, covering additional relevant aspects.\n",
            "    - Clarity: The response is clear and straightforward, making it easy to understand the concept of mental health.\n",
            "    - Conciseness: While the response is slightly longer than necessary, it remains focused and avoids unnecessary repetition or irrelevant details.\n",
            "\n",
            "### Overall Scores:\n",
            "- RAG Overall Score: 9\n"
          ]
        },
        {
          "output_type": "stream",
          "name": "stderr",
          "text": [
            "\rEvaluating responses:  76%|███████▌  | 76/100 [04:11<01:28,  3.69s/sample]"
          ]
        },
        {
          "output_type": "stream",
          "name": "stdout",
          "text": [
            "Evaluation Output:\n",
            "Feedback:\n",
            "- RAG Response:\n",
            "    - Relevance: The response is relevant as it directly addresses how therapy aids individuals in understanding their thought processes, specifically mentioning Cognitive Behavioral Therapy (CBT).\n",
            "    - Semantic Similarity: The response captures the essence of the reference answer by discussing the impact of thoughts on actions and interpreting challenges, although it is somewhat more detailed than the reference.\n",
            "    - Accuracy: The information about CBT and its role in managing thoughts and feelings is accurate and aligns well with established therapeutic practices.\n",
            "    - Factual Correctness: The facts presented regarding CBT and its function in therapy are consistent with reliable sources and are factually correct.\n",
            "    - Completeness: The response provides a good amount of detail regarding CBT, but it could elaborate more on the general concept of therapy beyond just CBT to enhance completeness.\n",
            "    - Clarity: The response is clear and easy to understand, effectively communicating the relationship between thought processes and therapy.\n",
            "    - Conciseness: While the response is mostly concise, it could be slightly more succinct by avoiding the repetition of concepts related to beliefs and actions.\n",
            "\n",
            "### Overall Scores:\n",
            "- RAG Overall Score: 8\n"
          ]
        },
        {
          "output_type": "stream",
          "name": "stderr",
          "text": [
            "\rEvaluating responses:  77%|███████▋  | 77/100 [04:15<01:28,  3.85s/sample]"
          ]
        },
        {
          "output_type": "stream",
          "name": "stdout",
          "text": [
            "Evaluation Output:\n",
            "Feedback:\n",
            "- RAG Response:\n",
            "    - Relevance: The response is relevant as it addresses the query about overcoming self-harm tendencies by suggesting coping mechanisms and treatment options. However, it could be more directly focused on individual strategies rather than treatment facilities.\n",
            "    - Semantic Similarity: The response captures the general intent of the reference answer but does not align closely in terms of phrasing. It elaborates more on treatment options rather than summarizing the key strategies as in the reference.\n",
            "    - Accuracy: The information provided about therapy and hospitalization as treatment options is accurate. However, it lacks emphasis on personal coping mechanisms, which are crucial for overcoming self-harm tendencies.\n",
            "    - Factual Correctness: The facts presented are consistent with common knowledge about self-harm treatment; however, the mention of when self-harm typically begins (teen or early adult years) may not be directly relevant to the query.\n",
            "    - Completeness: The response covers several aspects of treatment but lacks a focus on practical, individual strategies that one can take to overcome self-harm tendencies, making it less complete compared to the reference answer.\n",
            "    - Clarity: The response is generally clear, but some sentences could be more straightforward. For example, the mention of \"specialized self-harm programs\" could be simplified for better understanding.\n",
            "    - Conciseness: The response includes some extraneous details, such as the age range for the onset of self-harm, which does not directly contribute to the query and could be omitted for a more concise response.\n",
            "\n",
            "### Overall Scores:\n",
            "- RAG Overall Score: 6\n"
          ]
        },
        {
          "output_type": "stream",
          "name": "stderr",
          "text": [
            "\rEvaluating responses:  78%|███████▊  | 78/100 [04:19<01:27,  3.98s/sample]"
          ]
        },
        {
          "output_type": "stream",
          "name": "stdout",
          "text": [
            "Evaluation Output:\n",
            "Feedback:\n",
            "- RAG Response:\n",
            "    - Relevance: The response is relevant as it addresses how the Native Connections initiative supports youth, specifically focusing on American Indian/Alaska Native youth.\n",
            "    - Semantic Similarity: The response captures some of the meaning of the reference answer but lacks the emphasis on culturally tailored programs, which is a key aspect of the reference.\n",
            "    - Accuracy: The information presented is accurate regarding the focus on suicide prevention and mental health for AI/AN youth.\n",
            "    - Factual Correctness: The facts provided are consistent with known goals of the Native Connections initiative, ensuring factual correctness.\n",
            "    - Completeness: The response is somewhat incomplete as it does not mention the culturally tailored programs that are crucial for understanding the initiative's support for youth.\n",
            "    - Clarity: The response is clear and easy to understand, effectively conveying the main points without confusion.\n",
            "    - Conciseness: The response is concise, delivering the necessary information without unnecessary details.\n",
            "\n",
            "### Overall Scores:\n",
            "- RAG Overall Score: 7\n"
          ]
        },
        {
          "output_type": "stream",
          "name": "stderr",
          "text": [
            "\rEvaluating responses:  79%|███████▉  | 79/100 [04:23<01:19,  3.79s/sample]"
          ]
        },
        {
          "output_type": "stream",
          "name": "stdout",
          "text": [
            "Evaluation Output:\n",
            "Feedback:\n",
            "- RAG Response:\n",
            "    - Relevance: The response is relevant to the query as it discusses the importance of addressing warning signs of depression early, but it could more directly relate to the consequences of early intervention.\n",
            "    - Semantic Similarity: The response captures some of the intent of the reference answer, particularly the notion of managing symptoms, but does not directly convey the idea of preventing worsening symptoms.\n",
            "    - Accuracy: The information provided about the signs and symptoms of depression is accurate and aligns with common understanding, but it does not focus on the early intervention aspect as much as the reference answer does.\n",
            "    - Factual Correctness: The mention of the DSM-V is factually correct, and the symptoms described are consistent with established knowledge about depression.\n",
            "    - Completeness: While the response provides a good overview of symptoms, it lacks a direct mention of the benefits of early intervention, making it less complete compared to the reference answer.\n",
            "    - Clarity: The response is generally clear and understandable, though some sentences could be simplified for better readability.\n",
            "    - Conciseness: The response is somewhat lengthy and includes additional details that, while informative, may detract from the main point about the importance of early intervention.\n",
            "\n",
            "### Overall Scores:\n",
            "- RAG Overall Score: 6\n"
          ]
        },
        {
          "output_type": "stream",
          "name": "stderr",
          "text": [
            "\rEvaluating responses:  80%|████████  | 80/100 [04:28<01:26,  4.32s/sample]"
          ]
        },
        {
          "output_type": "stream",
          "name": "stdout",
          "text": [
            "Evaluation Output:\n",
            "Feedback:\n",
            "- RAG Response:\n",
            "    - Relevance: The response is relevant as it directly addresses the aim of the Zero Suicide framework, focusing on suicide prevention.\n",
            "    - Semantic Similarity: The response captures the essence of the reference answer regarding the focus on reducing suicide within healthcare systems, though it adds more detail about the approach.\n",
            "    - Accuracy: The information provided is accurate regarding the goals of the Zero Suicide framework and aligns with known principles of suicide prevention.\n",
            "    - Factual Correctness: The mention of \"health equity principles\" and the target demographic (adults 18 and older) is consistent with the framework's objectives, thus factually correct.\n",
            "    - Completeness: The response is somewhat complete, covering the framework's aim and approach; however, it could include more about the specific strategies employed within healthcare systems.\n",
            "    - Clarity: The response is clear and straightforward, making it easy to understand the framework's goals.\n",
            "    - Conciseness: The response is concise, providing necessary details without unnecessary elaboration.\n",
            "\n",
            "### Overall Scores:\n",
            "- RAG Overall Score: 8\n"
          ]
        },
        {
          "output_type": "stream",
          "name": "stderr",
          "text": [
            "\rEvaluating responses:  81%|████████  | 81/100 [04:32<01:15,  3.99s/sample]"
          ]
        },
        {
          "output_type": "stream",
          "name": "stdout",
          "text": [
            "Evaluation Output:\n",
            "Feedback:\n",
            "- RAG Response:\n",
            "    - Relevance: The response effectively addresses the query by explaining how increased substance use can signal suicide risk, making it relevant to the question.\n",
            "    - Semantic Similarity: The response captures the essence of the reference answer by highlighting coping mechanisms and emotional pain, although it elaborates more extensively.\n",
            "    - Accuracy: The information provided is accurate, linking substance use with mental health issues and suicide risk appropriately.\n",
            "    - Factual Correctness: The facts presented are consistent with established knowledge about substance use and its relationship with mental health and suicide risk.\n",
            "    - Completeness: The response is comprehensive, covering multiple aspects of how substance use can relate to suicide risk, which is more detailed than the reference answer.\n",
            "    - Clarity: The response is clear and easy to understand, presenting ideas in a logical manner.\n",
            "    - Conciseness: While the response is thorough, it could be more concise; some information may be considered slightly redundant given the context of the question.\n",
            "\n",
            "### Overall Scores:\n",
            "- RAG Overall Score: 8\n"
          ]
        },
        {
          "output_type": "stream",
          "name": "stderr",
          "text": [
            "\rEvaluating responses:  82%|████████▏ | 82/100 [04:35<01:06,  3.72s/sample]"
          ]
        },
        {
          "output_type": "stream",
          "name": "stdout",
          "text": [
            "Evaluation Output:\n",
            "Feedback:\n",
            "- RAG Response:\n",
            "    - Relevance: The response effectively addresses the query by listing various early warning signs of mental health problems, making it relevant to the question asked.\n",
            "    - Semantic Similarity: The response captures the essence of the reference answer, as it includes similar concepts such as changes in energy levels and withdrawal from activities, although it is more extensive.\n",
            "    - Accuracy: The information provided is accurate and aligns with common knowledge regarding mental health warning signs.\n",
            "    - Factual Correctness: The facts presented are consistent with established understanding of mental health issues and are logically sound.\n",
            "    - Completeness: The response is thorough and covers a wide range of signs, providing more detail than the reference answer, which enhances completeness.\n",
            "    - Clarity: The response is clear and easy to understand, with each sign presented in a straightforward manner.\n",
            "    - Conciseness: While the response is comprehensive, it could be considered slightly lengthy. However, it does not contain unnecessary details, so it remains relatively concise.\n",
            "\n",
            "### Overall Scores:\n",
            "- RAG Overall Score: 9\n"
          ]
        },
        {
          "output_type": "stream",
          "name": "stderr",
          "text": [
            "\rEvaluating responses:  83%|████████▎ | 83/100 [04:38<01:02,  3.67s/sample]"
          ]
        },
        {
          "output_type": "stream",
          "name": "stdout",
          "text": [
            "Evaluation Output:\n",
            "Feedback:\n",
            "- RAG Response:\n",
            "    - Relevance: The response is relevant as it addresses how caregivers can discuss mental health with children, focusing on communication strategies.\n",
            "    - Semantic Similarity: The response captures the intent of the reference answer by emphasizing age-appropriate communication and a comfortable environment, but it expands on these ideas significantly.\n",
            "    - Accuracy: The information provided is accurate and aligns with best practices for discussing mental health with children.\n",
            "    - Factual Correctness: The response is factually correct, as it includes valid approaches for engaging children in conversations about their mental health.\n",
            "    - Completeness: The response is quite complete, covering multiple aspects of effective communication, including the child's emotional state and the caregiver's role in listening.\n",
            "    - Clarity: The response is clear and easy to understand, with straightforward language that is appropriate for the context.\n",
            "    - Conciseness: While the response is clear, it could be considered slightly verbose compared to the reference answer, which is more succinct.\n",
            "\n",
            "### Overall Scores:\n",
            "- RAG Overall Score: 8\n"
          ]
        },
        {
          "output_type": "stream",
          "name": "stderr",
          "text": [
            "\rEvaluating responses:  84%|████████▍ | 84/100 [04:42<00:58,  3.64s/sample]"
          ]
        },
        {
          "output_type": "stream",
          "name": "stdout",
          "text": [
            "Evaluation Output:\n",
            "Feedback:\n",
            "- RAG Response:\n",
            "    - Relevance: The response effectively addresses the query by contrasting phobias with general anxiety, making it relevant to the question.\n",
            "    - Semantic Similarity: The response captures the main ideas of the reference answer, maintaining the core distinctions between phobias and general anxiety, though it elaborates more.\n",
            "    - Accuracy: The information presented is accurate, distinguishing between specific fears associated with phobias and the broader nature of general anxiety.\n",
            "    - Factual Correctness: The details regarding the nature of phobias and general anxiety are factually correct and consistent with psychological understanding.\n",
            "    - Completeness: The response is complete, covering key aspects such as the irrationality of phobias, the intensity of the fear response, and avoidance behaviors.\n",
            "    - Clarity: The response is clear and well-structured, making it easy to follow and understand the differences between the two concepts.\n",
            "    - Conciseness: While the response is informative, it could be slightly more concise; some points could be streamlined without losing essential information.\n",
            "\n",
            "### Overall Scores:\n",
            "- RAG Overall Score: 8\n"
          ]
        },
        {
          "output_type": "stream",
          "name": "stderr",
          "text": [
            "\rEvaluating responses:  85%|████████▌ | 85/100 [04:47<01:03,  4.20s/sample]"
          ]
        },
        {
          "output_type": "stream",
          "name": "stdout",
          "text": [
            "Evaluation Output:\n",
            "Feedback:\n",
            "- RAG Response:\n",
            "    - Relevance: The response is highly relevant as it specifically addresses how the 988 Lifeline provides crisis support, aligning well with the query.\n",
            "    - Semantic Similarity: The response captures the essence of the reference answer, though it provides more detail. It maintains the intent of connecting individuals to trained counselors.\n",
            "    - Accuracy: The information presented is accurate, reflecting the Lifeline's services correctly.\n",
            "    - Factual Correctness: The facts regarding the service being confidential, available 24/7, and the existence of specialized lines are correct and consistent with reliable sources.\n",
            "    - Completeness: The response is complete as it covers various aspects of the Lifeline's support, including emotional support and resources for specific populations.\n",
            "    - Clarity: The response is clear and easy to understand, with a logical flow of information.\n",
            "    - Conciseness: While the response is somewhat lengthy, it remains focused on the topic without unnecessary details, though it could be slightly more concise.\n",
            "\n",
            "### Overall Scores:\n",
            "- RAG Overall Score: 9\n"
          ]
        },
        {
          "output_type": "stream",
          "name": "stderr",
          "text": [
            "\rEvaluating responses:  86%|████████▌ | 86/100 [04:53<01:03,  4.56s/sample]"
          ]
        },
        {
          "output_type": "stream",
          "name": "stdout",
          "text": [
            "Evaluation Output:\n",
            "Feedback:\n",
            "- RAG Response:\n",
            "    - Relevance: The response is relevant as it addresses coping techniques for social anxiety, aligning well with the query.\n",
            "    - Semantic Similarity: The response captures the general intent of the reference answer, but it includes additional techniques that are not mentioned in the reference, leading to a lower similarity.\n",
            "    - Accuracy: The techniques listed are accurate and valid methods for coping with social anxiety, which supports the response's credibility.\n",
            "    - Factual Correctness: The information provided is factually correct and aligns with common psychological practices for managing social anxiety.\n",
            "    - Completeness: The response is more comprehensive than the reference answer, covering a wider range of techniques, which enhances its completeness.\n",
            "    - Clarity: The response is clear and easy to understand, with a logical flow of ideas that makes it accessible to readers.\n",
            "    - Conciseness: While the response is thorough, it could be considered slightly verbose. Some points could be more succinctly expressed without losing meaning.\n",
            "\n",
            "### Overall Scores:\n",
            "- RAG Overall Score: 8\n"
          ]
        },
        {
          "output_type": "stream",
          "name": "stderr",
          "text": [
            "\rEvaluating responses:  87%|████████▋ | 87/100 [04:59<01:04,  5.00s/sample]"
          ]
        },
        {
          "output_type": "stream",
          "name": "stdout",
          "text": [
            "Evaluation Output:\n",
            "Feedback:\n",
            "- RAG Response:\n",
            "    - Relevance: The response partially addresses the query by mentioning Dialectical Behavior Therapy (DBT) as a support option, but it fails to mention other support options like support groups or nutrition counseling, which are also relevant.\n",
            "    - Semantic Similarity: The response does not capture the essence of the reference answer well. While it discusses a therapeutic approach, it does not align closely with the succinct nature of the reference answer.\n",
            "    - Accuracy: The mention of DBT is accurate as a treatment option for binge eating disorder, but the response lacks a broader perspective on available support options.\n",
            "    - Factual Correctness: The information about DBT is factually correct; however, it does not encompass the full range of support options that individuals with binge eating disorder might seek.\n",
            "    - Completeness: The response is incomplete as it only focuses on DBT without acknowledging other important support mechanisms like support groups and nutrition counseling.\n",
            "    - Clarity: The response is somewhat clear but could be more straightforward. The phrasing is a bit convoluted, making it harder to grasp the main point quickly.\n",
            "    - Conciseness: The response is overly verbose and contains unnecessary details that detract from the main message, making it less concise than it could be.\n",
            "\n",
            "### Overall Scores:\n",
            "- RAG Overall Score: 4\n"
          ]
        },
        {
          "output_type": "stream",
          "name": "stderr",
          "text": [
            "\rEvaluating responses:  88%|████████▊ | 88/100 [05:02<00:51,  4.33s/sample]"
          ]
        },
        {
          "output_type": "stream",
          "name": "stdout",
          "text": [
            "Evaluation Output:\n",
            "Feedback:\n",
            "- RAG Response:\n",
            "    - Relevance: The response effectively addresses the query by discussing the importance of early intervention in children's mental health, which is directly related to the question.\n",
            "    - Semantic Similarity: The response captures the overall intent of the reference answer but does so in a more detailed manner. However, it does not align closely in phrasing.\n",
            "    - Accuracy: The information provided is accurate, as it discusses the significance of early intervention in mental health, which is well-supported in research.\n",
            "    - Factual Correctness: The facts presented are consistent with established knowledge about mental health in children, particularly regarding early signs and intervention.\n",
            "    - Completeness: The response is thorough, covering multiple aspects of why early intervention is important, including the prevention of worsening conditions and promoting healthy development.\n",
            "    - Clarity: The response is clear and easy to understand, with well-structured sentences that convey the message effectively.\n",
            "    - Conciseness: While the response is somewhat longer than necessary, it does not contain extraneous details and maintains focus on the topic.\n",
            "\n",
            "### Overall Scores:\n",
            "- RAG Overall Score: 8\n"
          ]
        },
        {
          "output_type": "stream",
          "name": "stderr",
          "text": [
            "\rEvaluating responses:  89%|████████▉ | 89/100 [05:07<00:52,  4.76s/sample]"
          ]
        },
        {
          "output_type": "stream",
          "name": "stdout",
          "text": [
            "Evaluation Output:\n",
            "Feedback:\n",
            "- RAG Response:\n",
            "    - Relevance: The response is relevant as it addresses the role of extreme mood swings in suicide risk, which directly relates to the query.\n",
            "    - Semantic Similarity: The response captures the essence of the reference answer by indicating that mood swings can signify emotional distress, although it expands on the topic with additional details.\n",
            "    - Accuracy: The information provided is accurate, highlighting the connection between mood swings and increased suicide risk effectively.\n",
            "    - Factual Correctness: The response is factually correct, as it aligns with established knowledge regarding mood swings and their implications for mental health.\n",
            "    - Completeness: The response is somewhat complete, covering the warning signs and the need for professional help, but it could have mentioned the impact on relationships, which was a key point in the reference answer.\n",
            "    - Clarity: The response is clear and easy to understand, presenting the information in a straightforward manner.\n",
            "    - Conciseness: While the response is generally concise, it could be slightly more succinct by eliminating some repetitive phrases about seeking help.\n",
            "\n",
            "### Overall Scores:\n",
            "- RAG Overall Score: 8\n"
          ]
        },
        {
          "output_type": "stream",
          "name": "stderr",
          "text": [
            "\rEvaluating responses:  90%|█████████ | 90/100 [05:13<00:48,  4.89s/sample]"
          ]
        },
        {
          "output_type": "stream",
          "name": "stdout",
          "text": [
            "Evaluation Output:\n",
            "Feedback:\n",
            "- RAG Response:\n",
            "    - Relevance: The response effectively addresses the query by discussing ways schools can prevent self-harm, which is the main focus of the question.\n",
            "    - Semantic Similarity: While the RAG response expands on the topic more than the reference answer, it captures the intent of providing support and education, which aligns with the reference.\n",
            "    - Accuracy: The information presented is accurate regarding school interventions for preventing self-harm, highlighting social and emotional development and mental health supports.\n",
            "    - Factual Correctness: The response is factually correct, as it discusses recognized methods for intervention in schools that are commonly accepted in mental health discourse.\n",
            "    - Completeness: The response is more comprehensive than the reference answer, covering multiple aspects such as early intervention, awareness of warning signs, and promoting good health, which adds depth to the discussion.\n",
            "    - Clarity: The response is clear and well-structured, making it easy to understand the proposed strategies for prevention.\n",
            "    - Conciseness: While the response is somewhat longer than the reference answer, it remains focused and does not include unnecessary information.\n",
            "\n",
            "### Overall Scores:\n",
            "- RAG Overall Score: 9\n"
          ]
        },
        {
          "output_type": "stream",
          "name": "stderr",
          "text": [
            "\rEvaluating responses:  91%|█████████ | 91/100 [05:15<00:38,  4.30s/sample]"
          ]
        },
        {
          "output_type": "stream",
          "name": "stdout",
          "text": [
            "Evaluation Output:\n",
            "Feedback:\n",
            "- RAG Response:\n",
            "    - Relevance: The response is relevant as it directly addresses the differences between SAD and general depression, which is the core of the query.\n",
            "    - Semantic Similarity: The response captures the essence of the reference answer, discussing seasonal aspects of SAD and contrasting them with general depression, though it expands on details not present in the reference.\n",
            "    - Accuracy: The information provided is accurate, correctly identifying the seasonal nature of SAD and the various factors that can contribute to general depression.\n",
            "    - Factual Correctness: The facts presented are consistent with established knowledge about SAD and depression, making the response factually correct.\n",
            "    - Completeness: The response is thorough, covering multiple aspects of the differences between SAD and general depression, which adds depth to the answer compared to the reference.\n",
            "    - Clarity: The response is clear and easy to understand, with well-structured sentences that effectively convey the information.\n",
            "    - Conciseness: While the response is complete, it could be considered a bit lengthy for the query, as it includes additional details that may not be necessary for a brief comparison.\n",
            "\n",
            "### Overall Scores:\n",
            "- RAG Overall Score: 8\n"
          ]
        },
        {
          "output_type": "stream",
          "name": "stderr",
          "text": [
            "\rEvaluating responses:  92%|█████████▏| 92/100 [05:18<00:31,  3.92s/sample]"
          ]
        },
        {
          "output_type": "stream",
          "name": "stdout",
          "text": [
            "Evaluation Output:\n",
            "Feedback:\n",
            "- RAG Response:\n",
            "    - Relevance: The response is relevant as it directly addresses practices that can improve emotional and spiritual well-being, which aligns with the query.\n",
            "    - Semantic Similarity: The RAG response captures the intent of the reference answer by discussing practices for emotional and spiritual support, though it elaborates more than the reference.\n",
            "    - Accuracy: The information provided is accurate and logically sound, discussing well-known practices that contribute to emotional and spiritual well-being.\n",
            "    - Factual Correctness: The practices mentioned, such as yoga and meditation, are widely recognized for their benefits, making the response factually correct.\n",
            "    - Completeness: The response is comprehensive, covering a range of practices that can enhance emotional and spiritual well-being without omitting critical information.\n",
            "    - Clarity: The response is clear and easy to understand, with straightforward language that effectively communicates the ideas.\n",
            "    - Conciseness: While the response is thorough, it could be considered slightly verbose; some points could be streamlined for greater conciseness.\n",
            "\n",
            "### Overall Scores:\n",
            "- RAG Overall Score: 8\n"
          ]
        },
        {
          "output_type": "stream",
          "name": "stderr",
          "text": [
            "\rEvaluating responses:  93%|█████████▎| 93/100 [05:22<00:26,  3.72s/sample]"
          ]
        },
        {
          "output_type": "stream",
          "name": "stdout",
          "text": [
            "Evaluation Output:\n",
            "Feedback:\n",
            "- RAG Response:\n",
            "    - Relevance: The response is relevant as it addresses psychological factors contributing to eating disorders, which directly relates to the query.\n",
            "    - Semantic Similarity: There is a moderate level of semantic similarity with the reference answer, as both mention negative self-image and co-existing mental illnesses, though the RAG response is more expansive.\n",
            "    - Accuracy: The information provided is generally accurate, listing recognized psychological factors associated with eating disorders.\n",
            "    - Factual Correctness: The factors mentioned in the RAG response are factually correct and align with established knowledge about eating disorders.\n",
            "    - Completeness: The response is quite comprehensive, listing multiple psychological factors, which adds depth beyond the reference answer.\n",
            "    - Clarity: The response is clear and structured well, making it easy to follow the listed factors.\n",
            "    - Conciseness: While the response is detailed, it could be considered slightly verbose; some points may be redundant or overly detailed for a concise answer.\n",
            "\n",
            "### Overall Scores:\n",
            "- RAG Overall Score: 8\n"
          ]
        },
        {
          "output_type": "stream",
          "name": "stderr",
          "text": [
            "\rEvaluating responses:  94%|█████████▍| 94/100 [05:25<00:21,  3.53s/sample]"
          ]
        },
        {
          "output_type": "stream",
          "name": "stdout",
          "text": [
            "Evaluation Output:\n",
            "Feedback:\n",
            "- RAG Response:\n",
            "    - Relevance: The response effectively addresses the query by listing several support strategies for individuals with schizophrenia, making it relevant to the question asked.\n",
            "    - Semantic Similarity: While the response does not directly mirror the reference answer, it captures the essence of providing support strategies, albeit in a more detailed manner.\n",
            "    - Accuracy: The information provided in the response is generally accurate and aligns with common support strategies for schizophrenia.\n",
            "    - Factual Correctness: The strategies mentioned, such as sticking to a treatment plan and involving family, are consistent with established practices for managing schizophrenia, indicating factual correctness.\n",
            "    - Completeness: The response is comprehensive, covering multiple strategies that can benefit individuals with schizophrenia, which goes beyond the brevity of the reference answer.\n",
            "    - Clarity: The response is clear and easy to understand, with a logical flow that makes the strategies easy to follow.\n",
            "    - Conciseness: While the response is comprehensive, it could be more concise; some points could be combined or streamlined to avoid redundancy.\n",
            "\n",
            "### Overall Scores:\n",
            "- RAG Overall Score: 8\n"
          ]
        },
        {
          "output_type": "stream",
          "name": "stderr",
          "text": [
            "\rEvaluating responses:  95%|█████████▌| 95/100 [05:29<00:19,  3.84s/sample]"
          ]
        },
        {
          "output_type": "stream",
          "name": "stdout",
          "text": [
            "Evaluation Output:\n",
            "Feedback:\n",
            "- RAG Response:\n",
            "    - Relevance: The response is relevant as it addresses behaviors that indicate a child's mental health issues, which is directly related to the query about steps caregivers should take. However, it lacks a broader scope of actions caregivers should consider.\n",
            "    - Semantic Similarity: The response captures some of the intent of the reference answer but does not align closely in terms of providing a comprehensive approach. The reference answer emphasizes consulting healthcare providers and maintaining communication, which the RAG response does not address.\n",
            "    - Accuracy: The behavioral indicators provided are accurate and relevant to mental health concerns in children. However, the response does not specify that these behaviors should prompt caregivers to take action, which may lead to some ambiguity.\n",
            "    - Factual Correctness: The facts presented about specific behaviors are consistent with recognized signs of mental health issues in children. However, the lack of a clear recommendation for caregivers to consult professionals diminishes the overall factual correctness regarding actionable steps.\n",
            "    - Completeness: The response lists several concerning behaviors but fails to provide a complete picture of the steps caregivers should take, such as seeking professional help or maintaining communication with the child.\n",
            "    - Clarity: The response is clear in describing specific behaviors; however, it lacks clarity in conveying the overall steps caregivers should take, leading to potential confusion about the next actions.\n",
            "    - Conciseness: The response is concise in listing behaviors but could be seen as overly focused on symptoms rather than providing a succinct summary of steps to take, which affects its overall conciseness in the context of the query.\n",
            "\n",
            "### Overall Scores:\n",
            "- RAG Overall Score: 5\n"
          ]
        },
        {
          "output_type": "stream",
          "name": "stderr",
          "text": [
            "\rEvaluating responses:  96%|█████████▌| 96/100 [05:33<00:14,  3.70s/sample]"
          ]
        },
        {
          "output_type": "stream",
          "name": "stdout",
          "text": [
            "Evaluation Output:\n",
            "Feedback:\n",
            "- RAG Response:\n",
            "    - Relevance: The response addresses the query by indicating the impact of untreated OCD on daily life, but it lacks specific details or examples that would enhance its relevance.\n",
            "    - Semantic Similarity: The response captures the general idea of the reference answer but does not convey the same depth of meaning or specific information regarding compulsions and quality of life.\n",
            "    - Accuracy: The statement is accurate in suggesting that untreated OCD can significantly affect life, but it is overly simplistic and does not elaborate on how it manifests.\n",
            "    - Factual Correctness: The statement is factually correct in its claim that OCD can take over one's life, but it does not provide sufficient context or details to fully inform the reader.\n",
            "    - Completeness: The response is incomplete as it does not mention the specific effects of OCD, such as compulsions or the reduction in quality of life, which are critical aspects of the query.\n",
            "    - Clarity: The response is clear in its message but lacks detail that would provide a more comprehensive understanding.\n",
            "    - Conciseness: The response is concise, but it sacrifices essential information for brevity, resulting in a lack of depth.\n",
            "\n",
            "### Overall Scores:\n",
            "- RAG Overall Score: 4\n"
          ]
        },
        {
          "output_type": "stream",
          "name": "stderr",
          "text": [
            "\rEvaluating responses:  97%|█████████▋| 97/100 [05:35<00:10,  3.40s/sample]"
          ]
        },
        {
          "output_type": "stream",
          "name": "stdout",
          "text": [
            "Evaluation Output:\n",
            "Feedback:\n",
            "- RAG Response:\n",
            "    - Relevance: The response effectively addresses the query by providing specific signs for parents to look out for regarding mental health concerns in children. It is directly relevant to the question.\n",
            "    - Semantic Similarity: The RAG response captures the essence of the reference answer by mentioning signs of mental health issues, but it elaborates more than the reference, which may lead to some divergence in phrasing.\n",
            "    - Accuracy: The warning signs listed in the RAG response are accurate and align with common indicators of mental health issues in children.\n",
            "    - Factual Correctness: The information provided is factually correct and reflects widely recognized signs of mental health concerns, consistent with reliable sources.\n",
            "    - Completeness: The response is thorough, covering a variety of behaviors that indicate potential mental health issues, thus providing a comprehensive view.\n",
            "    - Clarity: The response is clear and easy to understand, with each sign presented in a straightforward manner.\n",
            "    - Conciseness: While the response is detailed, it is somewhat lengthy compared to the reference answer, which is more concise. However, the additional details may be valuable for parents.\n",
            "\n",
            "### Overall Scores:\n",
            "- RAG Overall Score: 8\n"
          ]
        },
        {
          "output_type": "stream",
          "name": "stderr",
          "text": [
            "\rEvaluating responses:  98%|█████████▊| 98/100 [05:38<00:06,  3.09s/sample]"
          ]
        },
        {
          "output_type": "stream",
          "name": "stdout",
          "text": [
            "Evaluation Output:\n",
            "Feedback:\n",
            "- RAG Response:\n",
            "    - Relevance: The response addresses the query by discussing the causes of social anxiety disorder, which is relevant to the question asked.\n",
            "    - Semantic Similarity: The response captures the intent of the reference answer but does not align closely in phrasing or completeness, as it introduces additional factors.\n",
            "    - Accuracy: The information provided is generally accurate, mentioning genetics and learned behavior as potential causes.\n",
            "    - Factual Correctness: The facts are consistent with known information about social anxiety disorder, but the phrase \"not fully known\" could imply uncertainty that is not as definitive as the reference answer.\n",
            "    - Completeness: The response lacks completeness as it does not succinctly summarize the primary causes, focusing instead on a broader explanation that includes learned behavior.\n",
            "    - Clarity: The response is clear but could be more straightforward in its explanation of the causes without extra qualifiers.\n",
            "    - Conciseness: The response could be more concise; the phrase \"It's not fully known what are the specific causes\" adds unnecessary length without contributing significant value.\n",
            "\n",
            "### Overall Scores:\n",
            "- RAG Overall Score: 6\n"
          ]
        },
        {
          "output_type": "stream",
          "name": "stderr",
          "text": [
            "\rEvaluating responses:  99%|█████████▉| 99/100 [05:41<00:02,  2.99s/sample]"
          ]
        },
        {
          "output_type": "stream",
          "name": "stdout",
          "text": [
            "Evaluation Output:\n",
            "Feedback:\n",
            "- RAG Response:\n",
            "    - Relevance: The response is highly relevant as it directly addresses the signs that indicate a child may need mental health support, which aligns well with the query.\n",
            "    - Semantic Similarity: The RAG response captures the essence of the reference answer but goes into more detail. While it does not match the brevity of the reference, it conveys similar concepts of mood swings and behavioral changes.\n",
            "    - Accuracy: The information presented in the response is accurate and aligns with common signs of mental health issues in children.\n",
            "    - Factual Correctness: The facts provided are consistent with reliable sources regarding mental health indicators in children, confirming the response's reliability.\n",
            "    - Completeness: The response is quite complete, listing multiple signs of mental health issues, which provides a broader understanding than the reference answer.\n",
            "    - Clarity: The response is clear and understandable, although it could be slightly more structured for better readability.\n",
            "    - Conciseness: The response is somewhat lengthy and could be more concise. It includes many signs, which, while informative, may overwhelm the reader.\n",
            "\n",
            "### Overall Scores:\n",
            "- RAG Overall Score: 8\n"
          ]
        },
        {
          "output_type": "stream",
          "name": "stderr",
          "text": [
            "Evaluating responses: 100%|██████████| 100/100 [05:43<00:00,  3.43s/sample]"
          ]
        },
        {
          "output_type": "stream",
          "name": "stdout",
          "text": [
            "Evaluation Output:\n",
            "Feedback:\n",
            "- RAG Response:\n",
            "    - Relevance: The response is relevant as it addresses the query regarding biological factors contributing to mental health conditions.\n",
            "    - Semantic Similarity: The response captures the main idea of the reference answer, though it does not use the same phrasing.\n",
            "    - Accuracy: The information about genes and brain chemistry is accurate and relevant to mental health conditions.\n",
            "    - Factual Correctness: The facts presented are consistent with the reference answer and align with established knowledge in the field.\n",
            "    - Completeness: The response is somewhat limited as it only mentions two factors (genes and brain chemistry) without elaborating or including other potential biological factors.\n",
            "    - Clarity: The response is clear and easy to understand, presenting the information in a straightforward manner.\n",
            "    - Conciseness: The response is concise and avoids unnecessary details, effectively conveying the main points.\n",
            "\n",
            "### Overall Scores:\n",
            "- RAG Overall Score: 7\n"
          ]
        },
        {
          "output_type": "stream",
          "name": "stderr",
          "text": [
            "\n"
          ]
        }
      ]
    },
    {
      "cell_type": "code",
      "source": [
        "import json\n",
        "\n",
        "with open(\"evaluation_results_rag_1000_100_gte-large.json\", \"w\") as f:\n",
        "    json.dump(evaluations, f, indent=4)"
      ],
      "metadata": {
        "id": "V9cNuG9n6kx_"
      },
      "execution_count": null,
      "outputs": []
    },
    {
      "cell_type": "code",
      "source": [
        "results = pd.DataFrame(evaluations)"
      ],
      "metadata": {
        "id": "HrIkRSPLmV0N"
      },
      "execution_count": null,
      "outputs": []
    },
    {
      "cell_type": "code",
      "source": [
        "results.head()"
      ],
      "metadata": {
        "colab": {
          "base_uri": "https://localhost:8080/",
          "height": 345
        },
        "id": "9HedlVppulV4",
        "outputId": "c8a137f4-f575-4709-9203-663318d96c16"
      },
      "execution_count": null,
      "outputs": [
        {
          "output_type": "execute_result",
          "data": {
            "text/plain": [
              "                                            Question  \\\n",
              "0   What triggers Seasonal Affective Disorder (SAD)?   \n",
              "1      What are the health risks of bulimia nervosa?   \n",
              "2  How can someone with mental health problems ma...   \n",
              "3       What are the risk factors for schizophrenia?   \n",
              "4   How does schizophrenia impact daily functioning?   \n",
              "\n",
              "                                        Ground_Truth  \\\n",
              "0  SAD is triggered by seasonal changes, especial...   \n",
              "1  Risks include dental decay, dehydration, and s...   \n",
              "2  By finding trustworthy individuals who provide...   \n",
              "3  Risk factors include genetic predisposition an...   \n",
              "4  It affects work, socialization, and completing...   \n",
              "\n",
              "                                              Source        Category  \\\n",
              "0  https://www.samhsa.gov/mental-health/seasonal-...  Mental Illness   \n",
              "1  https://www.samhsa.gov/mental-health/eating-di...  Mental Illness   \n",
              "2  https://www.samhsa.gov/mental-health/how-to-ta...   Mental Health   \n",
              "3  https://www.samhsa.gov/mental-health/schizophr...  Mental Illness   \n",
              "4  https://www.samhsa.gov/mental-health/schizophr...  Mental Illness   \n",
              "\n",
              "                                             Context  \\\n",
              "0  ['Seasonal affective disorder, or SAD, is a co...   \n",
              "1  ['It is common that binge eating will lead to ...   \n",
              "2  [\"Anyone can experience mental health problems...   \n",
              "3  ['Schizophrenia is a serious brain disorder th...   \n",
              "4  ['Schizophrenia is a serious brain disorder th...   \n",
              "\n",
              "                                        rag_response  RAG_Score  \n",
              "0  According to the context, Seasonal Affective D...          9  \n",
              "1  The health risks of bulimia nervosa include ch...          8  \n",
              "2  Find someone—such as a parent, family member, ...          7  \n",
              "3  According to the provided context, risk factor...          2  \n",
              "4  Schizophrenia can be extremely disruptive to a...          9  "
            ],
            "text/html": [
              "\n",
              "  <div id=\"df-bd140083-1db0-45f1-a3a0-da312a679bb9\" class=\"colab-df-container\">\n",
              "    <div>\n",
              "<style scoped>\n",
              "    .dataframe tbody tr th:only-of-type {\n",
              "        vertical-align: middle;\n",
              "    }\n",
              "\n",
              "    .dataframe tbody tr th {\n",
              "        vertical-align: top;\n",
              "    }\n",
              "\n",
              "    .dataframe thead th {\n",
              "        text-align: right;\n",
              "    }\n",
              "</style>\n",
              "<table border=\"1\" class=\"dataframe\">\n",
              "  <thead>\n",
              "    <tr style=\"text-align: right;\">\n",
              "      <th></th>\n",
              "      <th>Question</th>\n",
              "      <th>Ground_Truth</th>\n",
              "      <th>Source</th>\n",
              "      <th>Category</th>\n",
              "      <th>Context</th>\n",
              "      <th>rag_response</th>\n",
              "      <th>RAG_Score</th>\n",
              "    </tr>\n",
              "  </thead>\n",
              "  <tbody>\n",
              "    <tr>\n",
              "      <th>0</th>\n",
              "      <td>What triggers Seasonal Affective Disorder (SAD)?</td>\n",
              "      <td>SAD is triggered by seasonal changes, especial...</td>\n",
              "      <td>https://www.samhsa.gov/mental-health/seasonal-...</td>\n",
              "      <td>Mental Illness</td>\n",
              "      <td>['Seasonal affective disorder, or SAD, is a co...</td>\n",
              "      <td>According to the context, Seasonal Affective D...</td>\n",
              "      <td>9</td>\n",
              "    </tr>\n",
              "    <tr>\n",
              "      <th>1</th>\n",
              "      <td>What are the health risks of bulimia nervosa?</td>\n",
              "      <td>Risks include dental decay, dehydration, and s...</td>\n",
              "      <td>https://www.samhsa.gov/mental-health/eating-di...</td>\n",
              "      <td>Mental Illness</td>\n",
              "      <td>['It is common that binge eating will lead to ...</td>\n",
              "      <td>The health risks of bulimia nervosa include ch...</td>\n",
              "      <td>8</td>\n",
              "    </tr>\n",
              "    <tr>\n",
              "      <th>2</th>\n",
              "      <td>How can someone with mental health problems ma...</td>\n",
              "      <td>By finding trustworthy individuals who provide...</td>\n",
              "      <td>https://www.samhsa.gov/mental-health/how-to-ta...</td>\n",
              "      <td>Mental Health</td>\n",
              "      <td>[\"Anyone can experience mental health problems...</td>\n",
              "      <td>Find someone—such as a parent, family member, ...</td>\n",
              "      <td>7</td>\n",
              "    </tr>\n",
              "    <tr>\n",
              "      <th>3</th>\n",
              "      <td>What are the risk factors for schizophrenia?</td>\n",
              "      <td>Risk factors include genetic predisposition an...</td>\n",
              "      <td>https://www.samhsa.gov/mental-health/schizophr...</td>\n",
              "      <td>Mental Illness</td>\n",
              "      <td>['Schizophrenia is a serious brain disorder th...</td>\n",
              "      <td>According to the provided context, risk factor...</td>\n",
              "      <td>2</td>\n",
              "    </tr>\n",
              "    <tr>\n",
              "      <th>4</th>\n",
              "      <td>How does schizophrenia impact daily functioning?</td>\n",
              "      <td>It affects work, socialization, and completing...</td>\n",
              "      <td>https://www.samhsa.gov/mental-health/schizophr...</td>\n",
              "      <td>Mental Illness</td>\n",
              "      <td>['Schizophrenia is a serious brain disorder th...</td>\n",
              "      <td>Schizophrenia can be extremely disruptive to a...</td>\n",
              "      <td>9</td>\n",
              "    </tr>\n",
              "  </tbody>\n",
              "</table>\n",
              "</div>\n",
              "    <div class=\"colab-df-buttons\">\n",
              "\n",
              "  <div class=\"colab-df-container\">\n",
              "    <button class=\"colab-df-convert\" onclick=\"convertToInteractive('df-bd140083-1db0-45f1-a3a0-da312a679bb9')\"\n",
              "            title=\"Convert this dataframe to an interactive table.\"\n",
              "            style=\"display:none;\">\n",
              "\n",
              "  <svg xmlns=\"http://www.w3.org/2000/svg\" height=\"24px\" viewBox=\"0 -960 960 960\">\n",
              "    <path d=\"M120-120v-720h720v720H120Zm60-500h600v-160H180v160Zm220 220h160v-160H400v160Zm0 220h160v-160H400v160ZM180-400h160v-160H180v160Zm440 0h160v-160H620v160ZM180-180h160v-160H180v160Zm440 0h160v-160H620v160Z\"/>\n",
              "  </svg>\n",
              "    </button>\n",
              "\n",
              "  <style>\n",
              "    .colab-df-container {\n",
              "      display:flex;\n",
              "      gap: 12px;\n",
              "    }\n",
              "\n",
              "    .colab-df-convert {\n",
              "      background-color: #E8F0FE;\n",
              "      border: none;\n",
              "      border-radius: 50%;\n",
              "      cursor: pointer;\n",
              "      display: none;\n",
              "      fill: #1967D2;\n",
              "      height: 32px;\n",
              "      padding: 0 0 0 0;\n",
              "      width: 32px;\n",
              "    }\n",
              "\n",
              "    .colab-df-convert:hover {\n",
              "      background-color: #E2EBFA;\n",
              "      box-shadow: 0px 1px 2px rgba(60, 64, 67, 0.3), 0px 1px 3px 1px rgba(60, 64, 67, 0.15);\n",
              "      fill: #174EA6;\n",
              "    }\n",
              "\n",
              "    .colab-df-buttons div {\n",
              "      margin-bottom: 4px;\n",
              "    }\n",
              "\n",
              "    [theme=dark] .colab-df-convert {\n",
              "      background-color: #3B4455;\n",
              "      fill: #D2E3FC;\n",
              "    }\n",
              "\n",
              "    [theme=dark] .colab-df-convert:hover {\n",
              "      background-color: #434B5C;\n",
              "      box-shadow: 0px 1px 3px 1px rgba(0, 0, 0, 0.15);\n",
              "      filter: drop-shadow(0px 1px 2px rgba(0, 0, 0, 0.3));\n",
              "      fill: #FFFFFF;\n",
              "    }\n",
              "  </style>\n",
              "\n",
              "    <script>\n",
              "      const buttonEl =\n",
              "        document.querySelector('#df-bd140083-1db0-45f1-a3a0-da312a679bb9 button.colab-df-convert');\n",
              "      buttonEl.style.display =\n",
              "        google.colab.kernel.accessAllowed ? 'block' : 'none';\n",
              "\n",
              "      async function convertToInteractive(key) {\n",
              "        const element = document.querySelector('#df-bd140083-1db0-45f1-a3a0-da312a679bb9');\n",
              "        const dataTable =\n",
              "          await google.colab.kernel.invokeFunction('convertToInteractive',\n",
              "                                                    [key], {});\n",
              "        if (!dataTable) return;\n",
              "\n",
              "        const docLinkHtml = 'Like what you see? Visit the ' +\n",
              "          '<a target=\"_blank\" href=https://colab.research.google.com/notebooks/data_table.ipynb>data table notebook</a>'\n",
              "          + ' to learn more about interactive tables.';\n",
              "        element.innerHTML = '';\n",
              "        dataTable['output_type'] = 'display_data';\n",
              "        await google.colab.output.renderOutput(dataTable, element);\n",
              "        const docLink = document.createElement('div');\n",
              "        docLink.innerHTML = docLinkHtml;\n",
              "        element.appendChild(docLink);\n",
              "      }\n",
              "    </script>\n",
              "  </div>\n",
              "\n",
              "\n",
              "<div id=\"df-17784464-b088-4712-a60a-7e89709be609\">\n",
              "  <button class=\"colab-df-quickchart\" onclick=\"quickchart('df-17784464-b088-4712-a60a-7e89709be609')\"\n",
              "            title=\"Suggest charts\"\n",
              "            style=\"display:none;\">\n",
              "\n",
              "<svg xmlns=\"http://www.w3.org/2000/svg\" height=\"24px\"viewBox=\"0 0 24 24\"\n",
              "     width=\"24px\">\n",
              "    <g>\n",
              "        <path d=\"M19 3H5c-1.1 0-2 .9-2 2v14c0 1.1.9 2 2 2h14c1.1 0 2-.9 2-2V5c0-1.1-.9-2-2-2zM9 17H7v-7h2v7zm4 0h-2V7h2v10zm4 0h-2v-4h2v4z\"/>\n",
              "    </g>\n",
              "</svg>\n",
              "  </button>\n",
              "\n",
              "<style>\n",
              "  .colab-df-quickchart {\n",
              "      --bg-color: #E8F0FE;\n",
              "      --fill-color: #1967D2;\n",
              "      --hover-bg-color: #E2EBFA;\n",
              "      --hover-fill-color: #174EA6;\n",
              "      --disabled-fill-color: #AAA;\n",
              "      --disabled-bg-color: #DDD;\n",
              "  }\n",
              "\n",
              "  [theme=dark] .colab-df-quickchart {\n",
              "      --bg-color: #3B4455;\n",
              "      --fill-color: #D2E3FC;\n",
              "      --hover-bg-color: #434B5C;\n",
              "      --hover-fill-color: #FFFFFF;\n",
              "      --disabled-bg-color: #3B4455;\n",
              "      --disabled-fill-color: #666;\n",
              "  }\n",
              "\n",
              "  .colab-df-quickchart {\n",
              "    background-color: var(--bg-color);\n",
              "    border: none;\n",
              "    border-radius: 50%;\n",
              "    cursor: pointer;\n",
              "    display: none;\n",
              "    fill: var(--fill-color);\n",
              "    height: 32px;\n",
              "    padding: 0;\n",
              "    width: 32px;\n",
              "  }\n",
              "\n",
              "  .colab-df-quickchart:hover {\n",
              "    background-color: var(--hover-bg-color);\n",
              "    box-shadow: 0 1px 2px rgba(60, 64, 67, 0.3), 0 1px 3px 1px rgba(60, 64, 67, 0.15);\n",
              "    fill: var(--button-hover-fill-color);\n",
              "  }\n",
              "\n",
              "  .colab-df-quickchart-complete:disabled,\n",
              "  .colab-df-quickchart-complete:disabled:hover {\n",
              "    background-color: var(--disabled-bg-color);\n",
              "    fill: var(--disabled-fill-color);\n",
              "    box-shadow: none;\n",
              "  }\n",
              "\n",
              "  .colab-df-spinner {\n",
              "    border: 2px solid var(--fill-color);\n",
              "    border-color: transparent;\n",
              "    border-bottom-color: var(--fill-color);\n",
              "    animation:\n",
              "      spin 1s steps(1) infinite;\n",
              "  }\n",
              "\n",
              "  @keyframes spin {\n",
              "    0% {\n",
              "      border-color: transparent;\n",
              "      border-bottom-color: var(--fill-color);\n",
              "      border-left-color: var(--fill-color);\n",
              "    }\n",
              "    20% {\n",
              "      border-color: transparent;\n",
              "      border-left-color: var(--fill-color);\n",
              "      border-top-color: var(--fill-color);\n",
              "    }\n",
              "    30% {\n",
              "      border-color: transparent;\n",
              "      border-left-color: var(--fill-color);\n",
              "      border-top-color: var(--fill-color);\n",
              "      border-right-color: var(--fill-color);\n",
              "    }\n",
              "    40% {\n",
              "      border-color: transparent;\n",
              "      border-right-color: var(--fill-color);\n",
              "      border-top-color: var(--fill-color);\n",
              "    }\n",
              "    60% {\n",
              "      border-color: transparent;\n",
              "      border-right-color: var(--fill-color);\n",
              "    }\n",
              "    80% {\n",
              "      border-color: transparent;\n",
              "      border-right-color: var(--fill-color);\n",
              "      border-bottom-color: var(--fill-color);\n",
              "    }\n",
              "    90% {\n",
              "      border-color: transparent;\n",
              "      border-bottom-color: var(--fill-color);\n",
              "    }\n",
              "  }\n",
              "</style>\n",
              "\n",
              "  <script>\n",
              "    async function quickchart(key) {\n",
              "      const quickchartButtonEl =\n",
              "        document.querySelector('#' + key + ' button');\n",
              "      quickchartButtonEl.disabled = true;  // To prevent multiple clicks.\n",
              "      quickchartButtonEl.classList.add('colab-df-spinner');\n",
              "      try {\n",
              "        const charts = await google.colab.kernel.invokeFunction(\n",
              "            'suggestCharts', [key], {});\n",
              "      } catch (error) {\n",
              "        console.error('Error during call to suggestCharts:', error);\n",
              "      }\n",
              "      quickchartButtonEl.classList.remove('colab-df-spinner');\n",
              "      quickchartButtonEl.classList.add('colab-df-quickchart-complete');\n",
              "    }\n",
              "    (() => {\n",
              "      let quickchartButtonEl =\n",
              "        document.querySelector('#df-17784464-b088-4712-a60a-7e89709be609 button');\n",
              "      quickchartButtonEl.style.display =\n",
              "        google.colab.kernel.accessAllowed ? 'block' : 'none';\n",
              "    })();\n",
              "  </script>\n",
              "</div>\n",
              "\n",
              "    </div>\n",
              "  </div>\n"
            ],
            "application/vnd.google.colaboratory.intrinsic+json": {
              "type": "dataframe",
              "variable_name": "results",
              "summary": "{\n  \"name\": \"results\",\n  \"rows\": 100,\n  \"fields\": [\n    {\n      \"column\": \"Question\",\n      \"properties\": {\n        \"dtype\": \"string\",\n        \"num_unique_values\": 100,\n        \"samples\": [\n          \"How are phobias different from general anxiety?\",\n          \"How can someone help a person showing warning signs of suicide?\",\n          \"What causes self-harm behaviors?\"\n        ],\n        \"semantic_type\": \"\",\n        \"description\": \"\"\n      }\n    },\n    {\n      \"column\": \"Ground_Truth\",\n      \"properties\": {\n        \"dtype\": \"string\",\n        \"num_unique_values\": 100,\n        \"samples\": [\n          \"Phobias are irrational fears specific to certain objects or situations, unlike generalized anxiety which is ongoing and not situation-specific.\",\n          \"They can listen without judgment, ask directly about suicidal thoughts, stay with the person, and remove potential means of self-harm.\",\n          \"Causes include emotional distress and difficulty coping with negative feelings.\"\n        ],\n        \"semantic_type\": \"\",\n        \"description\": \"\"\n      }\n    },\n    {\n      \"column\": \"Source\",\n      \"properties\": {\n        \"dtype\": \"category\",\n        \"num_unique_values\": 13,\n        \"samples\": [\n          \"Counsel chat dataset\",\n          \"https://www.samhsa.gov/mental-health/suicide/prevention\",\n          \"https://www.samhsa.gov/mental-health/seasonal-affective-disorder\"\n        ],\n        \"semantic_type\": \"\",\n        \"description\": \"\"\n      }\n    },\n    {\n      \"column\": \"Category\",\n      \"properties\": {\n        \"dtype\": \"category\",\n        \"num_unique_values\": 5,\n        \"samples\": [\n          \"Mental Health\",\n          \"Depression\",\n          \"Anxiety\"\n        ],\n        \"semantic_type\": \"\",\n        \"description\": \"\"\n      }\n    },\n    {\n      \"column\": \"Context\",\n      \"properties\": {\n        \"dtype\": \"string\",\n        \"num_unique_values\": 98,\n        \"samples\": [\n          \"[\\\"this is certainly an important issue to look into , it is always helpful to speak with the child ' s pediatrician since they are most familiar with the child ' s developmental history . also , children tend to regress behaviorally when facing events and interactions they feel to have no control over , this can be as simple as a loss of a pet , a recent move , death in the family , and / or as serious as sexual abuse , and other things . if you have not spoken to the school that can be a good starting point .\\\", \\\"As a parent or caregiver, you want the best for your children or other dependents. You may be concerned or have questions about certain behaviors they exhibit and how to ensure they get help.\\\\nWhat to Look For\\\\nIt is important to be aware of warning signs that your child may be struggling. You can play a critical role in knowing when your child may need help.\\\\nConsult with a school counselor, school nurse, mental health provider, or another health care professional if your child shows one or more of the following behaviors:\\\\nFeeling very sad or withdrawn or easily irritated for more than two weeks\\\\nSeriously trying to harm or kill themselves, or making plans to do so\\\\nExperiencing sudden overwhelming fear for no reason, sometimes with a racing heart or fast breathing\\\\nGetting in many fights or wanting to hurt others\\\\nShowing severe out-of-control behavior that can hurt oneself or others\\\\nNot eating, throwing up, or using laxatives to make themselves lose weight\\\\nHaving intense worries or fears that get in the way of daily activities\\\\nExperiencing extreme difficulty controlling behavior, putting themselves in physical danger or causing problems in school\\\\nUsing drugs or alcohol\\\\nHaving severe mood swings that cause problems in relationships\\\\nShowing drastic changes in behavior or personality\\\\nA drop in their school performance\\\\nBecause children often can't understand difficult situations on their own, you should pay particular attention if they experience:\\\\nLoss of a loved one\\\\nDivorce or separation of their parents\\\\nAny major transition\\u2014new home, new school, etc.\\\\nTraumatic life experiences, like living through a natural disaster\\\\nTeasing or bullying\\\\nDifficulties in school or with classmates\\\\nWhat to Do\\\\nIf you are concerned about your child's behaviors, it is important to get appropriate care. You should:\\\\nTalk to your child's doctor, school nurse, or another health care provider and seek further information about the behaviors or symptoms that worry you\\\", 'watching children go through challenges in their lives is difficult . on a very basic level , there exists a primal need to protect them from harm . the hard part for parents is letting them feel those challenges and working through them as they get older . at some point , there is a moment that occurs when the role as a parent shifts . children no longer need the basics ( food , shelter . water , safety ) as much as when they were toddlers , but rather , their needs shift to wanting more support , encouragement , advice , and room to make mistakes . this is where the ability to communicate with them , letting them direct the sails to gather the wind needed to move , is so important . keep the lines of communication open and be available to give feedback when they ask for it .', 'hello . it sounds like you are really concerned about your daughter because you have noticed a significant change in her behavior . it \\\\' s really a great first step that you are reaching out to get some ideas about what might be going on . you are clearly an observant and hands on mom who wants to be sure that her daughter is ok . this is a tough question to answer without more information . with that said , i have found that \\\" under stress people regress . \\\" in other words , many people , children and adults alike , often regress and behave differently - as if they were younger than their actual age - when under stress . therefore , my first question would be : has anything been happening recently that is causing your daughter stress ? this could be anything from conflict at home , recent changes such as moving , divorce , a loss of some kind , switching schools , or losing a friend or friends . additionally , sometimes if children are feeling bullied or left out by same age peers , they may gravitate toward younger playmates as a way to boost their social confidence . i would suggest that you think about what stressors / changes may have occurred recently . you may also want to check in with her teacher ( s ) to see if they have noticed any', \\\"your daughter is fortunate to have an observant parent , who is willing to seek out help in this regard . regression can be indicative of some stress in your child ' s life , so the issues she is facing should be examined . seeking advice from your daughter ' s pediatrician , as well as a practitioner familiar with adolescent issues or perhaps play therapy can equip you with insight into the causes of the behavior , and give you tools to assist your daughter in learning age appropriate social interactions .\\\"]\",\n          \"['there are many possible issues to consider as depression social anxieties , even medical illness . for some , even grief creates a sense of isolation , pains from relationship break up . also , obsessive thinking can be debilitating . seeking at least one trusted friend or family member can be a start towards increased personal support . some persons may simply feel connected by spending time with someone as this , even if not talking directly on issues , just being around another is positive . obviously there is more to explore on this question , given minimal information from two sentences .', \\\"Risk and Protective Factors\\\\nRisk and protective factors affect an individual's chances of positive or negative outcomes, such as suicide. These factors occur at multiple levels of influence\\u2014such as the individual, relationship, community, and greater societal levels. The Social-Ecological Model shows that effective suicide prevention interventions are needed to address these factors at all levels.\\\\nRisk factors for suicide\\\\nat the individual level include untreated mental illness and substance misuse, while protective factors for suicide at this level include problem-solving and coping skills, positive self-esteem, and a sense of purpose in life.\\\\nRelationship-level risks\\\\ninclude family conflict, knowing someone who died by suicide (particularly a family members), and social isolation; protective factors include family connectedness and supportive friendships.\\\\nCommunity-level risks\\\\ninvolve community violence, historical trauma, and access to lethal means; and protective factors include access to behavioral health services, community or cultural beliefs that discourage suicide, and connectedness to community and social institutions.\\\\nSocietal-level risks\\\\ninclude stigma, racism, and discrimination, while examples of protective factors include cultural identification and policies such as anti-discrimination laws.\\\\nLearn more about\\\\nRisk and Protective Factors\\\\nfor suicide, and read the\\\\n2024 National Strategy for Suicide Prevention\\\\n.Suicide Resources\\\\nGeneral Resources\\\\nSAMHSA Publications\\\\nOther Federal Resources\\\\nData and Research\\\\nNational Survey on Drug Use and Health | SAMHSA\\\\n2024 National Strategy for Suicide Prevention\\\\nGeneral Resources\\\\nSuicide Prevention Resource Center\\\\nSuicide Topics and Term Definitions | SPRC\\\\nPrevention and Education\\\\nSuicide Prevention |\\\\xa0NIMH\\\\nCDC\\u2019s Suicide Prevention Month: Partner Toolkit\\\\nSuicide Prevention | WHO\\\\nSuicide and Suicidal Behavior\\\\n#BeThe1To\\\\nThere Is Help and That We Are Not Alone | We R Native\\\", 'Suicide Prevention |\\\\xa0NIMH\\\\nCDC\\u2019s Suicide Prevention Month: Partner Toolkit\\\\nSuicide Prevention | WHO\\\\nSuicide and Suicidal Behavior\\\\n#BeThe1To\\\\nThere Is Help and That We Are Not Alone | We R Native\\\\nSuicide in America: Frequently Asked Questions | NIMH\\\\nPreventing Suicide: A Toolkit for High Schools\\\\nEarly Intervention\\\\nWhat to Do if You\\u2019re Concerned About Your Teen\\u2019s Mental Health: A Conversation Guide | The Jed Foundation (PDF | 617 KB)\\\\nYouth Mental Health First Aid\\\\n#chatsafe A Young Person\\u2019s Guide for Communicating Safely Online About Suicide (PDF | 6.7 MB)\\\\nI Want to Help My Friend | The Jed Foundation\\\\nSeize the Awkward\\\\nWhen Your Friend Is Talking About Suicide | We R Native\\\\nCrisis, Treatment, and Support Services\\\\n988 Suicide & Crisis Lifeline\\\\nTreatment for Suicidal Ideation, Self-harm, and Suicide Attempts Among Youth | SAMHSA\\\\nAdvisory: Addressing Suicidal Thoughts and Behaviors in Substance Use Treatment | SAMHSA\\\\nHelping Your Loved One Who is Suicidal: A Guide for Family and Friends | SAMHSA\\\\nRecovery and Postvention\\\\nAfter an Attempt: A Guide for Taking Care of Your Family Member After Treatment in the Emergency Department | SAMHSA\\\\nProvide for Immediate and Long-Term Postvention\\\\nRecovery and Recovery Support\\\\nSpecific Populations\\\\nHelp Yourself | 988 Suicide & Crisis Lifeline\\\\nThere Is Help and That We Are Not Alone | We R Native\\\\nSuicide Prevention in American Indian/Alaska Native Communities | SPRC\\\\nSuicide Prevention and Care | IHS\\\\nService Members, Veterans, and their Families Technical Assistance (SMVF TA) Center | SAMHSA\\\\nSuicide in Rural America | CDC\\\\nPopulations\\\\xa0\\u2013 Suicide Prevention Resource Center\\\\nRing the Alarm: The Crisis of Black Youth Suicide in America\\\\nHelping Your Loved One Who is Suicidal: A Guide for Family and Friends\\\\nAdvisory: Addressing Suicidal Thoughts and Behaviors in Substance Use Treatment\\\\nTreatment for Suicidal Ideation, Self-harm, and Suicide Attempts Among Youth', 'Advisory: Addressing Suicidal Thoughts and Behaviors in Substance Use Treatment\\\\nTreatment for Suicidal Ideation, Self-harm, and Suicide Attempts Among Youth\\\\nPrevention and Treatment of Anxiety, Depression, and Suicidal Thoughts and Behaviors Among College Students\\\\nAfter an Attempt: A Guide for Taking Care of Your Family Member After Treatment in the Emergency Department\\\\nAfter an Attempt: A Guide for Medical Providers in the Emergency Department\\\\nSuicide Prevention Publications\\\\nSuicide Safe Mobile App\\\\nNational Survey on Drug Use and Health\\\\nSuicide and Self-Harm FastStats | CDC\\\\nSuicide: Additional Resources | CDC\\\\nSuicide Rising Across America | CDC (PDF | 824 KB)\\\\nSuicide Prevention Month: Partner Toolkit | CDC\\\\nSuicide in America: Frequently Asked Questions | NIMH\\\\nGeneral Resources\\\\nData and Research\\\\nNational Survey on Drug Use and Health | SAMHSA\\\\n2024 National Strategy for Suicide Prevention\\\\nGeneral Resources\\\\nSuicide Prevention Resource Center\\\\nSuicide Topics and Term Definitions | SPRC\\\\nPrevention and Education\\\\nSuicide Prevention |\\\\xa0NIMH\\\\nCDC\\u2019s Suicide Prevention Month: Partner Toolkit\\\\nSuicide Prevention | WHO\\\\nSuicide and Suicidal Behavior\\\\n#BeThe1To\\\\nThere Is Help and That We Are Not Alone | We R Native\\\\nSuicide in America: Frequently Asked Questions | NIMH\\\\nPreventing Suicide: A Toolkit for High Schools\\\\nEarly Intervention\\\\nWhat to Do if You\\u2019re Concerned About Your Teen\\u2019s Mental Health: A Conversation Guide | The Jed Foundation (PDF | 617 KB)\\\\nYouth Mental Health First Aid\\\\n#chatsafe A Young Person\\u2019s Guide for Communicating Safely Online About Suicide (PDF | 6.7 MB)\\\\nI Want to Help My Friend | The Jed Foundation\\\\nSeize the Awkward\\\\nWhen Your Friend Is Talking About Suicide | We R Native\\\\nCrisis, Treatment, and Support Services\\\\n988 Suicide & Crisis Lifeline\\\\nTreatment for Suicidal Ideation, Self-harm, and Suicide Attempts Among Youth | SAMHSA\\\\nAdvisory: Addressing Suicidal Thoughts and Behaviors in Substance Use Treatment | SAMHSA', 'Mental health includes our emotional, psychological, and social well-being. It affects how we think, feel, and act, and helps determine how we handle stress, relate to others, and make choices.\\\\nMental health is important at every stage of life, from childhood and adolescence through adulthood. Over the course of your life, if you experience\\\\nmental health problems, your thinking, mood, and behavior could be affected.\\\\nMental Health Conditions\\\\nMental illnesses are disorders, ranging from mild to severe, that affect a person\\u2019s thinking, mood, and/or behavior. According to the National Institute of Mental Health, nearly one-in-five adults live with a mental illness.\\\\nMany factors contribute to mental health conditions, including:\\\\nBiological factors, such as genes or brain chemistry\\\\nLife experiences, such as trauma or abuse\\\\nFamily history of mental health problems\\\\n\\\\nSome mental health topics include:\\\\nAntisocial personality disorder\\\\nAnxiety disorders\\\\n(including generalized anxiety, panic disorders, obsessive-compulsive disorder (OCD), phobias, and social anxiety)\\\\nAttention-deficit hyperactivity disorder (ADHD)\\\\nBipolar disorder\\\\nBorderline personality disorder (BPD)\\\\nDepression\\\\nEating disorders\\\\n(including anorexia nervosa, binge eating disorder, and bulimia nervosa)\\\\nPost-traumatic stress disorder (PTSD)\\\\nSchizophrenia\\\\nSeasonal affective disorder (SAD)\\\\nSelf-harm\\\\nSuicide and suicidal behavior']\",\n          \"[\\\"As a parent or caregiver, you want the best for your children or other dependents. You may be concerned or have questions about certain behaviors they exhibit and how to ensure they get help.\\\\nWhat to Look For\\\\nIt is important to be aware of warning signs that your child may be struggling. You can play a critical role in knowing when your child may need help.\\\\nConsult with a school counselor, school nurse, mental health provider, or another health care professional if your child shows one or more of the following behaviors:\\\\nFeeling very sad or withdrawn or easily irritated for more than two weeks\\\\nSeriously trying to harm or kill themselves, or making plans to do so\\\\nExperiencing sudden overwhelming fear for no reason, sometimes with a racing heart or fast breathing\\\\nGetting in many fights or wanting to hurt others\\\\nShowing severe out-of-control behavior that can hurt oneself or others\\\\nNot eating, throwing up, or using laxatives to make themselves lose weight\\\\nHaving intense worries or fears that get in the way of daily activities\\\\nExperiencing extreme difficulty controlling behavior, putting themselves in physical danger or causing problems in school\\\\nUsing drugs or alcohol\\\\nHaving severe mood swings that cause problems in relationships\\\\nShowing drastic changes in behavior or personality\\\\nA drop in their school performance\\\\nBecause children often can't understand difficult situations on their own, you should pay particular attention if they experience:\\\\nLoss of a loved one\\\\nDivorce or separation of their parents\\\\nAny major transition\\u2014new home, new school, etc.\\\\nTraumatic life experiences, like living through a natural disaster\\\\nTeasing or bullying\\\\nDifficulties in school or with classmates\\\\nWhat to Do\\\\nIf you are concerned about your child's behaviors, it is important to get appropriate care. You should:\\\\nTalk to your child's doctor, school nurse, or another health care provider and seek further information about the behaviors or symptoms that worry you\\\", \\\"Educators are often the first to notice mental health problems in children and young adults. Here are some ways you can help your students and their families.\\\\nWhat Educators Should Know\\\\nYou should know:\\\\nThe\\\\nwarning signs\\\\nfor mental health problems.\\\\nHow to promote\\\\nmental health and substance use prevention\\\\nin schools and on campuses.\\\\nWhom to turn to, such as the principal, school nurse, school psychiatrist or psychologist, or school social worker, if you have questions or concerns about a student's behavior.\\\\nHow to access\\\\ncrisis support and other mental health services\\\\n.\\\\nWhat Educators Should Look for in Student Behavior\\\\nConsult with a school counselor, nurse, or administrator and the student's parents if you observe one or more of the following behaviors:\\\\nFeeling very sad or withdrawn for more than two weeks\\\\nSeriously trying to harm oneself, or making plans to do so\\\\nSudden overwhelming fear for no reason, sometimes with a racing heart or fast breathing\\\\nInvolvement in many fights or desire to badly hurt others\\\\nSevere out-of-control behavior that can hurt oneself or others\\\\nNot eating, throwing up, or using laxatives to make oneself lose weight\\\\nIntense worries or fears that get in the way of daily activities\\\\nExtreme difficulty concentrating or staying still that puts the student in physical danger or causes problems in the classroom\\\\nRepeated use of drugs or alcohol\\\\nSevere mood swings that cause problems in relationships\\\\nDrastic changes in the student's behavior or personality\\\\nWhat Educators Can Do in Classrooms and Schools\\\\nYou can support the mental health of all students in your classroom and school, not just individual students who may exhibit behavioral issues. Consider the following actions:\\\\nLearn more about mental health by taking a mental health awareness training\\\\nPromote social and emotional competency and build resilience\\\\nHelp ensure a positive, safe school environment\\\\nTeach and reinforce positive behaviors and decision-making\\\\nEncourage helping others\\\", \\\"Talk to your child's doctor, school nurse, or another health care provider and seek further information about the behaviors or symptoms that worry you\\\\nAsk your child's primary care physician if your child needs further evaluation by a specialist with experience in child behavioral problems\\\\nAsk if your child's specialist is experienced in treating the problems you are observing\\\\nTalk to your medical provider about any medication and treatment plans\\\\nHow to Talk About Mental Health with Your Child\\\\nDo you need help starting a conversation with your child about mental health?Do you need help starting a conversation with your child about mental health?\\\\nTry leading with these questions, and actively listen to your child's response:\\\\nCan you tell me more about what is happening? How are you feeling?\\\\nHave you had feelings like this in the past?\\\\nSometimes you need to talk to an adult about your feelings. I'm here to listen. How can I help you feel better?\\\\nDo you feel like you want to talk to someone else about your problem?\\\\nI'm worried about your safety. Can you tell me if you have thoughts about harming yourself or others?When talking about mental health problems with your child you should:\\\\nWhen talking about mental health problems with your child you should:\\\\nCommunicate in a straightforward manner\\\\nSpeak at a level that is appropriate to a child or adolescent's age and development level (preschool children need fewer details than teenagers)\\\\nDiscuss the topic when your child feels safe and comfortable\\\\nWatch for reactions during the discussion and slow down or back up if your child becomes confused or looks upset\\\\nListen openly and let your child tell you about their feelings and worriesLearn More About Supporting Your Children\\\\nLearn More About Supporting Your Children\\\\nThere are many resources for parents and caregivers who want to know more about children's mental health. Learn more about:\\\\nRecognizing mental health problems in children\\\", \\\"I've been worried about you. Can we talk about what you are experiencing? If not, who are you comfortable talking to?\\\\nWhat can I do to help you to talk about issues with your parents or someone else who is responsible and cares about you?\\\\nWhat else can I help you with?\\\\nI am someone who cares and wants to listen. What do you want me to know about how you are feeling?\\\\nWho or what has helped you deal with similar issues in the past?\\\\nSometimes talking to someone who has dealt with a similar experience helps. Do you know of others who have experienced these types of problems who you can talk with?\\\\nIt seems like you are going through a difficult time. How can I help you to find help?\\\\nHow can I help you find more information about mental health problems?\\\\nI'm concerned about your safety. Have you thought about harming yourself or others?\\\\nWhen talking about mental health problems:\\\\nKnow how to\\\\nconnect people to help\\\\nCommunicate in a straightforward manner\\\\nSpeak at a level appropriate to a person's age and development level (preschool children need fewer details as compared to teenagers)\\\\nDiscuss the topic when and where the person feels safe and comfortable\\\\nWatch for reactions during the discussion and slow down or back up if the person becomes confused or looks upset\\\\nSometimes it is helpful to make a comparison to a physical illness. For example, many people get sick with a cold or the flu, but only a few get really sick with something serious like pneumonia. People who have a cold are usually able to do their normal activities. However, if they get pneumonia, they will have to take medicine and may have to go to the hospital.\\\", 'watching children go through challenges in their lives is difficult . on a very basic level , there exists a primal need to protect them from harm . the hard part for parents is letting them feel those challenges and working through them as they get older . at some point , there is a moment that occurs when the role as a parent shifts . children no longer need the basics ( food , shelter . water , safety ) as much as when they were toddlers , but rather , their needs shift to wanting more support , encouragement , advice , and room to make mistakes . this is where the ability to communicate with them , letting them direct the sails to gather the wind needed to move , is so important . keep the lines of communication open and be available to give feedback when they ask for it .']\"\n        ],\n        \"semantic_type\": \"\",\n        \"description\": \"\"\n      }\n    },\n    {\n      \"column\": \"rag_response\",\n      \"properties\": {\n        \"dtype\": \"string\",\n        \"num_unique_values\": 99,\n        \"samples\": [\n          \"Effective interventions for children facing mental health issues include promoting healthy social and emotional development, recognizing warning signs, and providing early intervention and appropriate treatment. This may involve counseling and medication, under the guidance of a healthcare professional. Additionally, educators can play a crucial role in identifying mental health problems and connecting students with necessary support services.\",\n          \"Social withdrawal is often a protective measure that one implements to avoid further pain. It originates from unmet needs from childhood, such as bullying, peer rejection, or trauma. This behavior can be a coping mechanism to deal with emotional distress, but it can also lead to feelings of loneliness and disconnection. As a result, it's essential to identify the underlying causes of social withdrawal and address them to support the youth's overall well-being.\",\n          \"As a parent, it's essential to recognize potential warning signs that your child might be struggling. Some common behaviors to look out for include:\\n\\n* Feeling very sad or withdrawn or easily irritated for more than two weeks\\n* Seriously trying to harm or kill themselves, or making plans to do so\\n* Experiencing sudden overwhelming fear for no reason, sometimes with a racing heart or fast breathing\\n* Getting in many fights or wanting to hurt others\\n* Showing severe out-of-control behavior that can hurt\"\n        ],\n        \"semantic_type\": \"\",\n        \"description\": \"\"\n      }\n    },\n    {\n      \"column\": \"RAG_Score\",\n      \"properties\": {\n        \"dtype\": \"number\",\n        \"std\": 1,\n        \"min\": 2,\n        \"max\": 9,\n        \"num_unique_values\": 7,\n        \"samples\": [\n          9,\n          8,\n          5\n        ],\n        \"semantic_type\": \"\",\n        \"description\": \"\"\n      }\n    }\n  ]\n}"
            }
          },
          "metadata": {},
          "execution_count": 15
        }
      ]
    },
    {
      "cell_type": "code",
      "source": [
        "results[['RAG_Score']].describe()"
      ],
      "metadata": {
        "colab": {
          "base_uri": "https://localhost:8080/",
          "height": 300
        },
        "id": "c7sN2m3Xn1Ql",
        "outputId": "ee797457-2728-409b-d95a-b779e93edc5c"
      },
      "execution_count": null,
      "outputs": [
        {
          "output_type": "execute_result",
          "data": {
            "text/plain": [
              "        RAG_Score\n",
              "count  100.000000\n",
              "mean     7.480000\n",
              "std      1.344499\n",
              "min      2.000000\n",
              "25%      7.000000\n",
              "50%      8.000000\n",
              "75%      8.000000\n",
              "max      9.000000"
            ],
            "text/html": [
              "\n",
              "  <div id=\"df-db4c90b3-46b7-47c9-96c7-9950decd71c5\" class=\"colab-df-container\">\n",
              "    <div>\n",
              "<style scoped>\n",
              "    .dataframe tbody tr th:only-of-type {\n",
              "        vertical-align: middle;\n",
              "    }\n",
              "\n",
              "    .dataframe tbody tr th {\n",
              "        vertical-align: top;\n",
              "    }\n",
              "\n",
              "    .dataframe thead th {\n",
              "        text-align: right;\n",
              "    }\n",
              "</style>\n",
              "<table border=\"1\" class=\"dataframe\">\n",
              "  <thead>\n",
              "    <tr style=\"text-align: right;\">\n",
              "      <th></th>\n",
              "      <th>RAG_Score</th>\n",
              "    </tr>\n",
              "  </thead>\n",
              "  <tbody>\n",
              "    <tr>\n",
              "      <th>count</th>\n",
              "      <td>100.000000</td>\n",
              "    </tr>\n",
              "    <tr>\n",
              "      <th>mean</th>\n",
              "      <td>7.480000</td>\n",
              "    </tr>\n",
              "    <tr>\n",
              "      <th>std</th>\n",
              "      <td>1.344499</td>\n",
              "    </tr>\n",
              "    <tr>\n",
              "      <th>min</th>\n",
              "      <td>2.000000</td>\n",
              "    </tr>\n",
              "    <tr>\n",
              "      <th>25%</th>\n",
              "      <td>7.000000</td>\n",
              "    </tr>\n",
              "    <tr>\n",
              "      <th>50%</th>\n",
              "      <td>8.000000</td>\n",
              "    </tr>\n",
              "    <tr>\n",
              "      <th>75%</th>\n",
              "      <td>8.000000</td>\n",
              "    </tr>\n",
              "    <tr>\n",
              "      <th>max</th>\n",
              "      <td>9.000000</td>\n",
              "    </tr>\n",
              "  </tbody>\n",
              "</table>\n",
              "</div>\n",
              "    <div class=\"colab-df-buttons\">\n",
              "\n",
              "  <div class=\"colab-df-container\">\n",
              "    <button class=\"colab-df-convert\" onclick=\"convertToInteractive('df-db4c90b3-46b7-47c9-96c7-9950decd71c5')\"\n",
              "            title=\"Convert this dataframe to an interactive table.\"\n",
              "            style=\"display:none;\">\n",
              "\n",
              "  <svg xmlns=\"http://www.w3.org/2000/svg\" height=\"24px\" viewBox=\"0 -960 960 960\">\n",
              "    <path d=\"M120-120v-720h720v720H120Zm60-500h600v-160H180v160Zm220 220h160v-160H400v160Zm0 220h160v-160H400v160ZM180-400h160v-160H180v160Zm440 0h160v-160H620v160ZM180-180h160v-160H180v160Zm440 0h160v-160H620v160Z\"/>\n",
              "  </svg>\n",
              "    </button>\n",
              "\n",
              "  <style>\n",
              "    .colab-df-container {\n",
              "      display:flex;\n",
              "      gap: 12px;\n",
              "    }\n",
              "\n",
              "    .colab-df-convert {\n",
              "      background-color: #E8F0FE;\n",
              "      border: none;\n",
              "      border-radius: 50%;\n",
              "      cursor: pointer;\n",
              "      display: none;\n",
              "      fill: #1967D2;\n",
              "      height: 32px;\n",
              "      padding: 0 0 0 0;\n",
              "      width: 32px;\n",
              "    }\n",
              "\n",
              "    .colab-df-convert:hover {\n",
              "      background-color: #E2EBFA;\n",
              "      box-shadow: 0px 1px 2px rgba(60, 64, 67, 0.3), 0px 1px 3px 1px rgba(60, 64, 67, 0.15);\n",
              "      fill: #174EA6;\n",
              "    }\n",
              "\n",
              "    .colab-df-buttons div {\n",
              "      margin-bottom: 4px;\n",
              "    }\n",
              "\n",
              "    [theme=dark] .colab-df-convert {\n",
              "      background-color: #3B4455;\n",
              "      fill: #D2E3FC;\n",
              "    }\n",
              "\n",
              "    [theme=dark] .colab-df-convert:hover {\n",
              "      background-color: #434B5C;\n",
              "      box-shadow: 0px 1px 3px 1px rgba(0, 0, 0, 0.15);\n",
              "      filter: drop-shadow(0px 1px 2px rgba(0, 0, 0, 0.3));\n",
              "      fill: #FFFFFF;\n",
              "    }\n",
              "  </style>\n",
              "\n",
              "    <script>\n",
              "      const buttonEl =\n",
              "        document.querySelector('#df-db4c90b3-46b7-47c9-96c7-9950decd71c5 button.colab-df-convert');\n",
              "      buttonEl.style.display =\n",
              "        google.colab.kernel.accessAllowed ? 'block' : 'none';\n",
              "\n",
              "      async function convertToInteractive(key) {\n",
              "        const element = document.querySelector('#df-db4c90b3-46b7-47c9-96c7-9950decd71c5');\n",
              "        const dataTable =\n",
              "          await google.colab.kernel.invokeFunction('convertToInteractive',\n",
              "                                                    [key], {});\n",
              "        if (!dataTable) return;\n",
              "\n",
              "        const docLinkHtml = 'Like what you see? Visit the ' +\n",
              "          '<a target=\"_blank\" href=https://colab.research.google.com/notebooks/data_table.ipynb>data table notebook</a>'\n",
              "          + ' to learn more about interactive tables.';\n",
              "        element.innerHTML = '';\n",
              "        dataTable['output_type'] = 'display_data';\n",
              "        await google.colab.output.renderOutput(dataTable, element);\n",
              "        const docLink = document.createElement('div');\n",
              "        docLink.innerHTML = docLinkHtml;\n",
              "        element.appendChild(docLink);\n",
              "      }\n",
              "    </script>\n",
              "  </div>\n",
              "\n",
              "\n",
              "<div id=\"df-b5990c3e-cee5-457d-93f7-e54d25386032\">\n",
              "  <button class=\"colab-df-quickchart\" onclick=\"quickchart('df-b5990c3e-cee5-457d-93f7-e54d25386032')\"\n",
              "            title=\"Suggest charts\"\n",
              "            style=\"display:none;\">\n",
              "\n",
              "<svg xmlns=\"http://www.w3.org/2000/svg\" height=\"24px\"viewBox=\"0 0 24 24\"\n",
              "     width=\"24px\">\n",
              "    <g>\n",
              "        <path d=\"M19 3H5c-1.1 0-2 .9-2 2v14c0 1.1.9 2 2 2h14c1.1 0 2-.9 2-2V5c0-1.1-.9-2-2-2zM9 17H7v-7h2v7zm4 0h-2V7h2v10zm4 0h-2v-4h2v4z\"/>\n",
              "    </g>\n",
              "</svg>\n",
              "  </button>\n",
              "\n",
              "<style>\n",
              "  .colab-df-quickchart {\n",
              "      --bg-color: #E8F0FE;\n",
              "      --fill-color: #1967D2;\n",
              "      --hover-bg-color: #E2EBFA;\n",
              "      --hover-fill-color: #174EA6;\n",
              "      --disabled-fill-color: #AAA;\n",
              "      --disabled-bg-color: #DDD;\n",
              "  }\n",
              "\n",
              "  [theme=dark] .colab-df-quickchart {\n",
              "      --bg-color: #3B4455;\n",
              "      --fill-color: #D2E3FC;\n",
              "      --hover-bg-color: #434B5C;\n",
              "      --hover-fill-color: #FFFFFF;\n",
              "      --disabled-bg-color: #3B4455;\n",
              "      --disabled-fill-color: #666;\n",
              "  }\n",
              "\n",
              "  .colab-df-quickchart {\n",
              "    background-color: var(--bg-color);\n",
              "    border: none;\n",
              "    border-radius: 50%;\n",
              "    cursor: pointer;\n",
              "    display: none;\n",
              "    fill: var(--fill-color);\n",
              "    height: 32px;\n",
              "    padding: 0;\n",
              "    width: 32px;\n",
              "  }\n",
              "\n",
              "  .colab-df-quickchart:hover {\n",
              "    background-color: var(--hover-bg-color);\n",
              "    box-shadow: 0 1px 2px rgba(60, 64, 67, 0.3), 0 1px 3px 1px rgba(60, 64, 67, 0.15);\n",
              "    fill: var(--button-hover-fill-color);\n",
              "  }\n",
              "\n",
              "  .colab-df-quickchart-complete:disabled,\n",
              "  .colab-df-quickchart-complete:disabled:hover {\n",
              "    background-color: var(--disabled-bg-color);\n",
              "    fill: var(--disabled-fill-color);\n",
              "    box-shadow: none;\n",
              "  }\n",
              "\n",
              "  .colab-df-spinner {\n",
              "    border: 2px solid var(--fill-color);\n",
              "    border-color: transparent;\n",
              "    border-bottom-color: var(--fill-color);\n",
              "    animation:\n",
              "      spin 1s steps(1) infinite;\n",
              "  }\n",
              "\n",
              "  @keyframes spin {\n",
              "    0% {\n",
              "      border-color: transparent;\n",
              "      border-bottom-color: var(--fill-color);\n",
              "      border-left-color: var(--fill-color);\n",
              "    }\n",
              "    20% {\n",
              "      border-color: transparent;\n",
              "      border-left-color: var(--fill-color);\n",
              "      border-top-color: var(--fill-color);\n",
              "    }\n",
              "    30% {\n",
              "      border-color: transparent;\n",
              "      border-left-color: var(--fill-color);\n",
              "      border-top-color: var(--fill-color);\n",
              "      border-right-color: var(--fill-color);\n",
              "    }\n",
              "    40% {\n",
              "      border-color: transparent;\n",
              "      border-right-color: var(--fill-color);\n",
              "      border-top-color: var(--fill-color);\n",
              "    }\n",
              "    60% {\n",
              "      border-color: transparent;\n",
              "      border-right-color: var(--fill-color);\n",
              "    }\n",
              "    80% {\n",
              "      border-color: transparent;\n",
              "      border-right-color: var(--fill-color);\n",
              "      border-bottom-color: var(--fill-color);\n",
              "    }\n",
              "    90% {\n",
              "      border-color: transparent;\n",
              "      border-bottom-color: var(--fill-color);\n",
              "    }\n",
              "  }\n",
              "</style>\n",
              "\n",
              "  <script>\n",
              "    async function quickchart(key) {\n",
              "      const quickchartButtonEl =\n",
              "        document.querySelector('#' + key + ' button');\n",
              "      quickchartButtonEl.disabled = true;  // To prevent multiple clicks.\n",
              "      quickchartButtonEl.classList.add('colab-df-spinner');\n",
              "      try {\n",
              "        const charts = await google.colab.kernel.invokeFunction(\n",
              "            'suggestCharts', [key], {});\n",
              "      } catch (error) {\n",
              "        console.error('Error during call to suggestCharts:', error);\n",
              "      }\n",
              "      quickchartButtonEl.classList.remove('colab-df-spinner');\n",
              "      quickchartButtonEl.classList.add('colab-df-quickchart-complete');\n",
              "    }\n",
              "    (() => {\n",
              "      let quickchartButtonEl =\n",
              "        document.querySelector('#df-b5990c3e-cee5-457d-93f7-e54d25386032 button');\n",
              "      quickchartButtonEl.style.display =\n",
              "        google.colab.kernel.accessAllowed ? 'block' : 'none';\n",
              "    })();\n",
              "  </script>\n",
              "</div>\n",
              "\n",
              "    </div>\n",
              "  </div>\n"
            ],
            "application/vnd.google.colaboratory.intrinsic+json": {
              "type": "dataframe",
              "summary": "{\n  \"name\": \"results[['RAG_Score']]\",\n  \"rows\": 8,\n  \"fields\": [\n    {\n      \"column\": \"RAG_Score\",\n      \"properties\": {\n        \"dtype\": \"number\",\n        \"std\": 33.316455389356314,\n        \"min\": 1.3444987049740014,\n        \"max\": 100.0,\n        \"num_unique_values\": 7,\n        \"samples\": [\n          100.0,\n          7.48,\n          8.0\n        ],\n        \"semantic_type\": \"\",\n        \"description\": \"\"\n      }\n    }\n  ]\n}"
            }
          },
          "metadata": {},
          "execution_count": 13
        }
      ]
    },
    {
      "cell_type": "code",
      "source": [
        "average_rag_score = results['RAG_Score'].mean()\n",
        "print(\"Average RAG Score:\", average_rag_score)"
      ],
      "metadata": {
        "colab": {
          "base_uri": "https://localhost:8080/"
        },
        "id": "9OakFB4_oKZ-",
        "outputId": "e28bea63-ac9c-4529-9c91-7adbdb670407"
      },
      "execution_count": null,
      "outputs": [
        {
          "output_type": "stream",
          "name": "stdout",
          "text": [
            "Average RAG Score: 7.48\n"
          ]
        }
      ]
    }
  ]
}