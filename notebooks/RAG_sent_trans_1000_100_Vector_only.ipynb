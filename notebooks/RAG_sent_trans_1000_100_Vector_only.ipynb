{
  "nbformat": 4,
  "nbformat_minor": 0,
  "metadata": {
    "colab": {
      "provenance": [],
      "gpuType": "T4"
    },
    "kernelspec": {
      "name": "python3",
      "display_name": "Python 3"
    },
    "language_info": {
      "name": "python"
    },
    "accelerator": "GPU",
    "widgets": {
      "application/vnd.jupyter.widget-state+json": {
        "4f1404368c8c4924aac8efae75181792": {
          "model_module": "@jupyter-widgets/controls",
          "model_name": "VBoxModel",
          "model_module_version": "1.5.0",
          "state": {
            "_dom_classes": [],
            "_model_module": "@jupyter-widgets/controls",
            "_model_module_version": "1.5.0",
            "_model_name": "VBoxModel",
            "_view_count": null,
            "_view_module": "@jupyter-widgets/controls",
            "_view_module_version": "1.5.0",
            "_view_name": "VBoxView",
            "box_style": "",
            "children": [],
            "layout": "IPY_MODEL_680b738507284679a67c4bb4584f9e98"
          }
        },
        "1e82e9da224c4ccd95c9a2536fe106c5": {
          "model_module": "@jupyter-widgets/controls",
          "model_name": "HTMLModel",
          "model_module_version": "1.5.0",
          "state": {
            "_dom_classes": [],
            "_model_module": "@jupyter-widgets/controls",
            "_model_module_version": "1.5.0",
            "_model_name": "HTMLModel",
            "_view_count": null,
            "_view_module": "@jupyter-widgets/controls",
            "_view_module_version": "1.5.0",
            "_view_name": "HTMLView",
            "description": "",
            "description_tooltip": null,
            "layout": "IPY_MODEL_6c6bf5aec4e64293833f870b81554263",
            "placeholder": "​",
            "style": "IPY_MODEL_e80cf5a18b444cecbc7fa54a7bc203c8",
            "value": "<center> <img\nsrc=https://huggingface.co/front/assets/huggingface_logo-noborder.svg\nalt='Hugging Face'> <br> Copy a token from <a\nhref=\"https://huggingface.co/settings/tokens\" target=\"_blank\">your Hugging Face\ntokens page</a> and paste it below. <br> Immediately click login after copying\nyour token or it might be stored in plain text in this notebook file. </center>"
          }
        },
        "ead1a3c86396405d99a8cef9a116c85d": {
          "model_module": "@jupyter-widgets/controls",
          "model_name": "PasswordModel",
          "model_module_version": "1.5.0",
          "state": {
            "_dom_classes": [],
            "_model_module": "@jupyter-widgets/controls",
            "_model_module_version": "1.5.0",
            "_model_name": "PasswordModel",
            "_view_count": null,
            "_view_module": "@jupyter-widgets/controls",
            "_view_module_version": "1.5.0",
            "_view_name": "PasswordView",
            "continuous_update": true,
            "description": "Token:",
            "description_tooltip": null,
            "disabled": false,
            "layout": "IPY_MODEL_ab4155c52e874e77a12a1b92e12ebe84",
            "placeholder": "​",
            "style": "IPY_MODEL_26bccf59b7144095ab66157b6ce60804",
            "value": ""
          }
        },
        "6db29b4d374a4aefb26e5a989f711844": {
          "model_module": "@jupyter-widgets/controls",
          "model_name": "CheckboxModel",
          "model_module_version": "1.5.0",
          "state": {
            "_dom_classes": [],
            "_model_module": "@jupyter-widgets/controls",
            "_model_module_version": "1.5.0",
            "_model_name": "CheckboxModel",
            "_view_count": null,
            "_view_module": "@jupyter-widgets/controls",
            "_view_module_version": "1.5.0",
            "_view_name": "CheckboxView",
            "description": "Add token as git credential?",
            "description_tooltip": null,
            "disabled": false,
            "indent": true,
            "layout": "IPY_MODEL_c613d583ea7942b6a4707f9445e3d841",
            "style": "IPY_MODEL_59dc188475f74dcbb4dc288da17a1126",
            "value": true
          }
        },
        "266083fe2e034e4b86c0b4c6842e37c2": {
          "model_module": "@jupyter-widgets/controls",
          "model_name": "ButtonModel",
          "model_module_version": "1.5.0",
          "state": {
            "_dom_classes": [],
            "_model_module": "@jupyter-widgets/controls",
            "_model_module_version": "1.5.0",
            "_model_name": "ButtonModel",
            "_view_count": null,
            "_view_module": "@jupyter-widgets/controls",
            "_view_module_version": "1.5.0",
            "_view_name": "ButtonView",
            "button_style": "",
            "description": "Login",
            "disabled": false,
            "icon": "",
            "layout": "IPY_MODEL_b08f6b7a207d4fa18a8545d49f6301cf",
            "style": "IPY_MODEL_9082f11f3b7b471880d68be6160efd6b",
            "tooltip": ""
          }
        },
        "e9c705e843244bb8890b1b1399ed0307": {
          "model_module": "@jupyter-widgets/controls",
          "model_name": "HTMLModel",
          "model_module_version": "1.5.0",
          "state": {
            "_dom_classes": [],
            "_model_module": "@jupyter-widgets/controls",
            "_model_module_version": "1.5.0",
            "_model_name": "HTMLModel",
            "_view_count": null,
            "_view_module": "@jupyter-widgets/controls",
            "_view_module_version": "1.5.0",
            "_view_name": "HTMLView",
            "description": "",
            "description_tooltip": null,
            "layout": "IPY_MODEL_e5021091e01e4d48ae641a3e81697c1c",
            "placeholder": "​",
            "style": "IPY_MODEL_5b257eeedf9f47dfac7245ba49a5fd01",
            "value": "\n<b>Pro Tip:</b> If you don't already have one, you can create a dedicated\n'notebooks' token with 'write' access, that you can then easily reuse for all\nnotebooks. </center>"
          }
        },
        "680b738507284679a67c4bb4584f9e98": {
          "model_module": "@jupyter-widgets/base",
          "model_name": "LayoutModel",
          "model_module_version": "1.2.0",
          "state": {
            "_model_module": "@jupyter-widgets/base",
            "_model_module_version": "1.2.0",
            "_model_name": "LayoutModel",
            "_view_count": null,
            "_view_module": "@jupyter-widgets/base",
            "_view_module_version": "1.2.0",
            "_view_name": "LayoutView",
            "align_content": null,
            "align_items": "center",
            "align_self": null,
            "border": null,
            "bottom": null,
            "display": "flex",
            "flex": null,
            "flex_flow": "column",
            "grid_area": null,
            "grid_auto_columns": null,
            "grid_auto_flow": null,
            "grid_auto_rows": null,
            "grid_column": null,
            "grid_gap": null,
            "grid_row": null,
            "grid_template_areas": null,
            "grid_template_columns": null,
            "grid_template_rows": null,
            "height": null,
            "justify_content": null,
            "justify_items": null,
            "left": null,
            "margin": null,
            "max_height": null,
            "max_width": null,
            "min_height": null,
            "min_width": null,
            "object_fit": null,
            "object_position": null,
            "order": null,
            "overflow": null,
            "overflow_x": null,
            "overflow_y": null,
            "padding": null,
            "right": null,
            "top": null,
            "visibility": null,
            "width": "50%"
          }
        },
        "6c6bf5aec4e64293833f870b81554263": {
          "model_module": "@jupyter-widgets/base",
          "model_name": "LayoutModel",
          "model_module_version": "1.2.0",
          "state": {
            "_model_module": "@jupyter-widgets/base",
            "_model_module_version": "1.2.0",
            "_model_name": "LayoutModel",
            "_view_count": null,
            "_view_module": "@jupyter-widgets/base",
            "_view_module_version": "1.2.0",
            "_view_name": "LayoutView",
            "align_content": null,
            "align_items": null,
            "align_self": null,
            "border": null,
            "bottom": null,
            "display": null,
            "flex": null,
            "flex_flow": null,
            "grid_area": null,
            "grid_auto_columns": null,
            "grid_auto_flow": null,
            "grid_auto_rows": null,
            "grid_column": null,
            "grid_gap": null,
            "grid_row": null,
            "grid_template_areas": null,
            "grid_template_columns": null,
            "grid_template_rows": null,
            "height": null,
            "justify_content": null,
            "justify_items": null,
            "left": null,
            "margin": null,
            "max_height": null,
            "max_width": null,
            "min_height": null,
            "min_width": null,
            "object_fit": null,
            "object_position": null,
            "order": null,
            "overflow": null,
            "overflow_x": null,
            "overflow_y": null,
            "padding": null,
            "right": null,
            "top": null,
            "visibility": null,
            "width": null
          }
        },
        "e80cf5a18b444cecbc7fa54a7bc203c8": {
          "model_module": "@jupyter-widgets/controls",
          "model_name": "DescriptionStyleModel",
          "model_module_version": "1.5.0",
          "state": {
            "_model_module": "@jupyter-widgets/controls",
            "_model_module_version": "1.5.0",
            "_model_name": "DescriptionStyleModel",
            "_view_count": null,
            "_view_module": "@jupyter-widgets/base",
            "_view_module_version": "1.2.0",
            "_view_name": "StyleView",
            "description_width": ""
          }
        },
        "ab4155c52e874e77a12a1b92e12ebe84": {
          "model_module": "@jupyter-widgets/base",
          "model_name": "LayoutModel",
          "model_module_version": "1.2.0",
          "state": {
            "_model_module": "@jupyter-widgets/base",
            "_model_module_version": "1.2.0",
            "_model_name": "LayoutModel",
            "_view_count": null,
            "_view_module": "@jupyter-widgets/base",
            "_view_module_version": "1.2.0",
            "_view_name": "LayoutView",
            "align_content": null,
            "align_items": null,
            "align_self": null,
            "border": null,
            "bottom": null,
            "display": null,
            "flex": null,
            "flex_flow": null,
            "grid_area": null,
            "grid_auto_columns": null,
            "grid_auto_flow": null,
            "grid_auto_rows": null,
            "grid_column": null,
            "grid_gap": null,
            "grid_row": null,
            "grid_template_areas": null,
            "grid_template_columns": null,
            "grid_template_rows": null,
            "height": null,
            "justify_content": null,
            "justify_items": null,
            "left": null,
            "margin": null,
            "max_height": null,
            "max_width": null,
            "min_height": null,
            "min_width": null,
            "object_fit": null,
            "object_position": null,
            "order": null,
            "overflow": null,
            "overflow_x": null,
            "overflow_y": null,
            "padding": null,
            "right": null,
            "top": null,
            "visibility": null,
            "width": null
          }
        },
        "26bccf59b7144095ab66157b6ce60804": {
          "model_module": "@jupyter-widgets/controls",
          "model_name": "DescriptionStyleModel",
          "model_module_version": "1.5.0",
          "state": {
            "_model_module": "@jupyter-widgets/controls",
            "_model_module_version": "1.5.0",
            "_model_name": "DescriptionStyleModel",
            "_view_count": null,
            "_view_module": "@jupyter-widgets/base",
            "_view_module_version": "1.2.0",
            "_view_name": "StyleView",
            "description_width": ""
          }
        },
        "c613d583ea7942b6a4707f9445e3d841": {
          "model_module": "@jupyter-widgets/base",
          "model_name": "LayoutModel",
          "model_module_version": "1.2.0",
          "state": {
            "_model_module": "@jupyter-widgets/base",
            "_model_module_version": "1.2.0",
            "_model_name": "LayoutModel",
            "_view_count": null,
            "_view_module": "@jupyter-widgets/base",
            "_view_module_version": "1.2.0",
            "_view_name": "LayoutView",
            "align_content": null,
            "align_items": null,
            "align_self": null,
            "border": null,
            "bottom": null,
            "display": null,
            "flex": null,
            "flex_flow": null,
            "grid_area": null,
            "grid_auto_columns": null,
            "grid_auto_flow": null,
            "grid_auto_rows": null,
            "grid_column": null,
            "grid_gap": null,
            "grid_row": null,
            "grid_template_areas": null,
            "grid_template_columns": null,
            "grid_template_rows": null,
            "height": null,
            "justify_content": null,
            "justify_items": null,
            "left": null,
            "margin": null,
            "max_height": null,
            "max_width": null,
            "min_height": null,
            "min_width": null,
            "object_fit": null,
            "object_position": null,
            "order": null,
            "overflow": null,
            "overflow_x": null,
            "overflow_y": null,
            "padding": null,
            "right": null,
            "top": null,
            "visibility": null,
            "width": null
          }
        },
        "59dc188475f74dcbb4dc288da17a1126": {
          "model_module": "@jupyter-widgets/controls",
          "model_name": "DescriptionStyleModel",
          "model_module_version": "1.5.0",
          "state": {
            "_model_module": "@jupyter-widgets/controls",
            "_model_module_version": "1.5.0",
            "_model_name": "DescriptionStyleModel",
            "_view_count": null,
            "_view_module": "@jupyter-widgets/base",
            "_view_module_version": "1.2.0",
            "_view_name": "StyleView",
            "description_width": ""
          }
        },
        "b08f6b7a207d4fa18a8545d49f6301cf": {
          "model_module": "@jupyter-widgets/base",
          "model_name": "LayoutModel",
          "model_module_version": "1.2.0",
          "state": {
            "_model_module": "@jupyter-widgets/base",
            "_model_module_version": "1.2.0",
            "_model_name": "LayoutModel",
            "_view_count": null,
            "_view_module": "@jupyter-widgets/base",
            "_view_module_version": "1.2.0",
            "_view_name": "LayoutView",
            "align_content": null,
            "align_items": null,
            "align_self": null,
            "border": null,
            "bottom": null,
            "display": null,
            "flex": null,
            "flex_flow": null,
            "grid_area": null,
            "grid_auto_columns": null,
            "grid_auto_flow": null,
            "grid_auto_rows": null,
            "grid_column": null,
            "grid_gap": null,
            "grid_row": null,
            "grid_template_areas": null,
            "grid_template_columns": null,
            "grid_template_rows": null,
            "height": null,
            "justify_content": null,
            "justify_items": null,
            "left": null,
            "margin": null,
            "max_height": null,
            "max_width": null,
            "min_height": null,
            "min_width": null,
            "object_fit": null,
            "object_position": null,
            "order": null,
            "overflow": null,
            "overflow_x": null,
            "overflow_y": null,
            "padding": null,
            "right": null,
            "top": null,
            "visibility": null,
            "width": null
          }
        },
        "9082f11f3b7b471880d68be6160efd6b": {
          "model_module": "@jupyter-widgets/controls",
          "model_name": "ButtonStyleModel",
          "model_module_version": "1.5.0",
          "state": {
            "_model_module": "@jupyter-widgets/controls",
            "_model_module_version": "1.5.0",
            "_model_name": "ButtonStyleModel",
            "_view_count": null,
            "_view_module": "@jupyter-widgets/base",
            "_view_module_version": "1.2.0",
            "_view_name": "StyleView",
            "button_color": null,
            "font_weight": ""
          }
        },
        "e5021091e01e4d48ae641a3e81697c1c": {
          "model_module": "@jupyter-widgets/base",
          "model_name": "LayoutModel",
          "model_module_version": "1.2.0",
          "state": {
            "_model_module": "@jupyter-widgets/base",
            "_model_module_version": "1.2.0",
            "_model_name": "LayoutModel",
            "_view_count": null,
            "_view_module": "@jupyter-widgets/base",
            "_view_module_version": "1.2.0",
            "_view_name": "LayoutView",
            "align_content": null,
            "align_items": null,
            "align_self": null,
            "border": null,
            "bottom": null,
            "display": null,
            "flex": null,
            "flex_flow": null,
            "grid_area": null,
            "grid_auto_columns": null,
            "grid_auto_flow": null,
            "grid_auto_rows": null,
            "grid_column": null,
            "grid_gap": null,
            "grid_row": null,
            "grid_template_areas": null,
            "grid_template_columns": null,
            "grid_template_rows": null,
            "height": null,
            "justify_content": null,
            "justify_items": null,
            "left": null,
            "margin": null,
            "max_height": null,
            "max_width": null,
            "min_height": null,
            "min_width": null,
            "object_fit": null,
            "object_position": null,
            "order": null,
            "overflow": null,
            "overflow_x": null,
            "overflow_y": null,
            "padding": null,
            "right": null,
            "top": null,
            "visibility": null,
            "width": null
          }
        },
        "5b257eeedf9f47dfac7245ba49a5fd01": {
          "model_module": "@jupyter-widgets/controls",
          "model_name": "DescriptionStyleModel",
          "model_module_version": "1.5.0",
          "state": {
            "_model_module": "@jupyter-widgets/controls",
            "_model_module_version": "1.5.0",
            "_model_name": "DescriptionStyleModel",
            "_view_count": null,
            "_view_module": "@jupyter-widgets/base",
            "_view_module_version": "1.2.0",
            "_view_name": "StyleView",
            "description_width": ""
          }
        },
        "fb2164fe12844b7a87b7028b9a69b520": {
          "model_module": "@jupyter-widgets/controls",
          "model_name": "LabelModel",
          "model_module_version": "1.5.0",
          "state": {
            "_dom_classes": [],
            "_model_module": "@jupyter-widgets/controls",
            "_model_module_version": "1.5.0",
            "_model_name": "LabelModel",
            "_view_count": null,
            "_view_module": "@jupyter-widgets/controls",
            "_view_module_version": "1.5.0",
            "_view_name": "LabelView",
            "description": "",
            "description_tooltip": null,
            "layout": "IPY_MODEL_d04bbc466200472da90d87b079bf6276",
            "placeholder": "​",
            "style": "IPY_MODEL_625e8d55c2454200a9e5430880edd2b6",
            "value": "Connecting..."
          }
        },
        "d04bbc466200472da90d87b079bf6276": {
          "model_module": "@jupyter-widgets/base",
          "model_name": "LayoutModel",
          "model_module_version": "1.2.0",
          "state": {
            "_model_module": "@jupyter-widgets/base",
            "_model_module_version": "1.2.0",
            "_model_name": "LayoutModel",
            "_view_count": null,
            "_view_module": "@jupyter-widgets/base",
            "_view_module_version": "1.2.0",
            "_view_name": "LayoutView",
            "align_content": null,
            "align_items": null,
            "align_self": null,
            "border": null,
            "bottom": null,
            "display": null,
            "flex": null,
            "flex_flow": null,
            "grid_area": null,
            "grid_auto_columns": null,
            "grid_auto_flow": null,
            "grid_auto_rows": null,
            "grid_column": null,
            "grid_gap": null,
            "grid_row": null,
            "grid_template_areas": null,
            "grid_template_columns": null,
            "grid_template_rows": null,
            "height": null,
            "justify_content": null,
            "justify_items": null,
            "left": null,
            "margin": null,
            "max_height": null,
            "max_width": null,
            "min_height": null,
            "min_width": null,
            "object_fit": null,
            "object_position": null,
            "order": null,
            "overflow": null,
            "overflow_x": null,
            "overflow_y": null,
            "padding": null,
            "right": null,
            "top": null,
            "visibility": null,
            "width": null
          }
        },
        "625e8d55c2454200a9e5430880edd2b6": {
          "model_module": "@jupyter-widgets/controls",
          "model_name": "DescriptionStyleModel",
          "model_module_version": "1.5.0",
          "state": {
            "_model_module": "@jupyter-widgets/controls",
            "_model_module_version": "1.5.0",
            "_model_name": "DescriptionStyleModel",
            "_view_count": null,
            "_view_module": "@jupyter-widgets/base",
            "_view_module_version": "1.2.0",
            "_view_name": "StyleView",
            "description_width": ""
          }
        },
        "82cf5dd81aa54457915548587389c314": {
          "model_module": "@jupyter-widgets/controls",
          "model_name": "HBoxModel",
          "model_module_version": "1.5.0",
          "state": {
            "_dom_classes": [],
            "_model_module": "@jupyter-widgets/controls",
            "_model_module_version": "1.5.0",
            "_model_name": "HBoxModel",
            "_view_count": null,
            "_view_module": "@jupyter-widgets/controls",
            "_view_module_version": "1.5.0",
            "_view_name": "HBoxView",
            "box_style": "",
            "children": [
              "IPY_MODEL_47116c202c784263b42e2dc5abd7876f",
              "IPY_MODEL_4873f8972cac48ebbb40595f31bbb1f4",
              "IPY_MODEL_02f64e79eae44ff69b07883c2f6a73fb"
            ],
            "layout": "IPY_MODEL_f106bebcfe5345bc9c5151c2ac7d3f1e"
          }
        },
        "47116c202c784263b42e2dc5abd7876f": {
          "model_module": "@jupyter-widgets/controls",
          "model_name": "HTMLModel",
          "model_module_version": "1.5.0",
          "state": {
            "_dom_classes": [],
            "_model_module": "@jupyter-widgets/controls",
            "_model_module_version": "1.5.0",
            "_model_name": "HTMLModel",
            "_view_count": null,
            "_view_module": "@jupyter-widgets/controls",
            "_view_module_version": "1.5.0",
            "_view_name": "HTMLView",
            "description": "",
            "description_tooltip": null,
            "layout": "IPY_MODEL_66b947d035f444d09a07519aaf535065",
            "placeholder": "​",
            "style": "IPY_MODEL_53752f73d3b9492582d2d4ae1841a393",
            "value": "model.safetensors.index.json: 100%"
          }
        },
        "4873f8972cac48ebbb40595f31bbb1f4": {
          "model_module": "@jupyter-widgets/controls",
          "model_name": "FloatProgressModel",
          "model_module_version": "1.5.0",
          "state": {
            "_dom_classes": [],
            "_model_module": "@jupyter-widgets/controls",
            "_model_module_version": "1.5.0",
            "_model_name": "FloatProgressModel",
            "_view_count": null,
            "_view_module": "@jupyter-widgets/controls",
            "_view_module_version": "1.5.0",
            "_view_name": "ProgressView",
            "bar_style": "success",
            "description": "",
            "description_tooltip": null,
            "layout": "IPY_MODEL_5efff54fe35248a881f34a5e959b5074",
            "max": 23950,
            "min": 0,
            "orientation": "horizontal",
            "style": "IPY_MODEL_c74b1c90583e4aab9162af5311f95d05",
            "value": 23950
          }
        },
        "02f64e79eae44ff69b07883c2f6a73fb": {
          "model_module": "@jupyter-widgets/controls",
          "model_name": "HTMLModel",
          "model_module_version": "1.5.0",
          "state": {
            "_dom_classes": [],
            "_model_module": "@jupyter-widgets/controls",
            "_model_module_version": "1.5.0",
            "_model_name": "HTMLModel",
            "_view_count": null,
            "_view_module": "@jupyter-widgets/controls",
            "_view_module_version": "1.5.0",
            "_view_name": "HTMLView",
            "description": "",
            "description_tooltip": null,
            "layout": "IPY_MODEL_37d4eb0da1f84674a9b52a6d9d3c5d03",
            "placeholder": "​",
            "style": "IPY_MODEL_dfb56691fb674760a909d3e832b099f9",
            "value": " 23.9k/23.9k [00:00&lt;00:00, 449kB/s]"
          }
        },
        "f106bebcfe5345bc9c5151c2ac7d3f1e": {
          "model_module": "@jupyter-widgets/base",
          "model_name": "LayoutModel",
          "model_module_version": "1.2.0",
          "state": {
            "_model_module": "@jupyter-widgets/base",
            "_model_module_version": "1.2.0",
            "_model_name": "LayoutModel",
            "_view_count": null,
            "_view_module": "@jupyter-widgets/base",
            "_view_module_version": "1.2.0",
            "_view_name": "LayoutView",
            "align_content": null,
            "align_items": null,
            "align_self": null,
            "border": null,
            "bottom": null,
            "display": null,
            "flex": null,
            "flex_flow": null,
            "grid_area": null,
            "grid_auto_columns": null,
            "grid_auto_flow": null,
            "grid_auto_rows": null,
            "grid_column": null,
            "grid_gap": null,
            "grid_row": null,
            "grid_template_areas": null,
            "grid_template_columns": null,
            "grid_template_rows": null,
            "height": null,
            "justify_content": null,
            "justify_items": null,
            "left": null,
            "margin": null,
            "max_height": null,
            "max_width": null,
            "min_height": null,
            "min_width": null,
            "object_fit": null,
            "object_position": null,
            "order": null,
            "overflow": null,
            "overflow_x": null,
            "overflow_y": null,
            "padding": null,
            "right": null,
            "top": null,
            "visibility": null,
            "width": null
          }
        },
        "66b947d035f444d09a07519aaf535065": {
          "model_module": "@jupyter-widgets/base",
          "model_name": "LayoutModel",
          "model_module_version": "1.2.0",
          "state": {
            "_model_module": "@jupyter-widgets/base",
            "_model_module_version": "1.2.0",
            "_model_name": "LayoutModel",
            "_view_count": null,
            "_view_module": "@jupyter-widgets/base",
            "_view_module_version": "1.2.0",
            "_view_name": "LayoutView",
            "align_content": null,
            "align_items": null,
            "align_self": null,
            "border": null,
            "bottom": null,
            "display": null,
            "flex": null,
            "flex_flow": null,
            "grid_area": null,
            "grid_auto_columns": null,
            "grid_auto_flow": null,
            "grid_auto_rows": null,
            "grid_column": null,
            "grid_gap": null,
            "grid_row": null,
            "grid_template_areas": null,
            "grid_template_columns": null,
            "grid_template_rows": null,
            "height": null,
            "justify_content": null,
            "justify_items": null,
            "left": null,
            "margin": null,
            "max_height": null,
            "max_width": null,
            "min_height": null,
            "min_width": null,
            "object_fit": null,
            "object_position": null,
            "order": null,
            "overflow": null,
            "overflow_x": null,
            "overflow_y": null,
            "padding": null,
            "right": null,
            "top": null,
            "visibility": null,
            "width": null
          }
        },
        "53752f73d3b9492582d2d4ae1841a393": {
          "model_module": "@jupyter-widgets/controls",
          "model_name": "DescriptionStyleModel",
          "model_module_version": "1.5.0",
          "state": {
            "_model_module": "@jupyter-widgets/controls",
            "_model_module_version": "1.5.0",
            "_model_name": "DescriptionStyleModel",
            "_view_count": null,
            "_view_module": "@jupyter-widgets/base",
            "_view_module_version": "1.2.0",
            "_view_name": "StyleView",
            "description_width": ""
          }
        },
        "5efff54fe35248a881f34a5e959b5074": {
          "model_module": "@jupyter-widgets/base",
          "model_name": "LayoutModel",
          "model_module_version": "1.2.0",
          "state": {
            "_model_module": "@jupyter-widgets/base",
            "_model_module_version": "1.2.0",
            "_model_name": "LayoutModel",
            "_view_count": null,
            "_view_module": "@jupyter-widgets/base",
            "_view_module_version": "1.2.0",
            "_view_name": "LayoutView",
            "align_content": null,
            "align_items": null,
            "align_self": null,
            "border": null,
            "bottom": null,
            "display": null,
            "flex": null,
            "flex_flow": null,
            "grid_area": null,
            "grid_auto_columns": null,
            "grid_auto_flow": null,
            "grid_auto_rows": null,
            "grid_column": null,
            "grid_gap": null,
            "grid_row": null,
            "grid_template_areas": null,
            "grid_template_columns": null,
            "grid_template_rows": null,
            "height": null,
            "justify_content": null,
            "justify_items": null,
            "left": null,
            "margin": null,
            "max_height": null,
            "max_width": null,
            "min_height": null,
            "min_width": null,
            "object_fit": null,
            "object_position": null,
            "order": null,
            "overflow": null,
            "overflow_x": null,
            "overflow_y": null,
            "padding": null,
            "right": null,
            "top": null,
            "visibility": null,
            "width": null
          }
        },
        "c74b1c90583e4aab9162af5311f95d05": {
          "model_module": "@jupyter-widgets/controls",
          "model_name": "ProgressStyleModel",
          "model_module_version": "1.5.0",
          "state": {
            "_model_module": "@jupyter-widgets/controls",
            "_model_module_version": "1.5.0",
            "_model_name": "ProgressStyleModel",
            "_view_count": null,
            "_view_module": "@jupyter-widgets/base",
            "_view_module_version": "1.2.0",
            "_view_name": "StyleView",
            "bar_color": null,
            "description_width": ""
          }
        },
        "37d4eb0da1f84674a9b52a6d9d3c5d03": {
          "model_module": "@jupyter-widgets/base",
          "model_name": "LayoutModel",
          "model_module_version": "1.2.0",
          "state": {
            "_model_module": "@jupyter-widgets/base",
            "_model_module_version": "1.2.0",
            "_model_name": "LayoutModel",
            "_view_count": null,
            "_view_module": "@jupyter-widgets/base",
            "_view_module_version": "1.2.0",
            "_view_name": "LayoutView",
            "align_content": null,
            "align_items": null,
            "align_self": null,
            "border": null,
            "bottom": null,
            "display": null,
            "flex": null,
            "flex_flow": null,
            "grid_area": null,
            "grid_auto_columns": null,
            "grid_auto_flow": null,
            "grid_auto_rows": null,
            "grid_column": null,
            "grid_gap": null,
            "grid_row": null,
            "grid_template_areas": null,
            "grid_template_columns": null,
            "grid_template_rows": null,
            "height": null,
            "justify_content": null,
            "justify_items": null,
            "left": null,
            "margin": null,
            "max_height": null,
            "max_width": null,
            "min_height": null,
            "min_width": null,
            "object_fit": null,
            "object_position": null,
            "order": null,
            "overflow": null,
            "overflow_x": null,
            "overflow_y": null,
            "padding": null,
            "right": null,
            "top": null,
            "visibility": null,
            "width": null
          }
        },
        "dfb56691fb674760a909d3e832b099f9": {
          "model_module": "@jupyter-widgets/controls",
          "model_name": "DescriptionStyleModel",
          "model_module_version": "1.5.0",
          "state": {
            "_model_module": "@jupyter-widgets/controls",
            "_model_module_version": "1.5.0",
            "_model_name": "DescriptionStyleModel",
            "_view_count": null,
            "_view_module": "@jupyter-widgets/base",
            "_view_module_version": "1.2.0",
            "_view_name": "StyleView",
            "description_width": ""
          }
        },
        "5fe84fd8fd804345ac463a51817d2204": {
          "model_module": "@jupyter-widgets/controls",
          "model_name": "HBoxModel",
          "model_module_version": "1.5.0",
          "state": {
            "_dom_classes": [],
            "_model_module": "@jupyter-widgets/controls",
            "_model_module_version": "1.5.0",
            "_model_name": "HBoxModel",
            "_view_count": null,
            "_view_module": "@jupyter-widgets/controls",
            "_view_module_version": "1.5.0",
            "_view_name": "HBoxView",
            "box_style": "",
            "children": [
              "IPY_MODEL_5b78d338918a4e8f8e9c6556ba4dd8c1",
              "IPY_MODEL_1a95e3d1c7224288b732b3cc6356f550",
              "IPY_MODEL_8f25300c538042bebe00eed735533d32"
            ],
            "layout": "IPY_MODEL_9d94cdca40a44e51b05bbac9ed60d35d"
          }
        },
        "5b78d338918a4e8f8e9c6556ba4dd8c1": {
          "model_module": "@jupyter-widgets/controls",
          "model_name": "HTMLModel",
          "model_module_version": "1.5.0",
          "state": {
            "_dom_classes": [],
            "_model_module": "@jupyter-widgets/controls",
            "_model_module_version": "1.5.0",
            "_model_name": "HTMLModel",
            "_view_count": null,
            "_view_module": "@jupyter-widgets/controls",
            "_view_module_version": "1.5.0",
            "_view_name": "HTMLView",
            "description": "",
            "description_tooltip": null,
            "layout": "IPY_MODEL_507f7c83a73440f1830d9eefc8319823",
            "placeholder": "​",
            "style": "IPY_MODEL_3e3afc6d41c74f28804023d52dda693e",
            "value": "Downloading shards: 100%"
          }
        },
        "1a95e3d1c7224288b732b3cc6356f550": {
          "model_module": "@jupyter-widgets/controls",
          "model_name": "FloatProgressModel",
          "model_module_version": "1.5.0",
          "state": {
            "_dom_classes": [],
            "_model_module": "@jupyter-widgets/controls",
            "_model_module_version": "1.5.0",
            "_model_name": "FloatProgressModel",
            "_view_count": null,
            "_view_module": "@jupyter-widgets/controls",
            "_view_module_version": "1.5.0",
            "_view_name": "ProgressView",
            "bar_style": "success",
            "description": "",
            "description_tooltip": null,
            "layout": "IPY_MODEL_a8c76bf710684610892fde7743851cac",
            "max": 4,
            "min": 0,
            "orientation": "horizontal",
            "style": "IPY_MODEL_2871d8f68d75452ba28e59d5457056a0",
            "value": 4
          }
        },
        "8f25300c538042bebe00eed735533d32": {
          "model_module": "@jupyter-widgets/controls",
          "model_name": "HTMLModel",
          "model_module_version": "1.5.0",
          "state": {
            "_dom_classes": [],
            "_model_module": "@jupyter-widgets/controls",
            "_model_module_version": "1.5.0",
            "_model_name": "HTMLModel",
            "_view_count": null,
            "_view_module": "@jupyter-widgets/controls",
            "_view_module_version": "1.5.0",
            "_view_name": "HTMLView",
            "description": "",
            "description_tooltip": null,
            "layout": "IPY_MODEL_7e565b5c76d64934ae690edea4abb1cc",
            "placeholder": "​",
            "style": "IPY_MODEL_eae6b5895e0f4b7caa9b891a1f289c11",
            "value": " 4/4 [06:22&lt;00:00, 82.44s/it]"
          }
        },
        "9d94cdca40a44e51b05bbac9ed60d35d": {
          "model_module": "@jupyter-widgets/base",
          "model_name": "LayoutModel",
          "model_module_version": "1.2.0",
          "state": {
            "_model_module": "@jupyter-widgets/base",
            "_model_module_version": "1.2.0",
            "_model_name": "LayoutModel",
            "_view_count": null,
            "_view_module": "@jupyter-widgets/base",
            "_view_module_version": "1.2.0",
            "_view_name": "LayoutView",
            "align_content": null,
            "align_items": null,
            "align_self": null,
            "border": null,
            "bottom": null,
            "display": null,
            "flex": null,
            "flex_flow": null,
            "grid_area": null,
            "grid_auto_columns": null,
            "grid_auto_flow": null,
            "grid_auto_rows": null,
            "grid_column": null,
            "grid_gap": null,
            "grid_row": null,
            "grid_template_areas": null,
            "grid_template_columns": null,
            "grid_template_rows": null,
            "height": null,
            "justify_content": null,
            "justify_items": null,
            "left": null,
            "margin": null,
            "max_height": null,
            "max_width": null,
            "min_height": null,
            "min_width": null,
            "object_fit": null,
            "object_position": null,
            "order": null,
            "overflow": null,
            "overflow_x": null,
            "overflow_y": null,
            "padding": null,
            "right": null,
            "top": null,
            "visibility": null,
            "width": null
          }
        },
        "507f7c83a73440f1830d9eefc8319823": {
          "model_module": "@jupyter-widgets/base",
          "model_name": "LayoutModel",
          "model_module_version": "1.2.0",
          "state": {
            "_model_module": "@jupyter-widgets/base",
            "_model_module_version": "1.2.0",
            "_model_name": "LayoutModel",
            "_view_count": null,
            "_view_module": "@jupyter-widgets/base",
            "_view_module_version": "1.2.0",
            "_view_name": "LayoutView",
            "align_content": null,
            "align_items": null,
            "align_self": null,
            "border": null,
            "bottom": null,
            "display": null,
            "flex": null,
            "flex_flow": null,
            "grid_area": null,
            "grid_auto_columns": null,
            "grid_auto_flow": null,
            "grid_auto_rows": null,
            "grid_column": null,
            "grid_gap": null,
            "grid_row": null,
            "grid_template_areas": null,
            "grid_template_columns": null,
            "grid_template_rows": null,
            "height": null,
            "justify_content": null,
            "justify_items": null,
            "left": null,
            "margin": null,
            "max_height": null,
            "max_width": null,
            "min_height": null,
            "min_width": null,
            "object_fit": null,
            "object_position": null,
            "order": null,
            "overflow": null,
            "overflow_x": null,
            "overflow_y": null,
            "padding": null,
            "right": null,
            "top": null,
            "visibility": null,
            "width": null
          }
        },
        "3e3afc6d41c74f28804023d52dda693e": {
          "model_module": "@jupyter-widgets/controls",
          "model_name": "DescriptionStyleModel",
          "model_module_version": "1.5.0",
          "state": {
            "_model_module": "@jupyter-widgets/controls",
            "_model_module_version": "1.5.0",
            "_model_name": "DescriptionStyleModel",
            "_view_count": null,
            "_view_module": "@jupyter-widgets/base",
            "_view_module_version": "1.2.0",
            "_view_name": "StyleView",
            "description_width": ""
          }
        },
        "a8c76bf710684610892fde7743851cac": {
          "model_module": "@jupyter-widgets/base",
          "model_name": "LayoutModel",
          "model_module_version": "1.2.0",
          "state": {
            "_model_module": "@jupyter-widgets/base",
            "_model_module_version": "1.2.0",
            "_model_name": "LayoutModel",
            "_view_count": null,
            "_view_module": "@jupyter-widgets/base",
            "_view_module_version": "1.2.0",
            "_view_name": "LayoutView",
            "align_content": null,
            "align_items": null,
            "align_self": null,
            "border": null,
            "bottom": null,
            "display": null,
            "flex": null,
            "flex_flow": null,
            "grid_area": null,
            "grid_auto_columns": null,
            "grid_auto_flow": null,
            "grid_auto_rows": null,
            "grid_column": null,
            "grid_gap": null,
            "grid_row": null,
            "grid_template_areas": null,
            "grid_template_columns": null,
            "grid_template_rows": null,
            "height": null,
            "justify_content": null,
            "justify_items": null,
            "left": null,
            "margin": null,
            "max_height": null,
            "max_width": null,
            "min_height": null,
            "min_width": null,
            "object_fit": null,
            "object_position": null,
            "order": null,
            "overflow": null,
            "overflow_x": null,
            "overflow_y": null,
            "padding": null,
            "right": null,
            "top": null,
            "visibility": null,
            "width": null
          }
        },
        "2871d8f68d75452ba28e59d5457056a0": {
          "model_module": "@jupyter-widgets/controls",
          "model_name": "ProgressStyleModel",
          "model_module_version": "1.5.0",
          "state": {
            "_model_module": "@jupyter-widgets/controls",
            "_model_module_version": "1.5.0",
            "_model_name": "ProgressStyleModel",
            "_view_count": null,
            "_view_module": "@jupyter-widgets/base",
            "_view_module_version": "1.2.0",
            "_view_name": "StyleView",
            "bar_color": null,
            "description_width": ""
          }
        },
        "7e565b5c76d64934ae690edea4abb1cc": {
          "model_module": "@jupyter-widgets/base",
          "model_name": "LayoutModel",
          "model_module_version": "1.2.0",
          "state": {
            "_model_module": "@jupyter-widgets/base",
            "_model_module_version": "1.2.0",
            "_model_name": "LayoutModel",
            "_view_count": null,
            "_view_module": "@jupyter-widgets/base",
            "_view_module_version": "1.2.0",
            "_view_name": "LayoutView",
            "align_content": null,
            "align_items": null,
            "align_self": null,
            "border": null,
            "bottom": null,
            "display": null,
            "flex": null,
            "flex_flow": null,
            "grid_area": null,
            "grid_auto_columns": null,
            "grid_auto_flow": null,
            "grid_auto_rows": null,
            "grid_column": null,
            "grid_gap": null,
            "grid_row": null,
            "grid_template_areas": null,
            "grid_template_columns": null,
            "grid_template_rows": null,
            "height": null,
            "justify_content": null,
            "justify_items": null,
            "left": null,
            "margin": null,
            "max_height": null,
            "max_width": null,
            "min_height": null,
            "min_width": null,
            "object_fit": null,
            "object_position": null,
            "order": null,
            "overflow": null,
            "overflow_x": null,
            "overflow_y": null,
            "padding": null,
            "right": null,
            "top": null,
            "visibility": null,
            "width": null
          }
        },
        "eae6b5895e0f4b7caa9b891a1f289c11": {
          "model_module": "@jupyter-widgets/controls",
          "model_name": "DescriptionStyleModel",
          "model_module_version": "1.5.0",
          "state": {
            "_model_module": "@jupyter-widgets/controls",
            "_model_module_version": "1.5.0",
            "_model_name": "DescriptionStyleModel",
            "_view_count": null,
            "_view_module": "@jupyter-widgets/base",
            "_view_module_version": "1.2.0",
            "_view_name": "StyleView",
            "description_width": ""
          }
        },
        "a48df7ce13ce4b2d9203e9bfc8b4b685": {
          "model_module": "@jupyter-widgets/controls",
          "model_name": "HBoxModel",
          "model_module_version": "1.5.0",
          "state": {
            "_dom_classes": [],
            "_model_module": "@jupyter-widgets/controls",
            "_model_module_version": "1.5.0",
            "_model_name": "HBoxModel",
            "_view_count": null,
            "_view_module": "@jupyter-widgets/controls",
            "_view_module_version": "1.5.0",
            "_view_name": "HBoxView",
            "box_style": "",
            "children": [
              "IPY_MODEL_9711f2f86d9e4ea188559683ef668c7c",
              "IPY_MODEL_b76451f120a14bbc8e9dab322783ac2b",
              "IPY_MODEL_7fd10e1c250843399c9ac9e93b04e582"
            ],
            "layout": "IPY_MODEL_1e97c9c0817c4f13887a328b1b9ddc2d"
          }
        },
        "9711f2f86d9e4ea188559683ef668c7c": {
          "model_module": "@jupyter-widgets/controls",
          "model_name": "HTMLModel",
          "model_module_version": "1.5.0",
          "state": {
            "_dom_classes": [],
            "_model_module": "@jupyter-widgets/controls",
            "_model_module_version": "1.5.0",
            "_model_name": "HTMLModel",
            "_view_count": null,
            "_view_module": "@jupyter-widgets/controls",
            "_view_module_version": "1.5.0",
            "_view_name": "HTMLView",
            "description": "",
            "description_tooltip": null,
            "layout": "IPY_MODEL_8779c756a2254c76a11c967790fcf9d6",
            "placeholder": "​",
            "style": "IPY_MODEL_4743ef6b512a493686a6fd4af08e2246",
            "value": "model-00001-of-00004.safetensors: 100%"
          }
        },
        "b76451f120a14bbc8e9dab322783ac2b": {
          "model_module": "@jupyter-widgets/controls",
          "model_name": "FloatProgressModel",
          "model_module_version": "1.5.0",
          "state": {
            "_dom_classes": [],
            "_model_module": "@jupyter-widgets/controls",
            "_model_module_version": "1.5.0",
            "_model_name": "FloatProgressModel",
            "_view_count": null,
            "_view_module": "@jupyter-widgets/controls",
            "_view_module_version": "1.5.0",
            "_view_name": "ProgressView",
            "bar_style": "success",
            "description": "",
            "description_tooltip": null,
            "layout": "IPY_MODEL_e7af838528624846a4ad95b31370847a",
            "max": 4976698672,
            "min": 0,
            "orientation": "horizontal",
            "style": "IPY_MODEL_348c2f7cd5674cf183891cead330aa90",
            "value": 4976698672
          }
        },
        "7fd10e1c250843399c9ac9e93b04e582": {
          "model_module": "@jupyter-widgets/controls",
          "model_name": "HTMLModel",
          "model_module_version": "1.5.0",
          "state": {
            "_dom_classes": [],
            "_model_module": "@jupyter-widgets/controls",
            "_model_module_version": "1.5.0",
            "_model_name": "HTMLModel",
            "_view_count": null,
            "_view_module": "@jupyter-widgets/controls",
            "_view_module_version": "1.5.0",
            "_view_name": "HTMLView",
            "description": "",
            "description_tooltip": null,
            "layout": "IPY_MODEL_1480b937908a4d70b0292e1d217127d7",
            "placeholder": "​",
            "style": "IPY_MODEL_61855ca86c8d42b5875f76195e8d74da",
            "value": " 4.98G/4.98G [01:58&lt;00:00, 41.3MB/s]"
          }
        },
        "1e97c9c0817c4f13887a328b1b9ddc2d": {
          "model_module": "@jupyter-widgets/base",
          "model_name": "LayoutModel",
          "model_module_version": "1.2.0",
          "state": {
            "_model_module": "@jupyter-widgets/base",
            "_model_module_version": "1.2.0",
            "_model_name": "LayoutModel",
            "_view_count": null,
            "_view_module": "@jupyter-widgets/base",
            "_view_module_version": "1.2.0",
            "_view_name": "LayoutView",
            "align_content": null,
            "align_items": null,
            "align_self": null,
            "border": null,
            "bottom": null,
            "display": null,
            "flex": null,
            "flex_flow": null,
            "grid_area": null,
            "grid_auto_columns": null,
            "grid_auto_flow": null,
            "grid_auto_rows": null,
            "grid_column": null,
            "grid_gap": null,
            "grid_row": null,
            "grid_template_areas": null,
            "grid_template_columns": null,
            "grid_template_rows": null,
            "height": null,
            "justify_content": null,
            "justify_items": null,
            "left": null,
            "margin": null,
            "max_height": null,
            "max_width": null,
            "min_height": null,
            "min_width": null,
            "object_fit": null,
            "object_position": null,
            "order": null,
            "overflow": null,
            "overflow_x": null,
            "overflow_y": null,
            "padding": null,
            "right": null,
            "top": null,
            "visibility": null,
            "width": null
          }
        },
        "8779c756a2254c76a11c967790fcf9d6": {
          "model_module": "@jupyter-widgets/base",
          "model_name": "LayoutModel",
          "model_module_version": "1.2.0",
          "state": {
            "_model_module": "@jupyter-widgets/base",
            "_model_module_version": "1.2.0",
            "_model_name": "LayoutModel",
            "_view_count": null,
            "_view_module": "@jupyter-widgets/base",
            "_view_module_version": "1.2.0",
            "_view_name": "LayoutView",
            "align_content": null,
            "align_items": null,
            "align_self": null,
            "border": null,
            "bottom": null,
            "display": null,
            "flex": null,
            "flex_flow": null,
            "grid_area": null,
            "grid_auto_columns": null,
            "grid_auto_flow": null,
            "grid_auto_rows": null,
            "grid_column": null,
            "grid_gap": null,
            "grid_row": null,
            "grid_template_areas": null,
            "grid_template_columns": null,
            "grid_template_rows": null,
            "height": null,
            "justify_content": null,
            "justify_items": null,
            "left": null,
            "margin": null,
            "max_height": null,
            "max_width": null,
            "min_height": null,
            "min_width": null,
            "object_fit": null,
            "object_position": null,
            "order": null,
            "overflow": null,
            "overflow_x": null,
            "overflow_y": null,
            "padding": null,
            "right": null,
            "top": null,
            "visibility": null,
            "width": null
          }
        },
        "4743ef6b512a493686a6fd4af08e2246": {
          "model_module": "@jupyter-widgets/controls",
          "model_name": "DescriptionStyleModel",
          "model_module_version": "1.5.0",
          "state": {
            "_model_module": "@jupyter-widgets/controls",
            "_model_module_version": "1.5.0",
            "_model_name": "DescriptionStyleModel",
            "_view_count": null,
            "_view_module": "@jupyter-widgets/base",
            "_view_module_version": "1.2.0",
            "_view_name": "StyleView",
            "description_width": ""
          }
        },
        "e7af838528624846a4ad95b31370847a": {
          "model_module": "@jupyter-widgets/base",
          "model_name": "LayoutModel",
          "model_module_version": "1.2.0",
          "state": {
            "_model_module": "@jupyter-widgets/base",
            "_model_module_version": "1.2.0",
            "_model_name": "LayoutModel",
            "_view_count": null,
            "_view_module": "@jupyter-widgets/base",
            "_view_module_version": "1.2.0",
            "_view_name": "LayoutView",
            "align_content": null,
            "align_items": null,
            "align_self": null,
            "border": null,
            "bottom": null,
            "display": null,
            "flex": null,
            "flex_flow": null,
            "grid_area": null,
            "grid_auto_columns": null,
            "grid_auto_flow": null,
            "grid_auto_rows": null,
            "grid_column": null,
            "grid_gap": null,
            "grid_row": null,
            "grid_template_areas": null,
            "grid_template_columns": null,
            "grid_template_rows": null,
            "height": null,
            "justify_content": null,
            "justify_items": null,
            "left": null,
            "margin": null,
            "max_height": null,
            "max_width": null,
            "min_height": null,
            "min_width": null,
            "object_fit": null,
            "object_position": null,
            "order": null,
            "overflow": null,
            "overflow_x": null,
            "overflow_y": null,
            "padding": null,
            "right": null,
            "top": null,
            "visibility": null,
            "width": null
          }
        },
        "348c2f7cd5674cf183891cead330aa90": {
          "model_module": "@jupyter-widgets/controls",
          "model_name": "ProgressStyleModel",
          "model_module_version": "1.5.0",
          "state": {
            "_model_module": "@jupyter-widgets/controls",
            "_model_module_version": "1.5.0",
            "_model_name": "ProgressStyleModel",
            "_view_count": null,
            "_view_module": "@jupyter-widgets/base",
            "_view_module_version": "1.2.0",
            "_view_name": "StyleView",
            "bar_color": null,
            "description_width": ""
          }
        },
        "1480b937908a4d70b0292e1d217127d7": {
          "model_module": "@jupyter-widgets/base",
          "model_name": "LayoutModel",
          "model_module_version": "1.2.0",
          "state": {
            "_model_module": "@jupyter-widgets/base",
            "_model_module_version": "1.2.0",
            "_model_name": "LayoutModel",
            "_view_count": null,
            "_view_module": "@jupyter-widgets/base",
            "_view_module_version": "1.2.0",
            "_view_name": "LayoutView",
            "align_content": null,
            "align_items": null,
            "align_self": null,
            "border": null,
            "bottom": null,
            "display": null,
            "flex": null,
            "flex_flow": null,
            "grid_area": null,
            "grid_auto_columns": null,
            "grid_auto_flow": null,
            "grid_auto_rows": null,
            "grid_column": null,
            "grid_gap": null,
            "grid_row": null,
            "grid_template_areas": null,
            "grid_template_columns": null,
            "grid_template_rows": null,
            "height": null,
            "justify_content": null,
            "justify_items": null,
            "left": null,
            "margin": null,
            "max_height": null,
            "max_width": null,
            "min_height": null,
            "min_width": null,
            "object_fit": null,
            "object_position": null,
            "order": null,
            "overflow": null,
            "overflow_x": null,
            "overflow_y": null,
            "padding": null,
            "right": null,
            "top": null,
            "visibility": null,
            "width": null
          }
        },
        "61855ca86c8d42b5875f76195e8d74da": {
          "model_module": "@jupyter-widgets/controls",
          "model_name": "DescriptionStyleModel",
          "model_module_version": "1.5.0",
          "state": {
            "_model_module": "@jupyter-widgets/controls",
            "_model_module_version": "1.5.0",
            "_model_name": "DescriptionStyleModel",
            "_view_count": null,
            "_view_module": "@jupyter-widgets/base",
            "_view_module_version": "1.2.0",
            "_view_name": "StyleView",
            "description_width": ""
          }
        },
        "d4e2a6f39f8544b0ac0a31b8e3497b96": {
          "model_module": "@jupyter-widgets/controls",
          "model_name": "HBoxModel",
          "model_module_version": "1.5.0",
          "state": {
            "_dom_classes": [],
            "_model_module": "@jupyter-widgets/controls",
            "_model_module_version": "1.5.0",
            "_model_name": "HBoxModel",
            "_view_count": null,
            "_view_module": "@jupyter-widgets/controls",
            "_view_module_version": "1.5.0",
            "_view_name": "HBoxView",
            "box_style": "",
            "children": [
              "IPY_MODEL_d4ead6dd225b44668473fdccc151e90c",
              "IPY_MODEL_153a26d82c0c4fa4b901165de1aa33b3",
              "IPY_MODEL_8767236a19714c06a5b0c39705b525bf"
            ],
            "layout": "IPY_MODEL_2be7ecabc6f3415fbaf8a13be1fd8d98"
          }
        },
        "d4ead6dd225b44668473fdccc151e90c": {
          "model_module": "@jupyter-widgets/controls",
          "model_name": "HTMLModel",
          "model_module_version": "1.5.0",
          "state": {
            "_dom_classes": [],
            "_model_module": "@jupyter-widgets/controls",
            "_model_module_version": "1.5.0",
            "_model_name": "HTMLModel",
            "_view_count": null,
            "_view_module": "@jupyter-widgets/controls",
            "_view_module_version": "1.5.0",
            "_view_name": "HTMLView",
            "description": "",
            "description_tooltip": null,
            "layout": "IPY_MODEL_226fbf7d612348e8ad99be19815b0de1",
            "placeholder": "​",
            "style": "IPY_MODEL_ba459b83813b4e30abc34c882fa1d189",
            "value": "model-00002-of-00004.safetensors: 100%"
          }
        },
        "153a26d82c0c4fa4b901165de1aa33b3": {
          "model_module": "@jupyter-widgets/controls",
          "model_name": "FloatProgressModel",
          "model_module_version": "1.5.0",
          "state": {
            "_dom_classes": [],
            "_model_module": "@jupyter-widgets/controls",
            "_model_module_version": "1.5.0",
            "_model_name": "FloatProgressModel",
            "_view_count": null,
            "_view_module": "@jupyter-widgets/controls",
            "_view_module_version": "1.5.0",
            "_view_name": "ProgressView",
            "bar_style": "success",
            "description": "",
            "description_tooltip": null,
            "layout": "IPY_MODEL_cc20fdeccf84439cb78310731ff8934d",
            "max": 4999802720,
            "min": 0,
            "orientation": "horizontal",
            "style": "IPY_MODEL_1915f8edc49e4e5c848a972638e149c5",
            "value": 4999802720
          }
        },
        "8767236a19714c06a5b0c39705b525bf": {
          "model_module": "@jupyter-widgets/controls",
          "model_name": "HTMLModel",
          "model_module_version": "1.5.0",
          "state": {
            "_dom_classes": [],
            "_model_module": "@jupyter-widgets/controls",
            "_model_module_version": "1.5.0",
            "_model_name": "HTMLModel",
            "_view_count": null,
            "_view_module": "@jupyter-widgets/controls",
            "_view_module_version": "1.5.0",
            "_view_name": "HTMLView",
            "description": "",
            "description_tooltip": null,
            "layout": "IPY_MODEL_3f3046613a434c16bb473af0cc7b5914",
            "placeholder": "​",
            "style": "IPY_MODEL_c32afecc79d84780be71ef5980b277b5",
            "value": " 5.00G/5.00G [01:59&lt;00:00, 41.9MB/s]"
          }
        },
        "2be7ecabc6f3415fbaf8a13be1fd8d98": {
          "model_module": "@jupyter-widgets/base",
          "model_name": "LayoutModel",
          "model_module_version": "1.2.0",
          "state": {
            "_model_module": "@jupyter-widgets/base",
            "_model_module_version": "1.2.0",
            "_model_name": "LayoutModel",
            "_view_count": null,
            "_view_module": "@jupyter-widgets/base",
            "_view_module_version": "1.2.0",
            "_view_name": "LayoutView",
            "align_content": null,
            "align_items": null,
            "align_self": null,
            "border": null,
            "bottom": null,
            "display": null,
            "flex": null,
            "flex_flow": null,
            "grid_area": null,
            "grid_auto_columns": null,
            "grid_auto_flow": null,
            "grid_auto_rows": null,
            "grid_column": null,
            "grid_gap": null,
            "grid_row": null,
            "grid_template_areas": null,
            "grid_template_columns": null,
            "grid_template_rows": null,
            "height": null,
            "justify_content": null,
            "justify_items": null,
            "left": null,
            "margin": null,
            "max_height": null,
            "max_width": null,
            "min_height": null,
            "min_width": null,
            "object_fit": null,
            "object_position": null,
            "order": null,
            "overflow": null,
            "overflow_x": null,
            "overflow_y": null,
            "padding": null,
            "right": null,
            "top": null,
            "visibility": null,
            "width": null
          }
        },
        "226fbf7d612348e8ad99be19815b0de1": {
          "model_module": "@jupyter-widgets/base",
          "model_name": "LayoutModel",
          "model_module_version": "1.2.0",
          "state": {
            "_model_module": "@jupyter-widgets/base",
            "_model_module_version": "1.2.0",
            "_model_name": "LayoutModel",
            "_view_count": null,
            "_view_module": "@jupyter-widgets/base",
            "_view_module_version": "1.2.0",
            "_view_name": "LayoutView",
            "align_content": null,
            "align_items": null,
            "align_self": null,
            "border": null,
            "bottom": null,
            "display": null,
            "flex": null,
            "flex_flow": null,
            "grid_area": null,
            "grid_auto_columns": null,
            "grid_auto_flow": null,
            "grid_auto_rows": null,
            "grid_column": null,
            "grid_gap": null,
            "grid_row": null,
            "grid_template_areas": null,
            "grid_template_columns": null,
            "grid_template_rows": null,
            "height": null,
            "justify_content": null,
            "justify_items": null,
            "left": null,
            "margin": null,
            "max_height": null,
            "max_width": null,
            "min_height": null,
            "min_width": null,
            "object_fit": null,
            "object_position": null,
            "order": null,
            "overflow": null,
            "overflow_x": null,
            "overflow_y": null,
            "padding": null,
            "right": null,
            "top": null,
            "visibility": null,
            "width": null
          }
        },
        "ba459b83813b4e30abc34c882fa1d189": {
          "model_module": "@jupyter-widgets/controls",
          "model_name": "DescriptionStyleModel",
          "model_module_version": "1.5.0",
          "state": {
            "_model_module": "@jupyter-widgets/controls",
            "_model_module_version": "1.5.0",
            "_model_name": "DescriptionStyleModel",
            "_view_count": null,
            "_view_module": "@jupyter-widgets/base",
            "_view_module_version": "1.2.0",
            "_view_name": "StyleView",
            "description_width": ""
          }
        },
        "cc20fdeccf84439cb78310731ff8934d": {
          "model_module": "@jupyter-widgets/base",
          "model_name": "LayoutModel",
          "model_module_version": "1.2.0",
          "state": {
            "_model_module": "@jupyter-widgets/base",
            "_model_module_version": "1.2.0",
            "_model_name": "LayoutModel",
            "_view_count": null,
            "_view_module": "@jupyter-widgets/base",
            "_view_module_version": "1.2.0",
            "_view_name": "LayoutView",
            "align_content": null,
            "align_items": null,
            "align_self": null,
            "border": null,
            "bottom": null,
            "display": null,
            "flex": null,
            "flex_flow": null,
            "grid_area": null,
            "grid_auto_columns": null,
            "grid_auto_flow": null,
            "grid_auto_rows": null,
            "grid_column": null,
            "grid_gap": null,
            "grid_row": null,
            "grid_template_areas": null,
            "grid_template_columns": null,
            "grid_template_rows": null,
            "height": null,
            "justify_content": null,
            "justify_items": null,
            "left": null,
            "margin": null,
            "max_height": null,
            "max_width": null,
            "min_height": null,
            "min_width": null,
            "object_fit": null,
            "object_position": null,
            "order": null,
            "overflow": null,
            "overflow_x": null,
            "overflow_y": null,
            "padding": null,
            "right": null,
            "top": null,
            "visibility": null,
            "width": null
          }
        },
        "1915f8edc49e4e5c848a972638e149c5": {
          "model_module": "@jupyter-widgets/controls",
          "model_name": "ProgressStyleModel",
          "model_module_version": "1.5.0",
          "state": {
            "_model_module": "@jupyter-widgets/controls",
            "_model_module_version": "1.5.0",
            "_model_name": "ProgressStyleModel",
            "_view_count": null,
            "_view_module": "@jupyter-widgets/base",
            "_view_module_version": "1.2.0",
            "_view_name": "StyleView",
            "bar_color": null,
            "description_width": ""
          }
        },
        "3f3046613a434c16bb473af0cc7b5914": {
          "model_module": "@jupyter-widgets/base",
          "model_name": "LayoutModel",
          "model_module_version": "1.2.0",
          "state": {
            "_model_module": "@jupyter-widgets/base",
            "_model_module_version": "1.2.0",
            "_model_name": "LayoutModel",
            "_view_count": null,
            "_view_module": "@jupyter-widgets/base",
            "_view_module_version": "1.2.0",
            "_view_name": "LayoutView",
            "align_content": null,
            "align_items": null,
            "align_self": null,
            "border": null,
            "bottom": null,
            "display": null,
            "flex": null,
            "flex_flow": null,
            "grid_area": null,
            "grid_auto_columns": null,
            "grid_auto_flow": null,
            "grid_auto_rows": null,
            "grid_column": null,
            "grid_gap": null,
            "grid_row": null,
            "grid_template_areas": null,
            "grid_template_columns": null,
            "grid_template_rows": null,
            "height": null,
            "justify_content": null,
            "justify_items": null,
            "left": null,
            "margin": null,
            "max_height": null,
            "max_width": null,
            "min_height": null,
            "min_width": null,
            "object_fit": null,
            "object_position": null,
            "order": null,
            "overflow": null,
            "overflow_x": null,
            "overflow_y": null,
            "padding": null,
            "right": null,
            "top": null,
            "visibility": null,
            "width": null
          }
        },
        "c32afecc79d84780be71ef5980b277b5": {
          "model_module": "@jupyter-widgets/controls",
          "model_name": "DescriptionStyleModel",
          "model_module_version": "1.5.0",
          "state": {
            "_model_module": "@jupyter-widgets/controls",
            "_model_module_version": "1.5.0",
            "_model_name": "DescriptionStyleModel",
            "_view_count": null,
            "_view_module": "@jupyter-widgets/base",
            "_view_module_version": "1.2.0",
            "_view_name": "StyleView",
            "description_width": ""
          }
        },
        "156b004a7f654d95a6d6be9617cad1d4": {
          "model_module": "@jupyter-widgets/controls",
          "model_name": "HBoxModel",
          "model_module_version": "1.5.0",
          "state": {
            "_dom_classes": [],
            "_model_module": "@jupyter-widgets/controls",
            "_model_module_version": "1.5.0",
            "_model_name": "HBoxModel",
            "_view_count": null,
            "_view_module": "@jupyter-widgets/controls",
            "_view_module_version": "1.5.0",
            "_view_name": "HBoxView",
            "box_style": "",
            "children": [
              "IPY_MODEL_ac2faea519e748cfa2f96ca6b809171c",
              "IPY_MODEL_9953ab13bd8f482ab6b8a55103a66fa7",
              "IPY_MODEL_420c2671226a4c7d96af92d1cb6aefd3"
            ],
            "layout": "IPY_MODEL_670cf46965bf4d9b8c5a28cc16a490dc"
          }
        },
        "ac2faea519e748cfa2f96ca6b809171c": {
          "model_module": "@jupyter-widgets/controls",
          "model_name": "HTMLModel",
          "model_module_version": "1.5.0",
          "state": {
            "_dom_classes": [],
            "_model_module": "@jupyter-widgets/controls",
            "_model_module_version": "1.5.0",
            "_model_name": "HTMLModel",
            "_view_count": null,
            "_view_module": "@jupyter-widgets/controls",
            "_view_module_version": "1.5.0",
            "_view_name": "HTMLView",
            "description": "",
            "description_tooltip": null,
            "layout": "IPY_MODEL_01802f7e80264c26afd77079244b9e81",
            "placeholder": "​",
            "style": "IPY_MODEL_ee6e76daf5ae40c9adacb3b793b823cd",
            "value": "model-00003-of-00004.safetensors: 100%"
          }
        },
        "9953ab13bd8f482ab6b8a55103a66fa7": {
          "model_module": "@jupyter-widgets/controls",
          "model_name": "FloatProgressModel",
          "model_module_version": "1.5.0",
          "state": {
            "_dom_classes": [],
            "_model_module": "@jupyter-widgets/controls",
            "_model_module_version": "1.5.0",
            "_model_name": "FloatProgressModel",
            "_view_count": null,
            "_view_module": "@jupyter-widgets/controls",
            "_view_module_version": "1.5.0",
            "_view_name": "ProgressView",
            "bar_style": "success",
            "description": "",
            "description_tooltip": null,
            "layout": "IPY_MODEL_800843713d5d4d7392afde6f0a7d69e6",
            "max": 4915916176,
            "min": 0,
            "orientation": "horizontal",
            "style": "IPY_MODEL_281196bd22c742cda31c965ba0e74434",
            "value": 4915916176
          }
        },
        "420c2671226a4c7d96af92d1cb6aefd3": {
          "model_module": "@jupyter-widgets/controls",
          "model_name": "HTMLModel",
          "model_module_version": "1.5.0",
          "state": {
            "_dom_classes": [],
            "_model_module": "@jupyter-widgets/controls",
            "_model_module_version": "1.5.0",
            "_model_name": "HTMLModel",
            "_view_count": null,
            "_view_module": "@jupyter-widgets/controls",
            "_view_module_version": "1.5.0",
            "_view_name": "HTMLView",
            "description": "",
            "description_tooltip": null,
            "layout": "IPY_MODEL_ae45f37c536c4bd582b8336575a4786e",
            "placeholder": "​",
            "style": "IPY_MODEL_497d0cfd6a5c4e579f6c2a7dc89710eb",
            "value": " 4.92G/4.92G [01:56&lt;00:00, 42.2MB/s]"
          }
        },
        "670cf46965bf4d9b8c5a28cc16a490dc": {
          "model_module": "@jupyter-widgets/base",
          "model_name": "LayoutModel",
          "model_module_version": "1.2.0",
          "state": {
            "_model_module": "@jupyter-widgets/base",
            "_model_module_version": "1.2.0",
            "_model_name": "LayoutModel",
            "_view_count": null,
            "_view_module": "@jupyter-widgets/base",
            "_view_module_version": "1.2.0",
            "_view_name": "LayoutView",
            "align_content": null,
            "align_items": null,
            "align_self": null,
            "border": null,
            "bottom": null,
            "display": null,
            "flex": null,
            "flex_flow": null,
            "grid_area": null,
            "grid_auto_columns": null,
            "grid_auto_flow": null,
            "grid_auto_rows": null,
            "grid_column": null,
            "grid_gap": null,
            "grid_row": null,
            "grid_template_areas": null,
            "grid_template_columns": null,
            "grid_template_rows": null,
            "height": null,
            "justify_content": null,
            "justify_items": null,
            "left": null,
            "margin": null,
            "max_height": null,
            "max_width": null,
            "min_height": null,
            "min_width": null,
            "object_fit": null,
            "object_position": null,
            "order": null,
            "overflow": null,
            "overflow_x": null,
            "overflow_y": null,
            "padding": null,
            "right": null,
            "top": null,
            "visibility": null,
            "width": null
          }
        },
        "01802f7e80264c26afd77079244b9e81": {
          "model_module": "@jupyter-widgets/base",
          "model_name": "LayoutModel",
          "model_module_version": "1.2.0",
          "state": {
            "_model_module": "@jupyter-widgets/base",
            "_model_module_version": "1.2.0",
            "_model_name": "LayoutModel",
            "_view_count": null,
            "_view_module": "@jupyter-widgets/base",
            "_view_module_version": "1.2.0",
            "_view_name": "LayoutView",
            "align_content": null,
            "align_items": null,
            "align_self": null,
            "border": null,
            "bottom": null,
            "display": null,
            "flex": null,
            "flex_flow": null,
            "grid_area": null,
            "grid_auto_columns": null,
            "grid_auto_flow": null,
            "grid_auto_rows": null,
            "grid_column": null,
            "grid_gap": null,
            "grid_row": null,
            "grid_template_areas": null,
            "grid_template_columns": null,
            "grid_template_rows": null,
            "height": null,
            "justify_content": null,
            "justify_items": null,
            "left": null,
            "margin": null,
            "max_height": null,
            "max_width": null,
            "min_height": null,
            "min_width": null,
            "object_fit": null,
            "object_position": null,
            "order": null,
            "overflow": null,
            "overflow_x": null,
            "overflow_y": null,
            "padding": null,
            "right": null,
            "top": null,
            "visibility": null,
            "width": null
          }
        },
        "ee6e76daf5ae40c9adacb3b793b823cd": {
          "model_module": "@jupyter-widgets/controls",
          "model_name": "DescriptionStyleModel",
          "model_module_version": "1.5.0",
          "state": {
            "_model_module": "@jupyter-widgets/controls",
            "_model_module_version": "1.5.0",
            "_model_name": "DescriptionStyleModel",
            "_view_count": null,
            "_view_module": "@jupyter-widgets/base",
            "_view_module_version": "1.2.0",
            "_view_name": "StyleView",
            "description_width": ""
          }
        },
        "800843713d5d4d7392afde6f0a7d69e6": {
          "model_module": "@jupyter-widgets/base",
          "model_name": "LayoutModel",
          "model_module_version": "1.2.0",
          "state": {
            "_model_module": "@jupyter-widgets/base",
            "_model_module_version": "1.2.0",
            "_model_name": "LayoutModel",
            "_view_count": null,
            "_view_module": "@jupyter-widgets/base",
            "_view_module_version": "1.2.0",
            "_view_name": "LayoutView",
            "align_content": null,
            "align_items": null,
            "align_self": null,
            "border": null,
            "bottom": null,
            "display": null,
            "flex": null,
            "flex_flow": null,
            "grid_area": null,
            "grid_auto_columns": null,
            "grid_auto_flow": null,
            "grid_auto_rows": null,
            "grid_column": null,
            "grid_gap": null,
            "grid_row": null,
            "grid_template_areas": null,
            "grid_template_columns": null,
            "grid_template_rows": null,
            "height": null,
            "justify_content": null,
            "justify_items": null,
            "left": null,
            "margin": null,
            "max_height": null,
            "max_width": null,
            "min_height": null,
            "min_width": null,
            "object_fit": null,
            "object_position": null,
            "order": null,
            "overflow": null,
            "overflow_x": null,
            "overflow_y": null,
            "padding": null,
            "right": null,
            "top": null,
            "visibility": null,
            "width": null
          }
        },
        "281196bd22c742cda31c965ba0e74434": {
          "model_module": "@jupyter-widgets/controls",
          "model_name": "ProgressStyleModel",
          "model_module_version": "1.5.0",
          "state": {
            "_model_module": "@jupyter-widgets/controls",
            "_model_module_version": "1.5.0",
            "_model_name": "ProgressStyleModel",
            "_view_count": null,
            "_view_module": "@jupyter-widgets/base",
            "_view_module_version": "1.2.0",
            "_view_name": "StyleView",
            "bar_color": null,
            "description_width": ""
          }
        },
        "ae45f37c536c4bd582b8336575a4786e": {
          "model_module": "@jupyter-widgets/base",
          "model_name": "LayoutModel",
          "model_module_version": "1.2.0",
          "state": {
            "_model_module": "@jupyter-widgets/base",
            "_model_module_version": "1.2.0",
            "_model_name": "LayoutModel",
            "_view_count": null,
            "_view_module": "@jupyter-widgets/base",
            "_view_module_version": "1.2.0",
            "_view_name": "LayoutView",
            "align_content": null,
            "align_items": null,
            "align_self": null,
            "border": null,
            "bottom": null,
            "display": null,
            "flex": null,
            "flex_flow": null,
            "grid_area": null,
            "grid_auto_columns": null,
            "grid_auto_flow": null,
            "grid_auto_rows": null,
            "grid_column": null,
            "grid_gap": null,
            "grid_row": null,
            "grid_template_areas": null,
            "grid_template_columns": null,
            "grid_template_rows": null,
            "height": null,
            "justify_content": null,
            "justify_items": null,
            "left": null,
            "margin": null,
            "max_height": null,
            "max_width": null,
            "min_height": null,
            "min_width": null,
            "object_fit": null,
            "object_position": null,
            "order": null,
            "overflow": null,
            "overflow_x": null,
            "overflow_y": null,
            "padding": null,
            "right": null,
            "top": null,
            "visibility": null,
            "width": null
          }
        },
        "497d0cfd6a5c4e579f6c2a7dc89710eb": {
          "model_module": "@jupyter-widgets/controls",
          "model_name": "DescriptionStyleModel",
          "model_module_version": "1.5.0",
          "state": {
            "_model_module": "@jupyter-widgets/controls",
            "_model_module_version": "1.5.0",
            "_model_name": "DescriptionStyleModel",
            "_view_count": null,
            "_view_module": "@jupyter-widgets/base",
            "_view_module_version": "1.2.0",
            "_view_name": "StyleView",
            "description_width": ""
          }
        },
        "a8a555a97d594c3289abbfdd2f0d9713": {
          "model_module": "@jupyter-widgets/controls",
          "model_name": "HBoxModel",
          "model_module_version": "1.5.0",
          "state": {
            "_dom_classes": [],
            "_model_module": "@jupyter-widgets/controls",
            "_model_module_version": "1.5.0",
            "_model_name": "HBoxModel",
            "_view_count": null,
            "_view_module": "@jupyter-widgets/controls",
            "_view_module_version": "1.5.0",
            "_view_name": "HBoxView",
            "box_style": "",
            "children": [
              "IPY_MODEL_b24dc126efc048f884e36a00089e279c",
              "IPY_MODEL_9a3d426c9092418d9a952712eac9b956",
              "IPY_MODEL_272074d2e00a4e0189e6c95aeeafbc8e"
            ],
            "layout": "IPY_MODEL_cc70fc48d1204707ad5a3a4a138a2055"
          }
        },
        "b24dc126efc048f884e36a00089e279c": {
          "model_module": "@jupyter-widgets/controls",
          "model_name": "HTMLModel",
          "model_module_version": "1.5.0",
          "state": {
            "_dom_classes": [],
            "_model_module": "@jupyter-widgets/controls",
            "_model_module_version": "1.5.0",
            "_model_name": "HTMLModel",
            "_view_count": null,
            "_view_module": "@jupyter-widgets/controls",
            "_view_module_version": "1.5.0",
            "_view_name": "HTMLView",
            "description": "",
            "description_tooltip": null,
            "layout": "IPY_MODEL_24cd2c129f384031bd27bffbbd2c9ee6",
            "placeholder": "​",
            "style": "IPY_MODEL_9634d0a80d3349c4a9cd3ccd9193b339",
            "value": "model-00004-of-00004.safetensors: 100%"
          }
        },
        "9a3d426c9092418d9a952712eac9b956": {
          "model_module": "@jupyter-widgets/controls",
          "model_name": "FloatProgressModel",
          "model_module_version": "1.5.0",
          "state": {
            "_dom_classes": [],
            "_model_module": "@jupyter-widgets/controls",
            "_model_module_version": "1.5.0",
            "_model_name": "FloatProgressModel",
            "_view_count": null,
            "_view_module": "@jupyter-widgets/controls",
            "_view_module_version": "1.5.0",
            "_view_name": "ProgressView",
            "bar_style": "success",
            "description": "",
            "description_tooltip": null,
            "layout": "IPY_MODEL_397f2b38947140429225979ec679f84c",
            "max": 1168138808,
            "min": 0,
            "orientation": "horizontal",
            "style": "IPY_MODEL_fbf52f93b31547f3bd7a169c4500b44d",
            "value": 1168138808
          }
        },
        "272074d2e00a4e0189e6c95aeeafbc8e": {
          "model_module": "@jupyter-widgets/controls",
          "model_name": "HTMLModel",
          "model_module_version": "1.5.0",
          "state": {
            "_dom_classes": [],
            "_model_module": "@jupyter-widgets/controls",
            "_model_module_version": "1.5.0",
            "_model_name": "HTMLModel",
            "_view_count": null,
            "_view_module": "@jupyter-widgets/controls",
            "_view_module_version": "1.5.0",
            "_view_name": "HTMLView",
            "description": "",
            "description_tooltip": null,
            "layout": "IPY_MODEL_b36a023d9e2640419fde92da6bd6a23a",
            "placeholder": "​",
            "style": "IPY_MODEL_1f83f6786dca41a997f17552a0fdd840",
            "value": " 1.17G/1.17G [00:27&lt;00:00, 42.3MB/s]"
          }
        },
        "cc70fc48d1204707ad5a3a4a138a2055": {
          "model_module": "@jupyter-widgets/base",
          "model_name": "LayoutModel",
          "model_module_version": "1.2.0",
          "state": {
            "_model_module": "@jupyter-widgets/base",
            "_model_module_version": "1.2.0",
            "_model_name": "LayoutModel",
            "_view_count": null,
            "_view_module": "@jupyter-widgets/base",
            "_view_module_version": "1.2.0",
            "_view_name": "LayoutView",
            "align_content": null,
            "align_items": null,
            "align_self": null,
            "border": null,
            "bottom": null,
            "display": null,
            "flex": null,
            "flex_flow": null,
            "grid_area": null,
            "grid_auto_columns": null,
            "grid_auto_flow": null,
            "grid_auto_rows": null,
            "grid_column": null,
            "grid_gap": null,
            "grid_row": null,
            "grid_template_areas": null,
            "grid_template_columns": null,
            "grid_template_rows": null,
            "height": null,
            "justify_content": null,
            "justify_items": null,
            "left": null,
            "margin": null,
            "max_height": null,
            "max_width": null,
            "min_height": null,
            "min_width": null,
            "object_fit": null,
            "object_position": null,
            "order": null,
            "overflow": null,
            "overflow_x": null,
            "overflow_y": null,
            "padding": null,
            "right": null,
            "top": null,
            "visibility": null,
            "width": null
          }
        },
        "24cd2c129f384031bd27bffbbd2c9ee6": {
          "model_module": "@jupyter-widgets/base",
          "model_name": "LayoutModel",
          "model_module_version": "1.2.0",
          "state": {
            "_model_module": "@jupyter-widgets/base",
            "_model_module_version": "1.2.0",
            "_model_name": "LayoutModel",
            "_view_count": null,
            "_view_module": "@jupyter-widgets/base",
            "_view_module_version": "1.2.0",
            "_view_name": "LayoutView",
            "align_content": null,
            "align_items": null,
            "align_self": null,
            "border": null,
            "bottom": null,
            "display": null,
            "flex": null,
            "flex_flow": null,
            "grid_area": null,
            "grid_auto_columns": null,
            "grid_auto_flow": null,
            "grid_auto_rows": null,
            "grid_column": null,
            "grid_gap": null,
            "grid_row": null,
            "grid_template_areas": null,
            "grid_template_columns": null,
            "grid_template_rows": null,
            "height": null,
            "justify_content": null,
            "justify_items": null,
            "left": null,
            "margin": null,
            "max_height": null,
            "max_width": null,
            "min_height": null,
            "min_width": null,
            "object_fit": null,
            "object_position": null,
            "order": null,
            "overflow": null,
            "overflow_x": null,
            "overflow_y": null,
            "padding": null,
            "right": null,
            "top": null,
            "visibility": null,
            "width": null
          }
        },
        "9634d0a80d3349c4a9cd3ccd9193b339": {
          "model_module": "@jupyter-widgets/controls",
          "model_name": "DescriptionStyleModel",
          "model_module_version": "1.5.0",
          "state": {
            "_model_module": "@jupyter-widgets/controls",
            "_model_module_version": "1.5.0",
            "_model_name": "DescriptionStyleModel",
            "_view_count": null,
            "_view_module": "@jupyter-widgets/base",
            "_view_module_version": "1.2.0",
            "_view_name": "StyleView",
            "description_width": ""
          }
        },
        "397f2b38947140429225979ec679f84c": {
          "model_module": "@jupyter-widgets/base",
          "model_name": "LayoutModel",
          "model_module_version": "1.2.0",
          "state": {
            "_model_module": "@jupyter-widgets/base",
            "_model_module_version": "1.2.0",
            "_model_name": "LayoutModel",
            "_view_count": null,
            "_view_module": "@jupyter-widgets/base",
            "_view_module_version": "1.2.0",
            "_view_name": "LayoutView",
            "align_content": null,
            "align_items": null,
            "align_self": null,
            "border": null,
            "bottom": null,
            "display": null,
            "flex": null,
            "flex_flow": null,
            "grid_area": null,
            "grid_auto_columns": null,
            "grid_auto_flow": null,
            "grid_auto_rows": null,
            "grid_column": null,
            "grid_gap": null,
            "grid_row": null,
            "grid_template_areas": null,
            "grid_template_columns": null,
            "grid_template_rows": null,
            "height": null,
            "justify_content": null,
            "justify_items": null,
            "left": null,
            "margin": null,
            "max_height": null,
            "max_width": null,
            "min_height": null,
            "min_width": null,
            "object_fit": null,
            "object_position": null,
            "order": null,
            "overflow": null,
            "overflow_x": null,
            "overflow_y": null,
            "padding": null,
            "right": null,
            "top": null,
            "visibility": null,
            "width": null
          }
        },
        "fbf52f93b31547f3bd7a169c4500b44d": {
          "model_module": "@jupyter-widgets/controls",
          "model_name": "ProgressStyleModel",
          "model_module_version": "1.5.0",
          "state": {
            "_model_module": "@jupyter-widgets/controls",
            "_model_module_version": "1.5.0",
            "_model_name": "ProgressStyleModel",
            "_view_count": null,
            "_view_module": "@jupyter-widgets/base",
            "_view_module_version": "1.2.0",
            "_view_name": "StyleView",
            "bar_color": null,
            "description_width": ""
          }
        },
        "b36a023d9e2640419fde92da6bd6a23a": {
          "model_module": "@jupyter-widgets/base",
          "model_name": "LayoutModel",
          "model_module_version": "1.2.0",
          "state": {
            "_model_module": "@jupyter-widgets/base",
            "_model_module_version": "1.2.0",
            "_model_name": "LayoutModel",
            "_view_count": null,
            "_view_module": "@jupyter-widgets/base",
            "_view_module_version": "1.2.0",
            "_view_name": "LayoutView",
            "align_content": null,
            "align_items": null,
            "align_self": null,
            "border": null,
            "bottom": null,
            "display": null,
            "flex": null,
            "flex_flow": null,
            "grid_area": null,
            "grid_auto_columns": null,
            "grid_auto_flow": null,
            "grid_auto_rows": null,
            "grid_column": null,
            "grid_gap": null,
            "grid_row": null,
            "grid_template_areas": null,
            "grid_template_columns": null,
            "grid_template_rows": null,
            "height": null,
            "justify_content": null,
            "justify_items": null,
            "left": null,
            "margin": null,
            "max_height": null,
            "max_width": null,
            "min_height": null,
            "min_width": null,
            "object_fit": null,
            "object_position": null,
            "order": null,
            "overflow": null,
            "overflow_x": null,
            "overflow_y": null,
            "padding": null,
            "right": null,
            "top": null,
            "visibility": null,
            "width": null
          }
        },
        "1f83f6786dca41a997f17552a0fdd840": {
          "model_module": "@jupyter-widgets/controls",
          "model_name": "DescriptionStyleModel",
          "model_module_version": "1.5.0",
          "state": {
            "_model_module": "@jupyter-widgets/controls",
            "_model_module_version": "1.5.0",
            "_model_name": "DescriptionStyleModel",
            "_view_count": null,
            "_view_module": "@jupyter-widgets/base",
            "_view_module_version": "1.2.0",
            "_view_name": "StyleView",
            "description_width": ""
          }
        },
        "d976fbb3f8e342f68424ccc06dfc3eaf": {
          "model_module": "@jupyter-widgets/controls",
          "model_name": "HBoxModel",
          "model_module_version": "1.5.0",
          "state": {
            "_dom_classes": [],
            "_model_module": "@jupyter-widgets/controls",
            "_model_module_version": "1.5.0",
            "_model_name": "HBoxModel",
            "_view_count": null,
            "_view_module": "@jupyter-widgets/controls",
            "_view_module_version": "1.5.0",
            "_view_name": "HBoxView",
            "box_style": "",
            "children": [
              "IPY_MODEL_87366d3c0aa74d0e9f196e2fc6953792",
              "IPY_MODEL_8fb06ed5d00d4cd6b8e8ffae41ab86e5",
              "IPY_MODEL_806d029677fd4799aa8a1304280d56f5"
            ],
            "layout": "IPY_MODEL_7879845c3686414da791fe692b535d3f"
          }
        },
        "87366d3c0aa74d0e9f196e2fc6953792": {
          "model_module": "@jupyter-widgets/controls",
          "model_name": "HTMLModel",
          "model_module_version": "1.5.0",
          "state": {
            "_dom_classes": [],
            "_model_module": "@jupyter-widgets/controls",
            "_model_module_version": "1.5.0",
            "_model_name": "HTMLModel",
            "_view_count": null,
            "_view_module": "@jupyter-widgets/controls",
            "_view_module_version": "1.5.0",
            "_view_name": "HTMLView",
            "description": "",
            "description_tooltip": null,
            "layout": "IPY_MODEL_88e40ca7d17846519f32fed26bee6362",
            "placeholder": "​",
            "style": "IPY_MODEL_795636bd59a247058edcef9c139f0498",
            "value": "Loading checkpoint shards: 100%"
          }
        },
        "8fb06ed5d00d4cd6b8e8ffae41ab86e5": {
          "model_module": "@jupyter-widgets/controls",
          "model_name": "FloatProgressModel",
          "model_module_version": "1.5.0",
          "state": {
            "_dom_classes": [],
            "_model_module": "@jupyter-widgets/controls",
            "_model_module_version": "1.5.0",
            "_model_name": "FloatProgressModel",
            "_view_count": null,
            "_view_module": "@jupyter-widgets/controls",
            "_view_module_version": "1.5.0",
            "_view_name": "ProgressView",
            "bar_style": "success",
            "description": "",
            "description_tooltip": null,
            "layout": "IPY_MODEL_587a2fca7e404dc381c87b9080fea929",
            "max": 4,
            "min": 0,
            "orientation": "horizontal",
            "style": "IPY_MODEL_0e949c4c0e334b069bba745fd5c0da7e",
            "value": 4
          }
        },
        "806d029677fd4799aa8a1304280d56f5": {
          "model_module": "@jupyter-widgets/controls",
          "model_name": "HTMLModel",
          "model_module_version": "1.5.0",
          "state": {
            "_dom_classes": [],
            "_model_module": "@jupyter-widgets/controls",
            "_model_module_version": "1.5.0",
            "_model_name": "HTMLModel",
            "_view_count": null,
            "_view_module": "@jupyter-widgets/controls",
            "_view_module_version": "1.5.0",
            "_view_name": "HTMLView",
            "description": "",
            "description_tooltip": null,
            "layout": "IPY_MODEL_684254fe57ee4b6a8da17f1855b24c66",
            "placeholder": "​",
            "style": "IPY_MODEL_eca9cb8144af4a97b4015121ef03c2d3",
            "value": " 4/4 [01:27&lt;00:00, 19.06s/it]"
          }
        },
        "7879845c3686414da791fe692b535d3f": {
          "model_module": "@jupyter-widgets/base",
          "model_name": "LayoutModel",
          "model_module_version": "1.2.0",
          "state": {
            "_model_module": "@jupyter-widgets/base",
            "_model_module_version": "1.2.0",
            "_model_name": "LayoutModel",
            "_view_count": null,
            "_view_module": "@jupyter-widgets/base",
            "_view_module_version": "1.2.0",
            "_view_name": "LayoutView",
            "align_content": null,
            "align_items": null,
            "align_self": null,
            "border": null,
            "bottom": null,
            "display": null,
            "flex": null,
            "flex_flow": null,
            "grid_area": null,
            "grid_auto_columns": null,
            "grid_auto_flow": null,
            "grid_auto_rows": null,
            "grid_column": null,
            "grid_gap": null,
            "grid_row": null,
            "grid_template_areas": null,
            "grid_template_columns": null,
            "grid_template_rows": null,
            "height": null,
            "justify_content": null,
            "justify_items": null,
            "left": null,
            "margin": null,
            "max_height": null,
            "max_width": null,
            "min_height": null,
            "min_width": null,
            "object_fit": null,
            "object_position": null,
            "order": null,
            "overflow": null,
            "overflow_x": null,
            "overflow_y": null,
            "padding": null,
            "right": null,
            "top": null,
            "visibility": null,
            "width": null
          }
        },
        "88e40ca7d17846519f32fed26bee6362": {
          "model_module": "@jupyter-widgets/base",
          "model_name": "LayoutModel",
          "model_module_version": "1.2.0",
          "state": {
            "_model_module": "@jupyter-widgets/base",
            "_model_module_version": "1.2.0",
            "_model_name": "LayoutModel",
            "_view_count": null,
            "_view_module": "@jupyter-widgets/base",
            "_view_module_version": "1.2.0",
            "_view_name": "LayoutView",
            "align_content": null,
            "align_items": null,
            "align_self": null,
            "border": null,
            "bottom": null,
            "display": null,
            "flex": null,
            "flex_flow": null,
            "grid_area": null,
            "grid_auto_columns": null,
            "grid_auto_flow": null,
            "grid_auto_rows": null,
            "grid_column": null,
            "grid_gap": null,
            "grid_row": null,
            "grid_template_areas": null,
            "grid_template_columns": null,
            "grid_template_rows": null,
            "height": null,
            "justify_content": null,
            "justify_items": null,
            "left": null,
            "margin": null,
            "max_height": null,
            "max_width": null,
            "min_height": null,
            "min_width": null,
            "object_fit": null,
            "object_position": null,
            "order": null,
            "overflow": null,
            "overflow_x": null,
            "overflow_y": null,
            "padding": null,
            "right": null,
            "top": null,
            "visibility": null,
            "width": null
          }
        },
        "795636bd59a247058edcef9c139f0498": {
          "model_module": "@jupyter-widgets/controls",
          "model_name": "DescriptionStyleModel",
          "model_module_version": "1.5.0",
          "state": {
            "_model_module": "@jupyter-widgets/controls",
            "_model_module_version": "1.5.0",
            "_model_name": "DescriptionStyleModel",
            "_view_count": null,
            "_view_module": "@jupyter-widgets/base",
            "_view_module_version": "1.2.0",
            "_view_name": "StyleView",
            "description_width": ""
          }
        },
        "587a2fca7e404dc381c87b9080fea929": {
          "model_module": "@jupyter-widgets/base",
          "model_name": "LayoutModel",
          "model_module_version": "1.2.0",
          "state": {
            "_model_module": "@jupyter-widgets/base",
            "_model_module_version": "1.2.0",
            "_model_name": "LayoutModel",
            "_view_count": null,
            "_view_module": "@jupyter-widgets/base",
            "_view_module_version": "1.2.0",
            "_view_name": "LayoutView",
            "align_content": null,
            "align_items": null,
            "align_self": null,
            "border": null,
            "bottom": null,
            "display": null,
            "flex": null,
            "flex_flow": null,
            "grid_area": null,
            "grid_auto_columns": null,
            "grid_auto_flow": null,
            "grid_auto_rows": null,
            "grid_column": null,
            "grid_gap": null,
            "grid_row": null,
            "grid_template_areas": null,
            "grid_template_columns": null,
            "grid_template_rows": null,
            "height": null,
            "justify_content": null,
            "justify_items": null,
            "left": null,
            "margin": null,
            "max_height": null,
            "max_width": null,
            "min_height": null,
            "min_width": null,
            "object_fit": null,
            "object_position": null,
            "order": null,
            "overflow": null,
            "overflow_x": null,
            "overflow_y": null,
            "padding": null,
            "right": null,
            "top": null,
            "visibility": null,
            "width": null
          }
        },
        "0e949c4c0e334b069bba745fd5c0da7e": {
          "model_module": "@jupyter-widgets/controls",
          "model_name": "ProgressStyleModel",
          "model_module_version": "1.5.0",
          "state": {
            "_model_module": "@jupyter-widgets/controls",
            "_model_module_version": "1.5.0",
            "_model_name": "ProgressStyleModel",
            "_view_count": null,
            "_view_module": "@jupyter-widgets/base",
            "_view_module_version": "1.2.0",
            "_view_name": "StyleView",
            "bar_color": null,
            "description_width": ""
          }
        },
        "684254fe57ee4b6a8da17f1855b24c66": {
          "model_module": "@jupyter-widgets/base",
          "model_name": "LayoutModel",
          "model_module_version": "1.2.0",
          "state": {
            "_model_module": "@jupyter-widgets/base",
            "_model_module_version": "1.2.0",
            "_model_name": "LayoutModel",
            "_view_count": null,
            "_view_module": "@jupyter-widgets/base",
            "_view_module_version": "1.2.0",
            "_view_name": "LayoutView",
            "align_content": null,
            "align_items": null,
            "align_self": null,
            "border": null,
            "bottom": null,
            "display": null,
            "flex": null,
            "flex_flow": null,
            "grid_area": null,
            "grid_auto_columns": null,
            "grid_auto_flow": null,
            "grid_auto_rows": null,
            "grid_column": null,
            "grid_gap": null,
            "grid_row": null,
            "grid_template_areas": null,
            "grid_template_columns": null,
            "grid_template_rows": null,
            "height": null,
            "justify_content": null,
            "justify_items": null,
            "left": null,
            "margin": null,
            "max_height": null,
            "max_width": null,
            "min_height": null,
            "min_width": null,
            "object_fit": null,
            "object_position": null,
            "order": null,
            "overflow": null,
            "overflow_x": null,
            "overflow_y": null,
            "padding": null,
            "right": null,
            "top": null,
            "visibility": null,
            "width": null
          }
        },
        "eca9cb8144af4a97b4015121ef03c2d3": {
          "model_module": "@jupyter-widgets/controls",
          "model_name": "DescriptionStyleModel",
          "model_module_version": "1.5.0",
          "state": {
            "_model_module": "@jupyter-widgets/controls",
            "_model_module_version": "1.5.0",
            "_model_name": "DescriptionStyleModel",
            "_view_count": null,
            "_view_module": "@jupyter-widgets/base",
            "_view_module_version": "1.2.0",
            "_view_name": "StyleView",
            "description_width": ""
          }
        },
        "a2a736089f19464285a9003ccb732c83": {
          "model_module": "@jupyter-widgets/controls",
          "model_name": "HBoxModel",
          "model_module_version": "1.5.0",
          "state": {
            "_dom_classes": [],
            "_model_module": "@jupyter-widgets/controls",
            "_model_module_version": "1.5.0",
            "_model_name": "HBoxModel",
            "_view_count": null,
            "_view_module": "@jupyter-widgets/controls",
            "_view_module_version": "1.5.0",
            "_view_name": "HBoxView",
            "box_style": "",
            "children": [
              "IPY_MODEL_a3b7a3a63d0c4f3e8412606b95949e20",
              "IPY_MODEL_4f3741766a304a54837611d381be514c",
              "IPY_MODEL_f94e5279e0344fe4a65d6186665da1e4"
            ],
            "layout": "IPY_MODEL_208aa3022e004bd08d890683aa1d96fc"
          }
        },
        "a3b7a3a63d0c4f3e8412606b95949e20": {
          "model_module": "@jupyter-widgets/controls",
          "model_name": "HTMLModel",
          "model_module_version": "1.5.0",
          "state": {
            "_dom_classes": [],
            "_model_module": "@jupyter-widgets/controls",
            "_model_module_version": "1.5.0",
            "_model_name": "HTMLModel",
            "_view_count": null,
            "_view_module": "@jupyter-widgets/controls",
            "_view_module_version": "1.5.0",
            "_view_name": "HTMLView",
            "description": "",
            "description_tooltip": null,
            "layout": "IPY_MODEL_efbe642b370f4ce3837af25355de07c3",
            "placeholder": "​",
            "style": "IPY_MODEL_b9612560461b40409fb51c43c1e2e73d",
            "value": "generation_config.json: 100%"
          }
        },
        "4f3741766a304a54837611d381be514c": {
          "model_module": "@jupyter-widgets/controls",
          "model_name": "FloatProgressModel",
          "model_module_version": "1.5.0",
          "state": {
            "_dom_classes": [],
            "_model_module": "@jupyter-widgets/controls",
            "_model_module_version": "1.5.0",
            "_model_name": "FloatProgressModel",
            "_view_count": null,
            "_view_module": "@jupyter-widgets/controls",
            "_view_module_version": "1.5.0",
            "_view_name": "ProgressView",
            "bar_style": "success",
            "description": "",
            "description_tooltip": null,
            "layout": "IPY_MODEL_723bcc4c8539488696e92483d95cf050",
            "max": 187,
            "min": 0,
            "orientation": "horizontal",
            "style": "IPY_MODEL_851e1d2a1d864852af57233fb135dca7",
            "value": 187
          }
        },
        "f94e5279e0344fe4a65d6186665da1e4": {
          "model_module": "@jupyter-widgets/controls",
          "model_name": "HTMLModel",
          "model_module_version": "1.5.0",
          "state": {
            "_dom_classes": [],
            "_model_module": "@jupyter-widgets/controls",
            "_model_module_version": "1.5.0",
            "_model_name": "HTMLModel",
            "_view_count": null,
            "_view_module": "@jupyter-widgets/controls",
            "_view_module_version": "1.5.0",
            "_view_name": "HTMLView",
            "description": "",
            "description_tooltip": null,
            "layout": "IPY_MODEL_8fcb7f3811c8470ba56547ca6d760594",
            "placeholder": "​",
            "style": "IPY_MODEL_8997dac33a484330a24e9b43bed6c0c8",
            "value": " 187/187 [00:00&lt;00:00, 5.91kB/s]"
          }
        },
        "208aa3022e004bd08d890683aa1d96fc": {
          "model_module": "@jupyter-widgets/base",
          "model_name": "LayoutModel",
          "model_module_version": "1.2.0",
          "state": {
            "_model_module": "@jupyter-widgets/base",
            "_model_module_version": "1.2.0",
            "_model_name": "LayoutModel",
            "_view_count": null,
            "_view_module": "@jupyter-widgets/base",
            "_view_module_version": "1.2.0",
            "_view_name": "LayoutView",
            "align_content": null,
            "align_items": null,
            "align_self": null,
            "border": null,
            "bottom": null,
            "display": null,
            "flex": null,
            "flex_flow": null,
            "grid_area": null,
            "grid_auto_columns": null,
            "grid_auto_flow": null,
            "grid_auto_rows": null,
            "grid_column": null,
            "grid_gap": null,
            "grid_row": null,
            "grid_template_areas": null,
            "grid_template_columns": null,
            "grid_template_rows": null,
            "height": null,
            "justify_content": null,
            "justify_items": null,
            "left": null,
            "margin": null,
            "max_height": null,
            "max_width": null,
            "min_height": null,
            "min_width": null,
            "object_fit": null,
            "object_position": null,
            "order": null,
            "overflow": null,
            "overflow_x": null,
            "overflow_y": null,
            "padding": null,
            "right": null,
            "top": null,
            "visibility": null,
            "width": null
          }
        },
        "efbe642b370f4ce3837af25355de07c3": {
          "model_module": "@jupyter-widgets/base",
          "model_name": "LayoutModel",
          "model_module_version": "1.2.0",
          "state": {
            "_model_module": "@jupyter-widgets/base",
            "_model_module_version": "1.2.0",
            "_model_name": "LayoutModel",
            "_view_count": null,
            "_view_module": "@jupyter-widgets/base",
            "_view_module_version": "1.2.0",
            "_view_name": "LayoutView",
            "align_content": null,
            "align_items": null,
            "align_self": null,
            "border": null,
            "bottom": null,
            "display": null,
            "flex": null,
            "flex_flow": null,
            "grid_area": null,
            "grid_auto_columns": null,
            "grid_auto_flow": null,
            "grid_auto_rows": null,
            "grid_column": null,
            "grid_gap": null,
            "grid_row": null,
            "grid_template_areas": null,
            "grid_template_columns": null,
            "grid_template_rows": null,
            "height": null,
            "justify_content": null,
            "justify_items": null,
            "left": null,
            "margin": null,
            "max_height": null,
            "max_width": null,
            "min_height": null,
            "min_width": null,
            "object_fit": null,
            "object_position": null,
            "order": null,
            "overflow": null,
            "overflow_x": null,
            "overflow_y": null,
            "padding": null,
            "right": null,
            "top": null,
            "visibility": null,
            "width": null
          }
        },
        "b9612560461b40409fb51c43c1e2e73d": {
          "model_module": "@jupyter-widgets/controls",
          "model_name": "DescriptionStyleModel",
          "model_module_version": "1.5.0",
          "state": {
            "_model_module": "@jupyter-widgets/controls",
            "_model_module_version": "1.5.0",
            "_model_name": "DescriptionStyleModel",
            "_view_count": null,
            "_view_module": "@jupyter-widgets/base",
            "_view_module_version": "1.2.0",
            "_view_name": "StyleView",
            "description_width": ""
          }
        },
        "723bcc4c8539488696e92483d95cf050": {
          "model_module": "@jupyter-widgets/base",
          "model_name": "LayoutModel",
          "model_module_version": "1.2.0",
          "state": {
            "_model_module": "@jupyter-widgets/base",
            "_model_module_version": "1.2.0",
            "_model_name": "LayoutModel",
            "_view_count": null,
            "_view_module": "@jupyter-widgets/base",
            "_view_module_version": "1.2.0",
            "_view_name": "LayoutView",
            "align_content": null,
            "align_items": null,
            "align_self": null,
            "border": null,
            "bottom": null,
            "display": null,
            "flex": null,
            "flex_flow": null,
            "grid_area": null,
            "grid_auto_columns": null,
            "grid_auto_flow": null,
            "grid_auto_rows": null,
            "grid_column": null,
            "grid_gap": null,
            "grid_row": null,
            "grid_template_areas": null,
            "grid_template_columns": null,
            "grid_template_rows": null,
            "height": null,
            "justify_content": null,
            "justify_items": null,
            "left": null,
            "margin": null,
            "max_height": null,
            "max_width": null,
            "min_height": null,
            "min_width": null,
            "object_fit": null,
            "object_position": null,
            "order": null,
            "overflow": null,
            "overflow_x": null,
            "overflow_y": null,
            "padding": null,
            "right": null,
            "top": null,
            "visibility": null,
            "width": null
          }
        },
        "851e1d2a1d864852af57233fb135dca7": {
          "model_module": "@jupyter-widgets/controls",
          "model_name": "ProgressStyleModel",
          "model_module_version": "1.5.0",
          "state": {
            "_model_module": "@jupyter-widgets/controls",
            "_model_module_version": "1.5.0",
            "_model_name": "ProgressStyleModel",
            "_view_count": null,
            "_view_module": "@jupyter-widgets/base",
            "_view_module_version": "1.2.0",
            "_view_name": "StyleView",
            "bar_color": null,
            "description_width": ""
          }
        },
        "8fcb7f3811c8470ba56547ca6d760594": {
          "model_module": "@jupyter-widgets/base",
          "model_name": "LayoutModel",
          "model_module_version": "1.2.0",
          "state": {
            "_model_module": "@jupyter-widgets/base",
            "_model_module_version": "1.2.0",
            "_model_name": "LayoutModel",
            "_view_count": null,
            "_view_module": "@jupyter-widgets/base",
            "_view_module_version": "1.2.0",
            "_view_name": "LayoutView",
            "align_content": null,
            "align_items": null,
            "align_self": null,
            "border": null,
            "bottom": null,
            "display": null,
            "flex": null,
            "flex_flow": null,
            "grid_area": null,
            "grid_auto_columns": null,
            "grid_auto_flow": null,
            "grid_auto_rows": null,
            "grid_column": null,
            "grid_gap": null,
            "grid_row": null,
            "grid_template_areas": null,
            "grid_template_columns": null,
            "grid_template_rows": null,
            "height": null,
            "justify_content": null,
            "justify_items": null,
            "left": null,
            "margin": null,
            "max_height": null,
            "max_width": null,
            "min_height": null,
            "min_width": null,
            "object_fit": null,
            "object_position": null,
            "order": null,
            "overflow": null,
            "overflow_x": null,
            "overflow_y": null,
            "padding": null,
            "right": null,
            "top": null,
            "visibility": null,
            "width": null
          }
        },
        "8997dac33a484330a24e9b43bed6c0c8": {
          "model_module": "@jupyter-widgets/controls",
          "model_name": "DescriptionStyleModel",
          "model_module_version": "1.5.0",
          "state": {
            "_model_module": "@jupyter-widgets/controls",
            "_model_module_version": "1.5.0",
            "_model_name": "DescriptionStyleModel",
            "_view_count": null,
            "_view_module": "@jupyter-widgets/base",
            "_view_module_version": "1.2.0",
            "_view_name": "StyleView",
            "description_width": ""
          }
        },
        "f688bd0f81224d128e7f40d03b362307": {
          "model_module": "@jupyter-widgets/controls",
          "model_name": "HBoxModel",
          "model_module_version": "1.5.0",
          "state": {
            "_dom_classes": [],
            "_model_module": "@jupyter-widgets/controls",
            "_model_module_version": "1.5.0",
            "_model_name": "HBoxModel",
            "_view_count": null,
            "_view_module": "@jupyter-widgets/controls",
            "_view_module_version": "1.5.0",
            "_view_name": "HBoxView",
            "box_style": "",
            "children": [
              "IPY_MODEL_78a7ffe5c32a4d558b7fafa3fea36765",
              "IPY_MODEL_9ade92b3029a4244a260ba99bff44ac0",
              "IPY_MODEL_4621b0d509cf4a4886da54ddbdb2e70d"
            ],
            "layout": "IPY_MODEL_c2eeec9fea024cff98d97106baf42e81"
          }
        },
        "78a7ffe5c32a4d558b7fafa3fea36765": {
          "model_module": "@jupyter-widgets/controls",
          "model_name": "HTMLModel",
          "model_module_version": "1.5.0",
          "state": {
            "_dom_classes": [],
            "_model_module": "@jupyter-widgets/controls",
            "_model_module_version": "1.5.0",
            "_model_name": "HTMLModel",
            "_view_count": null,
            "_view_module": "@jupyter-widgets/controls",
            "_view_module_version": "1.5.0",
            "_view_name": "HTMLView",
            "description": "",
            "description_tooltip": null,
            "layout": "IPY_MODEL_ec25f9261b094f1d900b035d02c1cac0",
            "placeholder": "​",
            "style": "IPY_MODEL_2522a41bd7bf420bb6d40dd31d39d57c",
            "value": "tokenizer_config.json: 100%"
          }
        },
        "9ade92b3029a4244a260ba99bff44ac0": {
          "model_module": "@jupyter-widgets/controls",
          "model_name": "FloatProgressModel",
          "model_module_version": "1.5.0",
          "state": {
            "_dom_classes": [],
            "_model_module": "@jupyter-widgets/controls",
            "_model_module_version": "1.5.0",
            "_model_name": "FloatProgressModel",
            "_view_count": null,
            "_view_module": "@jupyter-widgets/controls",
            "_view_module_version": "1.5.0",
            "_view_name": "ProgressView",
            "bar_style": "success",
            "description": "",
            "description_tooltip": null,
            "layout": "IPY_MODEL_9758787470a04453a371d46013b0fe71",
            "max": 50977,
            "min": 0,
            "orientation": "horizontal",
            "style": "IPY_MODEL_21e046286efa4f1197f7c166711530b5",
            "value": 50977
          }
        },
        "4621b0d509cf4a4886da54ddbdb2e70d": {
          "model_module": "@jupyter-widgets/controls",
          "model_name": "HTMLModel",
          "model_module_version": "1.5.0",
          "state": {
            "_dom_classes": [],
            "_model_module": "@jupyter-widgets/controls",
            "_model_module_version": "1.5.0",
            "_model_name": "HTMLModel",
            "_view_count": null,
            "_view_module": "@jupyter-widgets/controls",
            "_view_module_version": "1.5.0",
            "_view_name": "HTMLView",
            "description": "",
            "description_tooltip": null,
            "layout": "IPY_MODEL_ee17ea6357944de6b699568a04bf1a84",
            "placeholder": "​",
            "style": "IPY_MODEL_f0f6d899c9ea48d0a669e4806250e038",
            "value": " 51.0k/51.0k [00:00&lt;00:00, 1.05MB/s]"
          }
        },
        "c2eeec9fea024cff98d97106baf42e81": {
          "model_module": "@jupyter-widgets/base",
          "model_name": "LayoutModel",
          "model_module_version": "1.2.0",
          "state": {
            "_model_module": "@jupyter-widgets/base",
            "_model_module_version": "1.2.0",
            "_model_name": "LayoutModel",
            "_view_count": null,
            "_view_module": "@jupyter-widgets/base",
            "_view_module_version": "1.2.0",
            "_view_name": "LayoutView",
            "align_content": null,
            "align_items": null,
            "align_self": null,
            "border": null,
            "bottom": null,
            "display": null,
            "flex": null,
            "flex_flow": null,
            "grid_area": null,
            "grid_auto_columns": null,
            "grid_auto_flow": null,
            "grid_auto_rows": null,
            "grid_column": null,
            "grid_gap": null,
            "grid_row": null,
            "grid_template_areas": null,
            "grid_template_columns": null,
            "grid_template_rows": null,
            "height": null,
            "justify_content": null,
            "justify_items": null,
            "left": null,
            "margin": null,
            "max_height": null,
            "max_width": null,
            "min_height": null,
            "min_width": null,
            "object_fit": null,
            "object_position": null,
            "order": null,
            "overflow": null,
            "overflow_x": null,
            "overflow_y": null,
            "padding": null,
            "right": null,
            "top": null,
            "visibility": null,
            "width": null
          }
        },
        "ec25f9261b094f1d900b035d02c1cac0": {
          "model_module": "@jupyter-widgets/base",
          "model_name": "LayoutModel",
          "model_module_version": "1.2.0",
          "state": {
            "_model_module": "@jupyter-widgets/base",
            "_model_module_version": "1.2.0",
            "_model_name": "LayoutModel",
            "_view_count": null,
            "_view_module": "@jupyter-widgets/base",
            "_view_module_version": "1.2.0",
            "_view_name": "LayoutView",
            "align_content": null,
            "align_items": null,
            "align_self": null,
            "border": null,
            "bottom": null,
            "display": null,
            "flex": null,
            "flex_flow": null,
            "grid_area": null,
            "grid_auto_columns": null,
            "grid_auto_flow": null,
            "grid_auto_rows": null,
            "grid_column": null,
            "grid_gap": null,
            "grid_row": null,
            "grid_template_areas": null,
            "grid_template_columns": null,
            "grid_template_rows": null,
            "height": null,
            "justify_content": null,
            "justify_items": null,
            "left": null,
            "margin": null,
            "max_height": null,
            "max_width": null,
            "min_height": null,
            "min_width": null,
            "object_fit": null,
            "object_position": null,
            "order": null,
            "overflow": null,
            "overflow_x": null,
            "overflow_y": null,
            "padding": null,
            "right": null,
            "top": null,
            "visibility": null,
            "width": null
          }
        },
        "2522a41bd7bf420bb6d40dd31d39d57c": {
          "model_module": "@jupyter-widgets/controls",
          "model_name": "DescriptionStyleModel",
          "model_module_version": "1.5.0",
          "state": {
            "_model_module": "@jupyter-widgets/controls",
            "_model_module_version": "1.5.0",
            "_model_name": "DescriptionStyleModel",
            "_view_count": null,
            "_view_module": "@jupyter-widgets/base",
            "_view_module_version": "1.2.0",
            "_view_name": "StyleView",
            "description_width": ""
          }
        },
        "9758787470a04453a371d46013b0fe71": {
          "model_module": "@jupyter-widgets/base",
          "model_name": "LayoutModel",
          "model_module_version": "1.2.0",
          "state": {
            "_model_module": "@jupyter-widgets/base",
            "_model_module_version": "1.2.0",
            "_model_name": "LayoutModel",
            "_view_count": null,
            "_view_module": "@jupyter-widgets/base",
            "_view_module_version": "1.2.0",
            "_view_name": "LayoutView",
            "align_content": null,
            "align_items": null,
            "align_self": null,
            "border": null,
            "bottom": null,
            "display": null,
            "flex": null,
            "flex_flow": null,
            "grid_area": null,
            "grid_auto_columns": null,
            "grid_auto_flow": null,
            "grid_auto_rows": null,
            "grid_column": null,
            "grid_gap": null,
            "grid_row": null,
            "grid_template_areas": null,
            "grid_template_columns": null,
            "grid_template_rows": null,
            "height": null,
            "justify_content": null,
            "justify_items": null,
            "left": null,
            "margin": null,
            "max_height": null,
            "max_width": null,
            "min_height": null,
            "min_width": null,
            "object_fit": null,
            "object_position": null,
            "order": null,
            "overflow": null,
            "overflow_x": null,
            "overflow_y": null,
            "padding": null,
            "right": null,
            "top": null,
            "visibility": null,
            "width": null
          }
        },
        "21e046286efa4f1197f7c166711530b5": {
          "model_module": "@jupyter-widgets/controls",
          "model_name": "ProgressStyleModel",
          "model_module_version": "1.5.0",
          "state": {
            "_model_module": "@jupyter-widgets/controls",
            "_model_module_version": "1.5.0",
            "_model_name": "ProgressStyleModel",
            "_view_count": null,
            "_view_module": "@jupyter-widgets/base",
            "_view_module_version": "1.2.0",
            "_view_name": "StyleView",
            "bar_color": null,
            "description_width": ""
          }
        },
        "ee17ea6357944de6b699568a04bf1a84": {
          "model_module": "@jupyter-widgets/base",
          "model_name": "LayoutModel",
          "model_module_version": "1.2.0",
          "state": {
            "_model_module": "@jupyter-widgets/base",
            "_model_module_version": "1.2.0",
            "_model_name": "LayoutModel",
            "_view_count": null,
            "_view_module": "@jupyter-widgets/base",
            "_view_module_version": "1.2.0",
            "_view_name": "LayoutView",
            "align_content": null,
            "align_items": null,
            "align_self": null,
            "border": null,
            "bottom": null,
            "display": null,
            "flex": null,
            "flex_flow": null,
            "grid_area": null,
            "grid_auto_columns": null,
            "grid_auto_flow": null,
            "grid_auto_rows": null,
            "grid_column": null,
            "grid_gap": null,
            "grid_row": null,
            "grid_template_areas": null,
            "grid_template_columns": null,
            "grid_template_rows": null,
            "height": null,
            "justify_content": null,
            "justify_items": null,
            "left": null,
            "margin": null,
            "max_height": null,
            "max_width": null,
            "min_height": null,
            "min_width": null,
            "object_fit": null,
            "object_position": null,
            "order": null,
            "overflow": null,
            "overflow_x": null,
            "overflow_y": null,
            "padding": null,
            "right": null,
            "top": null,
            "visibility": null,
            "width": null
          }
        },
        "f0f6d899c9ea48d0a669e4806250e038": {
          "model_module": "@jupyter-widgets/controls",
          "model_name": "DescriptionStyleModel",
          "model_module_version": "1.5.0",
          "state": {
            "_model_module": "@jupyter-widgets/controls",
            "_model_module_version": "1.5.0",
            "_model_name": "DescriptionStyleModel",
            "_view_count": null,
            "_view_module": "@jupyter-widgets/base",
            "_view_module_version": "1.2.0",
            "_view_name": "StyleView",
            "description_width": ""
          }
        },
        "a12b72c3ca6041348f4ba6ed4bd7cbbc": {
          "model_module": "@jupyter-widgets/controls",
          "model_name": "HBoxModel",
          "model_module_version": "1.5.0",
          "state": {
            "_dom_classes": [],
            "_model_module": "@jupyter-widgets/controls",
            "_model_module_version": "1.5.0",
            "_model_name": "HBoxModel",
            "_view_count": null,
            "_view_module": "@jupyter-widgets/controls",
            "_view_module_version": "1.5.0",
            "_view_name": "HBoxView",
            "box_style": "",
            "children": [
              "IPY_MODEL_adb1fd7b4c854a41b1de65aa08d19f1f",
              "IPY_MODEL_6ca84e0827f04d078efc9d56957c6d60",
              "IPY_MODEL_0de5098b840f4e2eb56690d5555ab551"
            ],
            "layout": "IPY_MODEL_38a7c9a2fac24ed7923199e56001d0ed"
          }
        },
        "adb1fd7b4c854a41b1de65aa08d19f1f": {
          "model_module": "@jupyter-widgets/controls",
          "model_name": "HTMLModel",
          "model_module_version": "1.5.0",
          "state": {
            "_dom_classes": [],
            "_model_module": "@jupyter-widgets/controls",
            "_model_module_version": "1.5.0",
            "_model_name": "HTMLModel",
            "_view_count": null,
            "_view_module": "@jupyter-widgets/controls",
            "_view_module_version": "1.5.0",
            "_view_name": "HTMLView",
            "description": "",
            "description_tooltip": null,
            "layout": "IPY_MODEL_87dc775aabd445d8bb1724ee4f5f1f9f",
            "placeholder": "​",
            "style": "IPY_MODEL_d38b53a585a742a1aa142dbe06aead1e",
            "value": "tokenizer.json: 100%"
          }
        },
        "6ca84e0827f04d078efc9d56957c6d60": {
          "model_module": "@jupyter-widgets/controls",
          "model_name": "FloatProgressModel",
          "model_module_version": "1.5.0",
          "state": {
            "_dom_classes": [],
            "_model_module": "@jupyter-widgets/controls",
            "_model_module_version": "1.5.0",
            "_model_name": "FloatProgressModel",
            "_view_count": null,
            "_view_module": "@jupyter-widgets/controls",
            "_view_module_version": "1.5.0",
            "_view_name": "ProgressView",
            "bar_style": "success",
            "description": "",
            "description_tooltip": null,
            "layout": "IPY_MODEL_973910800815453c937fbd6ab077b9cf",
            "max": 9085698,
            "min": 0,
            "orientation": "horizontal",
            "style": "IPY_MODEL_9f7fe969eba247ac885b6674619294f2",
            "value": 9085698
          }
        },
        "0de5098b840f4e2eb56690d5555ab551": {
          "model_module": "@jupyter-widgets/controls",
          "model_name": "HTMLModel",
          "model_module_version": "1.5.0",
          "state": {
            "_dom_classes": [],
            "_model_module": "@jupyter-widgets/controls",
            "_model_module_version": "1.5.0",
            "_model_name": "HTMLModel",
            "_view_count": null,
            "_view_module": "@jupyter-widgets/controls",
            "_view_module_version": "1.5.0",
            "_view_name": "HTMLView",
            "description": "",
            "description_tooltip": null,
            "layout": "IPY_MODEL_89a350077bb74d58aab811b8af93d43f",
            "placeholder": "​",
            "style": "IPY_MODEL_0adc23ea859a427eae942f57bc83c28a",
            "value": " 9.09M/9.09M [00:03&lt;00:00, 2.80MB/s]"
          }
        },
        "38a7c9a2fac24ed7923199e56001d0ed": {
          "model_module": "@jupyter-widgets/base",
          "model_name": "LayoutModel",
          "model_module_version": "1.2.0",
          "state": {
            "_model_module": "@jupyter-widgets/base",
            "_model_module_version": "1.2.0",
            "_model_name": "LayoutModel",
            "_view_count": null,
            "_view_module": "@jupyter-widgets/base",
            "_view_module_version": "1.2.0",
            "_view_name": "LayoutView",
            "align_content": null,
            "align_items": null,
            "align_self": null,
            "border": null,
            "bottom": null,
            "display": null,
            "flex": null,
            "flex_flow": null,
            "grid_area": null,
            "grid_auto_columns": null,
            "grid_auto_flow": null,
            "grid_auto_rows": null,
            "grid_column": null,
            "grid_gap": null,
            "grid_row": null,
            "grid_template_areas": null,
            "grid_template_columns": null,
            "grid_template_rows": null,
            "height": null,
            "justify_content": null,
            "justify_items": null,
            "left": null,
            "margin": null,
            "max_height": null,
            "max_width": null,
            "min_height": null,
            "min_width": null,
            "object_fit": null,
            "object_position": null,
            "order": null,
            "overflow": null,
            "overflow_x": null,
            "overflow_y": null,
            "padding": null,
            "right": null,
            "top": null,
            "visibility": null,
            "width": null
          }
        },
        "87dc775aabd445d8bb1724ee4f5f1f9f": {
          "model_module": "@jupyter-widgets/base",
          "model_name": "LayoutModel",
          "model_module_version": "1.2.0",
          "state": {
            "_model_module": "@jupyter-widgets/base",
            "_model_module_version": "1.2.0",
            "_model_name": "LayoutModel",
            "_view_count": null,
            "_view_module": "@jupyter-widgets/base",
            "_view_module_version": "1.2.0",
            "_view_name": "LayoutView",
            "align_content": null,
            "align_items": null,
            "align_self": null,
            "border": null,
            "bottom": null,
            "display": null,
            "flex": null,
            "flex_flow": null,
            "grid_area": null,
            "grid_auto_columns": null,
            "grid_auto_flow": null,
            "grid_auto_rows": null,
            "grid_column": null,
            "grid_gap": null,
            "grid_row": null,
            "grid_template_areas": null,
            "grid_template_columns": null,
            "grid_template_rows": null,
            "height": null,
            "justify_content": null,
            "justify_items": null,
            "left": null,
            "margin": null,
            "max_height": null,
            "max_width": null,
            "min_height": null,
            "min_width": null,
            "object_fit": null,
            "object_position": null,
            "order": null,
            "overflow": null,
            "overflow_x": null,
            "overflow_y": null,
            "padding": null,
            "right": null,
            "top": null,
            "visibility": null,
            "width": null
          }
        },
        "d38b53a585a742a1aa142dbe06aead1e": {
          "model_module": "@jupyter-widgets/controls",
          "model_name": "DescriptionStyleModel",
          "model_module_version": "1.5.0",
          "state": {
            "_model_module": "@jupyter-widgets/controls",
            "_model_module_version": "1.5.0",
            "_model_name": "DescriptionStyleModel",
            "_view_count": null,
            "_view_module": "@jupyter-widgets/base",
            "_view_module_version": "1.2.0",
            "_view_name": "StyleView",
            "description_width": ""
          }
        },
        "973910800815453c937fbd6ab077b9cf": {
          "model_module": "@jupyter-widgets/base",
          "model_name": "LayoutModel",
          "model_module_version": "1.2.0",
          "state": {
            "_model_module": "@jupyter-widgets/base",
            "_model_module_version": "1.2.0",
            "_model_name": "LayoutModel",
            "_view_count": null,
            "_view_module": "@jupyter-widgets/base",
            "_view_module_version": "1.2.0",
            "_view_name": "LayoutView",
            "align_content": null,
            "align_items": null,
            "align_self": null,
            "border": null,
            "bottom": null,
            "display": null,
            "flex": null,
            "flex_flow": null,
            "grid_area": null,
            "grid_auto_columns": null,
            "grid_auto_flow": null,
            "grid_auto_rows": null,
            "grid_column": null,
            "grid_gap": null,
            "grid_row": null,
            "grid_template_areas": null,
            "grid_template_columns": null,
            "grid_template_rows": null,
            "height": null,
            "justify_content": null,
            "justify_items": null,
            "left": null,
            "margin": null,
            "max_height": null,
            "max_width": null,
            "min_height": null,
            "min_width": null,
            "object_fit": null,
            "object_position": null,
            "order": null,
            "overflow": null,
            "overflow_x": null,
            "overflow_y": null,
            "padding": null,
            "right": null,
            "top": null,
            "visibility": null,
            "width": null
          }
        },
        "9f7fe969eba247ac885b6674619294f2": {
          "model_module": "@jupyter-widgets/controls",
          "model_name": "ProgressStyleModel",
          "model_module_version": "1.5.0",
          "state": {
            "_model_module": "@jupyter-widgets/controls",
            "_model_module_version": "1.5.0",
            "_model_name": "ProgressStyleModel",
            "_view_count": null,
            "_view_module": "@jupyter-widgets/base",
            "_view_module_version": "1.2.0",
            "_view_name": "StyleView",
            "bar_color": null,
            "description_width": ""
          }
        },
        "89a350077bb74d58aab811b8af93d43f": {
          "model_module": "@jupyter-widgets/base",
          "model_name": "LayoutModel",
          "model_module_version": "1.2.0",
          "state": {
            "_model_module": "@jupyter-widgets/base",
            "_model_module_version": "1.2.0",
            "_model_name": "LayoutModel",
            "_view_count": null,
            "_view_module": "@jupyter-widgets/base",
            "_view_module_version": "1.2.0",
            "_view_name": "LayoutView",
            "align_content": null,
            "align_items": null,
            "align_self": null,
            "border": null,
            "bottom": null,
            "display": null,
            "flex": null,
            "flex_flow": null,
            "grid_area": null,
            "grid_auto_columns": null,
            "grid_auto_flow": null,
            "grid_auto_rows": null,
            "grid_column": null,
            "grid_gap": null,
            "grid_row": null,
            "grid_template_areas": null,
            "grid_template_columns": null,
            "grid_template_rows": null,
            "height": null,
            "justify_content": null,
            "justify_items": null,
            "left": null,
            "margin": null,
            "max_height": null,
            "max_width": null,
            "min_height": null,
            "min_width": null,
            "object_fit": null,
            "object_position": null,
            "order": null,
            "overflow": null,
            "overflow_x": null,
            "overflow_y": null,
            "padding": null,
            "right": null,
            "top": null,
            "visibility": null,
            "width": null
          }
        },
        "0adc23ea859a427eae942f57bc83c28a": {
          "model_module": "@jupyter-widgets/controls",
          "model_name": "DescriptionStyleModel",
          "model_module_version": "1.5.0",
          "state": {
            "_model_module": "@jupyter-widgets/controls",
            "_model_module_version": "1.5.0",
            "_model_name": "DescriptionStyleModel",
            "_view_count": null,
            "_view_module": "@jupyter-widgets/base",
            "_view_module_version": "1.2.0",
            "_view_name": "StyleView",
            "description_width": ""
          }
        },
        "f3d9cf44f0944a1c98ab83897dbfbb35": {
          "model_module": "@jupyter-widgets/controls",
          "model_name": "HBoxModel",
          "model_module_version": "1.5.0",
          "state": {
            "_dom_classes": [],
            "_model_module": "@jupyter-widgets/controls",
            "_model_module_version": "1.5.0",
            "_model_name": "HBoxModel",
            "_view_count": null,
            "_view_module": "@jupyter-widgets/controls",
            "_view_module_version": "1.5.0",
            "_view_name": "HBoxView",
            "box_style": "",
            "children": [
              "IPY_MODEL_0a3574e3be4845b393e9212259840021",
              "IPY_MODEL_68edb4d3412b4dfe8205dc531a28f289",
              "IPY_MODEL_d109a3cedc054806bfddf3515d96766b"
            ],
            "layout": "IPY_MODEL_43779a2c32334483afc3054126e8e30e"
          }
        },
        "0a3574e3be4845b393e9212259840021": {
          "model_module": "@jupyter-widgets/controls",
          "model_name": "HTMLModel",
          "model_module_version": "1.5.0",
          "state": {
            "_dom_classes": [],
            "_model_module": "@jupyter-widgets/controls",
            "_model_module_version": "1.5.0",
            "_model_name": "HTMLModel",
            "_view_count": null,
            "_view_module": "@jupyter-widgets/controls",
            "_view_module_version": "1.5.0",
            "_view_name": "HTMLView",
            "description": "",
            "description_tooltip": null,
            "layout": "IPY_MODEL_54f96de115104614a1321f95553206fa",
            "placeholder": "​",
            "style": "IPY_MODEL_3549ead885344cbb9c14a4f606e9d7c4",
            "value": "special_tokens_map.json: 100%"
          }
        },
        "68edb4d3412b4dfe8205dc531a28f289": {
          "model_module": "@jupyter-widgets/controls",
          "model_name": "FloatProgressModel",
          "model_module_version": "1.5.0",
          "state": {
            "_dom_classes": [],
            "_model_module": "@jupyter-widgets/controls",
            "_model_module_version": "1.5.0",
            "_model_name": "FloatProgressModel",
            "_view_count": null,
            "_view_module": "@jupyter-widgets/controls",
            "_view_module_version": "1.5.0",
            "_view_name": "ProgressView",
            "bar_style": "success",
            "description": "",
            "description_tooltip": null,
            "layout": "IPY_MODEL_58195ce47e134ca9830b33747498d022",
            "max": 73,
            "min": 0,
            "orientation": "horizontal",
            "style": "IPY_MODEL_fc3e1bae4c004e9caaac2ebd135b556c",
            "value": 73
          }
        },
        "d109a3cedc054806bfddf3515d96766b": {
          "model_module": "@jupyter-widgets/controls",
          "model_name": "HTMLModel",
          "model_module_version": "1.5.0",
          "state": {
            "_dom_classes": [],
            "_model_module": "@jupyter-widgets/controls",
            "_model_module_version": "1.5.0",
            "_model_name": "HTMLModel",
            "_view_count": null,
            "_view_module": "@jupyter-widgets/controls",
            "_view_module_version": "1.5.0",
            "_view_name": "HTMLView",
            "description": "",
            "description_tooltip": null,
            "layout": "IPY_MODEL_47985b4efa224239839595e5c62d60ac",
            "placeholder": "​",
            "style": "IPY_MODEL_5e85298902a140feb816fdcc4dd77903",
            "value": " 73.0/73.0 [00:00&lt;00:00, 2.17kB/s]"
          }
        },
        "43779a2c32334483afc3054126e8e30e": {
          "model_module": "@jupyter-widgets/base",
          "model_name": "LayoutModel",
          "model_module_version": "1.2.0",
          "state": {
            "_model_module": "@jupyter-widgets/base",
            "_model_module_version": "1.2.0",
            "_model_name": "LayoutModel",
            "_view_count": null,
            "_view_module": "@jupyter-widgets/base",
            "_view_module_version": "1.2.0",
            "_view_name": "LayoutView",
            "align_content": null,
            "align_items": null,
            "align_self": null,
            "border": null,
            "bottom": null,
            "display": null,
            "flex": null,
            "flex_flow": null,
            "grid_area": null,
            "grid_auto_columns": null,
            "grid_auto_flow": null,
            "grid_auto_rows": null,
            "grid_column": null,
            "grid_gap": null,
            "grid_row": null,
            "grid_template_areas": null,
            "grid_template_columns": null,
            "grid_template_rows": null,
            "height": null,
            "justify_content": null,
            "justify_items": null,
            "left": null,
            "margin": null,
            "max_height": null,
            "max_width": null,
            "min_height": null,
            "min_width": null,
            "object_fit": null,
            "object_position": null,
            "order": null,
            "overflow": null,
            "overflow_x": null,
            "overflow_y": null,
            "padding": null,
            "right": null,
            "top": null,
            "visibility": null,
            "width": null
          }
        },
        "54f96de115104614a1321f95553206fa": {
          "model_module": "@jupyter-widgets/base",
          "model_name": "LayoutModel",
          "model_module_version": "1.2.0",
          "state": {
            "_model_module": "@jupyter-widgets/base",
            "_model_module_version": "1.2.0",
            "_model_name": "LayoutModel",
            "_view_count": null,
            "_view_module": "@jupyter-widgets/base",
            "_view_module_version": "1.2.0",
            "_view_name": "LayoutView",
            "align_content": null,
            "align_items": null,
            "align_self": null,
            "border": null,
            "bottom": null,
            "display": null,
            "flex": null,
            "flex_flow": null,
            "grid_area": null,
            "grid_auto_columns": null,
            "grid_auto_flow": null,
            "grid_auto_rows": null,
            "grid_column": null,
            "grid_gap": null,
            "grid_row": null,
            "grid_template_areas": null,
            "grid_template_columns": null,
            "grid_template_rows": null,
            "height": null,
            "justify_content": null,
            "justify_items": null,
            "left": null,
            "margin": null,
            "max_height": null,
            "max_width": null,
            "min_height": null,
            "min_width": null,
            "object_fit": null,
            "object_position": null,
            "order": null,
            "overflow": null,
            "overflow_x": null,
            "overflow_y": null,
            "padding": null,
            "right": null,
            "top": null,
            "visibility": null,
            "width": null
          }
        },
        "3549ead885344cbb9c14a4f606e9d7c4": {
          "model_module": "@jupyter-widgets/controls",
          "model_name": "DescriptionStyleModel",
          "model_module_version": "1.5.0",
          "state": {
            "_model_module": "@jupyter-widgets/controls",
            "_model_module_version": "1.5.0",
            "_model_name": "DescriptionStyleModel",
            "_view_count": null,
            "_view_module": "@jupyter-widgets/base",
            "_view_module_version": "1.2.0",
            "_view_name": "StyleView",
            "description_width": ""
          }
        },
        "58195ce47e134ca9830b33747498d022": {
          "model_module": "@jupyter-widgets/base",
          "model_name": "LayoutModel",
          "model_module_version": "1.2.0",
          "state": {
            "_model_module": "@jupyter-widgets/base",
            "_model_module_version": "1.2.0",
            "_model_name": "LayoutModel",
            "_view_count": null,
            "_view_module": "@jupyter-widgets/base",
            "_view_module_version": "1.2.0",
            "_view_name": "LayoutView",
            "align_content": null,
            "align_items": null,
            "align_self": null,
            "border": null,
            "bottom": null,
            "display": null,
            "flex": null,
            "flex_flow": null,
            "grid_area": null,
            "grid_auto_columns": null,
            "grid_auto_flow": null,
            "grid_auto_rows": null,
            "grid_column": null,
            "grid_gap": null,
            "grid_row": null,
            "grid_template_areas": null,
            "grid_template_columns": null,
            "grid_template_rows": null,
            "height": null,
            "justify_content": null,
            "justify_items": null,
            "left": null,
            "margin": null,
            "max_height": null,
            "max_width": null,
            "min_height": null,
            "min_width": null,
            "object_fit": null,
            "object_position": null,
            "order": null,
            "overflow": null,
            "overflow_x": null,
            "overflow_y": null,
            "padding": null,
            "right": null,
            "top": null,
            "visibility": null,
            "width": null
          }
        },
        "fc3e1bae4c004e9caaac2ebd135b556c": {
          "model_module": "@jupyter-widgets/controls",
          "model_name": "ProgressStyleModel",
          "model_module_version": "1.5.0",
          "state": {
            "_model_module": "@jupyter-widgets/controls",
            "_model_module_version": "1.5.0",
            "_model_name": "ProgressStyleModel",
            "_view_count": null,
            "_view_module": "@jupyter-widgets/base",
            "_view_module_version": "1.2.0",
            "_view_name": "StyleView",
            "bar_color": null,
            "description_width": ""
          }
        },
        "47985b4efa224239839595e5c62d60ac": {
          "model_module": "@jupyter-widgets/base",
          "model_name": "LayoutModel",
          "model_module_version": "1.2.0",
          "state": {
            "_model_module": "@jupyter-widgets/base",
            "_model_module_version": "1.2.0",
            "_model_name": "LayoutModel",
            "_view_count": null,
            "_view_module": "@jupyter-widgets/base",
            "_view_module_version": "1.2.0",
            "_view_name": "LayoutView",
            "align_content": null,
            "align_items": null,
            "align_self": null,
            "border": null,
            "bottom": null,
            "display": null,
            "flex": null,
            "flex_flow": null,
            "grid_area": null,
            "grid_auto_columns": null,
            "grid_auto_flow": null,
            "grid_auto_rows": null,
            "grid_column": null,
            "grid_gap": null,
            "grid_row": null,
            "grid_template_areas": null,
            "grid_template_columns": null,
            "grid_template_rows": null,
            "height": null,
            "justify_content": null,
            "justify_items": null,
            "left": null,
            "margin": null,
            "max_height": null,
            "max_width": null,
            "min_height": null,
            "min_width": null,
            "object_fit": null,
            "object_position": null,
            "order": null,
            "overflow": null,
            "overflow_x": null,
            "overflow_y": null,
            "padding": null,
            "right": null,
            "top": null,
            "visibility": null,
            "width": null
          }
        },
        "5e85298902a140feb816fdcc4dd77903": {
          "model_module": "@jupyter-widgets/controls",
          "model_name": "DescriptionStyleModel",
          "model_module_version": "1.5.0",
          "state": {
            "_model_module": "@jupyter-widgets/controls",
            "_model_module_version": "1.5.0",
            "_model_name": "DescriptionStyleModel",
            "_view_count": null,
            "_view_module": "@jupyter-widgets/base",
            "_view_module_version": "1.2.0",
            "_view_name": "StyleView",
            "description_width": ""
          }
        }
      }
    }
  },
  "cells": [
    {
      "cell_type": "markdown",
      "source": [
        "RAG Configuration in this notebook:\n",
        "\n",
        "Embedding model: sentence-transformers/all-mpnet-base-v2\n",
        "\n",
        "Chunk size: 1000\n",
        "\n",
        "Chunk overlap: 100\n",
        "\n",
        "Generation Model: llama-3-8B-Instruct\n",
        "\n",
        "Retriever: VectorStore\n",
        "\n",
        "Embedding Size: 768\n",
        "\n",
        "This notebook also includes RAG response generation and evaluation."
      ],
      "metadata": {
        "id": "rKw8FvT1lDwB"
      }
    },
    {
      "cell_type": "code",
      "source": [
        "import pickle\n",
        "from pinecone import Pinecone, ServerlessSpec\n",
        "import getpass\n",
        "import os\n",
        "import time\n",
        "from transformers import AutoTokenizer, AutoModelForCausalLM\n",
        "from langchain.embeddings import HuggingFaceEmbeddings\n",
        "from langchain.vectorstores import Pinecone\n",
        "from langchain.chains import RetrievalQA\n",
        "from langchain.prompts import PromptTemplate\n",
        "import pinecone\n",
        "import torch\n",
        "from langchain.text_splitter import RecursiveCharacterTextSplitter\n",
        "from pinecone import Index\n",
        "from langchain_pinecone import PineconeVectorStore\n",
        "from transformers import BitsAndBytesConfig\n",
        "import bitsandbytes\n",
        "from langchain.llms import HuggingFacePipeline\n",
        "from transformers import pipeline\n",
        "from tqdm import tqdm\n",
        "from langchain.prompts import PromptTemplate\n",
        "import pandas as pd"
      ],
      "metadata": {
        "id": "S2ml9JOgNuJ4"
      },
      "execution_count": null,
      "outputs": []
    },
    {
      "cell_type": "code",
      "source": [
        "if not os.getenv(\"PINECONE_API_KEY\"):\n",
        "    os.environ[\"PINECONE_API_KEY\"] = getpass.getpass(\"Enter your Pinecone API key: \")\n",
        "\n",
        "pinecone_api_key = os.environ.get(\"PINECONE_API_KEY\")\n",
        "\n",
        "pc = Pinecone(api_key=pinecone_api_key)"
      ],
      "metadata": {
        "colab": {
          "base_uri": "https://localhost:8080/"
        },
        "id": "wELTlyReMm-I",
        "outputId": "3f246000-6466-47a5-db4f-2fd0201b02b8"
      },
      "execution_count": 2,
      "outputs": [
        {
          "name": "stdout",
          "output_type": "stream",
          "text": [
            "Enter your Pinecone API key: ··········\n"
          ]
        }
      ]
    },
    {
      "cell_type": "code",
      "source": [
        "#Embedding model\n",
        "model_name = \"sentence-transformers/all-mpnet-base-v2\"\n",
        "model_kwargs = {\"device\": \"cuda\" if torch.cuda.is_available() else \"cpu\"}\n",
        "encode_kwargs = {\"normalize_embeddings\": False}\n",
        "hf_embeddings = HuggingFaceEmbeddings(\n",
        "    model_name=model_name, model_kwargs=model_kwargs, encode_kwargs=encode_kwargs\n",
        ")"
      ],
      "metadata": {
        "colab": {
          "base_uri": "https://localhost:8080/"
        },
        "outputId": "362fdb0d-1158-4b01-807f-dcb6a122048f",
        "id": "VnLzuWe-7gdu"
      },
      "execution_count": null,
      "outputs": [
        {
          "output_type": "stream",
          "name": "stderr",
          "text": [
            "<ipython-input-5-37995c8f00a0>:8: LangChainDeprecationWarning: The class `HuggingFaceEmbeddings` was deprecated in LangChain 0.2.2 and will be removed in 1.0. An updated version of the class exists in the :class:`~langchain-huggingface package and should be used instead. To use it run `pip install -U :class:`~langchain-huggingface` and import as `from :class:`~langchain_huggingface import HuggingFaceEmbeddings``.\n",
            "  hf_embeddings = HuggingFaceEmbeddings(\n",
            "/usr/local/lib/python3.10/dist-packages/huggingface_hub/utils/_auth.py:94: UserWarning: \n",
            "The secret `HF_TOKEN` does not exist in your Colab secrets.\n",
            "To authenticate with the Hugging Face Hub, create a token in your settings tab (https://huggingface.co/settings/tokens), set it as secret in your Google Colab and restart your session.\n",
            "You will be able to reuse this secret in all of your notebooks.\n",
            "Please note that authentication is recommended but still optional to access public models or datasets.\n",
            "  warnings.warn(\n"
          ]
        }
      ]
    },
    {
      "cell_type": "code",
      "source": [
        "# Create the index if it doesn't exist\n",
        "#pc.create_index(name=\"rag-llm-1000\",\n",
        "#                    dimension=768,metric=\"cosine\",\n",
        "#                   spec=ServerlessSpec(\n",
        "#                    cloud=\"aws\",\n",
        "#                    region=\"us-east-1\"))\n",
        "\n",
        "pc_index = pc.Index(\"rag-llm-1000\")"
      ],
      "metadata": {
        "id": "MtCXp1z37gdv"
      },
      "execution_count": 3,
      "outputs": []
    },
    {
      "cell_type": "code",
      "source": [
        "from huggingface_hub import notebook_login\n",
        "notebook_login()"
      ],
      "metadata": {
        "colab": {
          "base_uri": "https://localhost:8080/",
          "height": 17,
          "referenced_widgets": [
            "4f1404368c8c4924aac8efae75181792",
            "1e82e9da224c4ccd95c9a2536fe106c5",
            "ead1a3c86396405d99a8cef9a116c85d",
            "6db29b4d374a4aefb26e5a989f711844",
            "266083fe2e034e4b86c0b4c6842e37c2",
            "e9c705e843244bb8890b1b1399ed0307",
            "680b738507284679a67c4bb4584f9e98",
            "6c6bf5aec4e64293833f870b81554263",
            "e80cf5a18b444cecbc7fa54a7bc203c8",
            "ab4155c52e874e77a12a1b92e12ebe84",
            "26bccf59b7144095ab66157b6ce60804",
            "c613d583ea7942b6a4707f9445e3d841",
            "59dc188475f74dcbb4dc288da17a1126",
            "b08f6b7a207d4fa18a8545d49f6301cf",
            "9082f11f3b7b471880d68be6160efd6b",
            "e5021091e01e4d48ae641a3e81697c1c",
            "5b257eeedf9f47dfac7245ba49a5fd01",
            "fb2164fe12844b7a87b7028b9a69b520",
            "d04bbc466200472da90d87b079bf6276",
            "625e8d55c2454200a9e5430880edd2b6"
          ]
        },
        "outputId": "31f7a65a-8136-4e53-c56a-915cb74b4cd2",
        "id": "7871gxvY7gdy"
      },
      "execution_count": null,
      "outputs": [
        {
          "output_type": "display_data",
          "data": {
            "text/plain": [
              "VBox(children=(HTML(value='<center> <img\\nsrc=https://huggingface.co/front/assets/huggingface_logo-noborder.sv…"
            ],
            "application/vnd.jupyter.widget-view+json": {
              "version_major": 2,
              "version_minor": 0,
              "model_id": "4f1404368c8c4924aac8efae75181792"
            }
          },
          "metadata": {}
        }
      ]
    },
    {
      "cell_type": "code",
      "source": [
        "# Load the document\n",
        "with open(\"data_5983_updated.pkl\", \"rb\") as file:\n",
        "    documents = pickle.load(file)"
      ],
      "metadata": {
        "id": "QDOa5j2iyiey"
      },
      "execution_count": null,
      "outputs": []
    },
    {
      "cell_type": "code",
      "source": [
        "# Chunking\n",
        "text_splitter = RecursiveCharacterTextSplitter(\n",
        "    chunk_size=1000,\n",
        "    chunk_overlap=100,\n",
        ")\n",
        "\n",
        "chunks = text_splitter.split_documents(documents)\n"
      ],
      "metadata": {
        "id": "66wl8vyCEddr"
      },
      "execution_count": null,
      "outputs": []
    },
    {
      "cell_type": "code",
      "source": [
        "len(chunks)"
      ],
      "metadata": {
        "colab": {
          "base_uri": "https://localhost:8080/"
        },
        "id": "eSp1f00TIaUT",
        "outputId": "c6ba7306-2e46-4200-cc2a-06c14a85467e"
      },
      "execution_count": null,
      "outputs": [
        {
          "output_type": "execute_result",
          "data": {
            "text/plain": [
              "2644"
            ]
          },
          "metadata": {},
          "execution_count": 12
        }
      ]
    },
    {
      "cell_type": "code",
      "source": [
        "total_size = sum(len(chunk.page_content) for chunk in chunks)\n",
        "average_size = total_size / len(chunks) if chunks else 0\n",
        "\n",
        "print(f\"Total size of chunks: {total_size}\")\n",
        "print(f\"Number of chunks: {len(chunks)}\")\n",
        "print(f\"Average size of chunks: {average_size:.2f} characters\")\n"
      ],
      "metadata": {
        "colab": {
          "base_uri": "https://localhost:8080/"
        },
        "id": "hVtBqWwk_Fvo",
        "outputId": "fc94d550-716c-4afc-a5de-c4cac45d34f2"
      },
      "execution_count": null,
      "outputs": [
        {
          "output_type": "stream",
          "name": "stdout",
          "text": [
            "Total size of chunks: 1669472\n",
            "Number of chunks: 2644\n",
            "Average size of chunks: 631.42 characters\n"
          ]
        }
      ]
    },
    {
      "cell_type": "code",
      "source": [
        "from langchain_pinecone import PineconeVectorStore\n",
        "\n",
        "# VectorStore\n",
        "vectorstore = PineconeVectorStore(\n",
        "    index_name=\"rag-llm-1000\",\n",
        "    embedding=hf_embeddings,\n",
        ")"
      ],
      "metadata": {
        "id": "I1-D-LCiN0lS"
      },
      "execution_count": null,
      "outputs": []
    },
    {
      "cell_type": "code",
      "source": [
        "#for chunk in tqdm(chunks, desc=\"Adding documents to Pinecone\", unit=\"chunk\"):\n",
        "#    vectorstore.add_documents([chunk])"
      ],
      "metadata": {
        "colab": {
          "base_uri": "https://localhost:8080/"
        },
        "id": "tjRE0Vo25HN5",
        "outputId": "38d47281-92b8-49df-8d55-5d70212780cc"
      },
      "execution_count": null,
      "outputs": [
        {
          "output_type": "stream",
          "name": "stderr",
          "text": [
            "Adding documents to Pinecone: 100%|██████████| 2644/2644 [13:22<00:00,  3.30chunk/s]\n"
          ]
        }
      ]
    },
    {
      "cell_type": "code",
      "source": [
        "index_stats = pc_index.describe_index_stats()\n",
        "\n",
        "print(\"Index Stats:\", index_stats)"
      ],
      "metadata": {
        "colab": {
          "base_uri": "https://localhost:8080/"
        },
        "id": "jLVT7oRp67aa",
        "outputId": "6cde86f5-7944-4b39-bbee-f8537d4d6ad4"
      },
      "execution_count": 4,
      "outputs": [
        {
          "output_type": "stream",
          "name": "stdout",
          "text": [
            "Index Stats: {'dimension': 768,\n",
            " 'index_fullness': 0.0,\n",
            " 'namespaces': {'': {'vector_count': 2644}},\n",
            " 'total_vector_count': 2644}\n"
          ]
        }
      ]
    },
    {
      "cell_type": "code",
      "source": [
        "retriever = vectorstore.as_retriever(search_type=\"similarity\", search_kwargs={\"k\": 5})"
      ],
      "metadata": {
        "id": "SIsR-b9BU2Mf"
      },
      "execution_count": null,
      "outputs": []
    },
    {
      "cell_type": "code",
      "source": [
        "!pip install -U bitsandbytes"
      ],
      "metadata": {
        "colab": {
          "base_uri": "https://localhost:8080/"
        },
        "id": "jdDRlmjOY5gc",
        "outputId": "73887cb9-dac6-4e3c-d1fe-6bb9c05aef08"
      },
      "execution_count": null,
      "outputs": [
        {
          "output_type": "stream",
          "name": "stdout",
          "text": [
            "Requirement already satisfied: bitsandbytes in /usr/local/lib/python3.10/dist-packages (0.45.0)\n",
            "Requirement already satisfied: torch in /usr/local/lib/python3.10/dist-packages (from bitsandbytes) (2.5.1+cu121)\n",
            "Requirement already satisfied: numpy in /usr/local/lib/python3.10/dist-packages (from bitsandbytes) (1.26.4)\n",
            "Requirement already satisfied: typing_extensions>=4.8.0 in /usr/local/lib/python3.10/dist-packages (from bitsandbytes) (4.12.2)\n",
            "Requirement already satisfied: filelock in /usr/local/lib/python3.10/dist-packages (from torch->bitsandbytes) (3.16.1)\n",
            "Requirement already satisfied: networkx in /usr/local/lib/python3.10/dist-packages (from torch->bitsandbytes) (3.4.2)\n",
            "Requirement already satisfied: jinja2 in /usr/local/lib/python3.10/dist-packages (from torch->bitsandbytes) (3.1.4)\n",
            "Requirement already satisfied: fsspec in /usr/local/lib/python3.10/dist-packages (from torch->bitsandbytes) (2024.10.0)\n",
            "Requirement already satisfied: sympy==1.13.1 in /usr/local/lib/python3.10/dist-packages (from torch->bitsandbytes) (1.13.1)\n",
            "Requirement already satisfied: mpmath<1.4,>=1.1.0 in /usr/local/lib/python3.10/dist-packages (from sympy==1.13.1->torch->bitsandbytes) (1.3.0)\n",
            "Requirement already satisfied: MarkupSafe>=2.0 in /usr/local/lib/python3.10/dist-packages (from jinja2->torch->bitsandbytes) (3.0.2)\n"
          ]
        }
      ]
    },
    {
      "cell_type": "code",
      "source": [
        "from transformers import AutoTokenizer, AutoModelForCausalLM, BitsAndBytesConfig\n",
        "import bitsandbytes\n",
        "\n",
        "bnb_config = BitsAndBytesConfig(load_in_4bit=True, bnb_4bit_compute_dtype=torch.float16)\n",
        "\n",
        "llm_model = AutoModelForCausalLM.from_pretrained(\"meta-llama/Meta-Llama-3-8B-Instruct\", quantization_config=bnb_config)\n",
        "llm_tokenizer = AutoTokenizer.from_pretrained(\"meta-llama/Meta-Llama-3-8B-Instruct\")"
      ],
      "metadata": {
        "colab": {
          "base_uri": "https://localhost:8080/",
          "height": 386,
          "referenced_widgets": [
            "82cf5dd81aa54457915548587389c314",
            "47116c202c784263b42e2dc5abd7876f",
            "4873f8972cac48ebbb40595f31bbb1f4",
            "02f64e79eae44ff69b07883c2f6a73fb",
            "f106bebcfe5345bc9c5151c2ac7d3f1e",
            "66b947d035f444d09a07519aaf535065",
            "53752f73d3b9492582d2d4ae1841a393",
            "5efff54fe35248a881f34a5e959b5074",
            "c74b1c90583e4aab9162af5311f95d05",
            "37d4eb0da1f84674a9b52a6d9d3c5d03",
            "dfb56691fb674760a909d3e832b099f9",
            "5fe84fd8fd804345ac463a51817d2204",
            "5b78d338918a4e8f8e9c6556ba4dd8c1",
            "1a95e3d1c7224288b732b3cc6356f550",
            "8f25300c538042bebe00eed735533d32",
            "9d94cdca40a44e51b05bbac9ed60d35d",
            "507f7c83a73440f1830d9eefc8319823",
            "3e3afc6d41c74f28804023d52dda693e",
            "a8c76bf710684610892fde7743851cac",
            "2871d8f68d75452ba28e59d5457056a0",
            "7e565b5c76d64934ae690edea4abb1cc",
            "eae6b5895e0f4b7caa9b891a1f289c11",
            "a48df7ce13ce4b2d9203e9bfc8b4b685",
            "9711f2f86d9e4ea188559683ef668c7c",
            "b76451f120a14bbc8e9dab322783ac2b",
            "7fd10e1c250843399c9ac9e93b04e582",
            "1e97c9c0817c4f13887a328b1b9ddc2d",
            "8779c756a2254c76a11c967790fcf9d6",
            "4743ef6b512a493686a6fd4af08e2246",
            "e7af838528624846a4ad95b31370847a",
            "348c2f7cd5674cf183891cead330aa90",
            "1480b937908a4d70b0292e1d217127d7",
            "61855ca86c8d42b5875f76195e8d74da",
            "d4e2a6f39f8544b0ac0a31b8e3497b96",
            "d4ead6dd225b44668473fdccc151e90c",
            "153a26d82c0c4fa4b901165de1aa33b3",
            "8767236a19714c06a5b0c39705b525bf",
            "2be7ecabc6f3415fbaf8a13be1fd8d98",
            "226fbf7d612348e8ad99be19815b0de1",
            "ba459b83813b4e30abc34c882fa1d189",
            "cc20fdeccf84439cb78310731ff8934d",
            "1915f8edc49e4e5c848a972638e149c5",
            "3f3046613a434c16bb473af0cc7b5914",
            "c32afecc79d84780be71ef5980b277b5",
            "156b004a7f654d95a6d6be9617cad1d4",
            "ac2faea519e748cfa2f96ca6b809171c",
            "9953ab13bd8f482ab6b8a55103a66fa7",
            "420c2671226a4c7d96af92d1cb6aefd3",
            "670cf46965bf4d9b8c5a28cc16a490dc",
            "01802f7e80264c26afd77079244b9e81",
            "ee6e76daf5ae40c9adacb3b793b823cd",
            "800843713d5d4d7392afde6f0a7d69e6",
            "281196bd22c742cda31c965ba0e74434",
            "ae45f37c536c4bd582b8336575a4786e",
            "497d0cfd6a5c4e579f6c2a7dc89710eb",
            "a8a555a97d594c3289abbfdd2f0d9713",
            "b24dc126efc048f884e36a00089e279c",
            "9a3d426c9092418d9a952712eac9b956",
            "272074d2e00a4e0189e6c95aeeafbc8e",
            "cc70fc48d1204707ad5a3a4a138a2055",
            "24cd2c129f384031bd27bffbbd2c9ee6",
            "9634d0a80d3349c4a9cd3ccd9193b339",
            "397f2b38947140429225979ec679f84c",
            "fbf52f93b31547f3bd7a169c4500b44d",
            "b36a023d9e2640419fde92da6bd6a23a",
            "1f83f6786dca41a997f17552a0fdd840",
            "d976fbb3f8e342f68424ccc06dfc3eaf",
            "87366d3c0aa74d0e9f196e2fc6953792",
            "8fb06ed5d00d4cd6b8e8ffae41ab86e5",
            "806d029677fd4799aa8a1304280d56f5",
            "7879845c3686414da791fe692b535d3f",
            "88e40ca7d17846519f32fed26bee6362",
            "795636bd59a247058edcef9c139f0498",
            "587a2fca7e404dc381c87b9080fea929",
            "0e949c4c0e334b069bba745fd5c0da7e",
            "684254fe57ee4b6a8da17f1855b24c66",
            "eca9cb8144af4a97b4015121ef03c2d3",
            "a2a736089f19464285a9003ccb732c83",
            "a3b7a3a63d0c4f3e8412606b95949e20",
            "4f3741766a304a54837611d381be514c",
            "f94e5279e0344fe4a65d6186665da1e4",
            "208aa3022e004bd08d890683aa1d96fc",
            "efbe642b370f4ce3837af25355de07c3",
            "b9612560461b40409fb51c43c1e2e73d",
            "723bcc4c8539488696e92483d95cf050",
            "851e1d2a1d864852af57233fb135dca7",
            "8fcb7f3811c8470ba56547ca6d760594",
            "8997dac33a484330a24e9b43bed6c0c8",
            "f688bd0f81224d128e7f40d03b362307",
            "78a7ffe5c32a4d558b7fafa3fea36765",
            "9ade92b3029a4244a260ba99bff44ac0",
            "4621b0d509cf4a4886da54ddbdb2e70d",
            "c2eeec9fea024cff98d97106baf42e81",
            "ec25f9261b094f1d900b035d02c1cac0",
            "2522a41bd7bf420bb6d40dd31d39d57c",
            "9758787470a04453a371d46013b0fe71",
            "21e046286efa4f1197f7c166711530b5",
            "ee17ea6357944de6b699568a04bf1a84",
            "f0f6d899c9ea48d0a669e4806250e038",
            "a12b72c3ca6041348f4ba6ed4bd7cbbc",
            "adb1fd7b4c854a41b1de65aa08d19f1f",
            "6ca84e0827f04d078efc9d56957c6d60",
            "0de5098b840f4e2eb56690d5555ab551",
            "38a7c9a2fac24ed7923199e56001d0ed",
            "87dc775aabd445d8bb1724ee4f5f1f9f",
            "d38b53a585a742a1aa142dbe06aead1e",
            "973910800815453c937fbd6ab077b9cf",
            "9f7fe969eba247ac885b6674619294f2",
            "89a350077bb74d58aab811b8af93d43f",
            "0adc23ea859a427eae942f57bc83c28a",
            "f3d9cf44f0944a1c98ab83897dbfbb35",
            "0a3574e3be4845b393e9212259840021",
            "68edb4d3412b4dfe8205dc531a28f289",
            "d109a3cedc054806bfddf3515d96766b",
            "43779a2c32334483afc3054126e8e30e",
            "54f96de115104614a1321f95553206fa",
            "3549ead885344cbb9c14a4f606e9d7c4",
            "58195ce47e134ca9830b33747498d022",
            "fc3e1bae4c004e9caaac2ebd135b556c",
            "47985b4efa224239839595e5c62d60ac",
            "5e85298902a140feb816fdcc4dd77903"
          ]
        },
        "id": "5PxX5ZUKYntK",
        "outputId": "58eb47c6-6a33-40ef-93ad-2a45cbb79adc"
      },
      "execution_count": null,
      "outputs": [
        {
          "output_type": "stream",
          "name": "stderr",
          "text": [
            "`low_cpu_mem_usage` was None, now default to True since model is quantized.\n"
          ]
        },
        {
          "output_type": "display_data",
          "data": {
            "text/plain": [
              "model.safetensors.index.json:   0%|          | 0.00/23.9k [00:00<?, ?B/s]"
            ],
            "application/vnd.jupyter.widget-view+json": {
              "version_major": 2,
              "version_minor": 0,
              "model_id": "82cf5dd81aa54457915548587389c314"
            }
          },
          "metadata": {}
        },
        {
          "output_type": "display_data",
          "data": {
            "text/plain": [
              "Downloading shards:   0%|          | 0/4 [00:00<?, ?it/s]"
            ],
            "application/vnd.jupyter.widget-view+json": {
              "version_major": 2,
              "version_minor": 0,
              "model_id": "5fe84fd8fd804345ac463a51817d2204"
            }
          },
          "metadata": {}
        },
        {
          "output_type": "display_data",
          "data": {
            "text/plain": [
              "model-00001-of-00004.safetensors:   0%|          | 0.00/4.98G [00:00<?, ?B/s]"
            ],
            "application/vnd.jupyter.widget-view+json": {
              "version_major": 2,
              "version_minor": 0,
              "model_id": "a48df7ce13ce4b2d9203e9bfc8b4b685"
            }
          },
          "metadata": {}
        },
        {
          "output_type": "display_data",
          "data": {
            "text/plain": [
              "model-00002-of-00004.safetensors:   0%|          | 0.00/5.00G [00:00<?, ?B/s]"
            ],
            "application/vnd.jupyter.widget-view+json": {
              "version_major": 2,
              "version_minor": 0,
              "model_id": "d4e2a6f39f8544b0ac0a31b8e3497b96"
            }
          },
          "metadata": {}
        },
        {
          "output_type": "display_data",
          "data": {
            "text/plain": [
              "model-00003-of-00004.safetensors:   0%|          | 0.00/4.92G [00:00<?, ?B/s]"
            ],
            "application/vnd.jupyter.widget-view+json": {
              "version_major": 2,
              "version_minor": 0,
              "model_id": "156b004a7f654d95a6d6be9617cad1d4"
            }
          },
          "metadata": {}
        },
        {
          "output_type": "display_data",
          "data": {
            "text/plain": [
              "model-00004-of-00004.safetensors:   0%|          | 0.00/1.17G [00:00<?, ?B/s]"
            ],
            "application/vnd.jupyter.widget-view+json": {
              "version_major": 2,
              "version_minor": 0,
              "model_id": "a8a555a97d594c3289abbfdd2f0d9713"
            }
          },
          "metadata": {}
        },
        {
          "output_type": "display_data",
          "data": {
            "text/plain": [
              "Loading checkpoint shards:   0%|          | 0/4 [00:00<?, ?it/s]"
            ],
            "application/vnd.jupyter.widget-view+json": {
              "version_major": 2,
              "version_minor": 0,
              "model_id": "d976fbb3f8e342f68424ccc06dfc3eaf"
            }
          },
          "metadata": {}
        },
        {
          "output_type": "display_data",
          "data": {
            "text/plain": [
              "generation_config.json:   0%|          | 0.00/187 [00:00<?, ?B/s]"
            ],
            "application/vnd.jupyter.widget-view+json": {
              "version_major": 2,
              "version_minor": 0,
              "model_id": "a2a736089f19464285a9003ccb732c83"
            }
          },
          "metadata": {}
        },
        {
          "output_type": "display_data",
          "data": {
            "text/plain": [
              "tokenizer_config.json:   0%|          | 0.00/51.0k [00:00<?, ?B/s]"
            ],
            "application/vnd.jupyter.widget-view+json": {
              "version_major": 2,
              "version_minor": 0,
              "model_id": "f688bd0f81224d128e7f40d03b362307"
            }
          },
          "metadata": {}
        },
        {
          "output_type": "display_data",
          "data": {
            "text/plain": [
              "tokenizer.json:   0%|          | 0.00/9.09M [00:00<?, ?B/s]"
            ],
            "application/vnd.jupyter.widget-view+json": {
              "version_major": 2,
              "version_minor": 0,
              "model_id": "a12b72c3ca6041348f4ba6ed4bd7cbbc"
            }
          },
          "metadata": {}
        },
        {
          "output_type": "display_data",
          "data": {
            "text/plain": [
              "special_tokens_map.json:   0%|          | 0.00/73.0 [00:00<?, ?B/s]"
            ],
            "application/vnd.jupyter.widget-view+json": {
              "version_major": 2,
              "version_minor": 0,
              "model_id": "f3d9cf44f0944a1c98ab83897dbfbb35"
            }
          },
          "metadata": {}
        }
      ]
    },
    {
      "cell_type": "code",
      "source": [
        "llm_tokenizer.pad_token_id = llm_tokenizer.eos_token_id"
      ],
      "metadata": {
        "id": "bPu2hgIX3aPs"
      },
      "execution_count": null,
      "outputs": []
    },
    {
      "cell_type": "code",
      "source": [
        "llm_pipeline = pipeline(\n",
        "    \"text-generation\",\n",
        "    model=llm_model,\n",
        "    tokenizer=llm_tokenizer,\n",
        "    temperature=0.2,\n",
        "    do_sample=True,\n",
        "    repetition_penalty=1.1,\n",
        "    return_full_text=False,\n",
        "    max_new_tokens=100,\n",
        "    top_p=0.9,\n",
        "    top_k=50,\n",
        "    eos_token_id=llm_tokenizer.eos_token_id\n",
        ")"
      ],
      "metadata": {
        "id": "FPib8ss6qymD"
      },
      "execution_count": null,
      "outputs": []
    },
    {
      "cell_type": "code",
      "source": [
        "from langchain.llms import HuggingFacePipeline\n",
        "\n",
        "llm_final_model = HuggingFacePipeline(pipeline=llm_pipeline)"
      ],
      "metadata": {
        "id": "CP2ScPOFtRcU",
        "colab": {
          "base_uri": "https://localhost:8080/"
        },
        "outputId": "091b496e-f38e-4ab3-c954-81fb68e838e0"
      },
      "execution_count": null,
      "outputs": [
        {
          "output_type": "stream",
          "name": "stderr",
          "text": [
            "<ipython-input-18-3f741d8043ea>:3: LangChainDeprecationWarning: The class `HuggingFacePipeline` was deprecated in LangChain 0.0.37 and will be removed in 1.0. An updated version of the class exists in the :class:`~langchain-huggingface package and should be used instead. To use it run `pip install -U :class:`~langchain-huggingface` and import as `from :class:`~langchain_huggingface import HuggingFacePipeline``.\n",
            "  llm_final_model = HuggingFacePipeline(pipeline=llm_pipeline)\n"
          ]
        }
      ]
    },
    {
      "cell_type": "code",
      "source": [
        "from langchain.prompts import PromptTemplate\n",
        "from langchain.schema.runnable import RunnablePassthrough\n",
        "from langchain.schema.output_parser import StrOutputParser\n",
        "\n",
        "# Prompt template\n",
        "template = \"\"\"\n",
        "You are a compassionate and knowledgeable mental health assistant that answers questions related to mental health.\\n\n",
        "Use the following pieces of retrieved context to provide a helpful and empathetic response to the user's question.\\n\n",
        "Use only the context provided and not any prior knowledge.\\n\n",
        "If you are unsure of the answer, tell that you do not know the answer.\\n\n",
        "Stick to the question and just answer the question in a short manner.\\n\n",
        "Avoid any additional greetings or elaborations.\\n\n",
        "\n",
        "Context: \\n\n",
        "------------------------------------------------------------------------------\\n\n",
        "{context}\n",
        "------------------------------------------------------------------------------\\n\n",
        "Given the context and without any prior knowledge, answer the below question.\\n\n",
        "Question: {question}\n",
        "Answer:\n",
        "\"\"\"\n",
        "\n",
        "prompt = PromptTemplate(\n",
        "    template=template,\n",
        "    input_variables=[\"context\", \"question\"]\n",
        ")"
      ],
      "metadata": {
        "id": "2nIGByeU7ycL"
      },
      "execution_count": null,
      "outputs": []
    },
    {
      "cell_type": "code",
      "source": [
        "qa_chain = RetrievalQA.from_chain_type(\n",
        "    llm=llm_final_model,\n",
        "    retriever=retriever,\n",
        "    return_source_documents=True,\n",
        "    chain_type_kwargs={\"prompt\": prompt}\n",
        ")"
      ],
      "metadata": {
        "id": "QQqmg15OpP1d"
      },
      "execution_count": null,
      "outputs": []
    },
    {
      "cell_type": "code",
      "source": [
        "query = \"What is the Four-Fold Breath technique?\"\n",
        "\n",
        "result= qa_chain.invoke(query)"
      ],
      "metadata": {
        "id": "E7WpuDwA25cE"
      },
      "execution_count": null,
      "outputs": []
    },
    {
      "cell_type": "code",
      "source": [
        "answer = result['result']\n",
        "print(\"Answer:\", answer)"
      ],
      "metadata": {
        "colab": {
          "base_uri": "https://localhost:8080/"
        },
        "id": "necXgaVD28mu",
        "outputId": "464dcce1-b1ed-429a-fc88-6d2c78ff1677"
      },
      "execution_count": null,
      "outputs": [
        {
          "output_type": "stream",
          "name": "stdout",
          "text": [
            "Answer: The Four-Fold Breath technique involves breathing in slowly to the count of 4 and breathing out even slower to the count of 6. This exercise is recommended to be practiced for about 5 minutes, three times a day, focusing solely on your breathing.\n"
          ]
        }
      ]
    },
    {
      "cell_type": "markdown",
      "source": [
        "RAG Response Generation"
      ],
      "metadata": {
        "id": "DJs4FcgHRAu3"
      }
    },
    {
      "cell_type": "code",
      "source": [
        "df = pd.read_csv(\"U_eval_dataset_100q_with_context.csv\")"
      ],
      "metadata": {
        "id": "mI-tkn_f_pra"
      },
      "execution_count": null,
      "outputs": []
    },
    {
      "cell_type": "code",
      "source": [
        "df.head()"
      ],
      "metadata": {
        "colab": {
          "base_uri": "https://localhost:8080/",
          "height": 293
        },
        "id": "D_tSv4MBACAQ",
        "outputId": "a6c07c53-363a-4e70-aea1-f3e1c9149115"
      },
      "execution_count": null,
      "outputs": [
        {
          "output_type": "execute_result",
          "data": {
            "text/plain": [
              "                                            Question  \\\n",
              "0   What triggers Seasonal Affective Disorder (SAD)?   \n",
              "1      What are the health risks of bulimia nervosa?   \n",
              "2  How can someone with mental health problems ma...   \n",
              "3       What are the risk factors for schizophrenia?   \n",
              "4   How does schizophrenia impact daily functioning?   \n",
              "\n",
              "                                        Ground_Truth  \\\n",
              "0  SAD is triggered by seasonal changes, especial...   \n",
              "1  Risks include dental decay, dehydration, and s...   \n",
              "2  By finding trustworthy individuals who provide...   \n",
              "3  Risk factors include genetic predisposition an...   \n",
              "4  It affects work, socialization, and completing...   \n",
              "\n",
              "                                              Source        Category  \\\n",
              "0  https://www.samhsa.gov/mental-health/seasonal-...  Mental Illness   \n",
              "1  https://www.samhsa.gov/mental-health/eating-di...  Mental Illness   \n",
              "2  https://www.samhsa.gov/mental-health/how-to-ta...   Mental Health   \n",
              "3  https://www.samhsa.gov/mental-health/schizophr...  Mental Illness   \n",
              "4  https://www.samhsa.gov/mental-health/schizophr...  Mental Illness   \n",
              "\n",
              "                                            contexts  \n",
              "0  ['Seasonal affective disorder, or SAD, is a co...  \n",
              "1  ['It is common that binge eating will lead to ...  \n",
              "2  [\"Anyone can experience mental health problems...  \n",
              "3  ['Schizophrenia is a serious brain disorder th...  \n",
              "4  ['Schizophrenia is a serious brain disorder th...  "
            ],
            "text/html": [
              "\n",
              "  <div id=\"df-625500af-ee45-49fc-8179-82f4dec1d84f\" class=\"colab-df-container\">\n",
              "    <div>\n",
              "<style scoped>\n",
              "    .dataframe tbody tr th:only-of-type {\n",
              "        vertical-align: middle;\n",
              "    }\n",
              "\n",
              "    .dataframe tbody tr th {\n",
              "        vertical-align: top;\n",
              "    }\n",
              "\n",
              "    .dataframe thead th {\n",
              "        text-align: right;\n",
              "    }\n",
              "</style>\n",
              "<table border=\"1\" class=\"dataframe\">\n",
              "  <thead>\n",
              "    <tr style=\"text-align: right;\">\n",
              "      <th></th>\n",
              "      <th>Question</th>\n",
              "      <th>Ground_Truth</th>\n",
              "      <th>Source</th>\n",
              "      <th>Category</th>\n",
              "      <th>contexts</th>\n",
              "    </tr>\n",
              "  </thead>\n",
              "  <tbody>\n",
              "    <tr>\n",
              "      <th>0</th>\n",
              "      <td>What triggers Seasonal Affective Disorder (SAD)?</td>\n",
              "      <td>SAD is triggered by seasonal changes, especial...</td>\n",
              "      <td>https://www.samhsa.gov/mental-health/seasonal-...</td>\n",
              "      <td>Mental Illness</td>\n",
              "      <td>['Seasonal affective disorder, or SAD, is a co...</td>\n",
              "    </tr>\n",
              "    <tr>\n",
              "      <th>1</th>\n",
              "      <td>What are the health risks of bulimia nervosa?</td>\n",
              "      <td>Risks include dental decay, dehydration, and s...</td>\n",
              "      <td>https://www.samhsa.gov/mental-health/eating-di...</td>\n",
              "      <td>Mental Illness</td>\n",
              "      <td>['It is common that binge eating will lead to ...</td>\n",
              "    </tr>\n",
              "    <tr>\n",
              "      <th>2</th>\n",
              "      <td>How can someone with mental health problems ma...</td>\n",
              "      <td>By finding trustworthy individuals who provide...</td>\n",
              "      <td>https://www.samhsa.gov/mental-health/how-to-ta...</td>\n",
              "      <td>Mental Health</td>\n",
              "      <td>[\"Anyone can experience mental health problems...</td>\n",
              "    </tr>\n",
              "    <tr>\n",
              "      <th>3</th>\n",
              "      <td>What are the risk factors for schizophrenia?</td>\n",
              "      <td>Risk factors include genetic predisposition an...</td>\n",
              "      <td>https://www.samhsa.gov/mental-health/schizophr...</td>\n",
              "      <td>Mental Illness</td>\n",
              "      <td>['Schizophrenia is a serious brain disorder th...</td>\n",
              "    </tr>\n",
              "    <tr>\n",
              "      <th>4</th>\n",
              "      <td>How does schizophrenia impact daily functioning?</td>\n",
              "      <td>It affects work, socialization, and completing...</td>\n",
              "      <td>https://www.samhsa.gov/mental-health/schizophr...</td>\n",
              "      <td>Mental Illness</td>\n",
              "      <td>['Schizophrenia is a serious brain disorder th...</td>\n",
              "    </tr>\n",
              "  </tbody>\n",
              "</table>\n",
              "</div>\n",
              "    <div class=\"colab-df-buttons\">\n",
              "\n",
              "  <div class=\"colab-df-container\">\n",
              "    <button class=\"colab-df-convert\" onclick=\"convertToInteractive('df-625500af-ee45-49fc-8179-82f4dec1d84f')\"\n",
              "            title=\"Convert this dataframe to an interactive table.\"\n",
              "            style=\"display:none;\">\n",
              "\n",
              "  <svg xmlns=\"http://www.w3.org/2000/svg\" height=\"24px\" viewBox=\"0 -960 960 960\">\n",
              "    <path d=\"M120-120v-720h720v720H120Zm60-500h600v-160H180v160Zm220 220h160v-160H400v160Zm0 220h160v-160H400v160ZM180-400h160v-160H180v160Zm440 0h160v-160H620v160ZM180-180h160v-160H180v160Zm440 0h160v-160H620v160Z\"/>\n",
              "  </svg>\n",
              "    </button>\n",
              "\n",
              "  <style>\n",
              "    .colab-df-container {\n",
              "      display:flex;\n",
              "      gap: 12px;\n",
              "    }\n",
              "\n",
              "    .colab-df-convert {\n",
              "      background-color: #E8F0FE;\n",
              "      border: none;\n",
              "      border-radius: 50%;\n",
              "      cursor: pointer;\n",
              "      display: none;\n",
              "      fill: #1967D2;\n",
              "      height: 32px;\n",
              "      padding: 0 0 0 0;\n",
              "      width: 32px;\n",
              "    }\n",
              "\n",
              "    .colab-df-convert:hover {\n",
              "      background-color: #E2EBFA;\n",
              "      box-shadow: 0px 1px 2px rgba(60, 64, 67, 0.3), 0px 1px 3px 1px rgba(60, 64, 67, 0.15);\n",
              "      fill: #174EA6;\n",
              "    }\n",
              "\n",
              "    .colab-df-buttons div {\n",
              "      margin-bottom: 4px;\n",
              "    }\n",
              "\n",
              "    [theme=dark] .colab-df-convert {\n",
              "      background-color: #3B4455;\n",
              "      fill: #D2E3FC;\n",
              "    }\n",
              "\n",
              "    [theme=dark] .colab-df-convert:hover {\n",
              "      background-color: #434B5C;\n",
              "      box-shadow: 0px 1px 3px 1px rgba(0, 0, 0, 0.15);\n",
              "      filter: drop-shadow(0px 1px 2px rgba(0, 0, 0, 0.3));\n",
              "      fill: #FFFFFF;\n",
              "    }\n",
              "  </style>\n",
              "\n",
              "    <script>\n",
              "      const buttonEl =\n",
              "        document.querySelector('#df-625500af-ee45-49fc-8179-82f4dec1d84f button.colab-df-convert');\n",
              "      buttonEl.style.display =\n",
              "        google.colab.kernel.accessAllowed ? 'block' : 'none';\n",
              "\n",
              "      async function convertToInteractive(key) {\n",
              "        const element = document.querySelector('#df-625500af-ee45-49fc-8179-82f4dec1d84f');\n",
              "        const dataTable =\n",
              "          await google.colab.kernel.invokeFunction('convertToInteractive',\n",
              "                                                    [key], {});\n",
              "        if (!dataTable) return;\n",
              "\n",
              "        const docLinkHtml = 'Like what you see? Visit the ' +\n",
              "          '<a target=\"_blank\" href=https://colab.research.google.com/notebooks/data_table.ipynb>data table notebook</a>'\n",
              "          + ' to learn more about interactive tables.';\n",
              "        element.innerHTML = '';\n",
              "        dataTable['output_type'] = 'display_data';\n",
              "        await google.colab.output.renderOutput(dataTable, element);\n",
              "        const docLink = document.createElement('div');\n",
              "        docLink.innerHTML = docLinkHtml;\n",
              "        element.appendChild(docLink);\n",
              "      }\n",
              "    </script>\n",
              "  </div>\n",
              "\n",
              "\n",
              "<div id=\"df-a269899a-d3e7-4718-be29-9fd57ba5afeb\">\n",
              "  <button class=\"colab-df-quickchart\" onclick=\"quickchart('df-a269899a-d3e7-4718-be29-9fd57ba5afeb')\"\n",
              "            title=\"Suggest charts\"\n",
              "            style=\"display:none;\">\n",
              "\n",
              "<svg xmlns=\"http://www.w3.org/2000/svg\" height=\"24px\"viewBox=\"0 0 24 24\"\n",
              "     width=\"24px\">\n",
              "    <g>\n",
              "        <path d=\"M19 3H5c-1.1 0-2 .9-2 2v14c0 1.1.9 2 2 2h14c1.1 0 2-.9 2-2V5c0-1.1-.9-2-2-2zM9 17H7v-7h2v7zm4 0h-2V7h2v10zm4 0h-2v-4h2v4z\"/>\n",
              "    </g>\n",
              "</svg>\n",
              "  </button>\n",
              "\n",
              "<style>\n",
              "  .colab-df-quickchart {\n",
              "      --bg-color: #E8F0FE;\n",
              "      --fill-color: #1967D2;\n",
              "      --hover-bg-color: #E2EBFA;\n",
              "      --hover-fill-color: #174EA6;\n",
              "      --disabled-fill-color: #AAA;\n",
              "      --disabled-bg-color: #DDD;\n",
              "  }\n",
              "\n",
              "  [theme=dark] .colab-df-quickchart {\n",
              "      --bg-color: #3B4455;\n",
              "      --fill-color: #D2E3FC;\n",
              "      --hover-bg-color: #434B5C;\n",
              "      --hover-fill-color: #FFFFFF;\n",
              "      --disabled-bg-color: #3B4455;\n",
              "      --disabled-fill-color: #666;\n",
              "  }\n",
              "\n",
              "  .colab-df-quickchart {\n",
              "    background-color: var(--bg-color);\n",
              "    border: none;\n",
              "    border-radius: 50%;\n",
              "    cursor: pointer;\n",
              "    display: none;\n",
              "    fill: var(--fill-color);\n",
              "    height: 32px;\n",
              "    padding: 0;\n",
              "    width: 32px;\n",
              "  }\n",
              "\n",
              "  .colab-df-quickchart:hover {\n",
              "    background-color: var(--hover-bg-color);\n",
              "    box-shadow: 0 1px 2px rgba(60, 64, 67, 0.3), 0 1px 3px 1px rgba(60, 64, 67, 0.15);\n",
              "    fill: var(--button-hover-fill-color);\n",
              "  }\n",
              "\n",
              "  .colab-df-quickchart-complete:disabled,\n",
              "  .colab-df-quickchart-complete:disabled:hover {\n",
              "    background-color: var(--disabled-bg-color);\n",
              "    fill: var(--disabled-fill-color);\n",
              "    box-shadow: none;\n",
              "  }\n",
              "\n",
              "  .colab-df-spinner {\n",
              "    border: 2px solid var(--fill-color);\n",
              "    border-color: transparent;\n",
              "    border-bottom-color: var(--fill-color);\n",
              "    animation:\n",
              "      spin 1s steps(1) infinite;\n",
              "  }\n",
              "\n",
              "  @keyframes spin {\n",
              "    0% {\n",
              "      border-color: transparent;\n",
              "      border-bottom-color: var(--fill-color);\n",
              "      border-left-color: var(--fill-color);\n",
              "    }\n",
              "    20% {\n",
              "      border-color: transparent;\n",
              "      border-left-color: var(--fill-color);\n",
              "      border-top-color: var(--fill-color);\n",
              "    }\n",
              "    30% {\n",
              "      border-color: transparent;\n",
              "      border-left-color: var(--fill-color);\n",
              "      border-top-color: var(--fill-color);\n",
              "      border-right-color: var(--fill-color);\n",
              "    }\n",
              "    40% {\n",
              "      border-color: transparent;\n",
              "      border-right-color: var(--fill-color);\n",
              "      border-top-color: var(--fill-color);\n",
              "    }\n",
              "    60% {\n",
              "      border-color: transparent;\n",
              "      border-right-color: var(--fill-color);\n",
              "    }\n",
              "    80% {\n",
              "      border-color: transparent;\n",
              "      border-right-color: var(--fill-color);\n",
              "      border-bottom-color: var(--fill-color);\n",
              "    }\n",
              "    90% {\n",
              "      border-color: transparent;\n",
              "      border-bottom-color: var(--fill-color);\n",
              "    }\n",
              "  }\n",
              "</style>\n",
              "\n",
              "  <script>\n",
              "    async function quickchart(key) {\n",
              "      const quickchartButtonEl =\n",
              "        document.querySelector('#' + key + ' button');\n",
              "      quickchartButtonEl.disabled = true;  // To prevent multiple clicks.\n",
              "      quickchartButtonEl.classList.add('colab-df-spinner');\n",
              "      try {\n",
              "        const charts = await google.colab.kernel.invokeFunction(\n",
              "            'suggestCharts', [key], {});\n",
              "      } catch (error) {\n",
              "        console.error('Error during call to suggestCharts:', error);\n",
              "      }\n",
              "      quickchartButtonEl.classList.remove('colab-df-spinner');\n",
              "      quickchartButtonEl.classList.add('colab-df-quickchart-complete');\n",
              "    }\n",
              "    (() => {\n",
              "      let quickchartButtonEl =\n",
              "        document.querySelector('#df-a269899a-d3e7-4718-be29-9fd57ba5afeb button');\n",
              "      quickchartButtonEl.style.display =\n",
              "        google.colab.kernel.accessAllowed ? 'block' : 'none';\n",
              "    })();\n",
              "  </script>\n",
              "</div>\n",
              "\n",
              "    </div>\n",
              "  </div>\n"
            ],
            "application/vnd.google.colaboratory.intrinsic+json": {
              "type": "dataframe",
              "variable_name": "df",
              "summary": "{\n  \"name\": \"df\",\n  \"rows\": 100,\n  \"fields\": [\n    {\n      \"column\": \"Question\",\n      \"properties\": {\n        \"dtype\": \"string\",\n        \"num_unique_values\": 100,\n        \"samples\": [\n          \"How are phobias different from general anxiety?\",\n          \"How can someone help a person showing warning signs of suicide?\",\n          \"What causes self-harm behaviors?\"\n        ],\n        \"semantic_type\": \"\",\n        \"description\": \"\"\n      }\n    },\n    {\n      \"column\": \"Ground_Truth\",\n      \"properties\": {\n        \"dtype\": \"string\",\n        \"num_unique_values\": 100,\n        \"samples\": [\n          \"Phobias are irrational fears specific to certain objects or situations, unlike generalized anxiety which is ongoing and not situation-specific.\",\n          \"They can listen without judgment, ask directly about suicidal thoughts, stay with the person, and remove potential means of self-harm.\",\n          \"Causes include emotional distress and difficulty coping with negative feelings.\"\n        ],\n        \"semantic_type\": \"\",\n        \"description\": \"\"\n      }\n    },\n    {\n      \"column\": \"Source\",\n      \"properties\": {\n        \"dtype\": \"category\",\n        \"num_unique_values\": 13,\n        \"samples\": [\n          \"Counsel chat dataset\",\n          \"https://www.samhsa.gov/mental-health/suicide/prevention\",\n          \"https://www.samhsa.gov/mental-health/seasonal-affective-disorder\"\n        ],\n        \"semantic_type\": \"\",\n        \"description\": \"\"\n      }\n    },\n    {\n      \"column\": \"Category\",\n      \"properties\": {\n        \"dtype\": \"category\",\n        \"num_unique_values\": 5,\n        \"samples\": [\n          \"Mental Health\",\n          \"Depression\",\n          \"Anxiety\"\n        ],\n        \"semantic_type\": \"\",\n        \"description\": \"\"\n      }\n    },\n    {\n      \"column\": \"contexts\",\n      \"properties\": {\n        \"dtype\": \"string\",\n        \"num_unique_values\": 98,\n        \"samples\": [\n          \"[\\\"this is certainly an important issue to look into , it is always helpful to speak with the child ' s pediatrician since they are most familiar with the child ' s developmental history . also , children tend to regress behaviorally when facing events and interactions they feel to have no control over , this can be as simple as a loss of a pet , a recent move , death in the family , and / or as serious as sexual abuse , and other things . if you have not spoken to the school that can be a good starting point .\\\", \\\"As a parent or caregiver, you want the best for your children or other dependents. You may be concerned or have questions about certain behaviors they exhibit and how to ensure they get help.\\\\nWhat to Look For\\\\nIt is important to be aware of warning signs that your child may be struggling. You can play a critical role in knowing when your child may need help.\\\\nConsult with a school counselor, school nurse, mental health provider, or another health care professional if your child shows one or more of the following behaviors:\\\\nFeeling very sad or withdrawn or easily irritated for more than two weeks\\\\nSeriously trying to harm or kill themselves, or making plans to do so\\\\nExperiencing sudden overwhelming fear for no reason, sometimes with a racing heart or fast breathing\\\\nGetting in many fights or wanting to hurt others\\\\nShowing severe out-of-control behavior that can hurt oneself or others\\\\nNot eating, throwing up, or using laxatives to make themselves lose weight\\\\nHaving intense worries or fears that get in the way of daily activities\\\\nExperiencing extreme difficulty controlling behavior, putting themselves in physical danger or causing problems in school\\\\nUsing drugs or alcohol\\\\nHaving severe mood swings that cause problems in relationships\\\\nShowing drastic changes in behavior or personality\\\\nA drop in their school performance\\\\nBecause children often can't understand difficult situations on their own, you should pay particular attention if they experience:\\\\nLoss of a loved one\\\\nDivorce or separation of their parents\\\\nAny major transition\\u2014new home, new school, etc.\\\\nTraumatic life experiences, like living through a natural disaster\\\\nTeasing or bullying\\\\nDifficulties in school or with classmates\\\\nWhat to Do\\\\nIf you are concerned about your child's behaviors, it is important to get appropriate care. You should:\\\\nTalk to your child's doctor, school nurse, or another health care provider and seek further information about the behaviors or symptoms that worry you\\\", 'watching children go through challenges in their lives is difficult . on a very basic level , there exists a primal need to protect them from harm . the hard part for parents is letting them feel those challenges and working through them as they get older . at some point , there is a moment that occurs when the role as a parent shifts . children no longer need the basics ( food , shelter . water , safety ) as much as when they were toddlers , but rather , their needs shift to wanting more support , encouragement , advice , and room to make mistakes . this is where the ability to communicate with them , letting them direct the sails to gather the wind needed to move , is so important . keep the lines of communication open and be available to give feedback when they ask for it .', 'hello . it sounds like you are really concerned about your daughter because you have noticed a significant change in her behavior . it \\\\' s really a great first step that you are reaching out to get some ideas about what might be going on . you are clearly an observant and hands on mom who wants to be sure that her daughter is ok . this is a tough question to answer without more information . with that said , i have found that \\\" under stress people regress . \\\" in other words , many people , children and adults alike , often regress and behave differently - as if they were younger than their actual age - when under stress . therefore , my first question would be : has anything been happening recently that is causing your daughter stress ? this could be anything from conflict at home , recent changes such as moving , divorce , a loss of some kind , switching schools , or losing a friend or friends . additionally , sometimes if children are feeling bullied or left out by same age peers , they may gravitate toward younger playmates as a way to boost their social confidence . i would suggest that you think about what stressors / changes may have occurred recently . you may also want to check in with her teacher ( s ) to see if they have noticed any', \\\"your daughter is fortunate to have an observant parent , who is willing to seek out help in this regard . regression can be indicative of some stress in your child ' s life , so the issues she is facing should be examined . seeking advice from your daughter ' s pediatrician , as well as a practitioner familiar with adolescent issues or perhaps play therapy can equip you with insight into the causes of the behavior , and give you tools to assist your daughter in learning age appropriate social interactions .\\\"]\",\n          \"['there are many possible issues to consider as depression social anxieties , even medical illness . for some , even grief creates a sense of isolation , pains from relationship break up . also , obsessive thinking can be debilitating . seeking at least one trusted friend or family member can be a start towards increased personal support . some persons may simply feel connected by spending time with someone as this , even if not talking directly on issues , just being around another is positive . obviously there is more to explore on this question , given minimal information from two sentences .', \\\"Risk and Protective Factors\\\\nRisk and protective factors affect an individual's chances of positive or negative outcomes, such as suicide. These factors occur at multiple levels of influence\\u2014such as the individual, relationship, community, and greater societal levels. The Social-Ecological Model shows that effective suicide prevention interventions are needed to address these factors at all levels.\\\\nRisk factors for suicide\\\\nat the individual level include untreated mental illness and substance misuse, while protective factors for suicide at this level include problem-solving and coping skills, positive self-esteem, and a sense of purpose in life.\\\\nRelationship-level risks\\\\ninclude family conflict, knowing someone who died by suicide (particularly a family members), and social isolation; protective factors include family connectedness and supportive friendships.\\\\nCommunity-level risks\\\\ninvolve community violence, historical trauma, and access to lethal means; and protective factors include access to behavioral health services, community or cultural beliefs that discourage suicide, and connectedness to community and social institutions.\\\\nSocietal-level risks\\\\ninclude stigma, racism, and discrimination, while examples of protective factors include cultural identification and policies such as anti-discrimination laws.\\\\nLearn more about\\\\nRisk and Protective Factors\\\\nfor suicide, and read the\\\\n2024 National Strategy for Suicide Prevention\\\\n.Suicide Resources\\\\nGeneral Resources\\\\nSAMHSA Publications\\\\nOther Federal Resources\\\\nData and Research\\\\nNational Survey on Drug Use and Health | SAMHSA\\\\n2024 National Strategy for Suicide Prevention\\\\nGeneral Resources\\\\nSuicide Prevention Resource Center\\\\nSuicide Topics and Term Definitions | SPRC\\\\nPrevention and Education\\\\nSuicide Prevention |\\\\xa0NIMH\\\\nCDC\\u2019s Suicide Prevention Month: Partner Toolkit\\\\nSuicide Prevention | WHO\\\\nSuicide and Suicidal Behavior\\\\n#BeThe1To\\\\nThere Is Help and That We Are Not Alone | We R Native\\\", 'Suicide Prevention |\\\\xa0NIMH\\\\nCDC\\u2019s Suicide Prevention Month: Partner Toolkit\\\\nSuicide Prevention | WHO\\\\nSuicide and Suicidal Behavior\\\\n#BeThe1To\\\\nThere Is Help and That We Are Not Alone | We R Native\\\\nSuicide in America: Frequently Asked Questions | NIMH\\\\nPreventing Suicide: A Toolkit for High Schools\\\\nEarly Intervention\\\\nWhat to Do if You\\u2019re Concerned About Your Teen\\u2019s Mental Health: A Conversation Guide | The Jed Foundation (PDF | 617 KB)\\\\nYouth Mental Health First Aid\\\\n#chatsafe A Young Person\\u2019s Guide for Communicating Safely Online About Suicide (PDF | 6.7 MB)\\\\nI Want to Help My Friend | The Jed Foundation\\\\nSeize the Awkward\\\\nWhen Your Friend Is Talking About Suicide | We R Native\\\\nCrisis, Treatment, and Support Services\\\\n988 Suicide & Crisis Lifeline\\\\nTreatment for Suicidal Ideation, Self-harm, and Suicide Attempts Among Youth | SAMHSA\\\\nAdvisory: Addressing Suicidal Thoughts and Behaviors in Substance Use Treatment | SAMHSA\\\\nHelping Your Loved One Who is Suicidal: A Guide for Family and Friends | SAMHSA\\\\nRecovery and Postvention\\\\nAfter an Attempt: A Guide for Taking Care of Your Family Member After Treatment in the Emergency Department | SAMHSA\\\\nProvide for Immediate and Long-Term Postvention\\\\nRecovery and Recovery Support\\\\nSpecific Populations\\\\nHelp Yourself | 988 Suicide & Crisis Lifeline\\\\nThere Is Help and That We Are Not Alone | We R Native\\\\nSuicide Prevention in American Indian/Alaska Native Communities | SPRC\\\\nSuicide Prevention and Care | IHS\\\\nService Members, Veterans, and their Families Technical Assistance (SMVF TA) Center | SAMHSA\\\\nSuicide in Rural America | CDC\\\\nPopulations\\\\xa0\\u2013 Suicide Prevention Resource Center\\\\nRing the Alarm: The Crisis of Black Youth Suicide in America\\\\nHelping Your Loved One Who is Suicidal: A Guide for Family and Friends\\\\nAdvisory: Addressing Suicidal Thoughts and Behaviors in Substance Use Treatment\\\\nTreatment for Suicidal Ideation, Self-harm, and Suicide Attempts Among Youth', 'Advisory: Addressing Suicidal Thoughts and Behaviors in Substance Use Treatment\\\\nTreatment for Suicidal Ideation, Self-harm, and Suicide Attempts Among Youth\\\\nPrevention and Treatment of Anxiety, Depression, and Suicidal Thoughts and Behaviors Among College Students\\\\nAfter an Attempt: A Guide for Taking Care of Your Family Member After Treatment in the Emergency Department\\\\nAfter an Attempt: A Guide for Medical Providers in the Emergency Department\\\\nSuicide Prevention Publications\\\\nSuicide Safe Mobile App\\\\nNational Survey on Drug Use and Health\\\\nSuicide and Self-Harm FastStats | CDC\\\\nSuicide: Additional Resources | CDC\\\\nSuicide Rising Across America | CDC (PDF | 824 KB)\\\\nSuicide Prevention Month: Partner Toolkit | CDC\\\\nSuicide in America: Frequently Asked Questions | NIMH\\\\nGeneral Resources\\\\nData and Research\\\\nNational Survey on Drug Use and Health | SAMHSA\\\\n2024 National Strategy for Suicide Prevention\\\\nGeneral Resources\\\\nSuicide Prevention Resource Center\\\\nSuicide Topics and Term Definitions | SPRC\\\\nPrevention and Education\\\\nSuicide Prevention |\\\\xa0NIMH\\\\nCDC\\u2019s Suicide Prevention Month: Partner Toolkit\\\\nSuicide Prevention | WHO\\\\nSuicide and Suicidal Behavior\\\\n#BeThe1To\\\\nThere Is Help and That We Are Not Alone | We R Native\\\\nSuicide in America: Frequently Asked Questions | NIMH\\\\nPreventing Suicide: A Toolkit for High Schools\\\\nEarly Intervention\\\\nWhat to Do if You\\u2019re Concerned About Your Teen\\u2019s Mental Health: A Conversation Guide | The Jed Foundation (PDF | 617 KB)\\\\nYouth Mental Health First Aid\\\\n#chatsafe A Young Person\\u2019s Guide for Communicating Safely Online About Suicide (PDF | 6.7 MB)\\\\nI Want to Help My Friend | The Jed Foundation\\\\nSeize the Awkward\\\\nWhen Your Friend Is Talking About Suicide | We R Native\\\\nCrisis, Treatment, and Support Services\\\\n988 Suicide & Crisis Lifeline\\\\nTreatment for Suicidal Ideation, Self-harm, and Suicide Attempts Among Youth | SAMHSA\\\\nAdvisory: Addressing Suicidal Thoughts and Behaviors in Substance Use Treatment | SAMHSA', 'Mental health includes our emotional, psychological, and social well-being. It affects how we think, feel, and act, and helps determine how we handle stress, relate to others, and make choices.\\\\nMental health is important at every stage of life, from childhood and adolescence through adulthood. Over the course of your life, if you experience\\\\nmental health problems, your thinking, mood, and behavior could be affected.\\\\nMental Health Conditions\\\\nMental illnesses are disorders, ranging from mild to severe, that affect a person\\u2019s thinking, mood, and/or behavior. According to the National Institute of Mental Health, nearly one-in-five adults live with a mental illness.\\\\nMany factors contribute to mental health conditions, including:\\\\nBiological factors, such as genes or brain chemistry\\\\nLife experiences, such as trauma or abuse\\\\nFamily history of mental health problems\\\\n\\\\nSome mental health topics include:\\\\nAntisocial personality disorder\\\\nAnxiety disorders\\\\n(including generalized anxiety, panic disorders, obsessive-compulsive disorder (OCD), phobias, and social anxiety)\\\\nAttention-deficit hyperactivity disorder (ADHD)\\\\nBipolar disorder\\\\nBorderline personality disorder (BPD)\\\\nDepression\\\\nEating disorders\\\\n(including anorexia nervosa, binge eating disorder, and bulimia nervosa)\\\\nPost-traumatic stress disorder (PTSD)\\\\nSchizophrenia\\\\nSeasonal affective disorder (SAD)\\\\nSelf-harm\\\\nSuicide and suicidal behavior']\",\n          \"[\\\"As a parent or caregiver, you want the best for your children or other dependents. You may be concerned or have questions about certain behaviors they exhibit and how to ensure they get help.\\\\nWhat to Look For\\\\nIt is important to be aware of warning signs that your child may be struggling. You can play a critical role in knowing when your child may need help.\\\\nConsult with a school counselor, school nurse, mental health provider, or another health care professional if your child shows one or more of the following behaviors:\\\\nFeeling very sad or withdrawn or easily irritated for more than two weeks\\\\nSeriously trying to harm or kill themselves, or making plans to do so\\\\nExperiencing sudden overwhelming fear for no reason, sometimes with a racing heart or fast breathing\\\\nGetting in many fights or wanting to hurt others\\\\nShowing severe out-of-control behavior that can hurt oneself or others\\\\nNot eating, throwing up, or using laxatives to make themselves lose weight\\\\nHaving intense worries or fears that get in the way of daily activities\\\\nExperiencing extreme difficulty controlling behavior, putting themselves in physical danger or causing problems in school\\\\nUsing drugs or alcohol\\\\nHaving severe mood swings that cause problems in relationships\\\\nShowing drastic changes in behavior or personality\\\\nA drop in their school performance\\\\nBecause children often can't understand difficult situations on their own, you should pay particular attention if they experience:\\\\nLoss of a loved one\\\\nDivorce or separation of their parents\\\\nAny major transition\\u2014new home, new school, etc.\\\\nTraumatic life experiences, like living through a natural disaster\\\\nTeasing or bullying\\\\nDifficulties in school or with classmates\\\\nWhat to Do\\\\nIf you are concerned about your child's behaviors, it is important to get appropriate care. You should:\\\\nTalk to your child's doctor, school nurse, or another health care provider and seek further information about the behaviors or symptoms that worry you\\\", \\\"Educators are often the first to notice mental health problems in children and young adults. Here are some ways you can help your students and their families.\\\\nWhat Educators Should Know\\\\nYou should know:\\\\nThe\\\\nwarning signs\\\\nfor mental health problems.\\\\nHow to promote\\\\nmental health and substance use prevention\\\\nin schools and on campuses.\\\\nWhom to turn to, such as the principal, school nurse, school psychiatrist or psychologist, or school social worker, if you have questions or concerns about a student's behavior.\\\\nHow to access\\\\ncrisis support and other mental health services\\\\n.\\\\nWhat Educators Should Look for in Student Behavior\\\\nConsult with a school counselor, nurse, or administrator and the student's parents if you observe one or more of the following behaviors:\\\\nFeeling very sad or withdrawn for more than two weeks\\\\nSeriously trying to harm oneself, or making plans to do so\\\\nSudden overwhelming fear for no reason, sometimes with a racing heart or fast breathing\\\\nInvolvement in many fights or desire to badly hurt others\\\\nSevere out-of-control behavior that can hurt oneself or others\\\\nNot eating, throwing up, or using laxatives to make oneself lose weight\\\\nIntense worries or fears that get in the way of daily activities\\\\nExtreme difficulty concentrating or staying still that puts the student in physical danger or causes problems in the classroom\\\\nRepeated use of drugs or alcohol\\\\nSevere mood swings that cause problems in relationships\\\\nDrastic changes in the student's behavior or personality\\\\nWhat Educators Can Do in Classrooms and Schools\\\\nYou can support the mental health of all students in your classroom and school, not just individual students who may exhibit behavioral issues. Consider the following actions:\\\\nLearn more about mental health by taking a mental health awareness training\\\\nPromote social and emotional competency and build resilience\\\\nHelp ensure a positive, safe school environment\\\\nTeach and reinforce positive behaviors and decision-making\\\\nEncourage helping others\\\", \\\"Talk to your child's doctor, school nurse, or another health care provider and seek further information about the behaviors or symptoms that worry you\\\\nAsk your child's primary care physician if your child needs further evaluation by a specialist with experience in child behavioral problems\\\\nAsk if your child's specialist is experienced in treating the problems you are observing\\\\nTalk to your medical provider about any medication and treatment plans\\\\nHow to Talk About Mental Health with Your Child\\\\nDo you need help starting a conversation with your child about mental health?Do you need help starting a conversation with your child about mental health?\\\\nTry leading with these questions, and actively listen to your child's response:\\\\nCan you tell me more about what is happening? How are you feeling?\\\\nHave you had feelings like this in the past?\\\\nSometimes you need to talk to an adult about your feelings. I'm here to listen. How can I help you feel better?\\\\nDo you feel like you want to talk to someone else about your problem?\\\\nI'm worried about your safety. Can you tell me if you have thoughts about harming yourself or others?When talking about mental health problems with your child you should:\\\\nWhen talking about mental health problems with your child you should:\\\\nCommunicate in a straightforward manner\\\\nSpeak at a level that is appropriate to a child or adolescent's age and development level (preschool children need fewer details than teenagers)\\\\nDiscuss the topic when your child feels safe and comfortable\\\\nWatch for reactions during the discussion and slow down or back up if your child becomes confused or looks upset\\\\nListen openly and let your child tell you about their feelings and worriesLearn More About Supporting Your Children\\\\nLearn More About Supporting Your Children\\\\nThere are many resources for parents and caregivers who want to know more about children's mental health. Learn more about:\\\\nRecognizing mental health problems in children\\\", \\\"I've been worried about you. Can we talk about what you are experiencing? If not, who are you comfortable talking to?\\\\nWhat can I do to help you to talk about issues with your parents or someone else who is responsible and cares about you?\\\\nWhat else can I help you with?\\\\nI am someone who cares and wants to listen. What do you want me to know about how you are feeling?\\\\nWho or what has helped you deal with similar issues in the past?\\\\nSometimes talking to someone who has dealt with a similar experience helps. Do you know of others who have experienced these types of problems who you can talk with?\\\\nIt seems like you are going through a difficult time. How can I help you to find help?\\\\nHow can I help you find more information about mental health problems?\\\\nI'm concerned about your safety. Have you thought about harming yourself or others?\\\\nWhen talking about mental health problems:\\\\nKnow how to\\\\nconnect people to help\\\\nCommunicate in a straightforward manner\\\\nSpeak at a level appropriate to a person's age and development level (preschool children need fewer details as compared to teenagers)\\\\nDiscuss the topic when and where the person feels safe and comfortable\\\\nWatch for reactions during the discussion and slow down or back up if the person becomes confused or looks upset\\\\nSometimes it is helpful to make a comparison to a physical illness. For example, many people get sick with a cold or the flu, but only a few get really sick with something serious like pneumonia. People who have a cold are usually able to do their normal activities. However, if they get pneumonia, they will have to take medicine and may have to go to the hospital.\\\", 'watching children go through challenges in their lives is difficult . on a very basic level , there exists a primal need to protect them from harm . the hard part for parents is letting them feel those challenges and working through them as they get older . at some point , there is a moment that occurs when the role as a parent shifts . children no longer need the basics ( food , shelter . water , safety ) as much as when they were toddlers , but rather , their needs shift to wanting more support , encouragement , advice , and room to make mistakes . this is where the ability to communicate with them , letting them direct the sails to gather the wind needed to move , is so important . keep the lines of communication open and be available to give feedback when they ask for it .']\"\n        ],\n        \"semantic_type\": \"\",\n        \"description\": \"\"\n      }\n    }\n  ]\n}"
            }
          },
          "metadata": {},
          "execution_count": 26
        }
      ]
    },
    {
      "cell_type": "code",
      "source": [
        "results = []\n",
        "\n",
        "for idx, row in tqdm(df.iterrows(), total=len(df), desc=\"Generating Responses\"):\n",
        "    question = row['Question']\n",
        "    ground_truth = row['Ground_Truth']\n",
        "    source = row['Source']\n",
        "    category = row['Category']\n",
        "    context = row['contexts']\n",
        "\n",
        "    rag_result = qa_chain.invoke(question)\n",
        "    rag_response = rag_result['result']\n",
        "\n",
        "    results.append({\n",
        "        \"Question\": question,\n",
        "        \"Ground_Truth\": ground_truth,\n",
        "        \"Source\": source,\n",
        "        \"Category\": category,\n",
        "        \"Context\": context,\n",
        "        \"rag_response\": rag_response\n",
        "    })\n",
        "\n",
        "results_df = pd.DataFrame(results)"
      ],
      "metadata": {
        "id": "EAWFS9X2AE6U"
      },
      "execution_count": null,
      "outputs": []
    },
    {
      "cell_type": "code",
      "source": [
        "results_df.to_csv(\"all-mpnet-base-v2-1000-100-responses.csv\")"
      ],
      "metadata": {
        "id": "8hvZiCCTDiaG"
      },
      "execution_count": null,
      "outputs": []
    },
    {
      "cell_type": "markdown",
      "source": [
        "Evaluation"
      ],
      "metadata": {
        "id": "Btbk6nDFRF2y"
      }
    },
    {
      "cell_type": "code",
      "source": [
        "eval_df = pd.read_csv(\"all-mpnet-base-v2-1000-100-responses.csv\")"
      ],
      "metadata": {
        "id": "RGHxjxLdNR8H"
      },
      "execution_count": null,
      "outputs": []
    },
    {
      "cell_type": "code",
      "source": [
        "eval_df"
      ],
      "metadata": {
        "colab": {
          "base_uri": "https://localhost:8080/",
          "height": 597
        },
        "id": "SsCUfHYDNR4Q",
        "outputId": "a55e203e-2862-44c4-834c-04ffb3fe1332"
      },
      "execution_count": null,
      "outputs": [
        {
          "output_type": "execute_result",
          "data": {
            "text/plain": [
              "                                             Question  \\\n",
              "0    What triggers Seasonal Affective Disorder (SAD)?   \n",
              "1       What are the health risks of bulimia nervosa?   \n",
              "2   How can someone with mental health problems ma...   \n",
              "3        What are the risk factors for schizophrenia?   \n",
              "4    How does schizophrenia impact daily functioning?   \n",
              "..                                                ...   \n",
              "95          How does untreated OCD impact daily life?   \n",
              "96  How can parents identify mental health concern...   \n",
              "97     Why do people develop social anxiety disorder?   \n",
              "98  What are signs a child may need mental health ...   \n",
              "99  What are some biological factors that contribu...   \n",
              "\n",
              "                                         Ground_Truth  \\\n",
              "0   SAD is triggered by seasonal changes, especial...   \n",
              "1   Risks include dental decay, dehydration, and s...   \n",
              "2   By finding trustworthy individuals who provide...   \n",
              "3   Risk factors include genetic predisposition an...   \n",
              "4   It affects work, socialization, and completing...   \n",
              "..                                                ...   \n",
              "95  It can lead to compulsions that dominate daily...   \n",
              "96  By observing signs like extreme sadness, withd...   \n",
              "97  It often develops due to genetics or negative ...   \n",
              "98  Signs include drastic mood swings, extreme fea...   \n",
              "99  Biological factors contributing to mental heal...   \n",
              "\n",
              "                                               Source        Category  \\\n",
              "0   https://www.samhsa.gov/mental-health/seasonal-...  Mental Illness   \n",
              "1   https://www.samhsa.gov/mental-health/eating-di...  Mental Illness   \n",
              "2   https://www.samhsa.gov/mental-health/how-to-ta...   Mental Health   \n",
              "3   https://www.samhsa.gov/mental-health/schizophr...  Mental Illness   \n",
              "4   https://www.samhsa.gov/mental-health/schizophr...  Mental Illness   \n",
              "..                                                ...             ...   \n",
              "95  https://www.samhsa.gov/mental-health/anxiety-d...         Anxiety   \n",
              "96  https://www.samhsa.gov/mental-health/how-to-ta...   Mental Health   \n",
              "97  https://www.samhsa.gov/mental-health/anxiety-d...         Anxiety   \n",
              "98  https://www.samhsa.gov/mental-health/how-to-ta...   Mental Health   \n",
              "99               https://www.samhsa.gov/mental-health   Mental Health   \n",
              "\n",
              "                                              Context  \\\n",
              "0   ['Seasonal affective disorder, or SAD, is a co...   \n",
              "1   ['It is common that binge eating will lead to ...   \n",
              "2   [\"Anyone can experience mental health problems...   \n",
              "3   ['Schizophrenia is a serious brain disorder th...   \n",
              "4   ['Schizophrenia is a serious brain disorder th...   \n",
              "..                                                ...   \n",
              "95  [\"counseling can be very effective for ocd . i...   \n",
              "96  [\"As a parent or caregiver, you want the best ...   \n",
              "97  ['Signs & Symptoms of Social Anxiety Disorder\\...   \n",
              "98  [\"As a parent or caregiver, you want the best ...   \n",
              "99  ['Mental health includes our emotional, psycho...   \n",
              "\n",
              "                                         rag_response  \n",
              "0   The context suggests that Seasonal Affective D...  \n",
              "1   The health risks of bulimia nervosa include ch...  \n",
              "2   Find someone who likes, respects, and trusts y...  \n",
              "3   According to the provided context, biological ...  \n",
              "4   Schizophrenia can be extremely disruptive to a...  \n",
              "..                                                ...  \n",
              "95       Left untreated, OCD can take over your life.  \n",
              "96  Parents can identify mental health concerns in...  \n",
              "97  According to the context, factors such as gene...  \n",
              "98  According to the provided context, signs a chi...  \n",
              "99  Biological factors, such as genes or brain che...  \n",
              "\n",
              "[100 rows x 6 columns]"
            ],
            "text/html": [
              "\n",
              "  <div id=\"df-74e5632e-d569-419a-afbb-66e9f5008468\" class=\"colab-df-container\">\n",
              "    <div>\n",
              "<style scoped>\n",
              "    .dataframe tbody tr th:only-of-type {\n",
              "        vertical-align: middle;\n",
              "    }\n",
              "\n",
              "    .dataframe tbody tr th {\n",
              "        vertical-align: top;\n",
              "    }\n",
              "\n",
              "    .dataframe thead th {\n",
              "        text-align: right;\n",
              "    }\n",
              "</style>\n",
              "<table border=\"1\" class=\"dataframe\">\n",
              "  <thead>\n",
              "    <tr style=\"text-align: right;\">\n",
              "      <th></th>\n",
              "      <th>Question</th>\n",
              "      <th>Ground_Truth</th>\n",
              "      <th>Source</th>\n",
              "      <th>Category</th>\n",
              "      <th>Context</th>\n",
              "      <th>rag_response</th>\n",
              "    </tr>\n",
              "  </thead>\n",
              "  <tbody>\n",
              "    <tr>\n",
              "      <th>0</th>\n",
              "      <td>What triggers Seasonal Affective Disorder (SAD)?</td>\n",
              "      <td>SAD is triggered by seasonal changes, especial...</td>\n",
              "      <td>https://www.samhsa.gov/mental-health/seasonal-...</td>\n",
              "      <td>Mental Illness</td>\n",
              "      <td>['Seasonal affective disorder, or SAD, is a co...</td>\n",
              "      <td>The context suggests that Seasonal Affective D...</td>\n",
              "    </tr>\n",
              "    <tr>\n",
              "      <th>1</th>\n",
              "      <td>What are the health risks of bulimia nervosa?</td>\n",
              "      <td>Risks include dental decay, dehydration, and s...</td>\n",
              "      <td>https://www.samhsa.gov/mental-health/eating-di...</td>\n",
              "      <td>Mental Illness</td>\n",
              "      <td>['It is common that binge eating will lead to ...</td>\n",
              "      <td>The health risks of bulimia nervosa include ch...</td>\n",
              "    </tr>\n",
              "    <tr>\n",
              "      <th>2</th>\n",
              "      <td>How can someone with mental health problems ma...</td>\n",
              "      <td>By finding trustworthy individuals who provide...</td>\n",
              "      <td>https://www.samhsa.gov/mental-health/how-to-ta...</td>\n",
              "      <td>Mental Health</td>\n",
              "      <td>[\"Anyone can experience mental health problems...</td>\n",
              "      <td>Find someone who likes, respects, and trusts y...</td>\n",
              "    </tr>\n",
              "    <tr>\n",
              "      <th>3</th>\n",
              "      <td>What are the risk factors for schizophrenia?</td>\n",
              "      <td>Risk factors include genetic predisposition an...</td>\n",
              "      <td>https://www.samhsa.gov/mental-health/schizophr...</td>\n",
              "      <td>Mental Illness</td>\n",
              "      <td>['Schizophrenia is a serious brain disorder th...</td>\n",
              "      <td>According to the provided context, biological ...</td>\n",
              "    </tr>\n",
              "    <tr>\n",
              "      <th>4</th>\n",
              "      <td>How does schizophrenia impact daily functioning?</td>\n",
              "      <td>It affects work, socialization, and completing...</td>\n",
              "      <td>https://www.samhsa.gov/mental-health/schizophr...</td>\n",
              "      <td>Mental Illness</td>\n",
              "      <td>['Schizophrenia is a serious brain disorder th...</td>\n",
              "      <td>Schizophrenia can be extremely disruptive to a...</td>\n",
              "    </tr>\n",
              "    <tr>\n",
              "      <th>...</th>\n",
              "      <td>...</td>\n",
              "      <td>...</td>\n",
              "      <td>...</td>\n",
              "      <td>...</td>\n",
              "      <td>...</td>\n",
              "      <td>...</td>\n",
              "    </tr>\n",
              "    <tr>\n",
              "      <th>95</th>\n",
              "      <td>How does untreated OCD impact daily life?</td>\n",
              "      <td>It can lead to compulsions that dominate daily...</td>\n",
              "      <td>https://www.samhsa.gov/mental-health/anxiety-d...</td>\n",
              "      <td>Anxiety</td>\n",
              "      <td>[\"counseling can be very effective for ocd . i...</td>\n",
              "      <td>Left untreated, OCD can take over your life.</td>\n",
              "    </tr>\n",
              "    <tr>\n",
              "      <th>96</th>\n",
              "      <td>How can parents identify mental health concern...</td>\n",
              "      <td>By observing signs like extreme sadness, withd...</td>\n",
              "      <td>https://www.samhsa.gov/mental-health/how-to-ta...</td>\n",
              "      <td>Mental Health</td>\n",
              "      <td>[\"As a parent or caregiver, you want the best ...</td>\n",
              "      <td>Parents can identify mental health concerns in...</td>\n",
              "    </tr>\n",
              "    <tr>\n",
              "      <th>97</th>\n",
              "      <td>Why do people develop social anxiety disorder?</td>\n",
              "      <td>It often develops due to genetics or negative ...</td>\n",
              "      <td>https://www.samhsa.gov/mental-health/anxiety-d...</td>\n",
              "      <td>Anxiety</td>\n",
              "      <td>['Signs &amp; Symptoms of Social Anxiety Disorder\\...</td>\n",
              "      <td>According to the context, factors such as gene...</td>\n",
              "    </tr>\n",
              "    <tr>\n",
              "      <th>98</th>\n",
              "      <td>What are signs a child may need mental health ...</td>\n",
              "      <td>Signs include drastic mood swings, extreme fea...</td>\n",
              "      <td>https://www.samhsa.gov/mental-health/how-to-ta...</td>\n",
              "      <td>Mental Health</td>\n",
              "      <td>[\"As a parent or caregiver, you want the best ...</td>\n",
              "      <td>According to the provided context, signs a chi...</td>\n",
              "    </tr>\n",
              "    <tr>\n",
              "      <th>99</th>\n",
              "      <td>What are some biological factors that contribu...</td>\n",
              "      <td>Biological factors contributing to mental heal...</td>\n",
              "      <td>https://www.samhsa.gov/mental-health</td>\n",
              "      <td>Mental Health</td>\n",
              "      <td>['Mental health includes our emotional, psycho...</td>\n",
              "      <td>Biological factors, such as genes or brain che...</td>\n",
              "    </tr>\n",
              "  </tbody>\n",
              "</table>\n",
              "<p>100 rows × 6 columns</p>\n",
              "</div>\n",
              "    <div class=\"colab-df-buttons\">\n",
              "\n",
              "  <div class=\"colab-df-container\">\n",
              "    <button class=\"colab-df-convert\" onclick=\"convertToInteractive('df-74e5632e-d569-419a-afbb-66e9f5008468')\"\n",
              "            title=\"Convert this dataframe to an interactive table.\"\n",
              "            style=\"display:none;\">\n",
              "\n",
              "  <svg xmlns=\"http://www.w3.org/2000/svg\" height=\"24px\" viewBox=\"0 -960 960 960\">\n",
              "    <path d=\"M120-120v-720h720v720H120Zm60-500h600v-160H180v160Zm220 220h160v-160H400v160Zm0 220h160v-160H400v160ZM180-400h160v-160H180v160Zm440 0h160v-160H620v160ZM180-180h160v-160H180v160Zm440 0h160v-160H620v160Z\"/>\n",
              "  </svg>\n",
              "    </button>\n",
              "\n",
              "  <style>\n",
              "    .colab-df-container {\n",
              "      display:flex;\n",
              "      gap: 12px;\n",
              "    }\n",
              "\n",
              "    .colab-df-convert {\n",
              "      background-color: #E8F0FE;\n",
              "      border: none;\n",
              "      border-radius: 50%;\n",
              "      cursor: pointer;\n",
              "      display: none;\n",
              "      fill: #1967D2;\n",
              "      height: 32px;\n",
              "      padding: 0 0 0 0;\n",
              "      width: 32px;\n",
              "    }\n",
              "\n",
              "    .colab-df-convert:hover {\n",
              "      background-color: #E2EBFA;\n",
              "      box-shadow: 0px 1px 2px rgba(60, 64, 67, 0.3), 0px 1px 3px 1px rgba(60, 64, 67, 0.15);\n",
              "      fill: #174EA6;\n",
              "    }\n",
              "\n",
              "    .colab-df-buttons div {\n",
              "      margin-bottom: 4px;\n",
              "    }\n",
              "\n",
              "    [theme=dark] .colab-df-convert {\n",
              "      background-color: #3B4455;\n",
              "      fill: #D2E3FC;\n",
              "    }\n",
              "\n",
              "    [theme=dark] .colab-df-convert:hover {\n",
              "      background-color: #434B5C;\n",
              "      box-shadow: 0px 1px 3px 1px rgba(0, 0, 0, 0.15);\n",
              "      filter: drop-shadow(0px 1px 2px rgba(0, 0, 0, 0.3));\n",
              "      fill: #FFFFFF;\n",
              "    }\n",
              "  </style>\n",
              "\n",
              "    <script>\n",
              "      const buttonEl =\n",
              "        document.querySelector('#df-74e5632e-d569-419a-afbb-66e9f5008468 button.colab-df-convert');\n",
              "      buttonEl.style.display =\n",
              "        google.colab.kernel.accessAllowed ? 'block' : 'none';\n",
              "\n",
              "      async function convertToInteractive(key) {\n",
              "        const element = document.querySelector('#df-74e5632e-d569-419a-afbb-66e9f5008468');\n",
              "        const dataTable =\n",
              "          await google.colab.kernel.invokeFunction('convertToInteractive',\n",
              "                                                    [key], {});\n",
              "        if (!dataTable) return;\n",
              "\n",
              "        const docLinkHtml = 'Like what you see? Visit the ' +\n",
              "          '<a target=\"_blank\" href=https://colab.research.google.com/notebooks/data_table.ipynb>data table notebook</a>'\n",
              "          + ' to learn more about interactive tables.';\n",
              "        element.innerHTML = '';\n",
              "        dataTable['output_type'] = 'display_data';\n",
              "        await google.colab.output.renderOutput(dataTable, element);\n",
              "        const docLink = document.createElement('div');\n",
              "        docLink.innerHTML = docLinkHtml;\n",
              "        element.appendChild(docLink);\n",
              "      }\n",
              "    </script>\n",
              "  </div>\n",
              "\n",
              "\n",
              "<div id=\"df-ca39aa8d-16e3-4be2-b35d-1f26c0e5a105\">\n",
              "  <button class=\"colab-df-quickchart\" onclick=\"quickchart('df-ca39aa8d-16e3-4be2-b35d-1f26c0e5a105')\"\n",
              "            title=\"Suggest charts\"\n",
              "            style=\"display:none;\">\n",
              "\n",
              "<svg xmlns=\"http://www.w3.org/2000/svg\" height=\"24px\"viewBox=\"0 0 24 24\"\n",
              "     width=\"24px\">\n",
              "    <g>\n",
              "        <path d=\"M19 3H5c-1.1 0-2 .9-2 2v14c0 1.1.9 2 2 2h14c1.1 0 2-.9 2-2V5c0-1.1-.9-2-2-2zM9 17H7v-7h2v7zm4 0h-2V7h2v10zm4 0h-2v-4h2v4z\"/>\n",
              "    </g>\n",
              "</svg>\n",
              "  </button>\n",
              "\n",
              "<style>\n",
              "  .colab-df-quickchart {\n",
              "      --bg-color: #E8F0FE;\n",
              "      --fill-color: #1967D2;\n",
              "      --hover-bg-color: #E2EBFA;\n",
              "      --hover-fill-color: #174EA6;\n",
              "      --disabled-fill-color: #AAA;\n",
              "      --disabled-bg-color: #DDD;\n",
              "  }\n",
              "\n",
              "  [theme=dark] .colab-df-quickchart {\n",
              "      --bg-color: #3B4455;\n",
              "      --fill-color: #D2E3FC;\n",
              "      --hover-bg-color: #434B5C;\n",
              "      --hover-fill-color: #FFFFFF;\n",
              "      --disabled-bg-color: #3B4455;\n",
              "      --disabled-fill-color: #666;\n",
              "  }\n",
              "\n",
              "  .colab-df-quickchart {\n",
              "    background-color: var(--bg-color);\n",
              "    border: none;\n",
              "    border-radius: 50%;\n",
              "    cursor: pointer;\n",
              "    display: none;\n",
              "    fill: var(--fill-color);\n",
              "    height: 32px;\n",
              "    padding: 0;\n",
              "    width: 32px;\n",
              "  }\n",
              "\n",
              "  .colab-df-quickchart:hover {\n",
              "    background-color: var(--hover-bg-color);\n",
              "    box-shadow: 0 1px 2px rgba(60, 64, 67, 0.3), 0 1px 3px 1px rgba(60, 64, 67, 0.15);\n",
              "    fill: var(--button-hover-fill-color);\n",
              "  }\n",
              "\n",
              "  .colab-df-quickchart-complete:disabled,\n",
              "  .colab-df-quickchart-complete:disabled:hover {\n",
              "    background-color: var(--disabled-bg-color);\n",
              "    fill: var(--disabled-fill-color);\n",
              "    box-shadow: none;\n",
              "  }\n",
              "\n",
              "  .colab-df-spinner {\n",
              "    border: 2px solid var(--fill-color);\n",
              "    border-color: transparent;\n",
              "    border-bottom-color: var(--fill-color);\n",
              "    animation:\n",
              "      spin 1s steps(1) infinite;\n",
              "  }\n",
              "\n",
              "  @keyframes spin {\n",
              "    0% {\n",
              "      border-color: transparent;\n",
              "      border-bottom-color: var(--fill-color);\n",
              "      border-left-color: var(--fill-color);\n",
              "    }\n",
              "    20% {\n",
              "      border-color: transparent;\n",
              "      border-left-color: var(--fill-color);\n",
              "      border-top-color: var(--fill-color);\n",
              "    }\n",
              "    30% {\n",
              "      border-color: transparent;\n",
              "      border-left-color: var(--fill-color);\n",
              "      border-top-color: var(--fill-color);\n",
              "      border-right-color: var(--fill-color);\n",
              "    }\n",
              "    40% {\n",
              "      border-color: transparent;\n",
              "      border-right-color: var(--fill-color);\n",
              "      border-top-color: var(--fill-color);\n",
              "    }\n",
              "    60% {\n",
              "      border-color: transparent;\n",
              "      border-right-color: var(--fill-color);\n",
              "    }\n",
              "    80% {\n",
              "      border-color: transparent;\n",
              "      border-right-color: var(--fill-color);\n",
              "      border-bottom-color: var(--fill-color);\n",
              "    }\n",
              "    90% {\n",
              "      border-color: transparent;\n",
              "      border-bottom-color: var(--fill-color);\n",
              "    }\n",
              "  }\n",
              "</style>\n",
              "\n",
              "  <script>\n",
              "    async function quickchart(key) {\n",
              "      const quickchartButtonEl =\n",
              "        document.querySelector('#' + key + ' button');\n",
              "      quickchartButtonEl.disabled = true;  // To prevent multiple clicks.\n",
              "      quickchartButtonEl.classList.add('colab-df-spinner');\n",
              "      try {\n",
              "        const charts = await google.colab.kernel.invokeFunction(\n",
              "            'suggestCharts', [key], {});\n",
              "      } catch (error) {\n",
              "        console.error('Error during call to suggestCharts:', error);\n",
              "      }\n",
              "      quickchartButtonEl.classList.remove('colab-df-spinner');\n",
              "      quickchartButtonEl.classList.add('colab-df-quickchart-complete');\n",
              "    }\n",
              "    (() => {\n",
              "      let quickchartButtonEl =\n",
              "        document.querySelector('#df-ca39aa8d-16e3-4be2-b35d-1f26c0e5a105 button');\n",
              "      quickchartButtonEl.style.display =\n",
              "        google.colab.kernel.accessAllowed ? 'block' : 'none';\n",
              "    })();\n",
              "  </script>\n",
              "</div>\n",
              "\n",
              "  <div id=\"id_6bba943a-8b0b-4c24-b6ba-0b24a4378635\">\n",
              "    <style>\n",
              "      .colab-df-generate {\n",
              "        background-color: #E8F0FE;\n",
              "        border: none;\n",
              "        border-radius: 50%;\n",
              "        cursor: pointer;\n",
              "        display: none;\n",
              "        fill: #1967D2;\n",
              "        height: 32px;\n",
              "        padding: 0 0 0 0;\n",
              "        width: 32px;\n",
              "      }\n",
              "\n",
              "      .colab-df-generate:hover {\n",
              "        background-color: #E2EBFA;\n",
              "        box-shadow: 0px 1px 2px rgba(60, 64, 67, 0.3), 0px 1px 3px 1px rgba(60, 64, 67, 0.15);\n",
              "        fill: #174EA6;\n",
              "      }\n",
              "\n",
              "      [theme=dark] .colab-df-generate {\n",
              "        background-color: #3B4455;\n",
              "        fill: #D2E3FC;\n",
              "      }\n",
              "\n",
              "      [theme=dark] .colab-df-generate:hover {\n",
              "        background-color: #434B5C;\n",
              "        box-shadow: 0px 1px 3px 1px rgba(0, 0, 0, 0.15);\n",
              "        filter: drop-shadow(0px 1px 2px rgba(0, 0, 0, 0.3));\n",
              "        fill: #FFFFFF;\n",
              "      }\n",
              "    </style>\n",
              "    <button class=\"colab-df-generate\" onclick=\"generateWithVariable('eval_df')\"\n",
              "            title=\"Generate code using this dataframe.\"\n",
              "            style=\"display:none;\">\n",
              "\n",
              "  <svg xmlns=\"http://www.w3.org/2000/svg\" height=\"24px\"viewBox=\"0 0 24 24\"\n",
              "       width=\"24px\">\n",
              "    <path d=\"M7,19H8.4L18.45,9,17,7.55,7,17.6ZM5,21V16.75L18.45,3.32a2,2,0,0,1,2.83,0l1.4,1.43a1.91,1.91,0,0,1,.58,1.4,1.91,1.91,0,0,1-.58,1.4L9.25,21ZM18.45,9,17,7.55Zm-12,3A5.31,5.31,0,0,0,4.9,8.1,5.31,5.31,0,0,0,1,6.5,5.31,5.31,0,0,0,4.9,4.9,5.31,5.31,0,0,0,6.5,1,5.31,5.31,0,0,0,8.1,4.9,5.31,5.31,0,0,0,12,6.5,5.46,5.46,0,0,0,6.5,12Z\"/>\n",
              "  </svg>\n",
              "    </button>\n",
              "    <script>\n",
              "      (() => {\n",
              "      const buttonEl =\n",
              "        document.querySelector('#id_6bba943a-8b0b-4c24-b6ba-0b24a4378635 button.colab-df-generate');\n",
              "      buttonEl.style.display =\n",
              "        google.colab.kernel.accessAllowed ? 'block' : 'none';\n",
              "\n",
              "      buttonEl.onclick = () => {\n",
              "        google.colab.notebook.generateWithVariable('eval_df');\n",
              "      }\n",
              "      })();\n",
              "    </script>\n",
              "  </div>\n",
              "\n",
              "    </div>\n",
              "  </div>\n"
            ],
            "application/vnd.google.colaboratory.intrinsic+json": {
              "type": "dataframe",
              "variable_name": "eval_df",
              "summary": "{\n  \"name\": \"eval_df\",\n  \"rows\": 100,\n  \"fields\": [\n    {\n      \"column\": \"Question\",\n      \"properties\": {\n        \"dtype\": \"string\",\n        \"num_unique_values\": 100,\n        \"samples\": [\n          \"How are phobias different from general anxiety?\",\n          \"How can someone help a person showing warning signs of suicide?\",\n          \"What causes self-harm behaviors?\"\n        ],\n        \"semantic_type\": \"\",\n        \"description\": \"\"\n      }\n    },\n    {\n      \"column\": \"Ground_Truth\",\n      \"properties\": {\n        \"dtype\": \"string\",\n        \"num_unique_values\": 100,\n        \"samples\": [\n          \"Phobias are irrational fears specific to certain objects or situations, unlike generalized anxiety which is ongoing and not situation-specific.\",\n          \"They can listen without judgment, ask directly about suicidal thoughts, stay with the person, and remove potential means of self-harm.\",\n          \"Causes include emotional distress and difficulty coping with negative feelings.\"\n        ],\n        \"semantic_type\": \"\",\n        \"description\": \"\"\n      }\n    },\n    {\n      \"column\": \"Source\",\n      \"properties\": {\n        \"dtype\": \"category\",\n        \"num_unique_values\": 13,\n        \"samples\": [\n          \"Counsel chat dataset\",\n          \"https://www.samhsa.gov/mental-health/suicide/prevention\",\n          \"https://www.samhsa.gov/mental-health/seasonal-affective-disorder\"\n        ],\n        \"semantic_type\": \"\",\n        \"description\": \"\"\n      }\n    },\n    {\n      \"column\": \"Category\",\n      \"properties\": {\n        \"dtype\": \"category\",\n        \"num_unique_values\": 5,\n        \"samples\": [\n          \"Mental Health\",\n          \"Depression\",\n          \"Anxiety\"\n        ],\n        \"semantic_type\": \"\",\n        \"description\": \"\"\n      }\n    },\n    {\n      \"column\": \"Context\",\n      \"properties\": {\n        \"dtype\": \"string\",\n        \"num_unique_values\": 98,\n        \"samples\": [\n          \"[\\\"this is certainly an important issue to look into , it is always helpful to speak with the child ' s pediatrician since they are most familiar with the child ' s developmental history . also , children tend to regress behaviorally when facing events and interactions they feel to have no control over , this can be as simple as a loss of a pet , a recent move , death in the family , and / or as serious as sexual abuse , and other things . if you have not spoken to the school that can be a good starting point .\\\", \\\"As a parent or caregiver, you want the best for your children or other dependents. You may be concerned or have questions about certain behaviors they exhibit and how to ensure they get help.\\\\nWhat to Look For\\\\nIt is important to be aware of warning signs that your child may be struggling. You can play a critical role in knowing when your child may need help.\\\\nConsult with a school counselor, school nurse, mental health provider, or another health care professional if your child shows one or more of the following behaviors:\\\\nFeeling very sad or withdrawn or easily irritated for more than two weeks\\\\nSeriously trying to harm or kill themselves, or making plans to do so\\\\nExperiencing sudden overwhelming fear for no reason, sometimes with a racing heart or fast breathing\\\\nGetting in many fights or wanting to hurt others\\\\nShowing severe out-of-control behavior that can hurt oneself or others\\\\nNot eating, throwing up, or using laxatives to make themselves lose weight\\\\nHaving intense worries or fears that get in the way of daily activities\\\\nExperiencing extreme difficulty controlling behavior, putting themselves in physical danger or causing problems in school\\\\nUsing drugs or alcohol\\\\nHaving severe mood swings that cause problems in relationships\\\\nShowing drastic changes in behavior or personality\\\\nA drop in their school performance\\\\nBecause children often can't understand difficult situations on their own, you should pay particular attention if they experience:\\\\nLoss of a loved one\\\\nDivorce or separation of their parents\\\\nAny major transition\\u2014new home, new school, etc.\\\\nTraumatic life experiences, like living through a natural disaster\\\\nTeasing or bullying\\\\nDifficulties in school or with classmates\\\\nWhat to Do\\\\nIf you are concerned about your child's behaviors, it is important to get appropriate care. You should:\\\\nTalk to your child's doctor, school nurse, or another health care provider and seek further information about the behaviors or symptoms that worry you\\\", 'watching children go through challenges in their lives is difficult . on a very basic level , there exists a primal need to protect them from harm . the hard part for parents is letting them feel those challenges and working through them as they get older . at some point , there is a moment that occurs when the role as a parent shifts . children no longer need the basics ( food , shelter . water , safety ) as much as when they were toddlers , but rather , their needs shift to wanting more support , encouragement , advice , and room to make mistakes . this is where the ability to communicate with them , letting them direct the sails to gather the wind needed to move , is so important . keep the lines of communication open and be available to give feedback when they ask for it .', 'hello . it sounds like you are really concerned about your daughter because you have noticed a significant change in her behavior . it \\\\' s really a great first step that you are reaching out to get some ideas about what might be going on . you are clearly an observant and hands on mom who wants to be sure that her daughter is ok . this is a tough question to answer without more information . with that said , i have found that \\\" under stress people regress . \\\" in other words , many people , children and adults alike , often regress and behave differently - as if they were younger than their actual age - when under stress . therefore , my first question would be : has anything been happening recently that is causing your daughter stress ? this could be anything from conflict at home , recent changes such as moving , divorce , a loss of some kind , switching schools , or losing a friend or friends . additionally , sometimes if children are feeling bullied or left out by same age peers , they may gravitate toward younger playmates as a way to boost their social confidence . i would suggest that you think about what stressors / changes may have occurred recently . you may also want to check in with her teacher ( s ) to see if they have noticed any', \\\"your daughter is fortunate to have an observant parent , who is willing to seek out help in this regard . regression can be indicative of some stress in your child ' s life , so the issues she is facing should be examined . seeking advice from your daughter ' s pediatrician , as well as a practitioner familiar with adolescent issues or perhaps play therapy can equip you with insight into the causes of the behavior , and give you tools to assist your daughter in learning age appropriate social interactions .\\\"]\",\n          \"['there are many possible issues to consider as depression social anxieties , even medical illness . for some , even grief creates a sense of isolation , pains from relationship break up . also , obsessive thinking can be debilitating . seeking at least one trusted friend or family member can be a start towards increased personal support . some persons may simply feel connected by spending time with someone as this , even if not talking directly on issues , just being around another is positive . obviously there is more to explore on this question , given minimal information from two sentences .', \\\"Risk and Protective Factors\\\\nRisk and protective factors affect an individual's chances of positive or negative outcomes, such as suicide. These factors occur at multiple levels of influence\\u2014such as the individual, relationship, community, and greater societal levels. The Social-Ecological Model shows that effective suicide prevention interventions are needed to address these factors at all levels.\\\\nRisk factors for suicide\\\\nat the individual level include untreated mental illness and substance misuse, while protective factors for suicide at this level include problem-solving and coping skills, positive self-esteem, and a sense of purpose in life.\\\\nRelationship-level risks\\\\ninclude family conflict, knowing someone who died by suicide (particularly a family members), and social isolation; protective factors include family connectedness and supportive friendships.\\\\nCommunity-level risks\\\\ninvolve community violence, historical trauma, and access to lethal means; and protective factors include access to behavioral health services, community or cultural beliefs that discourage suicide, and connectedness to community and social institutions.\\\\nSocietal-level risks\\\\ninclude stigma, racism, and discrimination, while examples of protective factors include cultural identification and policies such as anti-discrimination laws.\\\\nLearn more about\\\\nRisk and Protective Factors\\\\nfor suicide, and read the\\\\n2024 National Strategy for Suicide Prevention\\\\n.Suicide Resources\\\\nGeneral Resources\\\\nSAMHSA Publications\\\\nOther Federal Resources\\\\nData and Research\\\\nNational Survey on Drug Use and Health | SAMHSA\\\\n2024 National Strategy for Suicide Prevention\\\\nGeneral Resources\\\\nSuicide Prevention Resource Center\\\\nSuicide Topics and Term Definitions | SPRC\\\\nPrevention and Education\\\\nSuicide Prevention |\\\\xa0NIMH\\\\nCDC\\u2019s Suicide Prevention Month: Partner Toolkit\\\\nSuicide Prevention | WHO\\\\nSuicide and Suicidal Behavior\\\\n#BeThe1To\\\\nThere Is Help and That We Are Not Alone | We R Native\\\", 'Suicide Prevention |\\\\xa0NIMH\\\\nCDC\\u2019s Suicide Prevention Month: Partner Toolkit\\\\nSuicide Prevention | WHO\\\\nSuicide and Suicidal Behavior\\\\n#BeThe1To\\\\nThere Is Help and That We Are Not Alone | We R Native\\\\nSuicide in America: Frequently Asked Questions | NIMH\\\\nPreventing Suicide: A Toolkit for High Schools\\\\nEarly Intervention\\\\nWhat to Do if You\\u2019re Concerned About Your Teen\\u2019s Mental Health: A Conversation Guide | The Jed Foundation (PDF | 617 KB)\\\\nYouth Mental Health First Aid\\\\n#chatsafe A Young Person\\u2019s Guide for Communicating Safely Online About Suicide (PDF | 6.7 MB)\\\\nI Want to Help My Friend | The Jed Foundation\\\\nSeize the Awkward\\\\nWhen Your Friend Is Talking About Suicide | We R Native\\\\nCrisis, Treatment, and Support Services\\\\n988 Suicide & Crisis Lifeline\\\\nTreatment for Suicidal Ideation, Self-harm, and Suicide Attempts Among Youth | SAMHSA\\\\nAdvisory: Addressing Suicidal Thoughts and Behaviors in Substance Use Treatment | SAMHSA\\\\nHelping Your Loved One Who is Suicidal: A Guide for Family and Friends | SAMHSA\\\\nRecovery and Postvention\\\\nAfter an Attempt: A Guide for Taking Care of Your Family Member After Treatment in the Emergency Department | SAMHSA\\\\nProvide for Immediate and Long-Term Postvention\\\\nRecovery and Recovery Support\\\\nSpecific Populations\\\\nHelp Yourself | 988 Suicide & Crisis Lifeline\\\\nThere Is Help and That We Are Not Alone | We R Native\\\\nSuicide Prevention in American Indian/Alaska Native Communities | SPRC\\\\nSuicide Prevention and Care | IHS\\\\nService Members, Veterans, and their Families Technical Assistance (SMVF TA) Center | SAMHSA\\\\nSuicide in Rural America | CDC\\\\nPopulations\\\\xa0\\u2013 Suicide Prevention Resource Center\\\\nRing the Alarm: The Crisis of Black Youth Suicide in America\\\\nHelping Your Loved One Who is Suicidal: A Guide for Family and Friends\\\\nAdvisory: Addressing Suicidal Thoughts and Behaviors in Substance Use Treatment\\\\nTreatment for Suicidal Ideation, Self-harm, and Suicide Attempts Among Youth', 'Advisory: Addressing Suicidal Thoughts and Behaviors in Substance Use Treatment\\\\nTreatment for Suicidal Ideation, Self-harm, and Suicide Attempts Among Youth\\\\nPrevention and Treatment of Anxiety, Depression, and Suicidal Thoughts and Behaviors Among College Students\\\\nAfter an Attempt: A Guide for Taking Care of Your Family Member After Treatment in the Emergency Department\\\\nAfter an Attempt: A Guide for Medical Providers in the Emergency Department\\\\nSuicide Prevention Publications\\\\nSuicide Safe Mobile App\\\\nNational Survey on Drug Use and Health\\\\nSuicide and Self-Harm FastStats | CDC\\\\nSuicide: Additional Resources | CDC\\\\nSuicide Rising Across America | CDC (PDF | 824 KB)\\\\nSuicide Prevention Month: Partner Toolkit | CDC\\\\nSuicide in America: Frequently Asked Questions | NIMH\\\\nGeneral Resources\\\\nData and Research\\\\nNational Survey on Drug Use and Health | SAMHSA\\\\n2024 National Strategy for Suicide Prevention\\\\nGeneral Resources\\\\nSuicide Prevention Resource Center\\\\nSuicide Topics and Term Definitions | SPRC\\\\nPrevention and Education\\\\nSuicide Prevention |\\\\xa0NIMH\\\\nCDC\\u2019s Suicide Prevention Month: Partner Toolkit\\\\nSuicide Prevention | WHO\\\\nSuicide and Suicidal Behavior\\\\n#BeThe1To\\\\nThere Is Help and That We Are Not Alone | We R Native\\\\nSuicide in America: Frequently Asked Questions | NIMH\\\\nPreventing Suicide: A Toolkit for High Schools\\\\nEarly Intervention\\\\nWhat to Do if You\\u2019re Concerned About Your Teen\\u2019s Mental Health: A Conversation Guide | The Jed Foundation (PDF | 617 KB)\\\\nYouth Mental Health First Aid\\\\n#chatsafe A Young Person\\u2019s Guide for Communicating Safely Online About Suicide (PDF | 6.7 MB)\\\\nI Want to Help My Friend | The Jed Foundation\\\\nSeize the Awkward\\\\nWhen Your Friend Is Talking About Suicide | We R Native\\\\nCrisis, Treatment, and Support Services\\\\n988 Suicide & Crisis Lifeline\\\\nTreatment for Suicidal Ideation, Self-harm, and Suicide Attempts Among Youth | SAMHSA\\\\nAdvisory: Addressing Suicidal Thoughts and Behaviors in Substance Use Treatment | SAMHSA', 'Mental health includes our emotional, psychological, and social well-being. It affects how we think, feel, and act, and helps determine how we handle stress, relate to others, and make choices.\\\\nMental health is important at every stage of life, from childhood and adolescence through adulthood. Over the course of your life, if you experience\\\\nmental health problems, your thinking, mood, and behavior could be affected.\\\\nMental Health Conditions\\\\nMental illnesses are disorders, ranging from mild to severe, that affect a person\\u2019s thinking, mood, and/or behavior. According to the National Institute of Mental Health, nearly one-in-five adults live with a mental illness.\\\\nMany factors contribute to mental health conditions, including:\\\\nBiological factors, such as genes or brain chemistry\\\\nLife experiences, such as trauma or abuse\\\\nFamily history of mental health problems\\\\n\\\\nSome mental health topics include:\\\\nAntisocial personality disorder\\\\nAnxiety disorders\\\\n(including generalized anxiety, panic disorders, obsessive-compulsive disorder (OCD), phobias, and social anxiety)\\\\nAttention-deficit hyperactivity disorder (ADHD)\\\\nBipolar disorder\\\\nBorderline personality disorder (BPD)\\\\nDepression\\\\nEating disorders\\\\n(including anorexia nervosa, binge eating disorder, and bulimia nervosa)\\\\nPost-traumatic stress disorder (PTSD)\\\\nSchizophrenia\\\\nSeasonal affective disorder (SAD)\\\\nSelf-harm\\\\nSuicide and suicidal behavior']\",\n          \"[\\\"As a parent or caregiver, you want the best for your children or other dependents. You may be concerned or have questions about certain behaviors they exhibit and how to ensure they get help.\\\\nWhat to Look For\\\\nIt is important to be aware of warning signs that your child may be struggling. You can play a critical role in knowing when your child may need help.\\\\nConsult with a school counselor, school nurse, mental health provider, or another health care professional if your child shows one or more of the following behaviors:\\\\nFeeling very sad or withdrawn or easily irritated for more than two weeks\\\\nSeriously trying to harm or kill themselves, or making plans to do so\\\\nExperiencing sudden overwhelming fear for no reason, sometimes with a racing heart or fast breathing\\\\nGetting in many fights or wanting to hurt others\\\\nShowing severe out-of-control behavior that can hurt oneself or others\\\\nNot eating, throwing up, or using laxatives to make themselves lose weight\\\\nHaving intense worries or fears that get in the way of daily activities\\\\nExperiencing extreme difficulty controlling behavior, putting themselves in physical danger or causing problems in school\\\\nUsing drugs or alcohol\\\\nHaving severe mood swings that cause problems in relationships\\\\nShowing drastic changes in behavior or personality\\\\nA drop in their school performance\\\\nBecause children often can't understand difficult situations on their own, you should pay particular attention if they experience:\\\\nLoss of a loved one\\\\nDivorce or separation of their parents\\\\nAny major transition\\u2014new home, new school, etc.\\\\nTraumatic life experiences, like living through a natural disaster\\\\nTeasing or bullying\\\\nDifficulties in school or with classmates\\\\nWhat to Do\\\\nIf you are concerned about your child's behaviors, it is important to get appropriate care. You should:\\\\nTalk to your child's doctor, school nurse, or another health care provider and seek further information about the behaviors or symptoms that worry you\\\", \\\"Educators are often the first to notice mental health problems in children and young adults. Here are some ways you can help your students and their families.\\\\nWhat Educators Should Know\\\\nYou should know:\\\\nThe\\\\nwarning signs\\\\nfor mental health problems.\\\\nHow to promote\\\\nmental health and substance use prevention\\\\nin schools and on campuses.\\\\nWhom to turn to, such as the principal, school nurse, school psychiatrist or psychologist, or school social worker, if you have questions or concerns about a student's behavior.\\\\nHow to access\\\\ncrisis support and other mental health services\\\\n.\\\\nWhat Educators Should Look for in Student Behavior\\\\nConsult with a school counselor, nurse, or administrator and the student's parents if you observe one or more of the following behaviors:\\\\nFeeling very sad or withdrawn for more than two weeks\\\\nSeriously trying to harm oneself, or making plans to do so\\\\nSudden overwhelming fear for no reason, sometimes with a racing heart or fast breathing\\\\nInvolvement in many fights or desire to badly hurt others\\\\nSevere out-of-control behavior that can hurt oneself or others\\\\nNot eating, throwing up, or using laxatives to make oneself lose weight\\\\nIntense worries or fears that get in the way of daily activities\\\\nExtreme difficulty concentrating or staying still that puts the student in physical danger or causes problems in the classroom\\\\nRepeated use of drugs or alcohol\\\\nSevere mood swings that cause problems in relationships\\\\nDrastic changes in the student's behavior or personality\\\\nWhat Educators Can Do in Classrooms and Schools\\\\nYou can support the mental health of all students in your classroom and school, not just individual students who may exhibit behavioral issues. Consider the following actions:\\\\nLearn more about mental health by taking a mental health awareness training\\\\nPromote social and emotional competency and build resilience\\\\nHelp ensure a positive, safe school environment\\\\nTeach and reinforce positive behaviors and decision-making\\\\nEncourage helping others\\\", \\\"Talk to your child's doctor, school nurse, or another health care provider and seek further information about the behaviors or symptoms that worry you\\\\nAsk your child's primary care physician if your child needs further evaluation by a specialist with experience in child behavioral problems\\\\nAsk if your child's specialist is experienced in treating the problems you are observing\\\\nTalk to your medical provider about any medication and treatment plans\\\\nHow to Talk About Mental Health with Your Child\\\\nDo you need help starting a conversation with your child about mental health?Do you need help starting a conversation with your child about mental health?\\\\nTry leading with these questions, and actively listen to your child's response:\\\\nCan you tell me more about what is happening? How are you feeling?\\\\nHave you had feelings like this in the past?\\\\nSometimes you need to talk to an adult about your feelings. I'm here to listen. How can I help you feel better?\\\\nDo you feel like you want to talk to someone else about your problem?\\\\nI'm worried about your safety. Can you tell me if you have thoughts about harming yourself or others?When talking about mental health problems with your child you should:\\\\nWhen talking about mental health problems with your child you should:\\\\nCommunicate in a straightforward manner\\\\nSpeak at a level that is appropriate to a child or adolescent's age and development level (preschool children need fewer details than teenagers)\\\\nDiscuss the topic when your child feels safe and comfortable\\\\nWatch for reactions during the discussion and slow down or back up if your child becomes confused or looks upset\\\\nListen openly and let your child tell you about their feelings and worriesLearn More About Supporting Your Children\\\\nLearn More About Supporting Your Children\\\\nThere are many resources for parents and caregivers who want to know more about children's mental health. Learn more about:\\\\nRecognizing mental health problems in children\\\", \\\"I've been worried about you. Can we talk about what you are experiencing? If not, who are you comfortable talking to?\\\\nWhat can I do to help you to talk about issues with your parents or someone else who is responsible and cares about you?\\\\nWhat else can I help you with?\\\\nI am someone who cares and wants to listen. What do you want me to know about how you are feeling?\\\\nWho or what has helped you deal with similar issues in the past?\\\\nSometimes talking to someone who has dealt with a similar experience helps. Do you know of others who have experienced these types of problems who you can talk with?\\\\nIt seems like you are going through a difficult time. How can I help you to find help?\\\\nHow can I help you find more information about mental health problems?\\\\nI'm concerned about your safety. Have you thought about harming yourself or others?\\\\nWhen talking about mental health problems:\\\\nKnow how to\\\\nconnect people to help\\\\nCommunicate in a straightforward manner\\\\nSpeak at a level appropriate to a person's age and development level (preschool children need fewer details as compared to teenagers)\\\\nDiscuss the topic when and where the person feels safe and comfortable\\\\nWatch for reactions during the discussion and slow down or back up if the person becomes confused or looks upset\\\\nSometimes it is helpful to make a comparison to a physical illness. For example, many people get sick with a cold or the flu, but only a few get really sick with something serious like pneumonia. People who have a cold are usually able to do their normal activities. However, if they get pneumonia, they will have to take medicine and may have to go to the hospital.\\\", 'watching children go through challenges in their lives is difficult . on a very basic level , there exists a primal need to protect them from harm . the hard part for parents is letting them feel those challenges and working through them as they get older . at some point , there is a moment that occurs when the role as a parent shifts . children no longer need the basics ( food , shelter . water , safety ) as much as when they were toddlers , but rather , their needs shift to wanting more support , encouragement , advice , and room to make mistakes . this is where the ability to communicate with them , letting them direct the sails to gather the wind needed to move , is so important . keep the lines of communication open and be available to give feedback when they ask for it .']\"\n        ],\n        \"semantic_type\": \"\",\n        \"description\": \"\"\n      }\n    },\n    {\n      \"column\": \"rag_response\",\n      \"properties\": {\n        \"dtype\": \"string\",\n        \"num_unique_values\": 98,\n        \"samples\": [\n          \"It is important to be aware of warning signs that your child may be struggling. You can play a critical role in knowing when your child may need help.... It is always helpful to speak with the child's pediatrician since they are most familiar with the child's developmental history. Children tend to regress behaviorally when facing events and interactions they feel to have no control over... If you have not spoken to the school that can be a good starting point. \",\n          \"Treatment plans can include medication, psychotherapy, trainings, education, or a combination of these.\",\n          \"Parents can identify mental health concerns in children by being aware of warning signs such as feeling very sad or withdrawn for more than two weeks, seriously trying to harm oneself, or experiencing sudden overwhelming fear for no reason. They should also consult with a school counselor, nurse, or mental health provider if they observe these behaviors in their child. Additionally, parents should look for drastic changes in behavior or personality, loss of interest in activities, or significant decline in academic performance, which could indicate mental health concerns. \"\n        ],\n        \"semantic_type\": \"\",\n        \"description\": \"\"\n      }\n    }\n  ]\n}"
            }
          },
          "metadata": {},
          "execution_count": 2
        }
      ]
    },
    {
      "cell_type": "code",
      "source": [
        "eval_df = eval_df.to_dict(orient='records')"
      ],
      "metadata": {
        "id": "d_2N-SvOBYqu"
      },
      "execution_count": null,
      "outputs": []
    },
    {
      "cell_type": "code",
      "source": [
        "# Evaluation prompt\n",
        "evaluation_prompt = \"\"\"\n",
        "### Task Description:\n",
        "You are provided with an instruction (or query), a response to evaluate, a reference answer that represents an ideal response, and evaluation criteria. Additionally, you are given responses from a RAG model: a RAG response. Your task is to evaluate and compare the RAG response with the reference answer based on the provided criteria.\n",
        "\n",
        "1. Assess the quality of the response strictly based on the given rubric and criteria (relevance, semantic similarity, accuracy, factual correctness, completeness, clarity, and conciseness), not general impressions.\n",
        "2. Write short feedback for each response based on the rubric, highlighting strengths and weaknesses for each criterion.\n",
        "3. Provide feedback in the specified format.\n",
        "4. Finally, assign an overall score out of 10 for RAG response.\n",
        "\n",
        "\n",
        "### The instruction to evaluate:\n",
        "{Question}\n",
        "\n",
        "### RAG Response:\n",
        "{rag_response}\n",
        "\n",
        "### Reference Answer:\n",
        "{Ground_Truth}\n",
        "\n",
        "### Rubric for Individual Criteria:\n",
        "- **Relevance**: How effectively does the response address the specific requirements or intent of the query?\n",
        "- **Semantic Similarity**: To what extent does the response capture the meaning or intent of the reference answer, even if the phrasing differs?\n",
        "- **Accuracy**: Does the response provide correct and logically sound information in relation to the query?\n",
        "- **Factual Correctness**: Are the facts presented in the response verified and consistent with reliable sources or the reference answer?\n",
        "- **Completeness**: Does the response thoroughly cover all essential aspects of the query without omitting critical information?\n",
        "- **Clarity**: Is the response expressed in a manner that is straightforward, unambiguous, and easy to comprehend?\n",
        "- **Conciseness**: Does the response convey the necessary information succinctly, avoiding extraneous details or redundancy?\n",
        "\n",
        "### Output Format:\n",
        "Feedback:\n",
        "- RAG Response:\n",
        "    - Relevance: {{feedback}}\n",
        "    - Semantic Similarity: {{feedback}}\n",
        "    - Accuracy: {{feedback}}\n",
        "    - Factual Correctness: {{feedback}}\n",
        "    - Completeness: {{feedback}}\n",
        "    - Clarity: {{feedback}}\n",
        "    - Conciseness: {{feedback}}\n",
        "\n",
        "### Overall Scores:\n",
        "- RAG Overall Score: {{integer between 1 and 10}}\n",
        "\"\"\""
      ],
      "metadata": {
        "id": "YVZdmyrs8eIA"
      },
      "execution_count": null,
      "outputs": []
    },
    {
      "cell_type": "code",
      "source": [
        "import openai"
      ],
      "metadata": {
        "id": "HwaLnODeAN_E"
      },
      "execution_count": null,
      "outputs": []
    },
    {
      "cell_type": "code",
      "source": [
        "!pip install openai"
      ],
      "metadata": {
        "colab": {
          "base_uri": "https://localhost:8080/"
        },
        "id": "lTRZ1c0niCWM",
        "outputId": "6f01d753-3794-4104-92f7-2f5a8e539362"
      },
      "execution_count": null,
      "outputs": [
        {
          "output_type": "stream",
          "name": "stdout",
          "text": [
            "Requirement already satisfied: openai in /usr/local/lib/python3.10/dist-packages (1.54.5)\n",
            "Requirement already satisfied: anyio<5,>=3.5.0 in /usr/local/lib/python3.10/dist-packages (from openai) (3.7.1)\n",
            "Requirement already satisfied: distro<2,>=1.7.0 in /usr/local/lib/python3.10/dist-packages (from openai) (1.9.0)\n",
            "Requirement already satisfied: httpx<1,>=0.23.0 in /usr/local/lib/python3.10/dist-packages (from openai) (0.27.2)\n",
            "Requirement already satisfied: jiter<1,>=0.4.0 in /usr/local/lib/python3.10/dist-packages (from openai) (0.8.0)\n",
            "Requirement already satisfied: pydantic<3,>=1.9.0 in /usr/local/lib/python3.10/dist-packages (from openai) (2.10.3)\n",
            "Requirement already satisfied: sniffio in /usr/local/lib/python3.10/dist-packages (from openai) (1.3.1)\n",
            "Requirement already satisfied: tqdm>4 in /usr/local/lib/python3.10/dist-packages (from openai) (4.66.6)\n",
            "Requirement already satisfied: typing-extensions<5,>=4.11 in /usr/local/lib/python3.10/dist-packages (from openai) (4.12.2)\n",
            "Requirement already satisfied: idna>=2.8 in /usr/local/lib/python3.10/dist-packages (from anyio<5,>=3.5.0->openai) (3.10)\n",
            "Requirement already satisfied: exceptiongroup in /usr/local/lib/python3.10/dist-packages (from anyio<5,>=3.5.0->openai) (1.2.2)\n",
            "Requirement already satisfied: certifi in /usr/local/lib/python3.10/dist-packages (from httpx<1,>=0.23.0->openai) (2024.8.30)\n",
            "Requirement already satisfied: httpcore==1.* in /usr/local/lib/python3.10/dist-packages (from httpx<1,>=0.23.0->openai) (1.0.7)\n",
            "Requirement already satisfied: h11<0.15,>=0.13 in /usr/local/lib/python3.10/dist-packages (from httpcore==1.*->httpx<1,>=0.23.0->openai) (0.14.0)\n",
            "Requirement already satisfied: annotated-types>=0.6.0 in /usr/local/lib/python3.10/dist-packages (from pydantic<3,>=1.9.0->openai) (0.7.0)\n",
            "Requirement already satisfied: pydantic-core==2.27.1 in /usr/local/lib/python3.10/dist-packages (from pydantic<3,>=1.9.0->openai) (2.27.1)\n"
          ]
        }
      ]
    },
    {
      "cell_type": "code",
      "source": [
        "!pip install httpx==0.27.2"
      ],
      "metadata": {
        "colab": {
          "base_uri": "https://localhost:8080/"
        },
        "id": "2XduFq0Fjw7m",
        "outputId": "5922a18f-48d1-434d-c21c-f9ec1692c603"
      },
      "execution_count": null,
      "outputs": [
        {
          "output_type": "stream",
          "name": "stdout",
          "text": [
            "Requirement already satisfied: httpx==0.27.2 in /usr/local/lib/python3.10/dist-packages (0.27.2)\n",
            "Requirement already satisfied: anyio in /usr/local/lib/python3.10/dist-packages (from httpx==0.27.2) (3.7.1)\n",
            "Requirement already satisfied: certifi in /usr/local/lib/python3.10/dist-packages (from httpx==0.27.2) (2024.8.30)\n",
            "Requirement already satisfied: httpcore==1.* in /usr/local/lib/python3.10/dist-packages (from httpx==0.27.2) (1.0.7)\n",
            "Requirement already satisfied: idna in /usr/local/lib/python3.10/dist-packages (from httpx==0.27.2) (3.10)\n",
            "Requirement already satisfied: sniffio in /usr/local/lib/python3.10/dist-packages (from httpx==0.27.2) (1.3.1)\n",
            "Requirement already satisfied: h11<0.15,>=0.13 in /usr/local/lib/python3.10/dist-packages (from httpcore==1.*->httpx==0.27.2) (0.14.0)\n",
            "Requirement already satisfied: exceptiongroup in /usr/local/lib/python3.10/dist-packages (from anyio->httpx==0.27.2) (1.2.2)\n"
          ]
        }
      ]
    },
    {
      "cell_type": "code",
      "source": [
        "from openai import OpenAI\n",
        "\n",
        "client = OpenAI(api_key = \"YOUR_API_KEY\") # Replace with your api key"
      ],
      "metadata": {
        "id": "42FdTlgzCmkj"
      },
      "execution_count": null,
      "outputs": []
    },
    {
      "cell_type": "code",
      "source": [
        "import re\n",
        "\n",
        "def evaluate_responses(instruction, rag_response, reference_answer):\n",
        "    prompt = evaluation_prompt.format(\n",
        "        Question=instruction,\n",
        "        rag_response=rag_response,\n",
        "        Ground_Truth=reference_answer\n",
        "    )\n",
        "\n",
        "    response = client.chat.completions.create(\n",
        "        model=\"gpt-4o-mini\",\n",
        "        messages=[\n",
        "            {\"role\": \"system\", \"content\": \"You are a helpful assistant evaluating model responses.\"},\n",
        "            {\"role\": \"user\", \"content\": prompt}\n",
        "        ],\n",
        "        max_tokens=1000,\n",
        "        temperature=0.5\n",
        "    )\n",
        "\n",
        "    s = response.choices[0].message.content\n",
        "    print(\"Evaluation Output:\")\n",
        "    print(s)\n",
        "\n",
        "    rag_score = re.search(r'RAG Overall Score: (\\d+)', s).group(1).strip()\n",
        "\n",
        "    return int(rag_score)\n",
        "\n",
        "evaluations = []\n",
        "for data in tqdm(eval_df, desc=\"Evaluating responses\", unit=\"sample\"):\n",
        "    instruction = data[\"Question\"]\n",
        "    rag_response = data[\"rag_response\"]\n",
        "    reference_answer = data[\"Ground_Truth\"]\n",
        "\n",
        "\n",
        "    rag_score = evaluate_responses(\n",
        "        instruction, rag_response, reference_answer\n",
        "    )\n",
        "\n",
        "    evaluations.append({\n",
        "        \"Question\": instruction,\n",
        "        \"Ground_Truth\": reference_answer,\n",
        "        \"Source\": data[\"Source\"],\n",
        "        \"Category\": data[\"Category\"],\n",
        "        \"Context\": data[\"Context\"],\n",
        "        \"rag_response\": rag_response,\n",
        "        \"RAG_Score\": rag_score,\n",
        "    })"
      ],
      "metadata": {
        "colab": {
          "base_uri": "https://localhost:8080/"
        },
        "id": "N_0zZMytAGhA",
        "outputId": "d271227f-7b84-4db6-dfce-63fa2a83dbc1"
      },
      "execution_count": null,
      "outputs": [
        {
          "output_type": "stream",
          "name": "stderr",
          "text": [
            "Evaluating responses:   1%|          | 1/100 [00:02<04:12,  2.55s/sample]"
          ]
        },
        {
          "output_type": "stream",
          "name": "stdout",
          "text": [
            "Evaluation Output:\n",
            "Feedback:\n",
            "- RAG Response:\n",
            "    - Relevance: The response effectively addresses the query by identifying the seasonal changes that trigger SAD. However, it could be more direct in linking the decrease in sunlight specifically to the condition.\n",
            "    - Semantic Similarity: The response captures the essence of the reference answer, noting the importance of seasonal changes and reduced sunlight, though it elaborates further than necessary.\n",
            "    - Accuracy: The information provided is accurate, explaining how decreased sunlight can disrupt circadian rhythms and affect serotonin levels.\n",
            "    - Factual Correctness: The facts presented are consistent with reliable sources regarding SAD, confirming the role of sunlight in triggering the disorder.\n",
            "    - Completeness: While the response includes relevant details about circadian rhythms and serotonin, it may include more information than necessary for the question, which primarily asks about triggers.\n",
            "    - Clarity: The response is clear and understandable, but it could be more concise to improve clarity by focusing solely on the main triggers.\n",
            "    - Conciseness: The response includes some extraneous details that, while informative, could be omitted for a more succinct answer.\n",
            "\n",
            "### Overall Scores:\n",
            "- RAG Overall Score: 7\n"
          ]
        },
        {
          "output_type": "stream",
          "name": "stderr",
          "text": [
            "\rEvaluating responses:   2%|▏         | 2/100 [00:05<04:24,  2.70s/sample]"
          ]
        },
        {
          "output_type": "stream",
          "name": "stdout",
          "text": [
            "Evaluation Output:\n",
            "Feedback:\n",
            "- RAG Response:\n",
            "    - Relevance: The response is relevant as it directly addresses the health risks associated with bulimia nervosa, aligning well with the query.\n",
            "    - Semantic Similarity: The response captures the intent of the reference answer but includes additional details, which slightly diverges from the brevity of the reference.\n",
            "    - Accuracy: The information provided is accurate; it correctly identifies health risks associated with bulimia nervosa.\n",
            "    - Factual Correctness: The facts presented are consistent with known health risks related to bulimia nervosa, making it factually correct.\n",
            "    - Completeness: The response includes several health risks, which adds to its completeness compared to the reference answer, though it could have mentioned other risks for a more comprehensive overview.\n",
            "    - Clarity: The response is clear and easy to understand, with no ambiguity in the expression of the health risks.\n",
            "    - Conciseness: While the response is mostly concise, it could be considered slightly verbose compared to the more succinct reference answer.\n",
            "\n",
            "### Overall Scores:\n",
            "- RAG Overall Score: 8\n"
          ]
        },
        {
          "output_type": "stream",
          "name": "stderr",
          "text": [
            "\rEvaluating responses:   3%|▎         | 3/100 [00:08<04:39,  2.88s/sample]"
          ]
        },
        {
          "output_type": "stream",
          "name": "stdout",
          "text": [
            "Evaluation Output:\n",
            "Feedback:\n",
            "- RAG Response:\n",
            "    - Relevance: The response is relevant as it addresses the query about maintaining a support system for individuals with mental health problems. However, it could benefit from a broader perspective on the types of support available.\n",
            "    - Semantic Similarity: The response captures some key elements of the reference answer, such as the importance of trust and respect, but it does not fully align with the emphasis on confidentiality and growth mentioned in the reference.\n",
            "    - Accuracy: The advice given is generally sound, emphasizing the importance of mutual respect and trust, which is accurate in the context of building a support system.\n",
            "    - Factual Correctness: The information presented does not contain any factual inaccuracies but lacks depth in explaining how to find and maintain these relationships.\n",
            "    - Completeness: The response is somewhat incomplete as it does not cover all essential aspects, such as the importance of confidentiality and the allowance for personal growth and mistakes, which are crucial in a support system.\n",
            "    - Clarity: The response is clear and straightforward, making it easy to understand the basic idea of finding trustworthy individuals for support.\n",
            "    - Conciseness: The response is concise, effectively communicating the main idea without unnecessary details, though it could expand on the process of maintaining a support system.\n",
            "\n",
            "### Overall Scores:\n",
            "- RAG Overall Score: 6\n"
          ]
        },
        {
          "output_type": "stream",
          "name": "stderr",
          "text": [
            "\rEvaluating responses:   4%|▍         | 4/100 [00:10<04:11,  2.62s/sample]"
          ]
        },
        {
          "output_type": "stream",
          "name": "stdout",
          "text": [
            "Evaluation Output:\n",
            "Feedback:\n",
            "- RAG Response:\n",
            "    - Relevance: The response is relevant as it addresses the query about risk factors for schizophrenia, mentioning biological and life experience factors.\n",
            "    - Semantic Similarity: The response captures the general idea of the reference answer but expands on it, which slightly diverges from the succinctness of the reference.\n",
            "    - Accuracy: The information provided is accurate in identifying risk factors related to schizophrenia.\n",
            "    - Factual Correctness: The facts presented align with general knowledge about schizophrenia risk factors, supporting its correctness.\n",
            "    - Completeness: The response is somewhat complete, as it identifies key risk factors, but it could be more focused on the specific factors mentioned in the reference answer.\n",
            "    - Clarity: The response is clear and easy to understand, presenting information in a straightforward manner.\n",
            "    - Conciseness: The response is less concise than the reference answer, as it adds additional context that may not be necessary for a direct answer.\n",
            "\n",
            "### Overall Scores:\n",
            "- RAG Overall Score: 7\n"
          ]
        },
        {
          "output_type": "stream",
          "name": "stderr",
          "text": [
            "\rEvaluating responses:   5%|▌         | 5/100 [00:14<04:46,  3.01s/sample]"
          ]
        },
        {
          "output_type": "stream",
          "name": "stdout",
          "text": [
            "Evaluation Output:\n",
            "Feedback:\n",
            "- RAG Response:\n",
            "    - Relevance: The response is highly relevant as it directly addresses how schizophrenia impacts daily functioning, covering various aspects of life affected by the condition.\n",
            "    - Semantic Similarity: The response captures the intent of the reference answer but expands on it significantly. While it conveys similar meanings, it does not align closely in phrasing or brevity.\n",
            "    - Accuracy: The information provided is accurate, detailing the challenges faced by individuals with schizophrenia in daily activities.\n",
            "    - Factual Correctness: The facts presented are consistent with the understanding of schizophrenia and its effects on daily life, aligning with reliable sources.\n",
            "    - Completeness: The response is complete, addressing multiple dimensions of daily functioning affected by schizophrenia, including work, socialization, and personal care.\n",
            "    - Clarity: The response is clear and easy to understand, using straightforward language to convey its points.\n",
            "    - Conciseness: While the response is thorough, it could be considered somewhat verbose. It includes some detail that may not be necessary for a concise answer.\n",
            "\n",
            "### Overall Scores:\n",
            "- RAG Overall Score: 8\n"
          ]
        },
        {
          "output_type": "stream",
          "name": "stderr",
          "text": [
            "\rEvaluating responses:   6%|▌         | 6/100 [00:16<04:16,  2.73s/sample]"
          ]
        },
        {
          "output_type": "stream",
          "name": "stdout",
          "text": [
            "Evaluation Output:\n",
            "Feedback:\n",
            "- RAG Response:\n",
            "    - Relevance: The response is relevant as it addresses the management of social anxiety disorder, mentioning therapy, medication, and support groups, which are pertinent to the query.\n",
            "    - Semantic Similarity: The response captures the essence of the reference answer but uses more elaborate language. It conveys similar ideas but is not as succinct as the reference.\n",
            "    - Accuracy: The information provided in the response is accurate and aligns with common treatments for social anxiety disorder.\n",
            "    - Factual Correctness: The facts presented are consistent with reliable sources regarding the management of social anxiety disorder, particularly the mention of therapy and medication.\n",
            "    - Completeness: The response is fairly complete, covering several methods for managing symptoms, although it could be more concise.\n",
            "    - Clarity: The response is generally clear, though the phrasing could be simplified to enhance understanding.\n",
            "    - Conciseness: The response is somewhat verbose, including unnecessary details that could be omitted for a more straightforward answer.\n",
            "\n",
            "### Overall Scores:\n",
            "- RAG Overall Score: 7\n"
          ]
        },
        {
          "output_type": "stream",
          "name": "stderr",
          "text": [
            "\rEvaluating responses:   7%|▋         | 7/100 [00:19<04:15,  2.75s/sample]"
          ]
        },
        {
          "output_type": "stream",
          "name": "stdout",
          "text": [
            "Evaluation Output:\n",
            "Feedback:\n",
            "- RAG Response:\n",
            "    - Relevance: The response effectively addresses the query by listing common symptoms of anxiety disorders, which is exactly what was asked.\n",
            "    - Semantic Similarity: The response captures the essence of the reference answer, although it includes more symptoms and details, which slightly diverges from the succinctness of the reference.\n",
            "    - Accuracy: The symptoms listed are accurate and align with recognized symptoms of anxiety disorders, making the information reliable.\n",
            "    - Factual Correctness: The symptoms mentioned are factually correct and consistent with established medical understanding of anxiety disorders.\n",
            "    - Completeness: The response is comprehensive as it includes a wide range of symptoms, providing a fuller picture than the reference answer.\n",
            "    - Clarity: The structure of the response is clear, with bullet points enhancing readability and understanding of the symptoms.\n",
            "    - Conciseness: While the response is complete, it could be considered less concise due to the inclusion of several symptoms, which may be more than necessary for a general overview.\n",
            "\n",
            "### Overall Scores:\n",
            "- RAG Overall Score: 8\n"
          ]
        },
        {
          "output_type": "stream",
          "name": "stderr",
          "text": [
            "\rEvaluating responses:   8%|▊         | 8/100 [00:21<03:53,  2.54s/sample]"
          ]
        },
        {
          "output_type": "stream",
          "name": "stdout",
          "text": [
            "Evaluation Output:\n",
            "Feedback:\n",
            "- RAG Response:\n",
            "    - Relevance: The response is relevant as it addresses how mental health impacts decision-making, which aligns with the query.\n",
            "    - Semantic Similarity: The response captures the general meaning of the reference answer but expands on it significantly. It does not directly mirror the phrasing or specific points made in the reference.\n",
            "    - Accuracy: The information provided about how mental health conditions can affect decision-making is accurate and reflects common understanding in psychology.\n",
            "    - Factual Correctness: The facts presented are consistent with established knowledge regarding mental health and decision-making processes.\n",
            "    - Completeness: The response is quite thorough, covering various aspects of how different mental health conditions can influence decision-making, which is more detailed than the reference answer.\n",
            "    - Clarity: The response is clear and easy to understand, with logical organization of ideas.\n",
            "    - Conciseness: The response is somewhat lengthy and could be more concise. While it provides valuable information, it includes more detail than necessary for a basic understanding.\n",
            "\n",
            "### Overall Scores:\n",
            "- RAG Overall Score: 8\n"
          ]
        },
        {
          "output_type": "stream",
          "name": "stderr",
          "text": [
            "\rEvaluating responses:   9%|▉         | 9/100 [00:25<04:35,  3.03s/sample]"
          ]
        },
        {
          "output_type": "stream",
          "name": "stdout",
          "text": [
            "Evaluation Output:\n",
            "Feedback:\n",
            "- RAG Response:\n",
            "    - Relevance: The response is relevant as it directly addresses the query about ADHD, mentioning key symptoms associated with the condition.\n",
            "    - Semantic Similarity: The response captures the essence of the reference answer but includes additional details about behavior control that are not explicitly mentioned in the reference.\n",
            "    - Accuracy: The information provided is accurate regarding ADHD symptoms, but the phrasing could be more precise.\n",
            "    - Factual Correctness: The facts presented about ADHD align with general knowledge on the condition, but the description of symptoms could be more aligned with clinical definitions.\n",
            "    - Completeness: The response covers the main symptoms of ADHD but lacks a mention of impulsivity, which is a critical aspect of the disorder.\n",
            "    - Clarity: The response is mostly clear, but the phrase \"not being able to control behavior\" could be misleading without context.\n",
            "    - Conciseness: The response is fairly concise but could be trimmed further by removing redundancy, such as \"not being able to\" which could be simplified.\n",
            "\n",
            "### Overall Scores:\n",
            "- RAG Overall Score: 7\n"
          ]
        },
        {
          "output_type": "stream",
          "name": "stderr",
          "text": [
            "\rEvaluating responses:  10%|█         | 10/100 [00:27<04:09,  2.77s/sample]"
          ]
        },
        {
          "output_type": "stream",
          "name": "stdout",
          "text": [
            "Evaluation Output:\n",
            "Feedback:\n",
            "- RAG Response:\n",
            "    - Relevance: The response is relevant as it addresses the treatment options for Seasonal Affective Disorder (SAD), which is the main focus of the query.\n",
            "    - Semantic Similarity: The response captures the essential meaning of the reference answer, although it elaborates slightly more on the treatments mentioned.\n",
            "    - Accuracy: The information provided is accurate; it mentions light therapy, antidepressants, talk therapy, and vitamin D supplements, which are all valid treatments for SAD.\n",
            "    - Factual Correctness: The facts presented align with established treatments for SAD and are consistent with the reference answer.\n",
            "    - Completeness: The response is fairly complete as it includes multiple treatment options, although it could have mentioned the effectiveness of each treatment more clearly.\n",
            "    - Clarity: The response is clear and easy to understand, with a logical flow of information.\n",
            "    - Conciseness: The response is somewhat concise, but it could be tightened by removing less critical phrases without losing essential information.\n",
            "\n",
            "### Overall Scores:\n",
            "- RAG Overall Score: 8\n"
          ]
        },
        {
          "output_type": "stream",
          "name": "stderr",
          "text": [
            "\rEvaluating responses:  11%|█         | 11/100 [00:30<04:06,  2.77s/sample]"
          ]
        },
        {
          "output_type": "stream",
          "name": "stdout",
          "text": [
            "Evaluation Output:\n",
            "Feedback:\n",
            "- RAG Response:\n",
            "    - Relevance: The response is relevant as it addresses the importance of mental health across different life stages, which aligns with the query.\n",
            "    - Semantic Similarity: The response captures the essence of the reference answer by mentioning emotional and psychological aspects, though it lacks the explicit mention of \"social well-being.\"\n",
            "    - Accuracy: The information presented is accurate in stating that mental health is important throughout life.\n",
            "    - Factual Correctness: The response is factually correct, as it aligns with general understanding of mental health's significance.\n",
            "    - Completeness: The response lacks depth; it does not elaborate on how mental health affects emotional, psychological, and social well-being, which is crucial for completeness.\n",
            "    - Clarity: The response is clear and easy to understand, conveying the message without ambiguity.\n",
            "    - Conciseness: The response is concise, providing a brief statement without unnecessary details.\n",
            "\n",
            "### Overall Scores:\n",
            "- RAG Overall Score: 7\n"
          ]
        },
        {
          "output_type": "stream",
          "name": "stderr",
          "text": [
            "\rEvaluating responses:  12%|█▏        | 12/100 [00:32<03:54,  2.67s/sample]"
          ]
        },
        {
          "output_type": "stream",
          "name": "stdout",
          "text": [
            "Evaluation Output:\n",
            "Feedback:\n",
            "- RAG Response:\n",
            "    - Relevance: The response is highly relevant as it directly addresses the warning signs of suicide in youth, aligning well with the query.\n",
            "    - Semantic Similarity: The RAG response captures the essence of the reference answer, though it includes additional points that enhance the understanding of the topic.\n",
            "    - Accuracy: The information presented is accurate and aligns with common knowledge about warning signs of suicide in youth.\n",
            "    - Factual Correctness: The facts are consistent with reliable sources and are generally accepted in the mental health field.\n",
            "    - Completeness: The response is more complete than the reference answer, offering a broader list of warning signs without omitting critical information.\n",
            "    - Clarity: The response is clear and easy to understand, with each warning sign distinctly presented.\n",
            "    - Conciseness: While the response is somewhat longer than the reference answer, it remains concise and does not include unnecessary details.\n",
            "\n",
            "### Overall Scores:\n",
            "- RAG Overall Score: 9\n"
          ]
        },
        {
          "output_type": "stream",
          "name": "stderr",
          "text": [
            "\rEvaluating responses:  13%|█▎        | 13/100 [00:35<03:46,  2.60s/sample]"
          ]
        },
        {
          "output_type": "stream",
          "name": "stdout",
          "text": [
            "Evaluation Output:\n",
            "Feedback:\n",
            "- RAG Response:\n",
            "    - Relevance: The response is relevant as it directly addresses the query about why people engage in self-harm, providing insight into the emotional aspects involved.\n",
            "    - Semantic Similarity: The response captures the intent of the reference answer well, discussing the emotional relief self-harm can provide, though it expands slightly on the reasons.\n",
            "    - Accuracy: The information presented is accurate, reflecting common psychological understanding regarding self-harm and its emotional context.\n",
            "    - Factual Correctness: The response is factually correct, aligning with established knowledge about self-harm behaviors and their psychological motivations.\n",
            "    - Completeness: The response is somewhat complete, covering key reasons for self-harm but could be enhanced by mentioning other factors like societal or environmental influences.\n",
            "    - Clarity: The response is clear and easy to understand, effectively communicating the reasons behind self-harm without ambiguity.\n",
            "    - Conciseness: The response is concise, providing necessary information without unnecessary elaboration.\n",
            "\n",
            "### Overall Scores:\n",
            "- RAG Overall Score: 8\n"
          ]
        },
        {
          "output_type": "stream",
          "name": "stderr",
          "text": [
            "\rEvaluating responses:  14%|█▍        | 14/100 [00:37<03:40,  2.56s/sample]"
          ]
        },
        {
          "output_type": "stream",
          "name": "stdout",
          "text": [
            "Evaluation Output:\n",
            "Feedback:\n",
            "- RAG Response:\n",
            "    - Relevance: The response is highly relevant as it addresses the role of communication in preventing suicide, which directly aligns with the query.\n",
            "    - Semantic Similarity: The response captures the essence of the reference answer, emphasizing support and stigma reduction, but it elaborates further on the importance of effective communication.\n",
            "    - Accuracy: The information presented is accurate and reflects the importance of communication in mental health and suicide prevention.\n",
            "    - Factual Correctness: The facts are consistent with reliable sources regarding the role of communication in mental well-being and suicide prevention.\n",
            "    - Completeness: The response is comprehensive, covering various aspects of how communication contributes to preventing suicide, including support, engagement in care, and fostering a nurturing environment.\n",
            "    - Clarity: The response is clear and well-structured, making it easy to understand the points being made.\n",
            "    - Conciseness: While the response is thorough, it could be slightly more concise; some points could be stated more succinctly without losing meaning.\n",
            "\n",
            "### Overall Scores:\n",
            "- RAG Overall Score: 9\n"
          ]
        },
        {
          "output_type": "stream",
          "name": "stderr",
          "text": [
            "\rEvaluating responses:  15%|█▌        | 15/100 [00:40<03:47,  2.67s/sample]"
          ]
        },
        {
          "output_type": "stream",
          "name": "stdout",
          "text": [
            "Evaluation Output:\n",
            "Feedback:\n",
            "- RAG Response:\n",
            "    - Relevance: The response is relevant as it discusses therapy, specifically DBT, in the context of addressing self-harm. However, it could be more focused on the general benefits of therapy rather than just one type.\n",
            "    - Semantic Similarity: The response captures the intent of the reference answer, which is about therapy helping with self-harm, but it does so by emphasizing a specific type of therapy rather than the broader concept of therapy as a whole.\n",
            "    - Accuracy: The information regarding DBT as an effective intervention for self-harm is accurate. However, it could mislead readers into thinking DBT is the only option.\n",
            "    - Factual Correctness: The mention of DBT is factually correct, but the suggestion to consult a local therapist may not be universally applicable or feasible for everyone.\n",
            "    - Completeness: The response provides a specific approach (DBT) but lacks a broader discussion on how therapy, in general, can help with self-harm, such as emotional support and coping mechanisms.\n",
            "    - Clarity: The response is generally clear, but it could benefit from a more structured explanation of how therapy helps beyond just suggesting DBT.\n",
            "    - Conciseness: While the response is informative, it includes some redundancy, particularly in the explanation of DBT that could be streamlined for brevity.\n",
            "\n",
            "### Overall Scores:\n",
            "- RAG Overall Score: 6\n"
          ]
        },
        {
          "output_type": "stream",
          "name": "stderr",
          "text": [
            "\rEvaluating responses:  16%|█▌        | 16/100 [00:43<03:33,  2.54s/sample]"
          ]
        },
        {
          "output_type": "stream",
          "name": "stdout",
          "text": [
            "Evaluation Output:\n",
            "Feedback:\n",
            "- RAG Response:\n",
            "    - Relevance: The response is relevant as it directly addresses the emotional triggers linked to self-harm, which was the focus of the query.\n",
            "    - Semantic Similarity: The response captures the essence of the reference answer, mentioning the same emotional triggers, although it adds a phrase \"according to the text,\" which slightly alters the phrasing.\n",
            "    - Accuracy: The information provided is accurate and aligns with common understanding regarding the emotional triggers of self-harm.\n",
            "    - Factual Correctness: The facts presented are consistent with the reference answer and are generally accepted in discussions about self-harm.\n",
            "    - Completeness: The response is somewhat complete as it lists the main emotional triggers but does not elaborate on them or mention any additional triggers that could also be relevant.\n",
            "    - Clarity: The response is clear and easy to understand, effectively communicating the emotional triggers.\n",
            "    - Conciseness: The response is concise, delivering the necessary information without unnecessary details.\n",
            "\n",
            "### Overall Scores:\n",
            "- RAG Overall Score: 8\n"
          ]
        },
        {
          "output_type": "stream",
          "name": "stderr",
          "text": [
            "\rEvaluating responses:  17%|█▋        | 17/100 [00:46<04:05,  2.95s/sample]"
          ]
        },
        {
          "output_type": "stream",
          "name": "stdout",
          "text": [
            "Evaluation Output:\n",
            "Feedback:\n",
            "- RAG Response:\n",
            "    - Relevance: The response identifies signs that may indicate suicidal thoughts but does not directly address how to intervene, which is the core of the query. It lacks a clear connection to intervention strategies.\n",
            "    - Semantic Similarity: The response does not closely align with the reference answer, which emphasizes directly asking about suicidal thoughts and connecting individuals to help. The RAG response focuses on signs rather than intervention.\n",
            "    - Accuracy: The information regarding signs of potential suicide risk is accurate, but it does not provide actionable steps for intervention, which is critical for the query.\n",
            "    - Factual Correctness: The signs mentioned are generally recognized indicators of suicidal ideation; however, the lack of intervention strategies diminishes the overall factual correctness in the context of the query.\n",
            "    - Completeness: The response fails to cover essential aspects of the query, particularly the methods of intervention. It only lists signs without offering guidance on what to do next.\n",
            "    - Clarity: The response is clear in listing signs of suicidal behavior but lacks clarity regarding the intervention aspect, which is the main focus of the question.\n",
            "    - Conciseness: While the response is concise in listing signs, it is overly brief in addressing the query's intent, resulting in an incomplete answer.\n",
            "\n",
            "### Overall Scores:\n",
            "- RAG Overall Score: 4\n"
          ]
        },
        {
          "output_type": "stream",
          "name": "stderr",
          "text": [
            "\rEvaluating responses:  18%|█▊        | 18/100 [00:48<03:39,  2.68s/sample]"
          ]
        },
        {
          "output_type": "stream",
          "name": "stdout",
          "text": [
            "Evaluation Output:\n",
            "Feedback:\n",
            "- RAG Response:\n",
            "    - Relevance: The response is relevant as it discusses various challenges faced by people with schizophrenia, aligning with the query's intent.\n",
            "    - Semantic Similarity: The response captures the general intent of the reference answer but goes into more detail, which slightly diverges from the concise nature of the reference.\n",
            "    - Accuracy: The information presented is accurate regarding the challenges associated with schizophrenia, including difficulties in communication and functioning.\n",
            "    - Factual Correctness: The facts are consistent with established knowledge about schizophrenia and are presented correctly.\n",
            "    - Completeness: The response is quite comprehensive, detailing various challenges, but it may be overly detailed compared to the reference answer.\n",
            "    - Clarity: The response is clear and easy to understand, with a logical flow of information.\n",
            "    - Conciseness: The response is less concise than the reference answer, providing more detail than necessary for a brief overview of challenges.\n",
            "\n",
            "### Overall Scores:\n",
            "- RAG Overall Score: 7\n"
          ]
        },
        {
          "output_type": "stream",
          "name": "stderr",
          "text": [
            "\rEvaluating responses:  19%|█▉        | 19/100 [00:51<03:23,  2.51s/sample]"
          ]
        },
        {
          "output_type": "stream",
          "name": "stdout",
          "text": [
            "Evaluation Output:\n",
            "Feedback:\n",
            "- RAG Response:\n",
            "    - Relevance: The response does not address the query at all, as it is simply \"nan\". Therefore, it scores very low on relevance.\n",
            "    - Semantic Similarity: There is no semantic similarity to evaluate since the response does not contain any meaningful content.\n",
            "    - Accuracy: The response cannot be assessed for accuracy because it lacks any information.\n",
            "    - Factual Correctness: There are no facts presented in the response, making it impossible to determine factual correctness.\n",
            "    - Completeness: The response is completely lacking in content, so it fails to cover any aspects of the query.\n",
            "    - Clarity: The response is not clear at all, as it provides no information or context.\n",
            "    - Conciseness: While the response is concise in terms of length, it is entirely uninformative, which negates any potential positive aspect of conciseness.\n",
            "\n",
            "### Overall Scores:\n",
            "- RAG Overall Score: 1\n"
          ]
        },
        {
          "output_type": "stream",
          "name": "stderr",
          "text": [
            "\rEvaluating responses:  20%|██        | 20/100 [00:53<03:07,  2.35s/sample]"
          ]
        },
        {
          "output_type": "stream",
          "name": "stdout",
          "text": [
            "Evaluation Output:\n",
            "Feedback:\n",
            "- RAG Response:\n",
            "    - Relevance: The response directly addresses the query by listing physical symptoms linked to panic disorder, making it highly relevant.\n",
            "    - Semantic Similarity: The response captures the meaning of the reference answer well, although it includes additional symptoms that were not mentioned in the reference.\n",
            "    - Accuracy: The symptoms listed are accurate and commonly associated with panic disorder, aligning with established medical understanding.\n",
            "    - Factual Correctness: All symptoms mentioned are factually correct and consistent with reliable sources regarding panic disorder.\n",
            "    - Completeness: The response is more complete than the reference answer as it provides a broader list of symptoms, which enhances the overall understanding.\n",
            "    - Clarity: The response is clear and easy to read, with each symptom presented in a straightforward manner.\n",
            "    - Conciseness: While the response is slightly longer than the reference, it maintains conciseness by avoiding unnecessary elaboration on each symptom.\n",
            "\n",
            "### Overall Scores:\n",
            "- RAG Overall Score: 9\n"
          ]
        },
        {
          "output_type": "stream",
          "name": "stderr",
          "text": [
            "\rEvaluating responses:  21%|██        | 21/100 [00:55<03:03,  2.32s/sample]"
          ]
        },
        {
          "output_type": "stream",
          "name": "stdout",
          "text": [
            "Evaluation Output:\n",
            "Feedback:\n",
            "- RAG Response:\n",
            "    - Relevance: The response effectively addresses the query by explaining why panic attacks are frightening, focusing on the emotional and physical aspects involved. \n",
            "    - Semantic Similarity: The response captures the essence of the reference answer, discussing intense fear and physical symptoms, but expands on them in a way that adds depth rather than just paraphrasing.\n",
            "    - Accuracy: The information provided about panic attacks is accurate and aligns with common psychological understanding, highlighting both physical symptoms and emotional experiences.\n",
            "    - Factual Correctness: The facts presented are consistent with established knowledge about panic attacks and are logically sound.\n",
            "    - Completeness: The response is thorough, covering various aspects of panic attacks, including the physical sensations and the emotional impact, which provides a more complete picture than the reference answer.\n",
            "    - Clarity: The response is clear and easy to understand, presenting information in a logical order that enhances comprehension.\n",
            "    - Conciseness: While the response is detailed, it remains focused and does not include unnecessary information, maintaining a good balance between completeness and conciseness.\n",
            "\n",
            "### Overall Scores:\n",
            "- RAG Overall Score: 9\n"
          ]
        },
        {
          "output_type": "stream",
          "name": "stderr",
          "text": [
            "\rEvaluating responses:  22%|██▏       | 22/100 [00:57<02:55,  2.25s/sample]"
          ]
        },
        {
          "output_type": "stream",
          "name": "stdout",
          "text": [
            "Evaluation Output:\n",
            "Feedback:\n",
            "- RAG Response:\n",
            "    - Relevance: The response is relevant as it directly addresses the query about the target populations of the Zero Suicide framework.\n",
            "    - Semantic Similarity: The response captures some meaning from the reference answer but lacks the broader context of targeting individuals across healthcare systems.\n",
            "    - Accuracy: The information provided is accurate in stating that the framework targets adults 18 and older; however, it is too narrow.\n",
            "    - Factual Correctness: The fact that the framework targets adults is correct, but it does not encompass the full scope of the reference answer.\n",
            "    - Completeness: The response is incomplete as it does not mention the broader populations or healthcare systems that the framework aims to address, which is a key aspect of the reference answer.\n",
            "    - Clarity: The response is clear and easy to understand, but it is overly simplistic.\n",
            "    - Conciseness: The response is concise, but this brevity comes at the cost of missing important details.\n",
            "\n",
            "### Overall Scores:\n",
            "- RAG Overall Score: 5\n"
          ]
        },
        {
          "output_type": "stream",
          "name": "stderr",
          "text": [
            "\rEvaluating responses:  23%|██▎       | 23/100 [00:59<02:59,  2.33s/sample]"
          ]
        },
        {
          "output_type": "stream",
          "name": "stdout",
          "text": [
            "Evaluation Output:\n",
            "Feedback:\n",
            "- RAG Response:\n",
            "    - Relevance: The response is relevant as it directly addresses the relationship between insomnia, depression, and feelings of worthlessness, fulfilling the query's intent.\n",
            "    - Semantic Similarity: The response captures the essence of the reference answer by mentioning racing thoughts and their impact on sleep and emotions, although it expands on these ideas.\n",
            "    - Accuracy: The information provided is accurate in describing how insomnia can be related to depression and feelings of worthlessness, aligning with psychological understanding.\n",
            "    - Factual Correctness: The response presents facts that are consistent with established knowledge about depression and insomnia, making it factually correct.\n",
            "    - Completeness: The response is complete as it covers the connection between insomnia, depression, and feelings of worthlessness while also suggesting potential solutions, which adds depth.\n",
            "    - Clarity: The response is clear and well-structured, making it easy to understand the relationship between the concepts discussed.\n",
            "    - Conciseness: While the response is slightly longer than necessary, it avoids unnecessary details and maintains focus on the main points, though it could be more succinct.\n",
            "\n",
            "### Overall Scores:\n",
            "- RAG Overall Score: 8\n"
          ]
        },
        {
          "output_type": "stream",
          "name": "stderr",
          "text": [
            "\rEvaluating responses:  24%|██▍       | 24/100 [01:01<02:51,  2.25s/sample]"
          ]
        },
        {
          "output_type": "stream",
          "name": "stdout",
          "text": [
            "Evaluation Output:\n",
            "Feedback:\n",
            "- RAG Response:\n",
            "    - Relevance: The response is highly relevant as it directly addresses the query about recognizing suicide warning signs in adults.\n",
            "    - Semantic Similarity: The RAG response captures the essence of the reference answer, listing similar warning signs but with more detail, which maintains the overall intent.\n",
            "    - Accuracy: The information provided in the response is accurate and aligns with common understanding of suicide warning signs.\n",
            "    - Factual Correctness: The facts presented are consistent with reliable sources regarding suicide warning signs, making the response factually correct.\n",
            "    - Completeness: The response is comprehensive, covering multiple warning signs, which adds depth beyond the reference answer.\n",
            "    - Clarity: The response is clear and easy to understand, with each warning sign presented in a straightforward manner.\n",
            "    - Conciseness: While the response is detailed, it could be considered slightly lengthy. However, it still manages to avoid unnecessary redundancy.\n",
            "\n",
            "### Overall Scores:\n",
            "- RAG Overall Score: 9\n"
          ]
        },
        {
          "output_type": "stream",
          "name": "stderr",
          "text": [
            "\rEvaluating responses:  25%|██▌       | 25/100 [01:04<02:44,  2.19s/sample]"
          ]
        },
        {
          "output_type": "stream",
          "name": "stdout",
          "text": [
            "Evaluation Output:\n",
            "Feedback:\n",
            "- RAG Response:\n",
            "    - Relevance: The response is highly relevant as it directly addresses the symptoms of bulimia nervosa, which is the query's intent.\n",
            "    - Semantic Similarity: The RAG response captures the essence of the reference answer but goes into greater detail, which is somewhat different in focus. However, it still conveys the overall meaning.\n",
            "    - Accuracy: The information provided is accurate regarding the symptoms associated with bulimia nervosa.\n",
            "    - Factual Correctness: The facts presented are consistent with known medical information regarding bulimia nervosa and its physical symptoms.\n",
            "    - Completeness: The RAG response is more complete than the reference answer as it lists multiple symptoms, providing a broader understanding of the condition.\n",
            "    - Clarity: The response is clear and easy to understand, with symptoms listed in a straightforward manner.\n",
            "    - Conciseness: While the response is informative, it could be considered less concise due to the extensive list of symptoms, which may include some repetition of concepts.\n",
            "\n",
            "### Overall Scores:\n",
            "- RAG Overall Score: 8\n"
          ]
        },
        {
          "output_type": "stream",
          "name": "stderr",
          "text": [
            "\rEvaluating responses:  26%|██▌       | 26/100 [01:06<02:49,  2.29s/sample]"
          ]
        },
        {
          "output_type": "stream",
          "name": "stdout",
          "text": [
            "Evaluation Output:\n",
            "Feedback:\n",
            "- RAG Response:\n",
            "    - Relevance: The response somewhat addresses the query by mentioning resources for parents, but it focuses heavily on faith-based organizations and personal advice, which may not be directly relevant to all parents seeking help. \n",
            "    - Semantic Similarity: The RAG response captures some of the intent of the reference answer but diverges significantly in content. The reference answer is more straightforward and focused on specific resources.\n",
            "    - Accuracy: The mention of the 988 Suicide & Crisis Lifeline is accurate; however, the advice about “sweet-talking” counselors lacks professionalism and may not be appropriate.\n",
            "    - Factual Correctness: The information about the 988 Lifeline is factually correct, but the suggestion to engage counselors informally lacks clarity regarding professional ethics.\n",
            "    - Completeness: The response includes some resources but misses other relevant options such as healthcare providers and school counselors mentioned in the reference answer.\n",
            "    - Clarity: The phrasing in the response is somewhat convoluted, particularly the advice about sweet-talking counselors, which can lead to ambiguity.\n",
            "    - Conciseness: The response includes unnecessary details and personal opinions that detract from the main point, making it less concise than it could be.\n",
            "\n",
            "### Overall Scores:\n",
            "- RAG Overall Score: 4\n"
          ]
        },
        {
          "output_type": "stream",
          "name": "stderr",
          "text": [
            "\rEvaluating responses:  27%|██▋       | 27/100 [01:08<02:46,  2.28s/sample]"
          ]
        },
        {
          "output_type": "stream",
          "name": "stdout",
          "text": [
            "Evaluation Output:\n",
            "Feedback:\n",
            "- RAG Response:\n",
            "    - Relevance: The response is highly relevant as it directly addresses the symptoms of Generalized Anxiety Disorder, which is the query's focus.\n",
            "    - Semantic Similarity: The response captures the essence of the reference answer but includes more symptoms. While it maintains the core meaning, the phrasing differs slightly.\n",
            "    - Accuracy: The symptoms listed are accurate and align with common understandings of Generalized Anxiety Disorder.\n",
            "    - Factual Correctness: All symptoms mentioned are factually correct and consistent with established medical information about Generalized Anxiety Disorder.\n",
            "    - Completeness: The response is complete as it includes a comprehensive list of symptoms, going beyond the reference answer to provide additional relevant details.\n",
            "    - Clarity: The response is clear and easy to understand, presenting the symptoms in a straightforward manner.\n",
            "    - Conciseness: While the response is complete, it could be considered slightly less concise due to the inclusion of several symptoms that may not all be necessary for a basic understanding.\n",
            "\n",
            "### Overall Scores:\n",
            "- RAG Overall Score: 8\n"
          ]
        },
        {
          "output_type": "stream",
          "name": "stderr",
          "text": [
            "\rEvaluating responses:  28%|██▊       | 28/100 [01:10<02:35,  2.15s/sample]"
          ]
        },
        {
          "output_type": "stream",
          "name": "stdout",
          "text": [
            "Evaluation Output:\n",
            "Feedback:\n",
            "- RAG Response:\n",
            "    - Relevance: The response is relevant as it discusses treatment options for schizophrenia, directly addressing the query.\n",
            "    - Semantic Similarity: The response captures the intent of the reference answer but focuses more on medication and ECT, while the reference mentions therapy and family support, which are also important.\n",
            "    - Accuracy: The information provided about antipsychotic medications and ECT is accurate and aligns with standard treatment practices.\n",
            "    - Factual Correctness: The facts presented are consistent with reliable sources regarding schizophrenia treatment.\n",
            "    - Completeness: The response lacks mention of individual therapy and family support, which are critical components of effective treatment, making it less complete than the reference answer.\n",
            "    - Clarity: The response is clear and easy to understand, providing a straightforward explanation of treatment methods.\n",
            "    - Conciseness: The response is succinct and avoids unnecessary details, effectively conveying the key points.\n",
            "\n",
            "### Overall Scores:\n",
            "- RAG Overall Score: 7\n"
          ]
        },
        {
          "output_type": "stream",
          "name": "stderr",
          "text": [
            "\rEvaluating responses:  29%|██▉       | 29/100 [01:13<02:46,  2.35s/sample]"
          ]
        },
        {
          "output_type": "stream",
          "name": "stdout",
          "text": [
            "Evaluation Output:\n",
            "Feedback:\n",
            "- RAG Response:\n",
            "    - Relevance: The response effectively addresses the query by differentiating between panic disorder and occasional panic attacks, which is the main focus of the question.\n",
            "    - Semantic Similarity: The RAG response captures the essence of the reference answer, discussing both panic disorder and occasional panic attacks, although it could be phrased more similarly to the reference.\n",
            "    - Accuracy: The information provided is accurate, as it correctly states that panic disorder involves repeated panic attacks while occasional panic attacks may not lead to a disorder.\n",
            "    - Factual Correctness: The facts presented align with established definitions and descriptions of panic disorder and occasional panic attacks, making it factually correct.\n",
            "    - Completeness: The response covers the key differences but could be improved by explicitly mentioning the frequency of panic attacks in both conditions, as highlighted in the reference answer.\n",
            "    - Clarity: The response is clear and understandable, effectively communicating the differences between the two conditions.\n",
            "    - Conciseness: The response is relatively concise, though it could be slightly more succinct by removing some redundancy in explaining the avoidance behavior.\n",
            "\n",
            "### Overall Scores:\n",
            "- RAG Overall Score: 8\n"
          ]
        },
        {
          "output_type": "stream",
          "name": "stderr",
          "text": [
            "\rEvaluating responses:  30%|███       | 30/100 [01:15<02:44,  2.34s/sample]"
          ]
        },
        {
          "output_type": "stream",
          "name": "stdout",
          "text": [
            "Evaluation Output:\n",
            "Feedback:\n",
            "- RAG Response:\n",
            "    - Relevance: The response partially addresses the query by mentioning dialectical behavior therapy (DBT) as a therapeutic approach for eating disorders, but it lacks a direct connection to how psychotherapy aids recovery specifically, which is the focus of the question.\n",
            "    - Semantic Similarity: The response does not capture the essence of the reference answer well. While it discusses therapy techniques, it does not clearly convey the idea of addressing underlying emotional issues or managing symptoms as stated in the reference.\n",
            "    - Accuracy: The mention of DBT is accurate in the context of psychotherapy for eating disorders, but the explanation is somewhat vague and does not detail how DBT specifically aids recovery.\n",
            "    - Factual Correctness: The information about DBT is generally correct, but the lack of clarity in the explanation may lead to misunderstandings about its application in eating disorder recovery.\n",
            "    - Completeness: The response is incomplete as it fails to cover essential aspects of how psychotherapy aids recovery, such as emotional support, coping strategies, and symptom management.\n",
            "    - Clarity: The response is somewhat convoluted and difficult to follow, making it less clear for the reader to understand the main points being made about psychotherapy.\n",
            "    - Conciseness: The response is not concise; it includes unnecessary details and lacks focus on the core question, which detracts from its effectiveness.\n",
            "\n",
            "### Overall Scores:\n",
            "- RAG Overall Score: 4\n"
          ]
        },
        {
          "output_type": "stream",
          "name": "stderr",
          "text": [
            "\rEvaluating responses:  31%|███       | 31/100 [01:18<02:41,  2.34s/sample]"
          ]
        },
        {
          "output_type": "stream",
          "name": "stdout",
          "text": [
            "Evaluation Output:\n",
            "Feedback:\n",
            "- RAG Response:\n",
            "    - Relevance: The response is relevant as it discusses various treatments for anxiety disorders, which directly addresses the query.\n",
            "    - Semantic Similarity: The response captures the intent of the reference answer but provides more detail. However, it does not directly mention \"stress management techniques,\" which is included in the reference.\n",
            "    - Accuracy: The information provided is accurate regarding the treatments mentioned, including therapy options and medication.\n",
            "    - Factual Correctness: The mention of Acceptance and Commitment Therapy (ACT), Cognitive Behavioral Therapy (CBT), and SSRIs aligns with established treatments for anxiety disorders, making it factually correct.\n",
            "    - Completeness: The response is somewhat complete as it lists multiple therapies and medication; however, it lacks a mention of stress management techniques, which is an essential aspect of treating anxiety.\n",
            "    - Clarity: The response is clear and easy to understand, with a straightforward presentation of the information.\n",
            "    - Conciseness: The response is slightly verbose, as it includes additional commentary about the therapies that may not be necessary for a direct answer to the query.\n",
            "\n",
            "### Overall Scores:\n",
            "- RAG Overall Score: 7\n"
          ]
        },
        {
          "output_type": "stream",
          "name": "stderr",
          "text": [
            "\rEvaluating responses:  32%|███▏      | 32/100 [01:20<02:47,  2.47s/sample]"
          ]
        },
        {
          "output_type": "stream",
          "name": "stdout",
          "text": [
            "Evaluation Output:\n",
            "Feedback:\n",
            "- RAG Response:\n",
            "    - Relevance: The response is relevant as it directly addresses the role of CBT in managing depression and self-esteem issues. It discusses coping skills and the influence of thought processes on emotions and behaviors, which are key aspects of CBT's role.\n",
            "    - Semantic Similarity: The response captures the essence of the reference answer well, emphasizing awareness of thought processes and their impact on beliefs and actions, although it expands on this with additional details.\n",
            "    - Accuracy: The information presented is accurate regarding CBT's role in managing depression and self-esteem issues. It correctly highlights the importance of thought processes and coping skills.\n",
            "    - Factual Correctness: The facts provided are consistent with established knowledge about CBT and its applications. There are no inaccuracies present in the response.\n",
            "    - Completeness: The response is comprehensive, covering various aspects of CBT, including its benefits for different mental health issues beyond just depression and self-esteem, which adds depth.\n",
            "    - Clarity: The response is clear and easy to understand, effectively communicating the concepts associated with CBT without ambiguity.\n",
            "    - Conciseness: While the response is somewhat longer than necessary, it maintains focus on the topic and avoids excessive detail. However, it could be slightly more concise.\n",
            "\n",
            "### Overall Scores:\n",
            "- RAG Overall Score: 8\n"
          ]
        },
        {
          "output_type": "stream",
          "name": "stderr",
          "text": [
            "\rEvaluating responses:  33%|███▎      | 33/100 [01:23<02:53,  2.60s/sample]"
          ]
        },
        {
          "output_type": "stream",
          "name": "stdout",
          "text": [
            "Evaluation Output:\n",
            "Feedback:\n",
            "- RAG Response:\n",
            "    - Relevance: The response effectively addresses the health risks associated with self-harm, mentioning both psychological and physical risks. However, it could have been more aligned with the specific risks listed in the reference answer.\n",
            "    - Semantic Similarity: The response captures some of the meaning of the reference answer but expands on it significantly. While it includes relevant information, it does not closely mirror the core points of the reference.\n",
            "    - Accuracy: The information provided is accurate regarding the risks of self-harm, including the potential for suicide and physical injuries. However, the mention of endorphins and neural mapping, while interesting, may not directly relate to the immediate health risks.\n",
            "    - Factual Correctness: The facts presented are generally correct and align with established knowledge about self-harm. The inclusion of psychological aspects adds depth but strays from the straightforward risks mentioned in the reference.\n",
            "    - Completeness: The response is relatively complete, addressing multiple aspects of self-harm risks. However, it does not mention specific risks such as infections or permanent scars, which are critical points in the reference answer.\n",
            "    - Clarity: The response is mostly clear and understandable, though the complexity of some sentences may hinder comprehension for some readers. Simplifying the language could enhance clarity.\n",
            "    - Conciseness: The response is somewhat lengthy and includes additional information that, while relevant, may not be necessary for a concise answer to the query. It could be more succinct.\n",
            "\n",
            "### Overall Scores:\n",
            "- RAG Overall Score: 7\n"
          ]
        },
        {
          "output_type": "stream",
          "name": "stderr",
          "text": [
            "\rEvaluating responses:  34%|███▍      | 34/100 [01:26<02:45,  2.51s/sample]"
          ]
        },
        {
          "output_type": "stream",
          "name": "stdout",
          "text": [
            "Evaluation Output:\n",
            "Feedback:\n",
            "- RAG Response:\n",
            "    - Relevance: The response is relevant as it addresses the causes of social anxiety disorder, which is the specific requirement of the query.\n",
            "    - Semantic Similarity: The response captures the essential meaning of the reference answer, though it includes additional phrasing that slightly alters the directness of the comparison.\n",
            "    - Accuracy: The information presented is accurate, as it mentions genetics and learned behavior as contributing factors, which aligns with established understanding of social anxiety disorder.\n",
            "    - Factual Correctness: The response is factually correct, consistent with reliable sources regarding the causes of social anxiety disorder.\n",
            "    - Completeness: The response is somewhat complete but could benefit from a more explicit mention of \"past social traumas\" as stated in the reference answer, which would enhance its thoroughness.\n",
            "    - Clarity: The response is clear and easy to understand, presenting the information in a straightforward manner.\n",
            "    - Conciseness: The response is relatively concise, although the phrase \"not fully known\" could be seen as unnecessary for the context.\n",
            "\n",
            "### Overall Scores:\n",
            "- RAG Overall Score: 8\n"
          ]
        },
        {
          "output_type": "stream",
          "name": "stderr",
          "text": [
            "\rEvaluating responses:  35%|███▌      | 35/100 [01:28<02:47,  2.57s/sample]"
          ]
        },
        {
          "output_type": "stream",
          "name": "stdout",
          "text": [
            "Evaluation Output:\n",
            "Feedback:\n",
            "- RAG Response:\n",
            "    - Relevance: The response is relevant as it addresses the Four-Fold Breath technique and its purpose, aligning with the query's intent.\n",
            "    - Semantic Similarity: The response captures the essence of the reference answer by discussing a breathing technique, but it diverges in focus, emphasizing practice duration and stress relief rather than relaxation and aiding sleep.\n",
            "    - Accuracy: The information provided is generally accurate regarding the technique's breathing pattern and its intended benefits.\n",
            "    - Factual Correctness: The details about the breathing counts and the practice frequency are correct, but the reference answer's mention of aiding sleep is not addressed in the RAG response.\n",
            "    - Completeness: The response provides a good amount of detail about the technique but omits the mention of its application for relaxation and sleep, which is a key aspect of the reference answer.\n",
            "    - Clarity: The response is clear and easy to understand, effectively communicating the method of the technique.\n",
            "    - Conciseness: The response is concise, providing necessary information without unnecessary elaboration.\n",
            "\n",
            "### Overall Scores:\n",
            "- RAG Overall Score: 7\n"
          ]
        },
        {
          "output_type": "stream",
          "name": "stderr",
          "text": [
            "\rEvaluating responses:  36%|███▌      | 36/100 [01:31<02:45,  2.58s/sample]"
          ]
        },
        {
          "output_type": "stream",
          "name": "stdout",
          "text": [
            "Evaluation Output:\n",
            "Feedback:\n",
            "- RAG Response:\n",
            "    - Relevance: The response is relevant as it addresses the influence of family history on mental health, but it could be more focused on the specific aspect of family history rather than broadly discussing other factors.\n",
            "    - Semantic Similarity: The meaning is somewhat captured, but the response lacks the directness of the reference answer, which succinctly states the influence of family history.\n",
            "    - Accuracy: The information provided is accurate regarding the influence of family history on mental health, but it introduces additional factors that may dilute the focus.\n",
            "    - Factual Correctness: The facts presented are correct and align with general knowledge about mental health influences; however, the emphasis on other factors could mislead the reader about the primary focus.\n",
            "    - Completeness: While the response mentions various contributing factors, it does not fully explore the significance of family history specifically, which is essential to the query.\n",
            "    - Clarity: The response is generally clear, but the inclusion of multiple factors may confuse the reader about the main point regarding family history.\n",
            "    - Conciseness: The response is somewhat verbose and could be more concise by focusing solely on family history and its direct influence on mental health.\n",
            "\n",
            "### Overall Scores:\n",
            "- RAG Overall Score: 6\n"
          ]
        },
        {
          "output_type": "stream",
          "name": "stderr",
          "text": [
            "\rEvaluating responses:  37%|███▋      | 37/100 [01:33<02:36,  2.48s/sample]"
          ]
        },
        {
          "output_type": "stream",
          "name": "stdout",
          "text": [
            "Evaluation Output:\n",
            "Feedback:\n",
            "- RAG Response:\n",
            "    - Relevance: The response effectively addresses the query about how phobias affect daily life by discussing their impact on daily activities and routines.\n",
            "    - Semantic Similarity: The response captures the intent of the reference answer, though it provides more detail. It aligns with the idea of limiting daily activities due to fear.\n",
            "    - Accuracy: The information presented is accurate, illustrating how phobias can lead to avoidance behaviors that disrupt daily life.\n",
            "    - Factual Correctness: The examples given (phobia of bridges and elevators) are valid and reflect common phobias, confirming the factual correctness of the response.\n",
            "    - Completeness: The response is complete as it not only mentions avoidance but also provides examples, enhancing understanding of the impact of phobias.\n",
            "    - Clarity: The response is clear and easy to understand, with straightforward language and structure.\n",
            "    - Conciseness: While the response is somewhat longer than the reference answer, it remains focused and avoids unnecessary details, effectively conveying the message.\n",
            "\n",
            "### Overall Scores:\n",
            "- RAG Overall Score: 9\n"
          ]
        },
        {
          "output_type": "stream",
          "name": "stderr",
          "text": [
            "\rEvaluating responses:  38%|███▊      | 38/100 [01:36<02:34,  2.49s/sample]"
          ]
        },
        {
          "output_type": "stream",
          "name": "stdout",
          "text": [
            "Evaluation Output:\n",
            "Feedback:\n",
            "- RAG Response:\n",
            "    - Relevance: The response is somewhat relevant as it addresses the benefits of NCCA temperament therapy, but it does not fully capture the intent of the query regarding specific benefits.\n",
            "    - Semantic Similarity: The response captures some of the intent of the reference answer but lacks the specific focus on self-acceptance and joy, which are key elements in the reference.\n",
            "    - Accuracy: The information about gaining spiritual insight is accurate, but it does not encompass the broader benefits mentioned in the reference answer.\n",
            "    - Factual Correctness: The response is factually correct in stating that the therapy provides insight; however, it misses other critical aspects of the therapy's benefits.\n",
            "    - Completeness: The response is incomplete as it does not address all essential aspects of how NCCA temperament therapy can benefit individuals, particularly self-acceptance and joy.\n",
            "    - Clarity: The response is clear and easy to understand, but it could be more specific regarding the benefits discussed.\n",
            "    - Conciseness: The response is concise, but it sacrifices completeness for brevity.\n",
            "\n",
            "### Overall Scores:\n",
            "- RAG Overall Score: 5\n"
          ]
        },
        {
          "output_type": "stream",
          "name": "stderr",
          "text": [
            "\rEvaluating responses:  39%|███▉      | 39/100 [01:38<02:25,  2.38s/sample]"
          ]
        },
        {
          "output_type": "stream",
          "name": "stdout",
          "text": [
            "Evaluation Output:\n",
            "Feedback:\n",
            "- RAG Response:\n",
            "    - Relevance: The response partially addresses the query by discussing how physical health can influence depression, but it lacks a direct connection to the emotional aspects of depression as indicated in the reference answer.\n",
            "    - Semantic Similarity: There is a low level of semantic similarity with the reference answer as the RAG response focuses more on risk factors rather than the relationship between physical health and emotional symptoms.\n",
            "    - Accuracy: The information provided is generally accurate regarding the relationship between physical health and depression, but it could be more nuanced in discussing the emotional impact.\n",
            "    - Factual Correctness: The response presents correct associations between physical health issues and depression, but it does not fully align with the notion of physical structures affecting emotional states as mentioned in the reference answer.\n",
            "    - Completeness: The response is somewhat incomplete as it does not cover the psychological or emotional aspects of how physical health impacts feelings of depression, which is a crucial part of the query.\n",
            "    - Clarity: The response is clear and easy to understand, but it could benefit from more straightforward connections to the emotional aspects of depression.\n",
            "    - Conciseness: The response is concise and avoids unnecessary details, but it sacrifices depth for brevity.\n",
            "\n",
            "### Overall Scores:\n",
            "- RAG Overall Score: 5\n"
          ]
        },
        {
          "output_type": "stream",
          "name": "stderr",
          "text": [
            "\rEvaluating responses:  40%|████      | 40/100 [01:40<02:26,  2.44s/sample]"
          ]
        },
        {
          "output_type": "stream",
          "name": "stdout",
          "text": [
            "Evaluation Output:\n",
            "Feedback:\n",
            "- RAG Response:\n",
            "    - Relevance: The response is relevant as it addresses the impact of lack of sunlight on mood, which is directly related to Seasonal Affective Disorder (SAD). However, it could be more explicitly tied to SAD.\n",
            "    - Semantic Similarity: The response captures some of the key ideas from the reference answer, particularly regarding mood and serotonin, but it lacks the mention of melatonin and the direct connection to sleep.\n",
            "    - Accuracy: The information presented is generally accurate, linking lack of sunlight to serotonin levels and circadian rhythms, although it does not explicitly mention melatonin, which is important in the context of SAD.\n",
            "    - Factual Correctness: The response is factually correct regarding the effects of sunlight on serotonin and circadian rhythms, but it misses the comprehensive view provided in the reference answer, particularly the role of melatonin.\n",
            "    - Completeness: The response lacks completeness as it does not cover the effects on melatonin or the overall impact on sleep, which are critical to understanding SAD.\n",
            "    - Clarity: The response is clear and easy to understand, though it could benefit from more precise language regarding the connection to SAD.\n",
            "    - Conciseness: The response is concise, effectively conveying the main ideas without unnecessary details.\n",
            "\n",
            "### Overall Scores:\n",
            "- RAG Overall Score: 6\n"
          ]
        },
        {
          "output_type": "stream",
          "name": "stderr",
          "text": [
            "\rEvaluating responses:  41%|████      | 41/100 [01:43<02:28,  2.52s/sample]"
          ]
        },
        {
          "output_type": "stream",
          "name": "stdout",
          "text": [
            "Evaluation Output:\n",
            "Feedback:\n",
            "- RAG Response:\n",
            "    - Relevance: The response is relevant as it addresses the concern of social withdrawal in youth and its implications.\n",
            "    - Semantic Similarity: The response captures some of the intent of the reference answer but introduces additional concepts (mental health conditions) that are not present in the reference.\n",
            "    - Accuracy: The information about social withdrawal indicating underlying mental health conditions is accurate; however, it could be seen as overly specific compared to the reference.\n",
            "    - Factual Correctness: The facts presented are generally correct and align with common understandings of the topic.\n",
            "    - Completeness: The response provides a broader view by mentioning specific mental health conditions, but it lacks the depth of emotional states like \"hopelessness\" or \"distress\" mentioned in the reference.\n",
            "    - Clarity: The response is clear and easy to understand, effectively communicating the concern.\n",
            "    - Conciseness: The response is concise, but it could be slightly more succinct by avoiding the list format without losing meaning.\n",
            "\n",
            "### Overall Scores:\n",
            "- RAG Overall Score: 7\n"
          ]
        },
        {
          "output_type": "stream",
          "name": "stderr",
          "text": [
            "\rEvaluating responses:  42%|████▏     | 42/100 [01:45<02:17,  2.37s/sample]"
          ]
        },
        {
          "output_type": "stream",
          "name": "stdout",
          "text": [
            "Evaluation Output:\n",
            "Feedback:\n",
            "- RAG Response:\n",
            "    - Relevance: The response is relevant as it addresses the query about ADHD treatment, mentioning key components of treatment plans.\n",
            "    - Semantic Similarity: The response captures the general intent of the reference answer, though it uses slightly different phrasing and includes \"trainings\" which is less common terminology in this context.\n",
            "    - Accuracy: The information provided is accurate as it aligns with common treatment approaches for ADHD.\n",
            "    - Factual Correctness: The response contains correct information regarding treatment options, but \"trainings\" may not be as widely recognized or specific as \"behavior management strategies.\"\n",
            "    - Completeness: The response is somewhat complete but lacks specific mention of behavior management strategies, which are critical in ADHD treatment.\n",
            "    - Clarity: The response is clear and easy to understand, presenting the information in a straightforward manner.\n",
            "    - Conciseness: The response is concise, effectively summarizing treatment options without unnecessary elaboration.\n",
            "\n",
            "### Overall Scores:\n",
            "- RAG Overall Score: 7\n"
          ]
        },
        {
          "output_type": "stream",
          "name": "stderr",
          "text": [
            "\rEvaluating responses:  43%|████▎     | 43/100 [01:47<02:12,  2.33s/sample]"
          ]
        },
        {
          "output_type": "stream",
          "name": "stdout",
          "text": [
            "Evaluation Output:\n",
            "Feedback:\n",
            "- RAG Response:\n",
            "    - Relevance: The response is relevant as it directly addresses the importance of early treatment for schizophrenia, aligning with the query's intent.\n",
            "    - Semantic Similarity: The response captures the essence of the reference answer, discussing recovery and quality of life, which are key components of the original response.\n",
            "    - Accuracy: The information presented is accurate; it correctly states that early treatment is beneficial for recovery and quality of life.\n",
            "    - Factual Correctness: The facts are consistent with general knowledge about schizophrenia and early intervention, aligning well with established medical understanding.\n",
            "    - Completeness: The response is somewhat complete but lacks specific details about how early treatment affects symptoms or the mechanisms behind improved outcomes, which could enhance its depth.\n",
            "    - Clarity: The response is clear and easy to comprehend, effectively communicating the main point without ambiguity.\n",
            "    - Conciseness: The response is concise, delivering the necessary information without unnecessary elaboration.\n",
            "\n",
            "### Overall Scores:\n",
            "- RAG Overall Score: 8\n"
          ]
        },
        {
          "output_type": "stream",
          "name": "stderr",
          "text": [
            "\rEvaluating responses:  44%|████▍     | 44/100 [01:50<02:12,  2.37s/sample]"
          ]
        },
        {
          "output_type": "stream",
          "name": "stdout",
          "text": [
            "Evaluation Output:\n",
            "Feedback:\n",
            "- RAG Response:\n",
            "    - Relevance: The response effectively addresses the query by providing signs of binge eating disorder. It includes relevant details about the disorder, aligning well with the question asked.\n",
            "    - Semantic Similarity: The response captures the core meaning of the reference answer but expands on it with additional context. While it is semantically similar, it introduces more detail than the reference.\n",
            "    - Accuracy: The information presented is accurate and reflects the characteristics of binge eating disorder appropriately.\n",
            "    - Factual Correctness: The facts provided are consistent with reliable sources regarding binge eating disorder, aligning well with the reference answer.\n",
            "    - Completeness: The response is complete, covering multiple signs of binge eating disorder, including feelings associated with the behavior, which adds depth to the understanding.\n",
            "    - Clarity: The response is clear and easy to understand, with a logical flow that makes it accessible to the reader.\n",
            "    - Conciseness: While the response is informative, it could be considered slightly verbose. Some details, such as the mention of using food as a coping mechanism, could be seen as additional context rather than essential to the signs.\n",
            "\n",
            "### Overall Scores:\n",
            "- RAG Overall Score: 8\n"
          ]
        },
        {
          "output_type": "stream",
          "name": "stderr",
          "text": [
            "\rEvaluating responses:  45%|████▌     | 45/100 [01:52<02:05,  2.29s/sample]"
          ]
        },
        {
          "output_type": "stream",
          "name": "stdout",
          "text": [
            "Evaluation Output:\n",
            "Feedback:\n",
            "- RAG Response:\n",
            "    - Relevance: The response is relevant as it directly addresses the impact of binge eating disorder on mental health, discussing related feelings and issues.\n",
            "    - Semantic Similarity: The response captures the core ideas of the reference answer, particularly the feelings of guilt and shame, but it expands slightly beyond the reference, which may dilute the focus.\n",
            "    - Accuracy: The information presented is accurate, as it correctly identifies the relationship between binge eating disorder and mental health issues such as anxiety and despair.\n",
            "    - Factual Correctness: The facts align well with established knowledge about binge eating disorder and its psychological effects, confirming the response's reliability.\n",
            "    - Completeness: The response is somewhat complete, covering feelings of guilt, shame, loneliness, and isolation but does not explicitly mention reduced self-esteem, which is a key aspect of the reference answer.\n",
            "    - Clarity: The response is clear and easy to understand, presenting the information in a straightforward manner without ambiguity.\n",
            "    - Conciseness: The response is concise, effectively conveying the necessary information without unnecessary elaboration.\n",
            "\n",
            "### Overall Scores:\n",
            "- RAG Overall Score: 8\n"
          ]
        },
        {
          "output_type": "stream",
          "name": "stderr",
          "text": [
            "\rEvaluating responses:  46%|████▌     | 46/100 [01:54<01:59,  2.21s/sample]"
          ]
        },
        {
          "output_type": "stream",
          "name": "stdout",
          "text": [
            "Evaluation Output:\n",
            "Feedback:\n",
            "- RAG Response:\n",
            "    - Relevance: The response is highly relevant as it directly addresses the goal of the Garrett Lee Smith Campus program, focusing on mental health services for students.\n",
            "    - Semantic Similarity: The response captures the core intent of the reference answer but includes additional details that expand on the program's focus, making it slightly less similar in phrasing.\n",
            "    - Accuracy: The information provided is accurate and logically sound, aligning well with the objectives of the program.\n",
            "    - Factual Correctness: The response is factually correct and consistent with known information about the Garrett Lee Smith Campus program.\n",
            "    - Completeness: The response is complete, covering various aspects of the program's goals, including mental health services and specific populations at risk.\n",
            "    - Clarity: The response is clear and easy to understand, effectively communicating the program's objectives without ambiguity.\n",
            "    - Conciseness: While the response is informative, it could be slightly more concise. Some details may be considered extraneous for the specific query.\n",
            "\n",
            "### Overall Scores:\n",
            "- RAG Overall Score: 8\n"
          ]
        },
        {
          "output_type": "stream",
          "name": "stderr",
          "text": [
            "\rEvaluating responses:  47%|████▋     | 47/100 [01:56<01:56,  2.20s/sample]"
          ]
        },
        {
          "output_type": "stream",
          "name": "stdout",
          "text": [
            "Evaluation Output:\n",
            "Feedback:\n",
            "- RAG Response:\n",
            "    - Relevance: The response effectively addresses the query regarding how obsessive-compulsive disorder manifests by listing specific symptoms and behaviors associated with OCD.\n",
            "    - Semantic Similarity: While the RAG response provides a broader range of manifestations, it does not closely capture the essence of the reference answer, which emphasizes the connection between obsessions, compulsions, and anxiety reduction.\n",
            "    - Accuracy: The information presented is accurate and aligns with common knowledge about OCD symptoms.\n",
            "    - Factual Correctness: The facts in the RAG response are consistent with reliable sources regarding OCD and its manifestations.\n",
            "    - Completeness: The response is comprehensive, covering various aspects of OCD manifestations, including behaviors in children, which adds depth.\n",
            "    - Clarity: The response is clear and easy to understand, with a straightforward presentation of symptoms.\n",
            "    - Conciseness: While the response is comprehensive, it could be considered slightly lengthy, as some details may be extraneous for a general overview.\n",
            "\n",
            "### Overall Scores:\n",
            "- RAG Overall Score: 7\n"
          ]
        },
        {
          "output_type": "stream",
          "name": "stderr",
          "text": [
            "\rEvaluating responses:  48%|████▊     | 48/100 [01:59<01:58,  2.28s/sample]"
          ]
        },
        {
          "output_type": "stream",
          "name": "stdout",
          "text": [
            "Evaluation Output:\n",
            "Feedback:\n",
            "- RAG Response:\n",
            "    - Relevance: The response is relevant as it addresses the query about resources for self-harm prevention, listing various types of therapeutic options. However, it fails to mention crisis helplines, which are also important resources.\n",
            "    - Semantic Similarity: The response captures the general intent of the reference answer but does not align closely with its phrasing or specific content, particularly the mention of crisis helplines.\n",
            "    - Accuracy: The information provided is accurate regarding the types of therapies and interventions available for self-harm prevention.\n",
            "    - Factual Correctness: The response presents correct information about various therapeutic approaches, but it lacks the mention of crisis helplines, which are a critical component of self-harm prevention resources.\n",
            "    - Completeness: While the response covers several types of therapy, it is not complete as it omits important resources like crisis helplines and support groups.\n",
            "    - Clarity: The response is clear and easy to understand, with a logical structure that outlines the resources effectively.\n",
            "    - Conciseness: The response is concise, providing necessary information without unnecessary details.\n",
            "\n",
            "### Overall Scores:\n",
            "- RAG Overall Score: 7\n"
          ]
        },
        {
          "output_type": "stream",
          "name": "stderr",
          "text": [
            "\rEvaluating responses:  49%|████▉     | 49/100 [02:01<02:00,  2.36s/sample]"
          ]
        },
        {
          "output_type": "stream",
          "name": "stdout",
          "text": [
            "Evaluation Output:\n",
            "Feedback:\n",
            "- RAG Response:\n",
            "    - Relevance: The response effectively addresses the query by explaining the community's role in suicide prevention, emphasizing its impact on the community. However, it could more directly connect to the idea of providing support and resources as highlighted in the reference answer.\n",
            "    - Semantic Similarity: The response captures the general intent of the reference answer but does not fully align with its focus on support, awareness, and resources. The phrasing differs significantly, which diminishes the semantic similarity.\n",
            "    - Accuracy: The information presented in the response is accurate; it correctly identifies the communal impact of suicide, which aligns with the understanding of community responsibility.\n",
            "    - Factual Correctness: The points made are factually correct regarding the emotional and social implications of suicide on a community, though it lacks specific references to actionable measures.\n",
            "    - Completeness: The response is somewhat incomplete as it does not discuss the proactive measures that communities can take, such as providing support, awareness, and resources, which are essential aspects of the query.\n",
            "    - Clarity: The response is clear and easy to understand, presenting its ideas in a straightforward manner.\n",
            "    - Conciseness: The response is concise and avoids unnecessary details, delivering the message in a succinct manner.\n",
            "\n",
            "### Overall Scores:\n",
            "- RAG Overall Score: 6\n"
          ]
        },
        {
          "output_type": "stream",
          "name": "stderr",
          "text": [
            "\rEvaluating responses:  50%|█████     | 50/100 [02:03<01:56,  2.33s/sample]"
          ]
        },
        {
          "output_type": "stream",
          "name": "stdout",
          "text": [
            "Evaluation Output:\n",
            "Feedback:\n",
            "- RAG Response:\n",
            "    - Relevance: The response effectively addresses the query about the main symptoms of schizophrenia by listing relevant symptoms. However, it could be more focused on the main symptoms rather than providing detailed descriptions.\n",
            "    - Semantic Similarity: The response captures the core symptoms mentioned in the reference answer but expands on them, which may slightly diverge from the succinct nature of the reference.\n",
            "    - Accuracy: The information provided is accurate and aligns with established knowledge about schizophrenia symptoms.\n",
            "    - Factual Correctness: The symptoms listed are factually correct and are consistent with reliable sources on schizophrenia.\n",
            "    - Completeness: The response is more comprehensive than the reference answer, covering additional aspects of symptoms, but it may include some details that are not essential for a basic understanding.\n",
            "    - Clarity: The response is clear and understandable, with well-structured sentences that convey the symptoms effectively.\n",
            "    - Conciseness: The response is somewhat lengthy and could be more concise. It includes several examples that, while informative, may be more than what is necessary for a brief answer.\n",
            "\n",
            "### Overall Scores:\n",
            "- RAG Overall Score: 7\n"
          ]
        },
        {
          "output_type": "stream",
          "name": "stderr",
          "text": [
            "\rEvaluating responses:  51%|█████     | 51/100 [02:05<01:48,  2.21s/sample]"
          ]
        },
        {
          "output_type": "stream",
          "name": "stdout",
          "text": [
            "Evaluation Output:\n",
            "Feedback:\n",
            "- RAG Response:\n",
            "    - Relevance: The response effectively addresses the query by outlining ways family members can support a loved one with schizophrenia, making it relevant to the instruction.\n",
            "    - Semantic Similarity: The response captures the essence of the reference answer, emphasizing emotional support and treatment adherence, though it expands on these ideas.\n",
            "    - Accuracy: The information provided is accurate and aligns well with general knowledge about supporting individuals with schizophrenia.\n",
            "    - Factual Correctness: The response presents correct information regarding the support strategies for schizophrenia, consistent with reliable sources.\n",
            "    - Completeness: The response is comprehensive, covering multiple aspects of support, including emotional support, education, and treatment adherence, which adds depth beyond the reference answer.\n",
            "    - Clarity: The response is clearly articulated and easy to understand, with no ambiguous language.\n",
            "    - Conciseness: While the response is a bit longer than the reference answer, it remains focused and avoids unnecessary details, providing relevant information succinctly.\n",
            "\n",
            "### Overall Scores:\n",
            "- RAG Overall Score: 9\n"
          ]
        },
        {
          "output_type": "stream",
          "name": "stderr",
          "text": [
            "\rEvaluating responses:  52%|█████▏    | 52/100 [02:08<01:46,  2.21s/sample]"
          ]
        },
        {
          "output_type": "stream",
          "name": "stdout",
          "text": [
            "Evaluation Output:\n",
            "Feedback:\n",
            "- RAG Response:\n",
            "    - Relevance: The response is relevant as it addresses the treatment of eating disorders, aligning with the query's intent.\n",
            "    - Semantic Similarity: There is some semantic similarity, but the RAG response elaborates more than the reference answer, which is more concise. The core concepts are present but not in the same succinct manner.\n",
            "    - Accuracy: The treatments mentioned (Behavioral Analysis and DBT) are accurate and recognized methods for treating eating disorders, but they are not the only options available.\n",
            "    - Factual Correctness: The information provided is factually correct, as both DBT and professional help are valid components of treatment for eating disorders.\n",
            "    - Completeness: The response provides a more detailed view of treatments, including specific therapeutic approaches, which adds to its completeness compared to the reference answer.\n",
            "    - Clarity: The response is generally clear, but the use of technical terms like \"Behavioral Analysis\" without further explanation may confuse some readers.\n",
            "    - Conciseness: The response is less concise than the reference answer, providing more detail that may be seen as unnecessary for a brief overview.\n",
            "\n",
            "### Overall Scores:\n",
            "- RAG Overall Score: 7\n"
          ]
        },
        {
          "output_type": "stream",
          "name": "stderr",
          "text": [
            "\rEvaluating responses:  53%|█████▎    | 53/100 [02:12<02:10,  2.78s/sample]"
          ]
        },
        {
          "output_type": "stream",
          "name": "stdout",
          "text": [
            "Evaluation Output:\n",
            "Feedback:\n",
            "- RAG Response:\n",
            "    - Relevance: The response effectively addresses the query by discussing how panic disorder affects relationships, particularly through avoidance behaviors. This is relevant to the question asked.\n",
            "    - Semantic Similarity: The response captures the essence of the reference answer regarding the tension and avoidance in relationships, though it expands on the concept with additional details.\n",
            "    - Accuracy: The information presented is accurate in describing the effects of panic disorder on relationships, particularly the avoidance aspect.\n",
            "    - Factual Correctness: The response aligns with general knowledge about panic disorder and its impact on social interactions, thus maintaining factual correctness.\n",
            "    - Completeness: The response offers a more comprehensive view of the issue by explaining the potential consequences of avoidance, such as isolation and disconnection, which adds depth to the answer.\n",
            "    - Clarity: The response is clearly articulated and easy to understand, making it accessible to readers.\n",
            "    - Conciseness: While the response is slightly longer than the reference answer, it remains focused and avoids unnecessary details, maintaining a good level of conciseness.\n",
            "\n",
            "### Overall Scores:\n",
            "- RAG Overall Score: 9\n"
          ]
        },
        {
          "output_type": "stream",
          "name": "stderr",
          "text": [
            "\rEvaluating responses:  54%|█████▍    | 54/100 [02:15<02:19,  3.02s/sample]"
          ]
        },
        {
          "output_type": "stream",
          "name": "stdout",
          "text": [
            "Evaluation Output:\n",
            "Feedback:\n",
            "- RAG Response:\n",
            "    - Relevance: The response is somewhat relevant as it discusses supporting a person showing warning signs of suicide; however, it focuses more on medication and self-care rather than direct actions to help the person in crisis, which is the main intent of the query.\n",
            "    - Semantic Similarity: The response captures some elements of support but does not closely reflect the specific actions mentioned in the reference answer, such as listening without judgment or removing means of self-harm. \n",
            "    - Accuracy: The mention of medication is accurate in the context of mental health treatment but does not directly address immediate support strategies for someone in crisis, which could lead to misunderstanding the urgency of the situation.\n",
            "    - Factual Correctness: While the response contains accurate information regarding self-care and support, it lacks critical information about direct intervention strategies, making it incomplete in context.\n",
            "    - Completeness: The response does not cover essential aspects such as asking about suicidal thoughts or staying with the person, which are crucial in providing immediate help. \n",
            "    - Clarity: The response is clear in its language but could be misleading as it emphasizes self-care over direct support to the individual in crisis, which may not be the best approach in such situations.\n",
            "    - Conciseness: The response could be more concise; it includes some extraneous details about self-care that may detract from the main focus of providing support to the person showing warning signs of suicide.\n",
            "\n",
            "### Overall Scores:\n",
            "- RAG Overall Score: 4\n"
          ]
        },
        {
          "output_type": "stream",
          "name": "stderr",
          "text": [
            "\rEvaluating responses:  55%|█████▌    | 55/100 [02:18<02:11,  2.92s/sample]"
          ]
        },
        {
          "output_type": "stream",
          "name": "stdout",
          "text": [
            "Evaluation Output:\n",
            "Feedback:\n",
            "- RAG Response:\n",
            "    - Relevance: The response effectively addresses the query by outlining how parents should approach conversations about mental health with their children. It provides practical steps that are relevant to the topic.\n",
            "    - Semantic Similarity: The response captures the essence of the reference answer by emphasizing the importance of creating a safe environment and using appropriate language, though it expands on the details more than the reference.\n",
            "    - Accuracy: The information provided is accurate and logically sound, as it reflects common practices for discussing mental health with children.\n",
            "    - Factual Correctness: The advice given is consistent with widely accepted guidelines for mental health conversations, making it factually correct.\n",
            "    - Completeness: The response is quite comprehensive, covering several essential aspects of the topic, such as communication style and emotional awareness during discussions.\n",
            "    - Clarity: The response is clear and easy to understand, with straightforward language that is accessible to a general audience.\n",
            "    - Conciseness: While the response is detailed, it could be considered slightly verbose. However, it manages to remain relevant without unnecessary information.\n",
            "\n",
            "### Overall Scores:\n",
            "- RAG Overall Score: 8\n"
          ]
        },
        {
          "output_type": "stream",
          "name": "stderr",
          "text": [
            "\rEvaluating responses:  56%|█████▌    | 56/100 [02:20<02:03,  2.81s/sample]"
          ]
        },
        {
          "output_type": "stream",
          "name": "stdout",
          "text": [
            "Evaluation Output:\n",
            "Feedback:\n",
            "- RAG Response:\n",
            "    - Relevance: The response effectively addresses the query about treatments for phobias by mentioning exposure therapy and self-help resources. However, it could have benefited from including cognitive-behavioral techniques, which are also significant treatments.\n",
            "    - Semantic Similarity: The response captures the essence of the reference answer by discussing exposure therapy, but it lacks the mention of cognitive-behavioral techniques, which is a key component of the reference.\n",
            "    - Accuracy: The information provided about exposure therapy is accurate and reflects common therapeutic practices for phobias.\n",
            "    - Factual Correctness: The mention of seeking professional help aligns with established practices in treating phobias, making the response factually correct.\n",
            "    - Completeness: While the response includes exposure therapy and self-help resources, it omits cognitive-behavioral techniques, which are critical for a comprehensive understanding of effective treatments for phobias.\n",
            "    - Clarity: The response is clear and easy to understand, presenting the information in a straightforward manner.\n",
            "    - Conciseness: The response is somewhat concise but includes additional details about self-help resources that may not be necessary for a direct answer to the query.\n",
            "\n",
            "### Overall Scores:\n",
            "- RAG Overall Score: 7\n"
          ]
        },
        {
          "output_type": "stream",
          "name": "stderr",
          "text": [
            "\rEvaluating responses:  57%|█████▋    | 57/100 [02:22<01:50,  2.58s/sample]"
          ]
        },
        {
          "output_type": "stream",
          "name": "stdout",
          "text": [
            "Evaluation Output:\n",
            "Feedback:\n",
            "- RAG Response:\n",
            "    - Relevance: The response is relevant as it addresses the purpose of the Native Connections program, focusing on suicide prevention and mental health support for youth.\n",
            "    - Semantic Similarity: The response captures the essence of the reference answer, highlighting the focus on suicide prevention and trauma, although it uses different phrasing.\n",
            "    - Accuracy: The information provided in the response is accurate and aligns with the intended goals of the Native Connections program.\n",
            "    - Factual Correctness: The details about the program's objectives are consistent with reliable sources, confirming the focus on youth and mental health.\n",
            "    - Completeness: The response is somewhat complete but could benefit from explicitly mentioning \"AI/AN youth\" to fully align with the reference answer.\n",
            "    - Clarity: The response is clear and easy to understand, effectively communicating the main points without ambiguity.\n",
            "    - Conciseness: The response is concise and effectively conveys the essential information without unnecessary elaboration.\n",
            "\n",
            "### Overall Scores:\n",
            "- RAG Overall Score: 8\n"
          ]
        },
        {
          "output_type": "stream",
          "name": "stderr",
          "text": [
            "\rEvaluating responses:  58%|█████▊    | 58/100 [02:25<01:45,  2.51s/sample]"
          ]
        },
        {
          "output_type": "stream",
          "name": "stdout",
          "text": [
            "Evaluation Output:\n",
            "Feedback:\n",
            "- RAG Response:\n",
            "    - Relevance: The response effectively addresses the query by distinguishing between social anxiety disorder and shyness, focusing on the impact of social anxiety on daily life.\n",
            "    - Semantic Similarity: The response captures the essence of the reference answer, though it provides a more detailed explanation. It aligns well with the core idea of persistent fear and its interference with daily functioning.\n",
            "    - Accuracy: The information presented is accurate; it correctly identifies the key differences between social anxiety disorder and shyness.\n",
            "    - Factual Correctness: The facts are consistent with reliable sources and align with the reference answer, providing a correct understanding of both conditions.\n",
            "    - Completeness: The response is thorough, covering essential aspects such as the emotional impact and behavioral consequences of social anxiety disorder compared to shyness.\n",
            "    - Clarity: The response is clear and easy to understand, using straightforward language to explain the differences.\n",
            "    - Conciseness: While the response is somewhat longer than necessary, it remains focused and avoids unnecessary details. However, it could be slightly more concise.\n",
            "\n",
            "### Overall Scores:\n",
            "- RAG Overall Score: 9\n"
          ]
        },
        {
          "output_type": "stream",
          "name": "stderr",
          "text": [
            "\rEvaluating responses:  59%|█████▉    | 59/100 [02:28<01:49,  2.66s/sample]"
          ]
        },
        {
          "output_type": "stream",
          "name": "stdout",
          "text": [
            "Evaluation Output:\n",
            "Feedback:\n",
            "- RAG Response:\n",
            "    - Relevance: The response effectively addresses the query by explaining why consistent treatment is important for individuals with schizophrenia. It stays focused on the topic.\n",
            "    - Semantic Similarity: The response captures the essence of the reference answer but expands on it with additional details. While it does not directly mirror the phrasing, it conveys a similar meaning.\n",
            "    - Accuracy: The information presented is accurate regarding the management of schizophrenia and the importance of consistent treatment.\n",
            "    - Factual Correctness: The facts mentioned about managing symptoms, preventing relapses, and the importance of treatment adherence are consistent with established knowledge about schizophrenia.\n",
            "    - Completeness: The response is comprehensive, covering various aspects of consistent treatment, including its impact on personal goals and relationships, which adds depth beyond the reference answer.\n",
            "    - Clarity: The response is clear and well-structured, making it easy to understand the importance of consistent treatment for schizophrenia.\n",
            "    - Conciseness: While the response is somewhat lengthy, it remains focused on the topic without unnecessary elaboration, though it could be slightly more concise.\n",
            "\n",
            "### Overall Scores:\n",
            "- RAG Overall Score: 8\n"
          ]
        },
        {
          "output_type": "stream",
          "name": "stderr",
          "text": [
            "\rEvaluating responses:  60%|██████    | 60/100 [02:30<01:41,  2.55s/sample]"
          ]
        },
        {
          "output_type": "stream",
          "name": "stdout",
          "text": [
            "Evaluation Output:\n",
            "Feedback:\n",
            "- RAG Response:\n",
            "    - Relevance: The response is relevant as it addresses the query about triggers for eating disorders, mentioning factors that could lead to such conditions.\n",
            "    - Semantic Similarity: The response captures the essence of the reference answer, though it lacks some of the specific terms used in the reference, such as \"societal pressures.\"\n",
            "    - Accuracy: The information presented is accurate, as it correctly identifies factors that can trigger eating disorders.\n",
            "    - Factual Correctness: The factors mentioned (genetics, hormones, co-morbid mental disorders) are factually correct and align with established understanding of eating disorders.\n",
            "    - Completeness: The response is somewhat incomplete as it does not mention societal pressures, which is a significant trigger according to the reference answer.\n",
            "    - Clarity: The response is clear and straightforward, making it easy to understand the factors listed.\n",
            "    - Conciseness: The response is concise, providing necessary information without unnecessary elaboration.\n",
            "\n",
            "### Overall Scores:\n",
            "- RAG Overall Score: 7\n"
          ]
        },
        {
          "output_type": "stream",
          "name": "stderr",
          "text": [
            "\rEvaluating responses:  61%|██████    | 61/100 [02:33<01:48,  2.77s/sample]"
          ]
        },
        {
          "output_type": "stream",
          "name": "stdout",
          "text": [
            "Evaluation Output:\n",
            "Feedback:\n",
            "- RAG Response:\n",
            "    - Relevance: The response partially addresses the query by mentioning the interaction between biology and environment, but it fails to directly identify specific triggers of generalized anxiety disorder (GAD) as requested.\n",
            "    - Semantic Similarity: The response captures some of the broader concepts related to GAD but does not align closely with the specific triggers mentioned in the reference answer.\n",
            "    - Accuracy: The statement about the interaction between biology and environment is accurate, but it does not accurately reflect the specific triggers listed in the reference answer.\n",
            "    - Factual Correctness: While the information regarding biology and environment is generally correct, it lacks the specificity needed to fully answer the question about triggers.\n",
            "    - Completeness: The response is incomplete as it does not enumerate or detail the specific triggers that lead to GAD, which is a critical aspect of the query.\n",
            "    - Clarity: The response is clear in its phrasing, but it lacks the necessary detail to fully convey the answer to the question.\n",
            "    - Conciseness: The response is concise, but this brevity comes at the cost of missing essential information.\n",
            "\n",
            "### Overall Scores:\n",
            "- RAG Overall Score: 4\n"
          ]
        },
        {
          "output_type": "stream",
          "name": "stderr",
          "text": [
            "\rEvaluating responses:  62%|██████▏   | 62/100 [02:36<01:45,  2.77s/sample]"
          ]
        },
        {
          "output_type": "stream",
          "name": "stdout",
          "text": [
            "Evaluation Output:\n",
            "Feedback:\n",
            "- RAG Response:\n",
            "    - Relevance: The response is somewhat relevant as it mentions therapy, but it does not directly address NCCA temperament therapy, which is the focus of the query.\n",
            "    - Semantic Similarity: The response does not capture the intent of the reference answer well, as it diverges into discussing Cognitive Behavioral Therapy rather than addressing temperament therapy specifically.\n",
            "    - Accuracy: The mention of Cognitive Behavioral Therapy (CBT) does not accurately relate to NCCA temperament therapy, leading to a lack of accuracy in the context of the query.\n",
            "    - Factual Correctness: The response fails to present correct information about NCCA temperament therapy, as it incorrectly associates it with CBT without explaining its actual focus.\n",
            "    - Completeness: The response lacks completeness as it does not provide any information about NCCA temperament therapy itself, which is essential to the query.\n",
            "    - Clarity: The response is clear in its wording, but it is unclear regarding the specific topic of NCCA temperament therapy, which may confuse the reader.\n",
            "    - Conciseness: The response is concise, but it sacrifices necessary details for brevity, resulting in an incomplete answer.\n",
            "\n",
            "### Overall Scores:\n",
            "- RAG Overall Score: 3\n"
          ]
        },
        {
          "output_type": "stream",
          "name": "stderr",
          "text": [
            "\rEvaluating responses:  63%|██████▎   | 63/100 [02:41<02:00,  3.27s/sample]"
          ]
        },
        {
          "output_type": "stream",
          "name": "stdout",
          "text": [
            "Evaluation Output:\n",
            "Feedback:\n",
            "- RAG Response:\n",
            "    - Relevance: The response is relevant as it addresses the topic of interventions for children facing mental health issues. It provides specific strategies that can be employed, which aligns with the query's intent.\n",
            "    - Semantic Similarity: The response does not closely align with the reference answer, which is more concise and limited in scope. While it captures the general theme of interventions, it diverges significantly in detail and approach.\n",
            "    - Accuracy: The information provided is generally accurate and reflects common practices in addressing mental health issues in children.\n",
            "    - Factual Correctness: The interventions mentioned, such as promoting social and emotional competency and ensuring access to school-based mental health supports, are factually correct and supported by current mental health practices.\n",
            "    - Completeness: The response is comprehensive and covers a wide range of interventions, including prevention and treatment aspects, which adds depth beyond the reference answer.\n",
            "    - Clarity: The response is mostly clear but could be more straightforward. Some phrases could be simplified for better understanding.\n",
            "    - Conciseness: The response is somewhat lengthy and could be more concise. It includes several points that, while relevant, could be streamlined to enhance readability.\n",
            "\n",
            "### Overall Scores:\n",
            "- RAG Overall Score: 7\n"
          ]
        },
        {
          "output_type": "stream",
          "name": "stderr",
          "text": [
            "\rEvaluating responses:  64%|██████▍   | 64/100 [02:43<01:51,  3.09s/sample]"
          ]
        },
        {
          "output_type": "stream",
          "name": "stdout",
          "text": [
            "Evaluation Output:\n",
            "Feedback:\n",
            "- RAG Response:\n",
            "    - Relevance: The response is relevant as it discusses the importance of observing behavior changes in children, but it does not directly address the core reason as succinctly as the reference answer.\n",
            "    - Semantic Similarity: The response somewhat captures the intent of the reference answer by implying the need for early identification of issues, but it lacks the concise articulation of \"timely interventions.\"\n",
            "    - Accuracy: The information provided is generally accurate, highlighting the importance of recognizing behavioral changes and seeking help, but it could be more focused on the specific query.\n",
            "    - Factual Correctness: The response presents correct information about consulting pediatricians and schools, which aligns with general practices in child development, but it does not specify mental health issues as clearly as the reference.\n",
            "    - Completeness: While the response covers several aspects of observing behavior changes, it does not fully encapsulate the critical aspect of early identification of mental health issues, making it less complete than the reference.\n",
            "    - Clarity: The response is clear but could be more straightforward in conveying the main idea without additional context that may distract from the primary focus.\n",
            "    - Conciseness: The response is somewhat verbose and includes extraneous details that do not directly contribute to answering the question, making it less concise than ideal.\n",
            "\n",
            "### Overall Scores:\n",
            "- RAG Overall Score: 5\n"
          ]
        },
        {
          "output_type": "stream",
          "name": "stderr",
          "text": [
            "\rEvaluating responses:  65%|██████▌   | 65/100 [02:46<01:43,  2.95s/sample]"
          ]
        },
        {
          "output_type": "stream",
          "name": "stdout",
          "text": [
            "Evaluation Output:\n",
            "Feedback:\n",
            "- RAG Response:\n",
            "    - Relevance: The response effectively addresses the query by listing relevant factors that contribute to mental health conditions. It is directly aligned with the instruction.\n",
            "    - Semantic Similarity: The response captures the core meaning of the reference answer well, though the phrasing is slightly different. Overall, the intent is preserved.\n",
            "    - Accuracy: The information provided is accurate and reflects common understanding of factors affecting mental health.\n",
            "    - Factual Correctness: The facts presented are consistent with reliable sources and align well with the reference answer.\n",
            "    - Completeness: The response includes the main factors mentioned in the reference answer, but it could benefit from a more detailed explanation or additional context for each factor.\n",
            "    - Clarity: The response is clear and easy to understand, with no ambiguous language.\n",
            "    - Conciseness: The response is concise and avoids unnecessary details, providing just the essential information.\n",
            "\n",
            "### Overall Scores:\n",
            "- RAG Overall Score: 8\n"
          ]
        },
        {
          "output_type": "stream",
          "name": "stderr",
          "text": [
            "\rEvaluating responses:  66%|██████▌   | 66/100 [02:48<01:33,  2.76s/sample]"
          ]
        },
        {
          "output_type": "stream",
          "name": "stdout",
          "text": [
            "Evaluation Output:\n",
            "Feedback:\n",
            "- RAG Response:\n",
            "    - Relevance: The response effectively addresses the query by discussing the importance of early and consistent treatment for mental health conditions, which is relevant to the question.\n",
            "    - Semantic Similarity: The response captures the essence of the reference answer well, though it adds slightly more detail about the types of treatment involved.\n",
            "    - Accuracy: The information provided is accurate in stating that early and consistent treatment can help manage mental health conditions.\n",
            "    - Factual Correctness: The response is factually correct, as it aligns with common understanding of mental health treatment strategies.\n",
            "    - Completeness: The response is somewhat complete, mentioning both medication and psychotherapy, but it could elaborate more on how these treatments help manage conditions.\n",
            "    - Clarity: The response is clear and straightforward, making it easy to understand the main point being conveyed.\n",
            "    - Conciseness: The response is concise but could be slightly more succinct by removing the phrase \"it is possible to manage these conditions,\" which is somewhat redundant.\n",
            "\n",
            "### Overall Scores:\n",
            "- RAG Overall Score: 8\n"
          ]
        },
        {
          "output_type": "stream",
          "name": "stderr",
          "text": [
            "\rEvaluating responses:  67%|██████▋   | 67/100 [02:51<01:26,  2.61s/sample]"
          ]
        },
        {
          "output_type": "stream",
          "name": "stdout",
          "text": [
            "Evaluation Output:\n",
            "Feedback:\n",
            "- RAG Response:\n",
            "    - Relevance: The response is relevant as it addresses the causes of depression in Seasonal Affective Disorder (SAD), specifically mentioning the lack of sunlight.\n",
            "    - Semantic Similarity: The response captures the intent of the reference answer by discussing the impact of seasonal changes on mood, although it does not use the same phrasing.\n",
            "    - Accuracy: The information provided is accurate regarding the effects of sunlight on circadian rhythms and serotonin levels, which are related to mood regulation.\n",
            "    - Factual Correctness: The facts presented are consistent with established knowledge about SAD and its relationship to sunlight exposure.\n",
            "    - Completeness: The response could be seen as slightly incomplete, as it does not explicitly mention the seasonal changes or the specific time of year (fall and winter) that are typically associated with SAD.\n",
            "    - Clarity: The response is clear and easy to understand, with no ambiguous language.\n",
            "    - Conciseness: The response is concise, providing necessary information without unnecessary detail.\n",
            "\n",
            "### Overall Scores:\n",
            "- RAG Overall Score: 8\n"
          ]
        },
        {
          "output_type": "stream",
          "name": "stderr",
          "text": [
            "\rEvaluating responses:  68%|██████▊   | 68/100 [02:53<01:20,  2.53s/sample]"
          ]
        },
        {
          "output_type": "stream",
          "name": "stdout",
          "text": [
            "Evaluation Output:\n",
            "Feedback:\n",
            "- RAG Response:\n",
            "    - Relevance: The RAG response is relevant as it addresses the specific aspects of social anxiety disorder, focusing on fear of embarrassment and avoidance behavior.\n",
            "    - Semantic Similarity: The response captures the essence of the reference answer, particularly the focus on fear and impairment in social situations, though it lacks some nuances present in the reference.\n",
            "    - Accuracy: The information presented is accurate regarding the characteristics of social anxiety disorder, aligning with recognized definitions.\n",
            "    - Factual Correctness: The facts are consistent with reliable sources on social anxiety disorder, confirming the presence of excessive fear and its implications on social interactions.\n",
            "    - Completeness: The response is somewhat complete but could benefit from mentioning the impact on work life, which is a significant aspect highlighted in the reference answer.\n",
            "    - Clarity: The response is clear and easy to understand, effectively communicating the main ideas without ambiguity.\n",
            "    - Conciseness: The response is concise, providing necessary information without unnecessary elaboration.\n",
            "\n",
            "### Overall Scores:\n",
            "- RAG Overall Score: 7\n"
          ]
        },
        {
          "output_type": "stream",
          "name": "stderr",
          "text": [
            "\rEvaluating responses:  69%|██████▉   | 69/100 [02:55<01:17,  2.51s/sample]"
          ]
        },
        {
          "output_type": "stream",
          "name": "stdout",
          "text": [
            "Evaluation Output:\n",
            "Feedback:\n",
            "- RAG Response:\n",
            "    - Relevance: The response directly addresses the query by explaining how the 988 Suicide & Crisis Lifeline supports individuals in crisis, making it highly relevant.\n",
            "    - Semantic Similarity: The response captures the core meaning of the reference answer, though it provides more detail. It aligns well with the intent of the reference.\n",
            "    - Accuracy: The information provided about the Lifeline's services is accurate, detailing the availability of trained counselors and various communication methods.\n",
            "    - Factual Correctness: The facts presented are consistent with known information about the 988 Lifeline and its operations, ensuring factual correctness.\n",
            "    - Completeness: The response is comprehensive, covering multiple aspects of the Lifeline's support mechanisms, including the types of issues addressed and communication options.\n",
            "    - Clarity: The response is clearly articulated, with straightforward language that makes it easy to understand.\n",
            "    - Conciseness: While the response is slightly longer than the reference, it remains focused and avoids unnecessary details, maintaining a good level of conciseness.\n",
            "\n",
            "### Overall Scores:\n",
            "- RAG Overall Score: 9\n"
          ]
        },
        {
          "output_type": "stream",
          "name": "stderr",
          "text": [
            "\rEvaluating responses:  70%|███████   | 70/100 [02:58<01:15,  2.51s/sample]"
          ]
        },
        {
          "output_type": "stream",
          "name": "stdout",
          "text": [
            "Evaluation Output:\n",
            "Feedback:\n",
            "- RAG Response:\n",
            "    - Relevance: The response is highly relevant as it directly addresses lifestyle changes that can help manage Seasonal Affective Disorder (SAD).\n",
            "    - Semantic Similarity: The response captures the intent of the reference answer but expands on it significantly, which makes it less semantically similar despite both discussing the importance of light and sleep.\n",
            "    - Accuracy: The information provided is accurate and reflects common recommendations for managing SAD.\n",
            "    - Factual Correctness: The suggestions made in the response are consistent with recognized methods for managing SAD, such as exposure to natural light and maintaining healthy habits.\n",
            "    - Completeness: The response is quite complete, offering a wide range of lifestyle changes, whereas the reference answer is quite limited in scope.\n",
            "    - Clarity: The response is clear and easy to understand, with each suggestion presented in a straightforward manner.\n",
            "    - Conciseness: While the response is detailed, it could be seen as slightly lengthy. Some points could be condensed for a more succinct delivery.\n",
            "\n",
            "### Overall Scores:\n",
            "- RAG Overall Score: 8\n"
          ]
        },
        {
          "output_type": "stream",
          "name": "stderr",
          "text": [
            "\rEvaluating responses:  71%|███████   | 71/100 [03:00<01:13,  2.53s/sample]"
          ]
        },
        {
          "output_type": "stream",
          "name": "stdout",
          "text": [
            "Evaluation Output:\n",
            "Feedback:\n",
            "- RAG Response:\n",
            "    - Relevance: The response is relevant as it discusses self-harm behaviors and their initiation during teenage years, which aligns with the query about causes. However, it could more directly address the specific causes mentioned in the reference answer.\n",
            "    - Semantic Similarity: The response captures the essence of emotional distress as a cause but does not explicitly link it to coping with negative feelings, which is a key aspect of the reference answer.\n",
            "    - Accuracy: The information presented about self-harm behaviors is accurate, particularly regarding the age of onset and the coping mechanisms involved.\n",
            "    - Factual Correctness: The facts provided are consistent with general understanding and knowledge about self-harm, making them reliable and valid.\n",
            "    - Completeness: The response is somewhat complete, as it covers aspects of self-harm behaviors, but it lacks a concise mention of emotional distress as a cause, which is critical.\n",
            "    - Clarity: The response is clear and easy to understand, providing a straightforward explanation of self-harm behaviors.\n",
            "    - Conciseness: While the response is mostly concise, it could be streamlined further by focusing more directly on the causes rather than the behaviors associated with self-harm.\n",
            "\n",
            "### Overall Scores:\n",
            "- RAG Overall Score: 7\n"
          ]
        },
        {
          "output_type": "stream",
          "name": "stderr",
          "text": [
            "\rEvaluating responses:  72%|███████▏  | 72/100 [03:03<01:10,  2.50s/sample]"
          ]
        },
        {
          "output_type": "stream",
          "name": "stdout",
          "text": [
            "Evaluation Output:\n",
            "Feedback:\n",
            "- RAG Response:\n",
            "    - Relevance: The response is relevant as it directly addresses the query about common self-harm behaviors.\n",
            "    - Semantic Similarity: The response captures the intent of the reference answer well, though it provides a more extensive list of examples rather than a concise summary.\n",
            "    - Accuracy: The behaviors listed are accurate indicators of self-harm and align with common understanding.\n",
            "    - Factual Correctness: The information provided is factually correct and consistent with what is generally known about self-harm behaviors.\n",
            "    - Completeness: The response is quite complete, offering a variety of behaviors that indicate self-harm, which enhances its thoroughness.\n",
            "    - Clarity: The response is clear and easy to understand, with each behavior presented in a straightforward manner.\n",
            "    - Conciseness: The response is somewhat lengthy, listing multiple examples, which could be seen as excessive given the instruction for common behaviors.\n",
            "\n",
            "### Overall Scores:\n",
            "- RAG Overall Score: 8\n"
          ]
        },
        {
          "output_type": "stream",
          "name": "stderr",
          "text": [
            "\rEvaluating responses:  73%|███████▎  | 73/100 [03:05<01:06,  2.45s/sample]"
          ]
        },
        {
          "output_type": "stream",
          "name": "stdout",
          "text": [
            "Evaluation Output:\n",
            "Feedback:\n",
            "- RAG Response:\n",
            "    - Relevance: The response effectively addresses the query about common symptoms of depression in individuals with Seasonal Affective Disorder (SAD), listing several pertinent symptoms.\n",
            "    - Semantic Similarity: The response captures the essence of the reference answer, though it includes additional symptoms that are not mentioned in the reference. This demonstrates a broader understanding of the topic.\n",
            "    - Accuracy: The symptoms listed are accurate and align well with established knowledge about SAD.\n",
            "    - Factual Correctness: The facts presented are consistent with reliable sources regarding SAD and its symptoms, confirming the response's accuracy.\n",
            "    - Completeness: The response is quite complete, covering a wide range of symptoms associated with SAD, including some that are not mentioned in the reference answer.\n",
            "    - Clarity: The response is clear and straightforward, making it easy for the reader to understand the symptoms listed.\n",
            "    - Conciseness: While the response is detailed, it could be considered slightly verbose. However, the level of detail is appropriate for the context, so it does not detract significantly from the overall quality.\n",
            "\n",
            "### Overall Scores:\n",
            "- RAG Overall Score: 9\n"
          ]
        },
        {
          "output_type": "stream",
          "name": "stderr",
          "text": [
            "\rEvaluating responses:  74%|███████▍  | 74/100 [03:08<01:07,  2.62s/sample]"
          ]
        },
        {
          "output_type": "stream",
          "name": "stdout",
          "text": [
            "Evaluation Output:\n",
            "Feedback:\n",
            "- RAG Response:\n",
            "    - Relevance: The response is highly relevant as it directly addresses the warning signs of suicide for adults, which is the main focus of the query.\n",
            "    - Semantic Similarity: The response captures the intent of the reference answer well, although it provides a more extensive list of signs. It aligns with the core concepts presented in the reference.\n",
            "    - Accuracy: The information presented in the response is accurate and aligns with common understanding of warning signs associated with suicide.\n",
            "    - Factual Correctness: The facts are consistent with reliable sources on the topic of suicide prevention and warning signs, matching the reference answer's emphasis on key indicators.\n",
            "    - Completeness: The response is complete, as it lists multiple warning signs, offering more detail than the reference answer, which could be seen as a strength.\n",
            "    - Clarity: The response is clear and easy to understand, with each warning sign presented in a straightforward manner.\n",
            "    - Conciseness: While the response is detailed, it could be considered slightly less concise due to the length of the list. However, it effectively conveys necessary information.\n",
            "\n",
            "### Overall Scores:\n",
            "- RAG Overall Score: 9\n"
          ]
        },
        {
          "output_type": "stream",
          "name": "stderr",
          "text": [
            "\rEvaluating responses:  75%|███████▌  | 75/100 [03:10<01:02,  2.51s/sample]"
          ]
        },
        {
          "output_type": "stream",
          "name": "stdout",
          "text": [
            "Evaluation Output:\n",
            "Feedback:\n",
            "- RAG Response:\n",
            "    - Relevance: The response effectively addresses the query by defining mental health and its components, which is directly relevant to the question asked.\n",
            "    - Semantic Similarity: The response captures the essence of the reference answer, though it expands on it with additional details. The core meaning is preserved.\n",
            "    - Accuracy: The information provided is accurate and aligns well with established definitions of mental health.\n",
            "    - Factual Correctness: The details included in the response are factually correct and consistent with reliable sources regarding mental health.\n",
            "    - Completeness: The response is more complete than the reference answer as it elaborates on how mental health affects behavior and decision-making, providing a fuller picture.\n",
            "    - Clarity: The response is clear and easy to understand, with no ambiguous language or complex jargon that might confuse the reader.\n",
            "    - Conciseness: While the response is slightly longer than the reference answer, it remains concise and avoids unnecessary elaboration, focusing on relevant information.\n",
            "\n",
            "### Overall Scores:\n",
            "- RAG Overall Score: 9\n"
          ]
        },
        {
          "output_type": "stream",
          "name": "stderr",
          "text": [
            "\rEvaluating responses:  76%|███████▌  | 76/100 [03:13<01:01,  2.54s/sample]"
          ]
        },
        {
          "output_type": "stream",
          "name": "stdout",
          "text": [
            "Evaluation Output:\n",
            "Feedback:\n",
            "- RAG Response:\n",
            "    - Relevance: The response is relevant as it directly addresses how therapy, specifically CBT, helps individuals understand their thought processes.\n",
            "    - Semantic Similarity: The response captures the essence of the reference answer but is somewhat more detailed. It reflects the same meaning but with added emphasis on CBT's role.\n",
            "    - Accuracy: The information provided regarding CBT's role in understanding thought processes is accurate and aligns with established psychological principles.\n",
            "    - Factual Correctness: The facts presented are consistent with reliable sources regarding CBT and its effects on thought processes.\n",
            "    - Completeness: The response is fairly complete, covering the relationship between thoughts, beliefs, and behaviors, though it could briefly mention other forms of therapy for broader context.\n",
            "    - Clarity: The response is clear and easy to understand, effectively communicating the main ideas without ambiguity.\n",
            "    - Conciseness: While the response is mostly concise, it could be slightly more succinct by omitting some repetitive phrases.\n",
            "\n",
            "### Overall Scores:\n",
            "- RAG Overall Score: 8\n"
          ]
        },
        {
          "output_type": "stream",
          "name": "stderr",
          "text": [
            "\rEvaluating responses:  77%|███████▋  | 77/100 [03:16<00:59,  2.59s/sample]"
          ]
        },
        {
          "output_type": "stream",
          "name": "stdout",
          "text": [
            "Evaluation Output:\n",
            "Feedback:\n",
            "- RAG Response:\n",
            "    - Relevance: The response effectively addresses the query about overcoming self-harm tendencies by discussing professional help and alternative coping mechanisms. It is relevant to the question asked.\n",
            "    - Semantic Similarity: The response captures the essence of the reference answer by mentioning therapy and coping mechanisms, but it elaborates more on the types of therapy, which slightly diverges from the brevity of the reference.\n",
            "    - Accuracy: The information provided about DBT and the importance of recognizing self-harm as a temporary solution is accurate and aligns with established therapeutic practices.\n",
            "    - Factual Correctness: The facts presented are consistent with reliable sources regarding self-harm treatment and coping strategies, making the response factually correct.\n",
            "    - Completeness: The response is thorough and provides a comprehensive view of how to overcome self-harm tendencies, covering multiple aspects that the reference answer only briefly mentions.\n",
            "    - Clarity: The response is clear and well-structured, making it easy to understand the points being made about therapy and coping mechanisms.\n",
            "    - Conciseness: While the response is informative, it could be considered slightly verbose compared to the reference answer, which is more succinct.\n",
            "\n",
            "### Overall Scores:\n",
            "- RAG Overall Score: 8\n"
          ]
        },
        {
          "output_type": "stream",
          "name": "stderr",
          "text": [
            "\rEvaluating responses:  78%|███████▊  | 78/100 [03:18<00:53,  2.45s/sample]"
          ]
        },
        {
          "output_type": "stream",
          "name": "stdout",
          "text": [
            "Evaluation Output:\n",
            "Feedback:\n",
            "- RAG Response:\n",
            "    - Relevance: The response is relevant as it directly addresses how the Native Connections initiative supports youth, focusing on suicide prevention and mental health, which aligns with the intent of the query.\n",
            "    - Semantic Similarity: The response captures the essence of the reference answer by mentioning trauma and mental health, but it is more detailed and does not encapsulate the brevity of the reference answer.\n",
            "    - Accuracy: The information provided is accurate and reflects the goals of the Native Connections initiative as it pertains to youth support.\n",
            "    - Factual Correctness: The facts presented are consistent with the known objectives of the Native Connections initiative, making the response factually correct.\n",
            "    - Completeness: The response is complete in that it outlines several aspects of support, such as community-based suicide prevention and culturally responsive models, thus covering more ground than the reference answer.\n",
            "    - Clarity: The response is clearly articulated, making it easy to understand the initiative's objectives.\n",
            "    - Conciseness: While the response is clear, it is somewhat verbose compared to the reference answer, which is more succinct.\n",
            "\n",
            "### Overall Scores:\n",
            "- RAG Overall Score: 8\n"
          ]
        },
        {
          "output_type": "stream",
          "name": "stderr",
          "text": [
            "\rEvaluating responses:  79%|███████▉  | 79/100 [03:20<00:49,  2.37s/sample]"
          ]
        },
        {
          "output_type": "stream",
          "name": "stdout",
          "text": [
            "Evaluation Output:\n",
            "Feedback:\n",
            "- RAG Response:\n",
            "    - Relevance: The response is relevant as it addresses the importance of early intervention for warning signs of depression, aligning with the query.\n",
            "    - Semantic Similarity: The response captures the essence of the reference answer by emphasizing early intervention, but it is more detailed and somewhat diverges from the succinctness of the reference.\n",
            "    - Accuracy: The information provided about the symptoms of Major Depressive Disorder and the importance of early detection is accurate and aligns with common medical understanding.\n",
            "    - Factual Correctness: The facts presented are consistent with reliable sources regarding depression and its diagnosis, making the response factually correct.\n",
            "    - Completeness: The response is fairly complete, discussing the variability of symptoms and the benefits of early detection, although it could be more focused on the core point of preventing worsening symptoms.\n",
            "    - Clarity: The response is clear and easy to understand, with no ambiguous language.\n",
            "    - Conciseness: The response could be more concise; it includes some extraneous details about consulting a doctor that are not strictly necessary to answer the query.\n",
            "\n",
            "### Overall Scores:\n",
            "- RAG Overall Score: 7\n"
          ]
        },
        {
          "output_type": "stream",
          "name": "stderr",
          "text": [
            "\rEvaluating responses:  80%|████████  | 80/100 [03:22<00:47,  2.36s/sample]"
          ]
        },
        {
          "output_type": "stream",
          "name": "stdout",
          "text": [
            "Evaluation Output:\n",
            "Feedback:\n",
            "- RAG Response:\n",
            "    - Relevance: The response is relevant as it directly addresses the aim of the Zero Suicide framework, focusing on suicide prevention strategies for adults.\n",
            "    - Semantic Similarity: The response captures the intent of the reference answer well, though it introduces additional details about health equity principles that are not mentioned in the reference.\n",
            "    - Accuracy: The information presented is accurate regarding the Zero Suicide framework's goals.\n",
            "    - Factual Correctness: The response aligns well with known facts about the Zero Suicide framework, confirming its focus on comprehensive strategies.\n",
            "    - Completeness: The response provides a more detailed view of the framework by mentioning health equity principles, which adds to its completeness compared to the reference answer.\n",
            "    - Clarity: The response is clear and straightforward, making it easy to understand the framework's objectives.\n",
            "    - Conciseness: While the response is mostly concise, the inclusion of \"health equity principles\" may be seen as slightly extraneous in the context of the original query, which could have been more succinct.\n",
            "\n",
            "### Overall Scores:\n",
            "- RAG Overall Score: 8\n"
          ]
        },
        {
          "output_type": "stream",
          "name": "stderr",
          "text": [
            "\rEvaluating responses:  81%|████████  | 81/100 [03:24<00:42,  2.25s/sample]"
          ]
        },
        {
          "output_type": "stream",
          "name": "stdout",
          "text": [
            "Evaluation Output:\n",
            "Feedback:\n",
            "- RAG Response:\n",
            "    - Relevance: The response is relevant as it directly addresses the query regarding how increased substance use can indicate suicide risk in adults.\n",
            "    - Semantic Similarity: The response captures the core idea of the reference answer, focusing on the link between substance use and emotional pain, though it lacks the specific mention of coping mechanisms.\n",
            "    - Accuracy: The information provided is accurate, correctly linking increased substance use to underlying mental health issues.\n",
            "    - Factual Correctness: The facts presented align with common understandings in mental health discussions and are consistent with the reference answer.\n",
            "    - Completeness: The response is somewhat incomplete as it does not explicitly mention the aspect of coping with emotional pain, which is a critical part of the reference answer.\n",
            "    - Clarity: The response is clear and easy to understand, effectively communicating its message.\n",
            "    - Conciseness: The response is concise, delivering the necessary information without unnecessary elaboration.\n",
            "\n",
            "### Overall Scores:\n",
            "- RAG Overall Score: 7\n"
          ]
        },
        {
          "output_type": "stream",
          "name": "stderr",
          "text": [
            "\rEvaluating responses:  82%|████████▏ | 82/100 [03:30<00:58,  3.26s/sample]"
          ]
        },
        {
          "output_type": "stream",
          "name": "stdout",
          "text": [
            "Evaluation Output:\n",
            "Feedback:\n",
            "- RAG Response:\n",
            "    - Relevance: The response is highly relevant as it directly addresses the question about early warning signs of mental health problems.\n",
            "    - Semantic Similarity: The response captures the intent of the reference answer but provides a broader list of signs, which may slightly deviate from the more concise nature of the reference.\n",
            "    - Accuracy: The information presented in the response is accurate and reflects common early warning signs of mental health issues.\n",
            "    - Factual Correctness: The facts provided are consistent with reliable sources on mental health, aligning well with general knowledge in the field.\n",
            "    - Completeness: The response is quite complete, listing multiple signs of mental health problems, though it could be argued that it includes some less common signs that may not be as universally recognized.\n",
            "    - Clarity: The response is clear, but the length and complexity of the list may make it slightly overwhelming for some readers.\n",
            "    - Conciseness: The response could be more concise; it presents many signs, which could be streamlined for better readability without losing essential information.\n",
            "\n",
            "### Overall Scores:\n",
            "- RAG Overall Score: 8\n"
          ]
        },
        {
          "output_type": "stream",
          "name": "stderr",
          "text": [
            "\rEvaluating responses:  83%|████████▎ | 83/100 [03:32<00:49,  2.93s/sample]"
          ]
        },
        {
          "output_type": "stream",
          "name": "stdout",
          "text": [
            "Evaluation Output:\n",
            "Feedback:\n",
            "- RAG Response:\n",
            "    - Relevance: The response is relevant as it discusses ways caregivers can communicate about mental health with children, aligning well with the query.\n",
            "    - Semantic Similarity: The response does not capture the essence of the reference answer, which emphasizes simplicity and comfort. It is more detailed and deviates from the concise nature of the reference.\n",
            "    - Accuracy: The information provided is accurate and logically sound, offering appropriate strategies for discussing mental health with children.\n",
            "    - Factual Correctness: The response contains correct and reliable suggestions for discussing mental health, consistent with common advice for caregivers.\n",
            "    - Completeness: The response is complete, covering various aspects of the discussion process, including age-appropriateness and emotional awareness.\n",
            "    - Clarity: The response is clear and easy to understand, making it accessible for caregivers.\n",
            "    - Conciseness: The response could be more concise; it includes some extraneous details that could be streamlined for brevity.\n",
            "\n",
            "### Overall Scores:\n",
            "- RAG Overall Score: 7\n"
          ]
        },
        {
          "output_type": "stream",
          "name": "stderr",
          "text": [
            "\rEvaluating responses:  84%|████████▍ | 84/100 [03:35<00:48,  3.00s/sample]"
          ]
        },
        {
          "output_type": "stream",
          "name": "stdout",
          "text": [
            "Evaluation Output:\n",
            "Feedback:\n",
            "- RAG Response:\n",
            "    - Relevance: The response effectively addresses the query by differentiating phobias from general anxiety, which is the main focus of the question.\n",
            "    - Semantic Similarity: The response captures the essence of the reference answer, emphasizing the irrational nature of phobias and the ongoing nature of general anxiety, though it includes additional details that slightly expand on the original meaning.\n",
            "    - Accuracy: The information provided is accurate, correctly stating that phobias are irrational fears and that general anxiety involves excessive worry.\n",
            "    - Factual Correctness: The facts presented align well with psychological definitions and concepts related to phobias and general anxiety, confirming its correctness.\n",
            "    - Completeness: The response offers a thorough explanation, including treatment options for both conditions, which adds depth to the answer, although it is not strictly necessary for the comparison.\n",
            "    - Clarity: The response is clear and easy to understand, with well-structured sentences that convey the differences effectively.\n",
            "    - Conciseness: While the response is generally concise, the inclusion of treatment methods may be seen as slightly extraneous, which could have been omitted for a more succinct answer.\n",
            "\n",
            "### Overall Scores:\n",
            "- RAG Overall Score: 8\n"
          ]
        },
        {
          "output_type": "stream",
          "name": "stderr",
          "text": [
            "\rEvaluating responses:  85%|████████▌ | 85/100 [03:38<00:42,  2.82s/sample]"
          ]
        },
        {
          "output_type": "stream",
          "name": "stdout",
          "text": [
            "Evaluation Output:\n",
            "Feedback:\n",
            "- RAG Response:\n",
            "    - Relevance: The response effectively addresses the query by explaining how the 988 Lifeline provides crisis support, making it relevant to the question asked.\n",
            "    - Semantic Similarity: The response captures the essence of the reference answer by mentioning the connection to trained counselors and the 24/7 service, though it elaborates further than the reference.\n",
            "    - Accuracy: The information provided is accurate regarding the services offered by the 988 Lifeline and aligns with known facts about the organization.\n",
            "    - Factual Correctness: The details about the Lifeline being free, confidential, and available 24/7 are factually correct and consistent with reliable sources.\n",
            "    - Completeness: The response is complete as it covers multiple aspects of the Lifeline's services, including specialized lines and additional resources, which adds depth to the answer.\n",
            "    - Clarity: The response is clear and well-structured, making it easy to understand the services provided by the Lifeline.\n",
            "    - Conciseness: While the response is thorough, it could be considered slightly verbose. Some details could be streamlined to enhance conciseness without losing essential information.\n",
            "\n",
            "### Overall Scores:\n",
            "- RAG Overall Score: 9\n"
          ]
        },
        {
          "output_type": "stream",
          "name": "stderr",
          "text": [
            "\rEvaluating responses:  86%|████████▌ | 86/100 [03:40<00:38,  2.74s/sample]"
          ]
        },
        {
          "output_type": "stream",
          "name": "stdout",
          "text": [
            "Evaluation Output:\n",
            "Feedback:\n",
            "- RAG Response:\n",
            "    - Relevance: The response is somewhat relevant as it discusses therapy as a coping technique for social anxiety, but it lacks mention of other common techniques that are typically included, such as mindfulness and gradual exposure.\n",
            "    - Semantic Similarity: The response captures some of the intent of the reference answer by discussing therapy, but it does not align well with the broader range of techniques mentioned in the reference.\n",
            "    - Accuracy: The information about therapy is accurate; however, the response misses other effective coping techniques, which reduces its overall accuracy in addressing the query.\n",
            "    - Factual Correctness: The mention of neurofeedback and biofeedback is accurate but not widely recognized as common coping techniques for social anxiety, which could mislead readers.\n",
            "    - Completeness: The response is incomplete as it does not cover a variety of coping techniques, omitting key methods such as mindfulness and gradual exposure that are essential to the topic.\n",
            "    - Clarity: The response is clear in its discussion of therapy, but it could be more straightforward in presenting a list of common coping techniques.\n",
            "    - Conciseness: The response is moderately concise but could be more succinct by focusing on the most common techniques without delving into specific types of therapy that may not be widely applicable.\n",
            "\n",
            "### Overall Scores:\n",
            "- RAG Overall Score: 5\n"
          ]
        },
        {
          "output_type": "stream",
          "name": "stderr",
          "text": [
            "\rEvaluating responses:  87%|████████▋ | 87/100 [03:43<00:35,  2.75s/sample]"
          ]
        },
        {
          "output_type": "stream",
          "name": "stdout",
          "text": [
            "Evaluation Output:\n",
            "Feedback:\n",
            "- RAG Response:\n",
            "    - Relevance: The response mentions Dialectical Behavior Therapy (DBT) as a support option, which is relevant to the query about support for binge eating disorder. However, it does not address other potential support options, making it partially relevant.\n",
            "    - Semantic Similarity: The response does not capture the essence of the reference answer, which highlights support groups and tailored nutrition counseling. The focus on DBT does not align well with the simpler concepts presented in the reference.\n",
            "    - Accuracy: The mention of DBT is accurate in the context of treatment for binge eating disorder, but it does not encompass the broader range of support options available.\n",
            "    - Factual Correctness: The information regarding DBT is factually correct, but the lack of mention of other support options diminishes the overall factual coverage.\n",
            "    - Completeness: The response is incomplete as it only discusses DBT and omits other critical support options like support groups and nutrition counseling, which are essential aspects of treatment.\n",
            "    - Clarity: The response is somewhat convoluted and could be clearer. The phrasing is complex and may confuse readers about the main point being made.\n",
            "    - Conciseness: The response is overly verbose and includes unnecessary details that detract from the main message. A more concise approach would improve clarity and impact.\n",
            "\n",
            "### Overall Scores:\n",
            "- RAG Overall Score: 4\n"
          ]
        },
        {
          "output_type": "stream",
          "name": "stderr",
          "text": [
            "\rEvaluating responses:  88%|████████▊ | 88/100 [03:46<00:32,  2.72s/sample]"
          ]
        },
        {
          "output_type": "stream",
          "name": "stdout",
          "text": [
            "Evaluation Output:\n",
            "Feedback:\n",
            "- RAG Response:\n",
            "    - Relevance: The response directly addresses the importance of early intervention in children's mental health, aligning well with the query's intent. However, it could be more focused on the specific reasons why early intervention is critical.\n",
            "    - Semantic Similarity: The response captures the essence of the reference answer, emphasizing prevention and development, but it does so in a more detailed manner. The core message is similar, though the phrasing differs.\n",
            "    - Accuracy: The information provided is accurate and logically sound, explaining the benefits of early mental health intervention in children.\n",
            "    - Factual Correctness: The facts presented are consistent with established knowledge about mental health interventions and their benefits, thus maintaining factual correctness.\n",
            "    - Completeness: The response is quite comprehensive, covering several important aspects of early intervention, such as promoting development and recognizing warning signs. However, it could be more succinct and focused on the core points.\n",
            "    - Clarity: The response is clear and easy to understand, with a straightforward explanation of the importance of early mental health intervention.\n",
            "    - Conciseness: While the response is informative, it could be more concise. Some points could be streamlined to eliminate redundancy and enhance clarity.\n",
            "\n",
            "### Overall Scores:\n",
            "- RAG Overall Score: 7\n"
          ]
        },
        {
          "output_type": "stream",
          "name": "stderr",
          "text": [
            "\rEvaluating responses:  89%|████████▉ | 89/100 [03:48<00:28,  2.60s/sample]"
          ]
        },
        {
          "output_type": "stream",
          "name": "stdout",
          "text": [
            "Evaluation Output:\n",
            "Feedback:\n",
            "- RAG Response:\n",
            "    - Relevance: The response is highly relevant to the query as it directly addresses the role of extreme mood swings in suicide risk, making it pertinent to the question asked.\n",
            "    - Semantic Similarity: The response captures the essence of the reference answer by discussing emotional pain and its implications but does not directly mention the impact on relationships, which is a key point in the reference.\n",
            "    - Accuracy: The information provided is accurate regarding the association between mood swings and suicide risk, aligning well with psychological understanding.\n",
            "    - Factual Correctness: The response presents factually correct information consistent with reliable sources about the signs of suicide risk.\n",
            "    - Completeness: The response is comprehensive, covering multiple aspects related to mood swings and their implications for suicide risk, including associated signs and the importance of seeking help.\n",
            "    - Clarity: The response is clear and easy to understand, with a logical flow of ideas that effectively communicates the message.\n",
            "    - Conciseness: While the response is thorough, it could be slightly more concise; some details, such as the mention of other signs, may be seen as slightly extraneous for a direct answer.\n",
            "\n",
            "### Overall Scores:\n",
            "- RAG Overall Score: 8\n"
          ]
        },
        {
          "output_type": "stream",
          "name": "stderr",
          "text": [
            "\rEvaluating responses:  90%|█████████ | 90/100 [03:50<00:24,  2.49s/sample]"
          ]
        },
        {
          "output_type": "stream",
          "name": "stdout",
          "text": [
            "Evaluation Output:\n",
            "Feedback:\n",
            "- RAG Response:\n",
            "    - Relevance: The response is highly relevant as it directly addresses the query about how schools can help prevent self-harm among students by outlining multiple strategies and interventions.\n",
            "    - Semantic Similarity: The response captures the intent of the reference answer, though it provides a more detailed approach rather than a direct semantic match. The broader strategies mentioned align with the idea of providing mental health support.\n",
            "    - Accuracy: The information provided is accurate and reflects common practices in schools regarding mental health support and intervention.\n",
            "    - Factual Correctness: The facts presented are consistent with established understandings of mental health support in educational settings and are logically sound.\n",
            "    - Completeness: The response is comprehensive, covering various aspects of prevention strategies, including training for educators, crisis support, and promoting help-seeking behavior, which exceeds the simplicity of the reference answer.\n",
            "    - Clarity: The response is clear and well-structured, making it easy to follow the suggested strategies for prevention.\n",
            "    - Conciseness: While the response is thorough, it could be considered slightly verbose. Some points could be streamlined for greater succinctness without losing essential information.\n",
            "\n",
            "### Overall Scores:\n",
            "- RAG Overall Score: 8\n"
          ]
        },
        {
          "output_type": "stream",
          "name": "stderr",
          "text": [
            "\rEvaluating responses:  91%|█████████ | 91/100 [03:52<00:21,  2.42s/sample]"
          ]
        },
        {
          "output_type": "stream",
          "name": "stdout",
          "text": [
            "Evaluation Output:\n",
            "Feedback:\n",
            "- RAG Response:\n",
            "    - Relevance: The response is highly relevant as it directly addresses the differences between SAD and general depression, aligning well with the query's intent.\n",
            "    - Semantic Similarity: The response captures the essence of the reference answer, highlighting the seasonal aspect of SAD compared to general depression, though it elaborates more than the reference.\n",
            "    - Accuracy: The information presented is accurate, correctly noting the seasonal triggers of SAD and the various factors contributing to general depression.\n",
            "    - Factual Correctness: The facts are consistent with established knowledge about SAD and general depression, making the response factually correct.\n",
            "    - Completeness: The response is complete, covering key aspects such as symptoms, triggers, and the seasonal pattern of SAD, which enhances understanding.\n",
            "    - Clarity: The response is clear and easy to understand, with well-structured sentences that convey the differences effectively.\n",
            "    - Conciseness: While the response is comprehensive, it could be slightly more concise. Some details, such as the specific factors causing general depression, could be summarized more succinctly.\n",
            "\n",
            "### Overall Scores:\n",
            "- RAG Overall Score: 8\n"
          ]
        },
        {
          "output_type": "stream",
          "name": "stderr",
          "text": [
            "\rEvaluating responses:  92%|█████████▏| 92/100 [03:55<00:18,  2.36s/sample]"
          ]
        },
        {
          "output_type": "stream",
          "name": "stdout",
          "text": [
            "Evaluation Output:\n",
            "Feedback:\n",
            "- RAG Response:\n",
            "    - Relevance: The response is relevant to the query as it discusses practices that can improve emotional and spiritual well-being. However, it could be more aligned with the simplicity aspect mentioned in the instruction.\n",
            "    - Semantic Similarity: The response does not capture the essence of the reference answer, which emphasizes accessibility in daily life practices, while the RAG response focuses on specific techniques.\n",
            "    - Accuracy: The information provided is accurate and reflects common practices that contribute to emotional and spiritual well-being.\n",
            "    - Factual Correctness: The facts presented, such as the benefits of meditation, sleep, and exercise, are consistent with established knowledge in well-being.\n",
            "    - Completeness: The response covers several practices but could benefit from a more holistic view that aligns with the simplicity and accessibility highlighted in the reference answer.\n",
            "    - Clarity: The response is clear and easy to understand, with straightforward explanations of the practices mentioned.\n",
            "    - Conciseness: The response is mostly concise but could be streamlined further by removing less essential details like the mention of the \"Headspace\" app, which may not be necessary for a general overview.\n",
            "\n",
            "### Overall Scores:\n",
            "- RAG Overall Score: 7\n"
          ]
        },
        {
          "output_type": "stream",
          "name": "stderr",
          "text": [
            "\rEvaluating responses:  93%|█████████▎| 93/100 [03:57<00:16,  2.31s/sample]"
          ]
        },
        {
          "output_type": "stream",
          "name": "stdout",
          "text": [
            "Evaluation Output:\n",
            "Feedback:\n",
            "- RAG Response:\n",
            "    - Relevance: The response is relevant as it addresses the psychological factors contributing to eating disorders, aligning well with the query.\n",
            "    - Semantic Similarity: The response captures the intent of the reference answer but goes into more detail, which slightly diverges from the succinctness of the reference.\n",
            "    - Accuracy: The information provided is accurate and logically sound, identifying various psychological and social factors related to eating disorders.\n",
            "    - Factual Correctness: The response presents verified and consistent facts about the contributing factors to eating disorders, consistent with reliable sources.\n",
            "    - Completeness: The response is comprehensive, covering a wide range of factors, including genetic, psychological, and sociocultural aspects, which enhances its completeness compared to the reference answer.\n",
            "    - Clarity: The response is clear and easy to understand, with well-structured sentences that convey the information effectively.\n",
            "    - Conciseness: While the response is detailed, it could be considered less concise due to the inclusion of numerous factors; it could be more succinct without losing essential information.\n",
            "\n",
            "### Overall Scores:\n",
            "- RAG Overall Score: 8\n"
          ]
        },
        {
          "output_type": "stream",
          "name": "stderr",
          "text": [
            "\rEvaluating responses:  94%|█████████▍| 94/100 [04:00<00:14,  2.46s/sample]"
          ]
        },
        {
          "output_type": "stream",
          "name": "stdout",
          "text": [
            "Evaluation Output:\n",
            "Feedback:\n",
            "- RAG Response:\n",
            "    - Relevance: The response is relevant as it addresses support strategies for individuals with schizophrenia, but it could be more aligned with the specific strategies mentioned in the reference answer.\n",
            "    - Semantic Similarity: There is some semantic similarity in that both responses discuss support strategies, but the RAG response is broader and does not closely match the key points from the reference answer.\n",
            "    - Accuracy: The information provided in the RAG response is accurate and reflects common strategies for managing schizophrenia.\n",
            "    - Factual Correctness: The strategies mentioned are factually correct and commonly recommended for individuals with schizophrenia.\n",
            "    - Completeness: The response covers a variety of strategies but lacks the mention of therapy and family involvement, which are critical components noted in the reference answer.\n",
            "    - Clarity: The response is clear and easy to understand, presenting the strategies in a straightforward manner.\n",
            "    - Conciseness: The response is concise, providing a list of strategies without unnecessary elaboration.\n",
            "\n",
            "### Overall Scores:\n",
            "- RAG Overall Score: 7\n"
          ]
        },
        {
          "output_type": "stream",
          "name": "stderr",
          "text": [
            "\rEvaluating responses:  95%|█████████▌| 95/100 [04:02<00:12,  2.47s/sample]"
          ]
        },
        {
          "output_type": "stream",
          "name": "stdout",
          "text": [
            "Evaluation Output:\n",
            "Feedback:\n",
            "- RAG Response:\n",
            "    - Relevance: The response is relevant as it addresses the concern about a child's mental health and suggests consulting professionals. However, it focuses heavily on specific behaviors rather than outlining steps for caregivers.\n",
            "    - Semantic Similarity: The response captures some intent from the reference answer by suggesting consultation with professionals but lacks the broader steps mentioned in the reference, such as maintaining communication.\n",
            "    - Accuracy: The information regarding behaviors indicating potential mental health issues is accurate but does not fully align with the broader context of caregiver steps.\n",
            "    - Factual Correctness: The response correctly identifies behaviors that could indicate mental health issues in children; however, it lacks the broader context of how caregivers should respond.\n",
            "    - Completeness: The response is incomplete as it does not cover all essential aspects of the query, particularly the importance of open communication and further evaluations.\n",
            "    - Clarity: The response is mostly clear but could be structured better to enhance understanding. The list format is somewhat abrupt and may confuse readers.\n",
            "    - Conciseness: The response is somewhat concise but could benefit from a more streamlined structure that avoids excessive detail about specific behaviors.\n",
            "\n",
            "### Overall Scores:\n",
            "- RAG Overall Score: 5\n"
          ]
        },
        {
          "output_type": "stream",
          "name": "stderr",
          "text": [
            "\rEvaluating responses:  96%|█████████▌| 96/100 [04:05<00:09,  2.44s/sample]"
          ]
        },
        {
          "output_type": "stream",
          "name": "stdout",
          "text": [
            "Evaluation Output:\n",
            "Feedback:\n",
            "- RAG Response:\n",
            "    - Relevance: The response is somewhat relevant as it addresses the impact of untreated OCD on life, but it lacks specific details that directly relate to daily life activities.\n",
            "    - Semantic Similarity: The response captures the general idea of the reference answer but does not convey the same depth of meaning regarding how OCD specifically affects daily activities.\n",
            "    - Accuracy: The statement is accurate in that it implies untreated OCD can dominate life, but it does not elaborate on what that entails, which may lead to misunderstandings.\n",
            "    - Factual Correctness: The response is factually correct but lacks the necessary context to fully understand the implications of untreated OCD.\n",
            "    - Completeness: The response is incomplete as it does not provide specific examples or details about how OCD affects daily life, which is essential to fully address the query.\n",
            "    - Clarity: The response is clear in its wording, but its vagueness regarding the specifics of daily life makes it less informative.\n",
            "    - Conciseness: The response is concise, but this brevity comes at the cost of omitting critical information that would enhance understanding.\n",
            "\n",
            "### Overall Scores:\n",
            "- RAG Overall Score: 4\n"
          ]
        },
        {
          "output_type": "stream",
          "name": "stderr",
          "text": [
            "\rEvaluating responses:  97%|█████████▋| 97/100 [04:07<00:07,  2.51s/sample]"
          ]
        },
        {
          "output_type": "stream",
          "name": "stdout",
          "text": [
            "Evaluation Output:\n",
            "Feedback:\n",
            "- RAG Response:\n",
            "    - Relevance: The response is highly relevant as it directly addresses how parents can identify mental health concerns in children by listing specific signs and behaviors to look for.\n",
            "    - Semantic Similarity: The RAG response captures the intent of the reference answer, expanding on it with additional details, while still aligning with the core message regarding signs of mental health issues.\n",
            "    - Accuracy: The information provided is accurate and aligns with established indicators of mental health concerns in children, such as prolonged sadness and behavioral changes.\n",
            "    - Factual Correctness: The facts presented in the RAG response are consistent with reliable knowledge on the topic, making it factually correct.\n",
            "    - Completeness: The response is comprehensive, covering a range of signs and suggesting consultation with professionals, which adds depth to the answer.\n",
            "    - Clarity: The response is clear and easy to understand, providing a straightforward explanation of the signs parents should look for.\n",
            "    - Conciseness: While the response is slightly longer than necessary, it remains focused and avoids unnecessary details, thus maintaining a good level of conciseness.\n",
            "\n",
            "### Overall Scores:\n",
            "- RAG Overall Score: 9\n"
          ]
        },
        {
          "output_type": "stream",
          "name": "stderr",
          "text": [
            "\rEvaluating responses:  98%|█████████▊| 98/100 [04:10<00:04,  2.45s/sample]"
          ]
        },
        {
          "output_type": "stream",
          "name": "stdout",
          "text": [
            "Evaluation Output:\n",
            "Feedback:\n",
            "- RAG Response:\n",
            "    - Relevance: The response is relevant as it addresses the query about the causes of social anxiety disorder, mentioning genetics and learned behavior.\n",
            "    - Semantic Similarity: The response captures the essence of the reference answer, although it is slightly more verbose and includes additional details that were not present in the reference.\n",
            "    - Accuracy: The information provided is accurate, as it correctly identifies genetics and negative social experiences as potential causes of social anxiety disorder.\n",
            "    - Factual Correctness: The facts presented are consistent with common understandings in psychology regarding social anxiety disorder, aligning with the reference answer.\n",
            "    - Completeness: The response is somewhat complete but could be improved by mentioning that negative experiences can include more specific examples, as suggested by the reference answer.\n",
            "    - Clarity: The response is clear and understandable, though the phrase \"according to the context\" is vague and could be omitted for better clarity.\n",
            "    - Conciseness: The response could be more concise. It includes unnecessary wording, such as \"It's not fully known what the specific causes are,\" which detracts from the main point.\n",
            "\n",
            "### Overall Scores:\n",
            "- RAG Overall Score: 7\n"
          ]
        },
        {
          "output_type": "stream",
          "name": "stderr",
          "text": [
            "\rEvaluating responses:  99%|█████████▉| 99/100 [04:12<00:02,  2.55s/sample]"
          ]
        },
        {
          "output_type": "stream",
          "name": "stdout",
          "text": [
            "Evaluation Output:\n",
            "Feedback:\n",
            "- RAG Response:\n",
            "    - Relevance: The response is relevant as it directly addresses the signs that indicate a child may need mental health support, aligning well with the query.\n",
            "    - Semantic Similarity: The response captures the intent of the reference answer but offers a more detailed list rather than a summary, which somewhat diverges from the more concise nature of the reference.\n",
            "    - Accuracy: The information provided is accurate and aligns with common indicators of mental health issues in children.\n",
            "    - Factual Correctness: The facts presented are consistent with recognized signs of mental health concerns and are generally supported by reliable sources.\n",
            "    - Completeness: The response is thorough, covering multiple signs of mental health issues, which adds to its completeness compared to the reference answer.\n",
            "    - Clarity: The response is clear and easy to understand, with each sign listed in a straightforward manner.\n",
            "    - Conciseness: While the response is comprehensive, it could be considered slightly lengthy compared to the reference answer, which is more succinct.\n",
            "\n",
            "### Overall Scores:\n",
            "- RAG Overall Score: 8\n"
          ]
        },
        {
          "output_type": "stream",
          "name": "stderr",
          "text": [
            "Evaluating responses: 100%|██████████| 100/100 [04:14<00:00,  2.55s/sample]"
          ]
        },
        {
          "output_type": "stream",
          "name": "stdout",
          "text": [
            "Evaluation Output:\n",
            "Feedback:\n",
            "- RAG Response:\n",
            "    - Relevance: The response is relevant as it addresses the query about biological factors contributing to mental health conditions.\n",
            "    - Semantic Similarity: The meaning of the RAG response closely aligns with the reference answer, although it is slightly less formal in phrasing.\n",
            "    - Accuracy: The information provided is accurate, identifying genes and brain chemistry as biological factors.\n",
            "    - Factual Correctness: The facts presented are correct and consistent with established knowledge in mental health.\n",
            "    - Completeness: The response is somewhat limited in scope; while it mentions two important factors, it does not explore other potential biological factors that could be relevant.\n",
            "    - Clarity: The response is clear and easy to understand, without ambiguity.\n",
            "    - Conciseness: The response is concise, effectively communicating the necessary information without unnecessary elaboration.\n",
            "\n",
            "### Overall Scores:\n",
            "- RAG Overall Score: 7\n"
          ]
        },
        {
          "output_type": "stream",
          "name": "stderr",
          "text": [
            "\n"
          ]
        }
      ]
    },
    {
      "cell_type": "code",
      "source": [
        "import json\n",
        "\n",
        "with open(\"evaluation_results_rag_1000_100_sentence_transformers.json\", \"w\") as f:\n",
        "    json.dump(evaluations, f, indent=4)"
      ],
      "metadata": {
        "id": "yX5rFpKDAGbn"
      },
      "execution_count": null,
      "outputs": []
    },
    {
      "cell_type": "code",
      "source": [
        "results = pd.DataFrame(evaluations)"
      ],
      "metadata": {
        "id": "HrIkRSPLmV0N"
      },
      "execution_count": null,
      "outputs": []
    },
    {
      "cell_type": "code",
      "source": [
        "results[['RAG_Score']].describe()"
      ],
      "metadata": {
        "colab": {
          "base_uri": "https://localhost:8080/",
          "height": 300
        },
        "id": "c7sN2m3Xn1Ql",
        "outputId": "96f84575-0818-4e87-ca47-5397870618eb"
      },
      "execution_count": null,
      "outputs": [
        {
          "output_type": "execute_result",
          "data": {
            "text/plain": [
              "        RAG_Score\n",
              "count  100.000000\n",
              "mean     7.180000\n",
              "std      1.546452\n",
              "min      1.000000\n",
              "25%      7.000000\n",
              "50%      8.000000\n",
              "75%      8.000000\n",
              "max      9.000000"
            ],
            "text/html": [
              "\n",
              "  <div id=\"df-d206edd9-964f-4904-a5cb-1f4420e77110\" class=\"colab-df-container\">\n",
              "    <div>\n",
              "<style scoped>\n",
              "    .dataframe tbody tr th:only-of-type {\n",
              "        vertical-align: middle;\n",
              "    }\n",
              "\n",
              "    .dataframe tbody tr th {\n",
              "        vertical-align: top;\n",
              "    }\n",
              "\n",
              "    .dataframe thead th {\n",
              "        text-align: right;\n",
              "    }\n",
              "</style>\n",
              "<table border=\"1\" class=\"dataframe\">\n",
              "  <thead>\n",
              "    <tr style=\"text-align: right;\">\n",
              "      <th></th>\n",
              "      <th>RAG_Score</th>\n",
              "    </tr>\n",
              "  </thead>\n",
              "  <tbody>\n",
              "    <tr>\n",
              "      <th>count</th>\n",
              "      <td>100.000000</td>\n",
              "    </tr>\n",
              "    <tr>\n",
              "      <th>mean</th>\n",
              "      <td>7.180000</td>\n",
              "    </tr>\n",
              "    <tr>\n",
              "      <th>std</th>\n",
              "      <td>1.546452</td>\n",
              "    </tr>\n",
              "    <tr>\n",
              "      <th>min</th>\n",
              "      <td>1.000000</td>\n",
              "    </tr>\n",
              "    <tr>\n",
              "      <th>25%</th>\n",
              "      <td>7.000000</td>\n",
              "    </tr>\n",
              "    <tr>\n",
              "      <th>50%</th>\n",
              "      <td>8.000000</td>\n",
              "    </tr>\n",
              "    <tr>\n",
              "      <th>75%</th>\n",
              "      <td>8.000000</td>\n",
              "    </tr>\n",
              "    <tr>\n",
              "      <th>max</th>\n",
              "      <td>9.000000</td>\n",
              "    </tr>\n",
              "  </tbody>\n",
              "</table>\n",
              "</div>\n",
              "    <div class=\"colab-df-buttons\">\n",
              "\n",
              "  <div class=\"colab-df-container\">\n",
              "    <button class=\"colab-df-convert\" onclick=\"convertToInteractive('df-d206edd9-964f-4904-a5cb-1f4420e77110')\"\n",
              "            title=\"Convert this dataframe to an interactive table.\"\n",
              "            style=\"display:none;\">\n",
              "\n",
              "  <svg xmlns=\"http://www.w3.org/2000/svg\" height=\"24px\" viewBox=\"0 -960 960 960\">\n",
              "    <path d=\"M120-120v-720h720v720H120Zm60-500h600v-160H180v160Zm220 220h160v-160H400v160Zm0 220h160v-160H400v160ZM180-400h160v-160H180v160Zm440 0h160v-160H620v160ZM180-180h160v-160H180v160Zm440 0h160v-160H620v160Z\"/>\n",
              "  </svg>\n",
              "    </button>\n",
              "\n",
              "  <style>\n",
              "    .colab-df-container {\n",
              "      display:flex;\n",
              "      gap: 12px;\n",
              "    }\n",
              "\n",
              "    .colab-df-convert {\n",
              "      background-color: #E8F0FE;\n",
              "      border: none;\n",
              "      border-radius: 50%;\n",
              "      cursor: pointer;\n",
              "      display: none;\n",
              "      fill: #1967D2;\n",
              "      height: 32px;\n",
              "      padding: 0 0 0 0;\n",
              "      width: 32px;\n",
              "    }\n",
              "\n",
              "    .colab-df-convert:hover {\n",
              "      background-color: #E2EBFA;\n",
              "      box-shadow: 0px 1px 2px rgba(60, 64, 67, 0.3), 0px 1px 3px 1px rgba(60, 64, 67, 0.15);\n",
              "      fill: #174EA6;\n",
              "    }\n",
              "\n",
              "    .colab-df-buttons div {\n",
              "      margin-bottom: 4px;\n",
              "    }\n",
              "\n",
              "    [theme=dark] .colab-df-convert {\n",
              "      background-color: #3B4455;\n",
              "      fill: #D2E3FC;\n",
              "    }\n",
              "\n",
              "    [theme=dark] .colab-df-convert:hover {\n",
              "      background-color: #434B5C;\n",
              "      box-shadow: 0px 1px 3px 1px rgba(0, 0, 0, 0.15);\n",
              "      filter: drop-shadow(0px 1px 2px rgba(0, 0, 0, 0.3));\n",
              "      fill: #FFFFFF;\n",
              "    }\n",
              "  </style>\n",
              "\n",
              "    <script>\n",
              "      const buttonEl =\n",
              "        document.querySelector('#df-d206edd9-964f-4904-a5cb-1f4420e77110 button.colab-df-convert');\n",
              "      buttonEl.style.display =\n",
              "        google.colab.kernel.accessAllowed ? 'block' : 'none';\n",
              "\n",
              "      async function convertToInteractive(key) {\n",
              "        const element = document.querySelector('#df-d206edd9-964f-4904-a5cb-1f4420e77110');\n",
              "        const dataTable =\n",
              "          await google.colab.kernel.invokeFunction('convertToInteractive',\n",
              "                                                    [key], {});\n",
              "        if (!dataTable) return;\n",
              "\n",
              "        const docLinkHtml = 'Like what you see? Visit the ' +\n",
              "          '<a target=\"_blank\" href=https://colab.research.google.com/notebooks/data_table.ipynb>data table notebook</a>'\n",
              "          + ' to learn more about interactive tables.';\n",
              "        element.innerHTML = '';\n",
              "        dataTable['output_type'] = 'display_data';\n",
              "        await google.colab.output.renderOutput(dataTable, element);\n",
              "        const docLink = document.createElement('div');\n",
              "        docLink.innerHTML = docLinkHtml;\n",
              "        element.appendChild(docLink);\n",
              "      }\n",
              "    </script>\n",
              "  </div>\n",
              "\n",
              "\n",
              "<div id=\"df-e1d48dec-6e29-46c4-ac98-a67c9ceee46b\">\n",
              "  <button class=\"colab-df-quickchart\" onclick=\"quickchart('df-e1d48dec-6e29-46c4-ac98-a67c9ceee46b')\"\n",
              "            title=\"Suggest charts\"\n",
              "            style=\"display:none;\">\n",
              "\n",
              "<svg xmlns=\"http://www.w3.org/2000/svg\" height=\"24px\"viewBox=\"0 0 24 24\"\n",
              "     width=\"24px\">\n",
              "    <g>\n",
              "        <path d=\"M19 3H5c-1.1 0-2 .9-2 2v14c0 1.1.9 2 2 2h14c1.1 0 2-.9 2-2V5c0-1.1-.9-2-2-2zM9 17H7v-7h2v7zm4 0h-2V7h2v10zm4 0h-2v-4h2v4z\"/>\n",
              "    </g>\n",
              "</svg>\n",
              "  </button>\n",
              "\n",
              "<style>\n",
              "  .colab-df-quickchart {\n",
              "      --bg-color: #E8F0FE;\n",
              "      --fill-color: #1967D2;\n",
              "      --hover-bg-color: #E2EBFA;\n",
              "      --hover-fill-color: #174EA6;\n",
              "      --disabled-fill-color: #AAA;\n",
              "      --disabled-bg-color: #DDD;\n",
              "  }\n",
              "\n",
              "  [theme=dark] .colab-df-quickchart {\n",
              "      --bg-color: #3B4455;\n",
              "      --fill-color: #D2E3FC;\n",
              "      --hover-bg-color: #434B5C;\n",
              "      --hover-fill-color: #FFFFFF;\n",
              "      --disabled-bg-color: #3B4455;\n",
              "      --disabled-fill-color: #666;\n",
              "  }\n",
              "\n",
              "  .colab-df-quickchart {\n",
              "    background-color: var(--bg-color);\n",
              "    border: none;\n",
              "    border-radius: 50%;\n",
              "    cursor: pointer;\n",
              "    display: none;\n",
              "    fill: var(--fill-color);\n",
              "    height: 32px;\n",
              "    padding: 0;\n",
              "    width: 32px;\n",
              "  }\n",
              "\n",
              "  .colab-df-quickchart:hover {\n",
              "    background-color: var(--hover-bg-color);\n",
              "    box-shadow: 0 1px 2px rgba(60, 64, 67, 0.3), 0 1px 3px 1px rgba(60, 64, 67, 0.15);\n",
              "    fill: var(--button-hover-fill-color);\n",
              "  }\n",
              "\n",
              "  .colab-df-quickchart-complete:disabled,\n",
              "  .colab-df-quickchart-complete:disabled:hover {\n",
              "    background-color: var(--disabled-bg-color);\n",
              "    fill: var(--disabled-fill-color);\n",
              "    box-shadow: none;\n",
              "  }\n",
              "\n",
              "  .colab-df-spinner {\n",
              "    border: 2px solid var(--fill-color);\n",
              "    border-color: transparent;\n",
              "    border-bottom-color: var(--fill-color);\n",
              "    animation:\n",
              "      spin 1s steps(1) infinite;\n",
              "  }\n",
              "\n",
              "  @keyframes spin {\n",
              "    0% {\n",
              "      border-color: transparent;\n",
              "      border-bottom-color: var(--fill-color);\n",
              "      border-left-color: var(--fill-color);\n",
              "    }\n",
              "    20% {\n",
              "      border-color: transparent;\n",
              "      border-left-color: var(--fill-color);\n",
              "      border-top-color: var(--fill-color);\n",
              "    }\n",
              "    30% {\n",
              "      border-color: transparent;\n",
              "      border-left-color: var(--fill-color);\n",
              "      border-top-color: var(--fill-color);\n",
              "      border-right-color: var(--fill-color);\n",
              "    }\n",
              "    40% {\n",
              "      border-color: transparent;\n",
              "      border-right-color: var(--fill-color);\n",
              "      border-top-color: var(--fill-color);\n",
              "    }\n",
              "    60% {\n",
              "      border-color: transparent;\n",
              "      border-right-color: var(--fill-color);\n",
              "    }\n",
              "    80% {\n",
              "      border-color: transparent;\n",
              "      border-right-color: var(--fill-color);\n",
              "      border-bottom-color: var(--fill-color);\n",
              "    }\n",
              "    90% {\n",
              "      border-color: transparent;\n",
              "      border-bottom-color: var(--fill-color);\n",
              "    }\n",
              "  }\n",
              "</style>\n",
              "\n",
              "  <script>\n",
              "    async function quickchart(key) {\n",
              "      const quickchartButtonEl =\n",
              "        document.querySelector('#' + key + ' button');\n",
              "      quickchartButtonEl.disabled = true;  // To prevent multiple clicks.\n",
              "      quickchartButtonEl.classList.add('colab-df-spinner');\n",
              "      try {\n",
              "        const charts = await google.colab.kernel.invokeFunction(\n",
              "            'suggestCharts', [key], {});\n",
              "      } catch (error) {\n",
              "        console.error('Error during call to suggestCharts:', error);\n",
              "      }\n",
              "      quickchartButtonEl.classList.remove('colab-df-spinner');\n",
              "      quickchartButtonEl.classList.add('colab-df-quickchart-complete');\n",
              "    }\n",
              "    (() => {\n",
              "      let quickchartButtonEl =\n",
              "        document.querySelector('#df-e1d48dec-6e29-46c4-ac98-a67c9ceee46b button');\n",
              "      quickchartButtonEl.style.display =\n",
              "        google.colab.kernel.accessAllowed ? 'block' : 'none';\n",
              "    })();\n",
              "  </script>\n",
              "</div>\n",
              "\n",
              "    </div>\n",
              "  </div>\n"
            ],
            "application/vnd.google.colaboratory.intrinsic+json": {
              "type": "dataframe",
              "summary": "{\n  \"name\": \"results[['RAG_Score']]\",\n  \"rows\": 8,\n  \"fields\": [\n    {\n      \"column\": \"RAG_Score\",\n      \"properties\": {\n        \"dtype\": \"number\",\n        \"std\": 33.38550904631558,\n        \"min\": 1.0,\n        \"max\": 100.0,\n        \"num_unique_values\": 7,\n        \"samples\": [\n          100.0,\n          7.18,\n          8.0\n        ],\n        \"semantic_type\": \"\",\n        \"description\": \"\"\n      }\n    }\n  ]\n}"
            }
          },
          "metadata": {},
          "execution_count": 15
        }
      ]
    },
    {
      "cell_type": "code",
      "source": [
        "average_rag_score = results['RAG_Score'].mean()\n",
        "\n",
        "print(\"Average RAG Score:\", average_rag_score)"
      ],
      "metadata": {
        "colab": {
          "base_uri": "https://localhost:8080/"
        },
        "id": "9OakFB4_oKZ-",
        "outputId": "51247413-15ac-4525-b7b8-c66398207e66"
      },
      "execution_count": null,
      "outputs": [
        {
          "output_type": "stream",
          "name": "stdout",
          "text": [
            "Average RAG Score: 7.18\n"
          ]
        }
      ]
    }
  ]
}